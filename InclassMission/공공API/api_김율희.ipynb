{
 "cells": [
  {
   "cell_type": "code",
   "execution_count": 10,
   "metadata": {},
   "outputs": [],
   "source": [
    "import requests \n",
    "import json \n",
    "import pandas as pd "
   ]
  },
  {
   "cell_type": "code",
   "execution_count": 11,
   "metadata": {},
   "outputs": [],
   "source": [
    "api_key = '인증키를 입력하세요'"
   ]
  },
  {
   "cell_type": "code",
   "execution_count": 12,
   "metadata": {},
   "outputs": [],
   "source": [
    "api_url = 'http://apis.data.go.kr/B551011/KorService1/areaCode1'"
   ]
  },
  {
   "cell_type": "code",
   "execution_count": 13,
   "metadata": {},
   "outputs": [],
   "source": [
    "params = {\n",
    "  'numOfRows' : '10',\n",
    "  'pageNo' : '1',\n",
    "  'MobileOS' : 'ETC',\n",
    "  'MobileApp' : 'Apptest',\n",
    "  'serviceKey' : api_key,\n",
    "  '_type' : 'json',\n",
    "  'areaCode' : '1',\n",
    "}"
   ]
  },
  {
   "cell_type": "code",
   "execution_count": 14,
   "metadata": {},
   "outputs": [],
   "source": [
    "response = requests.get(api_url, params=params)"
   ]
  },
  {
   "cell_type": "code",
   "execution_count": 15,
   "metadata": {},
   "outputs": [
    {
     "data": {
      "text/plain": [
       "<Response [200]>"
      ]
     },
     "execution_count": 15,
     "metadata": {},
     "output_type": "execute_result"
    }
   ],
   "source": [
    "response"
   ]
  },
  {
   "cell_type": "code",
   "execution_count": 16,
   "metadata": {},
   "outputs": [
    {
     "data": {
      "text/plain": [
       "'{\"response\": {\"header\":{\"resultCode\":\"0000\",\"resultMsg\":\"OK\"},\"body\": {\"items\": {\"item\":[{\"rnum\":1,\"code\":\"1\",\"name\":\"강남구\"},{\"rnum\":2,\"code\":\"2\",\"name\":\"강동구\"},{\"rnum\":3,\"code\":\"3\",\"name\":\"강북구\"},{\"rnum\":4,\"code\":\"4\",\"name\":\"강서구\"},{\"rnum\":5,\"code\":\"5\",\"name\":\"관악구\"},{\"rnum\":6,\"code\":\"6\",\"name\":\"광진구\"},{\"rnum\":7,\"code\":\"7\",\"name\":\"구로구\"},{\"rnum\":8,\"code\":\"8\",\"name\":\"금천구\"},{\"rnum\":9,\"code\":\"9\",\"name\":\"노원구\"},{\"rnum\":10,\"code\":\"10\",\"name\":\"도봉구\"}]},\"numOfRows\":10,\"pageNo\":1,\"totalCount\":25}}}'"
      ]
     },
     "execution_count": 16,
     "metadata": {},
     "output_type": "execute_result"
    }
   ],
   "source": [
    "response.text"
   ]
  },
  {
   "cell_type": "code",
   "execution_count": 17,
   "metadata": {},
   "outputs": [
    {
     "name": "stdout",
     "output_type": "stream",
     "text": [
      "{\n",
      "    \"response\": {\n",
      "        \"header\": {\n",
      "            \"resultCode\": \"0000\",\n",
      "            \"resultMsg\": \"OK\"\n",
      "        },\n",
      "        \"body\": {\n",
      "            \"items\": {\n",
      "                \"item\": [\n",
      "                    {\n",
      "                        \"rnum\": 1,\n",
      "                        \"code\": \"1\",\n",
      "                        \"name\": \"강남구\"\n",
      "                    },\n",
      "                    {\n",
      "                        \"rnum\": 2,\n",
      "                        \"code\": \"2\",\n",
      "                        \"name\": \"강동구\"\n",
      "                    },\n",
      "                    {\n",
      "                        \"rnum\": 3,\n",
      "                        \"code\": \"3\",\n",
      "                        \"name\": \"강북구\"\n",
      "                    },\n",
      "                    {\n",
      "                        \"rnum\": 4,\n",
      "                        \"code\": \"4\",\n",
      "                        \"name\": \"강서구\"\n",
      "                    },\n",
      "                    {\n",
      "                        \"rnum\": 5,\n",
      "                        \"code\": \"5\",\n",
      "                        \"name\": \"관악구\"\n",
      "                    },\n",
      "                    {\n",
      "                        \"rnum\": 6,\n",
      "                        \"code\": \"6\",\n",
      "                        \"name\": \"광진구\"\n",
      "                    },\n",
      "                    {\n",
      "                        \"rnum\": 7,\n",
      "                        \"code\": \"7\",\n",
      "                        \"name\": \"구로구\"\n",
      "                    },\n",
      "                    {\n",
      "                        \"rnum\": 8,\n",
      "                        \"code\": \"8\",\n",
      "                        \"name\": \"금천구\"\n",
      "                    },\n",
      "                    {\n",
      "                        \"rnum\": 9,\n",
      "                        \"code\": \"9\",\n",
      "                        \"name\": \"노원구\"\n",
      "                    },\n",
      "                    {\n",
      "                        \"rnum\": 10,\n",
      "                        \"code\": \"10\",\n",
      "                        \"name\": \"도봉구\"\n",
      "                    }\n",
      "                ]\n",
      "            },\n",
      "            \"numOfRows\": 10,\n",
      "            \"pageNo\": 1,\n",
      "            \"totalCount\": 25\n",
      "        }\n",
      "    }\n",
      "}\n"
     ]
    }
   ],
   "source": [
    "data = response.json()\n",
    "# json(key, value 형태 파일 >> dictionary 변경)로 parsing 된 데이터 \n",
    "print(json.dumps(data, indent=4, ensure_ascii=False))"
   ]
  },
  {
   "cell_type": "code",
   "execution_count": 18,
   "metadata": {},
   "outputs": [
    {
     "data": {
      "text/plain": [
       "{'items': {'item': [{'rnum': 1, 'code': '1', 'name': '강남구'},\n",
       "   {'rnum': 2, 'code': '2', 'name': '강동구'},\n",
       "   {'rnum': 3, 'code': '3', 'name': '강북구'},\n",
       "   {'rnum': 4, 'code': '4', 'name': '강서구'},\n",
       "   {'rnum': 5, 'code': '5', 'name': '관악구'},\n",
       "   {'rnum': 6, 'code': '6', 'name': '광진구'},\n",
       "   {'rnum': 7, 'code': '7', 'name': '구로구'},\n",
       "   {'rnum': 8, 'code': '8', 'name': '금천구'},\n",
       "   {'rnum': 9, 'code': '9', 'name': '노원구'},\n",
       "   {'rnum': 10, 'code': '10', 'name': '도봉구'}]},\n",
       " 'numOfRows': 10,\n",
       " 'pageNo': 1,\n",
       " 'totalCount': 25}"
      ]
     },
     "execution_count": 18,
     "metadata": {},
     "output_type": "execute_result"
    }
   ],
   "source": [
    "data['response']['body']"
   ]
  },
  {
   "cell_type": "code",
   "execution_count": 19,
   "metadata": {},
   "outputs": [
    {
     "data": {
      "text/plain": [
       "{'rnum': 1, 'code': '1', 'name': '강남구'}"
      ]
     },
     "execution_count": 19,
     "metadata": {},
     "output_type": "execute_result"
    }
   ],
   "source": [
    "data['response']\n",
    "data['response']['body']\n",
    "data['response']['body']['items']\n",
    "data['response']['body']['items']['item']\n",
    "data['response']['body']['items']['item'][0]\n"
   ]
  },
  {
   "cell_type": "code",
   "execution_count": 25,
   "metadata": {},
   "outputs": [
    {
     "name": "stdout",
     "output_type": "stream",
     "text": [
      "{\n",
      "    \"response\": {\n",
      "        \"header\": {\n",
      "            \"resultCode\": \"0000\",\n",
      "            \"resultMsg\": \"OK\"\n",
      "        },\n",
      "        \"body\": {\n",
      "            \"items\": {\n",
      "                \"item\": [\n",
      "                    {\n",
      "                        \"rnum\": 1,\n",
      "                        \"code\": \"1\",\n",
      "                        \"name\": \"강남구\"\n",
      "                    },\n",
      "                    {\n",
      "                        \"rnum\": 2,\n",
      "                        \"code\": \"2\",\n",
      "                        \"name\": \"강동구\"\n",
      "                    },\n",
      "                    {\n",
      "                        \"rnum\": 3,\n",
      "                        \"code\": \"3\",\n",
      "                        \"name\": \"강북구\"\n",
      "                    },\n",
      "                    {\n",
      "                        \"rnum\": 4,\n",
      "                        \"code\": \"4\",\n",
      "                        \"name\": \"강서구\"\n",
      "                    },\n",
      "                    {\n",
      "                        \"rnum\": 5,\n",
      "                        \"code\": \"5\",\n",
      "                        \"name\": \"관악구\"\n",
      "                    },\n",
      "                    {\n",
      "                        \"rnum\": 6,\n",
      "                        \"code\": \"6\",\n",
      "                        \"name\": \"광진구\"\n",
      "                    },\n",
      "                    {\n",
      "                        \"rnum\": 7,\n",
      "                        \"code\": \"7\",\n",
      "                        \"name\": \"구로구\"\n",
      "                    },\n",
      "                    {\n",
      "                        \"rnum\": 8,\n",
      "                        \"code\": \"8\",\n",
      "                        \"name\": \"금천구\"\n",
      "                    },\n",
      "                    {\n",
      "                        \"rnum\": 9,\n",
      "                        \"code\": \"9\",\n",
      "                        \"name\": \"노원구\"\n",
      "                    },\n",
      "                    {\n",
      "                        \"rnum\": 10,\n",
      "                        \"code\": \"10\",\n",
      "                        \"name\": \"도봉구\"\n",
      "                    }\n",
      "                ]\n",
      "            },\n",
      "            \"numOfRows\": 10,\n",
      "            \"pageNo\": 1,\n",
      "            \"totalCount\": 25\n",
      "        }\n",
      "    }\n",
      "}\n",
      "   rnum code name\n",
      "0     1    1  강남구\n",
      "1     2    2  강동구\n",
      "2     3    3  강북구\n",
      "3     4    4  강서구\n",
      "4     5    5  관악구\n",
      "5     6    6  광진구\n",
      "6     7    7  구로구\n",
      "7     8    8  금천구\n",
      "8     9    9  노원구\n",
      "9    10   10  도봉구\n"
     ]
    }
   ],
   "source": [
    "\n",
    "if response.status_code == 200: \n",
    "  try: \n",
    "    data = response.json()\n",
    "    # json(key, value 형태 파일 >> dictionary 변경)로 parsing 된 데이터 \n",
    "    print(json.dumps(data, indent=4, ensure_ascii=False))\n",
    "    # indent=4 : 4칸 들여쓰기 사용 \n",
    "    # ensure_ascii=False : ASCII 문자 비사용 (한글이 제대로 출력)\n",
    "    \n",
    "    # json 데이터에서 필요한 필드만 추출 >> 리스트 저장 \n",
    "    items = data['response']['body']['items']['item']\n",
    "    parsed_data = []\n",
    "    \n",
    "    for item in items:\n",
    "      parsed_data.append({\n",
    "        'rnum' : item['rnum'],\n",
    "        'code':item['code'],\n",
    "        'name': item['name']\n",
    "        \n",
    "      })\n",
    "      \n",
    "    # 추출한 데이터를 판다스 데이터프레임으로 변환\n",
    "    df = pd.DataFrame(parsed_data)\n",
    "    print(df)\n",
    "    \n",
    "  except json.JSONDecodeError:\n",
    "    print(\"Error 발생\")"
   ]
  },
  {
   "cell_type": "code",
   "execution_count": 26,
   "metadata": {},
   "outputs": [
    {
     "data": {
      "text/html": [
       "<div>\n",
       "<style scoped>\n",
       "    .dataframe tbody tr th:only-of-type {\n",
       "        vertical-align: middle;\n",
       "    }\n",
       "\n",
       "    .dataframe tbody tr th {\n",
       "        vertical-align: top;\n",
       "    }\n",
       "\n",
       "    .dataframe thead th {\n",
       "        text-align: right;\n",
       "    }\n",
       "</style>\n",
       "<table border=\"1\" class=\"dataframe\">\n",
       "  <thead>\n",
       "    <tr style=\"text-align: right;\">\n",
       "      <th></th>\n",
       "      <th>rnum</th>\n",
       "      <th>code</th>\n",
       "      <th>name</th>\n",
       "    </tr>\n",
       "  </thead>\n",
       "  <tbody>\n",
       "    <tr>\n",
       "      <th>0</th>\n",
       "      <td>1</td>\n",
       "      <td>1</td>\n",
       "      <td>강남구</td>\n",
       "    </tr>\n",
       "    <tr>\n",
       "      <th>1</th>\n",
       "      <td>2</td>\n",
       "      <td>2</td>\n",
       "      <td>강동구</td>\n",
       "    </tr>\n",
       "    <tr>\n",
       "      <th>2</th>\n",
       "      <td>3</td>\n",
       "      <td>3</td>\n",
       "      <td>강북구</td>\n",
       "    </tr>\n",
       "    <tr>\n",
       "      <th>3</th>\n",
       "      <td>4</td>\n",
       "      <td>4</td>\n",
       "      <td>강서구</td>\n",
       "    </tr>\n",
       "    <tr>\n",
       "      <th>4</th>\n",
       "      <td>5</td>\n",
       "      <td>5</td>\n",
       "      <td>관악구</td>\n",
       "    </tr>\n",
       "    <tr>\n",
       "      <th>5</th>\n",
       "      <td>6</td>\n",
       "      <td>6</td>\n",
       "      <td>광진구</td>\n",
       "    </tr>\n",
       "    <tr>\n",
       "      <th>6</th>\n",
       "      <td>7</td>\n",
       "      <td>7</td>\n",
       "      <td>구로구</td>\n",
       "    </tr>\n",
       "    <tr>\n",
       "      <th>7</th>\n",
       "      <td>8</td>\n",
       "      <td>8</td>\n",
       "      <td>금천구</td>\n",
       "    </tr>\n",
       "    <tr>\n",
       "      <th>8</th>\n",
       "      <td>9</td>\n",
       "      <td>9</td>\n",
       "      <td>노원구</td>\n",
       "    </tr>\n",
       "    <tr>\n",
       "      <th>9</th>\n",
       "      <td>10</td>\n",
       "      <td>10</td>\n",
       "      <td>도봉구</td>\n",
       "    </tr>\n",
       "  </tbody>\n",
       "</table>\n",
       "</div>"
      ],
      "text/plain": [
       "   rnum code name\n",
       "0     1    1  강남구\n",
       "1     2    2  강동구\n",
       "2     3    3  강북구\n",
       "3     4    4  강서구\n",
       "4     5    5  관악구\n",
       "5     6    6  광진구\n",
       "6     7    7  구로구\n",
       "7     8    8  금천구\n",
       "8     9    9  노원구\n",
       "9    10   10  도봉구"
      ]
     },
     "execution_count": 26,
     "metadata": {},
     "output_type": "execute_result"
    }
   ],
   "source": [
    "df"
   ]
  },
  {
   "cell_type": "code",
   "execution_count": 28,
   "metadata": {},
   "outputs": [],
   "source": [
    "df.columns = ['지역번호','코드','지역명']"
   ]
  },
  {
   "cell_type": "code",
   "execution_count": 29,
   "metadata": {},
   "outputs": [
    {
     "data": {
      "text/html": [
       "<div>\n",
       "<style scoped>\n",
       "    .dataframe tbody tr th:only-of-type {\n",
       "        vertical-align: middle;\n",
       "    }\n",
       "\n",
       "    .dataframe tbody tr th {\n",
       "        vertical-align: top;\n",
       "    }\n",
       "\n",
       "    .dataframe thead th {\n",
       "        text-align: right;\n",
       "    }\n",
       "</style>\n",
       "<table border=\"1\" class=\"dataframe\">\n",
       "  <thead>\n",
       "    <tr style=\"text-align: right;\">\n",
       "      <th></th>\n",
       "      <th>지역번호</th>\n",
       "      <th>코드</th>\n",
       "      <th>지역명</th>\n",
       "    </tr>\n",
       "  </thead>\n",
       "  <tbody>\n",
       "    <tr>\n",
       "      <th>0</th>\n",
       "      <td>1</td>\n",
       "      <td>1</td>\n",
       "      <td>강남구</td>\n",
       "    </tr>\n",
       "    <tr>\n",
       "      <th>1</th>\n",
       "      <td>2</td>\n",
       "      <td>2</td>\n",
       "      <td>강동구</td>\n",
       "    </tr>\n",
       "    <tr>\n",
       "      <th>2</th>\n",
       "      <td>3</td>\n",
       "      <td>3</td>\n",
       "      <td>강북구</td>\n",
       "    </tr>\n",
       "    <tr>\n",
       "      <th>3</th>\n",
       "      <td>4</td>\n",
       "      <td>4</td>\n",
       "      <td>강서구</td>\n",
       "    </tr>\n",
       "    <tr>\n",
       "      <th>4</th>\n",
       "      <td>5</td>\n",
       "      <td>5</td>\n",
       "      <td>관악구</td>\n",
       "    </tr>\n",
       "    <tr>\n",
       "      <th>5</th>\n",
       "      <td>6</td>\n",
       "      <td>6</td>\n",
       "      <td>광진구</td>\n",
       "    </tr>\n",
       "    <tr>\n",
       "      <th>6</th>\n",
       "      <td>7</td>\n",
       "      <td>7</td>\n",
       "      <td>구로구</td>\n",
       "    </tr>\n",
       "    <tr>\n",
       "      <th>7</th>\n",
       "      <td>8</td>\n",
       "      <td>8</td>\n",
       "      <td>금천구</td>\n",
       "    </tr>\n",
       "    <tr>\n",
       "      <th>8</th>\n",
       "      <td>9</td>\n",
       "      <td>9</td>\n",
       "      <td>노원구</td>\n",
       "    </tr>\n",
       "    <tr>\n",
       "      <th>9</th>\n",
       "      <td>10</td>\n",
       "      <td>10</td>\n",
       "      <td>도봉구</td>\n",
       "    </tr>\n",
       "  </tbody>\n",
       "</table>\n",
       "</div>"
      ],
      "text/plain": [
       "   지역번호  코드  지역명\n",
       "0     1   1  강남구\n",
       "1     2   2  강동구\n",
       "2     3   3  강북구\n",
       "3     4   4  강서구\n",
       "4     5   5  관악구\n",
       "5     6   6  광진구\n",
       "6     7   7  구로구\n",
       "7     8   8  금천구\n",
       "8     9   9  노원구\n",
       "9    10  10  도봉구"
      ]
     },
     "execution_count": 29,
     "metadata": {},
     "output_type": "execute_result"
    }
   ],
   "source": [
    "df"
   ]
  },
  {
   "cell_type": "code",
   "execution_count": 27,
   "metadata": {},
   "outputs": [],
   "source": [
    "df.to_csv('D:/다운로드파일/api김율희0523.csv', index=False, encoding='UTF-8')"
   ]
  }
 ],
 "metadata": {
  "kernelspec": {
   "display_name": "Python 3",
   "language": "python",
   "name": "python3"
  },
  "language_info": {
   "codemirror_mode": {
    "name": "ipython",
    "version": 3
   },
   "file_extension": ".py",
   "mimetype": "text/x-python",
   "name": "python",
   "nbconvert_exporter": "python",
   "pygments_lexer": "ipython3",
   "version": "3.10.9"
  }
 },
 "nbformat": 4,
 "nbformat_minor": 2
}
