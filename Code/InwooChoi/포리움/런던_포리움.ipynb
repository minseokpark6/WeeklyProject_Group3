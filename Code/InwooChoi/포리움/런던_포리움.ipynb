{
 "cells": [
  {
   "cell_type": "code",
   "execution_count": 6,
   "metadata": {},
   "outputs": [],
   "source": [
    "import numpy as np\n",
    "import pandas as pd\n",
    "import matplotlib.pyplot as plt\n",
    "import seaborn as sns\n",
    "import matplotlib as mpl\n",
    "from matplotlib import font_manager, rc\n",
    "%matplotlib inline\n",
    "import folium\n",
    "from folium.plugins import MarkerCluster\n",
    "from folium import FeatureGroup, LayerControl\n",
    "from folium.features import GeoJson\n",
    "from shapely.geometry import shape, Point\n",
    "import json\n",
    "\n",
    "# 글꼴 경로 지정\n",
    "font_path = \"c:/Windows/Fonts/malgun.ttf\"  # 윈도우에 설치된 맑은 고딕 폰트 경로\n",
    "\n",
    "# 폰트 이름 얻어오기\n",
    "font_name = font_manager.FontProperties(fname=font_path).get_name()\n",
    "\n",
    "# matplotlib의 rc(run command) 기능을 이용하여 글꼴 설정\n",
    "mpl.rc('font', family=font_name)\n",
    "\n",
    "# 유니코드에서  음수 부호 설정\n",
    "mpl.rc('axes', unicode_minus=False)\n",
    "\n",
    "df_guest_prefer = pd.read_csv('../../../../../datasets/paris_prefer.csv')\n",
    "df_non_guest_prefer= pd.read_csv('../../../../../datasets/paris_non_prefer.csv')"
   ]
  },
  {
   "cell_type": "code",
   "execution_count": 22,
   "metadata": {},
   "outputs": [
    {
     "name": "stdout",
     "output_type": "stream",
     "text": [
      "24983\n",
      "처음 df : 90852\n",
      "슈퍼호스트 제거 : 90463\n",
      "리뷰수 제거 : 50711\n",
      "숙소_유형 제거 : 34776\n",
      "12개월_리뷰수 0개 제거 : 31852\n",
      "욕실수, 침실수, 침대수 제거 후 : 31781\n",
      "리뷰 결측치 제거 후 : 31781\n",
      "예약가능여부 : 31779\n"
     ]
    }
   ],
   "source": [
    "import numpy as np\n",
    "import pandas as pd\n",
    "import matplotlib.pyplot as plt\n",
    "import seaborn as sns\n",
    "import matplotlib as mpl\n",
    "from matplotlib import font_manager, rc\n",
    "%matplotlib inline\n",
    "import folium\n",
    "from folium.plugins import MarkerCluster\n",
    "from folium import FeatureGroup, LayerControl\n",
    "from folium.features import GeoJson\n",
    "from shapely.geometry import shape, Point\n",
    "import json\n",
    "from urllib.parse import urlparse, urlunparse, parse_qs, urlencode\n",
    "\n",
    "# URL에 쿼리 파라미터를 추가하는 함수\n",
    "def modify_url(url, params):\n",
    "    url_parts = list(urlparse(url))\n",
    "    query = dict(parse_qs(url_parts[4]))\n",
    "    query.update(params)\n",
    "    url_parts[4] = urlencode(query, doseq=True)\n",
    "    return urlunparse(url_parts)\n",
    "\n",
    "# 글꼴 경로 지정\n",
    "font_path = \"c:/Windows/Fonts/malgun.ttf\"  # 윈도우에 설치된 맑은 고딕 폰트 경로\n",
    "\n",
    "# 폰트 이름 얻어오기\n",
    "font_name = font_manager.FontProperties(fname=font_path).get_name()\n",
    "\n",
    "# matplotlib의 rc(run command) 기능을 이용하여 글꼴 설정\n",
    "mpl.rc('font', family=font_name)\n",
    "\n",
    "# 유니코드에서  음수 부호 설정\n",
    "mpl.rc('axes', unicode_minus=False)\n",
    "\n",
    "path = '../../../../../datasets/london_listings.csv'\n",
    "\n",
    "raw = pd.read_csv(path)\n",
    "df = raw.copy()\n",
    "\n",
    "df = df[['id', 'host_id','host_is_superhost',\n",
    "        'host_total_listings_count','neighbourhood_cleansed','room_type','accommodates','bathrooms','bedrooms',\n",
    "        'beds','amenities','price','minimum_nights','maximum_nights','number_of_reviews', 'number_of_reviews_l30d', 'review_scores_rating', 'review_scores_accuracy', \n",
    "        'review_scores_cleanliness', 'review_scores_checkin', 'review_scores_communication', \n",
    "        'review_scores_location', 'review_scores_value', 'reviews_per_month','listing_url','property_type','number_of_reviews_ltm','has_availability','last_review']]\n",
    "\n",
    "df = df.rename(columns= {\n",
    "    'id': '숙소_id',\n",
    "    'host_id': '호스트_id',\n",
    "    'host_is_superhost': '슈퍼호스트',\n",
    "    'host_total_listings_count': '숙소_수',\n",
    "    'neighbourhood_cleansed': '숙소_지역',\n",
    "    'room_type': '숙소_유형',\n",
    "    'accommodates': '수용_인원수',\n",
    "    'bathrooms': '욕실수',\n",
    "    'bedrooms': '침실수',\n",
    "    'beds': '침대수',\n",
    "    'amenities': '편의시설',\n",
    "    'price': '숙소_가격',\n",
    "    'minimum_nights': '최소_숙박일',\n",
    "    'maximum_nights': '최대_숙박일',\n",
    "    'number_of_reviews': '리뷰수',\n",
    "    'number_of_reviews_l30d': '30일_리뷰수',\n",
    "    'review_scores_rating': '리뷰점수',\n",
    "    'review_scores_accuracy': '숙소_정확성_리뷰점수',\n",
    "    'review_scores_cleanliness': '숙소_청결도_리뷰점수',\n",
    "    'review_scores_checkin': '숙소_체크인_리뷰점수',\n",
    "    'review_scores_communication': '숙소_소통_리뷰점수',\n",
    "    'review_scores_location': '숙소_위치_리뷰점수',\n",
    "    'review_scores_value': '숙소_가격_리뷰점수',\n",
    "    'reviews_per_month': '평균_리뷰수',\n",
    "    'listing_url':'url',\n",
    "    'property_type':'숙소_특징',\n",
    "    'number_of_reviews_ltm':'12개월_리뷰수',\n",
    "    'has_availability':'예약가능여부',\n",
    "    'last_review':'마지막_리뷰'\n",
    "})\n",
    "df['위도']=raw['latitude']\n",
    "df['경도']=raw['longitude']\n",
    "print(len(df[df['리뷰수']==0]))\n",
    "# 슈퍼호스트, 리뷰수 결측치 제거\n",
    "print(f\"처음 df : {len(df)}\")\n",
    "df = df[~df['슈퍼호스트'].isnull()]\n",
    "print(f\"슈퍼호스트 제거 : {len(df)}\")\n",
    "df = df[df['리뷰수']>2]\n",
    "print(f\"리뷰수 제거 : {len(df)}\")\n",
    "\n",
    "# 숙소가격 null값 제거\n",
    "df= df[~df['숙소_가격'].isnull()]\n",
    "\n",
    "#가격 앞 통화기호 제거\n",
    "df['숙소_가격'] = df['숙소_가격'].replace('[\\$,]', '', regex=True).astype(float)\n",
    "\n",
    "# 유형 제거 \n",
    "df = df[(df['숙소_유형']=='Entire home/apt') | (df['숙소_유형']=='Private room')]\n",
    "print(f\"숙소_유형 제거 : {len(df)}\")\n",
    "\n",
    "# 12개월 리뷰수 0 개 제거\n",
    "df = df[df['12개월_리뷰수']!=0]\n",
    "print(f\"12개월_리뷰수 0개 제거 : {len(df)}\")\n",
    "\n",
    "# 욕실수, 침실수, 침대수 null값 제거\n",
    "df = df.dropna(subset=['욕실수', '침실수', '침대수'])\n",
    "print(f\"욕실수, 침실수, 침대수 제거 후 : {len(df)}\")\n",
    "\n",
    "# 리뷰  null값 제거\n",
    "df = df.dropna(subset=['숙소_정확성_리뷰점수','숙소_청결도_리뷰점수','숙소_체크인_리뷰점수','숙소_소통_리뷰점수','숙소_위치_리뷰점수','숙소_가격_리뷰점수'])\n",
    "print(f\"리뷰 결측치 제거 후 : {len(df)}\")\n",
    "\n",
    "# 예약 가능여부 f 버리기\n",
    "df = df.dropna(subset='예약가능여부')\n",
    "print(f\"예약가능여부 : {len(df)}\")\n",
    "\n",
    "df_guest_prefer= df[(df['리뷰점수'] >= 4.9) & (df['리뷰수'] >= 5) & (df['슈퍼호스트'] == 't')]\n",
    "df_non_guest_prefer = df[(df['슈퍼호스트'] == 'f') & (df['리뷰수'] >= 5)].sort_values('리뷰점수', ascending=True).head(4695)"
   ]
  },
  {
   "cell_type": "code",
   "execution_count": 23,
   "metadata": {},
   "outputs": [],
   "source": [
    "\n",
    "df_station = pd.read_csv('./런던_data/London_stations.csv')"
   ]
  },
  {
   "cell_type": "code",
   "execution_count": 24,
   "metadata": {},
   "outputs": [],
   "source": [
    "df_station = df_station[df_station['NETWORK']=='London Underground'][['NAME','x','y']]"
   ]
  },
  {
   "cell_type": "code",
   "execution_count": 25,
   "metadata": {},
   "outputs": [],
   "source": [
    "df_station = df_station.rename(columns = {\n",
    "    'NAME' : '역이름',\n",
    "    'x' :'경도',\n",
    "    'y' : '위도' \n",
    "})"
   ]
  },
  {
   "cell_type": "code",
   "execution_count": 26,
   "metadata": {},
   "outputs": [
    {
     "data": {
      "text/plain": [
       "역이름    0\n",
       "경도     0\n",
       "위도     0\n",
       "dtype: int64"
      ]
     },
     "execution_count": 26,
     "metadata": {},
     "output_type": "execute_result"
    }
   ],
   "source": [
    "df_station.isnull().sum()"
   ]
  },
  {
   "cell_type": "code",
   "execution_count": 46,
   "metadata": {},
   "outputs": [],
   "source": [
    "import folium\n",
    "from folium.plugins import MarkerCluster\n",
    "from folium import FeatureGroup, LayerControl\n",
    "\n",
    "# 런던 중심부의 위도와 경도\n",
    "london_latitude = 51.5074\n",
    "london_longitude = -0.1278\n",
    "\n",
    "# 런던 지도 생성\n",
    "map_london = folium.Map(location=[london_latitude, london_longitude], zoom_start=12)\n",
    "\n",
    "# 랜드마크 위치 데이터\n",
    "landmarks = {\n",
    "    \"런던 아이\": (51.5033, -0.1196),\n",
    "    \"타워 브리지\": (51.5055, -0.0754),\n",
    "    \"버킹엄 궁전\": (51.5014, -0.1419),\n",
    "    \"대영 박물관\": (51.5194, -0.1270),\n",
    "    \"테이트 모던\": (51.5076, -0.0994),\n",
    "    \"세인트 폴 대성당\": (51.5138, -0.0984),\n",
    "    \"웨스트민스터 사원\": (51.4993, -0.1273),\n",
    "    \"피카딜리 서커스\": (51.5101, -0.1342),\n",
    "    \"하이드 파크\": (51.5073, -0.1657),\n",
    "    \"캠든 마켓\": (51.5416, -0.1469),\n",
    "    \"빅벤\": (51.5007, -0.1246),\n",
    "    \"내셔널 갤러리\": (51.5089, -0.1283),\n",
    "    \"자연사 박물관\": (51.4967, -0.1764),\n",
    "    \"타워 오브 런던\": (51.5081, -0.0759),\n",
    "    \"코벤트 가든\": (51.5115, -0.1234),\n",
    "    \"리젠트 파크\": (51.5313, -0.1569),\n",
    "    \"셔드\": (51.5045, -0.0865),\n",
    "    \"킹스 크로스 세인트 판크라스\": (51.5308, -0.1238)\n",
    "}\n",
    "\n",
    "# 런던 경계 데이터 로드 및 추가\n",
    "london_boundary_geojson = './런던_data/London_boundary.geojson'\n",
    "GeoJson(\n",
    "    london_boundary_geojson,\n",
    "    name='London Boundary',\n",
    "    style_function=lambda x: {\n",
    "        'fillColor': 'blue',\n",
    "        'color': 'blue',\n",
    "        'weight': 2,\n",
    "        'fillOpacity': 0.1\n",
    "    }\n",
    ").add_to(map_london)\n",
    "\n",
    "# 랜드마크에 마커 추가\n",
    "for landmark, (lat, lng) in landmarks.items():\n",
    "    folium.Marker(\n",
    "        location=[lat, lng],\n",
    "        icon=folium.Icon(icon='star', prefix='fa', color='blue'),\n",
    "        popup=landmark\n",
    "    ).add_to(map_london)\n",
    "\n",
    "# 클러스터 객체 생성 및 사용자 데이터 위치 표시\n",
    "marker_cluster = MarkerCluster().add_to(map_london)\n",
    "for idx, row in df_guest_prefer.iterrows():\n",
    "    folium.Marker(\n",
    "        location=[row['위도'], row['경도']],\n",
    "        icon=folium.Icon(color='green', icon='info-sign'),\n",
    "        popup='Guest Prefer'\n",
    "    ).add_to(marker_cluster)\n",
    "\n",
    "for idx, row in df_non_guest_prefer.iterrows():\n",
    "    folium.Marker(\n",
    "        location=[row['위도'], row['경도']],\n",
    "        icon=folium.Icon(color='red', icon='info-sign'),\n",
    "        popup='Non-Guest Prefer'\n",
    "    ).add_to(marker_cluster)\n",
    "\n",
    "# 지하철 레이어 추가\n",
    "subway_layer = FeatureGroup(name='Subway Stations', show=False)\n",
    "for idx, row in df_station.iterrows():\n",
    "    folium.Marker(\n",
    "        location=[row['위도'], row['경도']],\n",
    "        icon=folium.Icon(icon='subway', prefix='fa', color='black'),\n",
    "        popup=f\"{row['역이름']} Station\"\n",
    "    ).add_to(subway_layer)\n",
    "subway_layer.add_to(map_london)\n",
    "\n",
    "# 레이어 컨트롤 추가\n",
    "LayerControl().add_to(map_london)\n",
    "\n",
    "# 지도 저장\n",
    "map_london.save('london_map.html')\n"
   ]
  },
  {
   "cell_type": "code",
   "execution_count": 29,
   "metadata": {},
   "outputs": [
    {
     "name": "stdout",
     "output_type": "stream",
     "text": [
      "                    역이름         위도        경도  게스트_선호  게스트_불호\n",
      "0                Temple  51.510474 -0.112644       4       8\n",
      "1           Blackfriars  51.511114 -0.102020       2       9\n",
      "2         Mansion House  51.511306 -0.092495       3      11\n",
      "3         Cannon Street  51.510963 -0.088801       2      19\n",
      "4              Monument  51.510209 -0.084502       3      14\n",
      "..                  ...        ...       ...     ...     ...\n",
      "266             Croxley  51.646588 -0.440192       0       0\n",
      "267             Watford  51.656992 -0.415833       0       0\n",
      "268  Chalfont & Latimer  51.667546 -0.559160       0       0\n",
      "269             Chesham  51.704742 -0.609421       0       0\n",
      "270            Amersham  51.673662 -0.606147       0       0\n",
      "\n",
      "[271 rows x 5 columns]\n"
     ]
    }
   ],
   "source": [
    "import pandas as pd\n",
    "from geopy.distance import geodesic\n",
    "\n",
    "# 각 역에서 500m 이내에 있는 df_guest_prefer와 df_non_guest_prefer의 개수를 세는 함수\n",
    "def count_nearby(df, station_lat, station_lon, radius=0.5):\n",
    "    count = 0\n",
    "    if pd.isna(station_lat) or pd.isna(station_lon):\n",
    "        return count  # 입력된 역의 위도 또는 경도가 NaN이면 계산을 수행하지 않고 0을 반환\n",
    "    station_coords = (station_lat, station_lon)\n",
    "    for idx, row in df.iterrows():\n",
    "        if pd.isna(row['위도']) or pd.isna(row['경도']):\n",
    "            continue  # 데이터프레임의 행에 NaN이 있으면 이 행을 건너뛰기\n",
    "        point_coords = (row['위도'], row['경도'])\n",
    "        if geodesic(station_coords, point_coords).km <= radius:\n",
    "            count += 1\n",
    "    return count\n",
    "\n",
    "# 결과를 저장할 리스트\n",
    "results = []\n",
    "\n",
    "# df_station_check의 각 역에 대해 반복\n",
    "for idx, station in df_station.iterrows():\n",
    "    station_name = station['역이름']\n",
    "    lat = station['위도']\n",
    "    lon = station['경도']\n",
    "    \n",
    "    # df_guest_prefer와 df_non_guest_prefer에서 각각의 카운트를 가져옴\n",
    "    guest_count = count_nearby(df_guest_prefer, lat, lon)\n",
    "    non_guest_count = count_nearby(df_non_guest_prefer, lat, lon)\n",
    "    \n",
    "    # 결과 저장\n",
    "    results.append({\n",
    "        '역이름': station_name,\n",
    "        '위도': lat,\n",
    "        '경도': lon,\n",
    "        '게스트_선호': guest_count,\n",
    "        '게스트_불호': non_guest_count\n",
    "    })\n",
    "\n",
    "# 결과를 데이터프레임으로 변환\n",
    "result_df = pd.DataFrame(results)\n",
    "\n",
    "# 결과 출력\n",
    "print(result_df)"
   ]
  },
  {
   "cell_type": "code",
   "execution_count": 30,
   "metadata": {},
   "outputs": [
    {
     "data": {
      "text/plain": [
       "4695"
      ]
     },
     "execution_count": 30,
     "metadata": {},
     "output_type": "execute_result"
    }
   ],
   "source": [
    "len(df_guest_prefer)"
   ]
  },
  {
   "cell_type": "code",
   "execution_count": 31,
   "metadata": {},
   "outputs": [
    {
     "data": {
      "text/plain": [
       "4695"
      ]
     },
     "execution_count": 31,
     "metadata": {},
     "output_type": "execute_result"
    }
   ],
   "source": [
    "len(df_non_guest_prefer)"
   ]
  },
  {
   "cell_type": "code",
   "execution_count": 32,
   "metadata": {},
   "outputs": [
    {
     "data": {
      "text/plain": [
       "2298"
      ]
     },
     "execution_count": 32,
     "metadata": {},
     "output_type": "execute_result"
    }
   ],
   "source": [
    "result_df['게스트_선호'].sum()"
   ]
  },
  {
   "cell_type": "code",
   "execution_count": 33,
   "metadata": {},
   "outputs": [
    {
     "data": {
      "text/plain": [
       "3888"
      ]
     },
     "execution_count": 33,
     "metadata": {},
     "output_type": "execute_result"
    }
   ],
   "source": [
    "result_df['게스트_불호'].sum()"
   ]
  },
  {
   "cell_type": "code",
   "execution_count": 39,
   "metadata": {},
   "outputs": [
    {
     "name": "stdout",
     "output_type": "stream",
     "text": [
      "               랜드마크       위도      경도  게스트_선호  게스트_불호\n",
      "0             런던 아이  51.5033 -0.1196       1       0\n",
      "1            타워 브리지  51.5055 -0.0754       5       9\n",
      "2            버킹엄 궁전  51.5014 -0.1419       4      10\n",
      "3            대영 박물관  51.5194 -0.1270      27      25\n",
      "4            테이트 모던  51.5076 -0.0994       9       8\n",
      "5         세인트 폴 대성당  51.5138 -0.0984       2      15\n",
      "6         웨스트민스터 사원  51.4993 -0.1273       5       5\n",
      "7          피카딜리 서커스  51.5101 -0.1342      31      75\n",
      "8            하이드 파크  51.5073 -0.1657       0       0\n",
      "9             캠든 마켓  51.5416 -0.1469      15      24\n",
      "10               빅벤  51.5007 -0.1246       2       1\n",
      "11          내셔널 갤러리  51.5089 -0.1283      35      61\n",
      "12          자연사 박물관  51.4967 -0.1764      19      21\n",
      "13         타워 오브 런던  51.5081 -0.0759       5      14\n",
      "14           코벤트 가든  51.5115 -0.1234      53      45\n",
      "15           리젠트 파크  51.5313 -0.1569       0       0\n",
      "16               셔드  51.5045 -0.0865       8      23\n",
      "17  킹스 크로스 세인트 판크라스  51.5308 -0.1238      10      71\n"
     ]
    }
   ],
   "source": [
    "from geopy.distance import geodesic\n",
    "\n",
    "# 특정 랜드마크와의 거리 계산 함수 정의\n",
    "def count_accommodations_within_distance(df, landmark_coords, max_distance_km):\n",
    "    count = 0\n",
    "    for idx, row in df.iterrows():\n",
    "        # 숙소 위치\n",
    "        accommodation_location = (row['위도'], row['경도'])\n",
    "        # 랜드마크와 숙소 간의 거리 계산\n",
    "        distance = geodesic(landmark_coords, accommodation_location).km\n",
    "        # 특정 거리 이내에 있으면 카운트\n",
    "        if distance <= max_distance_km:\n",
    "            count += 1\n",
    "    return count\n",
    "\n",
    "result1 = []\n",
    "# 각 랜드마크와의 거리 계산\n",
    "landmark_distances = {}\n",
    "for landmark, coords in landmarks.items():\n",
    "    count_prefer = count_accommodations_within_distance(df_guest_prefer, coords, 0.5)  # 1km 이내\n",
    "    count_non_prefer = count_accommodations_within_distance(df_non_guest_prefer, coords, 0.5)  # 1km 이내\n",
    "    landmark_distances[landmark] = {'Guest Prefer': count_prefer, 'Non-Guest Prefer': count_non_prefer}\n",
    "    # 결과 저장\n",
    "    result1.append({\n",
    "        '랜드마크': landmark,\n",
    "        '위도': coords[0],\n",
    "        '경도': coords[1],\n",
    "        '게스트_선호': count_prefer,\n",
    "        '게스트_불호': count_non_prefer\n",
    "    })\n",
    "    \n",
    "# 결과를 데이터프레임으로 변환\n",
    "result1_df = pd.DataFrame(result1)\n",
    "\n",
    "# 결과 출력\n",
    "print(result1_df)\n"
   ]
  },
  {
   "cell_type": "code",
   "execution_count": 40,
   "metadata": {},
   "outputs": [
    {
     "data": {
      "text/plain": [
       "231"
      ]
     },
     "execution_count": 40,
     "metadata": {},
     "output_type": "execute_result"
    }
   ],
   "source": [
    "result1_df['게스트_선호'].sum()"
   ]
  },
  {
   "cell_type": "code",
   "execution_count": 41,
   "metadata": {},
   "outputs": [
    {
     "data": {
      "text/plain": [
       "407"
      ]
     },
     "execution_count": 41,
     "metadata": {},
     "output_type": "execute_result"
    }
   ],
   "source": [
    "result1_df['게스트_불호'].sum()"
   ]
  },
  {
   "cell_type": "code",
   "execution_count": null,
   "metadata": {},
   "outputs": [],
   "source": []
  }
 ],
 "metadata": {
  "kernelspec": {
   "display_name": "Python 3",
   "language": "python",
   "name": "python3"
  },
  "language_info": {
   "codemirror_mode": {
    "name": "ipython",
    "version": 3
   },
   "file_extension": ".py",
   "mimetype": "text/x-python",
   "name": "python",
   "nbconvert_exporter": "python",
   "pygments_lexer": "ipython3",
   "version": "3.10.9"
  }
 },
 "nbformat": 4,
 "nbformat_minor": 2
}
