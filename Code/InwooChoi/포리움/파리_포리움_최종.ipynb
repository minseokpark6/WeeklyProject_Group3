{
 "cells": [
  {
   "cell_type": "code",
   "execution_count": 24,
   "metadata": {},
   "outputs": [
    {
     "name": "stdout",
     "output_type": "stream",
     "text": [
      "Requirement already satisfied: shapely in c:\\users\\ciw96\\appdata\\local\\programs\\python\\python310\\lib\\site-packages (2.0.4)\n",
      "Requirement already satisfied: numpy<3,>=1.14 in c:\\users\\ciw96\\appdata\\local\\programs\\python\\python310\\lib\\site-packages (from shapely) (1.26.4)\n",
      "Note: you may need to restart the kernel to use updated packages.\n"
     ]
    }
   ],
   "source": [
    "pip install shapely\n"
   ]
  },
  {
   "cell_type": "code",
   "execution_count": 25,
   "metadata": {},
   "outputs": [
    {
     "name": "stdout",
     "output_type": "stream",
     "text": [
      "Requirement already satisfied: folium in c:\\users\\ciw96\\appdata\\local\\programs\\python\\python310\\lib\\site-packages (0.16.0)\n",
      "Requirement already satisfied: branca>=0.6.0 in c:\\users\\ciw96\\appdata\\local\\programs\\python\\python310\\lib\\site-packages (from folium) (0.7.2)\n",
      "Requirement already satisfied: jinja2>=2.9 in c:\\users\\ciw96\\appdata\\local\\programs\\python\\python310\\lib\\site-packages (from folium) (3.1.3)\n",
      "Requirement already satisfied: numpy in c:\\users\\ciw96\\appdata\\local\\programs\\python\\python310\\lib\\site-packages (from folium) (1.26.4)\n",
      "Requirement already satisfied: requests in c:\\users\\ciw96\\appdata\\local\\programs\\python\\python310\\lib\\site-packages (from folium) (2.31.0)\n",
      "Requirement already satisfied: xyzservices in c:\\users\\ciw96\\appdata\\local\\programs\\python\\python310\\lib\\site-packages (from folium) (2024.6.0)\n",
      "Requirement already satisfied: MarkupSafe>=2.0 in c:\\users\\ciw96\\appdata\\local\\programs\\python\\python310\\lib\\site-packages (from jinja2>=2.9->folium) (2.1.5)\n",
      "Requirement already satisfied: charset-normalizer<4,>=2 in c:\\users\\ciw96\\appdata\\local\\programs\\python\\python310\\lib\\site-packages (from requests->folium) (3.3.2)\n",
      "Requirement already satisfied: idna<4,>=2.5 in c:\\users\\ciw96\\appdata\\local\\programs\\python\\python310\\lib\\site-packages (from requests->folium) (3.6)\n",
      "Requirement already satisfied: urllib3<3,>=1.21.1 in c:\\users\\ciw96\\appdata\\local\\programs\\python\\python310\\lib\\site-packages (from requests->folium) (2.2.1)\n",
      "Requirement already satisfied: certifi>=2017.4.17 in c:\\users\\ciw96\\appdata\\local\\programs\\python\\python310\\lib\\site-packages (from requests->folium) (2024.2.2)\n",
      "Note: you may need to restart the kernel to use updated packages.\n"
     ]
    }
   ],
   "source": [
    "pip install folium\n"
   ]
  },
  {
   "cell_type": "code",
   "execution_count": 26,
   "metadata": {},
   "outputs": [
    {
     "name": "stdout",
     "output_type": "stream",
     "text": [
      "Requirement already satisfied: geopy in c:\\users\\ciw96\\appdata\\local\\programs\\python\\python310\\lib\\site-packages (2.4.1)Note: you may need to restart the kernel to use updated packages.\n",
      "\n",
      "Requirement already satisfied: geographiclib<3,>=1.52 in c:\\users\\ciw96\\appdata\\local\\programs\\python\\python310\\lib\\site-packages (from geopy) (2.0)\n"
     ]
    }
   ],
   "source": [
    "pip install geopy"
   ]
  },
  {
   "cell_type": "code",
   "execution_count": 27,
   "metadata": {},
   "outputs": [
    {
     "name": "stdout",
     "output_type": "stream",
     "text": [
      "25576\n",
      "처음 df : 84397\n",
      "슈퍼호스트 제거 : 84306\n",
      "리뷰수 제거 : 47841\n",
      "숙소_유형 제거 : 34280\n",
      "12개월_리뷰수 0개 제거 : 31052\n",
      "욕실수, 침실수, 침대수 제거 후 : 30997\n",
      "리뷰 결측치 제거 후 : 30997\n",
      "예약가능여부 : 30990\n"
     ]
    }
   ],
   "source": [
    "import numpy as np\n",
    "import pandas as pd\n",
    "import matplotlib.pyplot as plt\n",
    "import seaborn as sns\n",
    "import matplotlib as mpl\n",
    "from matplotlib import font_manager, rc\n",
    "%matplotlib inline\n",
    "import folium\n",
    "from folium.plugins import MarkerCluster\n",
    "from folium import FeatureGroup, LayerControl\n",
    "from folium.features import GeoJson\n",
    "from shapely.geometry import shape, Point\n",
    "import json\n",
    "from urllib.parse import urlparse, urlunparse, parse_qs, urlencode\n",
    "\n",
    "# URL에 쿼리 파라미터를 추가하는 함수\n",
    "def modify_url(url, params):\n",
    "    url_parts = list(urlparse(url))\n",
    "    query = dict(parse_qs(url_parts[4]))\n",
    "    query.update(params)\n",
    "    url_parts[4] = urlencode(query, doseq=True)\n",
    "    return urlunparse(url_parts)\n",
    "\n",
    "# 글꼴 경로 지정\n",
    "font_path = \"c:/Windows/Fonts/malgun.ttf\"  # 윈도우에 설치된 맑은 고딕 폰트 경로\n",
    "\n",
    "# 폰트 이름 얻어오기\n",
    "font_name = font_manager.FontProperties(fname=font_path).get_name()\n",
    "\n",
    "# matplotlib의 rc(run command) 기능을 이용하여 글꼴 설정\n",
    "mpl.rc('font', family=font_name)\n",
    "\n",
    "# 유니코드에서  음수 부호 설정\n",
    "mpl.rc('axes', unicode_minus=False)\n",
    "\n",
    "path = '../../../../../datasets/paris_listings.csv'\n",
    "\n",
    "raw = pd.read_csv(path)\n",
    "df = raw.copy()\n",
    "\n",
    "df = df[['id', 'host_id','host_is_superhost',\n",
    "        'host_total_listings_count','neighbourhood_cleansed','room_type','accommodates','bathrooms','bedrooms',\n",
    "        'beds','amenities','price','minimum_nights','maximum_nights','number_of_reviews', 'number_of_reviews_l30d', 'review_scores_rating', 'review_scores_accuracy', \n",
    "        'review_scores_cleanliness', 'review_scores_checkin', 'review_scores_communication', \n",
    "        'review_scores_location', 'review_scores_value', 'reviews_per_month','listing_url','property_type','number_of_reviews_ltm','has_availability','last_review']]\n",
    "\n",
    "df = df.rename(columns= {\n",
    "    'id': '숙소_id',\n",
    "    'host_id': '호스트_id',\n",
    "    'host_is_superhost': '슈퍼호스트',\n",
    "    'host_total_listings_count': '숙소_수',\n",
    "    'neighbourhood_cleansed': '숙소_지역',\n",
    "    'room_type': '숙소_유형',\n",
    "    'accommodates': '수용_인원수',\n",
    "    'bathrooms': '욕실수',\n",
    "    'bedrooms': '침실수',\n",
    "    'beds': '침대수',\n",
    "    'amenities': '편의시설',\n",
    "    'price': '숙소_가격',\n",
    "    'minimum_nights': '최소_숙박일',\n",
    "    'maximum_nights': '최대_숙박일',\n",
    "    'number_of_reviews': '리뷰수',\n",
    "    'number_of_reviews_l30d': '30일_리뷰수',\n",
    "    'review_scores_rating': '리뷰점수',\n",
    "    'review_scores_accuracy': '숙소_정확성_리뷰점수',\n",
    "    'review_scores_cleanliness': '숙소_청결도_리뷰점수',\n",
    "    'review_scores_checkin': '숙소_체크인_리뷰점수',\n",
    "    'review_scores_communication': '숙소_소통_리뷰점수',\n",
    "    'review_scores_location': '숙소_위치_리뷰점수',\n",
    "    'review_scores_value': '숙소_가격_리뷰점수',\n",
    "    'reviews_per_month': '평균_리뷰수',\n",
    "    'listing_url':'url',\n",
    "    'property_type':'숙소_특징',\n",
    "    'number_of_reviews_ltm':'12개월_리뷰수',\n",
    "    'has_availability':'예약가능여부',\n",
    "    'last_review':'마지막_리뷰'\n",
    "})\n",
    "df['위도']=raw['latitude']\n",
    "df['경도']=raw['longitude']\n",
    "print(len(df[df['리뷰수']==0]))\n",
    "# 슈퍼호스트, 리뷰수 결측치 제거\n",
    "print(f\"처음 df : {len(df)}\")\n",
    "df = df[~df['슈퍼호스트'].isnull()]\n",
    "print(f\"슈퍼호스트 제거 : {len(df)}\")\n",
    "df = df[df['리뷰수']>2]\n",
    "print(f\"리뷰수 제거 : {len(df)}\")\n",
    "\n",
    "# 숙소가격 null값 제거\n",
    "df= df[~df['숙소_가격'].isnull()]\n",
    "\n",
    "#가격 앞 통화기호 제거\n",
    "df['숙소_가격'] = df['숙소_가격'].replace('[\\$,]', '', regex=True).astype(float)\n",
    "\n",
    "# 유형 제거 \n",
    "df = df[(df['숙소_유형']=='Entire home/apt') | (df['숙소_유형']=='Private room')]\n",
    "print(f\"숙소_유형 제거 : {len(df)}\")\n",
    "\n",
    "# 12개월 리뷰수 0 개 제거\n",
    "df = df[df['12개월_리뷰수']!=0]\n",
    "print(f\"12개월_리뷰수 0개 제거 : {len(df)}\")\n",
    "\n",
    "# 욕실수, 침실수, 침대수 null값 제거\n",
    "df = df.dropna(subset=['욕실수', '침실수', '침대수'])\n",
    "print(f\"욕실수, 침실수, 침대수 제거 후 : {len(df)}\")\n",
    "\n",
    "# 리뷰  null값 제거\n",
    "df = df.dropna(subset=['숙소_정확성_리뷰점수','숙소_청결도_리뷰점수','숙소_체크인_리뷰점수','숙소_소통_리뷰점수','숙소_위치_리뷰점수','숙소_가격_리뷰점수'])\n",
    "print(f\"리뷰 결측치 제거 후 : {len(df)}\")\n",
    "\n",
    "# 예약 가능여부 f 버리기\n",
    "df = df.dropna(subset='예약가능여부')\n",
    "print(f\"예약가능여부 : {len(df)}\")\n",
    "\n",
    "df_guest_prefer= df[(df['리뷰점수'] >= 4.9) & (df['리뷰수'] >= 5) & (df['슈퍼호스트'] == 't')]\n",
    "df_non_guest_prefer = df[(df['슈퍼호스트'] == 'f') & (df['리뷰수'] >= 5)].sort_values('리뷰점수', ascending=True).head(len(df_guest_prefer))"
   ]
  },
  {
   "cell_type": "code",
   "execution_count": 28,
   "metadata": {},
   "outputs": [
    {
     "data": {
      "text/plain": [
       "27       48.863730\n",
       "45       48.827000\n",
       "48       48.889270\n",
       "53       48.856140\n",
       "73       48.852200\n",
       "           ...    \n",
       "77625    48.873220\n",
       "78171    48.832109\n",
       "78192    48.894080\n",
       "78307    48.870860\n",
       "78309    48.880330\n",
       "Name: 위도, Length: 4716, dtype: float64"
      ]
     },
     "execution_count": 28,
     "metadata": {},
     "output_type": "execute_result"
    }
   ],
   "source": [
    "df_guest_prefer['위도']"
   ]
  },
  {
   "cell_type": "code",
   "execution_count": 29,
   "metadata": {},
   "outputs": [],
   "source": [
    "# # # CSV 파일 로드\n",
    "# # df_metro = pd.read_csv('./파리_data/paris_stations.csv', delimiter=';')\n",
    "\n",
    "# # # 'Coordonnées géographiques' 열을 공백으로 분리하여 새로운 열로 추가\n",
    "# # # 데이터에서 쉼표도 제거 필요\n",
    "# # df_metro[['위도', '경도']] = df_metro['Coordonnées géographiques'].str.replace(',', '').str.split(expand=True)\n",
    "\n",
    "# # # 위도와 경도 데이터 타입을 float으로 변환\n",
    "# # df_metro['위도'] = df_metro['위도'].astype(float)\n",
    "# # df_metro['경도'] = df_metro['경도'].astype(float)\n",
    "\n",
    "# # # 필요없는 'Coordonnées géographiques' 열 제거\n",
    "# # df_metro.drop('Coordonnées géographiques', axis=1, inplace=True)\n",
    "\n",
    "# # df_metro = df_metro.rename(columns= {\n",
    "# #     'Identifiant station':'역_id',\n",
    "# #     'Nom de la station' : '역이름',\n",
    "# #     'Capacité de la station' : '역수용인원'\n",
    "# # })\n",
    "\n",
    "# # df_metro= df_metro[df_metro['역수용인원']!=0]\n",
    "\n",
    "# # df_metro['역 이름 앞부분'] = df_metro['역이름'].apply(lambda x: x.split(' - ')[0])\n",
    "\n",
    "\n",
    "# # # '역 이름 앞부분'으로 그룹화하고, 각 그룹의 위도와 경도 평균을 계산\n",
    "# # station_groups = df_metro.groupby('역 이름 앞부분').agg({\n",
    "# #     '위도': 'mean',\n",
    "# #     # '경도': 'mean'\n",
    "# # }).reset_index()\n",
    "\n",
    "# # # 새로운 DataFrame 생성\n",
    "# # df_station = station_groups.rename(columns={\n",
    "# #     '역 이름 앞부분': '역이름'\n",
    "# # })\n"
   ]
  },
  {
   "cell_type": "code",
   "execution_count": 30,
   "metadata": {},
   "outputs": [],
   "source": [
    "df_station_check= pd.read_csv('./파리_data/Paris_Metro_Stations.csv')"
   ]
  },
  {
   "cell_type": "code",
   "execution_count": 31,
   "metadata": {},
   "outputs": [
    {
     "name": "stdout",
     "output_type": "stream",
     "text": [
      "Requirement already satisfied: requests in c:\\users\\ciw96\\appdata\\local\\programs\\python\\python310\\lib\\site-packages (2.31.0)\n",
      "Requirement already satisfied: charset-normalizer<4,>=2 in c:\\users\\ciw96\\appdata\\local\\programs\\python\\python310\\lib\\site-packages (from requests) (3.3.2)\n",
      "Requirement already satisfied: idna<4,>=2.5 in c:\\users\\ciw96\\appdata\\local\\programs\\python\\python310\\lib\\site-packages (from requests) (3.6)\n",
      "Requirement already satisfied: urllib3<3,>=1.21.1 in c:\\users\\ciw96\\appdata\\local\\programs\\python\\python310\\lib\\site-packages (from requests) (2.2.1)\n",
      "Requirement already satisfied: certifi>=2017.4.17 in c:\\users\\ciw96\\appdata\\local\\programs\\python\\python310\\lib\\site-packages (from requests) (2024.2.2)\n",
      "Note: you may need to restart the kernel to use updated packages.\n"
     ]
    }
   ],
   "source": [
    "pip install requests\n"
   ]
  },
  {
   "cell_type": "code",
   "execution_count": 32,
   "metadata": {},
   "outputs": [],
   "source": [
    "# import requests\n",
    "\n",
    "# api = 'mapapi넣을것'\n",
    "\n",
    "# # 파리 지하철역 목록 (중복 제거)\n",
    "# stations = [\n",
    "#     \"La Défense – Grande Arche\", \"Esplanade de la Défense\", \"Pont de Neuilly\", \"Les Sablons\",\n",
    "#     \"Porte Maillot\", \"Argentine\", \"Charles de Gaulle – Étoile\", \"George V\", \"Franklin D. Roosevelt\",\n",
    "#     \"Champs-Élysées – Clemenceau\", \"Concorde\", \"Tuileries\", \"Palais Royal – Musée du Louvre\",\n",
    "#     \"Louvre – Rivoli\", \"Châtelet\", \"Hôtel de Ville\", \"Saint-Paul\", \"Bastille\", \"Gare de Lyon\",\n",
    "#     \"Reuilly – Diderot\", \"Nation\", \"Porte de Vincennes\", \"Saint-Mandé\", \"Bérault\", \"Château de Vincennes\",\n",
    "#     \"Porte Dauphine\", \"Victor Hugo\", \"Ternes\", \"Courcelles\", \"Monceau\", \"Villiers\", \"Rome\",\n",
    "#     \"Place de Clichy\", \"Blanche\", \"Pigalle\", \"Anvers\", \"Barbès – Rochechouart\", \"La Chapelle\",\n",
    "#     \"Stalingrad\", \"Jaurès\", \"Colonel Fabien\", \"Belleville\", \"Couronnes\", \"Ménilmontant\",\n",
    "#     \"Père Lachaise\", \"Philippe Auguste\", \"Alexandre Dumas\", \"Avron\", \"Pont de Levallois – Bécon\",\n",
    "#     \"Anatole France\", \"Louise Michel\", \"Porte de Champerret\", \"Péreire\", \"Wagram\", \"Malesherbes\",\n",
    "#     \"Europe\", \"Saint-Lazare\", \"Havre – Caumartin\", \"Opéra\", \"Quatre Septembre\", \"Bourse\", \"Sentier\",\n",
    "#     \"Réaumur – Sébastopol\", \"Arts et Métiers\", \"Temple\", \"République\", \"Parmentier\", \"Rue Saint-Maur\",\n",
    "#     \"Gambetta\", \"Porte de Bagnolet\", \"Gallieni\", \"Porte de Clignancourt\", \"Simplon\", \"Marcadet – Poissonniers\",\n",
    "#     \"Château Rouge\", \"Gare du Nord\", \"Gare de l'Est\", \"Château d'Eau\", \"Strasbourg – Saint-Denis\",\n",
    "#     \"Étienne Marcel\", \"Les Halles\", \"Cité\", \"Saint-Michel\", \"Odéon\", \"Saint-Germain-des-Prés\", \"Saint-Sulpice\",\n",
    "#     \"Saint-Placide\", \"Montparnasse – Bienvenüe\", \"Vavin\", \"Raspail\", \"Denfert-Rochereau\", \"Mouton-Duvernet\",\n",
    "#     \"Alésia\", \"Porte d'Orléans\", \"Mairie de Montrouge\", \"Bagneux – Lucie Aubrac\", \"Bobigny – Pablo Picasso\",\n",
    "#     \"Bobigny – Pantin – Raymond Queneau\", \"Église de Pantin\", \"Hoche\", \"Porte de Pantin\", \"Ourcq\", \"Laumière\",\n",
    "#     \"Jourdain\", \"Place des Fêtes\", \"Télégraphe\", \"Porte des Lilas\", \"Mairie des Lilas\", \"Balard\", \"Lourmel\",\n",
    "#     \"Boucicaut\", \"Félix Faure\", \"Commerce\", \"La Motte-Picquet – Grenelle\", \"École Militaire\", \"La Tour-Maubourg\",\n",
    "#     \"Invalides\", \"Madeleine\", \"Richelieu – Drouot\", \"Grands Boulevards\", \"Bonne Nouvelle\", \"Filles du Calvaire\",\n",
    "#     \"Saint-Sébastien – Froissart\", \"Chemin Vert\", \"Ledru-Rollin\", \"Faidherbe – Chaligny\", \"Montgallet\", \"Michel Bizot\",\n",
    "#     \"Porte Dorée\", \"Porte de Charenton\", \"Liberté\", \"Charenton – Écoles\", \"École Vétérinaire de Maisons-Alfort\",\n",
    "#     \"Maisons-Alfort – Stade\", \"Maisons-Alfort – Les Juilliottes\", \"Créteil – L'Échat\", \"Créteil – Université\",\n",
    "#     \"Créteil – Préfecture\", \"Pointe du Lac\", \"Pont de Sèvres\", \"Billancourt\", \"Marcel Sembat\", \"Porte de Saint-Cloud\",\n",
    "#     \"Exelmans\", \"Michel-Ange – Molitor\", \"Michel-Ange – Auteuil\", \"Jasmin\", \"Ranelagh\", \"La Muette\", \"Rue de la Pompe\",\n",
    "#     \"Trocadéro\", \"Iéna\", \"Alma – Marceau\", \"Saint-Philippe du Roule\", \"Miromesnil\", \"Saint-Augustin\",\n",
    "#     \"Havre – Caumartin\", \"Chaussée d'Antin – La Fayette\", \"Grands Boulevards\", \"Voltaire\", \"Charonne\", \"Rue des Boulets\",\n",
    "#     \"Buzenval\", \"Maraîchers\", \"Porte de Montreuil\", \"Robespierre\", \"Croix de Chavaux\", \"Mairie de Montreuil\",\n",
    "#     \"Boulogne – Pont de Saint-Cloud\", \"Boulogne – Jean Jaurès\", \"Chardon-Lagache\", \"Mirabeau\", \"Javel – André Citroën\",\n",
    "#     \"Charles Michels\", \"Avenue Émile Zola\", \"Ségur\", \"Duroc\", \"Vaneau\", \"Sèvres – Babylone\", \"Mabillon\", \"Odéon\",\n",
    "#     \"Cluny – La Sorbonne\", \"Maubert – Mutualité\", \"Cardinal Lemoine\", \"Jussieu\", \"Gare d'Austerlitz\", \"Campo-Formio\",\n",
    "#     \"Place d'Italie\", \"Châtelet\", \"Hôtel de Ville\", \"Rambuteau\", \"Arts et Métiers\", \"Goncourt\", \"Belleville\",\n",
    "#     \"Pyrénées\", \"Jourdain\", \"Aubervilliers – Front Populaire\", \"Porte de la Chapelle\", \"Marx Dormoy\",\n",
    "#     \"Jules Joffrin\", \"Lamarck – Caulaincourt\", \"Abbesses\", \"Saint-Georges\", \"Notre-Dame de Lorette\", \"Trinité – d'Estienne d'Orves\",\n",
    "#     \"Assemblée Nationale\", \"Solférino\", \"Rue du Bac\", \"Rennes\", \"Notre-Dame des Champs\", \"Falguière\", \"Pasteur\",\n",
    "#     \"Volontaires\", \"Vaugirard\", \"Convention\", \"Porte de Versailles\", \"Corentin Celton\", \"Mairie d'Issy\",\n",
    "#     \"Saint-Denis – Université\", \"Basilique de Saint-Denis\", \"Saint-Denis – Porte de Paris\", \"Carrefour Pleyel\",\n",
    "#     \"Mairie de Saint-Ouen\", \"Garibaldi\", \"Porte de Saint-Ouen\", \"Guy Môquet\", \"La Fourche\", \"Liège\",\n",
    "#     \"Saint-François-Xavier\", \"Duroc\", \"Gaîté\", \"Pernety\", \"Plaisance\", \"Porte de Vanves\", \"Malakoff – Plateau de Vanves\",\n",
    "#     \"Malakoff – Rue Étienne Dolet\", \"Châtillon – Montrouge\", \"Les Agnettes\", \"Gabriel Péri\", \"Mairie de Clichy\", \"Porte de Clichy\", \"Brochant\",\n",
    "#     \"Les Courtilles\"\n",
    "# ]\n",
    "\n",
    "# # 중복 제거\n",
    "# unique_stations = list(set(stations))\n",
    "\n",
    "# # 각 역의 위도와 경도 정보를 가져오는 함수\n",
    "# def get_geocode(station, api_key):\n",
    "#     url = f\"https://maps.googleapis.com/maps/api/geocode/json?address={station}, Paris&key={api_key}\"\n",
    "#     response = requests.get(url)\n",
    "#     data = response.json()\n",
    "#     if data['status'] == 'OK':\n",
    "#         location = data['results'][0]['geometry']['location']\n",
    "#         return (station, location['lat'], location['lng'])\n",
    "#     else:\n",
    "#         return (station, None, None)\n",
    "\n",
    "\n",
    "# # 모든 역에 대한 위치 정보를 리스트로 수집\n",
    "# results = [get_geocode(station, api_key) for station in unique_stations]\n",
    "\n",
    "# # 결과를 데이터프레임으로 변환\n",
    "# df_station_check = pd.DataFrame(results)\n",
    "\n",
    "# # 결과 출력 및 CSV 파일로 저장\n",
    "# print(df_station_check.head())  # 처음 몇 개의 데이터를 출력\n",
    "\n",
    "\n",
    "# df_station_check.columns =['역이름','위도','경도']\n",
    "# df_station_check.to_csv('./파리_data/Paris_Metro_Stations.csv', index=False)"
   ]
  },
  {
   "cell_type": "code",
   "execution_count": 33,
   "metadata": {},
   "outputs": [],
   "source": [
    "df_station_check = pd.read_csv('./파리_data/Paris_Metro_Stations.csv')"
   ]
  },
  {
   "cell_type": "code",
   "execution_count": null,
   "metadata": {},
   "outputs": [],
   "source": []
  },
  {
   "cell_type": "code",
   "execution_count": 34,
   "metadata": {},
   "outputs": [
    {
     "ename": "NameError",
     "evalue": "name 'paris_boundary_geojson' is not defined",
     "output_type": "error",
     "traceback": [
      "\u001b[1;31m---------------------------------------------------------------------------\u001b[0m",
      "\u001b[1;31mNameError\u001b[0m                                 Traceback (most recent call last)",
      "Cell \u001b[1;32mIn[34], line 67\u001b[0m\n\u001b[0;32m     63\u001b[0m subway_layer\u001b[38;5;241m.\u001b[39madd_to(map_paris)\n\u001b[0;32m     65\u001b[0m \u001b[38;5;66;03m# 파리 경계 레이어 추가\u001b[39;00m\n\u001b[0;32m     66\u001b[0m GeoJson(\n\u001b[1;32m---> 67\u001b[0m     \u001b[43mparis_boundary_geojson\u001b[49m,\n\u001b[0;32m     68\u001b[0m     name\u001b[38;5;241m=\u001b[39m\u001b[38;5;124m'\u001b[39m\u001b[38;5;124mParis Boundary\u001b[39m\u001b[38;5;124m'\u001b[39m,\n\u001b[0;32m     69\u001b[0m     style_function\u001b[38;5;241m=\u001b[39m\u001b[38;5;28;01mlambda\u001b[39;00m x: {\n\u001b[0;32m     70\u001b[0m         \u001b[38;5;124m'\u001b[39m\u001b[38;5;124mfillColor\u001b[39m\u001b[38;5;124m'\u001b[39m: \u001b[38;5;124m'\u001b[39m\u001b[38;5;124mblue\u001b[39m\u001b[38;5;124m'\u001b[39m,\n\u001b[0;32m     71\u001b[0m         \u001b[38;5;124m'\u001b[39m\u001b[38;5;124mcolor\u001b[39m\u001b[38;5;124m'\u001b[39m: \u001b[38;5;124m'\u001b[39m\u001b[38;5;124mblue\u001b[39m\u001b[38;5;124m'\u001b[39m,\n\u001b[0;32m     72\u001b[0m         \u001b[38;5;124m'\u001b[39m\u001b[38;5;124mweight\u001b[39m\u001b[38;5;124m'\u001b[39m: \u001b[38;5;241m2\u001b[39m,\n\u001b[0;32m     73\u001b[0m         \u001b[38;5;124m'\u001b[39m\u001b[38;5;124mfillOpacity\u001b[39m\u001b[38;5;124m'\u001b[39m: \u001b[38;5;241m0.1\u001b[39m\n\u001b[0;32m     74\u001b[0m     }\n\u001b[0;32m     75\u001b[0m )\u001b[38;5;241m.\u001b[39madd_to(map_paris)\n\u001b[0;32m     78\u001b[0m \u001b[38;5;66;03m# df_guest_prefer의 위치 표시 (클러스터에 추가)\u001b[39;00m\n\u001b[0;32m     79\u001b[0m \u001b[38;5;28;01mfor\u001b[39;00m idx, row \u001b[38;5;129;01min\u001b[39;00m df_guest_prefer\u001b[38;5;241m.\u001b[39miterrows():\n",
      "\u001b[1;31mNameError\u001b[0m: name 'paris_boundary_geojson' is not defined"
     ]
    }
   ],
   "source": [
    "\n",
    "# 파리 중심부의 위도와 경도\n",
    "paris_latitude = 48.8566\n",
    "paris_longitude = 2.3522\n",
    "\n",
    "# 파리 지도 생성\n",
    "map_paris = folium.Map(location=[paris_latitude, paris_longitude], zoom_start=12)\n",
    "\n",
    "# 랜드마크 위치 데이터\n",
    "landmarks = {\n",
    "    \"에펠탑\": (48.8584, 2.2945),\n",
    "    \"루브르 박물관\": (48.8606, 2.3376),\n",
    "    \"노트르담 대성당\": (48.8529, 2.3500),\n",
    "    \"개선문\": (48.8738, 2.2950),\n",
    "    \"가르니에 궁전\": (48.8719, 2.3316),\n",
    "    \"사크레쾨르 대성당\": (48.8867, 2.3431),\n",
    "    \"생트 샤펠\": (48.8554, 2.3450),\n",
    "    \"알렉산드르 3세 다리\": (48.8639, 2.3136),\n",
    "    \"마레 지구\": (48.8575, 2.3588),\n",
    "    \"몽마르트\": (48.8867, 2.3431),\n",
    "    \"팡테옹\": (48.8463, 2.3460),\n",
    "    \"룩셈부르크 정원\": (48.8462, 2.3371),\n",
    "    \"오르세 미술관\": (48.8600, 2.3257),\n",
    "    \"샹젤리제 거리\": (48.8696, 2.3079),\n",
    "    \"레 장발리드\": (48.8565, 2.3126),\n",
    "    \"콩코르드 광장\": (48.8656, 2.3211),\n",
    "    \"퐁피두 센터\": (48.8606, 2.3522),\n",
    "    \"라 데팡스\": (48.8900, 2.2400),\n",
    "    \"갤러리 라파예트\": (48.8738, 2.3320),\n",
    "    \"그레뱅 박물관\": (48.8718, 2.3422)\n",
    "}\n",
    "\n",
    "# 파리 경계 데이터 로드\n",
    "with open('./파리_data/paris.geojson', 'r') as f:\n",
    "    paris_boundary = json.load(f)\n",
    "\n",
    "# shapely geometry 객체 생성\n",
    "paris_area = shape(paris_boundary['features'][0]['geometry'])\n",
    "\n",
    "# 마커 클러스터 생성\n",
    "marker_cluster = MarkerCluster().add_to(map_paris)\n",
    "\n",
    "# 각 랜드마크에 대한 마커 추가\n",
    "for landmark, (lat, lng) in landmarks.items():\n",
    "    folium.Marker(\n",
    "        location=[lat, lng],\n",
    "        icon=folium.Icon(icon='star', color='blue'),\n",
    "        popup=landmark\n",
    "    ).add_to(map_paris)\n",
    "\n",
    "# 지하철 레이어 생성\n",
    "subway_layer = FeatureGroup(name='Subway Stations', show=False)\n",
    "\n",
    "# df_station_check 데이터를 이용해 지하철역 위치에 마커 추가\n",
    "for idx, row in df_station_check.iterrows():\n",
    "    if pd.notna(row['위도']) and pd.notna(row['경도']):\n",
    "        folium.Marker(\n",
    "            location=[row['위도'], row['경도']],\n",
    "            icon=folium.Icon(icon='subway', prefix='fa', color='cadetblue'),  # 지하철 아이콘 적용\n",
    "            popup=f\"{row['역이름']} Station\"\n",
    "        ).add_to(subway_layer)\n",
    "\n",
    "# 지하철 레이어를 지도에 추가\n",
    "subway_layer.add_to(map_paris)\n",
    "\n",
    "# 파리 경계 레이어 추가\n",
    "GeoJson(\n",
    "    paris_boundary_geojson,\n",
    "    name='Paris Boundary',\n",
    "    style_function=lambda x: {\n",
    "        'fillColor': 'blue',\n",
    "        'color': 'blue',\n",
    "        'weight': 2,\n",
    "        'fillOpacity': 0.1\n",
    "    }\n",
    ").add_to(map_paris)\n",
    "\n",
    "\n",
    "# df_guest_prefer의 위치 표시 (클러스터에 추가)\n",
    "for idx, row in df_guest_prefer.iterrows():\n",
    "    folium.Marker(\n",
    "        location=[row['위도'], row['경도']],\n",
    "        icon=folium.Icon(color='green', icon='info-sign'),\n",
    "        popup='Guest Prefer'\n",
    "    ).add_to(marker_cluster)\n",
    "\n",
    "# df_non_guest_prefer의 위치 표시 (클러스터에 추가)\n",
    "for idx, row in df_non_guest_prefer.iterrows():\n",
    "    folium.Marker(\n",
    "        location=[row['위도'], row['경도']],\n",
    "        icon=folium.Icon(color='red', icon='info-sign'),\n",
    "        popup='Non-Guest Prefer'\n",
    "    ).add_to(marker_cluster)\n",
    "    \n",
    "# 트램 레이어\n",
    "tram_layer = FeatureGroup(name='Tram Stops')\n",
    "geojson_data_tram = './파리_data/paris_tram.geojson'\n",
    "GeoJson(geojson_data_tram, name='Tram Stops').add_to(tram_layer)\n",
    "tram_layer.add_to(map_paris)\n",
    "\n",
    "# 레이어 컨트롤 추가\n",
    "LayerControl().add_to(map_paris)\n",
    "\n",
    "# 지도를 HTML 파일로 저장\n",
    "map_paris.save('paris_map.html')"
   ]
  },
  {
   "cell_type": "markdown",
   "metadata": {},
   "source": [
    "# 지하철 역 주변 개수"
   ]
  },
  {
   "cell_type": "code",
   "execution_count": 35,
   "metadata": {},
   "outputs": [
    {
     "name": "stdout",
     "output_type": "stream",
     "text": [
      "                                    역이름         위도        경도  게스트_선호  게스트_불호\n",
      "0                       Porte de Vanves  48.827396  2.307701       8       9\n",
      "1                       École Militaire  48.852400  2.303651      29      28\n",
      "2                              Concorde  48.870601  2.322852      48      43\n",
      "3                  Faidherbe – Chaligny  48.849801  2.385333      72      53\n",
      "4                Saint-Germain-des-Prés  48.853798  2.333328      56      84\n",
      "..                                  ...        ...       ...     ...     ...\n",
      "229  Bobigny – Pantin – Raymond Queneau  48.895386  2.425283       0       0\n",
      "230                               Gaîté  48.838386  2.322487      34      54\n",
      "231                              Temple  48.863499  2.359078     198     238\n",
      "232                 Mairie de Montrouge  48.818768  2.320454       0       0\n",
      "233                            Buzenval  48.851757  2.401347      37      31\n",
      "\n",
      "[234 rows x 5 columns]\n"
     ]
    }
   ],
   "source": [
    "import pandas as pd\n",
    "from geopy.distance import geodesic\n",
    "\n",
    "# 각 역에서 500m 이내에 있는 df_guest_prefer와 df_non_guest_prefer의 개수를 세는 함수\n",
    "def count_nearby(df, station_lat, station_lon, radius=0.5):\n",
    "    count = 0\n",
    "    if pd.isna(station_lat) or pd.isna(station_lon):\n",
    "        return count  # 입력된 역의 위도 또는 경도가 NaN이면 계산을 수행하지 않고 0을 반환\n",
    "    station_coords = (station_lat, station_lon)\n",
    "    for idx, row in df.iterrows():\n",
    "        if pd.isna(row['위도']) or pd.isna(row['경도']):\n",
    "            continue  # 데이터프레임의 행에 NaN이 있으면 이 행을 건너뛰기\n",
    "        point_coords = (row['위도'], row['경도'])\n",
    "        if geodesic(station_coords, point_coords).km <= radius:\n",
    "            count += 1\n",
    "    return count\n",
    "\n",
    "# 결과를 저장할 리스트\n",
    "results = []\n",
    "\n",
    "# df_station_check의 각 역에 대해 반복\n",
    "for idx, station in df_station_check.iterrows():\n",
    "    station_name = station['역이름']\n",
    "    lat = station['위도']\n",
    "    lon = station['경도']\n",
    "    \n",
    "    # df_guest_prefer와 df_non_guest_prefer에서 각각의 카운트를 가져옴\n",
    "    guest_count = count_nearby(df_guest_prefer, lat, lon)\n",
    "    non_guest_count = count_nearby(df_non_guest_prefer, lat, lon)\n",
    "    \n",
    "    # 결과 저장\n",
    "    results.append({\n",
    "        '역이름': station_name,\n",
    "        '위도': lat,\n",
    "        '경도': lon,\n",
    "        '게스트_선호': guest_count,\n",
    "        '게스트_불호': non_guest_count\n",
    "    })\n",
    "\n",
    "# 결과를 데이터프레임으로 변환\n",
    "result_df = pd.DataFrame(results)\n",
    "\n",
    "# 결과 출력\n",
    "print(result_df)\n"
   ]
  },
  {
   "cell_type": "markdown",
   "metadata": {},
   "source": [
    "# 랜드마크 주변 개수"
   ]
  },
  {
   "cell_type": "code",
   "execution_count": 36,
   "metadata": {},
   "outputs": [
    {
     "name": "stdout",
     "output_type": "stream",
     "text": [
      "           랜드마크         위도        경도  게스트_선호  게스트_불호\n",
      "0           에펠탑  48.851757  2.401347      37      31\n",
      "1       루브르 박물관  48.851757  2.401347      37      31\n",
      "2      노트르담 대성당  48.851757  2.401347      37      31\n",
      "3           개선문  48.851757  2.401347      37      31\n",
      "4       가르니에 궁전  48.851757  2.401347      37      31\n",
      "5     사크레쾨르 대성당  48.851757  2.401347      37      31\n",
      "6         생트 샤펠  48.851757  2.401347      37      31\n",
      "7   알렉산드르 3세 다리  48.851757  2.401347      37      31\n",
      "8         마레 지구  48.851757  2.401347      37      31\n",
      "9          몽마르트  48.851757  2.401347      37      31\n",
      "10          팡테옹  48.851757  2.401347      37      31\n",
      "11     룩셈부르크 정원  48.851757  2.401347      37      31\n",
      "12      오르세 미술관  48.851757  2.401347      37      31\n",
      "13      샹젤리제 거리  48.851757  2.401347      37      31\n",
      "14       레 장발리드  48.851757  2.401347      37      31\n",
      "15      콩코르드 광장  48.851757  2.401347      37      31\n",
      "16       퐁피두 센터  48.851757  2.401347      37      31\n",
      "17        라 데팡스  48.851757  2.401347      37      31\n",
      "18     갤러리 라파예트  48.851757  2.401347      37      31\n",
      "19      그레뱅 박물관  48.851757  2.401347      37      31\n"
     ]
    }
   ],
   "source": [
    "from geopy.distance import geodesic\n",
    "\n",
    "# 특정 랜드마크와의 거리 계산 함수 정의\n",
    "def count_accommodations_within_distance(df, landmark_coords, max_distance_km):\n",
    "    count = 0\n",
    "    for idx, row in df.iterrows():\n",
    "        # 숙소 위치\n",
    "        accommodation_location = (row['위도'], row['경도'])\n",
    "        # 랜드마크와 숙소 간의 거리 계산\n",
    "        distance = geodesic(landmark_coords, accommodation_location).km\n",
    "        # 특정 거리 이내에 있으면 카운트\n",
    "        if distance <= max_distance_km:\n",
    "            count += 1\n",
    "    return count\n",
    "\n",
    "result1=[]\n",
    "# 각 랜드마크와의 거리 계산\n",
    "landmark_distances = {}\n",
    "for landmark, coords in landmarks.items():\n",
    "    count_prefer = count_accommodations_within_distance(df_guest_prefer, coords,1)  \n",
    "    count_non_prefer = count_accommodations_within_distance(df_non_guest_prefer, coords, 1)  \n",
    "    landmark_distances[landmark] = {'Guest Prefer': count_prefer, 'Non-Guest Prefer': count_non_prefer}\n",
    "        # 결과 저장\n",
    "    result1.append({\n",
    "        '랜드마크': landmark,\n",
    "        '위도': lat,\n",
    "        '경도': lon,\n",
    "        '게스트_선호': guest_count,\n",
    "        '게스트_불호': non_guest_count\n",
    "    })\n",
    "    \n",
    "# 결과를 데이터프레임으로 변환\n",
    "result1_df = pd.DataFrame(result1)\n",
    "\n",
    "# 결과 출력\n",
    "print(result1_df)"
   ]
  },
  {
   "cell_type": "code",
   "execution_count": null,
   "metadata": {},
   "outputs": [
    {
     "data": {
      "text/plain": [
       "{'에펠탑': (48.8584, 2.2945),\n",
       " '루브르 박물관': (48.8606, 2.3376),\n",
       " '노트르담 대성당': (48.8529, 2.35),\n",
       " '개선문': (48.8738, 2.295),\n",
       " '가르니에 궁전': (48.8719, 2.3316),\n",
       " '사크레쾨르 대성당': (48.8867, 2.3431),\n",
       " '생트 샤펠': (48.8554, 2.345),\n",
       " '알렉산드르 3세 다리': (48.8639, 2.3136),\n",
       " '마레 지구': (48.8575, 2.3588),\n",
       " '몽마르트': (48.8867, 2.3431),\n",
       " '팡테옹': (48.8463, 2.346),\n",
       " '룩셈부르크 정원': (48.8462, 2.3371),\n",
       " '오르세 미술관': (48.86, 2.3257),\n",
       " '샹젤리제 거리': (48.8696, 2.3079),\n",
       " '레 장발리드': (48.8565, 2.3126),\n",
       " '콩코르드 광장': (48.8656, 2.3211),\n",
       " '퐁피두 센터': (48.8606, 2.3522),\n",
       " '라 데팡스': (48.89, 2.24),\n",
       " '갤러리 라파예트': (48.8738, 2.332),\n",
       " '그레뱅 박물관': (48.8718, 2.3422)}"
      ]
     },
     "execution_count": 22,
     "metadata": {},
     "output_type": "execute_result"
    }
   ],
   "source": [
    "landmarks"
   ]
  },
  {
   "cell_type": "code",
   "execution_count": null,
   "metadata": {},
   "outputs": [
    {
     "data": {
      "text/plain": [
       "0"
      ]
     },
     "execution_count": 19,
     "metadata": {},
     "output_type": "execute_result"
    }
   ],
   "source": [
    "result1_df['게스트_선호'].sum()"
   ]
  },
  {
   "cell_type": "markdown",
   "metadata": {},
   "source": [
    "# 지하철역 주변 개수"
   ]
  },
  {
   "cell_type": "code",
   "execution_count": 37,
   "metadata": {},
   "outputs": [
    {
     "name": "stdout",
     "output_type": "stream",
     "text": [
      "                                    역이름         위도        경도  게스트_선호  게스트_불호\n",
      "0                       Porte de Vanves  48.827396  2.307701       8       8\n",
      "1                       École Militaire  48.852400  2.303651      28      28\n",
      "2                              Concorde  48.870601  2.322852      44      39\n",
      "3                  Faidherbe – Chaligny  48.849801  2.385333      72      53\n",
      "4                Saint-Germain-des-Prés  48.853798  2.333328      56      80\n",
      "..                                  ...        ...       ...     ...     ...\n",
      "229  Bobigny – Pantin – Raymond Queneau  48.895386  2.425283       0       0\n",
      "230                               Gaîté  48.838386  2.322487      34      53\n",
      "231                              Temple  48.863499  2.359078     193     222\n",
      "232                 Mairie de Montrouge  48.818768  2.320454       0       0\n",
      "233                            Buzenval  48.851757  2.401347      37      31\n",
      "\n",
      "[234 rows x 5 columns]\n"
     ]
    }
   ],
   "source": [
    "import pandas as pd\n",
    "from geopy.distance import geodesic\n",
    "\n",
    "# 각 역에서 500m 이내에 있는 df_guest_prefer와 df_non_guest_prefer의 고유한 개수를 세는 함수\n",
    "def count_nearby_unique(df, station_lat, station_lon, radius=0.5):\n",
    "    unique_locations = set()  # 고유 위치를 저장할 세트\n",
    "    count = 0\n",
    "    if pd.isna(station_lat) or pd.isna(station_lon):\n",
    "        return count  # 입력된 역의 위도 또는 경도가 NaN이면 계산을 수행하지 않고 0을 반환\n",
    "    station_coords = (station_lat, station_lon)\n",
    "    for idx, row in df.iterrows():\n",
    "        if pd.isna(row['위도']) or pd.isna(row['경도']):\n",
    "            continue  # 데이터프레임의 행에 NaN이 있으면 이 행을 건너뛰기\n",
    "        point_coords = (row['위도'], row['경도'])\n",
    "        point_coords_tuple = (round(row['위도'], 6), round(row['경도'], 6))  # 위도와 경도를 반올림하여 튜플 생성\n",
    "        if point_coords_tuple not in unique_locations and geodesic(station_coords, point_coords).km <= radius:\n",
    "            unique_locations.add(point_coords_tuple)  # 새로운 위치를 세트에 추가\n",
    "            count += 1\n",
    "    return count\n",
    "\n",
    "# 결과를 저장할 리스트\n",
    "results = []\n",
    "\n",
    "# df_station_check의 각 역에 대해 반복\n",
    "for idx, station in df_station_check.iterrows():\n",
    "    station_name = station['역이름']\n",
    "    lat = station['위도']\n",
    "    lon = station['경도']\n",
    "    \n",
    "    # df_guest_prefer와 df_non_guest_prefer에서 각각의 카운트를 가져옴\n",
    "    guest_count = count_nearby_unique(df_guest_prefer, lat, lon)\n",
    "    non_guest_count = count_nearby_unique(df_non_guest_prefer, lat, lon)\n",
    "    \n",
    "    # 결과 저장\n",
    "    results.append({\n",
    "        '역이름': station_name,\n",
    "        '위도': lat,\n",
    "        '경도': lon,\n",
    "        '게스트_선호': guest_count,\n",
    "        '게스트_불호': non_guest_count\n",
    "    })\n",
    "\n",
    "# 결과를 데이터프레임으로 변환\n",
    "result2_df = pd.DataFrame(results)\n",
    "\n",
    "# 결과 출력\n",
    "print(result2_df)"
   ]
  },
  {
   "cell_type": "code",
   "execution_count": 38,
   "metadata": {},
   "outputs": [
    {
     "data": {
      "application/vnd.plotly.v1+json": {
       "config": {
        "plotlyServerURL": "https://plot.ly"
       },
       "data": [
        {
         "alignmentgroup": "True",
         "hovertemplate": "Category=%{x}<br>Count=%{y}<extra></extra>",
         "legendgroup": "게스트_선호",
         "marker": {
          "color": "#FF5A5F",
          "pattern": {
           "shape": ""
          }
         },
         "name": "게스트_선호",
         "offsetgroup": "게스트_선호",
         "orientation": "v",
         "showlegend": true,
         "textposition": "auto",
         "type": "bar",
         "x": [
          "게스트_선호"
         ],
         "xaxis": "x",
         "y": [
          740
         ],
         "yaxis": "y"
        },
        {
         "alignmentgroup": "True",
         "hovertemplate": "Category=%{x}<br>Count=%{y}<extra></extra>",
         "legendgroup": "게스트_불호",
         "marker": {
          "color": "#00A699",
          "pattern": {
           "shape": ""
          }
         },
         "name": "게스트_불호",
         "offsetgroup": "게스트_불호",
         "orientation": "v",
         "showlegend": true,
         "textposition": "auto",
         "type": "bar",
         "x": [
          "게스트_불호"
         ],
         "xaxis": "x",
         "y": [
          620
         ],
         "yaxis": "y"
        }
       ],
       "layout": {
        "barmode": "relative",
        "font": {
         "family": "NanumSquare"
        },
        "legend": {
         "title": {
          "text": "Category"
         },
         "tracegroupgap": 0
        },
        "template": {
         "data": {
          "bar": [
           {
            "error_x": {
             "color": "#2a3f5f"
            },
            "error_y": {
             "color": "#2a3f5f"
            },
            "marker": {
             "line": {
              "color": "#E5ECF6",
              "width": 0.5
             },
             "pattern": {
              "fillmode": "overlay",
              "size": 10,
              "solidity": 0.2
             }
            },
            "type": "bar"
           }
          ],
          "barpolar": [
           {
            "marker": {
             "line": {
              "color": "#E5ECF6",
              "width": 0.5
             },
             "pattern": {
              "fillmode": "overlay",
              "size": 10,
              "solidity": 0.2
             }
            },
            "type": "barpolar"
           }
          ],
          "carpet": [
           {
            "aaxis": {
             "endlinecolor": "#2a3f5f",
             "gridcolor": "white",
             "linecolor": "white",
             "minorgridcolor": "white",
             "startlinecolor": "#2a3f5f"
            },
            "baxis": {
             "endlinecolor": "#2a3f5f",
             "gridcolor": "white",
             "linecolor": "white",
             "minorgridcolor": "white",
             "startlinecolor": "#2a3f5f"
            },
            "type": "carpet"
           }
          ],
          "choropleth": [
           {
            "colorbar": {
             "outlinewidth": 0,
             "ticks": ""
            },
            "type": "choropleth"
           }
          ],
          "contour": [
           {
            "colorbar": {
             "outlinewidth": 0,
             "ticks": ""
            },
            "colorscale": [
             [
              0,
              "#0d0887"
             ],
             [
              0.1111111111111111,
              "#46039f"
             ],
             [
              0.2222222222222222,
              "#7201a8"
             ],
             [
              0.3333333333333333,
              "#9c179e"
             ],
             [
              0.4444444444444444,
              "#bd3786"
             ],
             [
              0.5555555555555556,
              "#d8576b"
             ],
             [
              0.6666666666666666,
              "#ed7953"
             ],
             [
              0.7777777777777778,
              "#fb9f3a"
             ],
             [
              0.8888888888888888,
              "#fdca26"
             ],
             [
              1,
              "#f0f921"
             ]
            ],
            "type": "contour"
           }
          ],
          "contourcarpet": [
           {
            "colorbar": {
             "outlinewidth": 0,
             "ticks": ""
            },
            "type": "contourcarpet"
           }
          ],
          "heatmap": [
           {
            "colorbar": {
             "outlinewidth": 0,
             "ticks": ""
            },
            "colorscale": [
             [
              0,
              "#0d0887"
             ],
             [
              0.1111111111111111,
              "#46039f"
             ],
             [
              0.2222222222222222,
              "#7201a8"
             ],
             [
              0.3333333333333333,
              "#9c179e"
             ],
             [
              0.4444444444444444,
              "#bd3786"
             ],
             [
              0.5555555555555556,
              "#d8576b"
             ],
             [
              0.6666666666666666,
              "#ed7953"
             ],
             [
              0.7777777777777778,
              "#fb9f3a"
             ],
             [
              0.8888888888888888,
              "#fdca26"
             ],
             [
              1,
              "#f0f921"
             ]
            ],
            "type": "heatmap"
           }
          ],
          "heatmapgl": [
           {
            "colorbar": {
             "outlinewidth": 0,
             "ticks": ""
            },
            "colorscale": [
             [
              0,
              "#0d0887"
             ],
             [
              0.1111111111111111,
              "#46039f"
             ],
             [
              0.2222222222222222,
              "#7201a8"
             ],
             [
              0.3333333333333333,
              "#9c179e"
             ],
             [
              0.4444444444444444,
              "#bd3786"
             ],
             [
              0.5555555555555556,
              "#d8576b"
             ],
             [
              0.6666666666666666,
              "#ed7953"
             ],
             [
              0.7777777777777778,
              "#fb9f3a"
             ],
             [
              0.8888888888888888,
              "#fdca26"
             ],
             [
              1,
              "#f0f921"
             ]
            ],
            "type": "heatmapgl"
           }
          ],
          "histogram": [
           {
            "marker": {
             "pattern": {
              "fillmode": "overlay",
              "size": 10,
              "solidity": 0.2
             }
            },
            "type": "histogram"
           }
          ],
          "histogram2d": [
           {
            "colorbar": {
             "outlinewidth": 0,
             "ticks": ""
            },
            "colorscale": [
             [
              0,
              "#0d0887"
             ],
             [
              0.1111111111111111,
              "#46039f"
             ],
             [
              0.2222222222222222,
              "#7201a8"
             ],
             [
              0.3333333333333333,
              "#9c179e"
             ],
             [
              0.4444444444444444,
              "#bd3786"
             ],
             [
              0.5555555555555556,
              "#d8576b"
             ],
             [
              0.6666666666666666,
              "#ed7953"
             ],
             [
              0.7777777777777778,
              "#fb9f3a"
             ],
             [
              0.8888888888888888,
              "#fdca26"
             ],
             [
              1,
              "#f0f921"
             ]
            ],
            "type": "histogram2d"
           }
          ],
          "histogram2dcontour": [
           {
            "colorbar": {
             "outlinewidth": 0,
             "ticks": ""
            },
            "colorscale": [
             [
              0,
              "#0d0887"
             ],
             [
              0.1111111111111111,
              "#46039f"
             ],
             [
              0.2222222222222222,
              "#7201a8"
             ],
             [
              0.3333333333333333,
              "#9c179e"
             ],
             [
              0.4444444444444444,
              "#bd3786"
             ],
             [
              0.5555555555555556,
              "#d8576b"
             ],
             [
              0.6666666666666666,
              "#ed7953"
             ],
             [
              0.7777777777777778,
              "#fb9f3a"
             ],
             [
              0.8888888888888888,
              "#fdca26"
             ],
             [
              1,
              "#f0f921"
             ]
            ],
            "type": "histogram2dcontour"
           }
          ],
          "mesh3d": [
           {
            "colorbar": {
             "outlinewidth": 0,
             "ticks": ""
            },
            "type": "mesh3d"
           }
          ],
          "parcoords": [
           {
            "line": {
             "colorbar": {
              "outlinewidth": 0,
              "ticks": ""
             }
            },
            "type": "parcoords"
           }
          ],
          "pie": [
           {
            "automargin": true,
            "type": "pie"
           }
          ],
          "scatter": [
           {
            "fillpattern": {
             "fillmode": "overlay",
             "size": 10,
             "solidity": 0.2
            },
            "type": "scatter"
           }
          ],
          "scatter3d": [
           {
            "line": {
             "colorbar": {
              "outlinewidth": 0,
              "ticks": ""
             }
            },
            "marker": {
             "colorbar": {
              "outlinewidth": 0,
              "ticks": ""
             }
            },
            "type": "scatter3d"
           }
          ],
          "scattercarpet": [
           {
            "marker": {
             "colorbar": {
              "outlinewidth": 0,
              "ticks": ""
             }
            },
            "type": "scattercarpet"
           }
          ],
          "scattergeo": [
           {
            "marker": {
             "colorbar": {
              "outlinewidth": 0,
              "ticks": ""
             }
            },
            "type": "scattergeo"
           }
          ],
          "scattergl": [
           {
            "marker": {
             "colorbar": {
              "outlinewidth": 0,
              "ticks": ""
             }
            },
            "type": "scattergl"
           }
          ],
          "scattermapbox": [
           {
            "marker": {
             "colorbar": {
              "outlinewidth": 0,
              "ticks": ""
             }
            },
            "type": "scattermapbox"
           }
          ],
          "scatterpolar": [
           {
            "marker": {
             "colorbar": {
              "outlinewidth": 0,
              "ticks": ""
             }
            },
            "type": "scatterpolar"
           }
          ],
          "scatterpolargl": [
           {
            "marker": {
             "colorbar": {
              "outlinewidth": 0,
              "ticks": ""
             }
            },
            "type": "scatterpolargl"
           }
          ],
          "scatterternary": [
           {
            "marker": {
             "colorbar": {
              "outlinewidth": 0,
              "ticks": ""
             }
            },
            "type": "scatterternary"
           }
          ],
          "surface": [
           {
            "colorbar": {
             "outlinewidth": 0,
             "ticks": ""
            },
            "colorscale": [
             [
              0,
              "#0d0887"
             ],
             [
              0.1111111111111111,
              "#46039f"
             ],
             [
              0.2222222222222222,
              "#7201a8"
             ],
             [
              0.3333333333333333,
              "#9c179e"
             ],
             [
              0.4444444444444444,
              "#bd3786"
             ],
             [
              0.5555555555555556,
              "#d8576b"
             ],
             [
              0.6666666666666666,
              "#ed7953"
             ],
             [
              0.7777777777777778,
              "#fb9f3a"
             ],
             [
              0.8888888888888888,
              "#fdca26"
             ],
             [
              1,
              "#f0f921"
             ]
            ],
            "type": "surface"
           }
          ],
          "table": [
           {
            "cells": {
             "fill": {
              "color": "#EBF0F8"
             },
             "line": {
              "color": "white"
             }
            },
            "header": {
             "fill": {
              "color": "#C8D4E3"
             },
             "line": {
              "color": "white"
             }
            },
            "type": "table"
           }
          ]
         },
         "layout": {
          "annotationdefaults": {
           "arrowcolor": "#2a3f5f",
           "arrowhead": 0,
           "arrowwidth": 1
          },
          "autotypenumbers": "strict",
          "coloraxis": {
           "colorbar": {
            "outlinewidth": 0,
            "ticks": ""
           }
          },
          "colorscale": {
           "diverging": [
            [
             0,
             "#8e0152"
            ],
            [
             0.1,
             "#c51b7d"
            ],
            [
             0.2,
             "#de77ae"
            ],
            [
             0.3,
             "#f1b6da"
            ],
            [
             0.4,
             "#fde0ef"
            ],
            [
             0.5,
             "#f7f7f7"
            ],
            [
             0.6,
             "#e6f5d0"
            ],
            [
             0.7,
             "#b8e186"
            ],
            [
             0.8,
             "#7fbc41"
            ],
            [
             0.9,
             "#4d9221"
            ],
            [
             1,
             "#276419"
            ]
           ],
           "sequential": [
            [
             0,
             "#0d0887"
            ],
            [
             0.1111111111111111,
             "#46039f"
            ],
            [
             0.2222222222222222,
             "#7201a8"
            ],
            [
             0.3333333333333333,
             "#9c179e"
            ],
            [
             0.4444444444444444,
             "#bd3786"
            ],
            [
             0.5555555555555556,
             "#d8576b"
            ],
            [
             0.6666666666666666,
             "#ed7953"
            ],
            [
             0.7777777777777778,
             "#fb9f3a"
            ],
            [
             0.8888888888888888,
             "#fdca26"
            ],
            [
             1,
             "#f0f921"
            ]
           ],
           "sequentialminus": [
            [
             0,
             "#0d0887"
            ],
            [
             0.1111111111111111,
             "#46039f"
            ],
            [
             0.2222222222222222,
             "#7201a8"
            ],
            [
             0.3333333333333333,
             "#9c179e"
            ],
            [
             0.4444444444444444,
             "#bd3786"
            ],
            [
             0.5555555555555556,
             "#d8576b"
            ],
            [
             0.6666666666666666,
             "#ed7953"
            ],
            [
             0.7777777777777778,
             "#fb9f3a"
            ],
            [
             0.8888888888888888,
             "#fdca26"
            ],
            [
             1,
             "#f0f921"
            ]
           ]
          },
          "colorway": [
           "#636efa",
           "#EF553B",
           "#00cc96",
           "#ab63fa",
           "#FFA15A",
           "#19d3f3",
           "#FF6692",
           "#B6E880",
           "#FF97FF",
           "#FECB52"
          ],
          "font": {
           "color": "#2a3f5f"
          },
          "geo": {
           "bgcolor": "white",
           "lakecolor": "white",
           "landcolor": "#E5ECF6",
           "showlakes": true,
           "showland": true,
           "subunitcolor": "white"
          },
          "hoverlabel": {
           "align": "left"
          },
          "hovermode": "closest",
          "mapbox": {
           "style": "light"
          },
          "paper_bgcolor": "white",
          "plot_bgcolor": "#E5ECF6",
          "polar": {
           "angularaxis": {
            "gridcolor": "white",
            "linecolor": "white",
            "ticks": ""
           },
           "bgcolor": "#E5ECF6",
           "radialaxis": {
            "gridcolor": "white",
            "linecolor": "white",
            "ticks": ""
           }
          },
          "scene": {
           "xaxis": {
            "backgroundcolor": "#E5ECF6",
            "gridcolor": "white",
            "gridwidth": 2,
            "linecolor": "white",
            "showbackground": true,
            "ticks": "",
            "zerolinecolor": "white"
           },
           "yaxis": {
            "backgroundcolor": "#E5ECF6",
            "gridcolor": "white",
            "gridwidth": 2,
            "linecolor": "white",
            "showbackground": true,
            "ticks": "",
            "zerolinecolor": "white"
           },
           "zaxis": {
            "backgroundcolor": "#E5ECF6",
            "gridcolor": "white",
            "gridwidth": 2,
            "linecolor": "white",
            "showbackground": true,
            "ticks": "",
            "zerolinecolor": "white"
           }
          },
          "shapedefaults": {
           "line": {
            "color": "#2a3f5f"
           }
          },
          "ternary": {
           "aaxis": {
            "gridcolor": "white",
            "linecolor": "white",
            "ticks": ""
           },
           "baxis": {
            "gridcolor": "white",
            "linecolor": "white",
            "ticks": ""
           },
           "bgcolor": "#E5ECF6",
           "caxis": {
            "gridcolor": "white",
            "linecolor": "white",
            "ticks": ""
           }
          },
          "title": {
           "x": 0.05
          },
          "xaxis": {
           "automargin": true,
           "gridcolor": "white",
           "linecolor": "white",
           "ticks": "",
           "title": {
            "standoff": 15
           },
           "zerolinecolor": "white",
           "zerolinewidth": 2
          },
          "yaxis": {
           "automargin": true,
           "gridcolor": "white",
           "linecolor": "white",
           "ticks": "",
           "title": {
            "standoff": 15
           },
           "zerolinecolor": "white",
           "zerolinewidth": 2
          }
         }
        },
        "title": {
         "text": "랜드마크 1km 내 숙소수"
        },
        "xaxis": {
         "anchor": "y",
         "categoryarray": [
          "게스트_선호",
          "게스트_불호"
         ],
         "categoryorder": "array",
         "domain": [
          0,
          1
         ],
         "title": {
          "text": "Category"
         }
        },
        "yaxis": {
         "anchor": "x",
         "domain": [
          0,
          1
         ],
         "title": {
          "text": "Count"
         }
        }
       }
      }
     },
     "metadata": {},
     "output_type": "display_data"
    }
   ],
   "source": [
    "\n",
    "import plotly.express as px\n",
    "# 게스트 선호와 불호 각각 합계 계산\n",
    "guest_sum = result1_df['게스트_선호'].sum()\n",
    "non_guest_sum = result1_df['게스트_불호'].sum()\n",
    "\n",
    "# 합계를 데이터프레임으로 변환\n",
    "sum_df = pd.DataFrame({\n",
    "    'Category': ['게스트_선호', '게스트_불호'],\n",
    "    'Count': [guest_sum, non_guest_sum]\n",
    "})\n",
    "\n",
    "# 색상 정의\n",
    "colors = {\n",
    "    '게스트_선호': '#FF5A5F',\n",
    "    '게스트_불호': '#00A699'\n",
    "}\n",
    "\n",
    "# 시각화\n",
    "fig = px.bar(sum_df, x='Category', y='Count', title='랜드마크 1km 내 숙소수',\n",
    "             color='Category', color_discrete_map=colors)\n",
    "\n",
    "# 폰트 설정\n",
    "fig.update_layout(font=dict(family='NanumSquare'))\n",
    "\n",
    "# 그래프 출력\n",
    "fig.show()"
   ]
  },
  {
   "cell_type": "code",
   "execution_count": 39,
   "metadata": {},
   "outputs": [
    {
     "data": {
      "application/vnd.plotly.v1+json": {
       "config": {
        "plotlyServerURL": "https://plot.ly"
       },
       "data": [
        {
         "alignmentgroup": "True",
         "hovertemplate": "Category=%{x}<br>Count=%{y}<extra></extra>",
         "legendgroup": "게스트_선호",
         "marker": {
          "color": "#FF5A5F",
          "pattern": {
           "shape": ""
          }
         },
         "name": "게스트_선호",
         "offsetgroup": "게스트_선호",
         "orientation": "v",
         "showlegend": true,
         "textposition": "auto",
         "type": "bar",
         "x": [
          "게스트_선호"
         ],
         "xaxis": "x",
         "y": [
          11029
         ],
         "yaxis": "y"
        },
        {
         "alignmentgroup": "True",
         "hovertemplate": "Category=%{x}<br>Count=%{y}<extra></extra>",
         "legendgroup": "게스트_불호",
         "marker": {
          "color": "#00A699",
          "pattern": {
           "shape": ""
          }
         },
         "name": "게스트_불호",
         "offsetgroup": "게스트_불호",
         "orientation": "v",
         "showlegend": true,
         "textposition": "auto",
         "type": "bar",
         "x": [
          "게스트_불호"
         ],
         "xaxis": "x",
         "y": [
          11188
         ],
         "yaxis": "y"
        }
       ],
       "layout": {
        "barmode": "relative",
        "font": {
         "family": "NanumSquare"
        },
        "legend": {
         "title": {
          "text": "Category"
         },
         "tracegroupgap": 0
        },
        "template": {
         "data": {
          "bar": [
           {
            "error_x": {
             "color": "#2a3f5f"
            },
            "error_y": {
             "color": "#2a3f5f"
            },
            "marker": {
             "line": {
              "color": "#E5ECF6",
              "width": 0.5
             },
             "pattern": {
              "fillmode": "overlay",
              "size": 10,
              "solidity": 0.2
             }
            },
            "type": "bar"
           }
          ],
          "barpolar": [
           {
            "marker": {
             "line": {
              "color": "#E5ECF6",
              "width": 0.5
             },
             "pattern": {
              "fillmode": "overlay",
              "size": 10,
              "solidity": 0.2
             }
            },
            "type": "barpolar"
           }
          ],
          "carpet": [
           {
            "aaxis": {
             "endlinecolor": "#2a3f5f",
             "gridcolor": "white",
             "linecolor": "white",
             "minorgridcolor": "white",
             "startlinecolor": "#2a3f5f"
            },
            "baxis": {
             "endlinecolor": "#2a3f5f",
             "gridcolor": "white",
             "linecolor": "white",
             "minorgridcolor": "white",
             "startlinecolor": "#2a3f5f"
            },
            "type": "carpet"
           }
          ],
          "choropleth": [
           {
            "colorbar": {
             "outlinewidth": 0,
             "ticks": ""
            },
            "type": "choropleth"
           }
          ],
          "contour": [
           {
            "colorbar": {
             "outlinewidth": 0,
             "ticks": ""
            },
            "colorscale": [
             [
              0,
              "#0d0887"
             ],
             [
              0.1111111111111111,
              "#46039f"
             ],
             [
              0.2222222222222222,
              "#7201a8"
             ],
             [
              0.3333333333333333,
              "#9c179e"
             ],
             [
              0.4444444444444444,
              "#bd3786"
             ],
             [
              0.5555555555555556,
              "#d8576b"
             ],
             [
              0.6666666666666666,
              "#ed7953"
             ],
             [
              0.7777777777777778,
              "#fb9f3a"
             ],
             [
              0.8888888888888888,
              "#fdca26"
             ],
             [
              1,
              "#f0f921"
             ]
            ],
            "type": "contour"
           }
          ],
          "contourcarpet": [
           {
            "colorbar": {
             "outlinewidth": 0,
             "ticks": ""
            },
            "type": "contourcarpet"
           }
          ],
          "heatmap": [
           {
            "colorbar": {
             "outlinewidth": 0,
             "ticks": ""
            },
            "colorscale": [
             [
              0,
              "#0d0887"
             ],
             [
              0.1111111111111111,
              "#46039f"
             ],
             [
              0.2222222222222222,
              "#7201a8"
             ],
             [
              0.3333333333333333,
              "#9c179e"
             ],
             [
              0.4444444444444444,
              "#bd3786"
             ],
             [
              0.5555555555555556,
              "#d8576b"
             ],
             [
              0.6666666666666666,
              "#ed7953"
             ],
             [
              0.7777777777777778,
              "#fb9f3a"
             ],
             [
              0.8888888888888888,
              "#fdca26"
             ],
             [
              1,
              "#f0f921"
             ]
            ],
            "type": "heatmap"
           }
          ],
          "heatmapgl": [
           {
            "colorbar": {
             "outlinewidth": 0,
             "ticks": ""
            },
            "colorscale": [
             [
              0,
              "#0d0887"
             ],
             [
              0.1111111111111111,
              "#46039f"
             ],
             [
              0.2222222222222222,
              "#7201a8"
             ],
             [
              0.3333333333333333,
              "#9c179e"
             ],
             [
              0.4444444444444444,
              "#bd3786"
             ],
             [
              0.5555555555555556,
              "#d8576b"
             ],
             [
              0.6666666666666666,
              "#ed7953"
             ],
             [
              0.7777777777777778,
              "#fb9f3a"
             ],
             [
              0.8888888888888888,
              "#fdca26"
             ],
             [
              1,
              "#f0f921"
             ]
            ],
            "type": "heatmapgl"
           }
          ],
          "histogram": [
           {
            "marker": {
             "pattern": {
              "fillmode": "overlay",
              "size": 10,
              "solidity": 0.2
             }
            },
            "type": "histogram"
           }
          ],
          "histogram2d": [
           {
            "colorbar": {
             "outlinewidth": 0,
             "ticks": ""
            },
            "colorscale": [
             [
              0,
              "#0d0887"
             ],
             [
              0.1111111111111111,
              "#46039f"
             ],
             [
              0.2222222222222222,
              "#7201a8"
             ],
             [
              0.3333333333333333,
              "#9c179e"
             ],
             [
              0.4444444444444444,
              "#bd3786"
             ],
             [
              0.5555555555555556,
              "#d8576b"
             ],
             [
              0.6666666666666666,
              "#ed7953"
             ],
             [
              0.7777777777777778,
              "#fb9f3a"
             ],
             [
              0.8888888888888888,
              "#fdca26"
             ],
             [
              1,
              "#f0f921"
             ]
            ],
            "type": "histogram2d"
           }
          ],
          "histogram2dcontour": [
           {
            "colorbar": {
             "outlinewidth": 0,
             "ticks": ""
            },
            "colorscale": [
             [
              0,
              "#0d0887"
             ],
             [
              0.1111111111111111,
              "#46039f"
             ],
             [
              0.2222222222222222,
              "#7201a8"
             ],
             [
              0.3333333333333333,
              "#9c179e"
             ],
             [
              0.4444444444444444,
              "#bd3786"
             ],
             [
              0.5555555555555556,
              "#d8576b"
             ],
             [
              0.6666666666666666,
              "#ed7953"
             ],
             [
              0.7777777777777778,
              "#fb9f3a"
             ],
             [
              0.8888888888888888,
              "#fdca26"
             ],
             [
              1,
              "#f0f921"
             ]
            ],
            "type": "histogram2dcontour"
           }
          ],
          "mesh3d": [
           {
            "colorbar": {
             "outlinewidth": 0,
             "ticks": ""
            },
            "type": "mesh3d"
           }
          ],
          "parcoords": [
           {
            "line": {
             "colorbar": {
              "outlinewidth": 0,
              "ticks": ""
             }
            },
            "type": "parcoords"
           }
          ],
          "pie": [
           {
            "automargin": true,
            "type": "pie"
           }
          ],
          "scatter": [
           {
            "fillpattern": {
             "fillmode": "overlay",
             "size": 10,
             "solidity": 0.2
            },
            "type": "scatter"
           }
          ],
          "scatter3d": [
           {
            "line": {
             "colorbar": {
              "outlinewidth": 0,
              "ticks": ""
             }
            },
            "marker": {
             "colorbar": {
              "outlinewidth": 0,
              "ticks": ""
             }
            },
            "type": "scatter3d"
           }
          ],
          "scattercarpet": [
           {
            "marker": {
             "colorbar": {
              "outlinewidth": 0,
              "ticks": ""
             }
            },
            "type": "scattercarpet"
           }
          ],
          "scattergeo": [
           {
            "marker": {
             "colorbar": {
              "outlinewidth": 0,
              "ticks": ""
             }
            },
            "type": "scattergeo"
           }
          ],
          "scattergl": [
           {
            "marker": {
             "colorbar": {
              "outlinewidth": 0,
              "ticks": ""
             }
            },
            "type": "scattergl"
           }
          ],
          "scattermapbox": [
           {
            "marker": {
             "colorbar": {
              "outlinewidth": 0,
              "ticks": ""
             }
            },
            "type": "scattermapbox"
           }
          ],
          "scatterpolar": [
           {
            "marker": {
             "colorbar": {
              "outlinewidth": 0,
              "ticks": ""
             }
            },
            "type": "scatterpolar"
           }
          ],
          "scatterpolargl": [
           {
            "marker": {
             "colorbar": {
              "outlinewidth": 0,
              "ticks": ""
             }
            },
            "type": "scatterpolargl"
           }
          ],
          "scatterternary": [
           {
            "marker": {
             "colorbar": {
              "outlinewidth": 0,
              "ticks": ""
             }
            },
            "type": "scatterternary"
           }
          ],
          "surface": [
           {
            "colorbar": {
             "outlinewidth": 0,
             "ticks": ""
            },
            "colorscale": [
             [
              0,
              "#0d0887"
             ],
             [
              0.1111111111111111,
              "#46039f"
             ],
             [
              0.2222222222222222,
              "#7201a8"
             ],
             [
              0.3333333333333333,
              "#9c179e"
             ],
             [
              0.4444444444444444,
              "#bd3786"
             ],
             [
              0.5555555555555556,
              "#d8576b"
             ],
             [
              0.6666666666666666,
              "#ed7953"
             ],
             [
              0.7777777777777778,
              "#fb9f3a"
             ],
             [
              0.8888888888888888,
              "#fdca26"
             ],
             [
              1,
              "#f0f921"
             ]
            ],
            "type": "surface"
           }
          ],
          "table": [
           {
            "cells": {
             "fill": {
              "color": "#EBF0F8"
             },
             "line": {
              "color": "white"
             }
            },
            "header": {
             "fill": {
              "color": "#C8D4E3"
             },
             "line": {
              "color": "white"
             }
            },
            "type": "table"
           }
          ]
         },
         "layout": {
          "annotationdefaults": {
           "arrowcolor": "#2a3f5f",
           "arrowhead": 0,
           "arrowwidth": 1
          },
          "autotypenumbers": "strict",
          "coloraxis": {
           "colorbar": {
            "outlinewidth": 0,
            "ticks": ""
           }
          },
          "colorscale": {
           "diverging": [
            [
             0,
             "#8e0152"
            ],
            [
             0.1,
             "#c51b7d"
            ],
            [
             0.2,
             "#de77ae"
            ],
            [
             0.3,
             "#f1b6da"
            ],
            [
             0.4,
             "#fde0ef"
            ],
            [
             0.5,
             "#f7f7f7"
            ],
            [
             0.6,
             "#e6f5d0"
            ],
            [
             0.7,
             "#b8e186"
            ],
            [
             0.8,
             "#7fbc41"
            ],
            [
             0.9,
             "#4d9221"
            ],
            [
             1,
             "#276419"
            ]
           ],
           "sequential": [
            [
             0,
             "#0d0887"
            ],
            [
             0.1111111111111111,
             "#46039f"
            ],
            [
             0.2222222222222222,
             "#7201a8"
            ],
            [
             0.3333333333333333,
             "#9c179e"
            ],
            [
             0.4444444444444444,
             "#bd3786"
            ],
            [
             0.5555555555555556,
             "#d8576b"
            ],
            [
             0.6666666666666666,
             "#ed7953"
            ],
            [
             0.7777777777777778,
             "#fb9f3a"
            ],
            [
             0.8888888888888888,
             "#fdca26"
            ],
            [
             1,
             "#f0f921"
            ]
           ],
           "sequentialminus": [
            [
             0,
             "#0d0887"
            ],
            [
             0.1111111111111111,
             "#46039f"
            ],
            [
             0.2222222222222222,
             "#7201a8"
            ],
            [
             0.3333333333333333,
             "#9c179e"
            ],
            [
             0.4444444444444444,
             "#bd3786"
            ],
            [
             0.5555555555555556,
             "#d8576b"
            ],
            [
             0.6666666666666666,
             "#ed7953"
            ],
            [
             0.7777777777777778,
             "#fb9f3a"
            ],
            [
             0.8888888888888888,
             "#fdca26"
            ],
            [
             1,
             "#f0f921"
            ]
           ]
          },
          "colorway": [
           "#636efa",
           "#EF553B",
           "#00cc96",
           "#ab63fa",
           "#FFA15A",
           "#19d3f3",
           "#FF6692",
           "#B6E880",
           "#FF97FF",
           "#FECB52"
          ],
          "font": {
           "color": "#2a3f5f"
          },
          "geo": {
           "bgcolor": "white",
           "lakecolor": "white",
           "landcolor": "#E5ECF6",
           "showlakes": true,
           "showland": true,
           "subunitcolor": "white"
          },
          "hoverlabel": {
           "align": "left"
          },
          "hovermode": "closest",
          "mapbox": {
           "style": "light"
          },
          "paper_bgcolor": "white",
          "plot_bgcolor": "#E5ECF6",
          "polar": {
           "angularaxis": {
            "gridcolor": "white",
            "linecolor": "white",
            "ticks": ""
           },
           "bgcolor": "#E5ECF6",
           "radialaxis": {
            "gridcolor": "white",
            "linecolor": "white",
            "ticks": ""
           }
          },
          "scene": {
           "xaxis": {
            "backgroundcolor": "#E5ECF6",
            "gridcolor": "white",
            "gridwidth": 2,
            "linecolor": "white",
            "showbackground": true,
            "ticks": "",
            "zerolinecolor": "white"
           },
           "yaxis": {
            "backgroundcolor": "#E5ECF6",
            "gridcolor": "white",
            "gridwidth": 2,
            "linecolor": "white",
            "showbackground": true,
            "ticks": "",
            "zerolinecolor": "white"
           },
           "zaxis": {
            "backgroundcolor": "#E5ECF6",
            "gridcolor": "white",
            "gridwidth": 2,
            "linecolor": "white",
            "showbackground": true,
            "ticks": "",
            "zerolinecolor": "white"
           }
          },
          "shapedefaults": {
           "line": {
            "color": "#2a3f5f"
           }
          },
          "ternary": {
           "aaxis": {
            "gridcolor": "white",
            "linecolor": "white",
            "ticks": ""
           },
           "baxis": {
            "gridcolor": "white",
            "linecolor": "white",
            "ticks": ""
           },
           "bgcolor": "#E5ECF6",
           "caxis": {
            "gridcolor": "white",
            "linecolor": "white",
            "ticks": ""
           }
          },
          "title": {
           "x": 0.05
          },
          "xaxis": {
           "automargin": true,
           "gridcolor": "white",
           "linecolor": "white",
           "ticks": "",
           "title": {
            "standoff": 15
           },
           "zerolinecolor": "white",
           "zerolinewidth": 2
          },
          "yaxis": {
           "automargin": true,
           "gridcolor": "white",
           "linecolor": "white",
           "ticks": "",
           "title": {
            "standoff": 15
           },
           "zerolinecolor": "white",
           "zerolinewidth": 2
          }
         }
        },
        "title": {
         "text": "역 500m 숙소수"
        },
        "xaxis": {
         "anchor": "y",
         "categoryarray": [
          "게스트_선호",
          "게스트_불호"
         ],
         "categoryorder": "array",
         "domain": [
          0,
          1
         ],
         "title": {
          "text": "Category"
         }
        },
        "yaxis": {
         "anchor": "x",
         "domain": [
          0,
          1
         ],
         "title": {
          "text": "Count"
         }
        }
       }
      }
     },
     "metadata": {},
     "output_type": "display_data"
    }
   ],
   "source": [
    "\n",
    "import plotly.express as px\n",
    "# 게스트 선호와 불호 각각 합계 계산\n",
    "guest_sum = result2_df['게스트_선호'].sum()\n",
    "non_guest_sum = result2_df['게스트_불호'].sum()\n",
    "\n",
    "# 합계를 데이터프레임으로 변환\n",
    "sum_df = pd.DataFrame({\n",
    "    'Category': ['게스트_선호', '게스트_불호'],\n",
    "    'Count': [guest_sum, non_guest_sum]\n",
    "})\n",
    "\n",
    "# 색상 정의\n",
    "colors = {\n",
    "    '게스트_선호': '#FF5A5F',\n",
    "    '게스트_불호': '#00A699'\n",
    "}\n",
    "\n",
    "# 시각화\n",
    "fig = px.bar(sum_df, x='Category', y='Count', title='역 500m 숙소수',\n",
    "             color='Category', color_discrete_map=colors)\n",
    "\n",
    "# 폰트 설정\n",
    "fig.update_layout(font=dict(family='NanumSquare'))\n",
    "\n",
    "# 그래프 출력\n",
    "fig.show()"
   ]
  },
  {
   "cell_type": "code",
   "execution_count": 40,
   "metadata": {},
   "outputs": [],
   "source": [
    "result1_df.to_csv('./check_paris.csv')"
   ]
  },
  {
   "cell_type": "code",
   "execution_count": 41,
   "metadata": {},
   "outputs": [],
   "source": [
    "result2_df.to_csv('./check_paris2.csv')\n",
    "result1_df.to_csv('./check_paris.csv')"
   ]
  },
  {
   "cell_type": "code",
   "execution_count": null,
   "metadata": {},
   "outputs": [],
   "source": []
  }
 ],
 "metadata": {
  "kernelspec": {
   "display_name": "Python 3",
   "language": "python",
   "name": "python3"
  },
  "language_info": {
   "codemirror_mode": {
    "name": "ipython",
    "version": 3
   },
   "file_extension": ".py",
   "mimetype": "text/x-python",
   "name": "python",
   "nbconvert_exporter": "python",
   "pygments_lexer": "ipython3",
   "version": "3.10.9"
  }
 },
 "nbformat": 4,
 "nbformat_minor": 2
}
