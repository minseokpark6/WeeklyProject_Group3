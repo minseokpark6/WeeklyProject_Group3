{
 "cells": [
  {
   "cell_type": "code",
   "execution_count": 1,
   "metadata": {},
   "outputs": [],
   "source": [
    "import numpy as np\n",
    "import pandas as pd\n",
    "import matplotlib.pyplot as plt\n",
    "import seaborn as sns\n",
    "import matplotlib as mpl\n",
    "from matplotlib import font_manager, rc\n",
    "%matplotlib inline\n",
    "\n",
    "# 글꼴 경로 지정\n",
    "font_path = \"c:/Windows/Fonts/malgun.ttf\"  # 윈도우에 설치된 맑은 고딕 폰트 경로\n",
    "\n",
    "# 폰트 이름 얻어오기\n",
    "font_name = font_manager.FontProperties(fname=font_path).get_name()\n",
    "\n",
    "# matplotlib의 rc(run command) 기능을 이용하여 글꼴 설정\n",
    "mpl.rc('font', family=font_name)\n",
    "\n",
    "# 유니코드에서  음수 부호 설정\n",
    "mpl.rc('axes', unicode_minus=False)"
   ]
  },
  {
   "cell_type": "code",
   "execution_count": 2,
   "metadata": {},
   "outputs": [],
   "source": [
    "raw = pd.read_csv('../../../../datasets/paris_listings.csv')\n",
    "df = raw.copy()\n"
   ]
  },
  {
   "cell_type": "markdown",
   "metadata": {},
   "source": [
    "# 슈퍼호스트 결측치 제거(5%미만)\n",
    "- 84397  =>  84306\n",
    "# 리뷰수 = 0 제거\n",
    "- (리뷰수 =  0 > 리뷰 점수 x > 얻을 수 있는게 없음)\n",
    "- 84306  =>  58744 \n"
   ]
  },
  {
   "cell_type": "code",
   "execution_count": 3,
   "metadata": {},
   "outputs": [
    {
     "data": {
      "text/plain": [
       "0        $250.00\n",
       "1        $140.00\n",
       "2        $107.00\n",
       "3        $200.00\n",
       "4            NaN\n",
       "          ...   \n",
       "84392     $80.00\n",
       "84393    $167.00\n",
       "84394     $98.00\n",
       "84395    $296.00\n",
       "84396     $71.00\n",
       "Name: 숙소_가격, Length: 84397, dtype: object"
      ]
     },
     "execution_count": 3,
     "metadata": {},
     "output_type": "execute_result"
    }
   ],
   "source": [
    "df = df[['id', 'host_id','host_is_superhost',\n",
    "        'host_total_listings_count','neighbourhood_cleansed','room_type','accommodates','bathrooms','bedrooms',\n",
    "        'beds','amenities','price','minimum_nights','maximum_nights','number_of_reviews', 'number_of_reviews_l30d', 'review_scores_rating', 'review_scores_accuracy', \n",
    "        'review_scores_cleanliness', 'review_scores_checkin', 'review_scores_communication', \n",
    "        'review_scores_location', 'review_scores_value', 'reviews_per_month']]\n",
    "\n",
    "df = df.rename(columns= {\n",
    "    'id': '숙소_id',\n",
    "    'host_id': '호스트_id',\n",
    "    'host_is_superhost': '슈퍼호스트',\n",
    "    'host_total_listings_count': '숙소_수',\n",
    "    'neighbourhood_cleansed': '숙소_지역',\n",
    "    'room_type': '숙소_유형',\n",
    "    'accommodates': '수용인원수',\n",
    "    'bathrooms': '욕실수',\n",
    "    'bedrooms': '침실수',\n",
    "    'beds': '침대수',\n",
    "    'amenities': '편의시설',\n",
    "    'price': '숙소_가격',\n",
    "    'minimum_nights': '최소_숙박일',\n",
    "    'maximum_nights': '최대_숙박일',\n",
    "    'number_of_reviews': '리뷰수',\n",
    "    'number_of_reviews_l30d': '30일_리뷰수',\n",
    "    'review_scores_rating': '리뷰점수',\n",
    "    'review_scores_accuracy': '숙소_정확성_리뷰점수',\n",
    "    'review_scores_cleanliness': '숙소_청결도_리뷰점수',\n",
    "    'review_scores_checkin': '숙소_체크인_리뷰점수',\n",
    "    'review_scores_communication': '숙소_소통_리뷰점수',\n",
    "    'review_scores_location': '숙소_위치_리뷰점수',\n",
    "    'review_scores_value': '숙소_가격_리뷰점수',\n",
    "    'reviews_per_month': '평균_리뷰수'\n",
    "})\n",
    "\n",
    "df['url'] = raw['listing_url']\n",
    "\n",
    "df['숙소_가격']\n"
   ]
  },
  {
   "cell_type": "code",
   "execution_count": 4,
   "metadata": {},
   "outputs": [
    {
     "name": "stdout",
     "output_type": "stream",
     "text": [
      "84397\n",
      "84306\n"
     ]
    }
   ],
   "source": [
    "print(len(df))\n",
    "df = df[~df['슈퍼호스트'].isnull()]\n",
    "print(len(df))"
   ]
  },
  {
   "cell_type": "code",
   "execution_count": 5,
   "metadata": {},
   "outputs": [
    {
     "name": "stdout",
     "output_type": "stream",
     "text": [
      "58744\n"
     ]
    }
   ],
   "source": [
    "df = df[df['리뷰수']!=0]\n",
    "print(len(df))"
   ]
  },
  {
   "cell_type": "markdown",
   "metadata": {},
   "source": [
    "#  숙소가격 null값인 경우\n",
    "- 숙소가격 null 개수 : 16993\n",
    "- 욕실수            16951\n",
    "\n",
    "- 침실수             4963\n",
    "\n",
    "- 침대수            16951\n",
    "\n",
    "나머지는 5%미만"
   ]
  },
  {
   "cell_type": "code",
   "execution_count": 6,
   "metadata": {},
   "outputs": [
    {
     "name": "stdout",
     "output_type": "stream",
     "text": [
      "숙소가격 null 개수 : 16993\n"
     ]
    }
   ],
   "source": [
    "print(f\"숙소가격 null 개수 : {df['숙소_가격'].isnull().sum()}\")"
   ]
  },
  {
   "cell_type": "code",
   "execution_count": 7,
   "metadata": {},
   "outputs": [
    {
     "data": {
      "text/plain": [
       "숙소_id              0\n",
       "호스트_id             0\n",
       "슈퍼호스트              0\n",
       "숙소_수               0\n",
       "숙소_지역              0\n",
       "숙소_유형              0\n",
       "수용인원수              0\n",
       "욕실수            16951\n",
       "침실수             4963\n",
       "침대수            16951\n",
       "편의시설               0\n",
       "숙소_가격          16993\n",
       "최소_숙박일             0\n",
       "최대_숙박일             0\n",
       "리뷰수                0\n",
       "30일_리뷰수            0\n",
       "리뷰점수               0\n",
       "숙소_정확성_리뷰점수        9\n",
       "숙소_청결도_리뷰점수        7\n",
       "숙소_체크인_리뷰점수       16\n",
       "숙소_소통_리뷰점수         8\n",
       "숙소_위치_리뷰점수        14\n",
       "숙소_가격_리뷰점수        15\n",
       "평균_리뷰수             0\n",
       "url                0\n",
       "dtype: int64"
      ]
     },
     "execution_count": 7,
     "metadata": {},
     "output_type": "execute_result"
    }
   ],
   "source": [
    "df[df['숙소_가격'].isnull()].isnull().sum()"
   ]
  },
  {
   "cell_type": "markdown",
   "metadata": {},
   "source": [
    "# 숙소가격 값 있는 경우\n",
    "-  41751개\n",
    "\n",
    "- 전부 5%미만 제거 가능"
   ]
  },
  {
   "cell_type": "code",
   "execution_count": 8,
   "metadata": {},
   "outputs": [
    {
     "data": {
      "text/plain": [
       "41751"
      ]
     },
     "execution_count": 8,
     "metadata": {},
     "output_type": "execute_result"
    }
   ],
   "source": [
    "len(df[~df['숙소_가격'].isnull()])"
   ]
  },
  {
   "cell_type": "code",
   "execution_count": 9,
   "metadata": {},
   "outputs": [
    {
     "data": {
      "text/plain": [
       "숙소_id           0\n",
       "호스트_id          0\n",
       "슈퍼호스트           0\n",
       "숙소_수            0\n",
       "숙소_지역           0\n",
       "숙소_유형           0\n",
       "수용인원수           0\n",
       "욕실수            10\n",
       "침실수            45\n",
       "침대수            83\n",
       "편의시설            0\n",
       "숙소_가격           0\n",
       "최소_숙박일          0\n",
       "최대_숙박일          0\n",
       "리뷰수             0\n",
       "30일_리뷰수         0\n",
       "리뷰점수            0\n",
       "숙소_정확성_리뷰점수    25\n",
       "숙소_청결도_리뷰점수    23\n",
       "숙소_체크인_리뷰점수    27\n",
       "숙소_소통_리뷰점수     24\n",
       "숙소_위치_리뷰점수     26\n",
       "숙소_가격_리뷰점수     30\n",
       "평균_리뷰수          0\n",
       "url             0\n",
       "dtype: int64"
      ]
     },
     "execution_count": 9,
     "metadata": {},
     "output_type": "execute_result"
    }
   ],
   "source": [
    "df[~df['숙소_가격'].isnull()].isnull().sum()"
   ]
  },
  {
   "cell_type": "markdown",
   "metadata": {},
   "source": [
    "# 숙소_지역 별 가격"
   ]
  },
  {
   "cell_type": "code",
   "execution_count": 27,
   "metadata": {},
   "outputs": [
    {
     "data": {
      "text/plain": [
       "array(['Observatoire', 'Temple', 'Hôtel-de-Ville', 'Entrepôt', 'Louvre',\n",
       "       'Buttes-Montmartre', 'Opéra', 'Batignolles-Monceau', 'Passy',\n",
       "       'Élysée', 'Vaugirard', 'Bourse', 'Popincourt', 'Gobelins',\n",
       "       'Buttes-Chaumont', 'Panthéon', 'Luxembourg', 'Reuilly',\n",
       "       'Ménilmontant', 'Palais-Bourbon'], dtype=object)"
      ]
     },
     "execution_count": 27,
     "metadata": {},
     "output_type": "execute_result"
    }
   ],
   "source": [
    "check1['숙소_지역'].unique()"
   ]
  },
  {
   "cell_type": "code",
   "execution_count": 10,
   "metadata": {},
   "outputs": [
    {
     "name": "stderr",
     "output_type": "stream",
     "text": [
      "C:\\Users\\ciw96\\AppData\\Local\\Temp\\ipykernel_30840\\2726590358.py:5: SettingWithCopyWarning: \n",
      "A value is trying to be set on a copy of a slice from a DataFrame.\n",
      "Try using .loc[row_indexer,col_indexer] = value instead\n",
      "\n",
      "See the caveats in the documentation: https://pandas.pydata.org/pandas-docs/stable/user_guide/indexing.html#returning-a-view-versus-a-copy\n",
      "  check1['숙소_가격'] = check1['숙소_가격'].replace('[\\$,]', '', regex=True).astype(float)\n"
     ]
    },
    {
     "data": {
      "image/png": "[encoded data removed]",
      "text/plain": [
       "<Figure size 1500x1000 with 1 Axes>"
      ]
     },
     "metadata": {},
     "output_type": "display_data"
    }
   ],
   "source": [
    "#숙소가격 null값 제거\n",
    "check1= df[~df['숙소_가격'].isnull()]\n",
    "\n",
    "#가격 앞 통화기호 제거\n",
    "check1['숙소_가격'] = check1['숙소_가격'].replace('[\\$,]', '', regex=True).astype(float)\n",
    "\n",
    "# 지역별 평균 가격 계산\n",
    "average_prices = check1.groupby('숙소_지역')['숙소_가격'].mean().sort_values()\n",
    "\n",
    "# 평균 가격 시각화\n",
    "plt.figure(figsize=(15, 10))\n",
    "average_prices.plot(kind='bar')\n",
    "plt.title('지역별 평균 숙소 가격')\n",
    "plt.ylabel('평균 가격 ($)')\n",
    "plt.show()"
   ]
  },
  {
   "cell_type": "code",
   "execution_count": 11,
   "metadata": {},
   "outputs": [
    {
     "name": "stdout",
     "output_type": "stream",
     "text": [
      " 숙소 지역 평균 가격 \n",
      "숙소_지역\n",
      "Ménilmontant           139.145755\n",
      "Buttes-Chaumont        139.235858\n",
      "Buttes-Montmartre      155.177555\n",
      "Reuilly                160.138278\n",
      "Observatoire           171.171622\n",
      "Popincourt             178.066594\n",
      "Batignolles-Monceau    184.825720\n",
      "Entrepôt               184.926013\n",
      "Gobelins               194.334347\n",
      "Vaugirard              203.207112\n",
      "Opéra                  219.164740\n",
      "Bourse                 220.254051\n",
      "Hôtel-de-Ville         244.094569\n",
      "Panthéon               244.541042\n",
      "Temple                 252.568286\n",
      "Passy                  274.401444\n",
      "Louvre                 281.741877\n",
      "Luxembourg             291.631864\n",
      "Palais-Bourbon         310.489895\n",
      "Élysée                 321.526020\n",
      "Name: 숙소_가격, dtype: float64\n"
     ]
    }
   ],
   "source": [
    "print(f\" 숙소 지역 평균 가격 \\n{average_prices}\")\n"
   ]
  },
  {
   "cell_type": "code",
   "execution_count": 12,
   "metadata": {},
   "outputs": [
    {
     "name": "stdout",
     "output_type": "stream",
     "text": [
      " 숙소 유형 평균 가격 \n",
      "숙소_유형\n",
      "Shared room         75.600000\n",
      "Private room       145.454273\n",
      "Entire home/apt    212.793439\n",
      "Hotel room         274.474157\n",
      "Name: 숙소_가격, dtype: float64\n"
     ]
    }
   ],
   "source": [
    "average_prices = check1.groupby('숙소_유형')['숙소_가격'].mean().sort_values()\n",
    "print(f\" 숙소 유형 평균 가격 \\n{average_prices}\")\n"
   ]
  },
  {
   "cell_type": "markdown",
   "metadata": {},
   "source": [
    "# Anova분석 (숙소_가격, 숙소_지역)\n",
    "- 결과 : 관계있음"
   ]
  },
  {
   "cell_type": "code",
   "execution_count": 13,
   "metadata": {},
   "outputs": [
    {
     "name": "stdout",
     "output_type": "stream",
     "text": [
      "                sum_sq       df         F         PR(>F)\n",
      "숙소_지역     1.103898e+08     19.0  28.38907  1.499881e-101\n",
      "Residual  8.540496e+09  41731.0       NaN            NaN\n"
     ]
    }
   ],
   "source": [
    "import statsmodels.api as sm\n",
    "from statsmodels.formula.api import ols\n",
    "\n",
    "# ANOVA 모델 적합\n",
    "model = ols('숙소_가격 ~ 숙소_지역', data=check1).fit()\n",
    "anova_table = sm.stats.anova_lm(model, typ=2)\n",
    "\n",
    "# ANOVA 결과 출력\n",
    "print(anova_table)\n"
   ]
  },
  {
   "cell_type": "markdown",
   "metadata": {},
   "source": [
    "# Anova분석 (숙소_가격,숙소_유형)\n",
    "- 결과 : 관계있음"
   ]
  },
  {
   "cell_type": "code",
   "execution_count": 14,
   "metadata": {},
   "outputs": [
    {
     "name": "stdout",
     "output_type": "stream",
     "text": [
      "                sum_sq       df          F        PR(>F)\n",
      "숙소_유형     2.065147e+07      3.0  33.299087  1.733753e-21\n",
      "Residual  8.630234e+09  41747.0        NaN           NaN\n"
     ]
    }
   ],
   "source": [
    "# ANOVA 모델 적합\n",
    "model = ols('숙소_가격 ~ 숙소_유형', data=check1).fit()\n",
    "anova_table = sm.stats.anova_lm(model, typ=2)\n",
    "\n",
    "# ANOVA 결과 출력\n",
    "print(anova_table)"
   ]
  },
  {
   "cell_type": "markdown",
   "metadata": {},
   "source": [
    "# 지역 + 유형 별 가격 평균\n",
    "- 생각보다 차이 많이 남"
   ]
  },
  {
   "cell_type": "code",
   "execution_count": 15,
   "metadata": {},
   "outputs": [
    {
     "data": {
      "text/plain": [
       "숙소_지역            숙소_유형          \n",
       "Temple           Shared room         43.227273\n",
       "Buttes-Chaumont  Shared room         47.260870\n",
       "Popincourt       Shared room         47.823529\n",
       "Observatoire     Shared room         49.333333\n",
       "Reuilly          Shared room         59.000000\n",
       "                                       ...    \n",
       "Élysée           Entire home/apt    332.095429\n",
       "Palais-Bourbon   Hotel room         347.636364\n",
       "Vaugirard        Hotel room         354.108108\n",
       "Temple           Hotel room         370.166667\n",
       "Bourse           Hotel room         786.250000\n",
       "Name: 숙소_가격, Length: 79, dtype: float64"
      ]
     },
     "execution_count": 15,
     "metadata": {},
     "output_type": "execute_result"
    }
   ],
   "source": [
    "check1.groupby(['숙소_지역','숙소_유형'])['숙소_가격'].mean().sort_values()"
   ]
  },
  {
   "cell_type": "code",
   "execution_count": 16,
   "metadata": {},
   "outputs": [
    {
     "data": {
      "text/html": [
       "<div>\n",
       "<style scoped>\n",
       "    .dataframe tbody tr th:only-of-type {\n",
       "        vertical-align: middle;\n",
       "    }\n",
       "\n",
       "    .dataframe tbody tr th {\n",
       "        vertical-align: top;\n",
       "    }\n",
       "\n",
       "    .dataframe thead th {\n",
       "        text-align: right;\n",
       "    }\n",
       "</style>\n",
       "<table border=\"1\" class=\"dataframe\">\n",
       "  <thead>\n",
       "    <tr style=\"text-align: right;\">\n",
       "      <th></th>\n",
       "      <th>숙소_id</th>\n",
       "      <th>호스트_id</th>\n",
       "      <th>슈퍼호스트</th>\n",
       "      <th>숙소_수</th>\n",
       "      <th>숙소_지역</th>\n",
       "      <th>숙소_유형</th>\n",
       "      <th>수용인원수</th>\n",
       "      <th>욕실수</th>\n",
       "      <th>침실수</th>\n",
       "      <th>침대수</th>\n",
       "      <th>...</th>\n",
       "      <th>30일_리뷰수</th>\n",
       "      <th>리뷰점수</th>\n",
       "      <th>숙소_정확성_리뷰점수</th>\n",
       "      <th>숙소_청결도_리뷰점수</th>\n",
       "      <th>숙소_체크인_리뷰점수</th>\n",
       "      <th>숙소_소통_리뷰점수</th>\n",
       "      <th>숙소_위치_리뷰점수</th>\n",
       "      <th>숙소_가격_리뷰점수</th>\n",
       "      <th>평균_리뷰수</th>\n",
       "      <th>url</th>\n",
       "    </tr>\n",
       "  </thead>\n",
       "  <tbody>\n",
       "    <tr>\n",
       "      <th>961</th>\n",
       "      <td>914070</td>\n",
       "      <td>3980291</td>\n",
       "      <td>t</td>\n",
       "      <td>3.0</td>\n",
       "      <td>Passy</td>\n",
       "      <td>Hotel room</td>\n",
       "      <td>2</td>\n",
       "      <td>1.0</td>\n",
       "      <td>1.0</td>\n",
       "      <td>1.0</td>\n",
       "      <td>...</td>\n",
       "      <td>1</td>\n",
       "      <td>4.91</td>\n",
       "      <td>4.90</td>\n",
       "      <td>4.75</td>\n",
       "      <td>4.95</td>\n",
       "      <td>4.98</td>\n",
       "      <td>4.96</td>\n",
       "      <td>4.85</td>\n",
       "      <td>1.94</td>\n",
       "      <td>https://www.airbnb.com/rooms/914070</td>\n",
       "    </tr>\n",
       "    <tr>\n",
       "      <th>3777</th>\n",
       "      <td>4132978</td>\n",
       "      <td>7608379</td>\n",
       "      <td>f</td>\n",
       "      <td>2.0</td>\n",
       "      <td>Palais-Bourbon</td>\n",
       "      <td>Hotel room</td>\n",
       "      <td>6</td>\n",
       "      <td>2.5</td>\n",
       "      <td>3.0</td>\n",
       "      <td>5.0</td>\n",
       "      <td>...</td>\n",
       "      <td>0</td>\n",
       "      <td>4.70</td>\n",
       "      <td>4.73</td>\n",
       "      <td>4.64</td>\n",
       "      <td>4.69</td>\n",
       "      <td>4.70</td>\n",
       "      <td>4.94</td>\n",
       "      <td>4.54</td>\n",
       "      <td>0.84</td>\n",
       "      <td>https://www.airbnb.com/rooms/4132978</td>\n",
       "    </tr>\n",
       "    <tr>\n",
       "      <th>9072</th>\n",
       "      <td>9763149</td>\n",
       "      <td>50342512</td>\n",
       "      <td>f</td>\n",
       "      <td>6.0</td>\n",
       "      <td>Batignolles-Monceau</td>\n",
       "      <td>Hotel room</td>\n",
       "      <td>5</td>\n",
       "      <td>2.0</td>\n",
       "      <td>2.0</td>\n",
       "      <td>3.0</td>\n",
       "      <td>...</td>\n",
       "      <td>0</td>\n",
       "      <td>4.67</td>\n",
       "      <td>4.67</td>\n",
       "      <td>5.00</td>\n",
       "      <td>4.50</td>\n",
       "      <td>4.83</td>\n",
       "      <td>4.17</td>\n",
       "      <td>4.33</td>\n",
       "      <td>0.06</td>\n",
       "      <td>https://www.airbnb.com/rooms/9763149</td>\n",
       "    </tr>\n",
       "    <tr>\n",
       "      <th>9080</th>\n",
       "      <td>9763165</td>\n",
       "      <td>50342512</td>\n",
       "      <td>f</td>\n",
       "      <td>6.0</td>\n",
       "      <td>Buttes-Montmartre</td>\n",
       "      <td>Hotel room</td>\n",
       "      <td>2</td>\n",
       "      <td>1.0</td>\n",
       "      <td>1.0</td>\n",
       "      <td>1.0</td>\n",
       "      <td>...</td>\n",
       "      <td>0</td>\n",
       "      <td>4.35</td>\n",
       "      <td>4.50</td>\n",
       "      <td>4.55</td>\n",
       "      <td>4.79</td>\n",
       "      <td>4.80</td>\n",
       "      <td>4.26</td>\n",
       "      <td>4.05</td>\n",
       "      <td>0.20</td>\n",
       "      <td>https://www.airbnb.com/rooms/9763165</td>\n",
       "    </tr>\n",
       "    <tr>\n",
       "      <th>10919</th>\n",
       "      <td>12534183</td>\n",
       "      <td>67902959</td>\n",
       "      <td>f</td>\n",
       "      <td>7.0</td>\n",
       "      <td>Vaugirard</td>\n",
       "      <td>Hotel room</td>\n",
       "      <td>4</td>\n",
       "      <td>1.0</td>\n",
       "      <td>1.0</td>\n",
       "      <td>2.0</td>\n",
       "      <td>...</td>\n",
       "      <td>0</td>\n",
       "      <td>4.70</td>\n",
       "      <td>4.72</td>\n",
       "      <td>4.87</td>\n",
       "      <td>4.83</td>\n",
       "      <td>4.83</td>\n",
       "      <td>4.63</td>\n",
       "      <td>4.76</td>\n",
       "      <td>1.10</td>\n",
       "      <td>https://www.airbnb.com/rooms/12534183</td>\n",
       "    </tr>\n",
       "    <tr>\n",
       "      <th>...</th>\n",
       "      <td>...</td>\n",
       "      <td>...</td>\n",
       "      <td>...</td>\n",
       "      <td>...</td>\n",
       "      <td>...</td>\n",
       "      <td>...</td>\n",
       "      <td>...</td>\n",
       "      <td>...</td>\n",
       "      <td>...</td>\n",
       "      <td>...</td>\n",
       "      <td>...</td>\n",
       "      <td>...</td>\n",
       "      <td>...</td>\n",
       "      <td>...</td>\n",
       "      <td>...</td>\n",
       "      <td>...</td>\n",
       "      <td>...</td>\n",
       "      <td>...</td>\n",
       "      <td>...</td>\n",
       "      <td>...</td>\n",
       "      <td>...</td>\n",
       "    </tr>\n",
       "    <tr>\n",
       "      <th>29198</th>\n",
       "      <td>39189665</td>\n",
       "      <td>299271608</td>\n",
       "      <td>f</td>\n",
       "      <td>7.0</td>\n",
       "      <td>Batignolles-Monceau</td>\n",
       "      <td>Hotel room</td>\n",
       "      <td>2</td>\n",
       "      <td>1.0</td>\n",
       "      <td>1.0</td>\n",
       "      <td>1.0</td>\n",
       "      <td>...</td>\n",
       "      <td>4</td>\n",
       "      <td>4.51</td>\n",
       "      <td>4.50</td>\n",
       "      <td>4.62</td>\n",
       "      <td>4.63</td>\n",
       "      <td>4.69</td>\n",
       "      <td>4.71</td>\n",
       "      <td>4.45</td>\n",
       "      <td>5.05</td>\n",
       "      <td>https://www.airbnb.com/rooms/39189665</td>\n",
       "    </tr>\n",
       "    <tr>\n",
       "      <th>29199</th>\n",
       "      <td>39189852</td>\n",
       "      <td>299271608</td>\n",
       "      <td>f</td>\n",
       "      <td>7.0</td>\n",
       "      <td>Batignolles-Monceau</td>\n",
       "      <td>Hotel room</td>\n",
       "      <td>2</td>\n",
       "      <td>1.0</td>\n",
       "      <td>1.0</td>\n",
       "      <td>1.0</td>\n",
       "      <td>...</td>\n",
       "      <td>0</td>\n",
       "      <td>4.00</td>\n",
       "      <td>4.42</td>\n",
       "      <td>4.58</td>\n",
       "      <td>4.42</td>\n",
       "      <td>4.25</td>\n",
       "      <td>4.33</td>\n",
       "      <td>3.83</td>\n",
       "      <td>0.22</td>\n",
       "      <td>https://www.airbnb.com/rooms/39189852</td>\n",
       "    </tr>\n",
       "    <tr>\n",
       "      <th>29204</th>\n",
       "      <td>39190011</td>\n",
       "      <td>299271608</td>\n",
       "      <td>f</td>\n",
       "      <td>7.0</td>\n",
       "      <td>Batignolles-Monceau</td>\n",
       "      <td>Hotel room</td>\n",
       "      <td>3</td>\n",
       "      <td>1.0</td>\n",
       "      <td>1.0</td>\n",
       "      <td>2.0</td>\n",
       "      <td>...</td>\n",
       "      <td>0</td>\n",
       "      <td>4.50</td>\n",
       "      <td>4.56</td>\n",
       "      <td>4.64</td>\n",
       "      <td>4.81</td>\n",
       "      <td>4.75</td>\n",
       "      <td>4.74</td>\n",
       "      <td>4.48</td>\n",
       "      <td>1.80</td>\n",
       "      <td>https://www.airbnb.com/rooms/39190011</td>\n",
       "    </tr>\n",
       "    <tr>\n",
       "      <th>42204</th>\n",
       "      <td>636051848763827734</td>\n",
       "      <td>458723902</td>\n",
       "      <td>f</td>\n",
       "      <td>12.0</td>\n",
       "      <td>Hôtel-de-Ville</td>\n",
       "      <td>Hotel room</td>\n",
       "      <td>3</td>\n",
       "      <td>1.5</td>\n",
       "      <td>1.0</td>\n",
       "      <td>2.0</td>\n",
       "      <td>...</td>\n",
       "      <td>0</td>\n",
       "      <td>4.23</td>\n",
       "      <td>4.38</td>\n",
       "      <td>4.08</td>\n",
       "      <td>4.41</td>\n",
       "      <td>4.21</td>\n",
       "      <td>4.87</td>\n",
       "      <td>4.00</td>\n",
       "      <td>1.87</td>\n",
       "      <td>https://www.airbnb.com/rooms/636051848763827734</td>\n",
       "    </tr>\n",
       "    <tr>\n",
       "      <th>42208</th>\n",
       "      <td>636055334530673704</td>\n",
       "      <td>458723902</td>\n",
       "      <td>f</td>\n",
       "      <td>12.0</td>\n",
       "      <td>Vaugirard</td>\n",
       "      <td>Hotel room</td>\n",
       "      <td>3</td>\n",
       "      <td>1.0</td>\n",
       "      <td>1.0</td>\n",
       "      <td>3.0</td>\n",
       "      <td>...</td>\n",
       "      <td>1</td>\n",
       "      <td>4.57</td>\n",
       "      <td>4.68</td>\n",
       "      <td>4.68</td>\n",
       "      <td>4.82</td>\n",
       "      <td>4.71</td>\n",
       "      <td>4.79</td>\n",
       "      <td>4.32</td>\n",
       "      <td>1.37</td>\n",
       "      <td>https://www.airbnb.com/rooms/636055334530673704</td>\n",
       "    </tr>\n",
       "  </tbody>\n",
       "</table>\n",
       "<p>445 rows × 25 columns</p>\n",
       "</div>"
      ],
      "text/plain": [
       "                    숙소_id     호스트_id 슈퍼호스트  숙소_수                숙소_지역  \\\n",
       "961                914070    3980291     t   3.0                Passy   \n",
       "3777              4132978    7608379     f   2.0       Palais-Bourbon   \n",
       "9072              9763149   50342512     f   6.0  Batignolles-Monceau   \n",
       "9080              9763165   50342512     f   6.0    Buttes-Montmartre   \n",
       "10919            12534183   67902959     f   7.0            Vaugirard   \n",
       "...                   ...        ...   ...   ...                  ...   \n",
       "29198            39189665  299271608     f   7.0  Batignolles-Monceau   \n",
       "29199            39189852  299271608     f   7.0  Batignolles-Monceau   \n",
       "29204            39190011  299271608     f   7.0  Batignolles-Monceau   \n",
       "42204  636051848763827734  458723902     f  12.0       Hôtel-de-Ville   \n",
       "42208  636055334530673704  458723902     f  12.0            Vaugirard   \n",
       "\n",
       "            숙소_유형  수용인원수  욕실수  침실수  침대수  ... 30일_리뷰수  리뷰점수  숙소_정확성_리뷰점수  \\\n",
       "961    Hotel room      2  1.0  1.0  1.0  ...       1  4.91         4.90   \n",
       "3777   Hotel room      6  2.5  3.0  5.0  ...       0  4.70         4.73   \n",
       "9072   Hotel room      5  2.0  2.0  3.0  ...       0  4.67         4.67   \n",
       "9080   Hotel room      2  1.0  1.0  1.0  ...       0  4.35         4.50   \n",
       "10919  Hotel room      4  1.0  1.0  2.0  ...       0  4.70         4.72   \n",
       "...           ...    ...  ...  ...  ...  ...     ...   ...          ...   \n",
       "29198  Hotel room      2  1.0  1.0  1.0  ...       4  4.51         4.50   \n",
       "29199  Hotel room      2  1.0  1.0  1.0  ...       0  4.00         4.42   \n",
       "29204  Hotel room      3  1.0  1.0  2.0  ...       0  4.50         4.56   \n",
       "42204  Hotel room      3  1.5  1.0  2.0  ...       0  4.23         4.38   \n",
       "42208  Hotel room      3  1.0  1.0  3.0  ...       1  4.57         4.68   \n",
       "\n",
       "       숙소_청결도_리뷰점수  숙소_체크인_리뷰점수  숙소_소통_리뷰점수  숙소_위치_리뷰점수  숙소_가격_리뷰점수  평균_리뷰수  \\\n",
       "961           4.75         4.95        4.98        4.96        4.85    1.94   \n",
       "3777          4.64         4.69        4.70        4.94        4.54    0.84   \n",
       "9072          5.00         4.50        4.83        4.17        4.33    0.06   \n",
       "9080          4.55         4.79        4.80        4.26        4.05    0.20   \n",
       "10919         4.87         4.83        4.83        4.63        4.76    1.10   \n",
       "...            ...          ...         ...         ...         ...     ...   \n",
       "29198         4.62         4.63        4.69        4.71        4.45    5.05   \n",
       "29199         4.58         4.42        4.25        4.33        3.83    0.22   \n",
       "29204         4.64         4.81        4.75        4.74        4.48    1.80   \n",
       "42204         4.08         4.41        4.21        4.87        4.00    1.87   \n",
       "42208         4.68         4.82        4.71        4.79        4.32    1.37   \n",
       "\n",
       "                                                   url  \n",
       "961                https://www.airbnb.com/rooms/914070  \n",
       "3777              https://www.airbnb.com/rooms/4132978  \n",
       "9072              https://www.airbnb.com/rooms/9763149  \n",
       "9080              https://www.airbnb.com/rooms/9763165  \n",
       "10919            https://www.airbnb.com/rooms/12534183  \n",
       "...                                                ...  \n",
       "29198            https://www.airbnb.com/rooms/39189665  \n",
       "29199            https://www.airbnb.com/rooms/39189852  \n",
       "29204            https://www.airbnb.com/rooms/39190011  \n",
       "42204  https://www.airbnb.com/rooms/636051848763827734  \n",
       "42208  https://www.airbnb.com/rooms/636055334530673704  \n",
       "\n",
       "[445 rows x 25 columns]"
      ]
     },
     "execution_count": 16,
     "metadata": {},
     "output_type": "execute_result"
    }
   ],
   "source": [
    "check1[check1['숙소_유형'] == 'Hotel room']"
   ]
  },
  {
   "cell_type": "code",
   "execution_count": 17,
   "metadata": {},
   "outputs": [],
   "source": [
    "# 상위 10개 데이터 확인용\n",
    "top_10_details = check1.loc[check1['숙소_가격'].sort_values(ascending=False).head(10).index, ['숙소_id', '숙소_가격', 'url']]\n"
   ]
  },
  {
   "cell_type": "markdown",
   "metadata": {},
   "source": [
    "# 가격 확인 결과 \n",
    " \n",
    "23285448 없음\n",
    "\n",
    "873142104727787209 : 없음\n",
    "\n",
    "644744645250321094 : 다름\n",
    "\n",
    "36624656 : 다름\n"
   ]
  },
  {
   "cell_type": "markdown",
   "metadata": {},
   "source": [
    "+ 월별, 일별 나오는거 해결?\n"
   ]
  },
  {
   "cell_type": "code",
   "execution_count": 18,
   "metadata": {},
   "outputs": [
    {
     "data": {
      "text/html": [
       "<div>\n",
       "<style scoped>\n",
       "    .dataframe tbody tr th:only-of-type {\n",
       "        vertical-align: middle;\n",
       "    }\n",
       "\n",
       "    .dataframe tbody tr th {\n",
       "        vertical-align: top;\n",
       "    }\n",
       "\n",
       "    .dataframe thead th {\n",
       "        text-align: right;\n",
       "    }\n",
       "</style>\n",
       "<table border=\"1\" class=\"dataframe\">\n",
       "  <thead>\n",
       "    <tr style=\"text-align: right;\">\n",
       "      <th></th>\n",
       "      <th>숙소_id</th>\n",
       "      <th>숙소_가격</th>\n",
       "      <th>url</th>\n",
       "    </tr>\n",
       "  </thead>\n",
       "  <tbody>\n",
       "    <tr>\n",
       "      <th>27548</th>\n",
       "      <td>36624656</td>\n",
       "      <td>53239.0</td>\n",
       "      <td>https://www.airbnb.com/rooms/36624656</td>\n",
       "    </tr>\n",
       "    <tr>\n",
       "      <th>24552</th>\n",
       "      <td>32740447</td>\n",
       "      <td>18846.0</td>\n",
       "      <td>https://www.airbnb.com/rooms/32740447</td>\n",
       "    </tr>\n",
       "    <tr>\n",
       "      <th>53850</th>\n",
       "      <td>873142104727787209</td>\n",
       "      <td>15899.0</td>\n",
       "      <td>https://www.airbnb.com/rooms/873142104727787209</td>\n",
       "    </tr>\n",
       "    <tr>\n",
       "      <th>43061</th>\n",
       "      <td>650613932629146572</td>\n",
       "      <td>15000.0</td>\n",
       "      <td>https://www.airbnb.com/rooms/650613932629146572</td>\n",
       "    </tr>\n",
       "    <tr>\n",
       "      <th>39408</th>\n",
       "      <td>557849127896979136</td>\n",
       "      <td>11600.0</td>\n",
       "      <td>https://www.airbnb.com/rooms/557849127896979136</td>\n",
       "    </tr>\n",
       "    <tr>\n",
       "      <th>19014</th>\n",
       "      <td>23285448</td>\n",
       "      <td>10899.0</td>\n",
       "      <td>https://www.airbnb.com/rooms/23285448</td>\n",
       "    </tr>\n",
       "    <tr>\n",
       "      <th>28126</th>\n",
       "      <td>37250543</td>\n",
       "      <td>10000.0</td>\n",
       "      <td>https://www.airbnb.com/rooms/37250543</td>\n",
       "    </tr>\n",
       "    <tr>\n",
       "      <th>42631</th>\n",
       "      <td>644744645250321094</td>\n",
       "      <td>10000.0</td>\n",
       "      <td>https://www.airbnb.com/rooms/644744645250321094</td>\n",
       "    </tr>\n",
       "    <tr>\n",
       "      <th>14576</th>\n",
       "      <td>17250002</td>\n",
       "      <td>10000.0</td>\n",
       "      <td>https://www.airbnb.com/rooms/17250002</td>\n",
       "    </tr>\n",
       "    <tr>\n",
       "      <th>25955</th>\n",
       "      <td>34663834</td>\n",
       "      <td>10000.0</td>\n",
       "      <td>https://www.airbnb.com/rooms/34663834</td>\n",
       "    </tr>\n",
       "  </tbody>\n",
       "</table>\n",
       "</div>"
      ],
      "text/plain": [
       "                    숙소_id    숙소_가격  \\\n",
       "27548            36624656  53239.0   \n",
       "24552            32740447  18846.0   \n",
       "53850  873142104727787209  15899.0   \n",
       "43061  650613932629146572  15000.0   \n",
       "39408  557849127896979136  11600.0   \n",
       "19014            23285448  10899.0   \n",
       "28126            37250543  10000.0   \n",
       "42631  644744645250321094  10000.0   \n",
       "14576            17250002  10000.0   \n",
       "25955            34663834  10000.0   \n",
       "\n",
       "                                                   url  \n",
       "27548            https://www.airbnb.com/rooms/36624656  \n",
       "24552            https://www.airbnb.com/rooms/32740447  \n",
       "53850  https://www.airbnb.com/rooms/873142104727787209  \n",
       "43061  https://www.airbnb.com/rooms/650613932629146572  \n",
       "39408  https://www.airbnb.com/rooms/557849127896979136  \n",
       "19014            https://www.airbnb.com/rooms/23285448  \n",
       "28126            https://www.airbnb.com/rooms/37250543  \n",
       "42631  https://www.airbnb.com/rooms/644744645250321094  \n",
       "14576            https://www.airbnb.com/rooms/17250002  \n",
       "25955            https://www.airbnb.com/rooms/34663834  "
      ]
     },
     "execution_count": 18,
     "metadata": {},
     "output_type": "execute_result"
    }
   ],
   "source": [
    "top_10_details"
   ]
  },
  {
   "cell_type": "code",
   "execution_count": 19,
   "metadata": {},
   "outputs": [
    {
     "data": {
      "text/html": [
       "<div>\n",
       "<style scoped>\n",
       "    .dataframe tbody tr th:only-of-type {\n",
       "        vertical-align: middle;\n",
       "    }\n",
       "\n",
       "    .dataframe tbody tr th {\n",
       "        vertical-align: top;\n",
       "    }\n",
       "\n",
       "    .dataframe thead th {\n",
       "        text-align: right;\n",
       "    }\n",
       "</style>\n",
       "<table border=\"1\" class=\"dataframe\">\n",
       "  <thead>\n",
       "    <tr style=\"text-align: right;\">\n",
       "      <th></th>\n",
       "      <th>숙소_id</th>\n",
       "      <th>호스트_id</th>\n",
       "      <th>슈퍼호스트</th>\n",
       "      <th>숙소_수</th>\n",
       "      <th>숙소_지역</th>\n",
       "      <th>숙소_유형</th>\n",
       "      <th>수용인원수</th>\n",
       "      <th>욕실수</th>\n",
       "      <th>침실수</th>\n",
       "      <th>침대수</th>\n",
       "      <th>...</th>\n",
       "      <th>30일_리뷰수</th>\n",
       "      <th>리뷰점수</th>\n",
       "      <th>숙소_정확성_리뷰점수</th>\n",
       "      <th>숙소_청결도_리뷰점수</th>\n",
       "      <th>숙소_체크인_리뷰점수</th>\n",
       "      <th>숙소_소통_리뷰점수</th>\n",
       "      <th>숙소_위치_리뷰점수</th>\n",
       "      <th>숙소_가격_리뷰점수</th>\n",
       "      <th>평균_리뷰수</th>\n",
       "      <th>url</th>\n",
       "    </tr>\n",
       "  </thead>\n",
       "  <tbody>\n",
       "    <tr>\n",
       "      <th>14576</th>\n",
       "      <td>17250002</td>\n",
       "      <td>17393810</td>\n",
       "      <td>f</td>\n",
       "      <td>1.0</td>\n",
       "      <td>Popincourt</td>\n",
       "      <td>Entire home/apt</td>\n",
       "      <td>4</td>\n",
       "      <td>1.0</td>\n",
       "      <td>1.0</td>\n",
       "      <td>2.0</td>\n",
       "      <td>...</td>\n",
       "      <td>0</td>\n",
       "      <td>4.42</td>\n",
       "      <td>4.73</td>\n",
       "      <td>4.62</td>\n",
       "      <td>4.46</td>\n",
       "      <td>4.46</td>\n",
       "      <td>4.62</td>\n",
       "      <td>4.36</td>\n",
       "      <td>0.31</td>\n",
       "      <td>https://www.airbnb.com/rooms/17250002</td>\n",
       "    </tr>\n",
       "    <tr>\n",
       "      <th>25955</th>\n",
       "      <td>34663834</td>\n",
       "      <td>15313021</td>\n",
       "      <td>f</td>\n",
       "      <td>1.0</td>\n",
       "      <td>Vaugirard</td>\n",
       "      <td>Entire home/apt</td>\n",
       "      <td>4</td>\n",
       "      <td>1.0</td>\n",
       "      <td>0.0</td>\n",
       "      <td>4.0</td>\n",
       "      <td>...</td>\n",
       "      <td>0</td>\n",
       "      <td>3.78</td>\n",
       "      <td>4.11</td>\n",
       "      <td>4.11</td>\n",
       "      <td>4.67</td>\n",
       "      <td>4.67</td>\n",
       "      <td>4.00</td>\n",
       "      <td>4.00</td>\n",
       "      <td>0.16</td>\n",
       "      <td>https://www.airbnb.com/rooms/34663834</td>\n",
       "    </tr>\n",
       "    <tr>\n",
       "      <th>28126</th>\n",
       "      <td>37250543</td>\n",
       "      <td>283731649</td>\n",
       "      <td>f</td>\n",
       "      <td>2.0</td>\n",
       "      <td>Passy</td>\n",
       "      <td>Entire home/apt</td>\n",
       "      <td>10</td>\n",
       "      <td>5.5</td>\n",
       "      <td>5.0</td>\n",
       "      <td>5.0</td>\n",
       "      <td>...</td>\n",
       "      <td>0</td>\n",
       "      <td>5.00</td>\n",
       "      <td>5.00</td>\n",
       "      <td>5.00</td>\n",
       "      <td>5.00</td>\n",
       "      <td>5.00</td>\n",
       "      <td>4.80</td>\n",
       "      <td>4.80</td>\n",
       "      <td>0.34</td>\n",
       "      <td>https://www.airbnb.com/rooms/37250543</td>\n",
       "    </tr>\n",
       "    <tr>\n",
       "      <th>28577</th>\n",
       "      <td>38403989</td>\n",
       "      <td>42782996</td>\n",
       "      <td>f</td>\n",
       "      <td>14.0</td>\n",
       "      <td>Temple</td>\n",
       "      <td>Private room</td>\n",
       "      <td>4</td>\n",
       "      <td>1.5</td>\n",
       "      <td>1.0</td>\n",
       "      <td>1.0</td>\n",
       "      <td>...</td>\n",
       "      <td>0</td>\n",
       "      <td>5.00</td>\n",
       "      <td>5.00</td>\n",
       "      <td>5.00</td>\n",
       "      <td>5.00</td>\n",
       "      <td>5.00</td>\n",
       "      <td>4.00</td>\n",
       "      <td>5.00</td>\n",
       "      <td>0.15</td>\n",
       "      <td>https://www.airbnb.com/rooms/38403989</td>\n",
       "    </tr>\n",
       "    <tr>\n",
       "      <th>32845</th>\n",
       "      <td>44218823</td>\n",
       "      <td>356267449</td>\n",
       "      <td>f</td>\n",
       "      <td>1.0</td>\n",
       "      <td>Gobelins</td>\n",
       "      <td>Entire home/apt</td>\n",
       "      <td>4</td>\n",
       "      <td>1.0</td>\n",
       "      <td>1.0</td>\n",
       "      <td>2.0</td>\n",
       "      <td>...</td>\n",
       "      <td>0</td>\n",
       "      <td>4.79</td>\n",
       "      <td>4.86</td>\n",
       "      <td>4.93</td>\n",
       "      <td>4.82</td>\n",
       "      <td>4.82</td>\n",
       "      <td>4.71</td>\n",
       "      <td>4.75</td>\n",
       "      <td>0.63</td>\n",
       "      <td>https://www.airbnb.com/rooms/44218823</td>\n",
       "    </tr>\n",
       "    <tr>\n",
       "      <th>42631</th>\n",
       "      <td>644744645250321094</td>\n",
       "      <td>463045348</td>\n",
       "      <td>t</td>\n",
       "      <td>1.0</td>\n",
       "      <td>Temple</td>\n",
       "      <td>Entire home/apt</td>\n",
       "      <td>3</td>\n",
       "      <td>1.0</td>\n",
       "      <td>1.0</td>\n",
       "      <td>1.0</td>\n",
       "      <td>...</td>\n",
       "      <td>0</td>\n",
       "      <td>4.72</td>\n",
       "      <td>4.85</td>\n",
       "      <td>4.90</td>\n",
       "      <td>4.59</td>\n",
       "      <td>4.87</td>\n",
       "      <td>5.00</td>\n",
       "      <td>4.59</td>\n",
       "      <td>1.91</td>\n",
       "      <td>https://www.airbnb.com/rooms/644744645250321094</td>\n",
       "    </tr>\n",
       "  </tbody>\n",
       "</table>\n",
       "<p>6 rows × 25 columns</p>\n",
       "</div>"
      ],
      "text/plain": [
       "                    숙소_id     호스트_id 슈퍼호스트  숙소_수       숙소_지역            숙소_유형  \\\n",
       "14576            17250002   17393810     f   1.0  Popincourt  Entire home/apt   \n",
       "25955            34663834   15313021     f   1.0   Vaugirard  Entire home/apt   \n",
       "28126            37250543  283731649     f   2.0       Passy  Entire home/apt   \n",
       "28577            38403989   42782996     f  14.0      Temple     Private room   \n",
       "32845            44218823  356267449     f   1.0    Gobelins  Entire home/apt   \n",
       "42631  644744645250321094  463045348     t   1.0      Temple  Entire home/apt   \n",
       "\n",
       "       수용인원수  욕실수  침실수  침대수  ... 30일_리뷰수  리뷰점수  숙소_정확성_리뷰점수  숙소_청결도_리뷰점수  \\\n",
       "14576      4  1.0  1.0  2.0  ...       0  4.42         4.73         4.62   \n",
       "25955      4  1.0  0.0  4.0  ...       0  3.78         4.11         4.11   \n",
       "28126     10  5.5  5.0  5.0  ...       0  5.00         5.00         5.00   \n",
       "28577      4  1.5  1.0  1.0  ...       0  5.00         5.00         5.00   \n",
       "32845      4  1.0  1.0  2.0  ...       0  4.79         4.86         4.93   \n",
       "42631      3  1.0  1.0  1.0  ...       0  4.72         4.85         4.90   \n",
       "\n",
       "       숙소_체크인_리뷰점수  숙소_소통_리뷰점수  숙소_위치_리뷰점수  숙소_가격_리뷰점수  평균_리뷰수  \\\n",
       "14576         4.46        4.46        4.62        4.36    0.31   \n",
       "25955         4.67        4.67        4.00        4.00    0.16   \n",
       "28126         5.00        5.00        4.80        4.80    0.34   \n",
       "28577         5.00        5.00        4.00        5.00    0.15   \n",
       "32845         4.82        4.82        4.71        4.75    0.63   \n",
       "42631         4.59        4.87        5.00        4.59    1.91   \n",
       "\n",
       "                                                   url  \n",
       "14576            https://www.airbnb.com/rooms/17250002  \n",
       "25955            https://www.airbnb.com/rooms/34663834  \n",
       "28126            https://www.airbnb.com/rooms/37250543  \n",
       "28577            https://www.airbnb.com/rooms/38403989  \n",
       "32845            https://www.airbnb.com/rooms/44218823  \n",
       "42631  https://www.airbnb.com/rooms/644744645250321094  \n",
       "\n",
       "[6 rows x 25 columns]"
      ]
     },
     "execution_count": 19,
     "metadata": {},
     "output_type": "execute_result"
    }
   ],
   "source": [
    "check1[check1['숙소_가격']==10000.0]"
   ]
  },
  {
   "cell_type": "code",
   "execution_count": 20,
   "metadata": {},
   "outputs": [
    {
     "data": {
      "text/plain": [
       "array(['Entire home/apt', 'Private room', 'Shared room', 'Hotel room'],\n",
       "      dtype=object)"
      ]
     },
     "execution_count": 20,
     "metadata": {},
     "output_type": "execute_result"
    }
   ],
   "source": [
    "check1['숙소_유형'].unique()"
   ]
  },
  {
   "cell_type": "code",
   "execution_count": 21,
   "metadata": {},
   "outputs": [
    {
     "data": {
      "text/html": [
       "<div>\n",
       "<style scoped>\n",
       "    .dataframe tbody tr th:only-of-type {\n",
       "        vertical-align: middle;\n",
       "    }\n",
       "\n",
       "    .dataframe tbody tr th {\n",
       "        vertical-align: top;\n",
       "    }\n",
       "\n",
       "    .dataframe thead th {\n",
       "        text-align: right;\n",
       "    }\n",
       "</style>\n",
       "<table border=\"1\" class=\"dataframe\">\n",
       "  <thead>\n",
       "    <tr style=\"text-align: right;\">\n",
       "      <th></th>\n",
       "      <th>침대수</th>\n",
       "      <th>침실수</th>\n",
       "      <th>욕실수</th>\n",
       "    </tr>\n",
       "  </thead>\n",
       "  <tbody>\n",
       "    <tr>\n",
       "      <th>463</th>\n",
       "      <td>2.0</td>\n",
       "      <td>1.0</td>\n",
       "      <td>1.0</td>\n",
       "    </tr>\n",
       "    <tr>\n",
       "      <th>1113</th>\n",
       "      <td>4.0</td>\n",
       "      <td>1.0</td>\n",
       "      <td>1.0</td>\n",
       "    </tr>\n",
       "    <tr>\n",
       "      <th>1265</th>\n",
       "      <td>2.0</td>\n",
       "      <td>1.0</td>\n",
       "      <td>1.0</td>\n",
       "    </tr>\n",
       "    <tr>\n",
       "      <th>1336</th>\n",
       "      <td>1.0</td>\n",
       "      <td>1.0</td>\n",
       "      <td>1.0</td>\n",
       "    </tr>\n",
       "    <tr>\n",
       "      <th>1664</th>\n",
       "      <td>1.0</td>\n",
       "      <td>1.0</td>\n",
       "      <td>1.0</td>\n",
       "    </tr>\n",
       "    <tr>\n",
       "      <th>...</th>\n",
       "      <td>...</td>\n",
       "      <td>...</td>\n",
       "      <td>...</td>\n",
       "    </tr>\n",
       "    <tr>\n",
       "      <th>70725</th>\n",
       "      <td>1.0</td>\n",
       "      <td>1.0</td>\n",
       "      <td>1.0</td>\n",
       "    </tr>\n",
       "    <tr>\n",
       "      <th>70922</th>\n",
       "      <td>0.0</td>\n",
       "      <td>1.0</td>\n",
       "      <td>1.0</td>\n",
       "    </tr>\n",
       "    <tr>\n",
       "      <th>72755</th>\n",
       "      <td>1.0</td>\n",
       "      <td>1.0</td>\n",
       "      <td>0.5</td>\n",
       "    </tr>\n",
       "    <tr>\n",
       "      <th>79642</th>\n",
       "      <td>6.0</td>\n",
       "      <td>1.0</td>\n",
       "      <td>1.0</td>\n",
       "    </tr>\n",
       "    <tr>\n",
       "      <th>79646</th>\n",
       "      <td>6.0</td>\n",
       "      <td>1.0</td>\n",
       "      <td>1.0</td>\n",
       "    </tr>\n",
       "  </tbody>\n",
       "</table>\n",
       "<p>200 rows × 3 columns</p>\n",
       "</div>"
      ],
      "text/plain": [
       "       침대수  침실수  욕실수\n",
       "463    2.0  1.0  1.0\n",
       "1113   4.0  1.0  1.0\n",
       "1265   2.0  1.0  1.0\n",
       "1336   1.0  1.0  1.0\n",
       "1664   1.0  1.0  1.0\n",
       "...    ...  ...  ...\n",
       "70725  1.0  1.0  1.0\n",
       "70922  0.0  1.0  1.0\n",
       "72755  1.0  1.0  0.5\n",
       "79642  6.0  1.0  1.0\n",
       "79646  6.0  1.0  1.0\n",
       "\n",
       "[200 rows x 3 columns]"
      ]
     },
     "execution_count": 21,
     "metadata": {},
     "output_type": "execute_result"
    }
   ],
   "source": [
    "check1[check1['숙소_유형']=='Shared room'][['침대수','침실수','욕실수']]"
   ]
  },
  {
   "cell_type": "markdown",
   "metadata": {},
   "source": []
  },
  {
   "cell_type": "code",
   "execution_count": 22,
   "metadata": {},
   "outputs": [
    {
     "name": "stdout",
     "output_type": "stream",
     "text": [
      "전체 개수 : 41751\n",
      "shared room 개수 : 200\n",
      "침대수 : 0\n",
      "침실수 : 0\n",
      "욕실수 : 0\n"
     ]
    }
   ],
   "source": [
    "print(f\"전체 개수 : {len(check1)}\")\n",
    "print(f\"shared room 개수 : {len(check1[check1['숙소_유형']=='Shared room'])}\")\n",
    "print(f\"침대수 : {check1[check1['숙소_유형']=='Shared room']['침대수'].isnull().sum()}\")\n",
    "print(f\"침실수 : {check1[check1['숙소_유형']=='Shared room']['침실수'].isnull().sum()}\")\n",
    "print(f\"욕실수 : {check1[check1['숙소_유형']=='Shared room']['침실수'].isnull().sum()}\")\n"
   ]
  },
  {
   "cell_type": "code",
   "execution_count": 23,
   "metadata": {},
   "outputs": [
    {
     "name": "stdout",
     "output_type": "stream",
     "text": [
      "전체 개수 : 41751\n",
      "Entire home/apt  개수 : 37432\n",
      "침대수 : 18\n",
      "침실수 : 44\n",
      "욕실수 : 44\n"
     ]
    }
   ],
   "source": [
    "print(f\"전체 개수 : {len(check1)}\")\n",
    "print(f\"Entire home/apt  개수 : {len(check1[check1['숙소_유형']=='Entire home/apt'])}\")\n",
    "print(f\"침대수 : {check1[check1['숙소_유형']=='Entire home/apt']['침대수'].isnull().sum()}\")\n",
    "print(f\"침실수 : {check1[check1['숙소_유형']=='Entire home/apt']['침실수'].isnull().sum()}\")\n",
    "print(f\"욕실수 : {check1[check1['숙소_유형']=='Entire home/apt']['침실수'].isnull().sum()}\")\n"
   ]
  },
  {
   "cell_type": "code",
   "execution_count": 24,
   "metadata": {},
   "outputs": [
    {
     "name": "stdout",
     "output_type": "stream",
     "text": [
      "전체 개수 : 41751\n",
      "Private room  개수 : 3674\n",
      "침대수 : 11\n",
      "침실수 : 1\n",
      "욕실수 : 1\n"
     ]
    }
   ],
   "source": [
    "print(f\"전체 개수 : {len(check1)}\")\n",
    "print(f\"Private room  개수 : {len(check1[check1['숙소_유형']=='Private room'])}\")\n",
    "print(f\"침대수 : {check1[check1['숙소_유형']=='Private room']['침대수'].isnull().sum()}\")\n",
    "print(f\"침실수 : {check1[check1['숙소_유형']=='Private room']['침실수'].isnull().sum()}\")\n",
    "print(f\"욕실수 : {check1[check1['숙소_유형']=='Private room']['침실수'].isnull().sum()}\")\n"
   ]
  },
  {
   "cell_type": "code",
   "execution_count": 25,
   "metadata": {},
   "outputs": [
    {
     "name": "stdout",
     "output_type": "stream",
     "text": [
      "전체 개수 : 41751\n",
      "Hotel room room  개수 : 445\n",
      "침대수 : 54\n",
      "침실수 : 0\n",
      "욕실수 : 0\n"
     ]
    }
   ],
   "source": [
    "print(f\"전체 개수 : {len(check1)}\")\n",
    "print(f\"Hotel room room  개수 : {len(check1[check1['숙소_유형']=='Hotel room'])}\")\n",
    "print(f\"침대수 : {check1[check1['숙소_유형']=='Hotel room']['침대수'].isnull().sum()}\")\n",
    "print(f\"침실수 : {check1[check1['숙소_유형']=='Hotel room']['침실수'].isnull().sum()}\")\n",
    "print(f\"욕실수 : {check1[check1['숙소_유형']=='Hotel room']['침실수'].isnull().sum()}\")\n"
   ]
  },
  {
   "cell_type": "code",
   "execution_count": 26,
   "metadata": {},
   "outputs": [
    {
     "data": {
      "text/plain": [
       "숙소_id           0\n",
       "호스트_id          0\n",
       "슈퍼호스트           0\n",
       "숙소_수            0\n",
       "숙소_지역           0\n",
       "숙소_유형           0\n",
       "수용인원수           0\n",
       "욕실수            10\n",
       "침실수            45\n",
       "침대수            83\n",
       "편의시설            0\n",
       "숙소_가격           0\n",
       "최소_숙박일          0\n",
       "최대_숙박일          0\n",
       "리뷰수             0\n",
       "30일_리뷰수         0\n",
       "리뷰점수            0\n",
       "숙소_정확성_리뷰점수    25\n",
       "숙소_청결도_리뷰점수    23\n",
       "숙소_체크인_리뷰점수    27\n",
       "숙소_소통_리뷰점수     24\n",
       "숙소_위치_리뷰점수     26\n",
       "숙소_가격_리뷰점수     30\n",
       "평균_리뷰수          0\n",
       "url             0\n",
       "dtype: int64"
      ]
     },
     "execution_count": 26,
     "metadata": {},
     "output_type": "execute_result"
    }
   ],
   "source": [
    "check1.isnull().sum()"
   ]
  },
  {
   "cell_type": "code",
   "execution_count": null,
   "metadata": {},
   "outputs": [],
   "source": []
  }
 ],
 "metadata": {
  "kernelspec": {
   "display_name": "Python 3",
   "language": "python",
   "name": "python3"
  },
  "language_info": {
   "codemirror_mode": {
    "name": "ipython",
    "version": 3
   },
   "file_extension": ".py",
   "mimetype": "text/x-python",
   "name": "python",
   "nbconvert_exporter": "python",
   "pygments_lexer": "ipython3",
   "version": "3.10.9"
  }
 },
 "nbformat": 4,
 "nbformat_minor": 2
}
