{
 "cells": [
  {
   "cell_type": "code",
   "execution_count": 2,
   "metadata": {},
   "outputs": [],
   "source": [
    "import pandas as pd\n",
    "import matplotlib.pyplot as plt\n",
    "import numpy as np"
   ]
  },
  {
   "cell_type": "code",
   "execution_count": 3,
   "metadata": {},
   "outputs": [],
   "source": [
    "df = pd.read_csv('D:/에어비앤비/파리/reviews.csv')"
   ]
  },
  {
   "cell_type": "code",
   "execution_count": 4,
   "metadata": {},
   "outputs": [
    {
     "name": "stdout",
     "output_type": "stream",
     "text": [
      "<class 'pandas.core.frame.DataFrame'>\n",
      "RangeIndex: 1794006 entries, 0 to 1794005\n",
      "Data columns (total 6 columns):\n",
      " #   Column         Dtype \n",
      "---  ------         ----- \n",
      " 0   listing_id     int64 \n",
      " 1   id             int64 \n",
      " 2   date           object\n",
      " 3   reviewer_id    int64 \n",
      " 4   reviewer_name  object\n",
      " 5   comments       object\n",
      "dtypes: int64(3), object(3)\n",
      "memory usage: 82.1+ MB\n"
     ]
    }
   ],
   "source": [
    "df.info()"
   ]
  },
  {
   "cell_type": "code",
   "execution_count": 5,
   "metadata": {},
   "outputs": [
    {
     "name": "stdout",
     "output_type": "stream",
     "text": [
      "   listing_id         id        date  reviewer_id reviewer_name  \\\n",
      "0       39948    7450692  2013-09-20      8861358       Gilbert   \n",
      "1       39948    7682958  2013-09-29      8947473         Susan   \n",
      "2        3109  207127433  2017-10-28     51636494      Patricia   \n",
      "3        3109  208779822  2017-11-03      4142888      Patricia   \n",
      "4        3109  295840159  2018-07-24      7415343       Laurent   \n",
      "\n",
      "                                            comments  \n",
      "0  Aliyah et Philippe m'ont réservé un accueil ex...  \n",
      "1  Aliyah and Philippe are gracious hosts and eve...  \n",
      "2            Tout s'est bien déroulé. Merci bien. PG  \n",
      "3  Un petit nid fouiller douillet situé dans  app...  \n",
      "4  Appartement spacieux, propre,clair, et calme à...  \n",
      "<class 'pandas.core.frame.DataFrame'>\n",
      "RangeIndex: 1794006 entries, 0 to 1794005\n",
      "Data columns (total 6 columns):\n",
      " #   Column         Dtype \n",
      "---  ------         ----- \n",
      " 0   listing_id     int64 \n",
      " 1   id             int64 \n",
      " 2   date           object\n",
      " 3   reviewer_id    int64 \n",
      " 4   reviewer_name  object\n",
      " 5   comments       object\n",
      "dtypes: int64(3), object(3)\n",
      "memory usage: 82.1+ MB\n",
      "None\n"
     ]
    }
   ],
   "source": [
    "import pandas as pd\n",
    "\n",
    "# 데이터 로드\n",
    "df = pd.read_csv('D:/에어비앤비/파리/reviews.csv')\n",
    "\n",
    "# 데이터 확인\n",
    "print(df.head())\n",
    "print(df.info())\n"
   ]
  },
  {
   "cell_type": "code",
   "execution_count": 6,
   "metadata": {},
   "outputs": [
    {
     "name": "stdout",
     "output_type": "stream",
     "text": [
      "listing_id         0\n",
      "id                 0\n",
      "date               0\n",
      "reviewer_id        0\n",
      "reviewer_name      1\n",
      "comments         107\n",
      "dtype: int64\n"
     ]
    }
   ],
   "source": [
    "# 결측값 확인\n",
    "print(df.isnull().sum())\n",
    "\n",
    "# 결측값 처리 (필요에 따라)\n",
    "df = df.dropna()  # 결측값 있는 행 제거\n",
    "# 또는\n",
    "df['comments'] = df['comments'].fillna('')  # comments 컬럼의 결측값을 빈 문자열로 대체\n"
   ]
  },
  {
   "cell_type": "code",
   "execution_count": 7,
   "metadata": {},
   "outputs": [],
   "source": [
    "# 날짜 형식 변환\n",
    "df['date'] = pd.to_datetime(df['date'])\n"
   ]
  },
  {
   "cell_type": "code",
   "execution_count": 8,
   "metadata": {},
   "outputs": [],
   "source": [
    "df = df.drop(columns=['listing_id', 'reviewer_id', 'reviewer_name'])\n"
   ]
  },
  {
   "cell_type": "code",
   "execution_count": 9,
   "metadata": {},
   "outputs": [
    {
     "name": "stderr",
     "output_type": "stream",
     "text": [
      "[nltk_data] Downloading package stopwords to\n",
      "[nltk_data]     C:\\Users\\evol0\\AppData\\Roaming\\nltk_data...\n",
      "[nltk_data]   Unzipping corpora\\stopwords.zip.\n"
     ]
    }
   ],
   "source": [
    "import re\n",
    "from nltk.corpus import stopwords\n",
    "\n",
    "# NLTK 불용어 사전 다운로드 (한 번만 실행하면 됨)\n",
    "import nltk\n",
    "nltk.download('stopwords')\n",
    "\n",
    "# 불용어 설정\n",
    "stop_words = set(stopwords.words('english'))\n",
    "\n",
    "def preprocess_text(text):\n",
    "    # 소문자 변환\n",
    "    text = text.lower()\n",
    "    # 구두점 제거\n",
    "    text = re.sub(r'[^\\w\\s]', '', text)\n",
    "    # 불용어 제거\n",
    "    text = ' '.join(word for word in text.split() if word not in stop_words)\n",
    "    return text\n",
    "\n",
    "# 텍스트 전처리 적용\n",
    "df['comments'] = df['comments'].apply(preprocess_text)\n"
   ]
  },
  {
   "cell_type": "code",
   "execution_count": 12,
   "metadata": {},
   "outputs": [
    {
     "name": "stdout",
     "output_type": "stream",
     "text": [
      "sentiment\n",
      "positive    1181086\n",
      "neutral      585180\n",
      "negative      27632\n",
      "Name: count, dtype: int64\n"
     ]
    }
   ],
   "source": [
    "# 예: 감정 분석 수행\n",
    "from textblob import TextBlob\n",
    "\n",
    "def get_sentiment(text):\n",
    "    analysis = TextBlob(text)\n",
    "    if analysis.sentiment.polarity > 0:\n",
    "        return 'positive'\n",
    "    elif analysis.sentiment.polarity == 0:\n",
    "        return 'neutral'\n",
    "    else:\n",
    "        return 'negative'\n",
    "\n",
    "# 감정 분석 결과 추가\n",
    "df['sentiment'] = df['comments'].apply(get_sentiment)\n",
    "\n",
    "# 감정 분포 확인\n",
    "print(df['sentiment'].value_counts())\n"
   ]
  },
  {
   "cell_type": "code",
   "execution_count": 11,
   "metadata": {},
   "outputs": [
    {
     "name": "stdout",
     "output_type": "stream",
     "text": [
      "Collecting textblob\n",
      "  Downloading textblob-0.18.0.post0-py3-none-any.whl (626 kB)\n",
      "     -------------------------------------- 626.3/626.3 kB 3.3 MB/s eta 0:00:00\n",
      "Requirement already satisfied: nltk>=3.8 in c:\\users\\evol0\\appdata\\local\\programs\\python\\python310\\lib\\site-packages (from textblob) (3.8.1)\n",
      "Requirement already satisfied: tqdm in c:\\users\\evol0\\appdata\\local\\programs\\python\\python310\\lib\\site-packages (from nltk>=3.8->textblob) (4.66.4)\n",
      "Requirement already satisfied: regex>=2021.8.3 in c:\\users\\evol0\\appdata\\local\\programs\\python\\python310\\lib\\site-packages (from nltk>=3.8->textblob) (2024.5.15)\n",
      "Requirement already satisfied: joblib in c:\\users\\evol0\\appdata\\local\\programs\\python\\python310\\lib\\site-packages (from nltk>=3.8->textblob) (1.4.2)\n",
      "Requirement already satisfied: click in c:\\users\\evol0\\appdata\\local\\programs\\python\\python310\\lib\\site-packages (from nltk>=3.8->textblob) (8.1.7)\n",
      "Requirement already satisfied: colorama in c:\\users\\evol0\\appdata\\roaming\\python\\python310\\site-packages (from click->nltk>=3.8->textblob) (0.4.6)\n",
      "Installing collected packages: textblob\n",
      "Successfully installed textblob-0.18.0.post0\n"
     ]
    },
    {
     "name": "stderr",
     "output_type": "stream",
     "text": [
      "\n",
      "[notice] A new release of pip available: 22.3.1 -> 24.0\n",
      "[notice] To update, run: python.exe -m pip install --upgrade pip\n",
      "[nltk_data] Downloading package punkt to\n",
      "[nltk_data]     C:\\Users\\evol0\\AppData\\Roaming\\nltk_data...\n",
      "[nltk_data]   Package punkt is already up-to-date!\n"
     ]
    },
    {
     "data": {
      "text/plain": [
       "True"
      ]
     },
     "execution_count": 11,
     "metadata": {},
     "output_type": "execute_result"
    }
   ],
   "source": [
    "!pip install textblob\n",
    "import nltk\n",
    "nltk.download('punkt')\n"
   ]
  },
  {
   "cell_type": "code",
   "execution_count": 13,
   "metadata": {},
   "outputs": [
    {
     "data": {
      "image/png": "[encoded data removed]",
      "text/plain": [
       "<Figure size 640x480 with 1 Axes>"
      ]
     },
     "metadata": {},
     "output_type": "display_data"
    }
   ],
   "source": [
    "import matplotlib.pyplot as plt\n",
    "import seaborn as sns\n",
    "\n",
    "# 감정 분포 시각화\n",
    "sns.countplot(x='sentiment', data=df)\n",
    "plt.title('Sentiment Distribution of Reviews')\n",
    "plt.show()\n"
   ]
  }
 ],
 "metadata": {
  "kernelspec": {
   "display_name": "Python 3",
   "language": "python",
   "name": "python3"
  },
  "language_info": {
   "codemirror_mode": {
    "name": "ipython",
    "version": 3
   },
   "file_extension": ".py",
   "mimetype": "text/x-python",
   "name": "python",
   "nbconvert_exporter": "python",
   "pygments_lexer": "ipython3",
   "version": "3.10.9"
  }
 },
 "nbformat": 4,
 "nbformat_minor": 2
}
