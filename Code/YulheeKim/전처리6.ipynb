{
 "cells": [
  {
   "cell_type": "code",
   "execution_count": 1,
   "metadata": {},
   "outputs": [],
   "source": [
    "import pandas as pd\n",
    "import numpy as np\n",
    "import matplotlib.pyplot as plt"
   ]
  },
  {
   "cell_type": "code",
   "execution_count": 2,
   "metadata": {},
   "outputs": [],
   "source": [
    "path = \"D:/에어비앤비/파리/listings.csv\"\n",
    "df = pd.read_csv(path)"
   ]
  },
  {
   "cell_type": "code",
   "execution_count": 3,
   "metadata": {},
   "outputs": [
    {
     "name": "stdout",
     "output_type": "stream",
     "text": [
      "(84397, 75)\n"
     ]
    },
    {
     "data": {
      "text/html": [
       "<div>\n",
       "<style scoped>\n",
       "    .dataframe tbody tr th:only-of-type {\n",
       "        vertical-align: middle;\n",
       "    }\n",
       "\n",
       "    .dataframe tbody tr th {\n",
       "        vertical-align: top;\n",
       "    }\n",
       "\n",
       "    .dataframe thead th {\n",
       "        text-align: right;\n",
       "    }\n",
       "</style>\n",
       "<table border=\"1\" class=\"dataframe\">\n",
       "  <thead>\n",
       "    <tr style=\"text-align: right;\">\n",
       "      <th></th>\n",
       "      <th>id</th>\n",
       "      <th>listing_url</th>\n",
       "      <th>scrape_id</th>\n",
       "      <th>last_scraped</th>\n",
       "      <th>source</th>\n",
       "      <th>name</th>\n",
       "      <th>description</th>\n",
       "      <th>neighborhood_overview</th>\n",
       "      <th>picture_url</th>\n",
       "      <th>host_id</th>\n",
       "      <th>...</th>\n",
       "      <th>review_scores_communication</th>\n",
       "      <th>review_scores_location</th>\n",
       "      <th>review_scores_value</th>\n",
       "      <th>license</th>\n",
       "      <th>instant_bookable</th>\n",
       "      <th>calculated_host_listings_count</th>\n",
       "      <th>calculated_host_listings_count_entire_homes</th>\n",
       "      <th>calculated_host_listings_count_private_rooms</th>\n",
       "      <th>calculated_host_listings_count_shared_rooms</th>\n",
       "      <th>reviews_per_month</th>\n",
       "    </tr>\n",
       "  </thead>\n",
       "  <tbody>\n",
       "    <tr>\n",
       "      <th>0</th>\n",
       "      <td>3109</td>\n",
       "      <td>https://www.airbnb.com/rooms/3109</td>\n",
       "      <td>20240316023852</td>\n",
       "      <td>2024-03-19</td>\n",
       "      <td>city scrape</td>\n",
       "      <td>zen and calm</td>\n",
       "      <td>Lovely Appartment with one bedroom with a Quee...</td>\n",
       "      <td>Good restaurants&lt;br /&gt;very close the Montparna...</td>\n",
       "      <td>https://a0.muscache.com/pictures/miso/Hosting-...</td>\n",
       "      <td>3631</td>\n",
       "      <td>...</td>\n",
       "      <td>5.00</td>\n",
       "      <td>5.00</td>\n",
       "      <td>5.00</td>\n",
       "      <td>7511409139079</td>\n",
       "      <td>f</td>\n",
       "      <td>1</td>\n",
       "      <td>1</td>\n",
       "      <td>0</td>\n",
       "      <td>0</td>\n",
       "      <td>0.05</td>\n",
       "    </tr>\n",
       "    <tr>\n",
       "      <th>1</th>\n",
       "      <td>165409</td>\n",
       "      <td>https://www.airbnb.com/rooms/165409</td>\n",
       "      <td>20240316023852</td>\n",
       "      <td>2024-03-19</td>\n",
       "      <td>city scrape</td>\n",
       "      <td>studio charme Haut Marais PARIS</td>\n",
       "      <td>You'll love this typical parisian flat.</td>\n",
       "      <td>NaN</td>\n",
       "      <td>https://a0.muscache.com/pictures/miso/Hosting-...</td>\n",
       "      <td>788732</td>\n",
       "      <td>...</td>\n",
       "      <td>4.89</td>\n",
       "      <td>4.95</td>\n",
       "      <td>4.74</td>\n",
       "      <td>7510309597559</td>\n",
       "      <td>f</td>\n",
       "      <td>1</td>\n",
       "      <td>1</td>\n",
       "      <td>0</td>\n",
       "      <td>0</td>\n",
       "      <td>0.69</td>\n",
       "    </tr>\n",
       "    <tr>\n",
       "      <th>2</th>\n",
       "      <td>5396</td>\n",
       "      <td>https://www.airbnb.com/rooms/5396</td>\n",
       "      <td>20240316023852</td>\n",
       "      <td>2024-03-18</td>\n",
       "      <td>city scrape</td>\n",
       "      <td>Your perfect Paris studio on Île Saint-Louis</td>\n",
       "      <td>NEW SOFA-BED SINCE JUNE 2023, Please disregard...</td>\n",
       "      <td>You are within walking distance to the Louvre,...</td>\n",
       "      <td>https://a0.muscache.com/pictures/52413/f9bf76f...</td>\n",
       "      <td>7903</td>\n",
       "      <td>...</td>\n",
       "      <td>4.84</td>\n",
       "      <td>4.96</td>\n",
       "      <td>4.58</td>\n",
       "      <td>7510402838018</td>\n",
       "      <td>f</td>\n",
       "      <td>2</td>\n",
       "      <td>1</td>\n",
       "      <td>1</td>\n",
       "      <td>0</td>\n",
       "      <td>2.19</td>\n",
       "    </tr>\n",
       "    <tr>\n",
       "      <th>3</th>\n",
       "      <td>166370</td>\n",
       "      <td>https://www.airbnb.com/rooms/166370</td>\n",
       "      <td>20240316023852</td>\n",
       "      <td>2024-03-16</td>\n",
       "      <td>city scrape</td>\n",
       "      <td>Big appartment with view 4 people</td>\n",
       "      <td>2 Bedrooms apartment for up to 4 people, with ...</td>\n",
       "      <td>The avenue is located nearby the animated dist...</td>\n",
       "      <td>https://a0.muscache.com/pictures/74224563/6c9e...</td>\n",
       "      <td>793032</td>\n",
       "      <td>...</td>\n",
       "      <td>4.79</td>\n",
       "      <td>4.65</td>\n",
       "      <td>4.48</td>\n",
       "      <td>7511007974397</td>\n",
       "      <td>f</td>\n",
       "      <td>1</td>\n",
       "      <td>1</td>\n",
       "      <td>0</td>\n",
       "      <td>0</td>\n",
       "      <td>0.51</td>\n",
       "    </tr>\n",
       "    <tr>\n",
       "      <th>4</th>\n",
       "      <td>39948</td>\n",
       "      <td>https://www.airbnb.com/rooms/39948</td>\n",
       "      <td>20240316023852</td>\n",
       "      <td>2024-03-19</td>\n",
       "      <td>previous scrape</td>\n",
       "      <td>COSY INDEPENDENT ROOM IN CENTRAL PARIS</td>\n",
       "      <td>Large newly-renovated guest room in central Pa...</td>\n",
       "      <td>Located in the heart of Paris, The Montorgueil...</td>\n",
       "      <td>https://a0.muscache.com/pictures/f898fb0b-e72e...</td>\n",
       "      <td>171483</td>\n",
       "      <td>...</td>\n",
       "      <td>4.97</td>\n",
       "      <td>4.94</td>\n",
       "      <td>4.82</td>\n",
       "      <td>7510200734360</td>\n",
       "      <td>f</td>\n",
       "      <td>1</td>\n",
       "      <td>0</td>\n",
       "      <td>1</td>\n",
       "      <td>0</td>\n",
       "      <td>0.99</td>\n",
       "    </tr>\n",
       "  </tbody>\n",
       "</table>\n",
       "<p>5 rows × 75 columns</p>\n",
       "</div>"
      ],
      "text/plain": [
       "       id                          listing_url       scrape_id last_scraped  \\\n",
       "0    3109    https://www.airbnb.com/rooms/3109  20240316023852   2024-03-19   \n",
       "1  165409  https://www.airbnb.com/rooms/165409  20240316023852   2024-03-19   \n",
       "2    5396    https://www.airbnb.com/rooms/5396  20240316023852   2024-03-18   \n",
       "3  166370  https://www.airbnb.com/rooms/166370  20240316023852   2024-03-16   \n",
       "4   39948   https://www.airbnb.com/rooms/39948  20240316023852   2024-03-19   \n",
       "\n",
       "            source                                          name  \\\n",
       "0      city scrape                                  zen and calm   \n",
       "1      city scrape               studio charme Haut Marais PARIS   \n",
       "2      city scrape  Your perfect Paris studio on Île Saint-Louis   \n",
       "3      city scrape             Big appartment with view 4 people   \n",
       "4  previous scrape        COSY INDEPENDENT ROOM IN CENTRAL PARIS   \n",
       "\n",
       "                                         description  \\\n",
       "0  Lovely Appartment with one bedroom with a Quee...   \n",
       "1            You'll love this typical parisian flat.   \n",
       "2  NEW SOFA-BED SINCE JUNE 2023, Please disregard...   \n",
       "3  2 Bedrooms apartment for up to 4 people, with ...   \n",
       "4  Large newly-renovated guest room in central Pa...   \n",
       "\n",
       "                               neighborhood_overview  \\\n",
       "0  Good restaurants<br />very close the Montparna...   \n",
       "1                                                NaN   \n",
       "2  You are within walking distance to the Louvre,...   \n",
       "3  The avenue is located nearby the animated dist...   \n",
       "4  Located in the heart of Paris, The Montorgueil...   \n",
       "\n",
       "                                         picture_url  host_id  ...  \\\n",
       "0  https://a0.muscache.com/pictures/miso/Hosting-...     3631  ...   \n",
       "1  https://a0.muscache.com/pictures/miso/Hosting-...   788732  ...   \n",
       "2  https://a0.muscache.com/pictures/52413/f9bf76f...     7903  ...   \n",
       "3  https://a0.muscache.com/pictures/74224563/6c9e...   793032  ...   \n",
       "4  https://a0.muscache.com/pictures/f898fb0b-e72e...   171483  ...   \n",
       "\n",
       "  review_scores_communication review_scores_location review_scores_value  \\\n",
       "0                        5.00                   5.00                5.00   \n",
       "1                        4.89                   4.95                4.74   \n",
       "2                        4.84                   4.96                4.58   \n",
       "3                        4.79                   4.65                4.48   \n",
       "4                        4.97                   4.94                4.82   \n",
       "\n",
       "         license instant_bookable calculated_host_listings_count  \\\n",
       "0  7511409139079                f                              1   \n",
       "1  7510309597559                f                              1   \n",
       "2  7510402838018                f                              2   \n",
       "3  7511007974397                f                              1   \n",
       "4  7510200734360                f                              1   \n",
       "\n",
       "  calculated_host_listings_count_entire_homes  \\\n",
       "0                                           1   \n",
       "1                                           1   \n",
       "2                                           1   \n",
       "3                                           1   \n",
       "4                                           0   \n",
       "\n",
       "  calculated_host_listings_count_private_rooms  \\\n",
       "0                                            0   \n",
       "1                                            0   \n",
       "2                                            1   \n",
       "3                                            0   \n",
       "4                                            1   \n",
       "\n",
       "  calculated_host_listings_count_shared_rooms reviews_per_month  \n",
       "0                                           0              0.05  \n",
       "1                                           0              0.69  \n",
       "2                                           0              2.19  \n",
       "3                                           0              0.51  \n",
       "4                                           0              0.99  \n",
       "\n",
       "[5 rows x 75 columns]"
      ]
     },
     "execution_count": 3,
     "metadata": {},
     "output_type": "execute_result"
    }
   ],
   "source": [
    "print(df.shape)\n",
    "df.head()"
   ]
  },
  {
   "cell_type": "code",
   "execution_count": 4,
   "metadata": {},
   "outputs": [
    {
     "data": {
      "text/plain": [
       "Index(['id', 'listing_url', 'scrape_id', 'last_scraped', 'source', 'name',\n",
       "       'description', 'neighborhood_overview', 'picture_url', 'host_id',\n",
       "       'host_url', 'host_name', 'host_since', 'host_location', 'host_about',\n",
       "       'host_response_time', 'host_response_rate', 'host_acceptance_rate',\n",
       "       'host_is_superhost', 'host_thumbnail_url', 'host_picture_url',\n",
       "       'host_neighbourhood', 'host_listings_count',\n",
       "       'host_total_listings_count', 'host_verifications',\n",
       "       'host_has_profile_pic', 'host_identity_verified', 'neighbourhood',\n",
       "       'neighbourhood_cleansed', 'neighbourhood_group_cleansed', 'latitude',\n",
       "       'longitude', 'property_type', 'room_type', 'accommodates', 'bathrooms',\n",
       "       'bathrooms_text', 'bedrooms', 'beds', 'amenities', 'price',\n",
       "       'minimum_nights', 'maximum_nights', 'minimum_minimum_nights',\n",
       "       'maximum_minimum_nights', 'minimum_maximum_nights',\n",
       "       'maximum_maximum_nights', 'minimum_nights_avg_ntm',\n",
       "       'maximum_nights_avg_ntm', 'calendar_updated', 'has_availability',\n",
       "       'availability_30', 'availability_60', 'availability_90',\n",
       "       'availability_365', 'calendar_last_scraped', 'number_of_reviews',\n",
       "       'number_of_reviews_ltm', 'number_of_reviews_l30d', 'first_review',\n",
       "       'last_review', 'review_scores_rating', 'review_scores_accuracy',\n",
       "       'review_scores_cleanliness', 'review_scores_checkin',\n",
       "       'review_scores_communication', 'review_scores_location',\n",
       "       'review_scores_value', 'license', 'instant_bookable',\n",
       "       'calculated_host_listings_count',\n",
       "       'calculated_host_listings_count_entire_homes',\n",
       "       'calculated_host_listings_count_private_rooms',\n",
       "       'calculated_host_listings_count_shared_rooms', 'reviews_per_month'],\n",
       "      dtype='object')"
      ]
     },
     "execution_count": 4,
     "metadata": {},
     "output_type": "execute_result"
    }
   ],
   "source": [
    "df.columns"
   ]
  },
  {
   "cell_type": "code",
   "execution_count": 5,
   "metadata": {},
   "outputs": [],
   "source": [
    "columns_to_keep = ['id', 'host_id','host_is_superhost','host_total_listings_count',\n",
    "'neighbourhood_cleansed','room_type','accommodates','bathrooms','bedrooms','beds','amenities',\n",
    "'price','minimum_nights','maximum_nights','number_of_reviews_l30d',\n",
    "'review_scores_rating','review_scores_accuracy','review_scores_cleanliness','review_scores_checkin',\n",
    "'review_scores_communication','review_scores_location','review_scores_location','review_scores_value','reviews_per_month']\n",
    "\n",
    "# 해당 컬럼만 선택\n",
    "df = df[columns_to_keep]"
   ]
  },
  {
   "cell_type": "code",
   "execution_count": 6,
   "metadata": {},
   "outputs": [
    {
     "name": "stdout",
     "output_type": "stream",
     "text": [
      "<class 'pandas.core.frame.DataFrame'>\n",
      "RangeIndex: 84397 entries, 0 to 84396\n",
      "Data columns (total 24 columns):\n",
      " #   Column                       Non-Null Count  Dtype  \n",
      "---  ------                       --------------  -----  \n",
      " 0   id                           84397 non-null  int64  \n",
      " 1   host_id                      84397 non-null  int64  \n",
      " 2   host_is_superhost            84306 non-null  object \n",
      " 3   host_total_listings_count    84390 non-null  float64\n",
      " 4   neighbourhood_cleansed       84397 non-null  object \n",
      " 5   room_type                    84397 non-null  object \n",
      " 6   accommodates                 84397 non-null  int64  \n",
      " 7   bathrooms                    60959 non-null  float64\n",
      " 8   bedrooms                     77480 non-null  float64\n",
      " 9   beds                         60828 non-null  float64\n",
      " 10  amenities                    84397 non-null  object \n",
      " 11  price                        60917 non-null  object \n",
      " 12  minimum_nights               84397 non-null  int64  \n",
      " 13  maximum_nights               84397 non-null  int64  \n",
      " 14  number_of_reviews_l30d       84397 non-null  int64  \n",
      " 15  review_scores_rating         58827 non-null  float64\n",
      " 16  review_scores_accuracy       58793 non-null  float64\n",
      " 17  review_scores_cleanliness    58797 non-null  float64\n",
      " 18  review_scores_checkin        58784 non-null  float64\n",
      " 19  review_scores_communication  58795 non-null  float64\n",
      " 20  review_scores_location       58787 non-null  float64\n",
      " 21  review_scores_location       58787 non-null  float64\n",
      " 22  review_scores_value          58782 non-null  float64\n",
      " 23  reviews_per_month            58822 non-null  float64\n",
      "dtypes: float64(13), int64(6), object(5)\n",
      "memory usage: 15.5+ MB\n"
     ]
    }
   ],
   "source": [
    "df.info()"
   ]
  },
  {
   "cell_type": "code",
   "execution_count": 7,
   "metadata": {},
   "outputs": [],
   "source": [
    "df.columns = ['숙소_id', '호스트_id','슈퍼호스트','숙소_수','숙소_지역','숙소_유형','수용_인원수','욕실수','침실수','침대수','어메너티','숙소_가격','최소_숙박일','최대_숙박일','리뷰수','30일_리뷰수','리뷰점수','숙소_정확성_리뷰점수','숙소_청결도_리뷰점수','숙소_체크인_리뷰점수','숙소_소통_리뷰점수','숙소_위치_리뷰점수','숙소_가격_리뷰점수','평균_리뷰수']"
   ]
  },
  {
   "cell_type": "code",
   "execution_count": 8,
   "metadata": {},
   "outputs": [
    {
     "name": "stdout",
     "output_type": "stream",
     "text": [
      "<class 'pandas.core.frame.DataFrame'>\n",
      "RangeIndex: 84397 entries, 0 to 84396\n",
      "Data columns (total 24 columns):\n",
      " #   Column       Non-Null Count  Dtype  \n",
      "---  ------       --------------  -----  \n",
      " 0   숙소_id        84397 non-null  int64  \n",
      " 1   호스트_id       84397 non-null  int64  \n",
      " 2   슈퍼호스트        84306 non-null  object \n",
      " 3   숙소_수         84390 non-null  float64\n",
      " 4   숙소_지역        84397 non-null  object \n",
      " 5   숙소_유형        84397 non-null  object \n",
      " 6   수용_인원수       84397 non-null  int64  \n",
      " 7   욕실수          60959 non-null  float64\n",
      " 8   침실수          77480 non-null  float64\n",
      " 9   침대수          60828 non-null  float64\n",
      " 10  어메너티         84397 non-null  object \n",
      " 11  숙소_가격        60917 non-null  object \n",
      " 12  최소_숙박일       84397 non-null  int64  \n",
      " 13  최대_숙박일       84397 non-null  int64  \n",
      " 14  리뷰수          84397 non-null  int64  \n",
      " 15  30일_리뷰수      58827 non-null  float64\n",
      " 16  리뷰점수         58793 non-null  float64\n",
      " 17  숙소_정확성_리뷰점수  58797 non-null  float64\n",
      " 18  숙소_청결도_리뷰점수  58784 non-null  float64\n",
      " 19  숙소_체크인_리뷰점수  58795 non-null  float64\n",
      " 20  숙소_소통_리뷰점수   58787 non-null  float64\n",
      " 21  숙소_위치_리뷰점수   58787 non-null  float64\n",
      " 22  숙소_가격_리뷰점수   58782 non-null  float64\n",
      " 23  평균_리뷰수       58822 non-null  float64\n",
      "dtypes: float64(13), int64(6), object(5)\n",
      "memory usage: 15.5+ MB\n"
     ]
    }
   ],
   "source": [
    "df.info()"
   ]
  },
  {
   "cell_type": "code",
   "execution_count": 9,
   "metadata": {},
   "outputs": [],
   "source": [
    "df = df.dropna(subset=['슈퍼호스트'])\n",
    "df = df.dropna(subset=['숙소_수'])"
   ]
  },
  {
   "cell_type": "code",
   "execution_count": 13,
   "metadata": {},
   "outputs": [
    {
     "name": "stdout",
     "output_type": "stream",
     "text": [
      "<class 'pandas.core.frame.DataFrame'>\n",
      "Index: 84299 entries, 0 to 84396\n",
      "Data columns (total 24 columns):\n",
      " #   Column       Non-Null Count  Dtype  \n",
      "---  ------       --------------  -----  \n",
      " 0   숙소_id        84299 non-null  int64  \n",
      " 1   호스트_id       84299 non-null  int64  \n",
      " 2   슈퍼호스트        84299 non-null  object \n",
      " 3   숙소_수         84299 non-null  float64\n",
      " 4   숙소_지역        84299 non-null  object \n",
      " 5   숙소_유형        84299 non-null  object \n",
      " 6   수용_인원수       84299 non-null  int64  \n",
      " 7   욕실수          60891 non-null  float64\n",
      " 8   침실수          77394 non-null  float64\n",
      " 9   침대수          60760 non-null  float64\n",
      " 10  어메너티         84299 non-null  object \n",
      " 11  숙소_가격        60849 non-null  object \n",
      " 12  최소_숙박일       84299 non-null  int64  \n",
      " 13  최대_숙박일       84299 non-null  int64  \n",
      " 14  리뷰수          84299 non-null  int64  \n",
      " 15  30일_리뷰수      58750 non-null  float64\n",
      " 16  리뷰점수         58716 non-null  float64\n",
      " 17  숙소_정확성_리뷰점수  58720 non-null  float64\n",
      " 18  숙소_청결도_리뷰점수  58707 non-null  float64\n",
      " 19  숙소_체크인_리뷰점수  58718 non-null  float64\n",
      " 20  숙소_소통_리뷰점수   58710 non-null  float64\n",
      " 21  숙소_위치_리뷰점수   58710 non-null  float64\n",
      " 22  숙소_가격_리뷰점수   58705 non-null  float64\n",
      " 23  평균_리뷰수       58745 non-null  float64\n",
      "dtypes: float64(13), int64(6), object(5)\n",
      "memory usage: 16.1+ MB\n"
     ]
    }
   ],
   "source": [
    "df.info()"
   ]
  },
  {
   "cell_type": "code",
   "execution_count": 14,
   "metadata": {},
   "outputs": [
    {
     "data": {
      "text/plain": [
       "Index(['숙소_id', '호스트_id', '슈퍼호스트', '숙소_수', '숙소_지역', '숙소_유형', '수용_인원수', '욕실수',\n",
       "       '침실수', '침대수', '어메너티', '숙소_가격', '최소_숙박일', '최대_숙박일', '리뷰수', '30일_리뷰수',\n",
       "       '리뷰점수', '숙소_정확성_리뷰점수', '숙소_청결도_리뷰점수', '숙소_체크인_리뷰점수', '숙소_소통_리뷰점수',\n",
       "       '숙소_위치_리뷰점수', '숙소_가격_리뷰점수', '평균_리뷰수'],\n",
       "      dtype='object')"
      ]
     },
     "execution_count": 14,
     "metadata": {},
     "output_type": "execute_result"
    }
   ],
   "source": [
    "df.columns"
   ]
  },
  {
   "cell_type": "code",
   "execution_count": 16,
   "metadata": {},
   "outputs": [
    {
     "data": {
      "image/png": "[encoded data removed]",
      "text/plain": [
       "<Figure size 640x480 with 1 Axes>"
      ]
     },
     "metadata": {},
     "output_type": "display_data"
    }
   ],
   "source": [
    "# x 축에 'column1', y 축에 'column2'를 사용하여 산점도 그리기\n",
    "plt.scatter(df['리뷰점수'], df['침대수'])\n",
    "\n",
    "# 그래프에 타이틀 및 레이블 추가\n",
    "plt.title('Scatter Plot of column1 vs column2')\n",
    "plt.xlabel('review_score')\n",
    "plt.ylabel('bed')\n",
    "\n",
    "# 그래프 보여주기\n",
    "plt.show()\n"
   ]
  },
  {
   "cell_type": "code",
   "execution_count": 17,
   "metadata": {},
   "outputs": [
    {
     "data": {
      "image/png": "[encoded data removed]",
      "text/plain": [
       "<Figure size 640x480 with 1 Axes>"
      ]
     },
     "metadata": {},
     "output_type": "display_data"
    }
   ],
   "source": [
    "plt.scatter(df['리뷰점수'], df['침실수'])\n",
    "\n",
    "# 그래프에 타이틀 및 레이블 추가\n",
    "plt.title('Scatter Plot of column1 vs column2')\n",
    "plt.xlabel('review_score')\n",
    "plt.ylabel('bedroom')\n",
    "\n",
    "# 그래프 보여주기\n",
    "plt.show()"
   ]
  },
  {
   "cell_type": "code",
   "execution_count": 20,
   "metadata": {},
   "outputs": [],
   "source": [
    "import seaborn as sns"
   ]
  },
  {
   "cell_type": "code",
   "execution_count": 28,
   "metadata": {},
   "outputs": [
    {
     "name": "stderr",
     "output_type": "stream",
     "text": [
      "c:\\Users\\evol0\\AppData\\Local\\Programs\\Python\\Python310\\lib\\site-packages\\seaborn\\utils.py:61: UserWarning: Glyph 49689 (\\N{HANGUL SYLLABLE SUG}) missing from font(s) DejaVu Sans.\n",
      "  fig.canvas.draw()\n",
      "c:\\Users\\evol0\\AppData\\Local\\Programs\\Python\\Python310\\lib\\site-packages\\seaborn\\utils.py:61: UserWarning: Glyph 49548 (\\N{HANGUL SYLLABLE SO}) missing from font(s) DejaVu Sans.\n",
      "  fig.canvas.draw()\n",
      "c:\\Users\\evol0\\AppData\\Local\\Programs\\Python\\Python310\\lib\\site-packages\\seaborn\\utils.py:61: UserWarning: Glyph 51648 (\\N{HANGUL SYLLABLE JI}) missing from font(s) DejaVu Sans.\n",
      "  fig.canvas.draw()\n",
      "c:\\Users\\evol0\\AppData\\Local\\Programs\\Python\\Python310\\lib\\site-packages\\seaborn\\utils.py:61: UserWarning: Glyph 50669 (\\N{HANGUL SYLLABLE YEOG}) missing from font(s) DejaVu Sans.\n",
      "  fig.canvas.draw()\n",
      "c:\\Users\\evol0\\AppData\\Local\\Programs\\Python\\Python310\\lib\\site-packages\\seaborn\\utils.py:61: UserWarning: Glyph 50976 (\\N{HANGUL SYLLABLE YU}) missing from font(s) DejaVu Sans.\n",
      "  fig.canvas.draw()\n",
      "c:\\Users\\evol0\\AppData\\Local\\Programs\\Python\\Python310\\lib\\site-packages\\seaborn\\utils.py:61: UserWarning: Glyph 54805 (\\N{HANGUL SYLLABLE HYEONG}) missing from font(s) DejaVu Sans.\n",
      "  fig.canvas.draw()\n",
      "c:\\Users\\evol0\\AppData\\Local\\Programs\\Python\\Python310\\lib\\site-packages\\seaborn\\utils.py:61: UserWarning: Glyph 44032 (\\N{HANGUL SYLLABLE GA}) missing from font(s) DejaVu Sans.\n",
      "  fig.canvas.draw()\n",
      "c:\\Users\\evol0\\AppData\\Local\\Programs\\Python\\Python310\\lib\\site-packages\\seaborn\\utils.py:61: UserWarning: Glyph 44201 (\\N{HANGUL SYLLABLE GYEOG}) missing from font(s) DejaVu Sans.\n",
      "  fig.canvas.draw()\n",
      "c:\\Users\\evol0\\AppData\\Local\\Programs\\Python\\Python310\\lib\\site-packages\\seaborn\\utils.py:61: UserWarning: Glyph 52840 (\\N{HANGUL SYLLABLE CIM}) missing from font(s) DejaVu Sans.\n",
      "  fig.canvas.draw()\n",
      "c:\\Users\\evol0\\AppData\\Local\\Programs\\Python\\Python310\\lib\\site-packages\\seaborn\\utils.py:61: UserWarning: Glyph 45824 (\\N{HANGUL SYLLABLE DAE}) missing from font(s) DejaVu Sans.\n",
      "  fig.canvas.draw()\n",
      "c:\\Users\\evol0\\AppData\\Local\\Programs\\Python\\Python310\\lib\\site-packages\\seaborn\\utils.py:61: UserWarning: Glyph 49688 (\\N{HANGUL SYLLABLE SU}) missing from font(s) DejaVu Sans.\n",
      "  fig.canvas.draw()\n",
      "c:\\Users\\evol0\\AppData\\Local\\Programs\\Python\\Python310\\lib\\site-packages\\seaborn\\utils.py:61: UserWarning: Glyph 49892 (\\N{HANGUL SYLLABLE SIL}) missing from font(s) DejaVu Sans.\n",
      "  fig.canvas.draw()\n",
      "C:\\Users\\evol0\\AppData\\Roaming\\Python\\Python310\\site-packages\\IPython\\core\\pylabtools.py:170: UserWarning: Glyph 49689 (\\N{HANGUL SYLLABLE SUG}) missing from font(s) DejaVu Sans.\n",
      "  fig.canvas.print_figure(bytes_io, **kw)\n",
      "C:\\Users\\evol0\\AppData\\Roaming\\Python\\Python310\\site-packages\\IPython\\core\\pylabtools.py:170: UserWarning: Glyph 49548 (\\N{HANGUL SYLLABLE SO}) missing from font(s) DejaVu Sans.\n",
      "  fig.canvas.print_figure(bytes_io, **kw)\n",
      "C:\\Users\\evol0\\AppData\\Roaming\\Python\\Python310\\site-packages\\IPython\\core\\pylabtools.py:170: UserWarning: Glyph 51648 (\\N{HANGUL SYLLABLE JI}) missing from font(s) DejaVu Sans.\n",
      "  fig.canvas.print_figure(bytes_io, **kw)\n",
      "C:\\Users\\evol0\\AppData\\Roaming\\Python\\Python310\\site-packages\\IPython\\core\\pylabtools.py:170: UserWarning: Glyph 50669 (\\N{HANGUL SYLLABLE YEOG}) missing from font(s) DejaVu Sans.\n",
      "  fig.canvas.print_figure(bytes_io, **kw)\n",
      "C:\\Users\\evol0\\AppData\\Roaming\\Python\\Python310\\site-packages\\IPython\\core\\pylabtools.py:170: UserWarning: Glyph 50976 (\\N{HANGUL SYLLABLE YU}) missing from font(s) DejaVu Sans.\n",
      "  fig.canvas.print_figure(bytes_io, **kw)\n",
      "C:\\Users\\evol0\\AppData\\Roaming\\Python\\Python310\\site-packages\\IPython\\core\\pylabtools.py:170: UserWarning: Glyph 54805 (\\N{HANGUL SYLLABLE HYEONG}) missing from font(s) DejaVu Sans.\n",
      "  fig.canvas.print_figure(bytes_io, **kw)\n",
      "C:\\Users\\evol0\\AppData\\Roaming\\Python\\Python310\\site-packages\\IPython\\core\\pylabtools.py:170: UserWarning: Glyph 44032 (\\N{HANGUL SYLLABLE GA}) missing from font(s) DejaVu Sans.\n",
      "  fig.canvas.print_figure(bytes_io, **kw)\n",
      "C:\\Users\\evol0\\AppData\\Roaming\\Python\\Python310\\site-packages\\IPython\\core\\pylabtools.py:170: UserWarning: Glyph 44201 (\\N{HANGUL SYLLABLE GYEOG}) missing from font(s) DejaVu Sans.\n",
      "  fig.canvas.print_figure(bytes_io, **kw)\n",
      "C:\\Users\\evol0\\AppData\\Roaming\\Python\\Python310\\site-packages\\IPython\\core\\pylabtools.py:170: UserWarning: Glyph 52840 (\\N{HANGUL SYLLABLE CIM}) missing from font(s) DejaVu Sans.\n",
      "  fig.canvas.print_figure(bytes_io, **kw)\n",
      "C:\\Users\\evol0\\AppData\\Roaming\\Python\\Python310\\site-packages\\IPython\\core\\pylabtools.py:170: UserWarning: Glyph 45824 (\\N{HANGUL SYLLABLE DAE}) missing from font(s) DejaVu Sans.\n",
      "  fig.canvas.print_figure(bytes_io, **kw)\n",
      "C:\\Users\\evol0\\AppData\\Roaming\\Python\\Python310\\site-packages\\IPython\\core\\pylabtools.py:170: UserWarning: Glyph 49688 (\\N{HANGUL SYLLABLE SU}) missing from font(s) DejaVu Sans.\n",
      "  fig.canvas.print_figure(bytes_io, **kw)\n",
      "C:\\Users\\evol0\\AppData\\Roaming\\Python\\Python310\\site-packages\\IPython\\core\\pylabtools.py:170: UserWarning: Glyph 49892 (\\N{HANGUL SYLLABLE SIL}) missing from font(s) DejaVu Sans.\n",
      "  fig.canvas.print_figure(bytes_io, **kw)\n"
     ]
    },
    {
     "data": {
      "image/png": "[encoded data removed]",
      "text/plain": [
       "<Figure size 800x600 with 2 Axes>"
      ]
     },
     "metadata": {},
     "output_type": "display_data"
    }
   ],
   "source": [
    "selected_columns = df[['숙소_지역', '숙소_유형', '숙소_가격', '침대수', '침실수']]\n",
    "\n",
    "# 상관관계 매트릭스 계산\n",
    "corr_matrix = selected_columns.corr()\n",
    "\n",
    "# 히트맵 생성\n",
    "plt.figure(figsize=(8, 6))  # 그래프 크기 설정\n",
    "sns.heatmap(corr_matrix, annot=True, fmt=\".2f\", cmap='coolwarm', cbar=True)\n",
    "plt.title('Heatmap of Selected Columns')\n",
    "plt.show()"
   ]
  },
  {
   "cell_type": "code",
   "execution_count": 22,
   "metadata": {},
   "outputs": [
    {
     "name": "stdout",
     "output_type": "stream",
     "text": [
      "<class 'pandas.core.frame.DataFrame'>\n",
      "Index: 84299 entries, 0 to 84396\n",
      "Data columns (total 24 columns):\n",
      " #   Column       Non-Null Count  Dtype  \n",
      "---  ------       --------------  -----  \n",
      " 0   숙소_id        84299 non-null  int64  \n",
      " 1   호스트_id       84299 non-null  int64  \n",
      " 2   슈퍼호스트        84299 non-null  object \n",
      " 3   숙소_수         84299 non-null  float64\n",
      " 4   숙소_지역        84299 non-null  object \n",
      " 5   숙소_유형        84299 non-null  object \n",
      " 6   수용_인원수       84299 non-null  int64  \n",
      " 7   욕실수          60891 non-null  float64\n",
      " 8   침실수          77394 non-null  float64\n",
      " 9   침대수          60760 non-null  float64\n",
      " 10  어메너티         84299 non-null  object \n",
      " 11  숙소_가격        60849 non-null  object \n",
      " 12  최소_숙박일       84299 non-null  int64  \n",
      " 13  최대_숙박일       84299 non-null  int64  \n",
      " 14  리뷰수          84299 non-null  int64  \n",
      " 15  30일_리뷰수      58750 non-null  float64\n",
      " 16  리뷰점수         58716 non-null  float64\n",
      " 17  숙소_정확성_리뷰점수  58720 non-null  float64\n",
      " 18  숙소_청결도_리뷰점수  58707 non-null  float64\n",
      " 19  숙소_체크인_리뷰점수  58718 non-null  float64\n",
      " 20  숙소_소통_리뷰점수   58710 non-null  float64\n",
      " 21  숙소_위치_리뷰점수   58710 non-null  float64\n",
      " 22  숙소_가격_리뷰점수   58705 non-null  float64\n",
      " 23  평균_리뷰수       58745 non-null  float64\n",
      "dtypes: float64(13), int64(6), object(5)\n",
      "memory usage: 16.1+ MB\n"
     ]
    }
   ],
   "source": [
    "df.info()"
   ]
  },
  {
   "cell_type": "code",
   "execution_count": 26,
   "metadata": {},
   "outputs": [
    {
     "name": "stdout",
     "output_type": "stream",
     "text": [
      "                     숙소_id     호스트_id 슈퍼호스트  숙소_수              숙소_지역  \\\n",
      "4                    39948     171483     t   2.0             Bourse   \n",
      "5                    40143     172322     f   2.0         Popincourt   \n",
      "11                   42507     142478     f   3.0    Buttes-Chaumont   \n",
      "20                  178188     852658     f   1.0       Ménilmontant   \n",
      "24                   45967     204922     f   1.0             Bourse   \n",
      "...                    ...        ...   ...   ...                ...   \n",
      "80052  1089714103986173954  489964484     f  74.0  Buttes-Montmartre   \n",
      "80158  1089792608267990973  561357977     f   1.0  Buttes-Montmartre   \n",
      "80159  1090573134171110492   57780871     f   1.0         Popincourt   \n",
      "80162  1089799445843880628  106802916     f   5.0       Ménilmontant   \n",
      "80306  1090661597250162632  556259587     f   4.0              Passy   \n",
      "\n",
      "                 숙소_유형  수용_인원수  욕실수  침실수  침대수  ... 리뷰수 30일_리뷰수  리뷰점수  \\\n",
      "4         Private room       2  NaN  NaN  NaN  ...   3    4.86  4.93   \n",
      "5      Entire home/apt       4  NaN  1.0  NaN  ...   0    5.00  4.75   \n",
      "11     Entire home/apt       4  NaN  1.0  NaN  ...   0    4.84  4.84   \n",
      "20     Entire home/apt       2  NaN  1.0  NaN  ...   0    4.87  4.89   \n",
      "24     Entire home/apt       4  NaN  1.0  NaN  ...   0    4.13  4.27   \n",
      "...                ...     ...  ...  ...  ...  ...  ..     ...   ...   \n",
      "80052  Entire home/apt       2  NaN  1.0  NaN  ...   0     NaN   NaN   \n",
      "80158  Entire home/apt       2  NaN  1.0  NaN  ...   0     NaN   NaN   \n",
      "80159  Entire home/apt       5  NaN  2.0  NaN  ...   0     NaN   NaN   \n",
      "80162     Private room       3  NaN  NaN  NaN  ...   2    5.00  4.50   \n",
      "80306  Entire home/apt       6  NaN  3.0  NaN  ...   0     NaN   NaN   \n",
      "\n",
      "       숙소_정확성_리뷰점수  숙소_청결도_리뷰점수  숙소_체크인_리뷰점수  숙소_소통_리뷰점수  숙소_위치_리뷰점수  \\\n",
      "4             4.82         4.96         4.97        4.94        4.94   \n",
      "5             5.00         4.88         4.88        4.88        4.88   \n",
      "11            4.60         4.91         4.97        4.60        4.60   \n",
      "20            4.91         5.00         4.96        4.75        4.75   \n",
      "24            3.47         4.93         4.87        5.00        5.00   \n",
      "...            ...          ...          ...         ...         ...   \n",
      "80052          NaN          NaN          NaN         NaN         NaN   \n",
      "80158          NaN          NaN          NaN         NaN         NaN   \n",
      "80159          NaN          NaN          NaN         NaN         NaN   \n",
      "80162         5.00         5.00         5.00        5.00        5.00   \n",
      "80306          NaN          NaN          NaN         NaN         NaN   \n",
      "\n",
      "       숙소_가격_리뷰점수  평균_리뷰수  \n",
      "4            4.82    0.99  \n",
      "5            5.00    0.07  \n",
      "11           4.79    0.37  \n",
      "20           4.77    0.38  \n",
      "24           4.33    0.21  \n",
      "...           ...     ...  \n",
      "80052         NaN     NaN  \n",
      "80158         NaN     NaN  \n",
      "80159         NaN     NaN  \n",
      "80162        5.00    2.00  \n",
      "80306         NaN     NaN  \n",
      "\n",
      "[23539 rows x 24 columns]\n"
     ]
    }
   ],
   "source": [
    "# 문자열 데이터가 있는지 확인\n",
    "non_numeric = df[pd.to_numeric(df['침대수'], errors='coerce').isna()]\n",
    "print(non_numeric)\n"
   ]
  },
  {
   "cell_type": "code",
   "execution_count": 27,
   "metadata": {},
   "outputs": [
    {
     "name": "stderr",
     "output_type": "stream",
     "text": [
      "C:\\Users\\evol0\\AppData\\Local\\Temp\\ipykernel_33036\\2010975172.py:5: FutureWarning: A value is trying to be set on a copy of a DataFrame or Series through chained assignment using an inplace method.\n",
      "The behavior will change in pandas 3.0. This inplace method will never work because the intermediate object on which we are setting values always behaves as a copy.\n",
      "\n",
      "For example, when doing 'df[col].method(value, inplace=True)', try using 'df.method({col: value}, inplace=True)' or df[col] = df[col].method(value) instead, to perform the operation inplace on the original object.\n",
      "\n",
      "\n",
      "  df['침대수'].fillna(value=0, inplace=True)\n",
      "C:\\Users\\evol0\\AppData\\Local\\Temp\\ipykernel_33036\\2010975172.py:11: FutureWarning: A value is trying to be set on a copy of a DataFrame or Series through chained assignment using an inplace method.\n",
      "The behavior will change in pandas 3.0. This inplace method will never work because the intermediate object on which we are setting values always behaves as a copy.\n",
      "\n",
      "For example, when doing 'df[col].method(value, inplace=True)', try using 'df.method({col: value}, inplace=True)' or df[col] = df[col].method(value) instead, to perform the operation inplace on the original object.\n",
      "\n",
      "\n",
      "  df['숙소_지역'].fillna(value=0, inplace=True)\n",
      "C:\\Users\\evol0\\AppData\\Local\\Temp\\ipykernel_33036\\2010975172.py:17: FutureWarning: A value is trying to be set on a copy of a DataFrame or Series through chained assignment using an inplace method.\n",
      "The behavior will change in pandas 3.0. This inplace method will never work because the intermediate object on which we are setting values always behaves as a copy.\n",
      "\n",
      "For example, when doing 'df[col].method(value, inplace=True)', try using 'df.method({col: value}, inplace=True)' or df[col] = df[col].method(value) instead, to perform the operation inplace on the original object.\n",
      "\n",
      "\n",
      "  df['침실수'].fillna(value=0, inplace=True)\n",
      "C:\\Users\\evol0\\AppData\\Local\\Temp\\ipykernel_33036\\2010975172.py:22: FutureWarning: A value is trying to be set on a copy of a DataFrame or Series through chained assignment using an inplace method.\n",
      "The behavior will change in pandas 3.0. This inplace method will never work because the intermediate object on which we are setting values always behaves as a copy.\n",
      "\n",
      "For example, when doing 'df[col].method(value, inplace=True)', try using 'df.method({col: value}, inplace=True)' or df[col] = df[col].method(value) instead, to perform the operation inplace on the original object.\n",
      "\n",
      "\n",
      "  df['침실수'].fillna(value=0, inplace=True)\n",
      "C:\\Users\\evol0\\AppData\\Local\\Temp\\ipykernel_33036\\2010975172.py:27: FutureWarning: A value is trying to be set on a copy of a DataFrame or Series through chained assignment using an inplace method.\n",
      "The behavior will change in pandas 3.0. This inplace method will never work because the intermediate object on which we are setting values always behaves as a copy.\n",
      "\n",
      "For example, when doing 'df[col].method(value, inplace=True)', try using 'df.method({col: value}, inplace=True)' or df[col] = df[col].method(value) instead, to perform the operation inplace on the original object.\n",
      "\n",
      "\n",
      "  df['숙소_가격'].fillna(value=0, inplace=True)\n"
     ]
    }
   ],
   "source": [
    "# 문자열 데이터를 NaN으로 변환\n",
    "df['침대수'] = pd.to_numeric(df['침대수'], errors='coerce')\n",
    "\n",
    "# 필요하다면 NaN 값들을 특정 값으로 대체\n",
    "df['침대수'].fillna(value=0, inplace=True)\n",
    "\n",
    "# 문자열 데이터를 NaN으로 변환\n",
    "df['숙소_지역'] = pd.to_numeric(df['숙소_지역'], errors='coerce')\n",
    "\n",
    "# 필요하다면 NaN 값들을 특정 값으로 대체\n",
    "df['숙소_지역'].fillna(value=0, inplace=True)\n",
    "\n",
    "# 문자열 데이터를 NaN으로 변환\n",
    "df['숙소_유형'] = pd.to_numeric(df['숙소_유형'], errors='coerce')\n",
    "\n",
    "# 필요하다면 NaN 값들을 특정 값으로 대체\n",
    "df['침실수'].fillna(value=0, inplace=True)\n",
    "\n",
    "df['침실수'] = pd.to_numeric(df['침실수'], errors='coerce')\n",
    "\n",
    "# 필요하다면 NaN 값들을 특정 값으로 대체\n",
    "df['침실수'].fillna(value=0, inplace=True)\n",
    "\n",
    "df['숙소_가격'] = pd.to_numeric(df['숙소_가격'], errors='coerce')\n",
    "\n",
    "# 필요하다면 NaN 값들을 특정 값으로 대체\n",
    "df['숙소_가격'].fillna(value=0, inplace=True)\n",
    "\n",
    "\n"
   ]
  },
  {
   "cell_type": "code",
   "execution_count": null,
   "metadata": {},
   "outputs": [],
   "source": []
  },
  {
   "cell_type": "code",
   "execution_count": null,
   "metadata": {},
   "outputs": [],
   "source": []
  },
  {
   "cell_type": "code",
   "execution_count": null,
   "metadata": {},
   "outputs": [],
   "source": []
  },
  {
   "cell_type": "code",
   "execution_count": null,
   "metadata": {},
   "outputs": [],
   "source": []
  }
 ],
 "metadata": {
  "kernelspec": {
   "display_name": "Python 3",
   "language": "python",
   "name": "python3"
  },
  "language_info": {
   "codemirror_mode": {
    "name": "ipython",
    "version": 3
   },
   "file_extension": ".py",
   "mimetype": "text/x-python",
   "name": "python",
   "nbconvert_exporter": "python",
   "pygments_lexer": "ipython3",
   "version": "3.10.9"
  }
 },
 "nbformat": 4,
 "nbformat_minor": 2
}
