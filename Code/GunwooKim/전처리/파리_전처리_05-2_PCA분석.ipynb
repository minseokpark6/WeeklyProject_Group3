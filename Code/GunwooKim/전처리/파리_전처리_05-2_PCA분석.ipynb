{
 "cells": [
  {
   "cell_type": "markdown",
   "metadata": {},
   "source": [
    "# 요인 분석 진행"
   ]
  },
  {
   "cell_type": "markdown",
   "metadata": {},
   "source": [
    "요인분석(Factor Analysis)은 변수들 간의 상관관계를 고려하여 저변에 내재된 개념인 요인들을 추출해내는 분석방법이다.\n",
    "\n",
    "다른 말로 하면, 요인분석은 변수들 간의 상관관계를 고려하여 서로 유사한 변수들 끼리 묶어주는 방법이다. \n",
    "\n",
    "또 다른 말로 하면, 많은 변수로 구성된 데이터가 몇 개의 요인에 의해 영향을 받는가를 알아보는 것이라고도 할 수 있다."
   ]
  },
  {
   "cell_type": "markdown",
   "metadata": {},
   "source": [
    "<요인분석방법>\n",
    "\n",
    "요인분석방법은 자료의 총분산을 구성하는 요소 중 어느 부분을 사용하느냐에 따라 다음과 같은 두 가지로 구성됩니다.\n",
    "\n",
    "① 주성분분석(principle component analysis) : 원래의 변수들의 분산 중 가급적 많은 부분을 설명하는 소수의 요인을 추출하는데 목적이 있고, 공통분산이 크다는 사실을 아는 경우에 적절합니다. 주성분분석의 경우 상관행렬의 대각선에 1이 사용되는데 이는 모든 분산이 공유된다는 것을 의미합니다.\n",
    "\n",
    "② 공통요인분석(common factor analysis) : 원래 변수들의 토대가 되는 잠재차원들을 찾아내고, 분산의 구성에 대한 사전지식이 별로 없는 경우에 적절합니다.\n"
   ]
  },
  {
   "cell_type": "code",
   "execution_count": 2,
   "metadata": {},
   "outputs": [
    {
     "name": "stdout",
     "output_type": "stream",
     "text": [
      "처음 df : 84397\n",
      "슈퍼호스트 제거 : 84306\n",
      "리뷰수 제거 : 47841\n",
      "숙소_유형 제거 : 34280\n",
      "12개월_리뷰수 0개 제거 : 31052\n",
      "욕실수, 침실수, 침대수 제거 후 : 30997\n",
      "리뷰 결측치 제거 후 : 30997\n",
      "예약가능여부 : 30990\n"
     ]
    }
   ],
   "source": [
    "import numpy as np\n",
    "import pandas as pd\n",
    "import matplotlib.pyplot as plt\n",
    "import seaborn as sns\n",
    "import matplotlib as mpl\n",
    "from matplotlib import font_manager, rc\n",
    "%matplotlib inline\n",
    "\n",
    "# 글꼴 경로 지정\n",
    "font_path = \"c:/Windows/Fonts/malgun.ttf\"  # 윈도우에 설치된 맑은 고딕 폰트 경로\n",
    "\n",
    "# 폰트 이름 얻어오기\n",
    "font_name = font_manager.FontProperties(fname=font_path).get_name()\n",
    "\n",
    "# matplotlib의 rc(run command) 기능을 이용하여 글꼴 설정\n",
    "mpl.rc('font', family=font_name)\n",
    "\n",
    "# 유니코드에서  음수 부호 설정\n",
    "mpl.rc('axes', unicode_minus=False)\n",
    "\n",
    "path='../data/Paris/listings.csv'\n",
    "raw = pd.read_csv(path)\n",
    "df = raw.copy()\n",
    "\n",
    "df = df[['id', 'host_id','host_is_superhost',\n",
    "        'host_total_listings_count','neighbourhood_cleansed','room_type','accommodates','bathrooms','bedrooms',\n",
    "        'beds','amenities','price','minimum_nights','maximum_nights','number_of_reviews', 'number_of_reviews_l30d', 'review_scores_rating', 'review_scores_accuracy', \n",
    "        'review_scores_cleanliness', 'review_scores_checkin', 'review_scores_communication', \n",
    "        'review_scores_location', 'review_scores_value', 'reviews_per_month','listing_url','property_type','number_of_reviews_ltm','has_availability','last_review']]\n",
    "\n",
    "df = df.rename(columns= {\n",
    "    'id': '숙소_id',\n",
    "    'host_id': '호스트_id',\n",
    "    'host_is_superhost': '슈퍼호스트',\n",
    "    'host_total_listings_count': '숙소_수',\n",
    "    'neighbourhood_cleansed': '숙소_지역',\n",
    "    'room_type': '숙소_유형',\n",
    "    'accommodates': '수용_인원수',\n",
    "    'bathrooms': '욕실수',\n",
    "    'bedrooms': '침실수',\n",
    "    'beds': '침대수',\n",
    "    'amenities': '편의시설',\n",
    "    'price': '숙소_가격',\n",
    "    'minimum_nights': '최소_숙박일',\n",
    "    'maximum_nights': '최대_숙박일',\n",
    "    'number_of_reviews': '리뷰수',\n",
    "    'number_of_reviews_l30d': '30일_리뷰수',\n",
    "    'review_scores_rating': '리뷰점수',\n",
    "    'review_scores_accuracy': '숙소_정확성_리뷰점수',\n",
    "    'review_scores_cleanliness': '숙소_청결도_리뷰점수',\n",
    "    'review_scores_checkin': '숙소_체크인_리뷰점수',\n",
    "    'review_scores_communication': '숙소_소통_리뷰점수',\n",
    "    'review_scores_location': '숙소_위치_리뷰점수',\n",
    "    'review_scores_value': '숙소_가격_리뷰점수',\n",
    "    'reviews_per_month': '평균_리뷰수',\n",
    "    'listing_url':'url',\n",
    "    'property_type':'숙소_특징',\n",
    "    'number_of_reviews_ltm':'12개월_리뷰수',\n",
    "    'has_availability':'예약가능여부',\n",
    "    'last_review':'마지막_리뷰'\n",
    "})\n",
    "\n",
    "\n",
    "# 슈퍼호스트, 리뷰수 결측치 제거\n",
    "print(f\"처음 df : {len(df)}\")\n",
    "df = df[~df['슈퍼호스트'].isnull()]\n",
    "print(f\"슈퍼호스트 제거 : {len(df)}\")\n",
    "df = df[df['리뷰수']>2]\n",
    "print(f\"리뷰수 제거 : {len(df)}\")\n",
    "\n",
    "# 숙소가격 null값 제거\n",
    "df= df[~df['숙소_가격'].isnull()]\n",
    "\n",
    "#가격 앞 통화기호 제거\n",
    "df['숙소_가격'] = df['숙소_가격'].replace('[\\$,]', '', regex=True).astype(float)\n",
    "\n",
    "# 유형 제거 \n",
    "df = df[(df['숙소_유형']=='Entire home/apt') | (df['숙소_유형']=='Private room')]\n",
    "print(f\"숙소_유형 제거 : {len(df)}\")\n",
    "\n",
    "# 12개월 리뷰수 0 개 제거\n",
    "df = df[df['12개월_리뷰수']!=0]\n",
    "print(f\"12개월_리뷰수 0개 제거 : {len(df)}\")\n",
    "\n",
    "# 욕실수, 침실수, 침대수 null값 제거\n",
    "df = df.dropna(subset=['욕실수', '침실수', '침대수'])\n",
    "print(f\"욕실수, 침실수, 침대수 제거 후 : {len(df)}\")\n",
    "\n",
    "# 리뷰  null값 제거\n",
    "df = df.dropna(subset=['숙소_정확성_리뷰점수','숙소_청결도_리뷰점수','숙소_체크인_리뷰점수','숙소_소통_리뷰점수','숙소_위치_리뷰점수','숙소_가격_리뷰점수'])\n",
    "print(f\"리뷰 결측치 제거 후 : {len(df)}\")\n",
    "\n",
    "\n",
    "# 예약 가능여부 f 버리기\n",
    "df = df.dropna(subset='예약가능여부')\n",
    "print(f\"예약가능여부 : {len(df)}\")"
   ]
  },
  {
   "cell_type": "code",
   "execution_count": 3,
   "metadata": {},
   "outputs": [
    {
     "name": "stdout",
     "output_type": "stream",
     "text": [
      "<class 'pandas.core.frame.DataFrame'>\n",
      "Index: 30990 entries, 1 to 83393\n",
      "Data columns (total 29 columns):\n",
      " #   Column       Non-Null Count  Dtype  \n",
      "---  ------       --------------  -----  \n",
      " 0   숙소_id        30990 non-null  int64  \n",
      " 1   호스트_id       30990 non-null  int64  \n",
      " 2   슈퍼호스트        30990 non-null  object \n",
      " 3   숙소_수         30990 non-null  float64\n",
      " 4   숙소_지역        30990 non-null  object \n",
      " 5   숙소_유형        30990 non-null  object \n",
      " 6   수용_인원수       30990 non-null  int64  \n",
      " 7   욕실수          30990 non-null  float64\n",
      " 8   침실수          30990 non-null  float64\n",
      " 9   침대수          30990 non-null  float64\n",
      " 10  편의시설         30990 non-null  object \n",
      " 11  숙소_가격        30990 non-null  float64\n",
      " 12  최소_숙박일       30990 non-null  int64  \n",
      " 13  최대_숙박일       30990 non-null  int64  \n",
      " 14  리뷰수          30990 non-null  int64  \n",
      " 15  30일_리뷰수      30990 non-null  int64  \n",
      " 16  리뷰점수         30990 non-null  float64\n",
      " 17  숙소_정확성_리뷰점수  30990 non-null  float64\n",
      " 18  숙소_청결도_리뷰점수  30990 non-null  float64\n",
      " 19  숙소_체크인_리뷰점수  30990 non-null  float64\n",
      " 20  숙소_소통_리뷰점수   30990 non-null  float64\n",
      " 21  숙소_위치_리뷰점수   30990 non-null  float64\n",
      " 22  숙소_가격_리뷰점수   30990 non-null  float64\n",
      " 23  평균_리뷰수       30990 non-null  float64\n",
      " 24  url          30990 non-null  object \n",
      " 25  숙소_특징        30990 non-null  object \n",
      " 26  12개월_리뷰수     30990 non-null  int64  \n",
      " 27  예약가능여부       30990 non-null  object \n",
      " 28  마지막_리뷰       30990 non-null  object \n",
      "dtypes: float64(13), int64(8), object(8)\n",
      "memory usage: 7.1+ MB\n"
     ]
    }
   ],
   "source": [
    "df.info()"
   ]
  },
  {
   "cell_type": "code",
   "execution_count": 4,
   "metadata": {},
   "outputs": [
    {
     "data": {
      "text/plain": [
       "Index(['숙소_id', '호스트_id', '슈퍼호스트', '숙소_수', '숙소_지역', '숙소_유형', '수용_인원수', '욕실수',\n",
       "       '침실수', '침대수', '편의시설', '숙소_가격', '최소_숙박일', '최대_숙박일', '리뷰수', '30일_리뷰수',\n",
       "       '리뷰점수', '숙소_정확성_리뷰점수', '숙소_청결도_리뷰점수', '숙소_체크인_리뷰점수', '숙소_소통_리뷰점수',\n",
       "       '숙소_위치_리뷰점수', '숙소_가격_리뷰점수', '평균_리뷰수', 'url', '숙소_특징', '12개월_리뷰수',\n",
       "       '예약가능여부', '마지막_리뷰'],\n",
       "      dtype='object')"
      ]
     },
     "execution_count": 4,
     "metadata": {},
     "output_type": "execute_result"
    }
   ],
   "source": [
    "df.columns"
   ]
  },
  {
   "cell_type": "markdown",
   "metadata": {},
   "source": [
    "PCA 전 상관계수 확인"
   ]
  },
  {
   "cell_type": "code",
   "execution_count": 5,
   "metadata": {},
   "outputs": [],
   "source": [
    "# 상관계수에 불필요한 컬럼들 제거\n",
    "df_clean = df.drop(columns=['숙소_id', '호스트_id', 'url', '편의시설','예약가능여부','마지막_리뷰',\n",
    "                            '슈퍼호스트','숙소_지역', '숙소_유형','숙소_특징'])\n"
   ]
  },
  {
   "cell_type": "code",
   "execution_count": 6,
   "metadata": {},
   "outputs": [
    {
     "data": {
      "text/html": [
       "<div>\n",
       "<style scoped>\n",
       "    .dataframe tbody tr th:only-of-type {\n",
       "        vertical-align: middle;\n",
       "    }\n",
       "\n",
       "    .dataframe tbody tr th {\n",
       "        vertical-align: top;\n",
       "    }\n",
       "\n",
       "    .dataframe thead th {\n",
       "        text-align: right;\n",
       "    }\n",
       "</style>\n",
       "<table border=\"1\" class=\"dataframe\">\n",
       "  <thead>\n",
       "    <tr style=\"text-align: right;\">\n",
       "      <th></th>\n",
       "      <th>숙소_수</th>\n",
       "      <th>수용_인원수</th>\n",
       "      <th>욕실수</th>\n",
       "      <th>침실수</th>\n",
       "      <th>침대수</th>\n",
       "      <th>숙소_가격</th>\n",
       "      <th>최소_숙박일</th>\n",
       "      <th>최대_숙박일</th>\n",
       "      <th>리뷰수</th>\n",
       "      <th>30일_리뷰수</th>\n",
       "      <th>리뷰점수</th>\n",
       "      <th>숙소_정확성_리뷰점수</th>\n",
       "      <th>숙소_청결도_리뷰점수</th>\n",
       "      <th>숙소_체크인_리뷰점수</th>\n",
       "      <th>숙소_소통_리뷰점수</th>\n",
       "      <th>숙소_위치_리뷰점수</th>\n",
       "      <th>숙소_가격_리뷰점수</th>\n",
       "      <th>평균_리뷰수</th>\n",
       "      <th>12개월_리뷰수</th>\n",
       "    </tr>\n",
       "  </thead>\n",
       "  <tbody>\n",
       "    <tr>\n",
       "      <th>1</th>\n",
       "      <td>1.0</td>\n",
       "      <td>2</td>\n",
       "      <td>1.0</td>\n",
       "      <td>0.0</td>\n",
       "      <td>1.0</td>\n",
       "      <td>140.0</td>\n",
       "      <td>3</td>\n",
       "      <td>365</td>\n",
       "      <td>106</td>\n",
       "      <td>0</td>\n",
       "      <td>4.68</td>\n",
       "      <td>4.72</td>\n",
       "      <td>4.59</td>\n",
       "      <td>4.87</td>\n",
       "      <td>4.89</td>\n",
       "      <td>4.95</td>\n",
       "      <td>4.74</td>\n",
       "      <td>0.69</td>\n",
       "      <td>14</td>\n",
       "    </tr>\n",
       "    <tr>\n",
       "      <th>2</th>\n",
       "      <td>3.0</td>\n",
       "      <td>2</td>\n",
       "      <td>1.0</td>\n",
       "      <td>0.0</td>\n",
       "      <td>1.0</td>\n",
       "      <td>107.0</td>\n",
       "      <td>1</td>\n",
       "      <td>1125</td>\n",
       "      <td>393</td>\n",
       "      <td>5</td>\n",
       "      <td>4.60</td>\n",
       "      <td>4.63</td>\n",
       "      <td>4.57</td>\n",
       "      <td>4.81</td>\n",
       "      <td>4.84</td>\n",
       "      <td>4.96</td>\n",
       "      <td>4.58</td>\n",
       "      <td>2.19</td>\n",
       "      <td>61</td>\n",
       "    </tr>\n",
       "    <tr>\n",
       "      <th>3</th>\n",
       "      <td>3.0</td>\n",
       "      <td>4</td>\n",
       "      <td>1.0</td>\n",
       "      <td>1.0</td>\n",
       "      <td>1.0</td>\n",
       "      <td>200.0</td>\n",
       "      <td>2</td>\n",
       "      <td>120</td>\n",
       "      <td>78</td>\n",
       "      <td>0</td>\n",
       "      <td>4.56</td>\n",
       "      <td>4.74</td>\n",
       "      <td>4.37</td>\n",
       "      <td>4.82</td>\n",
       "      <td>4.79</td>\n",
       "      <td>4.65</td>\n",
       "      <td>4.48</td>\n",
       "      <td>0.51</td>\n",
       "      <td>1</td>\n",
       "    </tr>\n",
       "  </tbody>\n",
       "</table>\n",
       "</div>"
      ],
      "text/plain": [
       "   숙소_수  수용_인원수  욕실수  침실수  침대수  숙소_가격  최소_숙박일  최대_숙박일  리뷰수  30일_리뷰수  리뷰점수  \\\n",
       "1   1.0       2  1.0  0.0  1.0  140.0       3     365  106        0  4.68   \n",
       "2   3.0       2  1.0  0.0  1.0  107.0       1    1125  393        5  4.60   \n",
       "3   3.0       4  1.0  1.0  1.0  200.0       2     120   78        0  4.56   \n",
       "\n",
       "   숙소_정확성_리뷰점수  숙소_청결도_리뷰점수  숙소_체크인_리뷰점수  숙소_소통_리뷰점수  숙소_위치_리뷰점수  숙소_가격_리뷰점수  \\\n",
       "1         4.72         4.59         4.87        4.89        4.95        4.74   \n",
       "2         4.63         4.57         4.81        4.84        4.96        4.58   \n",
       "3         4.74         4.37         4.82        4.79        4.65        4.48   \n",
       "\n",
       "   평균_리뷰수  12개월_리뷰수  \n",
       "1    0.69        14  \n",
       "2    2.19        61  \n",
       "3    0.51         1  "
      ]
     },
     "execution_count": 6,
     "metadata": {},
     "output_type": "execute_result"
    }
   ],
   "source": [
    "df_clean.head(3)"
   ]
  },
  {
   "cell_type": "code",
   "execution_count": 7,
   "metadata": {},
   "outputs": [
    {
     "data": {
      "text/html": [
       "<div>\n",
       "<style scoped>\n",
       "    .dataframe tbody tr th:only-of-type {\n",
       "        vertical-align: middle;\n",
       "    }\n",
       "\n",
       "    .dataframe tbody tr th {\n",
       "        vertical-align: top;\n",
       "    }\n",
       "\n",
       "    .dataframe thead th {\n",
       "        text-align: right;\n",
       "    }\n",
       "</style>\n",
       "<table border=\"1\" class=\"dataframe\">\n",
       "  <thead>\n",
       "    <tr style=\"text-align: right;\">\n",
       "      <th></th>\n",
       "      <th>숙소_수</th>\n",
       "      <th>수용_인원수</th>\n",
       "      <th>욕실수</th>\n",
       "      <th>침실수</th>\n",
       "      <th>침대수</th>\n",
       "      <th>숙소_가격</th>\n",
       "      <th>최소_숙박일</th>\n",
       "      <th>최대_숙박일</th>\n",
       "      <th>리뷰수</th>\n",
       "      <th>30일_리뷰수</th>\n",
       "      <th>리뷰점수</th>\n",
       "      <th>숙소_정확성_리뷰점수</th>\n",
       "      <th>숙소_청결도_리뷰점수</th>\n",
       "      <th>숙소_체크인_리뷰점수</th>\n",
       "      <th>숙소_소통_리뷰점수</th>\n",
       "      <th>숙소_위치_리뷰점수</th>\n",
       "      <th>숙소_가격_리뷰점수</th>\n",
       "      <th>평균_리뷰수</th>\n",
       "      <th>12개월_리뷰수</th>\n",
       "    </tr>\n",
       "  </thead>\n",
       "  <tbody>\n",
       "    <tr>\n",
       "      <th>숙소_수</th>\n",
       "      <td>1.000000</td>\n",
       "      <td>0.072397</td>\n",
       "      <td>0.050807</td>\n",
       "      <td>0.021303</td>\n",
       "      <td>0.049705</td>\n",
       "      <td>0.011811</td>\n",
       "      <td>0.045499</td>\n",
       "      <td>0.160765</td>\n",
       "      <td>-0.034157</td>\n",
       "      <td>0.004186</td>\n",
       "      <td>-0.173307</td>\n",
       "      <td>-0.156177</td>\n",
       "      <td>-0.112109</td>\n",
       "      <td>-0.178036</td>\n",
       "      <td>-0.205230</td>\n",
       "      <td>-0.047641</td>\n",
       "      <td>-0.180827</td>\n",
       "      <td>-0.013471</td>\n",
       "      <td>-0.027291</td>\n",
       "    </tr>\n",
       "    <tr>\n",
       "      <th>수용_인원수</th>\n",
       "      <td>0.072397</td>\n",
       "      <td>1.000000</td>\n",
       "      <td>0.513838</td>\n",
       "      <td>0.672141</td>\n",
       "      <td>0.785599</td>\n",
       "      <td>0.199352</td>\n",
       "      <td>-0.062471</td>\n",
       "      <td>0.092453</td>\n",
       "      <td>0.027002</td>\n",
       "      <td>0.027205</td>\n",
       "      <td>-0.034344</td>\n",
       "      <td>-0.052515</td>\n",
       "      <td>-0.012051</td>\n",
       "      <td>-0.054547</td>\n",
       "      <td>-0.065996</td>\n",
       "      <td>-0.002695</td>\n",
       "      <td>-0.029298</td>\n",
       "      <td>0.042294</td>\n",
       "      <td>0.043512</td>\n",
       "    </tr>\n",
       "    <tr>\n",
       "      <th>욕실수</th>\n",
       "      <td>0.050807</td>\n",
       "      <td>0.513838</td>\n",
       "      <td>1.000000</td>\n",
       "      <td>0.606889</td>\n",
       "      <td>0.591580</td>\n",
       "      <td>0.173193</td>\n",
       "      <td>-0.028125</td>\n",
       "      <td>0.046594</td>\n",
       "      <td>0.007708</td>\n",
       "      <td>0.001909</td>\n",
       "      <td>0.043394</td>\n",
       "      <td>0.017499</td>\n",
       "      <td>0.061316</td>\n",
       "      <td>0.005065</td>\n",
       "      <td>0.000568</td>\n",
       "      <td>0.047160</td>\n",
       "      <td>0.042952</td>\n",
       "      <td>0.000156</td>\n",
       "      <td>0.004324</td>\n",
       "    </tr>\n",
       "    <tr>\n",
       "      <th>침실수</th>\n",
       "      <td>0.021303</td>\n",
       "      <td>0.672141</td>\n",
       "      <td>0.606889</td>\n",
       "      <td>1.000000</td>\n",
       "      <td>0.684795</td>\n",
       "      <td>0.174294</td>\n",
       "      <td>-0.057804</td>\n",
       "      <td>0.017404</td>\n",
       "      <td>-0.013044</td>\n",
       "      <td>-0.046988</td>\n",
       "      <td>0.068411</td>\n",
       "      <td>0.040126</td>\n",
       "      <td>0.056208</td>\n",
       "      <td>0.022338</td>\n",
       "      <td>0.021765</td>\n",
       "      <td>0.036801</td>\n",
       "      <td>0.071324</td>\n",
       "      <td>-0.048063</td>\n",
       "      <td>-0.027215</td>\n",
       "    </tr>\n",
       "    <tr>\n",
       "      <th>침대수</th>\n",
       "      <td>0.049705</td>\n",
       "      <td>0.785599</td>\n",
       "      <td>0.591580</td>\n",
       "      <td>0.684795</td>\n",
       "      <td>1.000000</td>\n",
       "      <td>0.167432</td>\n",
       "      <td>-0.033170</td>\n",
       "      <td>0.075789</td>\n",
       "      <td>0.047605</td>\n",
       "      <td>-0.002578</td>\n",
       "      <td>-0.016561</td>\n",
       "      <td>-0.035059</td>\n",
       "      <td>0.000239</td>\n",
       "      <td>-0.028985</td>\n",
       "      <td>-0.044119</td>\n",
       "      <td>0.012420</td>\n",
       "      <td>-0.007547</td>\n",
       "      <td>-0.001328</td>\n",
       "      <td>0.030924</td>\n",
       "    </tr>\n",
       "    <tr>\n",
       "      <th>숙소_가격</th>\n",
       "      <td>0.011811</td>\n",
       "      <td>0.199352</td>\n",
       "      <td>0.173193</td>\n",
       "      <td>0.174294</td>\n",
       "      <td>0.167432</td>\n",
       "      <td>1.000000</td>\n",
       "      <td>-0.007831</td>\n",
       "      <td>0.021544</td>\n",
       "      <td>-0.017450</td>\n",
       "      <td>-0.041527</td>\n",
       "      <td>0.026149</td>\n",
       "      <td>0.015281</td>\n",
       "      <td>0.040438</td>\n",
       "      <td>-0.004023</td>\n",
       "      <td>-0.014240</td>\n",
       "      <td>0.050457</td>\n",
       "      <td>0.023783</td>\n",
       "      <td>-0.038569</td>\n",
       "      <td>-0.027269</td>\n",
       "    </tr>\n",
       "    <tr>\n",
       "      <th>최소_숙박일</th>\n",
       "      <td>0.045499</td>\n",
       "      <td>-0.062471</td>\n",
       "      <td>-0.028125</td>\n",
       "      <td>-0.057804</td>\n",
       "      <td>-0.033170</td>\n",
       "      <td>-0.007831</td>\n",
       "      <td>1.000000</td>\n",
       "      <td>0.040583</td>\n",
       "      <td>-0.038752</td>\n",
       "      <td>-0.080922</td>\n",
       "      <td>-0.020439</td>\n",
       "      <td>-0.014411</td>\n",
       "      <td>-0.032201</td>\n",
       "      <td>-0.011889</td>\n",
       "      <td>-0.038871</td>\n",
       "      <td>0.015540</td>\n",
       "      <td>-0.036298</td>\n",
       "      <td>-0.128229</td>\n",
       "      <td>-0.106775</td>\n",
       "    </tr>\n",
       "    <tr>\n",
       "      <th>최대_숙박일</th>\n",
       "      <td>0.160765</td>\n",
       "      <td>0.092453</td>\n",
       "      <td>0.046594</td>\n",
       "      <td>0.017404</td>\n",
       "      <td>0.075789</td>\n",
       "      <td>0.021544</td>\n",
       "      <td>0.040583</td>\n",
       "      <td>1.000000</td>\n",
       "      <td>0.111279</td>\n",
       "      <td>0.026920</td>\n",
       "      <td>-0.106666</td>\n",
       "      <td>-0.087671</td>\n",
       "      <td>-0.069213</td>\n",
       "      <td>-0.096181</td>\n",
       "      <td>-0.114485</td>\n",
       "      <td>-0.025553</td>\n",
       "      <td>-0.102741</td>\n",
       "      <td>0.018674</td>\n",
       "      <td>0.056114</td>\n",
       "    </tr>\n",
       "    <tr>\n",
       "      <th>리뷰수</th>\n",
       "      <td>-0.034157</td>\n",
       "      <td>0.027002</td>\n",
       "      <td>0.007708</td>\n",
       "      <td>-0.013044</td>\n",
       "      <td>0.047605</td>\n",
       "      <td>-0.017450</td>\n",
       "      <td>-0.038752</td>\n",
       "      <td>0.111279</td>\n",
       "      <td>1.000000</td>\n",
       "      <td>0.343425</td>\n",
       "      <td>-0.012064</td>\n",
       "      <td>0.028203</td>\n",
       "      <td>0.044912</td>\n",
       "      <td>0.045389</td>\n",
       "      <td>0.026239</td>\n",
       "      <td>0.036649</td>\n",
       "      <td>0.038100</td>\n",
       "      <td>0.455391</td>\n",
       "      <td>0.674146</td>\n",
       "    </tr>\n",
       "    <tr>\n",
       "      <th>30일_리뷰수</th>\n",
       "      <td>0.004186</td>\n",
       "      <td>0.027205</td>\n",
       "      <td>0.001909</td>\n",
       "      <td>-0.046988</td>\n",
       "      <td>-0.002578</td>\n",
       "      <td>-0.041527</td>\n",
       "      <td>-0.080922</td>\n",
       "      <td>0.026920</td>\n",
       "      <td>0.343425</td>\n",
       "      <td>1.000000</td>\n",
       "      <td>-0.000268</td>\n",
       "      <td>-0.004559</td>\n",
       "      <td>0.054415</td>\n",
       "      <td>0.019218</td>\n",
       "      <td>0.017492</td>\n",
       "      <td>0.016562</td>\n",
       "      <td>0.019042</td>\n",
       "      <td>0.707330</td>\n",
       "      <td>0.586650</td>\n",
       "    </tr>\n",
       "    <tr>\n",
       "      <th>리뷰점수</th>\n",
       "      <td>-0.173307</td>\n",
       "      <td>-0.034344</td>\n",
       "      <td>0.043394</td>\n",
       "      <td>0.068411</td>\n",
       "      <td>-0.016561</td>\n",
       "      <td>0.026149</td>\n",
       "      <td>-0.020439</td>\n",
       "      <td>-0.106666</td>\n",
       "      <td>-0.012064</td>\n",
       "      <td>-0.000268</td>\n",
       "      <td>1.000000</td>\n",
       "      <td>0.858657</td>\n",
       "      <td>0.758392</td>\n",
       "      <td>0.666561</td>\n",
       "      <td>0.748253</td>\n",
       "      <td>0.444018</td>\n",
       "      <td>0.854933</td>\n",
       "      <td>-0.025736</td>\n",
       "      <td>-0.002905</td>\n",
       "    </tr>\n",
       "    <tr>\n",
       "      <th>숙소_정확성_리뷰점수</th>\n",
       "      <td>-0.156177</td>\n",
       "      <td>-0.052515</td>\n",
       "      <td>0.017499</td>\n",
       "      <td>0.040126</td>\n",
       "      <td>-0.035059</td>\n",
       "      <td>0.015281</td>\n",
       "      <td>-0.014411</td>\n",
       "      <td>-0.087671</td>\n",
       "      <td>0.028203</td>\n",
       "      <td>-0.004559</td>\n",
       "      <td>0.858657</td>\n",
       "      <td>1.000000</td>\n",
       "      <td>0.689715</td>\n",
       "      <td>0.622610</td>\n",
       "      <td>0.698103</td>\n",
       "      <td>0.422878</td>\n",
       "      <td>0.811314</td>\n",
       "      <td>-0.029413</td>\n",
       "      <td>0.004363</td>\n",
       "    </tr>\n",
       "    <tr>\n",
       "      <th>숙소_청결도_리뷰점수</th>\n",
       "      <td>-0.112109</td>\n",
       "      <td>-0.012051</td>\n",
       "      <td>0.061316</td>\n",
       "      <td>0.056208</td>\n",
       "      <td>0.000239</td>\n",
       "      <td>0.040438</td>\n",
       "      <td>-0.032201</td>\n",
       "      <td>-0.069213</td>\n",
       "      <td>0.044912</td>\n",
       "      <td>0.054415</td>\n",
       "      <td>0.758392</td>\n",
       "      <td>0.689715</td>\n",
       "      <td>1.000000</td>\n",
       "      <td>0.486939</td>\n",
       "      <td>0.535386</td>\n",
       "      <td>0.332406</td>\n",
       "      <td>0.690357</td>\n",
       "      <td>0.064022</td>\n",
       "      <td>0.057805</td>\n",
       "    </tr>\n",
       "    <tr>\n",
       "      <th>숙소_체크인_리뷰점수</th>\n",
       "      <td>-0.178036</td>\n",
       "      <td>-0.054547</td>\n",
       "      <td>0.005065</td>\n",
       "      <td>0.022338</td>\n",
       "      <td>-0.028985</td>\n",
       "      <td>-0.004023</td>\n",
       "      <td>-0.011889</td>\n",
       "      <td>-0.096181</td>\n",
       "      <td>0.045389</td>\n",
       "      <td>0.019218</td>\n",
       "      <td>0.666561</td>\n",
       "      <td>0.622610</td>\n",
       "      <td>0.486939</td>\n",
       "      <td>1.000000</td>\n",
       "      <td>0.726787</td>\n",
       "      <td>0.363462</td>\n",
       "      <td>0.615256</td>\n",
       "      <td>-0.000913</td>\n",
       "      <td>0.023667</td>\n",
       "    </tr>\n",
       "    <tr>\n",
       "      <th>숙소_소통_리뷰점수</th>\n",
       "      <td>-0.205230</td>\n",
       "      <td>-0.065996</td>\n",
       "      <td>0.000568</td>\n",
       "      <td>0.021765</td>\n",
       "      <td>-0.044119</td>\n",
       "      <td>-0.014240</td>\n",
       "      <td>-0.038871</td>\n",
       "      <td>-0.114485</td>\n",
       "      <td>0.026239</td>\n",
       "      <td>0.017492</td>\n",
       "      <td>0.748253</td>\n",
       "      <td>0.698103</td>\n",
       "      <td>0.535386</td>\n",
       "      <td>0.726787</td>\n",
       "      <td>1.000000</td>\n",
       "      <td>0.357459</td>\n",
       "      <td>0.686694</td>\n",
       "      <td>-0.003632</td>\n",
       "      <td>0.021158</td>\n",
       "    </tr>\n",
       "    <tr>\n",
       "      <th>숙소_위치_리뷰점수</th>\n",
       "      <td>-0.047641</td>\n",
       "      <td>-0.002695</td>\n",
       "      <td>0.047160</td>\n",
       "      <td>0.036801</td>\n",
       "      <td>0.012420</td>\n",
       "      <td>0.050457</td>\n",
       "      <td>0.015540</td>\n",
       "      <td>-0.025553</td>\n",
       "      <td>0.036649</td>\n",
       "      <td>0.016562</td>\n",
       "      <td>0.444018</td>\n",
       "      <td>0.422878</td>\n",
       "      <td>0.332406</td>\n",
       "      <td>0.363462</td>\n",
       "      <td>0.357459</td>\n",
       "      <td>1.000000</td>\n",
       "      <td>0.447353</td>\n",
       "      <td>-0.005616</td>\n",
       "      <td>0.006742</td>\n",
       "    </tr>\n",
       "    <tr>\n",
       "      <th>숙소_가격_리뷰점수</th>\n",
       "      <td>-0.180827</td>\n",
       "      <td>-0.029298</td>\n",
       "      <td>0.042952</td>\n",
       "      <td>0.071324</td>\n",
       "      <td>-0.007547</td>\n",
       "      <td>0.023783</td>\n",
       "      <td>-0.036298</td>\n",
       "      <td>-0.102741</td>\n",
       "      <td>0.038100</td>\n",
       "      <td>0.019042</td>\n",
       "      <td>0.854933</td>\n",
       "      <td>0.811314</td>\n",
       "      <td>0.690357</td>\n",
       "      <td>0.615256</td>\n",
       "      <td>0.686694</td>\n",
       "      <td>0.447353</td>\n",
       "      <td>1.000000</td>\n",
       "      <td>-0.006215</td>\n",
       "      <td>0.009881</td>\n",
       "    </tr>\n",
       "    <tr>\n",
       "      <th>평균_리뷰수</th>\n",
       "      <td>-0.013471</td>\n",
       "      <td>0.042294</td>\n",
       "      <td>0.000156</td>\n",
       "      <td>-0.048063</td>\n",
       "      <td>-0.001328</td>\n",
       "      <td>-0.038569</td>\n",
       "      <td>-0.128229</td>\n",
       "      <td>0.018674</td>\n",
       "      <td>0.455391</td>\n",
       "      <td>0.707330</td>\n",
       "      <td>-0.025736</td>\n",
       "      <td>-0.029413</td>\n",
       "      <td>0.064022</td>\n",
       "      <td>-0.000913</td>\n",
       "      <td>-0.003632</td>\n",
       "      <td>-0.005616</td>\n",
       "      <td>-0.006215</td>\n",
       "      <td>1.000000</td>\n",
       "      <td>0.756962</td>\n",
       "    </tr>\n",
       "    <tr>\n",
       "      <th>12개월_리뷰수</th>\n",
       "      <td>-0.027291</td>\n",
       "      <td>0.043512</td>\n",
       "      <td>0.004324</td>\n",
       "      <td>-0.027215</td>\n",
       "      <td>0.030924</td>\n",
       "      <td>-0.027269</td>\n",
       "      <td>-0.106775</td>\n",
       "      <td>0.056114</td>\n",
       "      <td>0.674146</td>\n",
       "      <td>0.586650</td>\n",
       "      <td>-0.002905</td>\n",
       "      <td>0.004363</td>\n",
       "      <td>0.057805</td>\n",
       "      <td>0.023667</td>\n",
       "      <td>0.021158</td>\n",
       "      <td>0.006742</td>\n",
       "      <td>0.009881</td>\n",
       "      <td>0.756962</td>\n",
       "      <td>1.000000</td>\n",
       "    </tr>\n",
       "  </tbody>\n",
       "</table>\n",
       "</div>"
      ],
      "text/plain": [
       "                 숙소_수    수용_인원수       욕실수       침실수       침대수     숙소_가격  \\\n",
       "숙소_수         1.000000  0.072397  0.050807  0.021303  0.049705  0.011811   \n",
       "수용_인원수       0.072397  1.000000  0.513838  0.672141  0.785599  0.199352   \n",
       "욕실수          0.050807  0.513838  1.000000  0.606889  0.591580  0.173193   \n",
       "침실수          0.021303  0.672141  0.606889  1.000000  0.684795  0.174294   \n",
       "침대수          0.049705  0.785599  0.591580  0.684795  1.000000  0.167432   \n",
       "숙소_가격        0.011811  0.199352  0.173193  0.174294  0.167432  1.000000   \n",
       "최소_숙박일       0.045499 -0.062471 -0.028125 -0.057804 -0.033170 -0.007831   \n",
       "최대_숙박일       0.160765  0.092453  0.046594  0.017404  0.075789  0.021544   \n",
       "리뷰수         -0.034157  0.027002  0.007708 -0.013044  0.047605 -0.017450   \n",
       "30일_리뷰수      0.004186  0.027205  0.001909 -0.046988 -0.002578 -0.041527   \n",
       "리뷰점수        -0.173307 -0.034344  0.043394  0.068411 -0.016561  0.026149   \n",
       "숙소_정확성_리뷰점수 -0.156177 -0.052515  0.017499  0.040126 -0.035059  0.015281   \n",
       "숙소_청결도_리뷰점수 -0.112109 -0.012051  0.061316  0.056208  0.000239  0.040438   \n",
       "숙소_체크인_리뷰점수 -0.178036 -0.054547  0.005065  0.022338 -0.028985 -0.004023   \n",
       "숙소_소통_리뷰점수  -0.205230 -0.065996  0.000568  0.021765 -0.044119 -0.014240   \n",
       "숙소_위치_리뷰점수  -0.047641 -0.002695  0.047160  0.036801  0.012420  0.050457   \n",
       "숙소_가격_리뷰점수  -0.180827 -0.029298  0.042952  0.071324 -0.007547  0.023783   \n",
       "평균_리뷰수      -0.013471  0.042294  0.000156 -0.048063 -0.001328 -0.038569   \n",
       "12개월_리뷰수    -0.027291  0.043512  0.004324 -0.027215  0.030924 -0.027269   \n",
       "\n",
       "               최소_숙박일    최대_숙박일       리뷰수   30일_리뷰수      리뷰점수  숙소_정확성_리뷰점수  \\\n",
       "숙소_수         0.045499  0.160765 -0.034157  0.004186 -0.173307    -0.156177   \n",
       "수용_인원수      -0.062471  0.092453  0.027002  0.027205 -0.034344    -0.052515   \n",
       "욕실수         -0.028125  0.046594  0.007708  0.001909  0.043394     0.017499   \n",
       "침실수         -0.057804  0.017404 -0.013044 -0.046988  0.068411     0.040126   \n",
       "침대수         -0.033170  0.075789  0.047605 -0.002578 -0.016561    -0.035059   \n",
       "숙소_가격       -0.007831  0.021544 -0.017450 -0.041527  0.026149     0.015281   \n",
       "최소_숙박일       1.000000  0.040583 -0.038752 -0.080922 -0.020439    -0.014411   \n",
       "최대_숙박일       0.040583  1.000000  0.111279  0.026920 -0.106666    -0.087671   \n",
       "리뷰수         -0.038752  0.111279  1.000000  0.343425 -0.012064     0.028203   \n",
       "30일_리뷰수     -0.080922  0.026920  0.343425  1.000000 -0.000268    -0.004559   \n",
       "리뷰점수        -0.020439 -0.106666 -0.012064 -0.000268  1.000000     0.858657   \n",
       "숙소_정확성_리뷰점수 -0.014411 -0.087671  0.028203 -0.004559  0.858657     1.000000   \n",
       "숙소_청결도_리뷰점수 -0.032201 -0.069213  0.044912  0.054415  0.758392     0.689715   \n",
       "숙소_체크인_리뷰점수 -0.011889 -0.096181  0.045389  0.019218  0.666561     0.622610   \n",
       "숙소_소통_리뷰점수  -0.038871 -0.114485  0.026239  0.017492  0.748253     0.698103   \n",
       "숙소_위치_리뷰점수   0.015540 -0.025553  0.036649  0.016562  0.444018     0.422878   \n",
       "숙소_가격_리뷰점수  -0.036298 -0.102741  0.038100  0.019042  0.854933     0.811314   \n",
       "평균_리뷰수      -0.128229  0.018674  0.455391  0.707330 -0.025736    -0.029413   \n",
       "12개월_리뷰수    -0.106775  0.056114  0.674146  0.586650 -0.002905     0.004363   \n",
       "\n",
       "             숙소_청결도_리뷰점수  숙소_체크인_리뷰점수  숙소_소통_리뷰점수  숙소_위치_리뷰점수  숙소_가격_리뷰점수  \\\n",
       "숙소_수           -0.112109    -0.178036   -0.205230   -0.047641   -0.180827   \n",
       "수용_인원수         -0.012051    -0.054547   -0.065996   -0.002695   -0.029298   \n",
       "욕실수             0.061316     0.005065    0.000568    0.047160    0.042952   \n",
       "침실수             0.056208     0.022338    0.021765    0.036801    0.071324   \n",
       "침대수             0.000239    -0.028985   -0.044119    0.012420   -0.007547   \n",
       "숙소_가격           0.040438    -0.004023   -0.014240    0.050457    0.023783   \n",
       "최소_숙박일         -0.032201    -0.011889   -0.038871    0.015540   -0.036298   \n",
       "최대_숙박일         -0.069213    -0.096181   -0.114485   -0.025553   -0.102741   \n",
       "리뷰수             0.044912     0.045389    0.026239    0.036649    0.038100   \n",
       "30일_리뷰수         0.054415     0.019218    0.017492    0.016562    0.019042   \n",
       "리뷰점수            0.758392     0.666561    0.748253    0.444018    0.854933   \n",
       "숙소_정확성_리뷰점수     0.689715     0.622610    0.698103    0.422878    0.811314   \n",
       "숙소_청결도_리뷰점수     1.000000     0.486939    0.535386    0.332406    0.690357   \n",
       "숙소_체크인_리뷰점수     0.486939     1.000000    0.726787    0.363462    0.615256   \n",
       "숙소_소통_리뷰점수      0.535386     0.726787    1.000000    0.357459    0.686694   \n",
       "숙소_위치_리뷰점수      0.332406     0.363462    0.357459    1.000000    0.447353   \n",
       "숙소_가격_리뷰점수      0.690357     0.615256    0.686694    0.447353    1.000000   \n",
       "평균_리뷰수          0.064022    -0.000913   -0.003632   -0.005616   -0.006215   \n",
       "12개월_리뷰수        0.057805     0.023667    0.021158    0.006742    0.009881   \n",
       "\n",
       "               평균_리뷰수  12개월_리뷰수  \n",
       "숙소_수        -0.013471 -0.027291  \n",
       "수용_인원수       0.042294  0.043512  \n",
       "욕실수          0.000156  0.004324  \n",
       "침실수         -0.048063 -0.027215  \n",
       "침대수         -0.001328  0.030924  \n",
       "숙소_가격       -0.038569 -0.027269  \n",
       "최소_숙박일      -0.128229 -0.106775  \n",
       "최대_숙박일       0.018674  0.056114  \n",
       "리뷰수          0.455391  0.674146  \n",
       "30일_리뷰수      0.707330  0.586650  \n",
       "리뷰점수        -0.025736 -0.002905  \n",
       "숙소_정확성_리뷰점수 -0.029413  0.004363  \n",
       "숙소_청결도_리뷰점수  0.064022  0.057805  \n",
       "숙소_체크인_리뷰점수 -0.000913  0.023667  \n",
       "숙소_소통_리뷰점수  -0.003632  0.021158  \n",
       "숙소_위치_리뷰점수  -0.005616  0.006742  \n",
       "숙소_가격_리뷰점수  -0.006215  0.009881  \n",
       "평균_리뷰수       1.000000  0.756962  \n",
       "12개월_리뷰수     0.756962  1.000000  "
      ]
     },
     "execution_count": 7,
     "metadata": {},
     "output_type": "execute_result"
    }
   ],
   "source": [
    "df_clean.corr()"
   ]
  },
  {
   "cell_type": "code",
   "execution_count": 8,
   "metadata": {},
   "outputs": [],
   "source": [
    "df_clean_corr = df_clean.corr()"
   ]
  },
  {
   "cell_type": "code",
   "execution_count": 9,
   "metadata": {},
   "outputs": [
    {
     "data": {
      "image/png": "[encoded data removed]",
      "text/plain": [
       "<Figure size 1400x1000 with 2 Axes>"
      ]
     },
     "metadata": {},
     "output_type": "display_data"
    }
   ],
   "source": [
    "# 히트맵 \n",
    "import seaborn as sns\n",
    "import matplotlib.pyplot as plt\n",
    "\n",
    "# 상관관계 히트맵 그리기\n",
    "plt.figure(figsize=(14, 10))\n",
    "sns.heatmap(df_clean_corr, annot=True, cmap='coolwarm', fmt=\".2f\")\n",
    "plt.title('Correlation Matrix of Numeric Features')\n",
    "# plt.savefig('./heatmap.png', dpi=300)\n",
    "\n",
    "plt.show()"
   ]
  },
  {
   "cell_type": "markdown",
   "metadata": {},
   "source": [
    "# PCA 분석"
   ]
  },
  {
   "cell_type": "code",
   "execution_count": 10,
   "metadata": {},
   "outputs": [
    {
     "data": {
      "text/plain": [
       "Index(['숙소_수', '수용_인원수', '욕실수', '침실수', '침대수', '숙소_가격', '최소_숙박일', '최대_숙박일',\n",
       "       '리뷰수', '30일_리뷰수', '리뷰점수', '숙소_정확성_리뷰점수', '숙소_청결도_리뷰점수', '숙소_체크인_리뷰점수',\n",
       "       '숙소_소통_리뷰점수', '숙소_위치_리뷰점수', '숙소_가격_리뷰점수', '평균_리뷰수', '12개월_리뷰수'],\n",
       "      dtype='object')"
      ]
     },
     "execution_count": 10,
     "metadata": {},
     "output_type": "execute_result"
    }
   ],
   "source": [
    "df_clean.columns"
   ]
  },
  {
   "cell_type": "code",
   "execution_count": 11,
   "metadata": {},
   "outputs": [],
   "source": [
    "df_reviews = df_clean[['숙소_정확성_리뷰점수', '숙소_청결도_리뷰점수', '숙소_체크인_리뷰점수',\n",
    "       '숙소_소통_리뷰점수', '숙소_위치_리뷰점수', '숙소_가격_리뷰점수']]"
   ]
  },
  {
   "cell_type": "code",
   "execution_count": 12,
   "metadata": {},
   "outputs": [
    {
     "data": {
      "text/html": [
       "<div>\n",
       "<style scoped>\n",
       "    .dataframe tbody tr th:only-of-type {\n",
       "        vertical-align: middle;\n",
       "    }\n",
       "\n",
       "    .dataframe tbody tr th {\n",
       "        vertical-align: top;\n",
       "    }\n",
       "\n",
       "    .dataframe thead th {\n",
       "        text-align: right;\n",
       "    }\n",
       "</style>\n",
       "<table border=\"1\" class=\"dataframe\">\n",
       "  <thead>\n",
       "    <tr style=\"text-align: right;\">\n",
       "      <th></th>\n",
       "      <th>pc1</th>\n",
       "      <th>pc2</th>\n",
       "      <th>pc3</th>\n",
       "      <th>pc4</th>\n",
       "    </tr>\n",
       "  </thead>\n",
       "  <tbody>\n",
       "    <tr>\n",
       "      <th>0</th>\n",
       "      <td>-0.302680</td>\n",
       "      <td>-0.511385</td>\n",
       "      <td>-0.378817</td>\n",
       "      <td>-0.108668</td>\n",
       "    </tr>\n",
       "    <tr>\n",
       "      <th>1</th>\n",
       "      <td>0.289025</td>\n",
       "      <td>-0.698839</td>\n",
       "      <td>-0.367042</td>\n",
       "      <td>0.139553</td>\n",
       "    </tr>\n",
       "    <tr>\n",
       "      <th>2</th>\n",
       "      <td>0.965861</td>\n",
       "      <td>0.549973</td>\n",
       "      <td>-0.599016</td>\n",
       "      <td>-0.319134</td>\n",
       "    </tr>\n",
       "    <tr>\n",
       "      <th>3</th>\n",
       "      <td>-0.280085</td>\n",
       "      <td>-0.446706</td>\n",
       "      <td>-0.666077</td>\n",
       "      <td>-0.402867</td>\n",
       "    </tr>\n",
       "    <tr>\n",
       "      <th>4</th>\n",
       "      <td>-0.286900</td>\n",
       "      <td>-0.563163</td>\n",
       "      <td>0.084253</td>\n",
       "      <td>-0.450034</td>\n",
       "    </tr>\n",
       "  </tbody>\n",
       "</table>\n",
       "</div>"
      ],
      "text/plain": [
       "        pc1       pc2       pc3       pc4\n",
       "0 -0.302680 -0.511385 -0.378817 -0.108668\n",
       "1  0.289025 -0.698839 -0.367042  0.139553\n",
       "2  0.965861  0.549973 -0.599016 -0.319134\n",
       "3 -0.280085 -0.446706 -0.666077 -0.402867\n",
       "4 -0.286900 -0.563163  0.084253 -0.450034"
      ]
     },
     "execution_count": 12,
     "metadata": {},
     "output_type": "execute_result"
    }
   ],
   "source": [
    "import pandas as pd\n",
    "from sklearn.preprocessing import StandardScaler\n",
    "from sklearn.decomposition import PCA\n",
    "from sklearn.impute import SimpleImputer\n",
    "import matplotlib.pyplot as plt\n",
    "\n",
    "x = df_reviews.values\n",
    "y = df_clean['리뷰점수'].values\n",
    "\n",
    "# 결측값 처리 (필요시)\n",
    "imputer = SimpleImputer(strategy='mean')\n",
    "x_imputed = imputer.fit_transform(x)\n",
    "\n",
    "# 표준화\n",
    "scaler = StandardScaler()\n",
    "x_standardized = scaler.fit_transform(x_imputed)\n",
    "\n",
    "# PCA 적용\n",
    "pca = PCA(n_components=4)  # 주성분의 수\n",
    "principal_components = pca.fit_transform(x_standardized)\n",
    "\n",
    "# 결과를 데이터프레임으로 변환\n",
    "df_pca = pd.DataFrame(data=principal_components, columns=['pc1', 'pc2','pc3','pc4'])\n",
    "\n",
    "df_pca.head()"
   ]
  },
  {
   "cell_type": "code",
   "execution_count": 13,
   "metadata": {},
   "outputs": [
    {
     "data": {
      "text/plain": [
       "array([0.64872037, 0.12489846, 0.10042543, 0.05315938])"
      ]
     },
     "execution_count": 13,
     "metadata": {},
     "output_type": "execute_result"
    }
   ],
   "source": [
    "pca.explained_variance_ratio_"
   ]
  },
  {
   "cell_type": "code",
   "execution_count": 14,
   "metadata": {},
   "outputs": [
    {
     "data": {
      "text/plain": [
       "0.9272036381646428"
      ]
     },
     "execution_count": 14,
     "metadata": {},
     "output_type": "execute_result"
    }
   ],
   "source": [
    "sum(pca.explained_variance_ratio_)"
   ]
  },
  {
   "cell_type": "markdown",
   "metadata": {},
   "source": [
    "리뷰 점수\n",
    "- '숙소_정확성_리뷰점수', '숙소_청결도_리뷰점수', '숙소_체크인_리뷰점수' , '숙소_소통_리뷰점수'\n",
    "- [0.64872037, 0.12489846, 0.10042543, 0.05315938]\n",
    "- 0.9272036381646421"
   ]
  },
  {
   "cell_type": "code",
   "execution_count": 15,
   "metadata": {},
   "outputs": [
    {
     "data": {
      "image/png": "[encoded data removed]",
      "text/plain": [
       "<Figure size 800x600 with 2 Axes>"
      ]
     },
     "metadata": {},
     "output_type": "display_data"
    }
   ],
   "source": [
    "# 시각화\n",
    "plt.figure(figsize=(8, 6))\n",
    "plt.scatter(df_pca['pc1'], df_pca['pc2'], c=y, cmap='viridis')\n",
    "plt.xlabel('주성분 1')\n",
    "plt.ylabel('주성분 2')\n",
    "plt.title('정제된 데이터의 PCA')\n",
    "plt.colorbar(label='리뷰 점수')\n",
    "plt.show()"
   ]
  },
  {
   "cell_type": "markdown",
   "metadata": {},
   "source": [
    "추출한 주성분으로 회귀분석"
   ]
  },
  {
   "cell_type": "code",
   "execution_count": 16,
   "metadata": {},
   "outputs": [
    {
     "data": {
      "text/html": [
       "<style>#sk-container-id-1 {color: black;background-color: white;}#sk-container-id-1 pre{padding: 0;}#sk-container-id-1 div.sk-toggleable {background-color: white;}#sk-container-id-1 label.sk-toggleable__label {cursor: pointer;display: block;width: 100%;margin-bottom: 0;padding: 0.3em;box-sizing: border-box;text-align: center;}#sk-container-id-1 label.sk-toggleable__label-arrow:before {content: \"▸\";float: left;margin-right: 0.25em;color: #696969;}#sk-container-id-1 label.sk-toggleable__label-arrow:hover:before {color: black;}#sk-container-id-1 div.sk-estimator:hover label.sk-toggleable__label-arrow:before {color: black;}#sk-container-id-1 div.sk-toggleable__content {max-height: 0;max-width: 0;overflow: hidden;text-align: left;background-color: #f0f8ff;}#sk-container-id-1 div.sk-toggleable__content pre {margin: 0.2em;color: black;border-radius: 0.25em;background-color: #f0f8ff;}#sk-container-id-1 input.sk-toggleable__control:checked~div.sk-toggleable__content {max-height: 200px;max-width: 100%;overflow: auto;}#sk-container-id-1 input.sk-toggleable__control:checked~label.sk-toggleable__label-arrow:before {content: \"▾\";}#sk-container-id-1 div.sk-estimator input.sk-toggleable__control:checked~label.sk-toggleable__label {background-color: #d4ebff;}#sk-container-id-1 div.sk-label input.sk-toggleable__control:checked~label.sk-toggleable__label {background-color: #d4ebff;}#sk-container-id-1 input.sk-hidden--visually {border: 0;clip: rect(1px 1px 1px 1px);clip: rect(1px, 1px, 1px, 1px);height: 1px;margin: -1px;overflow: hidden;padding: 0;position: absolute;width: 1px;}#sk-container-id-1 div.sk-estimator {font-family: monospace;background-color: #f0f8ff;border: 1px dotted black;border-radius: 0.25em;box-sizing: border-box;margin-bottom: 0.5em;}#sk-container-id-1 div.sk-estimator:hover {background-color: #d4ebff;}#sk-container-id-1 div.sk-parallel-item::after {content: \"\";width: 100%;border-bottom: 1px solid gray;flex-grow: 1;}#sk-container-id-1 div.sk-label:hover label.sk-toggleable__label {background-color: #d4ebff;}#sk-container-id-1 div.sk-serial::before {content: \"\";position: absolute;border-left: 1px solid gray;box-sizing: border-box;top: 0;bottom: 0;left: 50%;z-index: 0;}#sk-container-id-1 div.sk-serial {display: flex;flex-direction: column;align-items: center;background-color: white;padding-right: 0.2em;padding-left: 0.2em;position: relative;}#sk-container-id-1 div.sk-item {position: relative;z-index: 1;}#sk-container-id-1 div.sk-parallel {display: flex;align-items: stretch;justify-content: center;background-color: white;position: relative;}#sk-container-id-1 div.sk-item::before, #sk-container-id-1 div.sk-parallel-item::before {content: \"\";position: absolute;border-left: 1px solid gray;box-sizing: border-box;top: 0;bottom: 0;left: 50%;z-index: -1;}#sk-container-id-1 div.sk-parallel-item {display: flex;flex-direction: column;z-index: 1;position: relative;background-color: white;}#sk-container-id-1 div.sk-parallel-item:first-child::after {align-self: flex-end;width: 50%;}#sk-container-id-1 div.sk-parallel-item:last-child::after {align-self: flex-start;width: 50%;}#sk-container-id-1 div.sk-parallel-item:only-child::after {width: 0;}#sk-container-id-1 div.sk-dashed-wrapped {border: 1px dashed gray;margin: 0 0.4em 0.5em 0.4em;box-sizing: border-box;padding-bottom: 0.4em;background-color: white;}#sk-container-id-1 div.sk-label label {font-family: monospace;font-weight: bold;display: inline-block;line-height: 1.2em;}#sk-container-id-1 div.sk-label-container {text-align: center;}#sk-container-id-1 div.sk-container {/* jupyter's `normalize.less` sets `[hidden] { display: none; }` but bootstrap.min.css set `[hidden] { display: none !important; }` so we also need the `!important` here to be able to override the default hidden behavior on the sphinx rendered scikit-learn.org. See: https://github.com/scikit-learn/scikit-learn/issues/21755 */display: inline-block !important;position: relative;}#sk-container-id-1 div.sk-text-repr-fallback {display: none;}</style><div id=\"sk-container-id-1\" class=\"sk-top-container\"><div class=\"sk-text-repr-fallback\"><pre>LinearRegression()</pre><b>In a Jupyter environment, please rerun this cell to show the HTML representation or trust the notebook. <br />On GitHub, the HTML representation is unable to render, please try loading this page with nbviewer.org.</b></div><div class=\"sk-container\" hidden><div class=\"sk-item\"><div class=\"sk-estimator sk-toggleable\"><input class=\"sk-toggleable__control sk-hidden--visually\" id=\"sk-estimator-id-1\" type=\"checkbox\" checked><label for=\"sk-estimator-id-1\" class=\"sk-toggleable__label sk-toggleable__label-arrow\">LinearRegression</label><div class=\"sk-toggleable__content\"><pre>LinearRegression()</pre></div></div></div></div></div>"
      ],
      "text/plain": [
       "LinearRegression()"
      ]
     },
     "execution_count": 16,
     "metadata": {},
     "output_type": "execute_result"
    }
   ],
   "source": [
    "from sklearn.linear_model import LinearRegression\n",
    "from sklearn.model_selection import train_test_split\n",
    "from sklearn.metrics import mean_squared_error, mean_absolute_error, r2_score\n",
    "\n",
    "# 주성분과 종속 변수를 포함한 데이터프레임 생성\n",
    "df_regression = pd.concat([df_pca, pd.DataFrame(y, columns=['리뷰점수'])], axis=1)\n",
    "\n",
    "# 독립 변수와 종속 변수로 데이터를 나눔\n",
    "X = df_regression[['pc1', 'pc2', 'pc3', 'pc4']]\n",
    "y = df_regression['리뷰점수']\n",
    "\n",
    "# 학습용과 테스트용으로 데이터를 나눔\n",
    "X_train, X_test, y_train, y_test = train_test_split(X, y, test_size=0.2, random_state=42)\n",
    "\n",
    "# 회귀분석 모델을 만들고 학습\n",
    "lr = LinearRegression()\n",
    "lr.fit(X_train, y_train)"
   ]
  },
  {
   "cell_type": "code",
   "execution_count": 17,
   "metadata": {},
   "outputs": [],
   "source": [
    "# 모델 평가\n",
    "y_pred = lr.predict(X_test)"
   ]
  },
  {
   "cell_type": "code",
   "execution_count": 18,
   "metadata": {},
   "outputs": [
    {
     "data": {
      "text/plain": [
       "array([4.69161371, 4.82911565, 4.86024444, ..., 4.90109673, 4.90767702,\n",
       "       4.84961856])"
      ]
     },
     "execution_count": 18,
     "metadata": {},
     "output_type": "execute_result"
    }
   ],
   "source": [
    "y_pred"
   ]
  },
  {
   "cell_type": "code",
   "execution_count": 19,
   "metadata": {},
   "outputs": [
    {
     "data": {
      "text/plain": [
       "24810    4.90\n",
       "4246     4.87\n",
       "21997    4.87\n",
       "27157    5.00\n",
       "3265     4.75\n",
       "         ... \n",
       "13899    4.84\n",
       "14808    4.43\n",
       "26830    4.89\n",
       "6157     4.89\n",
       "2030     4.90\n",
       "Name: 리뷰점수, Length: 6198, dtype: float64"
      ]
     },
     "execution_count": 19,
     "metadata": {},
     "output_type": "execute_result"
    }
   ],
   "source": [
    "y_test"
   ]
  },
  {
   "cell_type": "code",
   "execution_count": 20,
   "metadata": {},
   "outputs": [
    {
     "name": "stdout",
     "output_type": "stream",
     "text": [
      "MSE: 0.01\n",
      "RMSE: 0.11\n",
      "MAE: 0.07\n"
     ]
    }
   ],
   "source": [
    "# 회귀분석 평가 지표 (mse, rmse, mae / 결정계수 r2_score)\n",
    "\n",
    "mse = mean_squared_error(y_test, y_pred)\n",
    "rmse = np.sqrt(mse)\n",
    "mae = mean_absolute_error(y_test, y_pred)\n",
    "\n",
    "print('MSE: %0.2f'%mse)   # 평균제곱오차\n",
    "print('RMSE: %0.2f'%rmse) # 평균제곱근오차\n",
    "print('MAE: %0.2f'%mae)   # 평균절대오차"
   ]
  },
  {
   "cell_type": "code",
   "execution_count": 21,
   "metadata": {},
   "outputs": [
    {
     "name": "stdout",
     "output_type": "stream",
     "text": [
      "결정계수(r2_score): 0.85\n"
     ]
    }
   ],
   "source": [
    "r2 = round(r2_score(y_test, y_pred),2)\n",
    "print('결정계수(r2_score):',r2)\n",
    "# 결정계수(설명력): 회귀모델이 데이터에 83% 설명함"
   ]
  },
  {
   "cell_type": "code",
   "execution_count": 22,
   "metadata": {},
   "outputs": [
    {
     "name": "stdout",
     "output_type": "stream",
     "text": [
      "y절편:  4.74\n"
     ]
    }
   ],
   "source": [
    "print('y절편: ', np.round(lr.intercept_,2))"
   ]
  },
  {
   "cell_type": "code",
   "execution_count": 23,
   "metadata": {},
   "outputs": [
    {
     "name": "stdout",
     "output_type": "stream",
     "text": [
      "                            OLS Regression Results                            \n",
      "==============================================================================\n",
      "Dep. Variable:                   리뷰점수   R-squared:                       0.854\n",
      "Model:                            OLS   Adj. R-squared:                  0.854\n",
      "Method:                 Least Squares   F-statistic:                 4.543e+04\n",
      "Date:                Sat, 01 Jun 2024   Prob (F-statistic):               0.00\n",
      "Time:                        11:00:11   Log-Likelihood:                 24913.\n",
      "No. Observations:               30990   AIC:                        -4.982e+04\n",
      "Df Residuals:                   30985   BIC:                        -4.978e+04\n",
      "Df Model:                           4                                         \n",
      "Covariance Type:            nonrobust                                         \n",
      "==============================================================================\n",
      "                 coef    std err          t      P>|t|      [0.025      0.975]\n",
      "------------------------------------------------------------------------------\n",
      "const          4.7384      0.001   7701.669      0.000       4.737       4.740\n",
      "pc1           -0.1310      0.000   -420.141      0.000      -0.132      -0.130\n",
      "pc2            0.0249      0.001     35.011      0.000       0.023       0.026\n",
      "pc3            0.0437      0.001     55.184      0.000       0.042       0.045\n",
      "pc4           -0.0330      0.001    -30.272      0.000      -0.035      -0.031\n",
      "==============================================================================\n",
      "Omnibus:                     4808.074   Durbin-Watson:                   1.940\n",
      "Prob(Omnibus):                  0.000   Jarque-Bera (JB):            74293.699\n",
      "Skew:                          -0.224   Prob(JB):                         0.00\n",
      "Kurtosis:                      10.572   Cond. No.                         3.49\n",
      "==============================================================================\n",
      "\n",
      "Notes:\n",
      "[1] Standard Errors assume that the covariance matrix of the errors is correctly specified.\n"
     ]
    }
   ],
   "source": [
    "import statsmodels.api as sm\n",
    "\n",
    "# 종속변수와 독립변수 선택\n",
    "X = df_regression[['pc1', 'pc2', 'pc3', 'pc4']]\n",
    "y = df_regression['리뷰점수']\n",
    "\n",
    "# 상수항 추가\n",
    "X = sm.add_constant(X)\n",
    "\n",
    "# 회귀모형 적합\n",
    "model = sm.OLS(y, X).fit()\n",
    "\n",
    "# 회귀분석 결과 출력\n",
    "print(model.summary())"
   ]
  },
  {
   "cell_type": "markdown",
   "metadata": {},
   "source": [
    "PCA 모델에서 누적된 분산 비율이 70~90% 범위인 경우 충분히 설명력이 있다고 판단할 수 있음\n",
    " - 이 경우 두 가지 선택권이 있음\n",
    " - - 데이터 특징의 90%를 살려 차원을 조금 늘릴지(여기서는 주성분 개수)\n",
    " - - 데이터 특징의 70%를 살려 차원을 최대한 축소할 지\n",
    " - 선택은 현재 시스템의 리소스 상황을 고려함"
   ]
  },
  {
   "cell_type": "markdown",
   "metadata": {},
   "source": [
    "그래서 pc1과 pc2만으로 70% 가 넘어가므로 이 둘만 넣어서 회귀 분석 진행해봄"
   ]
  },
  {
   "cell_type": "code",
   "execution_count": 24,
   "metadata": {},
   "outputs": [
    {
     "name": "stdout",
     "output_type": "stream",
     "text": [
      "                            OLS Regression Results                            \n",
      "==============================================================================\n",
      "Dep. Variable:                   리뷰점수   R-squared:                       0.836\n",
      "Model:                            OLS   Adj. R-squared:                  0.836\n",
      "Method:                 Least Squares   F-statistic:                 7.880e+04\n",
      "Date:                Sat, 01 Jun 2024   Prob (F-statistic):               0.00\n",
      "Time:                        11:00:11   Log-Likelihood:                 23049.\n",
      "No. Observations:               30990   AIC:                        -4.609e+04\n",
      "Df Residuals:                   30987   BIC:                        -4.607e+04\n",
      "Df Model:                           2                                         \n",
      "Covariance Type:            nonrobust                                         \n",
      "==============================================================================\n",
      "                 coef    std err          t      P>|t|      [0.025      0.975]\n",
      "------------------------------------------------------------------------------\n",
      "const          4.7384      0.001   7252.226      0.000       4.737       4.740\n",
      "pc1           -0.1310      0.000   -395.623      0.000      -0.132      -0.130\n",
      "pc2            0.0249      0.001     32.968      0.000       0.023       0.026\n",
      "==============================================================================\n",
      "Omnibus:                     5069.599   Durbin-Watson:                   1.947\n",
      "Prob(Omnibus):                  0.000   Jarque-Bera (JB):            76992.276\n",
      "Skew:                          -0.307   Prob(JB):                         0.00\n",
      "Kurtosis:                      10.697   Cond. No.                         2.28\n",
      "==============================================================================\n",
      "\n",
      "Notes:\n",
      "[1] Standard Errors assume that the covariance matrix of the errors is correctly specified.\n"
     ]
    }
   ],
   "source": [
    "import statsmodels.api as sm\n",
    "\n",
    "# 종속변수와 독립변수 선택\n",
    "X = df_regression[['pc1', 'pc2']]\n",
    "y = df_regression['리뷰점수']\n",
    "\n",
    "# 상수항 추가\n",
    "X = sm.add_constant(X)\n",
    "\n",
    "# 회귀모형 적합\n",
    "model = sm.OLS(y, X).fit()\n",
    "\n",
    "# 회귀분석 결과 출력\n",
    "print(model.summary())"
   ]
  },
  {
   "cell_type": "markdown",
   "metadata": {},
   "source": [
    "전체 컬럼 중 범주형 제외 pca 분석"
   ]
  },
  {
   "cell_type": "code",
   "execution_count": 25,
   "metadata": {},
   "outputs": [
    {
     "name": "stdout",
     "output_type": "stream",
     "text": [
      "<class 'pandas.core.frame.DataFrame'>\n",
      "Index: 30990 entries, 1 to 83393\n",
      "Data columns (total 19 columns):\n",
      " #   Column       Non-Null Count  Dtype  \n",
      "---  ------       --------------  -----  \n",
      " 0   숙소_수         30990 non-null  float64\n",
      " 1   수용_인원수       30990 non-null  int64  \n",
      " 2   욕실수          30990 non-null  float64\n",
      " 3   침실수          30990 non-null  float64\n",
      " 4   침대수          30990 non-null  float64\n",
      " 5   숙소_가격        30990 non-null  float64\n",
      " 6   최소_숙박일       30990 non-null  int64  \n",
      " 7   최대_숙박일       30990 non-null  int64  \n",
      " 8   리뷰수          30990 non-null  int64  \n",
      " 9   30일_리뷰수      30990 non-null  int64  \n",
      " 10  리뷰점수         30990 non-null  float64\n",
      " 11  숙소_정확성_리뷰점수  30990 non-null  float64\n",
      " 12  숙소_청결도_리뷰점수  30990 non-null  float64\n",
      " 13  숙소_체크인_리뷰점수  30990 non-null  float64\n",
      " 14  숙소_소통_리뷰점수   30990 non-null  float64\n",
      " 15  숙소_위치_리뷰점수   30990 non-null  float64\n",
      " 16  숙소_가격_리뷰점수   30990 non-null  float64\n",
      " 17  평균_리뷰수       30990 non-null  float64\n",
      " 18  12개월_리뷰수     30990 non-null  int64  \n",
      "dtypes: float64(13), int64(6)\n",
      "memory usage: 4.7 MB\n"
     ]
    }
   ],
   "source": [
    "df_clean.info()"
   ]
  },
  {
   "cell_type": "code",
   "execution_count": 26,
   "metadata": {},
   "outputs": [
    {
     "data": {
      "text/html": [
       "<div>\n",
       "<style scoped>\n",
       "    .dataframe tbody tr th:only-of-type {\n",
       "        vertical-align: middle;\n",
       "    }\n",
       "\n",
       "    .dataframe tbody tr th {\n",
       "        vertical-align: top;\n",
       "    }\n",
       "\n",
       "    .dataframe thead th {\n",
       "        text-align: right;\n",
       "    }\n",
       "</style>\n",
       "<table border=\"1\" class=\"dataframe\">\n",
       "  <thead>\n",
       "    <tr style=\"text-align: right;\">\n",
       "      <th></th>\n",
       "      <th>pc1</th>\n",
       "      <th>pc2</th>\n",
       "      <th>pc3</th>\n",
       "      <th>pc4</th>\n",
       "      <th>pc5</th>\n",
       "      <th>pc6</th>\n",
       "      <th>pc7</th>\n",
       "      <th>pc8</th>\n",
       "      <th>pc9</th>\n",
       "      <th>pc10</th>\n",
       "      <th>pc11</th>\n",
       "      <th>pc12</th>\n",
       "    </tr>\n",
       "  </thead>\n",
       "  <tbody>\n",
       "    <tr>\n",
       "      <th>0</th>\n",
       "      <td>-0.338878</td>\n",
       "      <td>-1.532839</td>\n",
       "      <td>-0.038173</td>\n",
       "      <td>0.077398</td>\n",
       "      <td>0.048251</td>\n",
       "      <td>0.232634</td>\n",
       "      <td>-0.512039</td>\n",
       "      <td>-0.858111</td>\n",
       "      <td>-0.858167</td>\n",
       "      <td>0.109181</td>\n",
       "      <td>0.279073</td>\n",
       "      <td>-0.337500</td>\n",
       "    </tr>\n",
       "    <tr>\n",
       "      <th>1</th>\n",
       "      <td>-0.060359</td>\n",
       "      <td>-0.724991</td>\n",
       "      <td>5.336187</td>\n",
       "      <td>1.445992</td>\n",
       "      <td>0.314383</td>\n",
       "      <td>0.303909</td>\n",
       "      <td>-1.921268</td>\n",
       "      <td>-1.238277</td>\n",
       "      <td>-1.647147</td>\n",
       "      <td>0.082746</td>\n",
       "      <td>0.538622</td>\n",
       "      <td>0.453023</td>\n",
       "    </tr>\n",
       "    <tr>\n",
       "      <th>2</th>\n",
       "      <td>0.924441</td>\n",
       "      <td>-0.594528</td>\n",
       "      <td>-0.789960</td>\n",
       "      <td>-0.810098</td>\n",
       "      <td>0.150487</td>\n",
       "      <td>0.071484</td>\n",
       "      <td>-0.278102</td>\n",
       "      <td>0.125363</td>\n",
       "      <td>-0.913520</td>\n",
       "      <td>0.508613</td>\n",
       "      <td>-0.182642</td>\n",
       "      <td>0.277058</td>\n",
       "    </tr>\n",
       "    <tr>\n",
       "      <th>3</th>\n",
       "      <td>-0.580559</td>\n",
       "      <td>0.772017</td>\n",
       "      <td>2.316013</td>\n",
       "      <td>0.029238</td>\n",
       "      <td>1.250879</td>\n",
       "      <td>0.006792</td>\n",
       "      <td>-0.642619</td>\n",
       "      <td>-1.204538</td>\n",
       "      <td>-2.488996</td>\n",
       "      <td>0.395211</td>\n",
       "      <td>-0.323319</td>\n",
       "      <td>1.268997</td>\n",
       "    </tr>\n",
       "    <tr>\n",
       "      <th>4</th>\n",
       "      <td>-0.240573</td>\n",
       "      <td>0.064356</td>\n",
       "      <td>-0.220912</td>\n",
       "      <td>0.594950</td>\n",
       "      <td>0.025754</td>\n",
       "      <td>0.199804</td>\n",
       "      <td>-0.992948</td>\n",
       "      <td>-0.735618</td>\n",
       "      <td>-0.601633</td>\n",
       "      <td>-0.173380</td>\n",
       "      <td>-0.505803</td>\n",
       "      <td>0.115828</td>\n",
       "    </tr>\n",
       "    <tr>\n",
       "      <th>...</th>\n",
       "      <td>...</td>\n",
       "      <td>...</td>\n",
       "      <td>...</td>\n",
       "      <td>...</td>\n",
       "      <td>...</td>\n",
       "      <td>...</td>\n",
       "      <td>...</td>\n",
       "      <td>...</td>\n",
       "      <td>...</td>\n",
       "      <td>...</td>\n",
       "      <td>...</td>\n",
       "      <td>...</td>\n",
       "    </tr>\n",
       "    <tr>\n",
       "      <th>30985</th>\n",
       "      <td>-1.904065</td>\n",
       "      <td>-0.783122</td>\n",
       "      <td>2.565332</td>\n",
       "      <td>-0.625721</td>\n",
       "      <td>-0.372729</td>\n",
       "      <td>-0.242910</td>\n",
       "      <td>1.235325</td>\n",
       "      <td>1.790999</td>\n",
       "      <td>2.424820</td>\n",
       "      <td>0.051464</td>\n",
       "      <td>0.131118</td>\n",
       "      <td>0.543466</td>\n",
       "    </tr>\n",
       "    <tr>\n",
       "      <th>30986</th>\n",
       "      <td>-2.122384</td>\n",
       "      <td>-1.196884</td>\n",
       "      <td>1.287811</td>\n",
       "      <td>0.961792</td>\n",
       "      <td>-0.805731</td>\n",
       "      <td>-0.178959</td>\n",
       "      <td>-0.072803</td>\n",
       "      <td>0.402191</td>\n",
       "      <td>2.408045</td>\n",
       "      <td>-0.127382</td>\n",
       "      <td>0.376218</td>\n",
       "      <td>0.587520</td>\n",
       "    </tr>\n",
       "    <tr>\n",
       "      <th>30987</th>\n",
       "      <td>-2.177061</td>\n",
       "      <td>0.517778</td>\n",
       "      <td>0.287309</td>\n",
       "      <td>-0.275151</td>\n",
       "      <td>-0.309990</td>\n",
       "      <td>-0.390010</td>\n",
       "      <td>0.690218</td>\n",
       "      <td>0.090861</td>\n",
       "      <td>1.394585</td>\n",
       "      <td>-0.025717</td>\n",
       "      <td>-0.638204</td>\n",
       "      <td>0.534469</td>\n",
       "    </tr>\n",
       "    <tr>\n",
       "      <th>30988</th>\n",
       "      <td>1.891135</td>\n",
       "      <td>1.521391</td>\n",
       "      <td>0.464844</td>\n",
       "      <td>-0.639816</td>\n",
       "      <td>-0.099214</td>\n",
       "      <td>-0.177470</td>\n",
       "      <td>0.711630</td>\n",
       "      <td>-1.059428</td>\n",
       "      <td>1.605729</td>\n",
       "      <td>0.594249</td>\n",
       "      <td>-1.157483</td>\n",
       "      <td>0.490673</td>\n",
       "    </tr>\n",
       "    <tr>\n",
       "      <th>30989</th>\n",
       "      <td>-2.129687</td>\n",
       "      <td>0.908683</td>\n",
       "      <td>0.223918</td>\n",
       "      <td>-0.026238</td>\n",
       "      <td>-0.151162</td>\n",
       "      <td>0.913030</td>\n",
       "      <td>0.686815</td>\n",
       "      <td>0.292643</td>\n",
       "      <td>1.428183</td>\n",
       "      <td>0.204519</td>\n",
       "      <td>-1.135647</td>\n",
       "      <td>-0.357971</td>\n",
       "    </tr>\n",
       "  </tbody>\n",
       "</table>\n",
       "<p>30990 rows × 12 columns</p>\n",
       "</div>"
      ],
      "text/plain": [
       "            pc1       pc2       pc3       pc4       pc5       pc6       pc7  \\\n",
       "0     -0.338878 -1.532839 -0.038173  0.077398  0.048251  0.232634 -0.512039   \n",
       "1     -0.060359 -0.724991  5.336187  1.445992  0.314383  0.303909 -1.921268   \n",
       "2      0.924441 -0.594528 -0.789960 -0.810098  0.150487  0.071484 -0.278102   \n",
       "3     -0.580559  0.772017  2.316013  0.029238  1.250879  0.006792 -0.642619   \n",
       "4     -0.240573  0.064356 -0.220912  0.594950  0.025754  0.199804 -0.992948   \n",
       "...         ...       ...       ...       ...       ...       ...       ...   \n",
       "30985 -1.904065 -0.783122  2.565332 -0.625721 -0.372729 -0.242910  1.235325   \n",
       "30986 -2.122384 -1.196884  1.287811  0.961792 -0.805731 -0.178959 -0.072803   \n",
       "30987 -2.177061  0.517778  0.287309 -0.275151 -0.309990 -0.390010  0.690218   \n",
       "30988  1.891135  1.521391  0.464844 -0.639816 -0.099214 -0.177470  0.711630   \n",
       "30989 -2.129687  0.908683  0.223918 -0.026238 -0.151162  0.913030  0.686815   \n",
       "\n",
       "            pc8       pc9      pc10      pc11      pc12  \n",
       "0     -0.858111 -0.858167  0.109181  0.279073 -0.337500  \n",
       "1     -1.238277 -1.647147  0.082746  0.538622  0.453023  \n",
       "2      0.125363 -0.913520  0.508613 -0.182642  0.277058  \n",
       "3     -1.204538 -2.488996  0.395211 -0.323319  1.268997  \n",
       "4     -0.735618 -0.601633 -0.173380 -0.505803  0.115828  \n",
       "...         ...       ...       ...       ...       ...  \n",
       "30985  1.790999  2.424820  0.051464  0.131118  0.543466  \n",
       "30986  0.402191  2.408045 -0.127382  0.376218  0.587520  \n",
       "30987  0.090861  1.394585 -0.025717 -0.638204  0.534469  \n",
       "30988 -1.059428  1.605729  0.594249 -1.157483  0.490673  \n",
       "30989  0.292643  1.428183  0.204519 -1.135647 -0.357971  \n",
       "\n",
       "[30990 rows x 12 columns]"
      ]
     },
     "execution_count": 26,
     "metadata": {},
     "output_type": "execute_result"
    }
   ],
   "source": [
    "import pandas as pd\n",
    "from sklearn.preprocessing import StandardScaler\n",
    "from sklearn.decomposition import PCA\n",
    "from sklearn.impute import SimpleImputer\n",
    "import matplotlib.pyplot as plt\n",
    "\n",
    "# 독립변인과 종속변인 설정\n",
    "x = df_clean.drop(columns=['리뷰점수']).values  # 독립변인들의 값만 추출\n",
    "y = df_clean['리뷰점수'].values  # 종속변인 추출\n",
    "\n",
    "# 결측값 처리\n",
    "imputer = SimpleImputer(strategy='mean')\n",
    "x_imputed = imputer.fit_transform(x)\n",
    "\n",
    "# 표준화\n",
    "scaler = StandardScaler()\n",
    "x_standardized = scaler.fit_transform(x_imputed)\n",
    "\n",
    "# PCA 적용\n",
    "pca = PCA(n_components=12)  # 주성분 개수\n",
    "principal_components = pca.fit_transform(x_standardized)\n",
    "\n",
    "# 결과를 데이터프레임으로 변환\n",
    "df_pca = pd.DataFrame(data=principal_components, columns=['pc1','pc2','pc3','pc4','pc5','pc6','pc7','pc8',\n",
    "                                                          'pc9','pc10','pc11','pc12'])\n",
    "df_pca"
   ]
  },
  {
   "cell_type": "code",
   "execution_count": 27,
   "metadata": {},
   "outputs": [
    {
     "data": {
      "text/plain": [
       "array([0.22076125, 0.16796894, 0.15590424, 0.06378205, 0.05295055,\n",
       "       0.05225754, 0.04827873, 0.04056497, 0.03816209, 0.03280494,\n",
       "       0.02871818, 0.01855913])"
      ]
     },
     "execution_count": 27,
     "metadata": {},
     "output_type": "execute_result"
    }
   ],
   "source": [
    "pca.explained_variance_ratio_"
   ]
  },
  {
   "cell_type": "code",
   "execution_count": 28,
   "metadata": {},
   "outputs": [
    {
     "data": {
      "text/plain": [
       "0.9207125999636492"
      ]
     },
     "execution_count": 28,
     "metadata": {},
     "output_type": "execute_result"
    }
   ],
   "source": [
    "sum(pca.explained_variance_ratio_)\n",
    "# 전체 컬럼 19개 중에 12개가 92%"
   ]
  },
  {
   "cell_type": "code",
   "execution_count": 29,
   "metadata": {},
   "outputs": [
    {
     "data": {
      "image/png": "[encoded data removed]",
      "text/plain": [
       "<Figure size 800x600 with 2 Axes>"
      ]
     },
     "metadata": {},
     "output_type": "display_data"
    }
   ],
   "source": [
    "# 시각화\n",
    "plt.figure(figsize=(8, 6))\n",
    "plt.scatter(df_pca['pc1'], df_pca['pc2'], c=y, cmap='viridis')\n",
    "plt.xlabel('주성분 1')\n",
    "plt.ylabel('주성분 2')\n",
    "plt.title('정제된 데이터의 PCA')\n",
    "plt.colorbar(label='리뷰 점수')\n",
    "plt.show()"
   ]
  },
  {
   "cell_type": "markdown",
   "metadata": {},
   "source": [
    "추출한 주성분으로 회귀분석"
   ]
  },
  {
   "cell_type": "code",
   "execution_count": 30,
   "metadata": {},
   "outputs": [
    {
     "data": {
      "text/html": [
       "<style>#sk-container-id-2 {color: black;background-color: white;}#sk-container-id-2 pre{padding: 0;}#sk-container-id-2 div.sk-toggleable {background-color: white;}#sk-container-id-2 label.sk-toggleable__label {cursor: pointer;display: block;width: 100%;margin-bottom: 0;padding: 0.3em;box-sizing: border-box;text-align: center;}#sk-container-id-2 label.sk-toggleable__label-arrow:before {content: \"▸\";float: left;margin-right: 0.25em;color: #696969;}#sk-container-id-2 label.sk-toggleable__label-arrow:hover:before {color: black;}#sk-container-id-2 div.sk-estimator:hover label.sk-toggleable__label-arrow:before {color: black;}#sk-container-id-2 div.sk-toggleable__content {max-height: 0;max-width: 0;overflow: hidden;text-align: left;background-color: #f0f8ff;}#sk-container-id-2 div.sk-toggleable__content pre {margin: 0.2em;color: black;border-radius: 0.25em;background-color: #f0f8ff;}#sk-container-id-2 input.sk-toggleable__control:checked~div.sk-toggleable__content {max-height: 200px;max-width: 100%;overflow: auto;}#sk-container-id-2 input.sk-toggleable__control:checked~label.sk-toggleable__label-arrow:before {content: \"▾\";}#sk-container-id-2 div.sk-estimator input.sk-toggleable__control:checked~label.sk-toggleable__label {background-color: #d4ebff;}#sk-container-id-2 div.sk-label input.sk-toggleable__control:checked~label.sk-toggleable__label {background-color: #d4ebff;}#sk-container-id-2 input.sk-hidden--visually {border: 0;clip: rect(1px 1px 1px 1px);clip: rect(1px, 1px, 1px, 1px);height: 1px;margin: -1px;overflow: hidden;padding: 0;position: absolute;width: 1px;}#sk-container-id-2 div.sk-estimator {font-family: monospace;background-color: #f0f8ff;border: 1px dotted black;border-radius: 0.25em;box-sizing: border-box;margin-bottom: 0.5em;}#sk-container-id-2 div.sk-estimator:hover {background-color: #d4ebff;}#sk-container-id-2 div.sk-parallel-item::after {content: \"\";width: 100%;border-bottom: 1px solid gray;flex-grow: 1;}#sk-container-id-2 div.sk-label:hover label.sk-toggleable__label {background-color: #d4ebff;}#sk-container-id-2 div.sk-serial::before {content: \"\";position: absolute;border-left: 1px solid gray;box-sizing: border-box;top: 0;bottom: 0;left: 50%;z-index: 0;}#sk-container-id-2 div.sk-serial {display: flex;flex-direction: column;align-items: center;background-color: white;padding-right: 0.2em;padding-left: 0.2em;position: relative;}#sk-container-id-2 div.sk-item {position: relative;z-index: 1;}#sk-container-id-2 div.sk-parallel {display: flex;align-items: stretch;justify-content: center;background-color: white;position: relative;}#sk-container-id-2 div.sk-item::before, #sk-container-id-2 div.sk-parallel-item::before {content: \"\";position: absolute;border-left: 1px solid gray;box-sizing: border-box;top: 0;bottom: 0;left: 50%;z-index: -1;}#sk-container-id-2 div.sk-parallel-item {display: flex;flex-direction: column;z-index: 1;position: relative;background-color: white;}#sk-container-id-2 div.sk-parallel-item:first-child::after {align-self: flex-end;width: 50%;}#sk-container-id-2 div.sk-parallel-item:last-child::after {align-self: flex-start;width: 50%;}#sk-container-id-2 div.sk-parallel-item:only-child::after {width: 0;}#sk-container-id-2 div.sk-dashed-wrapped {border: 1px dashed gray;margin: 0 0.4em 0.5em 0.4em;box-sizing: border-box;padding-bottom: 0.4em;background-color: white;}#sk-container-id-2 div.sk-label label {font-family: monospace;font-weight: bold;display: inline-block;line-height: 1.2em;}#sk-container-id-2 div.sk-label-container {text-align: center;}#sk-container-id-2 div.sk-container {/* jupyter's `normalize.less` sets `[hidden] { display: none; }` but bootstrap.min.css set `[hidden] { display: none !important; }` so we also need the `!important` here to be able to override the default hidden behavior on the sphinx rendered scikit-learn.org. See: https://github.com/scikit-learn/scikit-learn/issues/21755 */display: inline-block !important;position: relative;}#sk-container-id-2 div.sk-text-repr-fallback {display: none;}</style><div id=\"sk-container-id-2\" class=\"sk-top-container\"><div class=\"sk-text-repr-fallback\"><pre>LinearRegression()</pre><b>In a Jupyter environment, please rerun this cell to show the HTML representation or trust the notebook. <br />On GitHub, the HTML representation is unable to render, please try loading this page with nbviewer.org.</b></div><div class=\"sk-container\" hidden><div class=\"sk-item\"><div class=\"sk-estimator sk-toggleable\"><input class=\"sk-toggleable__control sk-hidden--visually\" id=\"sk-estimator-id-2\" type=\"checkbox\" checked><label for=\"sk-estimator-id-2\" class=\"sk-toggleable__label sk-toggleable__label-arrow\">LinearRegression</label><div class=\"sk-toggleable__content\"><pre>LinearRegression()</pre></div></div></div></div></div>"
      ],
      "text/plain": [
       "LinearRegression()"
      ]
     },
     "execution_count": 30,
     "metadata": {},
     "output_type": "execute_result"
    }
   ],
   "source": [
    "from sklearn.linear_model import LinearRegression\n",
    "from sklearn.model_selection import train_test_split\n",
    "from sklearn.metrics import mean_squared_error, mean_absolute_error, r2_score\n",
    "\n",
    "# 주성분과 종속 변수를 포함한 데이터프레임 생성\n",
    "df_regression = pd.concat([df_pca, pd.DataFrame(y, columns=['리뷰점수'])], axis=1)\n",
    "\n",
    "# 독립 변수와 종속 변수로 데이터를 나눔\n",
    "X = df_pca.values  # 주성분들의 값만 추출\n",
    "y = df_regression['리뷰점수'].values  # 종속변인 추출\n",
    "\n",
    "# 학습용과 테스트용으로 데이터를 나눔\n",
    "X_train, X_test, y_train, y_test = train_test_split(X, y, test_size=0.2, random_state=42)\n",
    "\n",
    "# 회귀분석 모델을 만들고 학습\n",
    "lr = LinearRegression()\n",
    "lr.fit(X_train, y_train)\n"
   ]
  },
  {
   "cell_type": "code",
   "execution_count": 31,
   "metadata": {},
   "outputs": [],
   "source": [
    "# 모델 평가\n",
    "y_pred = lr.predict(X_test)"
   ]
  },
  {
   "cell_type": "code",
   "execution_count": 32,
   "metadata": {},
   "outputs": [
    {
     "data": {
      "text/plain": [
       "array([4.70460183, 4.83563548, 4.86056837, ..., 4.91115095, 4.89332156,\n",
       "       4.84793945])"
      ]
     },
     "execution_count": 32,
     "metadata": {},
     "output_type": "execute_result"
    }
   ],
   "source": [
    "y_pred"
   ]
  },
  {
   "cell_type": "code",
   "execution_count": 33,
   "metadata": {},
   "outputs": [
    {
     "data": {
      "text/plain": [
       "array([4.9 , 4.87, 4.87, ..., 4.89, 4.89, 4.9 ])"
      ]
     },
     "execution_count": 33,
     "metadata": {},
     "output_type": "execute_result"
    }
   ],
   "source": [
    "y_test"
   ]
  },
  {
   "cell_type": "code",
   "execution_count": 34,
   "metadata": {},
   "outputs": [
    {
     "name": "stdout",
     "output_type": "stream",
     "text": [
      "MSE: 0.01\n",
      "RMSE: 0.11\n",
      "MAE: 0.07\n"
     ]
    }
   ],
   "source": [
    "# 회귀분석 평가 지표 (mse, rmse, mae / 결정계수 r2_score)\n",
    "\n",
    "mse = mean_squared_error(y_test, y_pred)\n",
    "rmse = np.sqrt(mse)\n",
    "mae = mean_absolute_error(y_test, y_pred)\n",
    "\n",
    "print('MSE: %0.2f'%mse)   # 평균제곱오차\n",
    "print('RMSE: %0.2f'%rmse) # 평균제곱근오차\n",
    "print('MAE: %0.2f'%mae)   # 평균절대오차"
   ]
  },
  {
   "cell_type": "code",
   "execution_count": 35,
   "metadata": {},
   "outputs": [
    {
     "name": "stdout",
     "output_type": "stream",
     "text": [
      "결정계수(r2_score): 0.85\n"
     ]
    }
   ],
   "source": [
    "r2 = round(r2_score(y_test, y_pred),2)\n",
    "print('결정계수(r2_score):',r2)\n",
    "# 결정계수(설명력): 회귀모델이 데이터에 83% 설명함"
   ]
  },
  {
   "cell_type": "code",
   "execution_count": 36,
   "metadata": {},
   "outputs": [
    {
     "name": "stdout",
     "output_type": "stream",
     "text": [
      "y절편:  4.74\n"
     ]
    }
   ],
   "source": [
    "print('y절편: ', np.round(lr.intercept_,2))"
   ]
  },
  {
   "cell_type": "code",
   "execution_count": 37,
   "metadata": {},
   "outputs": [
    {
     "name": "stdout",
     "output_type": "stream",
     "text": [
      "                            OLS Regression Results                            \n",
      "==============================================================================\n",
      "Dep. Variable:                   리뷰점수   R-squared:                       0.854\n",
      "Model:                            OLS   Adj. R-squared:                  0.854\n",
      "Method:                 Least Squares   F-statistic:                 1.512e+04\n",
      "Date:                Sat, 01 Jun 2024   Prob (F-statistic):               0.00\n",
      "Time:                        11:00:12   Log-Likelihood:                 24896.\n",
      "No. Observations:               30990   AIC:                        -4.977e+04\n",
      "Df Residuals:                   30977   BIC:                        -4.966e+04\n",
      "Df Model:                          12                                         \n",
      "Covariance Type:            nonrobust                                         \n",
      "==============================================================================\n",
      "                 coef    std err          t      P>|t|      [0.025      0.975]\n",
      "------------------------------------------------------------------------------\n",
      "const          4.7384      0.001   7696.325      0.000       4.737       4.740\n",
      "pc1           -0.1288      0.000   -416.874      0.000      -0.129      -0.128\n",
      "pc2            0.0018      0.000      5.097      0.000       0.001       0.002\n",
      "pc3           -0.0158      0.000    -42.903      0.000      -0.016      -0.015\n",
      "pc4            0.0127      0.001     22.086      0.000       0.012       0.014\n",
      "pc5           -0.0095      0.001    -15.013      0.000      -0.011      -0.008\n",
      "pc6           -0.0049      0.001     -7.685      0.000      -0.006      -0.004\n",
      "pc7            0.0086      0.001     13.001      0.000       0.007       0.010\n",
      "pc8            0.0335      0.001     46.433      0.000       0.032       0.035\n",
      "pc9            0.0031      0.001      4.166      0.000       0.002       0.005\n",
      "pc10          -0.0374      0.001    -46.660      0.000      -0.039      -0.036\n",
      "pc11          -0.0114      0.001    -13.314      0.000      -0.013      -0.010\n",
      "pc12           0.0184      0.001     17.290      0.000       0.016       0.021\n",
      "==============================================================================\n",
      "Omnibus:                     5556.421   Durbin-Watson:                   1.946\n",
      "Prob(Omnibus):                  0.000   Jarque-Bera (JB):            79201.928\n",
      "Skew:                          -0.441   Prob(JB):                         0.00\n",
      "Kurtosis:                      10.782   Cond. No.                         3.45\n",
      "==============================================================================\n",
      "\n",
      "Notes:\n",
      "[1] Standard Errors assume that the covariance matrix of the errors is correctly specified.\n"
     ]
    }
   ],
   "source": [
    "import statsmodels.api as sm\n",
    "\n",
    "# 종속변수와 독립변수 선택\n",
    "\n",
    "X = df_pca[['pc1','pc2','pc3','pc4','pc5','pc6','pc7','pc8','pc9','pc10','pc11','pc12']]\n",
    "y = df_regression['리뷰점수']\n",
    "\n",
    "# 상수항 추가\n",
    "X = sm.add_constant(X)\n",
    "\n",
    "# 회귀모형 적합\n",
    "model = sm.OLS(y, X).fit()\n",
    "\n",
    "# 회귀분석 결과 출력\n",
    "print(model.summary())"
   ]
  },
  {
   "cell_type": "markdown",
   "metadata": {},
   "source": [
    "리뷰 점수와 상관계수가 있는 6개의 컬럼으로 pca분석을 돌린 주성분 4개의 회귀모델 R-squared = 0.854\n",
    " - 주성분 4개 이유 : 4개 넣어야. 90%를 넘겼음.\n",
    " - [0.64872037, 0.12489846, 0.10042543, 0.05315938]\n",
    "<br>\n",
    "\n",
    "전체 데이터(범주형 데이터 제외한 df) 19개 중 pca분석을 통해 나온 주성분 12개의 회귀모델 R-squared = 0.854\n",
    " - 주성분 12개 이유 : 12개 넣어야. 90%를 넘겼음.\n",
    " - [0.22076125, 0.16796894, 0.15590424, 0.06378205, 0.05295055, 0.05225754, 0.04827873, 0.04056497, 0.03816209, 0.03280494, 0.02871818, 0.01855913]"
   ]
  },
  {
   "cell_type": "markdown",
   "metadata": {},
   "source": [
    "결과 : \n",
    "- 두 경우의 R-squared 가 똑같음.\n",
    "- 다만 둘 다 90을 넘지 못하였음."
   ]
  },
  {
   "cell_type": "markdown",
   "metadata": {},
   "source": [
    "# 공통 요인 분석 진행"
   ]
  },
  {
   "cell_type": "code",
   "execution_count": 38,
   "metadata": {},
   "outputs": [
    {
     "name": "stdout",
     "output_type": "stream",
     "text": [
      "Defaulting to user installation because normal site-packages is not writeable\n",
      "Requirement already satisfied: factor-analyzer in c:\\users\\rladn\\appdata\\roaming\\python\\python311\\site-packages (0.5.1)\n",
      "Requirement already satisfied: pandas in c:\\programdata\\anaconda3\\lib\\site-packages (from factor-analyzer) (2.1.4)\n",
      "Requirement already satisfied: scipy in c:\\programdata\\anaconda3\\lib\\site-packages (from factor-analyzer) (1.11.4)\n",
      "Requirement already satisfied: numpy in c:\\programdata\\anaconda3\\lib\\site-packages (from factor-analyzer) (1.26.4)\n",
      "Requirement already satisfied: scikit-learn in c:\\programdata\\anaconda3\\lib\\site-packages (from factor-analyzer) (1.2.2)\n",
      "Requirement already satisfied: python-dateutil>=2.8.2 in c:\\programdata\\anaconda3\\lib\\site-packages (from pandas->factor-analyzer) (2.8.2)\n",
      "Requirement already satisfied: pytz>=2020.1 in c:\\programdata\\anaconda3\\lib\\site-packages (from pandas->factor-analyzer) (2023.3.post1)\n",
      "Requirement already satisfied: tzdata>=2022.1 in c:\\programdata\\anaconda3\\lib\\site-packages (from pandas->factor-analyzer) (2023.3)\n",
      "Requirement already satisfied: joblib>=1.1.1 in c:\\programdata\\anaconda3\\lib\\site-packages (from scikit-learn->factor-analyzer) (1.2.0)\n",
      "Requirement already satisfied: threadpoolctl>=2.0.0 in c:\\programdata\\anaconda3\\lib\\site-packages (from scikit-learn->factor-analyzer) (2.2.0)\n",
      "Requirement already satisfied: six>=1.5 in c:\\programdata\\anaconda3\\lib\\site-packages (from python-dateutil>=2.8.2->pandas->factor-analyzer) (1.16.0)\n"
     ]
    }
   ],
   "source": [
    "!pip install factor-analyzer"
   ]
  },
  {
   "cell_type": "code",
   "execution_count": 39,
   "metadata": {},
   "outputs": [],
   "source": [
    "# 필요한 라이브러리 불러오기\n",
    "import pandas as pd\n",
    "from factor_analyzer import FactorAnalyzer"
   ]
  },
  {
   "cell_type": "code",
   "execution_count": 40,
   "metadata": {},
   "outputs": [
    {
     "name": "stdout",
     "output_type": "stream",
     "text": [
      "[[-0.20482319  0.04362272]\n",
      " [-0.13838085  0.83320206]\n",
      " [-0.0349018   0.67717657]\n",
      " [-0.02777767  0.80859062]\n",
      " [-0.11871024  0.87546972]\n",
      " [-0.0025356   0.22143881]\n",
      " [-0.02566211 -0.05978086]\n",
      " [-0.12497894  0.06714137]\n",
      " [ 0.0351822   0.04193865]\n",
      " [ 0.02539906  0.01414047]\n",
      " [ 0.94777339  0.11405048]\n",
      " [ 0.88789682  0.08099455]\n",
      " [ 0.73365967  0.11134056]\n",
      " [ 0.72949378  0.05114521]\n",
      " [ 0.8024104   0.04737542]\n",
      " [ 0.46390572  0.07938715]\n",
      " [ 0.88569059  0.11415283]\n",
      " [ 0.00765146  0.01943013]\n",
      " [ 0.02643249  0.03851251]]\n"
     ]
    }
   ],
   "source": [
    "# 요인 분석 수행\n",
    "fa = FactorAnalyzer(n_factors=2, rotation=\"varimax\")\n",
    "fa.fit(df_clean) \n",
    "\n",
    "# 결과 출력\n",
    "print(fa.loadings_)\n"
   ]
  },
  {
   "cell_type": "code",
   "execution_count": 41,
   "metadata": {},
   "outputs": [
    {
     "data": {
      "text/html": [
       "<div>\n",
       "<style scoped>\n",
       "    .dataframe tbody tr th:only-of-type {\n",
       "        vertical-align: middle;\n",
       "    }\n",
       "\n",
       "    .dataframe tbody tr th {\n",
       "        vertical-align: top;\n",
       "    }\n",
       "\n",
       "    .dataframe thead th {\n",
       "        text-align: right;\n",
       "    }\n",
       "</style>\n",
       "<table border=\"1\" class=\"dataframe\">\n",
       "  <thead>\n",
       "    <tr style=\"text-align: right;\">\n",
       "      <th></th>\n",
       "      <th>Factor1</th>\n",
       "      <th>Factor2</th>\n",
       "    </tr>\n",
       "  </thead>\n",
       "  <tbody>\n",
       "    <tr>\n",
       "      <th>0</th>\n",
       "      <td>-0.204823</td>\n",
       "      <td>0.043623</td>\n",
       "    </tr>\n",
       "    <tr>\n",
       "      <th>1</th>\n",
       "      <td>-0.138381</td>\n",
       "      <td>0.833202</td>\n",
       "    </tr>\n",
       "    <tr>\n",
       "      <th>2</th>\n",
       "      <td>-0.034902</td>\n",
       "      <td>0.677177</td>\n",
       "    </tr>\n",
       "    <tr>\n",
       "      <th>3</th>\n",
       "      <td>-0.027778</td>\n",
       "      <td>0.808591</td>\n",
       "    </tr>\n",
       "    <tr>\n",
       "      <th>4</th>\n",
       "      <td>-0.118710</td>\n",
       "      <td>0.875470</td>\n",
       "    </tr>\n",
       "    <tr>\n",
       "      <th>5</th>\n",
       "      <td>-0.002536</td>\n",
       "      <td>0.221439</td>\n",
       "    </tr>\n",
       "    <tr>\n",
       "      <th>6</th>\n",
       "      <td>-0.025662</td>\n",
       "      <td>-0.059781</td>\n",
       "    </tr>\n",
       "    <tr>\n",
       "      <th>7</th>\n",
       "      <td>-0.124979</td>\n",
       "      <td>0.067141</td>\n",
       "    </tr>\n",
       "    <tr>\n",
       "      <th>8</th>\n",
       "      <td>0.035182</td>\n",
       "      <td>0.041939</td>\n",
       "    </tr>\n",
       "    <tr>\n",
       "      <th>9</th>\n",
       "      <td>0.025399</td>\n",
       "      <td>0.014140</td>\n",
       "    </tr>\n",
       "    <tr>\n",
       "      <th>10</th>\n",
       "      <td>0.947773</td>\n",
       "      <td>0.114050</td>\n",
       "    </tr>\n",
       "    <tr>\n",
       "      <th>11</th>\n",
       "      <td>0.887897</td>\n",
       "      <td>0.080995</td>\n",
       "    </tr>\n",
       "    <tr>\n",
       "      <th>12</th>\n",
       "      <td>0.733660</td>\n",
       "      <td>0.111341</td>\n",
       "    </tr>\n",
       "    <tr>\n",
       "      <th>13</th>\n",
       "      <td>0.729494</td>\n",
       "      <td>0.051145</td>\n",
       "    </tr>\n",
       "    <tr>\n",
       "      <th>14</th>\n",
       "      <td>0.802410</td>\n",
       "      <td>0.047375</td>\n",
       "    </tr>\n",
       "    <tr>\n",
       "      <th>15</th>\n",
       "      <td>0.463906</td>\n",
       "      <td>0.079387</td>\n",
       "    </tr>\n",
       "    <tr>\n",
       "      <th>16</th>\n",
       "      <td>0.885691</td>\n",
       "      <td>0.114153</td>\n",
       "    </tr>\n",
       "    <tr>\n",
       "      <th>17</th>\n",
       "      <td>0.007651</td>\n",
       "      <td>0.019430</td>\n",
       "    </tr>\n",
       "    <tr>\n",
       "      <th>18</th>\n",
       "      <td>0.026432</td>\n",
       "      <td>0.038513</td>\n",
       "    </tr>\n",
       "  </tbody>\n",
       "</table>\n",
       "</div>"
      ],
      "text/plain": [
       "     Factor1   Factor2\n",
       "0  -0.204823  0.043623\n",
       "1  -0.138381  0.833202\n",
       "2  -0.034902  0.677177\n",
       "3  -0.027778  0.808591\n",
       "4  -0.118710  0.875470\n",
       "5  -0.002536  0.221439\n",
       "6  -0.025662 -0.059781\n",
       "7  -0.124979  0.067141\n",
       "8   0.035182  0.041939\n",
       "9   0.025399  0.014140\n",
       "10  0.947773  0.114050\n",
       "11  0.887897  0.080995\n",
       "12  0.733660  0.111341\n",
       "13  0.729494  0.051145\n",
       "14  0.802410  0.047375\n",
       "15  0.463906  0.079387\n",
       "16  0.885691  0.114153\n",
       "17  0.007651  0.019430\n",
       "18  0.026432  0.038513"
      ]
     },
     "execution_count": 41,
     "metadata": {},
     "output_type": "execute_result"
    }
   ],
   "source": [
    "import pandas as pd\n",
    "\n",
    "# 결과를 df로 변환 \n",
    "loadings_df = pd.DataFrame(fa.loadings_, columns=['Factor1', 'Factor2'])\n",
    "loadings_df"
   ]
  },
  {
   "cell_type": "code",
   "execution_count": 42,
   "metadata": {},
   "outputs": [
    {
     "name": "stdout",
     "output_type": "stream",
     "text": [
      "<class 'pandas.core.frame.DataFrame'>\n",
      "Index: 30990 entries, 1 to 83393\n",
      "Data columns (total 19 columns):\n",
      " #   Column       Non-Null Count  Dtype  \n",
      "---  ------       --------------  -----  \n",
      " 0   숙소_수         30990 non-null  float64\n",
      " 1   수용_인원수       30990 non-null  int64  \n",
      " 2   욕실수          30990 non-null  float64\n",
      " 3   침실수          30990 non-null  float64\n",
      " 4   침대수          30990 non-null  float64\n",
      " 5   숙소_가격        30990 non-null  float64\n",
      " 6   최소_숙박일       30990 non-null  int64  \n",
      " 7   최대_숙박일       30990 non-null  int64  \n",
      " 8   리뷰수          30990 non-null  int64  \n",
      " 9   30일_리뷰수      30990 non-null  int64  \n",
      " 10  리뷰점수         30990 non-null  float64\n",
      " 11  숙소_정확성_리뷰점수  30990 non-null  float64\n",
      " 12  숙소_청결도_리뷰점수  30990 non-null  float64\n",
      " 13  숙소_체크인_리뷰점수  30990 non-null  float64\n",
      " 14  숙소_소통_리뷰점수   30990 non-null  float64\n",
      " 15  숙소_위치_리뷰점수   30990 non-null  float64\n",
      " 16  숙소_가격_리뷰점수   30990 non-null  float64\n",
      " 17  평균_리뷰수       30990 non-null  float64\n",
      " 18  12개월_리뷰수     30990 non-null  int64  \n",
      "dtypes: float64(13), int64(6)\n",
      "memory usage: 4.7 MB\n"
     ]
    }
   ],
   "source": [
    "df_clean.info()"
   ]
  },
  {
   "cell_type": "code",
   "execution_count": 43,
   "metadata": {},
   "outputs": [
    {
     "data": {
      "text/html": [
       "<div>\n",
       "<style scoped>\n",
       "    .dataframe tbody tr th:only-of-type {\n",
       "        vertical-align: middle;\n",
       "    }\n",
       "\n",
       "    .dataframe tbody tr th {\n",
       "        vertical-align: top;\n",
       "    }\n",
       "\n",
       "    .dataframe thead th {\n",
       "        text-align: right;\n",
       "    }\n",
       "</style>\n",
       "<table border=\"1\" class=\"dataframe\">\n",
       "  <thead>\n",
       "    <tr style=\"text-align: right;\">\n",
       "      <th></th>\n",
       "      <th>Factor1</th>\n",
       "      <th>Factor2</th>\n",
       "    </tr>\n",
       "  </thead>\n",
       "  <tbody>\n",
       "    <tr>\n",
       "      <th>10</th>\n",
       "      <td>0.947773</td>\n",
       "      <td>0.114050</td>\n",
       "    </tr>\n",
       "    <tr>\n",
       "      <th>11</th>\n",
       "      <td>0.887897</td>\n",
       "      <td>0.080995</td>\n",
       "    </tr>\n",
       "    <tr>\n",
       "      <th>12</th>\n",
       "      <td>0.733660</td>\n",
       "      <td>0.111341</td>\n",
       "    </tr>\n",
       "    <tr>\n",
       "      <th>13</th>\n",
       "      <td>0.729494</td>\n",
       "      <td>0.051145</td>\n",
       "    </tr>\n",
       "    <tr>\n",
       "      <th>14</th>\n",
       "      <td>0.802410</td>\n",
       "      <td>0.047375</td>\n",
       "    </tr>\n",
       "    <tr>\n",
       "      <th>16</th>\n",
       "      <td>0.885691</td>\n",
       "      <td>0.114153</td>\n",
       "    </tr>\n",
       "  </tbody>\n",
       "</table>\n",
       "</div>"
      ],
      "text/plain": [
       "     Factor1   Factor2\n",
       "10  0.947773  0.114050\n",
       "11  0.887897  0.080995\n",
       "12  0.733660  0.111341\n",
       "13  0.729494  0.051145\n",
       "14  0.802410  0.047375\n",
       "16  0.885691  0.114153"
      ]
     },
     "execution_count": 43,
     "metadata": {},
     "output_type": "execute_result"
    }
   ],
   "source": [
    "loadings_df[loadings_df['Factor1'] >= 0.6]"
   ]
  },
  {
   "cell_type": "markdown",
   "metadata": {},
   "source": [
    "Factor1에서 높은 유사성을 나타낸 값들<br>\n",
    "10  리뷰점수<br>\n",
    "11  숙소_정확성_리뷰점수<br>\n",
    "12  숙소_청결도_리뷰점수<br>\n",
    "13  숙소_체크인_리뷰점수<br>\n",
    "14  숙소_소통_리뷰점수<br>\n",
    "16  숙소_가격_리뷰점수<br>\n",
    "리뷰점수 + 리뷰 상세 항목들(위치항목 제외)\n",
    "\n",
    "해당 결과는 서로 유사한 변수들을 묶어서 Factor1 라는 잠재 변수를 생성한 것임."
   ]
  },
  {
   "cell_type": "code",
   "execution_count": 44,
   "metadata": {},
   "outputs": [
    {
     "data": {
      "text/html": [
       "<div>\n",
       "<style scoped>\n",
       "    .dataframe tbody tr th:only-of-type {\n",
       "        vertical-align: middle;\n",
       "    }\n",
       "\n",
       "    .dataframe tbody tr th {\n",
       "        vertical-align: top;\n",
       "    }\n",
       "\n",
       "    .dataframe thead th {\n",
       "        text-align: right;\n",
       "    }\n",
       "</style>\n",
       "<table border=\"1\" class=\"dataframe\">\n",
       "  <thead>\n",
       "    <tr style=\"text-align: right;\">\n",
       "      <th></th>\n",
       "      <th>Factor1</th>\n",
       "      <th>Factor2</th>\n",
       "    </tr>\n",
       "  </thead>\n",
       "  <tbody>\n",
       "    <tr>\n",
       "      <th>1</th>\n",
       "      <td>-0.138381</td>\n",
       "      <td>0.833202</td>\n",
       "    </tr>\n",
       "    <tr>\n",
       "      <th>2</th>\n",
       "      <td>-0.034902</td>\n",
       "      <td>0.677177</td>\n",
       "    </tr>\n",
       "    <tr>\n",
       "      <th>3</th>\n",
       "      <td>-0.027778</td>\n",
       "      <td>0.808591</td>\n",
       "    </tr>\n",
       "    <tr>\n",
       "      <th>4</th>\n",
       "      <td>-0.118710</td>\n",
       "      <td>0.875470</td>\n",
       "    </tr>\n",
       "  </tbody>\n",
       "</table>\n",
       "</div>"
      ],
      "text/plain": [
       "    Factor1   Factor2\n",
       "1 -0.138381  0.833202\n",
       "2 -0.034902  0.677177\n",
       "3 -0.027778  0.808591\n",
       "4 -0.118710  0.875470"
      ]
     },
     "execution_count": 44,
     "metadata": {},
     "output_type": "execute_result"
    }
   ],
   "source": [
    "loadings_df[loadings_df['Factor2'] >= 0.6]"
   ]
  },
  {
   "cell_type": "markdown",
   "metadata": {},
   "source": [
    "Factor2에서 높은 유사성을 나타낸 값들<br>\n",
    "1   수용_인원수<br>\n",
    "2   욕실수<br>\n",
    "3   침실수<br>\n",
    "4   침대수<br>\n",
    "\n",
    "해당 결과는 서로 유사한 변수들을 묶어서 Factor2 라는 잠재 변수를 생성한 것임."
   ]
  },
  {
   "cell_type": "markdown",
   "metadata": {},
   "source": [
    "확인 결과 : \n",
    " - 상관관계에서 나타났던 값들끼리 나왔음.\n",
    " - 결과를 보니 요인 분석 중 공통요인분석을 진행한 것 같음.\n",
    " - - ② 공통요인분석(common factor analysis) : 원래 변수들의 토대가 되는 잠재차원들을 찾아내고, 분산의 구성에 대한 사전지식이 별로 없는 경우에 적절합니다."
   ]
  },
  {
   "cell_type": "markdown",
   "metadata": {},
   "source": [
    "잘못된 부분이 있을 것 같아 새로 시작(회귀분석 과정에서 실패 이후)"
   ]
  },
  {
   "cell_type": "markdown",
   "metadata": {},
   "source": [
    "먼저 모든 가능한 요인 수(n_factors=df_clean.shape[1])로 초기 공통요인 분석을 실행하여 각 요인의 고유값을 계산\n",
    " - 유값은 요인이 데이터 집합의 변동성을 얼마나 잘 설명하는지를 나타냄"
   ]
  },
  {
   "cell_type": "code",
   "execution_count": 45,
   "metadata": {},
   "outputs": [
    {
     "name": "stdout",
     "output_type": "stream",
     "text": [
      "[4.82708015 3.02351035 2.81156163 1.15014222 0.95414498 0.94088336\n",
      " 0.86980626 0.74033758 0.68698733 0.60004538 0.51765891 0.33583561\n",
      " 0.3168622  0.30227381 0.24623445 0.20246913 0.18997193 0.17414822\n",
      " 0.1100465 ]\n"
     ]
    }
   ],
   "source": [
    "# 필요한 라이브러리를 임포트합니다.\n",
    "import pandas as pd\n",
    "from factor_analyzer import FactorAnalyzer\n",
    "import matplotlib.pyplot as plt\n",
    "\n",
    "# FactorAnalyzer 초기화\n",
    "fa = FactorAnalyzer(rotation=None, n_factors=df_clean.shape[1], method='principal')\n",
    "fa.fit(df_clean)\n",
    "\n",
    "# 고유값(Eigenvalues) 확인\n",
    "ev, v = fa.get_eigenvalues()\n",
    "print(ev)"
   ]
  },
  {
   "cell_type": "code",
   "execution_count": 46,
   "metadata": {},
   "outputs": [
    {
     "data": {
      "image/png": "[encoded data removed]",
      "text/plain": [
       "<Figure size 640x480 with 1 Axes>"
      ]
     },
     "metadata": {},
     "output_type": "display_data"
    }
   ],
   "source": [
    "# 스크리 플롯으로 요인 수 결정\n",
    "plt.scatter(range(1, df_clean.shape[1]+1), ev)\n",
    "plt.plot(range(1, df_clean.shape[1]+1), ev)\n",
    "plt.title('Scree Plot')\n",
    "plt.xlabel('Factors')\n",
    "plt.ylabel('Eigenvalue')\n",
    "plt.grid()\n",
    "plt.show()"
   ]
  },
  {
   "cell_type": "markdown",
   "metadata": {},
   "source": [
    "고유값이 1 이상인 요인들은 데이터 집합의 중요한 변동성을 설명한다고 할 수 있으므로, 이를 기준으로 요인 수를 결정\n",
    " - 일반적으로 고유값이 1 이상인 요인을 선택\n",
    " - 마지막으로, 결정된 요인 수로 요인 분석을 재실행하고, 요인 회전(rotation=\"varimax\")을 적용하여 요인의 해석을 용이하게 함"
   ]
  },
  {
   "cell_type": "code",
   "execution_count": 47,
   "metadata": {},
   "outputs": [
    {
     "data": {
      "text/html": [
       "<style>#sk-container-id-3 {color: black;background-color: white;}#sk-container-id-3 pre{padding: 0;}#sk-container-id-3 div.sk-toggleable {background-color: white;}#sk-container-id-3 label.sk-toggleable__label {cursor: pointer;display: block;width: 100%;margin-bottom: 0;padding: 0.3em;box-sizing: border-box;text-align: center;}#sk-container-id-3 label.sk-toggleable__label-arrow:before {content: \"▸\";float: left;margin-right: 0.25em;color: #696969;}#sk-container-id-3 label.sk-toggleable__label-arrow:hover:before {color: black;}#sk-container-id-3 div.sk-estimator:hover label.sk-toggleable__label-arrow:before {color: black;}#sk-container-id-3 div.sk-toggleable__content {max-height: 0;max-width: 0;overflow: hidden;text-align: left;background-color: #f0f8ff;}#sk-container-id-3 div.sk-toggleable__content pre {margin: 0.2em;color: black;border-radius: 0.25em;background-color: #f0f8ff;}#sk-container-id-3 input.sk-toggleable__control:checked~div.sk-toggleable__content {max-height: 200px;max-width: 100%;overflow: auto;}#sk-container-id-3 input.sk-toggleable__control:checked~label.sk-toggleable__label-arrow:before {content: \"▾\";}#sk-container-id-3 div.sk-estimator input.sk-toggleable__control:checked~label.sk-toggleable__label {background-color: #d4ebff;}#sk-container-id-3 div.sk-label input.sk-toggleable__control:checked~label.sk-toggleable__label {background-color: #d4ebff;}#sk-container-id-3 input.sk-hidden--visually {border: 0;clip: rect(1px 1px 1px 1px);clip: rect(1px, 1px, 1px, 1px);height: 1px;margin: -1px;overflow: hidden;padding: 0;position: absolute;width: 1px;}#sk-container-id-3 div.sk-estimator {font-family: monospace;background-color: #f0f8ff;border: 1px dotted black;border-radius: 0.25em;box-sizing: border-box;margin-bottom: 0.5em;}#sk-container-id-3 div.sk-estimator:hover {background-color: #d4ebff;}#sk-container-id-3 div.sk-parallel-item::after {content: \"\";width: 100%;border-bottom: 1px solid gray;flex-grow: 1;}#sk-container-id-3 div.sk-label:hover label.sk-toggleable__label {background-color: #d4ebff;}#sk-container-id-3 div.sk-serial::before {content: \"\";position: absolute;border-left: 1px solid gray;box-sizing: border-box;top: 0;bottom: 0;left: 50%;z-index: 0;}#sk-container-id-3 div.sk-serial {display: flex;flex-direction: column;align-items: center;background-color: white;padding-right: 0.2em;padding-left: 0.2em;position: relative;}#sk-container-id-3 div.sk-item {position: relative;z-index: 1;}#sk-container-id-3 div.sk-parallel {display: flex;align-items: stretch;justify-content: center;background-color: white;position: relative;}#sk-container-id-3 div.sk-item::before, #sk-container-id-3 div.sk-parallel-item::before {content: \"\";position: absolute;border-left: 1px solid gray;box-sizing: border-box;top: 0;bottom: 0;left: 50%;z-index: -1;}#sk-container-id-3 div.sk-parallel-item {display: flex;flex-direction: column;z-index: 1;position: relative;background-color: white;}#sk-container-id-3 div.sk-parallel-item:first-child::after {align-self: flex-end;width: 50%;}#sk-container-id-3 div.sk-parallel-item:last-child::after {align-self: flex-start;width: 50%;}#sk-container-id-3 div.sk-parallel-item:only-child::after {width: 0;}#sk-container-id-3 div.sk-dashed-wrapped {border: 1px dashed gray;margin: 0 0.4em 0.5em 0.4em;box-sizing: border-box;padding-bottom: 0.4em;background-color: white;}#sk-container-id-3 div.sk-label label {font-family: monospace;font-weight: bold;display: inline-block;line-height: 1.2em;}#sk-container-id-3 div.sk-label-container {text-align: center;}#sk-container-id-3 div.sk-container {/* jupyter's `normalize.less` sets `[hidden] { display: none; }` but bootstrap.min.css set `[hidden] { display: none !important; }` so we also need the `!important` here to be able to override the default hidden behavior on the sphinx rendered scikit-learn.org. See: https://github.com/scikit-learn/scikit-learn/issues/21755 */display: inline-block !important;position: relative;}#sk-container-id-3 div.sk-text-repr-fallback {display: none;}</style><div id=\"sk-container-id-3\" class=\"sk-top-container\"><div class=\"sk-text-repr-fallback\"><pre>FactorAnalyzer(n_factors=4, rotation=&#x27;varimax&#x27;, rotation_kwargs={})</pre><b>In a Jupyter environment, please rerun this cell to show the HTML representation or trust the notebook. <br />On GitHub, the HTML representation is unable to render, please try loading this page with nbviewer.org.</b></div><div class=\"sk-container\" hidden><div class=\"sk-item\"><div class=\"sk-estimator sk-toggleable\"><input class=\"sk-toggleable__control sk-hidden--visually\" id=\"sk-estimator-id-3\" type=\"checkbox\" checked><label for=\"sk-estimator-id-3\" class=\"sk-toggleable__label sk-toggleable__label-arrow\">FactorAnalyzer</label><div class=\"sk-toggleable__content\"><pre>FactorAnalyzer(n_factors=4, rotation=&#x27;varimax&#x27;, rotation_kwargs={})</pre></div></div></div></div></div>"
      ],
      "text/plain": [
       "FactorAnalyzer(n_factors=4, rotation='varimax', rotation_kwargs={})"
      ]
     },
     "execution_count": 47,
     "metadata": {},
     "output_type": "execute_result"
    }
   ],
   "source": [
    "# 요인 수 결정 (예: 고유값이 1 이상인 요인 수)\n",
    "n_factors = sum(ev > 1)\n",
    "\n",
    "# 요인 분석 재실행, 이번에는 요인 수 지정\n",
    "fa = FactorAnalyzer(rotation=\"varimax\", n_factors=n_factors)\n",
    "fa.fit(df_clean)"
   ]
  },
  {
   "cell_type": "markdown",
   "metadata": {},
   "source": [
    "요인 부하량 확인하기<br>\n",
    "요인 부하량은 각 변수가 요인에 어떻게 연관되어 있는지를 보여줍니다. 높은 절대값을 가진 부하량은 해당 변수가 요인과 강하게 연관되어 있음을 의미합니다."
   ]
  },
  {
   "cell_type": "code",
   "execution_count": 48,
   "metadata": {},
   "outputs": [
    {
     "name": "stdout",
     "output_type": "stream",
     "text": [
      "                    0         1         2         3\n",
      "숙소_수        -0.200488  0.060469 -0.015347 -0.000194\n",
      "수용_인원수      -0.076192  0.835975  0.089777  0.026804\n",
      "욕실수          0.016404  0.677324  0.037856  0.009494\n",
      "침실수          0.034750  0.814914  0.000990 -0.000641\n",
      "침대수         -0.050753  0.877861  0.047569  0.063324\n",
      "숙소_가격        0.015607  0.224529 -0.029262 -0.000854\n",
      "최소_숙박일      -0.024971 -0.047898 -0.138342  0.014975\n",
      "최대_숙박일      -0.116720  0.069492  0.009397  0.126651\n",
      "리뷰수          0.059197 -0.025911  0.361309  0.924474\n",
      "30일_리뷰수      0.005887 -0.049599  0.729476  0.089077\n",
      "리뷰점수         0.953142  0.045199  0.008596 -0.074006\n",
      "숙소_정확성_리뷰점수  0.892267  0.015065 -0.007721 -0.020959\n",
      "숙소_청결도_리뷰점수  0.737353  0.050573  0.082779 -0.032688\n",
      "숙소_체크인_리뷰점수  0.731322 -0.005585  0.014042 -0.001100\n",
      "숙소_소통_리뷰점수   0.802831 -0.013884  0.018212 -0.026421\n",
      "숙소_위치_리뷰점수   0.469385  0.043215  0.001647  0.012719\n",
      "숙소_가격_리뷰점수   0.891104  0.046548  0.019032 -0.026341\n",
      "평균_리뷰수      -0.019802 -0.058392  0.948975  0.119154\n",
      "12개월_리뷰수     0.019402 -0.037608  0.744907  0.434795\n"
     ]
    }
   ],
   "source": [
    "# 요인 부하량 확인\n",
    "loadings = fa.loadings_\n",
    "print(pd.DataFrame(loadings, index=df_clean.columns))"
   ]
  },
  {
   "cell_type": "markdown",
   "metadata": {},
   "source": [
    "0.6 이상으로 묶어보면<br>\n",
    "\n",
    "0 : 리뷰점수, 정확성, 청결고, 체크인, 소통, 가격_리뷰점수<br>\n",
    "1 : 수용인원수, 욕실수, 침실수, 침대수<br>\n",
    "2 : 30일리뷰수, 평균리뷰수, 12개월리뷰수<br>\n",
    "3 : 리뷰수"
   ]
  },
  {
   "cell_type": "markdown",
   "metadata": {},
   "source": [
    "요인 점수 계산하기<br>\n",
    "요인 점수는 관측된 변수들의 값으로부터 각 요인에 대한 개별 관측치(예: 사람, 경우 등)의 점수를 계산합니다. 이 점수는 후속 분석에서 사용될 수 있습니다."
   ]
  },
  {
   "cell_type": "code",
   "execution_count": 49,
   "metadata": {},
   "outputs": [
    {
     "name": "stdout",
     "output_type": "stream",
     "text": [
      "[[ 0.0812207  -0.86480737 -0.74722835  1.19933844]\n",
      " [-0.07015301 -1.04906987  0.22800975  5.20237191]\n",
      " [-0.39956642 -0.28838069 -0.90132547  0.88000216]\n",
      " ...\n",
      " [ 0.92709506  0.36333124  0.96568621 -1.0679413 ]\n",
      " [-1.36358809  0.89213728  0.95061126 -0.87379931]\n",
      " [ 0.91272966  0.58573404  0.97752115 -1.02999952]]\n"
     ]
    }
   ],
   "source": [
    "# 요인 점수 계산\n",
    "factor_scores = fa.transform(df_clean)\n",
    "print(factor_scores)"
   ]
  },
  {
   "cell_type": "markdown",
   "metadata": {},
   "source": [
    "회귀 모델 분석\n",
    " - 리뷰점수"
   ]
  },
  {
   "cell_type": "code",
   "execution_count": 50,
   "metadata": {},
   "outputs": [
    {
     "name": "stdout",
     "output_type": "stream",
     "text": [
      "                            OLS Regression Results                            \n",
      "==============================================================================\n",
      "Dep. Variable:                   리뷰점수   R-squared:                       0.954\n",
      "Model:                            OLS   Adj. R-squared:                  0.954\n",
      "Method:                 Least Squares   F-statistic:                 1.608e+05\n",
      "Date:                Sat, 01 Jun 2024   Prob (F-statistic):               0.00\n",
      "Time:                        11:00:19   Log-Likelihood:                 42788.\n",
      "No. Observations:               30990   AIC:                        -8.557e+04\n",
      "Df Residuals:                   30985   BIC:                        -8.552e+04\n",
      "Df Model:                           4                                         \n",
      "Covariance Type:            nonrobust                                         \n",
      "==============================================================================\n",
      "                 coef    std err          t      P>|t|      [0.025      0.975]\n",
      "------------------------------------------------------------------------------\n",
      "const          4.7384      0.000   1.37e+04      0.000       4.738       4.739\n",
      "x1             0.2816      0.000    798.593      0.000       0.281       0.282\n",
      "x2             0.0136      0.000     37.279      0.000       0.013       0.014\n",
      "x3             0.0025      0.000      7.098      0.000       0.002       0.003\n",
      "x4            -0.0221      0.000    -63.147      0.000      -0.023      -0.021\n",
      "==============================================================================\n",
      "Omnibus:                     4926.708   Durbin-Watson:                   1.971\n",
      "Prob(Omnibus):                  0.000   Jarque-Bera (JB):            84358.831\n",
      "Skew:                           0.190   Prob(JB):                         0.00\n",
      "Kurtosis:                      11.074   Cond. No.                         1.06\n",
      "==============================================================================\n",
      "\n",
      "Notes:\n",
      "[1] Standard Errors assume that the covariance matrix of the errors is correctly specified.\n"
     ]
    }
   ],
   "source": [
    "import statsmodels.api as sm\n",
    "\n",
    "# 상수항 추가\n",
    "X = sm.add_constant(factor_scores)  # 독립 변수\n",
    "y = df['리뷰점수']  # 종속 변수\n",
    "\n",
    "# 회귀모형 적합\n",
    "model = sm.OLS(y, X).fit()\n",
    "\n",
    "# 회귀분석 결과 출력\n",
    "print(model.summary())"
   ]
  },
  {
   "cell_type": "markdown",
   "metadata": {},
   "source": [
    "요인 분석 결론 :\n",
    " - PCA 분석 결과를 회귀 모델에 넣었을 경우 : R-squared : 0.854\n",
    " - 공통요인분석 결과를 회귀 모델에 넣었을 경우 : R-squared : 0.954"
   ]
  },
  {
   "cell_type": "markdown",
   "metadata": {},
   "source": [
    "공통요인 분석 결과가 훨씬 좋게 나왔고, 90%를 넘었기에 채택가능"
   ]
  },
  {
   "cell_type": "markdown",
   "metadata": {},
   "source": [
    "회귀 모델 분석\n",
    " - 숙소_가격"
   ]
  },
  {
   "cell_type": "code",
   "execution_count": 51,
   "metadata": {},
   "outputs": [
    {
     "name": "stdout",
     "output_type": "stream",
     "text": [
      "                            OLS Regression Results                            \n",
      "==============================================================================\n",
      "Dep. Variable:                  숙소_가격   R-squared:                       0.057\n",
      "Model:                            OLS   Adj. R-squared:                  0.057\n",
      "Method:                 Least Squares   F-statistic:                     470.5\n",
      "Date:                Sat, 01 Jun 2024   Prob (F-statistic):               0.00\n",
      "Time:                        11:00:19   Log-Likelihood:            -2.3248e+05\n",
      "No. Observations:               30990   AIC:                         4.650e+05\n",
      "Df Residuals:                   30985   BIC:                         4.650e+05\n",
      "Df Model:                           4                                         \n",
      "Covariance Type:            nonrobust                                         \n",
      "==============================================================================\n",
      "                 coef    std err          t      P>|t|      [0.025      0.975]\n",
      "------------------------------------------------------------------------------\n",
      "const        197.5443      2.490     79.347      0.000     192.665     202.424\n",
      "x1             7.1279      2.541      2.806      0.005       2.148      12.107\n",
      "x2           112.7767      2.627     42.931      0.000     107.628     117.926\n",
      "x3           -13.9948      2.587     -5.410      0.000     -19.065      -8.925\n",
      "x4             0.1761      2.520      0.070      0.944      -4.763       5.115\n",
      "==============================================================================\n",
      "Omnibus:                   108064.179   Durbin-Watson:                   1.962\n",
      "Prob(Omnibus):                  0.000   Jarque-Bera (JB):      63287108521.830\n",
      "Skew:                          66.977   Prob(JB):                         0.00\n",
      "Kurtosis:                    7002.596   Cond. No.                         1.06\n",
      "==============================================================================\n",
      "\n",
      "Notes:\n",
      "[1] Standard Errors assume that the covariance matrix of the errors is correctly specified.\n"
     ]
    }
   ],
   "source": [
    "import statsmodels.api as sm\n",
    "\n",
    "# 상수항 추가\n",
    "X = sm.add_constant(factor_scores)  # 독립 변수\n",
    "y = df['숙소_가격']  # 종속 변수\n",
    "\n",
    "# 회귀모형 적합\n",
    "model = sm.OLS(y, X).fit()\n",
    "\n",
    "# 회귀분석 결과 출력\n",
    "print(model.summary())"
   ]
  },
  {
   "cell_type": "markdown",
   "metadata": {},
   "source": [
    "숙소_가격에 대해서는 설명력이 매우 떨어짐"
   ]
  },
  {
   "cell_type": "code",
   "execution_count": null,
   "metadata": {},
   "outputs": [],
   "source": []
  }
 ],
 "metadata": {
  "kernelspec": {
   "display_name": "base",
   "language": "python",
   "name": "python3"
  },
  "language_info": {
   "codemirror_mode": {
    "name": "ipython",
    "version": 3
   },
   "file_extension": ".py",
   "mimetype": "text/x-python",
   "name": "python",
   "nbconvert_exporter": "python",
   "pygments_lexer": "ipython3",
   "version": "3.11.7"
  }
 },
 "nbformat": 4,
 "nbformat_minor": 2
}
