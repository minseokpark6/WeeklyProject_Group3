{
 "cells": [
  {
   "cell_type": "markdown",
   "metadata": {},
   "source": [
    "# 기존 04-3 에서 진행했전 부분을 떼어놓은 파일입니다. <br>\n",
    "# 확인을 위해 PCA 분석과 랜덤 포레스트 모델로 진행한 부분입니다. <br>\n",
    "# 코드가 꼬여있고, 실행을 누르면 오류가 발생할 것이기에 그저 살펴만 봐주세요."
   ]
  },
  {
   "cell_type": "code",
   "execution_count": null,
   "metadata": {},
   "outputs": [],
   "source": []
  },
  {
   "cell_type": "markdown",
   "metadata": {},
   "source": [
    "우선 null값 전부 제외한 데이터 프레임으로 PCA분석 진행\n",
    " - 주성분 분석을 통해 데이터 차원을 줄이기 위해서"
   ]
  },
  {
   "cell_type": "code",
   "execution_count": null,
   "metadata": {},
   "outputs": [
    {
     "name": "stdout",
     "output_type": "stream",
     "text": [
      "<class 'pandas.core.frame.DataFrame'>\n",
      "Index: 41586 entries, 0 to 84153\n",
      "Data columns (total 26 columns):\n",
      " #   Column       Non-Null Count  Dtype  \n",
      "---  ------       --------------  -----  \n",
      " 0   숙소_id        41586 non-null  int64  \n",
      " 1   호스트_id       41586 non-null  int64  \n",
      " 2   url          41586 non-null  object \n",
      " 3   슈퍼호스트        41586 non-null  object \n",
      " 4   숙소_수         41586 non-null  float64\n",
      " 5   숙소_지역        41586 non-null  object \n",
      " 6   숙소_유형        41586 non-null  object \n",
      " 7   숙소_특징        41586 non-null  object \n",
      " 8   수용_인원수       41586 non-null  int64  \n",
      " 9   욕실수          41586 non-null  float64\n",
      " 10  침실수          41586 non-null  float64\n",
      " 11  침대수          41586 non-null  float64\n",
      " 12  편의시설         41586 non-null  object \n",
      " 13  숙소_가격        41586 non-null  object \n",
      " 14  최소_숙박일       41586 non-null  int64  \n",
      " 15  최대_숙박일       41586 non-null  int64  \n",
      " 16  리뷰수          41586 non-null  int64  \n",
      " 17  30일_리뷰수      41586 non-null  int64  \n",
      " 18  리뷰점수         41586 non-null  float64\n",
      " 19  숙소_정확성_리뷰점수  41586 non-null  float64\n",
      " 20  숙소_청결도_리뷰점수  41586 non-null  float64\n",
      " 21  숙소_체크인_리뷰점수  41586 non-null  float64\n",
      " 22  숙소_소통_리뷰점수   41586 non-null  float64\n",
      " 23  숙소_위치_리뷰점수   41586 non-null  float64\n",
      " 24  숙소_가격_리뷰점수   41586 non-null  float64\n",
      " 25  평균_리뷰수       41586 non-null  float64\n",
      "dtypes: float64(12), int64(7), object(7)\n",
      "memory usage: 8.6+ MB\n"
     ]
    }
   ],
   "source": [
    "df_all_clean = df.dropna()\n",
    "df_all_clean.info()"
   ]
  },
  {
   "cell_type": "code",
   "execution_count": null,
   "metadata": {},
   "outputs": [
    {
     "name": "stderr",
     "output_type": "stream",
     "text": [
      "C:\\Users\\rladn\\AppData\\Local\\Temp\\ipykernel_5740\\1237394265.py:2: SettingWithCopyWarning: \n",
      "A value is trying to be set on a copy of a slice from a DataFrame\n",
      "\n",
      "See the caveats in the documentation: https://pandas.pydata.org/pandas-docs/stable/user_guide/indexing.html#returning-a-view-versus-a-copy\n",
      "  df_all_clean.drop(columns=['숙소_id', '호스트_id', 'url', '편의시설'], inplace=True)\n"
     ]
    }
   ],
   "source": [
    "# 불필요한 컬럼 제거\n",
    "df_all_clean.drop(columns=['숙소_id', '호스트_id', 'url', '편의시설'], inplace=True)"
   ]
  },
  {
   "cell_type": "code",
   "execution_count": null,
   "metadata": {},
   "outputs": [
    {
     "data": {
      "text/plain": [
       "슈퍼호스트           object\n",
       "숙소_수           float64\n",
       "숙소_지역           object\n",
       "숙소_유형           object\n",
       "숙소_특징           object\n",
       "수용_인원수           int64\n",
       "욕실수            float64\n",
       "침실수            float64\n",
       "침대수            float64\n",
       "숙소_가격           object\n",
       "최소_숙박일           int64\n",
       "최대_숙박일           int64\n",
       "리뷰수              int64\n",
       "30일_리뷰수          int64\n",
       "리뷰점수           float64\n",
       "숙소_정확성_리뷰점수    float64\n",
       "숙소_청결도_리뷰점수    float64\n",
       "숙소_체크인_리뷰점수    float64\n",
       "숙소_소통_리뷰점수     float64\n",
       "숙소_위치_리뷰점수     float64\n",
       "숙소_가격_리뷰점수     float64\n",
       "평균_리뷰수         float64\n",
       "dtype: object"
      ]
     },
     "metadata": {},
     "output_type": "display_data"
    }
   ],
   "source": [
    "df_all_clean.dtypes"
   ]
  },
  {
   "cell_type": "markdown",
   "metadata": {},
   "source": [
    "PCA 분석을 위한 범주형 데이터 원핫 인코딩\n",
    " - 슈퍼호스트, 숙소_지역, 숙소_유형, 숙소_특징"
   ]
  },
  {
   "cell_type": "code",
   "execution_count": null,
   "metadata": {},
   "outputs": [
    {
     "name": "stdout",
     "output_type": "stream",
     "text": [
      "   숙소_수  수용_인원수  욕실수  침실수  침대수    숙소_가격  최소_숙박일  최대_숙박일    리뷰수  30일_리뷰수  ...  \\\n",
      "0   2.0     2.0  1.0  1.0  1.0  $250.00     2.0    30.0    4.0      0.0  ...   \n",
      "1   1.0     2.0  1.0  0.0  1.0  $140.00     3.0   365.0  106.0      0.0  ...   \n",
      "2   3.0     2.0  1.0  0.0  1.0  $107.00     1.0  1125.0  393.0      5.0  ...   \n",
      "3   3.0     4.0  1.0  1.0  1.0  $200.00     2.0   120.0   78.0      0.0  ...   \n",
      "6   9.0     4.0  1.0  2.0  2.0  $134.00    10.0   130.0  348.0      2.0  ...   \n",
      "\n",
      "   숙소_특징_Shared room in farm stay  숙소_특징_Shared room in guest suite  \\\n",
      "0                             0.0                               0.0   \n",
      "1                             0.0                               0.0   \n",
      "2                             0.0                               0.0   \n",
      "3                             0.0                               0.0   \n",
      "6                             0.0                               0.0   \n",
      "\n",
      "   숙소_특징_Shared room in home  숙소_특징_Shared room in hostel  \\\n",
      "0                        0.0                          0.0   \n",
      "1                        0.0                          0.0   \n",
      "2                        0.0                          0.0   \n",
      "3                        0.0                          0.0   \n",
      "6                        0.0                          0.0   \n",
      "\n",
      "   숙소_특징_Shared room in hotel  숙소_특징_Shared room in loft  \\\n",
      "0                         0.0                        0.0   \n",
      "1                         0.0                        0.0   \n",
      "2                         0.0                        0.0   \n",
      "3                         0.0                        0.0   \n",
      "6                         0.0                        0.0   \n",
      "\n",
      "   숙소_특징_Shared room in rental unit  숙소_특징_Shared room in tiny home  \\\n",
      "0                               0.0                             0.0   \n",
      "1                               0.0                             0.0   \n",
      "2                               0.0                             0.0   \n",
      "3                               0.0                             0.0   \n",
      "6                               0.0                             0.0   \n",
      "\n",
      "   숙소_특징_Shared room in townhouse  숙소_특징_Tiny home  \n",
      "0                             0.0              0.0  \n",
      "1                             0.0              0.0  \n",
      "2                             0.0              0.0  \n",
      "3                             0.0              0.0  \n",
      "6                             0.0              0.0  \n",
      "\n",
      "[5 rows x 100 columns]\n"
     ]
    },
    {
     "name": "stderr",
     "output_type": "stream",
     "text": [
      "c:\\ProgramData\\anaconda3\\Lib\\site-packages\\sklearn\\preprocessing\\_encoders.py:868: FutureWarning: `sparse` was renamed to `sparse_output` in version 1.2 and will be removed in 1.4. `sparse_output` is ignored unless you leave `sparse` to its default value.\n",
      "  warnings.warn(\n"
     ]
    }
   ],
   "source": [
    "# import pandas as pd\n",
    "# from sklearn.preprocessing import OneHotEncoder\n",
    "\n",
    "# # 원-핫 인코딩 수행할 열 목록\n",
    "# columns_to_encode = ['슈퍼호스트','숙소_지역', '숙소_유형','숙소_특징']\n",
    "\n",
    "# # 원-핫 인코딩 인스턴스 생성\n",
    "# onehot_encoder = OneHotEncoder(sparse=False)\n",
    "\n",
    "# # 원-핫 인코딩 수행\n",
    "# encoded_features = onehot_encoder.fit_transform(df_all_clean[columns_to_encode])\n",
    "\n",
    "# # 원-핫 인코딩 결과를 DataFrame으로 변환\n",
    "# encoded_features_df = pd.DataFrame(encoded_features, columns=onehot_encoder.get_feature_names_out(columns_to_encode))\n",
    "\n",
    "# # 원본 데이터프레임과 원-핫 인코딩 결과 결합\n",
    "# df_all_clean = pd.concat([df_all_clean, encoded_features_df], axis=1)\n",
    "\n",
    "# # 원본 '숙소_지역' 및 '숙소_특징' 열 제거\n",
    "# df_all_clean.drop(columns=columns_to_encode, inplace=True)\n",
    "\n",
    "# # 결과 확인\n",
    "# print(df_all_clean.head())\n"
   ]
  },
  {
   "cell_type": "code",
   "execution_count": null,
   "metadata": {},
   "outputs": [
    {
     "name": "stdout",
     "output_type": "stream",
     "text": [
      "float64\n"
     ]
    }
   ],
   "source": [
    "# 숙소_가격의 '$' 기호와 ',' 제거 후 실수(float) 형태로 변환\n",
    "df_all_clean['숙소_가격'] = df_all_clean['숙소_가격'].replace('[\\$,]', '', regex=True).astype(float)\n",
    "\n",
    "# 결과 확인\n",
    "print(df_all_clean['숙소_가격'].dtype)\n"
   ]
  },
  {
   "cell_type": "code",
   "execution_count": null,
   "metadata": {},
   "outputs": [
    {
     "name": "stdout",
     "output_type": "stream",
     "text": [
      "0        250.0\n",
      "1        140.0\n",
      "2        107.0\n",
      "3        200.0\n",
      "6        134.0\n",
      "         ...  \n",
      "41566      NaN\n",
      "41567      NaN\n",
      "41579      NaN\n",
      "41581      NaN\n",
      "41582      NaN\n",
      "Name: 숙소_가격, Length: 62829, dtype: float64\n"
     ]
    }
   ],
   "source": [
    "print(df_all_clean['숙소_가격'])"
   ]
  },
  {
   "cell_type": "code",
   "execution_count": null,
   "metadata": {},
   "outputs": [
    {
     "data": {
      "text/plain": [
       "숙소_수                                21243\n",
       "수용_인원수                              21243\n",
       "욕실수                                 21243\n",
       "침실수                                 21243\n",
       "침대수                                 21243\n",
       "                                    ...  \n",
       "숙소_특징_Shared room in loft           21243\n",
       "숙소_특징_Shared room in rental unit    21243\n",
       "숙소_특징_Shared room in tiny home      21243\n",
       "숙소_특징_Shared room in townhouse      21243\n",
       "숙소_특징_Tiny home                     21243\n",
       "Length: 100, dtype: int64"
      ]
     },
     "metadata": {},
     "output_type": "display_data"
    }
   ],
   "source": [
    "df_all_clean.isnull().sum()"
   ]
  },
  {
   "cell_type": "code",
   "execution_count": null,
   "metadata": {},
   "outputs": [
    {
     "data": {
      "text/plain": [
       "숙소_수                                float64\n",
       "수용_인원수                              float64\n",
       "욕실수                                 float64\n",
       "침실수                                 float64\n",
       "침대수                                 float64\n",
       "                                     ...   \n",
       "숙소_특징_Shared room in loft           float64\n",
       "숙소_특징_Shared room in rental unit    float64\n",
       "숙소_특징_Shared room in tiny home      float64\n",
       "숙소_특징_Shared room in townhouse      float64\n",
       "숙소_특징_Tiny home                     float64\n",
       "Length: 100, dtype: object"
      ]
     },
     "metadata": {},
     "output_type": "display_data"
    }
   ],
   "source": [
    "df_all_clean.dtypes"
   ]
  },
  {
   "cell_type": "code",
   "execution_count": null,
   "metadata": {},
   "outputs": [],
   "source": [
    "# '숙소_가격' 열을 제외한 모든 열 선택\n",
    "df_all_clean_noprice = df_all_clean.drop(columns=['숙소_가격'])"
   ]
  },
  {
   "cell_type": "code",
   "execution_count": null,
   "metadata": {},
   "outputs": [
    {
     "name": "stdout",
     "output_type": "stream",
     "text": [
      "       숙소_수    수용_인원수       욕실수       침실수       침대수    최소_숙박일    최대_숙박일  \\\n",
      "0 -0.307246 -0.910632 -0.428984 -0.341399 -0.757203 -0.243585 -0.006077   \n",
      "1 -0.315781 -0.910632 -0.428984 -1.681664 -0.757203 -0.215015 -0.006038   \n",
      "2 -0.298712 -0.910632 -0.428984 -1.681664 -0.757203 -0.272155 -0.005950   \n",
      "3 -0.298712  0.511645 -0.428984 -0.341399 -0.757203 -0.243585 -0.006067   \n",
      "4 -0.247504  0.511645 -0.428984  0.998866  0.239917 -0.015024 -0.006066   \n",
      "\n",
      "        리뷰수   30일_리뷰수      리뷰점수  ...  숙소_특징_Shared room in farm stay  \\\n",
      "0 -0.573812 -0.626230  0.866167  ...                       -0.006028   \n",
      "1  1.257863 -0.626230 -0.124891  ...                       -0.006028   \n",
      "2  6.411691  3.503156 -0.372655  ...                       -0.006028   \n",
      "3  0.755050 -0.626230 -0.496537  ...                       -0.006028   \n",
      "4  5.603599  1.025525  0.029962  ...                       -0.006028   \n",
      "\n",
      "   숙소_특징_Shared room in guest suite  숙소_특징_Shared room in home  \\\n",
      "0                         -0.006028                  -0.006028   \n",
      "1                         -0.006028                  -0.006028   \n",
      "2                         -0.006028                  -0.006028   \n",
      "3                         -0.006028                  -0.006028   \n",
      "4                         -0.006028                  -0.006028   \n",
      "\n",
      "   숙소_특징_Shared room in hostel  숙소_특징_Shared room in hotel  \\\n",
      "0                    -0.047878                   -0.019063   \n",
      "1                    -0.047878                   -0.019063   \n",
      "2                    -0.047878                   -0.019063   \n",
      "3                    -0.047878                   -0.019063   \n",
      "4                    -0.047878                   -0.019063   \n",
      "\n",
      "   숙소_특징_Shared room in loft  숙소_특징_Shared room in rental unit  \\\n",
      "0                   -0.01044                          -0.06272   \n",
      "1                   -0.01044                          -0.06272   \n",
      "2                   -0.01044                          -0.06272   \n",
      "3                   -0.01044                          -0.06272   \n",
      "4                   -0.01044                          -0.06272   \n",
      "\n",
      "   숙소_특징_Shared room in tiny home  숙소_특징_Shared room in townhouse  \\\n",
      "0                       -0.006028                       -0.008524   \n",
      "1                       -0.006028                       -0.008524   \n",
      "2                       -0.006028                       -0.008524   \n",
      "3                       -0.006028                       -0.008524   \n",
      "4                       -0.006028                       -0.008524   \n",
      "\n",
      "   숙소_특징_Tiny home  \n",
      "0        -0.020883  \n",
      "1        -0.020883  \n",
      "2        -0.020883  \n",
      "3        -0.020883  \n",
      "4        -0.020883  \n",
      "\n",
      "[5 rows x 99 columns]\n"
     ]
    }
   ],
   "source": [
    "import pandas as pd\n",
    "from sklearn.preprocessing import StandardScaler\n",
    "from sklearn.decomposition import PCA\n",
    "from sklearn.impute import SimpleImputer\n",
    "import matplotlib.pyplot as plt\n",
    "\n",
    "# 데이터 준비 (숙소_가격 컬럼 제외)\n",
    "df_all_clean_noprice = df_all_clean.drop(['숙소_가격'], axis=1) # '숙소_가격' 컬럼 제외한 데이터프레임 생성\n",
    "x = df_all_clean_noprice.values # 독립변인들의 value값만 추출\n",
    "y = df_all_clean['숙소_가격'].values # 종속변인 추출\n",
    "\n",
    "# 결측값을 평균값으로 대체\n",
    "imputer = SimpleImputer(strategy='mean')\n",
    "x_imputed = imputer.fit_transform(x)\n",
    "\n",
    "# 표준화\n",
    "x_standardized = StandardScaler().fit_transform(x_imputed) # x객체에 x를 표준화한 데이터를 저장\n",
    "\n",
    "features = df_all_clean_noprice.columns # '숙소_가격'을 제외한 컬럼명 추출\n",
    "\n",
    "# 표준화된 데이터를 데이터프레임으로 변환\n",
    "standardized_df = pd.DataFrame(x_standardized, columns=features)\n",
    "print(standardized_df.head())\n"
   ]
  },
  {
   "cell_type": "code",
   "execution_count": null,
   "metadata": {},
   "outputs": [
    {
     "name": "stdout",
     "output_type": "stream",
     "text": [
      "[4.91927183e-02 3.58848583e-02 2.96109013e-02 2.14208030e-02\n",
      " 2.07794175e-02 1.98850017e-02 1.72005134e-02 1.34506818e-02\n",
      " 1.15370619e-02 1.14913648e-02 1.13767826e-02 1.13204427e-02\n",
      " 1.11389162e-02 1.11197756e-02 1.10816805e-02 1.10010773e-02\n",
      " 1.09485183e-02 1.09254934e-02 1.08845693e-02 1.08687589e-02\n",
      " 1.08192430e-02 1.07790049e-02 1.07532157e-02 1.07027825e-02\n",
      " 1.06371379e-02 1.06302291e-02 1.05440990e-02 1.03180769e-02\n",
      " 1.02665490e-02 1.02159198e-02 1.01704544e-02 1.01578328e-02\n",
      " 1.01394571e-02 1.01239804e-02 1.01163980e-02 1.01144712e-02\n",
      " 1.01119965e-02 1.01113231e-02 1.01089190e-02 1.01077902e-02\n",
      " 1.01070592e-02 1.01062820e-02 1.01053417e-02 1.01045244e-02\n",
      " 1.01040025e-02 1.01035418e-02 1.01032385e-02 1.01028228e-02\n",
      " 1.01026195e-02 1.01022542e-02 1.01021674e-02 1.01019917e-02\n",
      " 1.01018185e-02 1.01016876e-02 1.01015277e-02 1.01014417e-02\n",
      " 1.01014081e-02 1.01012956e-02 1.01012538e-02 1.00767206e-02\n",
      " 1.00602864e-02 1.00442689e-02 1.00196312e-02 1.00098493e-02\n",
      " 9.97076351e-03 9.93878744e-03 9.90603889e-03 9.88745646e-03\n",
      " 9.85902584e-03 9.83822092e-03 9.82605299e-03 9.77503788e-03\n",
      " 9.73026438e-03 9.72789691e-03 9.66291552e-03 9.62439291e-03\n",
      " 9.60961934e-03 9.55992735e-03 9.45949138e-03 9.23737415e-03\n",
      " 9.05929757e-03 6.60110592e-03 6.48244451e-03 5.63210094e-03\n",
      " 5.27858410e-03 3.56576710e-03 3.35757355e-03 3.20950564e-03\n",
      " 2.70965804e-03 2.54768431e-03 2.16573416e-03 2.13935145e-03\n",
      " 1.40189412e-03 2.07799676e-05 1.47290344e-31 5.34392880e-33\n",
      " 4.66807681e-33 3.60209629e-33 6.45591151e-34]\n"
     ]
    }
   ],
   "source": [
    "# PCA 적용\n",
    "pca = PCA(n_components=len(features))\n",
    "principalComponents = pca.fit_transform(x_standardized)\n",
    "principalDf = pd.DataFrame(data=principalComponents, columns=features)\n",
    "\n",
    "print(pca.explained_variance_ratio_)\n"
   ]
  },
  {
   "cell_type": "code",
   "execution_count": null,
   "metadata": {},
   "outputs": [
    {
     "name": "stdout",
     "output_type": "stream",
     "text": [
      "첫 번째 주성분의 구성요소:\n",
      "숙소_수 기여도: 0.08372145512274938\n",
      "수용_인원수 기여도: 0.0016678050537288769\n",
      "욕실수 기여도: -0.025320689049259437\n",
      "침실수 기여도: -0.03227315388575708\n",
      "침대수 기여도: -0.0018549075454187824\n",
      "최소_숙박일 기여도: 0.0283743688454998\n",
      "최대_숙박일 기여도: -0.00019881800752418052\n",
      "리뷰수 기여도: -0.028539019276825884\n",
      "30일_리뷰수 기여도: -0.02716142734077152\n",
      "리뷰점수 기여도: -0.4201484065971159\n",
      "숙소_정확성_리뷰점수 기여도: -0.4038058623187798\n",
      "숙소_청결도_리뷰점수 기여도: -0.3637825250286398\n",
      "숙소_체크인_리뷰점수 기여도: -0.357263009013727\n",
      "숙소_소통_리뷰점수 기여도: -0.3789833242465672\n",
      "숙소_위치_리뷰점수 기여도: -0.28680016514951123\n",
      "숙소_가격_리뷰점수 기여도: -0.4029580292304178\n",
      "평균_리뷰수 기여도: -0.02665963437911116\n",
      "슈퍼호스트_f 기여도: 0.004205342865620974\n",
      "슈퍼호스트_t 기여도: -0.004205342865620973\n",
      "숙소_지역_Batignolles-Monceau 기여도: -0.0033607404977165274\n",
      "숙소_지역_Bourse 기여도: 0.0027008599306870868\n",
      "숙소_지역_Buttes-Chaumont 기여도: -0.0005626489203364141\n",
      "숙소_지역_Buttes-Montmartre 기여도: 0.00164399296312021\n",
      "숙소_지역_Entrepôt 기여도: -0.0007484975096405478\n",
      "숙소_지역_Gobelins 기여도: 0.0009927399784836089\n",
      "숙소_지역_Hôtel-de-Ville 기여도: 0.0006309093643067571\n",
      "숙소_지역_Louvre 기여도: -0.0015685800408614824\n",
      "숙소_지역_Luxembourg 기여도: -5.7936471756185795e-05\n",
      "숙소_지역_Ménilmontant 기여도: 0.002516198556115551\n",
      "숙소_지역_Observatoire 기여도: -0.0015871654464085481\n",
      "숙소_지역_Opéra 기여도: -0.0007859483153500559\n",
      "숙소_지역_Palais-Bourbon 기여도: -0.002859296757882924\n",
      "숙소_지역_Panthéon 기여도: 0.0014174834174499782\n",
      "숙소_지역_Passy 기여도: -0.0005448137868394081\n",
      "숙소_지역_Popincourt 기여도: -0.001598243526612125\n",
      "숙소_지역_Reuilly 기여도: 0.004287341135608419\n",
      "숙소_지역_Temple 기여도: 0.00046444263683115023\n",
      "숙소_지역_Vaugirard 기여도: 0.0008747139954130945\n",
      "숙소_지역_Élysée 기여도: -0.0020595298188333224\n",
      "숙소_유형_Entire home/apt 기여도: 0.007571770532530515\n",
      "숙소_유형_Hotel room 기여도: -0.002194523037693339\n",
      "숙소_유형_Private room 기여도: -0.007056195824086613\n",
      "숙소_유형_Shared room 기여도: -0.001199339175739065\n",
      "숙소_특징_Boat 기여도: -0.0005565633809145906\n",
      "숙소_특징_Camper/RV 기여도: 2.915388270750523e-05\n",
      "숙소_특징_Casa particular 기여도: 7.947838305014099e-05\n",
      "숙소_특징_Earthen home 기여도: -0.0012932928184023896\n",
      "숙소_특징_Entire bed and breakfast 기여도: 3.4967169526975085e-05\n",
      "숙소_특징_Entire condo 기여도: -0.0010952261667744165\n",
      "숙소_특징_Entire guest suite 기여도: -0.0006179531762962389\n",
      "숙소_특징_Entire guesthouse 기여도: -0.0015877009302220147\n",
      "숙소_특징_Entire home 기여도: -0.0005769137870620527\n",
      "숙소_특징_Entire home/apt 기여도: 0.00027602899885969515\n",
      "숙소_특징_Entire loft 기여도: -0.0039234532920913254\n",
      "숙소_특징_Entire place 기여도: 0.004190547794325477\n",
      "숙소_특징_Entire rental unit 기여도: 0.008409055760294826\n",
      "숙소_특징_Entire serviced apartment 기여도: -0.00011546613349917749\n",
      "숙소_특징_Entire townhouse 기여도: -0.0026335259161717494\n",
      "숙소_특징_Entire vacation home 기여도: 0.0002479048924766323\n",
      "숙소_특징_Entire villa 기여도: 0.000296621884535211\n",
      "숙소_특징_Floor 기여도: 6.317227857297614e-05\n",
      "숙소_특징_Houseboat 기여도: -0.0013979179937008664\n",
      "숙소_특징_Private room 기여도: 0.0005386959273679825\n",
      "숙소_특징_Private room in bed and breakfast 기여도: -0.0030203912706159436\n",
      "숙소_특징_Private room in boat 기여도: 0.0010740167037670441\n",
      "숙소_특징_Private room in casa particular 기여도: -0.0006210374149751059\n",
      "숙소_특징_Private room in condo 기여도: -0.0016281318556465674\n",
      "숙소_특징_Private room in earthen home 기여도: -0.0006847773570603911\n",
      "숙소_특징_Private room in guest suite 기여도: -0.0006637119495446083\n",
      "숙소_특징_Private room in guesthouse 기여도: -0.00148097206947944\n",
      "숙소_특징_Private room in home 기여도: -0.0006033844496045755\n",
      "숙소_특징_Private room in hostel 기여도: -0.0014723620568560028\n",
      "숙소_특징_Private room in loft 기여도: -0.00016021494776209688\n",
      "숙소_특징_Private room in rental unit 기여도: -0.004063183921089901\n",
      "숙소_특징_Private room in serviced apartment 기여도: -0.0014563181773629215\n",
      "숙소_특징_Private room in tiny home 기여도: -0.0011831365748587788\n",
      "숙소_특징_Private room in townhouse 기여도: -0.0008431484638616957\n",
      "숙소_특징_Private room in vacation home 기여도: -2.6870309600407467e-05\n",
      "숙소_특징_Private room in villa 기여도: -4.2003116723224494e-05\n",
      "숙소_특징_Room in aparthotel 기여도: -0.00036176531305022404\n",
      "숙소_특징_Room in bed and breakfast 기여도: -0.0005877471996760482\n",
      "숙소_특징_Room in boutique hotel 기여도: -0.003496305244141819\n",
      "숙소_특징_Room in hostel 기여도: -0.00021335038218912386\n",
      "숙소_특징_Room in hotel 기여도: -0.003218276489256562\n",
      "숙소_특징_Room in rental unit 기여도: 1.623474500343891e-07\n",
      "숙소_특징_Room in serviced apartment 기여도: 0.00014344748960943809\n",
      "숙소_특징_Shared room in bed and breakfast 기여도: -3.5950804751787385e-05\n",
      "숙소_특징_Shared room in boutique hotel 기여도: -1.442537030056066e-05\n",
      "숙소_특징_Shared room in condo 기여도: -0.001203616767836004\n",
      "숙소_특징_Shared room in farm stay 기여도: 6.929891515882867e-06\n",
      "숙소_특징_Shared room in guest suite 기여도: -0.0016878653826459947\n",
      "숙소_특징_Shared room in home 기여도: -4.699298528494424e-07\n",
      "숙소_특징_Shared room in hostel 기여도: -0.000492239351389595\n",
      "숙소_특징_Shared room in hotel 기여도: -0.00026190511465227877\n",
      "숙소_특징_Shared room in loft 기여도: -0.002273557132445173\n",
      "숙소_특징_Shared room in rental unit 기여도: -0.00032465543788693464\n",
      "숙소_특징_Shared room in tiny home 기여도: -2.7006371258214826e-07\n",
      "숙소_특징_Shared room in townhouse 기여도: -0.0001345400229983602\n",
      "숙소_특징_Tiny home 기여도: -0.0020653540797187747\n"
     ]
    }
   ],
   "source": [
    "# PCA 모델 훈련\n",
    "pca = PCA(n_components=len(features))\n",
    "principalComponents = pca.fit_transform(x_standardized)\n",
    "\n",
    "# 각 주성분의 구성요소 확인\n",
    "components = pca.components_\n",
    "\n",
    "# 첫 번째 주성분의 구성요소 출력\n",
    "print(\"첫 번째 주성분의 구성요소:\")\n",
    "for i, component in enumerate(components[0]):\n",
    "    print(f\"{features[i]} 기여도: {component}\")"
   ]
  },
  {
   "cell_type": "markdown",
   "metadata": {},
   "source": [
    "컬럼 수가 100개가 되니 확인 이 어려움."
   ]
  },
  {
   "cell_type": "markdown",
   "metadata": {},
   "source": [
    "슈퍼호스트, 숙소_지역, 유형, 특징까지 포함하려면 원핫 인코딩을 진행해야함.\n",
    " - 라벨링 인코딩은 안됨. (PCA 분석 시 순서가 있는 데이터라 판단되기 때문. >> 그래서 원핫 인코딩으로 해야 함.)<br>\n",
    " --- 순서의 의미: 라벨 인코딩된 범주형 데이터는 수치형 데이터로 변환되지만, 이러한 변환된 수치에는 순서가 의미가 없습니다. PCA는 이러한 수치를 연속적인 수치형 데이터로 간주하고 분석하므로, 왜곡된 결과를 초래할 수 있습니다.<br>"
   ]
  },
  {
   "cell_type": "markdown",
   "metadata": {},
   "source": [
    "그래서 위 4개(슈퍼호스트, 숙소_지역,유형,특징)을 제외한 나머지 값들만 pca 진행\n",
    " - 이미 위에서 원핫 인코딩 진행하여 오류 발생(null값 발생)\n",
    " - 위 코드 주석으로 변환 후 다시 진행하겠음."
   ]
  },
  {
   "cell_type": "code",
   "execution_count": null,
   "metadata": {},
   "outputs": [
    {
     "data": {
      "text/plain": [
       "100"
      ]
     },
     "metadata": {},
     "output_type": "display_data"
    }
   ],
   "source": [
    "len(df_all_clean.columns)"
   ]
  },
  {
   "cell_type": "code",
   "execution_count": null,
   "metadata": {},
   "outputs": [
    {
     "ename": "KeyError",
     "evalue": "\"['슈퍼호스트', '숙소_지역', '숙소_유형', '숙소_특징'] not found in axis\"",
     "output_type": "error",
     "traceback": [
      "\u001b[1;31m---------------------------------------------------------------------------\u001b[0m\n",
      "\u001b[1;31mKeyError\u001b[0m                                  Traceback (most recent call last)\n",
      "Cell \u001b[1;32mIn[523], line 2\u001b[0m\n",
      "\u001b[0;32m      1\u001b[0m \u001b[38;5;66;03m# 불필요한 컬럼 제거\u001b[39;00m\n",
      "\u001b[1;32m----> 2\u001b[0m df_all_clean\u001b[38;5;241m.\u001b[39mdrop(columns\u001b[38;5;241m=\u001b[39m[\u001b[38;5;124m'\u001b[39m\u001b[38;5;124m슈퍼호스트\u001b[39m\u001b[38;5;124m'\u001b[39m,\u001b[38;5;124m'\u001b[39m\u001b[38;5;124m숙소_지역\u001b[39m\u001b[38;5;124m'\u001b[39m,\u001b[38;5;124m'\u001b[39m\u001b[38;5;124m숙소_유형\u001b[39m\u001b[38;5;124m'\u001b[39m,\u001b[38;5;124m'\u001b[39m\u001b[38;5;124m숙소_특징\u001b[39m\u001b[38;5;124m'\u001b[39m], inplace\u001b[38;5;241m=\u001b[39m\u001b[38;5;28;01mTrue\u001b[39;00m)\n",
      "\n",
      "File \u001b[1;32mc:\\ProgramData\\anaconda3\\Lib\\site-packages\\pandas\\core\\frame.py:5344\u001b[0m, in \u001b[0;36mDataFrame.drop\u001b[1;34m(self, labels, axis, index, columns, level, inplace, errors)\u001b[0m\n",
      "\u001b[0;32m   5196\u001b[0m \u001b[38;5;28;01mdef\u001b[39;00m \u001b[38;5;21mdrop\u001b[39m(\n",
      "\u001b[0;32m   5197\u001b[0m     \u001b[38;5;28mself\u001b[39m,\n",
      "\u001b[0;32m   5198\u001b[0m     labels: IndexLabel \u001b[38;5;241m|\u001b[39m \u001b[38;5;28;01mNone\u001b[39;00m \u001b[38;5;241m=\u001b[39m \u001b[38;5;28;01mNone\u001b[39;00m,\n",
      "\u001b[1;32m   (...)\u001b[0m\n",
      "\u001b[0;32m   5205\u001b[0m     errors: IgnoreRaise \u001b[38;5;241m=\u001b[39m \u001b[38;5;124m\"\u001b[39m\u001b[38;5;124mraise\u001b[39m\u001b[38;5;124m\"\u001b[39m,\n",
      "\u001b[0;32m   5206\u001b[0m ) \u001b[38;5;241m-\u001b[39m\u001b[38;5;241m>\u001b[39m DataFrame \u001b[38;5;241m|\u001b[39m \u001b[38;5;28;01mNone\u001b[39;00m:\n",
      "\u001b[0;32m   5207\u001b[0m \u001b[38;5;250m    \u001b[39m\u001b[38;5;124;03m\"\"\"\u001b[39;00m\n",
      "\u001b[0;32m   5208\u001b[0m \u001b[38;5;124;03m    Drop specified labels from rows or columns.\u001b[39;00m\n",
      "\u001b[0;32m   5209\u001b[0m \n",
      "\u001b[1;32m   (...)\u001b[0m\n",
      "\u001b[0;32m   5342\u001b[0m \u001b[38;5;124;03m            weight  1.0     0.8\u001b[39;00m\n",
      "\u001b[0;32m   5343\u001b[0m \u001b[38;5;124;03m    \"\"\"\u001b[39;00m\n",
      "\u001b[1;32m-> 5344\u001b[0m     \u001b[38;5;28;01mreturn\u001b[39;00m \u001b[38;5;28msuper\u001b[39m()\u001b[38;5;241m.\u001b[39mdrop(\n",
      "\u001b[0;32m   5345\u001b[0m         labels\u001b[38;5;241m=\u001b[39mlabels,\n",
      "\u001b[0;32m   5346\u001b[0m         axis\u001b[38;5;241m=\u001b[39maxis,\n",
      "\u001b[0;32m   5347\u001b[0m         index\u001b[38;5;241m=\u001b[39mindex,\n",
      "\u001b[0;32m   5348\u001b[0m         columns\u001b[38;5;241m=\u001b[39mcolumns,\n",
      "\u001b[0;32m   5349\u001b[0m         level\u001b[38;5;241m=\u001b[39mlevel,\n",
      "\u001b[0;32m   5350\u001b[0m         inplace\u001b[38;5;241m=\u001b[39minplace,\n",
      "\u001b[0;32m   5351\u001b[0m         errors\u001b[38;5;241m=\u001b[39merrors,\n",
      "\u001b[0;32m   5352\u001b[0m     )\n",
      "\n",
      "File \u001b[1;32mc:\\ProgramData\\anaconda3\\Lib\\site-packages\\pandas\\core\\generic.py:4711\u001b[0m, in \u001b[0;36mNDFrame.drop\u001b[1;34m(self, labels, axis, index, columns, level, inplace, errors)\u001b[0m\n",
      "\u001b[0;32m   4709\u001b[0m \u001b[38;5;28;01mfor\u001b[39;00m axis, labels \u001b[38;5;129;01min\u001b[39;00m axes\u001b[38;5;241m.\u001b[39mitems():\n",
      "\u001b[0;32m   4710\u001b[0m     \u001b[38;5;28;01mif\u001b[39;00m labels \u001b[38;5;129;01mis\u001b[39;00m \u001b[38;5;129;01mnot\u001b[39;00m \u001b[38;5;28;01mNone\u001b[39;00m:\n",
      "\u001b[1;32m-> 4711\u001b[0m         obj \u001b[38;5;241m=\u001b[39m obj\u001b[38;5;241m.\u001b[39m_drop_axis(labels, axis, level\u001b[38;5;241m=\u001b[39mlevel, errors\u001b[38;5;241m=\u001b[39merrors)\n",
      "\u001b[0;32m   4713\u001b[0m \u001b[38;5;28;01mif\u001b[39;00m inplace:\n",
      "\u001b[0;32m   4714\u001b[0m     \u001b[38;5;28mself\u001b[39m\u001b[38;5;241m.\u001b[39m_update_inplace(obj)\n",
      "\n",
      "File \u001b[1;32mc:\\ProgramData\\anaconda3\\Lib\\site-packages\\pandas\\core\\generic.py:4753\u001b[0m, in \u001b[0;36mNDFrame._drop_axis\u001b[1;34m(self, labels, axis, level, errors, only_slice)\u001b[0m\n",
      "\u001b[0;32m   4751\u001b[0m         new_axis \u001b[38;5;241m=\u001b[39m axis\u001b[38;5;241m.\u001b[39mdrop(labels, level\u001b[38;5;241m=\u001b[39mlevel, errors\u001b[38;5;241m=\u001b[39merrors)\n",
      "\u001b[0;32m   4752\u001b[0m     \u001b[38;5;28;01melse\u001b[39;00m:\n",
      "\u001b[1;32m-> 4753\u001b[0m         new_axis \u001b[38;5;241m=\u001b[39m axis\u001b[38;5;241m.\u001b[39mdrop(labels, errors\u001b[38;5;241m=\u001b[39merrors)\n",
      "\u001b[0;32m   4754\u001b[0m     indexer \u001b[38;5;241m=\u001b[39m axis\u001b[38;5;241m.\u001b[39mget_indexer(new_axis)\n",
      "\u001b[0;32m   4756\u001b[0m \u001b[38;5;66;03m# Case for non-unique axis\u001b[39;00m\n",
      "\u001b[0;32m   4757\u001b[0m \u001b[38;5;28;01melse\u001b[39;00m:\n",
      "\n",
      "File \u001b[1;32mc:\\ProgramData\\anaconda3\\Lib\\site-packages\\pandas\\core\\indexes\\base.py:7000\u001b[0m, in \u001b[0;36mIndex.drop\u001b[1;34m(self, labels, errors)\u001b[0m\n",
      "\u001b[0;32m   6998\u001b[0m \u001b[38;5;28;01mif\u001b[39;00m mask\u001b[38;5;241m.\u001b[39many():\n",
      "\u001b[0;32m   6999\u001b[0m     \u001b[38;5;28;01mif\u001b[39;00m errors \u001b[38;5;241m!=\u001b[39m \u001b[38;5;124m\"\u001b[39m\u001b[38;5;124mignore\u001b[39m\u001b[38;5;124m\"\u001b[39m:\n",
      "\u001b[1;32m-> 7000\u001b[0m         \u001b[38;5;28;01mraise\u001b[39;00m \u001b[38;5;167;01mKeyError\u001b[39;00m(\u001b[38;5;124mf\u001b[39m\u001b[38;5;124m\"\u001b[39m\u001b[38;5;132;01m{\u001b[39;00mlabels[mask]\u001b[38;5;241m.\u001b[39mtolist()\u001b[38;5;132;01m}\u001b[39;00m\u001b[38;5;124m not found in axis\u001b[39m\u001b[38;5;124m\"\u001b[39m)\n",
      "\u001b[0;32m   7001\u001b[0m     indexer \u001b[38;5;241m=\u001b[39m indexer[\u001b[38;5;241m~\u001b[39mmask]\n",
      "\u001b[0;32m   7002\u001b[0m \u001b[38;5;28;01mreturn\u001b[39;00m \u001b[38;5;28mself\u001b[39m\u001b[38;5;241m.\u001b[39mdelete(indexer)\n",
      "\n",
      "\u001b[1;31mKeyError\u001b[0m: \"['슈퍼호스트', '숙소_지역', '숙소_유형', '숙소_특징'] not found in axis\""
     ]
    }
   ],
   "source": [
    "# 불필요한 컬럼 제거\n",
    "# 코드 꼬인 부분임\n",
    "df_all_clean.drop(columns=['슈퍼호스트','숙소_지역','숙소_유형','숙소_특징'], inplace=True)"
   ]
  },
  {
   "cell_type": "code",
   "execution_count": null,
   "metadata": {},
   "outputs": [
    {
     "name": "stdout",
     "output_type": "stream",
     "text": [
      "<class 'pandas.core.frame.DataFrame'>\n",
      "Index: 41586 entries, 0 to 84153\n",
      "Data columns (total 18 columns):\n",
      " #   Column       Non-Null Count  Dtype  \n",
      "---  ------       --------------  -----  \n",
      " 0   숙소_수         41586 non-null  float64\n",
      " 1   수용_인원수       41586 non-null  int64  \n",
      " 2   욕실수          41586 non-null  float64\n",
      " 3   침실수          41586 non-null  float64\n",
      " 4   침대수          41586 non-null  float64\n",
      " 5   숙소_가격        41586 non-null  float64\n",
      " 6   최소_숙박일       41586 non-null  int64  \n",
      " 7   최대_숙박일       41586 non-null  int64  \n",
      " 8   리뷰수          41586 non-null  int64  \n",
      " 9   30일_리뷰수      41586 non-null  int64  \n",
      " 10  리뷰점수         41586 non-null  float64\n",
      " 11  숙소_정확성_리뷰점수  41586 non-null  float64\n",
      " 12  숙소_청결도_리뷰점수  41586 non-null  float64\n",
      " 13  숙소_체크인_리뷰점수  41586 non-null  float64\n",
      " 14  숙소_소통_리뷰점수   41586 non-null  float64\n",
      " 15  숙소_위치_리뷰점수   41586 non-null  float64\n",
      " 16  숙소_가격_리뷰점수   41586 non-null  float64\n",
      " 17  평균_리뷰수       41586 non-null  float64\n",
      "dtypes: float64(13), int64(5)\n",
      "memory usage: 6.0 MB\n"
     ]
    }
   ],
   "source": [
    "df_all_clean.info()"
   ]
  },
  {
   "cell_type": "code",
   "execution_count": null,
   "metadata": {},
   "outputs": [
    {
     "data": {
      "text/plain": [
       "Index(['숙소_수', '수용_인원수', '욕실수', '침실수', '침대수', '숙소_가격', '최소_숙박일', '최대_숙박일',\n",
       "       '리뷰수', '30일_리뷰수', '리뷰점수', '숙소_정확성_리뷰점수', '숙소_청결도_리뷰점수', '숙소_체크인_리뷰점수',\n",
       "       '숙소_소통_리뷰점수', '숙소_위치_리뷰점수', '숙소_가격_리뷰점수', '평균_리뷰수'],\n",
       "      dtype='object')"
      ]
     },
     "metadata": {},
     "output_type": "display_data"
    }
   ],
   "source": [
    "df_all_clean.columns"
   ]
  },
  {
   "cell_type": "code",
   "execution_count": null,
   "metadata": {},
   "outputs": [
    {
     "name": "stdout",
     "output_type": "stream",
     "text": [
      "           숙소_수    수용_인원수       욕실수       침실수       침대수    최소_숙박일    최대_숙박일  \\\n",
      "0     -0.249966 -0.740860 -0.349008 -0.277751 -0.616036 -0.198172 -0.004944   \n",
      "1     -0.256909 -0.740860 -0.349008 -1.368147 -0.616036 -0.174929 -0.004913   \n",
      "2     -0.243022 -0.740860 -0.349008 -1.368147 -0.616036 -0.221416 -0.004840   \n",
      "3     -0.243022  0.416257 -0.349008 -0.277751 -0.616036 -0.198172 -0.004936   \n",
      "4     -0.201361  0.416257 -0.349008  0.812645  0.195189 -0.012223 -0.004935   \n",
      "...         ...       ...       ...       ...       ...       ...       ...   \n",
      "41581 -0.249966  0.416257 -0.349008  0.812645 -1.427260 -0.198172 -0.004913   \n",
      "41582 -0.229135  0.416257 -0.349008 -1.368147 -0.616036 -0.221416 -0.004913   \n",
      "41583 -0.249966 -0.740860 -0.349008 -0.277751 -1.427260 -0.221416 -0.004913   \n",
      "41584 -0.256909 -0.740860 -0.349008 -0.277751 -1.427260 -0.221416 -0.004913   \n",
      "41585 -0.256909 -0.740860 -0.349008 -0.277751 -0.616036 -0.221416 -0.004913   \n",
      "\n",
      "            리뷰수   30일_리뷰수      리뷰점수  숙소_정확성_리뷰점수  숙소_청결도_리뷰점수  숙소_체크인_리뷰점수  \\\n",
      "0     -0.466834 -0.509480  0.704685     0.629428     0.776225     0.548595   \n",
      "1      1.023356 -0.509480 -0.101607    -0.113448    -0.164506     0.187893   \n",
      "2      5.216342  2.850053 -0.303180    -0.352229    -0.210395     0.021415   \n",
      "3      0.614284 -0.509480 -0.403966    -0.060385    -0.669288     0.049162   \n",
      "4      4.558905  0.834333  0.024376     0.098802    -0.485731     0.298878   \n",
      "...         ...       ...       ...          ...          ...          ...   \n",
      "41581 -0.496054  0.834333  0.704685     0.629428     0.776225     0.548595   \n",
      "41582 -0.496054  0.834333  0.704685     0.629428     0.776225     0.548595   \n",
      "41583 -0.510664  0.162427  0.704685     0.629428     0.776225     0.548595   \n",
      "41584 -0.510664  0.162427  0.704685     0.629428     0.776225     0.548595   \n",
      "41585 -0.510664  0.162427  0.704685     0.629428    -1.518240     0.548595   \n",
      "\n",
      "       숙소_소통_리뷰점수  숙소_위치_리뷰점수  숙소_가격_리뷰점수    평균_리뷰수  \n",
      "0        0.506723    0.605247    0.895086 -0.863059  \n",
      "1        0.195414    0.439630    0.299942 -0.417649  \n",
      "2        0.053910    0.472753   -0.066301  0.626280  \n",
      "3       -0.087594   -0.554076   -0.295202 -0.542921  \n",
      "4        0.167113    0.373382    0.277052  0.640199  \n",
      "...           ...         ...         ...       ...  \n",
      "41581    0.506723    0.605247    0.895086  0.494049  \n",
      "41582    0.506723    0.605247    0.895086  0.494049  \n",
      "41583    0.506723    0.605247    0.895086 -0.201904  \n",
      "41584    0.506723    0.605247    0.895086 -0.201904  \n",
      "41585    0.506723    0.605247    0.895086 -0.201904  \n",
      "\n",
      "[41586 rows x 17 columns]\n"
     ]
    }
   ],
   "source": [
    "import pandas as pd\n",
    "from sklearn.preprocessing import StandardScaler\n",
    "from sklearn.decomposition import PCA\n",
    "import matplotlib.pyplot as plt\n",
    "\n",
    "# 데이터 준비 (숙소_가격 컬럼 제외)\n",
    "x = df_all_clean.drop(['숙소_가격'], axis=1).values # 독립변인들의 value값만 추출\n",
    "y = df_all_clean['숙소_가격'].values # 종속변인 추출\n",
    "\n",
    "x = StandardScaler().fit_transform(x) # x객체에 x를 표준화한 데이터를 저장\n",
    "\n",
    "features = ['숙소_수', '수용_인원수', '욕실수', '침실수', '침대수', '최소_숙박일', '최대_숙박일','리뷰수', \n",
    "            '30일_리뷰수', '리뷰점수', '숙소_정확성_리뷰점수', '숙소_청결도_리뷰점수', '숙소_체크인_리뷰점수',\n",
    "            '숙소_소통_리뷰점수', '숙소_위치_리뷰점수', '숙소_가격_리뷰점수', '평균_리뷰수']\n",
    "\n",
    "pd.DataFrame(x, columns=features).head()\n",
    "print(pd.DataFrame(x, columns=features))\n"
   ]
  },
  {
   "cell_type": "code",
   "execution_count": null,
   "metadata": {},
   "outputs": [
    {
     "name": "stdout",
     "output_type": "stream",
     "text": [
      "[0.28642021 0.17236377 0.12445214 0.05886791 0.05878408 0.05690098\n",
      " 0.03852519 0.03787315 0.03282686 0.03077694 0.01957639 0.01871163\n",
      " 0.01579077 0.0148609  0.01262603 0.01247076 0.00817229]\n"
     ]
    }
   ],
   "source": [
    "pca = PCA(n_components=len(features))\n",
    "printcipalComponents = pca.fit_transform(x)\n",
    "principalDf = pd.DataFrame(data=printcipalComponents, columns = features)\n",
    "print(pca.explained_variance_ratio_)"
   ]
  },
  {
   "cell_type": "code",
   "execution_count": null,
   "metadata": {},
   "outputs": [
    {
     "name": "stdout",
     "output_type": "stream",
     "text": [
      "첫 번째 주성분의 구성요소:\n",
      "숙소_수 기여도: 0.08370915037487185\n",
      "수용_인원수 기여도: 0.00175937049405399\n",
      "욕실수 기여도: -0.025220986954289776\n",
      "침실수 기여도: -0.03218817571940122\n",
      "침대수 기여도: -0.0017640200775586928\n",
      "최소_숙박일 기여도: 0.028442717305030688\n",
      "최대_숙박일 기여도: -0.00022442315276221565\n",
      "리뷰수 기여도: -0.02845131044164759\n",
      "30일_리뷰수 기여도: -0.027209708259094707\n",
      "리뷰점수 기여도: -0.42026665449888295\n",
      "숙소_정확성_리뷰점수 기여도: -0.4038973189917203\n",
      "숙소_청결도_리뷰점수 기여도: -0.36386549830589204\n",
      "숙소_체크인_리뷰점수 기여도: -0.35733246758666143\n",
      "숙소_소통_리뷰점수 기여도: -0.3790621708222792\n",
      "숙소_위치_리뷰점수 기여도: -0.286834404981408\n",
      "숙소_가격_리뷰점수 기여도: -0.40303407317411966\n",
      "평균_리뷰수 기여도: -0.026744018770746784\n"
     ]
    }
   ],
   "source": [
    "# PCA 모델 훈련\n",
    "pca = PCA(n_components=len(features))\n",
    "principalComponents = pca.fit_transform(x)\n",
    "\n",
    "# 각 주성분의 구성요소 확인\n",
    "components = pca.components_\n",
    "\n",
    "# 첫 번째 주성분의 구성요소 출력\n",
    "print(\"첫 번째 주성분의 구성요소:\")\n",
    "for i, component in enumerate(components[0]):\n",
    "    print(f\"{features[i]} 기여도: {component}\")\n"
   ]
  },
  {
   "cell_type": "markdown",
   "metadata": {},
   "source": [
    "절대값이 큰 값들 :\n",
    " - '리뷰점수', '숙소_정확성_리뷰점수', '숙소_청결도_리뷰점수', '숙소_체크인_리뷰점수', '숙소_소통_리뷰점수', '숙소_가격_리뷰점수' "
   ]
  },
  {
   "cell_type": "markdown",
   "metadata": {},
   "source": [
    "주성분 분석(PCA)에서 각 주성분은 원본 데이터셋의 컬럼들을 기반으로 하는 새로운 축이며, 각 주성분은 원본 데이터의 분산을 최대한 많이 설명하는 방향으로 구성됨.\n",
    " - 주성분 분석에서는 주성분이 원본 데이터셋의 특정 컬럼을 직접적으로 대표하지 않습니다. 대신, 첫 번째 주성분은 여러 컬럼들의 조합으로 이루어진 새로운 축을 나타냅니다. 이 경우 첫 번째 주성분은 주로 리뷰 관련 지표들에 의해 영향을 받는 것으로 해석할 수 있습니다. <br>\n",
    "\n",
    "따라서, 첫 번째 주성분은 리뷰 점수와 관련된 다양한 측면들(정확성, 청결도, 체크인, 소통, 가격 등)을 종합적으로 반영하는 축으로 볼 수 있습니다."
   ]
  },
  {
   "cell_type": "code",
   "execution_count": null,
   "metadata": {},
   "outputs": [
    {
     "name": "stdout",
     "output_type": "stream",
     "text": [
      "\n",
      "두 번째 주성분의 구성요소:\n",
      "숙소_수 기여도: 0.047868011023608846\n",
      "수용_인원수 기여도: 0.5133476698507101\n",
      "욕실수 기여도: 0.45193305084123125\n",
      "침실수 기여도: 0.5069243092756687\n",
      "침대수 기여도: 0.5204063935132998\n",
      "최소_숙박일 기여도: -0.023962868510449712\n",
      "최대_숙박일 기여도: -0.0025286562664643413\n",
      "리뷰수 기여도: 0.0030874670750920042\n",
      "30일_리뷰수 기여도: -0.007623378286742663\n",
      "리뷰점수 기여도: -0.005710345541916704\n",
      "숙소_정확성_리뷰점수 기여도: -0.018511945011773345\n",
      "숙소_청결도_리뷰점수 기여도: 0.003106288970796248\n",
      "숙소_체크인_리뷰점수 기여도: -0.018275614949244783\n",
      "숙소_소통_리뷰점수 기여도: -0.026580014937695635\n",
      "숙소_위치_리뷰점수 기여도: 0.0032430328956453585\n",
      "숙소_가격_리뷰점수 기여도: 0.0008530534382223873\n",
      "평균_리뷰수 기여도: -0.007701962710825831\n"
     ]
    }
   ],
   "source": [
    "# 두 번째 주성분의 구성요소 출력\n",
    "print(\"\\n두 번째 주성분의 구성요소:\")\n",
    "for i, component in enumerate(components[1]):\n",
    "    print(f\"{features[i]} 기여도: {component}\")"
   ]
  },
  {
   "cell_type": "code",
   "execution_count": null,
   "metadata": {},
   "outputs": [
    {
     "name": "stdout",
     "output_type": "stream",
     "text": [
      "\n",
      "세 번째 주성분의 구성요소:\n",
      "숙소_수 기여도: -0.03733582278728518\n",
      "수용_인원수 기여도: 0.02939835488176271\n",
      "욕실수 기여도: -0.0009638511365341318\n",
      "침실수 기여도: -0.03537508410810316\n",
      "침대수 기여도: 0.015455818566942794\n",
      "최소_숙박일 기여도: -0.1349698713653372\n",
      "최대_숙박일 기여도: 0.00768728867220624\n",
      "리뷰수 기여도: 0.49891891719328524\n",
      "30일_리뷰수 기여도: 0.5766281358147551\n",
      "리뷰점수 기여도: -0.0367177606421655\n",
      "숙소_정확성_리뷰점수 기여도: -0.03321062067166173\n",
      "숙소_청결도_리뷰점수 기여도: 0.00438188174309486\n",
      "숙소_체크인_리뷰점수 기여도: -0.014974251330155676\n",
      "숙소_소통_리뷰점수 기여도: -0.0170944773261238\n",
      "숙소_위치_리뷰점수 기여도: -0.018808588175897187\n",
      "숙소_가격_리뷰점수 기여도: -0.01972347109777351\n",
      "평균_리뷰수 기여도: 0.6267574840446046\n"
     ]
    }
   ],
   "source": [
    "# 세 번째 주성분의 구성요소 출력\n",
    "print(\"\\n세 번째 주성분의 구성요소:\")\n",
    "for i, component in enumerate(components[2]):\n",
    "    print(f\"{features[i]} 기여도: {component}\")"
   ]
  },
  {
   "cell_type": "markdown",
   "metadata": {},
   "source": [
    "이런 게 아니었는데... PCA 분석 기법이 아니었나보다..(pca수정전 적은 생각)\n",
    " - 내가 원하는 것은 어떤 한 컬럼 데이터에 다른 컬럼 데이터가 영향을 끼치는지 확인하는 것이었는데, 잘못알아본것 같음.\n",
    " - 다시 찾아보니 피처(feature)중요도를 파악하는 것인가보다\n",
    " - -> 랜덤 포레스트(Random Forest)나 그라디언트 부스팅(Gradient Boosting)모델 같은 결정 트리 기반의 알고리즘 사용\n",
    " - 랜덤 포레스트 적용"
   ]
  },
  {
   "cell_type": "code",
   "execution_count": null,
   "metadata": {},
   "outputs": [
    {
     "name": "stdout",
     "output_type": "stream",
     "text": [
      "Mean Squared Error: 489520.01208302396\n",
      "숙소_수: 0.1521572868167193\n",
      "평균_리뷰수: 0.10601733928696014\n",
      "숙소_소통_리뷰점수: 0.08526696241159823\n",
      "욕실수: 0.08103880313623216\n",
      "숙소_위치_리뷰점수: 0.0707631010301038\n",
      "최소_숙박일: 0.06000582709117129\n",
      "숙소_체크인_리뷰점수: 0.05849323179219956\n",
      "숙소_청결도_리뷰점수: 0.05213722771560134\n",
      "리뷰수: 0.05071027167969983\n",
      "숙소_가격_리뷰점수: 0.050631157672503466\n",
      "침실수: 0.04547205234334301\n",
      "수용_인원수: 0.04430737965487016\n",
      "리뷰점수: 0.03729318856506723\n",
      "숙소_정확성_리뷰점수: 0.036937087590337654\n",
      "최대_숙박일: 0.03406221333160491\n",
      "침대수: 0.020290654402238907\n",
      "30일_리뷰수: 0.014416215479749021\n"
     ]
    },
    {
     "data": {
      "image/png": "[encoded data removed]",
      "text/plain": [
       "<Figure size 1000x800 with 1 Axes>"
      ]
     },
     "metadata": {},
     "output_type": "display_data"
    }
   ],
   "source": [
    "import pandas as pd\n",
    "from sklearn.ensemble import RandomForestRegressor\n",
    "from sklearn.model_selection import train_test_split\n",
    "from sklearn.metrics import mean_squared_error\n",
    "import matplotlib.pyplot as plt\n",
    "import numpy as np\n",
    "\n",
    "# df_all_clean 데이터에서 '숙소_가격'을 타겟 변수로 설정\n",
    "X = df_all_clean.drop('숙소_가격', axis=1)\n",
    "y = df_all_clean['숙소_가격']\n",
    "\n",
    "# 데이터 분할: 훈련 세트와 테스트 세트\n",
    "X_train, X_test, y_train, y_test = train_test_split(X, y, test_size=0.2, random_state=42)\n",
    "\n",
    "# 랜덤 포레스트 모델 생성 및 훈련\n",
    "model = RandomForestRegressor(n_estimators=100, random_state=42)\n",
    "model.fit(X_train, y_train)\n",
    "\n",
    "# 테스트 세트에 대한 예측 및 평가\n",
    "predictions = model.predict(X_test)\n",
    "mse = mean_squared_error(y_test, predictions)\n",
    "print(f'Mean Squared Error: {mse}')\n",
    "\n",
    "# 피처 중요도\n",
    "feature_importances = model.feature_importances_\n",
    "\n",
    "# 중요도가 높은 순서대로 피처 이름과 중요도를 출력\n",
    "features = sorted(zip(X.columns, feature_importances), key=lambda x: x[1], reverse=True)\n",
    "for feature, importance in features:\n",
    "    print(f'{feature}: {importance}')\n",
    "\n",
    "# 피처 중요도 시각화\n",
    "plt.figure(figsize=(10,8))\n",
    "plt.barh([feature for feature, importance in features], [importance for feature, importance in features])\n",
    "plt.xlabel('Importance')\n",
    "plt.ylabel('Features')\n",
    "plt.title('Feature Importance')\n",
    "plt.gca().invert_yaxis()\n",
    "plt.show()\n"
   ]
  },
  {
   "cell_type": "markdown",
   "metadata": {},
   "source": [
    "결과 확인 : 숙소_가격에 영향을 미치는 주요 요인들\n",
    " - 숙소_수\n",
    " - 평균_리뷰수\n",
    " - 숙소_소통_리뷰점수\n",
    " - 욕실수\n",
    " - 숙소_위치_리뷰점수"
   ]
  },
  {
   "cell_type": "markdown",
   "metadata": {},
   "source": [
    "??? 이게 맞나?\n",
    " - 다시 PCA를 진행(처음 코드 짤 떄 뭔가 잘 못한듯.. iris 예제 보고 작성해야지)"
   ]
  },
  {
   "cell_type": "markdown",
   "metadata": {},
   "source": [
    "PCA와 랜덤 포레스트 돌린 후\n",
    " - 숙소_가격에 영향을 끼치는 데이터를 찾으려고 했는데... 이상해보이는 컬럼들이 선택이 됨.\n",
    " - 이게 맞나 의심이 감.\n",
    " - null값을 다 진행하고 분석 과정 중 문제가 되었던 범주형 데이터(슈퍼호스트, 숙소_지역, 숙소_유형, 숙소_특징)을 제거했던게 문제인가?\n"
   ]
  },
  {
   "cell_type": "markdown",
   "metadata": {},
   "source": [
    "범주형 데이터 원핫 인코딩 이후\n",
    " - 컬럼수가 100개가 되어서 확인이 어려움.\n",
    " - 차라리 예진님이 진행했던, 상관계수 참고해서 진행하는게 나을듯..."
   ]
  }
 ],
 "metadata": {
  "language_info": {
   "name": "python"
  }
 },
 "nbformat": 4,
 "nbformat_minor": 2
}
