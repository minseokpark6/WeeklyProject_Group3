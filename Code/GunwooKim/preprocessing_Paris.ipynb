{
 "cells": [
  {
   "cell_type": "code",
   "execution_count": 1,
   "metadata": {},
   "outputs": [],
   "source": [
    "import numpy as np\n",
    "import pandas as pd\n",
    "import matplotlib.pyplot as plt\n",
    "import seaborn as sns\n",
    "%matplotlib inline"
   ]
  },
  {
   "cell_type": "code",
   "execution_count": 2,
   "metadata": {},
   "outputs": [
    {
     "data": {
      "text/html": [
       "<div>\n",
       "<style scoped>\n",
       "    .dataframe tbody tr th:only-of-type {\n",
       "        vertical-align: middle;\n",
       "    }\n",
       "\n",
       "    .dataframe tbody tr th {\n",
       "        vertical-align: top;\n",
       "    }\n",
       "\n",
       "    .dataframe thead th {\n",
       "        text-align: right;\n",
       "    }\n",
       "</style>\n",
       "<table border=\"1\" class=\"dataframe\">\n",
       "  <thead>\n",
       "    <tr style=\"text-align: right;\">\n",
       "      <th></th>\n",
       "      <th>id</th>\n",
       "      <th>listing_url</th>\n",
       "      <th>scrape_id</th>\n",
       "      <th>last_scraped</th>\n",
       "      <th>source</th>\n",
       "      <th>name</th>\n",
       "      <th>description</th>\n",
       "      <th>neighborhood_overview</th>\n",
       "      <th>picture_url</th>\n",
       "      <th>host_id</th>\n",
       "      <th>...</th>\n",
       "      <th>review_scores_communication</th>\n",
       "      <th>review_scores_location</th>\n",
       "      <th>review_scores_value</th>\n",
       "      <th>license</th>\n",
       "      <th>instant_bookable</th>\n",
       "      <th>calculated_host_listings_count</th>\n",
       "      <th>calculated_host_listings_count_entire_homes</th>\n",
       "      <th>calculated_host_listings_count_private_rooms</th>\n",
       "      <th>calculated_host_listings_count_shared_rooms</th>\n",
       "      <th>reviews_per_month</th>\n",
       "    </tr>\n",
       "  </thead>\n",
       "  <tbody>\n",
       "    <tr>\n",
       "      <th>0</th>\n",
       "      <td>3109</td>\n",
       "      <td>https://www.airbnb.com/rooms/3109</td>\n",
       "      <td>20240316023852</td>\n",
       "      <td>2024-03-19</td>\n",
       "      <td>city scrape</td>\n",
       "      <td>zen and calm</td>\n",
       "      <td>Lovely Appartment with one bedroom with a Quee...</td>\n",
       "      <td>Good restaurants&lt;br /&gt;very close the Montparna...</td>\n",
       "      <td>https://a0.muscache.com/pictures/miso/Hosting-...</td>\n",
       "      <td>3631</td>\n",
       "      <td>...</td>\n",
       "      <td>5.00</td>\n",
       "      <td>5.00</td>\n",
       "      <td>5.00</td>\n",
       "      <td>7511409139079</td>\n",
       "      <td>f</td>\n",
       "      <td>1</td>\n",
       "      <td>1</td>\n",
       "      <td>0</td>\n",
       "      <td>0</td>\n",
       "      <td>0.05</td>\n",
       "    </tr>\n",
       "    <tr>\n",
       "      <th>1</th>\n",
       "      <td>165409</td>\n",
       "      <td>https://www.airbnb.com/rooms/165409</td>\n",
       "      <td>20240316023852</td>\n",
       "      <td>2024-03-19</td>\n",
       "      <td>city scrape</td>\n",
       "      <td>studio charme Haut Marais PARIS</td>\n",
       "      <td>You'll love this typical parisian flat.</td>\n",
       "      <td>NaN</td>\n",
       "      <td>https://a0.muscache.com/pictures/miso/Hosting-...</td>\n",
       "      <td>788732</td>\n",
       "      <td>...</td>\n",
       "      <td>4.89</td>\n",
       "      <td>4.95</td>\n",
       "      <td>4.74</td>\n",
       "      <td>7510309597559</td>\n",
       "      <td>f</td>\n",
       "      <td>1</td>\n",
       "      <td>1</td>\n",
       "      <td>0</td>\n",
       "      <td>0</td>\n",
       "      <td>0.69</td>\n",
       "    </tr>\n",
       "    <tr>\n",
       "      <th>2</th>\n",
       "      <td>5396</td>\n",
       "      <td>https://www.airbnb.com/rooms/5396</td>\n",
       "      <td>20240316023852</td>\n",
       "      <td>2024-03-18</td>\n",
       "      <td>city scrape</td>\n",
       "      <td>Your perfect Paris studio on Île Saint-Louis</td>\n",
       "      <td>NEW SOFA-BED SINCE JUNE 2023, Please disregard...</td>\n",
       "      <td>You are within walking distance to the Louvre,...</td>\n",
       "      <td>https://a0.muscache.com/pictures/52413/f9bf76f...</td>\n",
       "      <td>7903</td>\n",
       "      <td>...</td>\n",
       "      <td>4.84</td>\n",
       "      <td>4.96</td>\n",
       "      <td>4.58</td>\n",
       "      <td>7510402838018</td>\n",
       "      <td>f</td>\n",
       "      <td>2</td>\n",
       "      <td>1</td>\n",
       "      <td>1</td>\n",
       "      <td>0</td>\n",
       "      <td>2.19</td>\n",
       "    </tr>\n",
       "    <tr>\n",
       "      <th>3</th>\n",
       "      <td>166370</td>\n",
       "      <td>https://www.airbnb.com/rooms/166370</td>\n",
       "      <td>20240316023852</td>\n",
       "      <td>2024-03-16</td>\n",
       "      <td>city scrape</td>\n",
       "      <td>Big appartment with view 4 people</td>\n",
       "      <td>2 Bedrooms apartment for up to 4 people, with ...</td>\n",
       "      <td>The avenue is located nearby the animated dist...</td>\n",
       "      <td>https://a0.muscache.com/pictures/74224563/6c9e...</td>\n",
       "      <td>793032</td>\n",
       "      <td>...</td>\n",
       "      <td>4.79</td>\n",
       "      <td>4.65</td>\n",
       "      <td>4.48</td>\n",
       "      <td>7511007974397</td>\n",
       "      <td>f</td>\n",
       "      <td>1</td>\n",
       "      <td>1</td>\n",
       "      <td>0</td>\n",
       "      <td>0</td>\n",
       "      <td>0.51</td>\n",
       "    </tr>\n",
       "    <tr>\n",
       "      <th>4</th>\n",
       "      <td>39948</td>\n",
       "      <td>https://www.airbnb.com/rooms/39948</td>\n",
       "      <td>20240316023852</td>\n",
       "      <td>2024-03-19</td>\n",
       "      <td>previous scrape</td>\n",
       "      <td>COSY INDEPENDENT ROOM IN CENTRAL PARIS</td>\n",
       "      <td>Large newly-renovated guest room in central Pa...</td>\n",
       "      <td>Located in the heart of Paris, The Montorgueil...</td>\n",
       "      <td>https://a0.muscache.com/pictures/f898fb0b-e72e...</td>\n",
       "      <td>171483</td>\n",
       "      <td>...</td>\n",
       "      <td>4.97</td>\n",
       "      <td>4.94</td>\n",
       "      <td>4.82</td>\n",
       "      <td>7510200734360</td>\n",
       "      <td>f</td>\n",
       "      <td>1</td>\n",
       "      <td>0</td>\n",
       "      <td>1</td>\n",
       "      <td>0</td>\n",
       "      <td>0.99</td>\n",
       "    </tr>\n",
       "    <tr>\n",
       "      <th>...</th>\n",
       "      <td>...</td>\n",
       "      <td>...</td>\n",
       "      <td>...</td>\n",
       "      <td>...</td>\n",
       "      <td>...</td>\n",
       "      <td>...</td>\n",
       "      <td>...</td>\n",
       "      <td>...</td>\n",
       "      <td>...</td>\n",
       "      <td>...</td>\n",
       "      <td>...</td>\n",
       "      <td>...</td>\n",
       "      <td>...</td>\n",
       "      <td>...</td>\n",
       "      <td>...</td>\n",
       "      <td>...</td>\n",
       "      <td>...</td>\n",
       "      <td>...</td>\n",
       "      <td>...</td>\n",
       "      <td>...</td>\n",
       "      <td>...</td>\n",
       "    </tr>\n",
       "    <tr>\n",
       "      <th>84392</th>\n",
       "      <td>1112562855977040914</td>\n",
       "      <td>https://www.airbnb.com/rooms/1112562855977040914</td>\n",
       "      <td>20240316023852</td>\n",
       "      <td>2024-03-19</td>\n",
       "      <td>city scrape</td>\n",
       "      <td>Artists neighbour apt /private yard 10mn Print...</td>\n",
       "      <td>Simplify your life at this peaceful place&lt;br /...</td>\n",
       "      <td>NaN</td>\n",
       "      <td>https://a0.muscache.com/pictures/692d2ee5-8469...</td>\n",
       "      <td>448413156</td>\n",
       "      <td>...</td>\n",
       "      <td>NaN</td>\n",
       "      <td>NaN</td>\n",
       "      <td>NaN</td>\n",
       "      <td>7510164795125</td>\n",
       "      <td>t</td>\n",
       "      <td>15</td>\n",
       "      <td>15</td>\n",
       "      <td>0</td>\n",
       "      <td>0</td>\n",
       "      <td>NaN</td>\n",
       "    </tr>\n",
       "    <tr>\n",
       "      <th>84393</th>\n",
       "      <td>1112591023192990750</td>\n",
       "      <td>https://www.airbnb.com/rooms/1112591023192990750</td>\n",
       "      <td>20240316023852</td>\n",
       "      <td>2024-03-18</td>\n",
       "      <td>city scrape</td>\n",
       "      <td>Appartement Tour Eiffel - Porte Dauphine - 2 Pers</td>\n",
       "      <td>Nestled in the heart of the prestigious 16th a...</td>\n",
       "      <td>A l’orée du bois, le jardin du Ranelagh est un...</td>\n",
       "      <td>https://a0.muscache.com/pictures/miso/Hosting-...</td>\n",
       "      <td>528792181</td>\n",
       "      <td>...</td>\n",
       "      <td>NaN</td>\n",
       "      <td>NaN</td>\n",
       "      <td>NaN</td>\n",
       "      <td>7511612355663</td>\n",
       "      <td>t</td>\n",
       "      <td>6</td>\n",
       "      <td>6</td>\n",
       "      <td>0</td>\n",
       "      <td>0</td>\n",
       "      <td>NaN</td>\n",
       "    </tr>\n",
       "    <tr>\n",
       "      <th>84394</th>\n",
       "      <td>1112842648117310093</td>\n",
       "      <td>https://www.airbnb.com/rooms/1112842648117310093</td>\n",
       "      <td>20240316023852</td>\n",
       "      <td>2024-03-19</td>\n",
       "      <td>city scrape</td>\n",
       "      <td>1621: Prime spot in Paris Olympic Games 2024</td>\n",
       "      <td>Discover the allure of our generously proporti...</td>\n",
       "      <td>Embark on an enchanting voyage of discovery th...</td>\n",
       "      <td>https://a0.muscache.com/pictures/prohost-api/H...</td>\n",
       "      <td>530443572</td>\n",
       "      <td>...</td>\n",
       "      <td>NaN</td>\n",
       "      <td>NaN</td>\n",
       "      <td>NaN</td>\n",
       "      <td>7510912350413</td>\n",
       "      <td>t</td>\n",
       "      <td>6</td>\n",
       "      <td>6</td>\n",
       "      <td>0</td>\n",
       "      <td>0</td>\n",
       "      <td>NaN</td>\n",
       "    </tr>\n",
       "    <tr>\n",
       "      <th>84395</th>\n",
       "      <td>1112843324939236177</td>\n",
       "      <td>https://www.airbnb.com/rooms/1112843324939236177</td>\n",
       "      <td>20240316023852</td>\n",
       "      <td>2024-03-18</td>\n",
       "      <td>city scrape</td>\n",
       "      <td>Stylish flat in the heart of the city</td>\n",
       "      <td>Welcome to Paris! We are delighted to welcome ...</td>\n",
       "      <td>The 6th arrondissement is home to Saint-Germai...</td>\n",
       "      <td>https://a0.muscache.com/pictures/prohost-api/H...</td>\n",
       "      <td>504268004</td>\n",
       "      <td>...</td>\n",
       "      <td>NaN</td>\n",
       "      <td>NaN</td>\n",
       "      <td>NaN</td>\n",
       "      <td>7510608018554</td>\n",
       "      <td>t</td>\n",
       "      <td>47</td>\n",
       "      <td>47</td>\n",
       "      <td>0</td>\n",
       "      <td>0</td>\n",
       "      <td>NaN</td>\n",
       "    </tr>\n",
       "    <tr>\n",
       "      <th>84396</th>\n",
       "      <td>1112849968490989659</td>\n",
       "      <td>https://www.airbnb.com/rooms/1112849968490989659</td>\n",
       "      <td>20240316023852</td>\n",
       "      <td>2024-03-18</td>\n",
       "      <td>city scrape</td>\n",
       "      <td>1637: Prime location in Paris Olympic Games 2024</td>\n",
       "      <td>Are you yearning for a romantic or adventurous...</td>\n",
       "      <td>Nestled within the vibrant heart of the 14th A...</td>\n",
       "      <td>https://a0.muscache.com/pictures/prohost-api/H...</td>\n",
       "      <td>530443572</td>\n",
       "      <td>...</td>\n",
       "      <td>NaN</td>\n",
       "      <td>NaN</td>\n",
       "      <td>NaN</td>\n",
       "      <td>7511412350670</td>\n",
       "      <td>t</td>\n",
       "      <td>6</td>\n",
       "      <td>6</td>\n",
       "      <td>0</td>\n",
       "      <td>0</td>\n",
       "      <td>NaN</td>\n",
       "    </tr>\n",
       "  </tbody>\n",
       "</table>\n",
       "<p>84397 rows × 75 columns</p>\n",
       "</div>"
      ],
      "text/plain": [
       "                        id                                       listing_url  \\\n",
       "0                     3109                 https://www.airbnb.com/rooms/3109   \n",
       "1                   165409               https://www.airbnb.com/rooms/165409   \n",
       "2                     5396                 https://www.airbnb.com/rooms/5396   \n",
       "3                   166370               https://www.airbnb.com/rooms/166370   \n",
       "4                    39948                https://www.airbnb.com/rooms/39948   \n",
       "...                    ...                                               ...   \n",
       "84392  1112562855977040914  https://www.airbnb.com/rooms/1112562855977040914   \n",
       "84393  1112591023192990750  https://www.airbnb.com/rooms/1112591023192990750   \n",
       "84394  1112842648117310093  https://www.airbnb.com/rooms/1112842648117310093   \n",
       "84395  1112843324939236177  https://www.airbnb.com/rooms/1112843324939236177   \n",
       "84396  1112849968490989659  https://www.airbnb.com/rooms/1112849968490989659   \n",
       "\n",
       "            scrape_id last_scraped           source  \\\n",
       "0      20240316023852   2024-03-19      city scrape   \n",
       "1      20240316023852   2024-03-19      city scrape   \n",
       "2      20240316023852   2024-03-18      city scrape   \n",
       "3      20240316023852   2024-03-16      city scrape   \n",
       "4      20240316023852   2024-03-19  previous scrape   \n",
       "...               ...          ...              ...   \n",
       "84392  20240316023852   2024-03-19      city scrape   \n",
       "84393  20240316023852   2024-03-18      city scrape   \n",
       "84394  20240316023852   2024-03-19      city scrape   \n",
       "84395  20240316023852   2024-03-18      city scrape   \n",
       "84396  20240316023852   2024-03-18      city scrape   \n",
       "\n",
       "                                                    name  \\\n",
       "0                                           zen and calm   \n",
       "1                        studio charme Haut Marais PARIS   \n",
       "2           Your perfect Paris studio on Île Saint-Louis   \n",
       "3                      Big appartment with view 4 people   \n",
       "4                 COSY INDEPENDENT ROOM IN CENTRAL PARIS   \n",
       "...                                                  ...   \n",
       "84392  Artists neighbour apt /private yard 10mn Print...   \n",
       "84393  Appartement Tour Eiffel - Porte Dauphine - 2 Pers   \n",
       "84394       1621: Prime spot in Paris Olympic Games 2024   \n",
       "84395              Stylish flat in the heart of the city   \n",
       "84396   1637: Prime location in Paris Olympic Games 2024   \n",
       "\n",
       "                                             description  \\\n",
       "0      Lovely Appartment with one bedroom with a Quee...   \n",
       "1                You'll love this typical parisian flat.   \n",
       "2      NEW SOFA-BED SINCE JUNE 2023, Please disregard...   \n",
       "3      2 Bedrooms apartment for up to 4 people, with ...   \n",
       "4      Large newly-renovated guest room in central Pa...   \n",
       "...                                                  ...   \n",
       "84392  Simplify your life at this peaceful place<br /...   \n",
       "84393  Nestled in the heart of the prestigious 16th a...   \n",
       "84394  Discover the allure of our generously proporti...   \n",
       "84395  Welcome to Paris! We are delighted to welcome ...   \n",
       "84396  Are you yearning for a romantic or adventurous...   \n",
       "\n",
       "                                   neighborhood_overview  \\\n",
       "0      Good restaurants<br />very close the Montparna...   \n",
       "1                                                    NaN   \n",
       "2      You are within walking distance to the Louvre,...   \n",
       "3      The avenue is located nearby the animated dist...   \n",
       "4      Located in the heart of Paris, The Montorgueil...   \n",
       "...                                                  ...   \n",
       "84392                                                NaN   \n",
       "84393  A l’orée du bois, le jardin du Ranelagh est un...   \n",
       "84394  Embark on an enchanting voyage of discovery th...   \n",
       "84395  The 6th arrondissement is home to Saint-Germai...   \n",
       "84396  Nestled within the vibrant heart of the 14th A...   \n",
       "\n",
       "                                             picture_url    host_id  ...  \\\n",
       "0      https://a0.muscache.com/pictures/miso/Hosting-...       3631  ...   \n",
       "1      https://a0.muscache.com/pictures/miso/Hosting-...     788732  ...   \n",
       "2      https://a0.muscache.com/pictures/52413/f9bf76f...       7903  ...   \n",
       "3      https://a0.muscache.com/pictures/74224563/6c9e...     793032  ...   \n",
       "4      https://a0.muscache.com/pictures/f898fb0b-e72e...     171483  ...   \n",
       "...                                                  ...        ...  ...   \n",
       "84392  https://a0.muscache.com/pictures/692d2ee5-8469...  448413156  ...   \n",
       "84393  https://a0.muscache.com/pictures/miso/Hosting-...  528792181  ...   \n",
       "84394  https://a0.muscache.com/pictures/prohost-api/H...  530443572  ...   \n",
       "84395  https://a0.muscache.com/pictures/prohost-api/H...  504268004  ...   \n",
       "84396  https://a0.muscache.com/pictures/prohost-api/H...  530443572  ...   \n",
       "\n",
       "      review_scores_communication review_scores_location review_scores_value  \\\n",
       "0                            5.00                   5.00                5.00   \n",
       "1                            4.89                   4.95                4.74   \n",
       "2                            4.84                   4.96                4.58   \n",
       "3                            4.79                   4.65                4.48   \n",
       "4                            4.97                   4.94                4.82   \n",
       "...                           ...                    ...                 ...   \n",
       "84392                         NaN                    NaN                 NaN   \n",
       "84393                         NaN                    NaN                 NaN   \n",
       "84394                         NaN                    NaN                 NaN   \n",
       "84395                         NaN                    NaN                 NaN   \n",
       "84396                         NaN                    NaN                 NaN   \n",
       "\n",
       "             license instant_bookable calculated_host_listings_count  \\\n",
       "0      7511409139079                f                              1   \n",
       "1      7510309597559                f                              1   \n",
       "2      7510402838018                f                              2   \n",
       "3      7511007974397                f                              1   \n",
       "4      7510200734360                f                              1   \n",
       "...              ...              ...                            ...   \n",
       "84392  7510164795125                t                             15   \n",
       "84393  7511612355663                t                              6   \n",
       "84394  7510912350413                t                              6   \n",
       "84395  7510608018554                t                             47   \n",
       "84396  7511412350670                t                              6   \n",
       "\n",
       "      calculated_host_listings_count_entire_homes  \\\n",
       "0                                               1   \n",
       "1                                               1   \n",
       "2                                               1   \n",
       "3                                               1   \n",
       "4                                               0   \n",
       "...                                           ...   \n",
       "84392                                          15   \n",
       "84393                                           6   \n",
       "84394                                           6   \n",
       "84395                                          47   \n",
       "84396                                           6   \n",
       "\n",
       "      calculated_host_listings_count_private_rooms  \\\n",
       "0                                                0   \n",
       "1                                                0   \n",
       "2                                                1   \n",
       "3                                                0   \n",
       "4                                                1   \n",
       "...                                            ...   \n",
       "84392                                            0   \n",
       "84393                                            0   \n",
       "84394                                            0   \n",
       "84395                                            0   \n",
       "84396                                            0   \n",
       "\n",
       "      calculated_host_listings_count_shared_rooms reviews_per_month  \n",
       "0                                               0              0.05  \n",
       "1                                               0              0.69  \n",
       "2                                               0              2.19  \n",
       "3                                               0              0.51  \n",
       "4                                               0              0.99  \n",
       "...                                           ...               ...  \n",
       "84392                                           0               NaN  \n",
       "84393                                           0               NaN  \n",
       "84394                                           0               NaN  \n",
       "84395                                           0               NaN  \n",
       "84396                                           0               NaN  \n",
       "\n",
       "[84397 rows x 75 columns]"
      ]
     },
     "execution_count": 2,
     "metadata": {},
     "output_type": "execute_result"
    }
   ],
   "source": [
    "# 데이터 불러오기\n",
    "path='../data/Paris/listings.csv'\n",
    "pd.read_csv(path)"
   ]
  },
  {
   "cell_type": "code",
   "execution_count": 3,
   "metadata": {},
   "outputs": [],
   "source": [
    "raw = pd.read_csv(path)\n",
    "df = raw.copy()"
   ]
  },
  {
   "cell_type": "markdown",
   "metadata": {},
   "source": [
    "회의 결과대로 컬럼 나누기\n",
    " - 숙소 테이블\n",
    " - 리뷰 테이블\n",
    " - 선별할 컬럼 테이블"
   ]
  },
  {
   "cell_type": "markdown",
   "metadata": {},
   "source": [
    "숙소 테이블 만들기"
   ]
  },
  {
   "cell_type": "code",
   "execution_count": 4,
   "metadata": {},
   "outputs": [
    {
     "data": {
      "text/html": [
       "<div>\n",
       "<style scoped>\n",
       "    .dataframe tbody tr th:only-of-type {\n",
       "        vertical-align: middle;\n",
       "    }\n",
       "\n",
       "    .dataframe tbody tr th {\n",
       "        vertical-align: top;\n",
       "    }\n",
       "\n",
       "    .dataframe thead th {\n",
       "        text-align: right;\n",
       "    }\n",
       "</style>\n",
       "<table border=\"1\" class=\"dataframe\">\n",
       "  <thead>\n",
       "    <tr style=\"text-align: right;\">\n",
       "      <th></th>\n",
       "      <th>id</th>\n",
       "      <th>host_id</th>\n",
       "      <th>host_response_time</th>\n",
       "      <th>host_response_rate</th>\n",
       "      <th>host_acceptance_rate</th>\n",
       "      <th>host_is_superhost</th>\n",
       "      <th>host_total_listings_count</th>\n",
       "      <th>neighbourhood_cleansed</th>\n",
       "      <th>room_type</th>\n",
       "      <th>accommodates</th>\n",
       "      <th>bathrooms</th>\n",
       "      <th>bedrooms</th>\n",
       "      <th>beds</th>\n",
       "      <th>amenities</th>\n",
       "      <th>price</th>\n",
       "      <th>minimum_nights</th>\n",
       "      <th>maximum_nights</th>\n",
       "    </tr>\n",
       "  </thead>\n",
       "  <tbody>\n",
       "    <tr>\n",
       "      <th>0</th>\n",
       "      <td>3109</td>\n",
       "      <td>3631</td>\n",
       "      <td>within a day</td>\n",
       "      <td>100%</td>\n",
       "      <td>80%</td>\n",
       "      <td>f</td>\n",
       "      <td>2.0</td>\n",
       "      <td>Observatoire</td>\n",
       "      <td>Entire home/apt</td>\n",
       "      <td>2</td>\n",
       "      <td>1.0</td>\n",
       "      <td>1.0</td>\n",
       "      <td>1.0</td>\n",
       "      <td>[\"Cooking basics\", \"Luggage dropoff allowed\", ...</td>\n",
       "      <td>$250.00</td>\n",
       "      <td>2</td>\n",
       "      <td>30</td>\n",
       "    </tr>\n",
       "    <tr>\n",
       "      <th>1</th>\n",
       "      <td>165409</td>\n",
       "      <td>788732</td>\n",
       "      <td>within a few hours</td>\n",
       "      <td>100%</td>\n",
       "      <td>96%</td>\n",
       "      <td>t</td>\n",
       "      <td>1.0</td>\n",
       "      <td>Temple</td>\n",
       "      <td>Entire home/apt</td>\n",
       "      <td>2</td>\n",
       "      <td>1.0</td>\n",
       "      <td>0.0</td>\n",
       "      <td>1.0</td>\n",
       "      <td>[\"Lockbox\", \"Wifi\", \"Kitchen\", \"Refrigerator\",...</td>\n",
       "      <td>$140.00</td>\n",
       "      <td>3</td>\n",
       "      <td>365</td>\n",
       "    </tr>\n",
       "    <tr>\n",
       "      <th>2</th>\n",
       "      <td>5396</td>\n",
       "      <td>7903</td>\n",
       "      <td>within an hour</td>\n",
       "      <td>100%</td>\n",
       "      <td>97%</td>\n",
       "      <td>f</td>\n",
       "      <td>3.0</td>\n",
       "      <td>Hôtel-de-Ville</td>\n",
       "      <td>Entire home/apt</td>\n",
       "      <td>2</td>\n",
       "      <td>1.0</td>\n",
       "      <td>0.0</td>\n",
       "      <td>1.0</td>\n",
       "      <td>[\"Cooking basics\", \"Long term stays allowed\", ...</td>\n",
       "      <td>$107.00</td>\n",
       "      <td>1</td>\n",
       "      <td>1125</td>\n",
       "    </tr>\n",
       "  </tbody>\n",
       "</table>\n",
       "</div>"
      ],
      "text/plain": [
       "       id  host_id  host_response_time host_response_rate  \\\n",
       "0    3109     3631        within a day               100%   \n",
       "1  165409   788732  within a few hours               100%   \n",
       "2    5396     7903      within an hour               100%   \n",
       "\n",
       "  host_acceptance_rate host_is_superhost  host_total_listings_count  \\\n",
       "0                  80%                 f                        2.0   \n",
       "1                  96%                 t                        1.0   \n",
       "2                  97%                 f                        3.0   \n",
       "\n",
       "  neighbourhood_cleansed        room_type  accommodates  bathrooms  bedrooms  \\\n",
       "0           Observatoire  Entire home/apt             2        1.0       1.0   \n",
       "1                 Temple  Entire home/apt             2        1.0       0.0   \n",
       "2         Hôtel-de-Ville  Entire home/apt             2        1.0       0.0   \n",
       "\n",
       "   beds                                          amenities    price  \\\n",
       "0   1.0  [\"Cooking basics\", \"Luggage dropoff allowed\", ...  $250.00   \n",
       "1   1.0  [\"Lockbox\", \"Wifi\", \"Kitchen\", \"Refrigerator\",...  $140.00   \n",
       "2   1.0  [\"Cooking basics\", \"Long term stays allowed\", ...  $107.00   \n",
       "\n",
       "   minimum_nights  maximum_nights  \n",
       "0               2              30  \n",
       "1               3             365  \n",
       "2               1            1125  "
      ]
     },
     "execution_count": 4,
     "metadata": {},
     "output_type": "execute_result"
    }
   ],
   "source": [
    "df_lodging = df[['id', 'host_id','host_response_time','host_response_rate','host_acceptance_rate','host_is_superhost',\n",
    "                 'host_total_listings_count','neighbourhood_cleansed','room_type','accommodates','bathrooms','bedrooms',\n",
    "                 'beds','amenities','price','minimum_nights','maximum_nights']]\n",
    "df_lodging.head(3)"
   ]
  },
  {
   "cell_type": "code",
   "execution_count": 5,
   "metadata": {},
   "outputs": [
    {
     "data": {
      "text/html": [
       "<div>\n",
       "<style scoped>\n",
       "    .dataframe tbody tr th:only-of-type {\n",
       "        vertical-align: middle;\n",
       "    }\n",
       "\n",
       "    .dataframe tbody tr th {\n",
       "        vertical-align: top;\n",
       "    }\n",
       "\n",
       "    .dataframe thead th {\n",
       "        text-align: right;\n",
       "    }\n",
       "</style>\n",
       "<table border=\"1\" class=\"dataframe\">\n",
       "  <thead>\n",
       "    <tr style=\"text-align: right;\">\n",
       "      <th></th>\n",
       "      <th>숙소_id</th>\n",
       "      <th>호스트_id</th>\n",
       "      <th>답변_평균시간</th>\n",
       "      <th>문의_응답률</th>\n",
       "      <th>예약_수락률</th>\n",
       "      <th>슈퍼호스트</th>\n",
       "      <th>숙소_수</th>\n",
       "      <th>숙소_지역</th>\n",
       "      <th>숙소_유형</th>\n",
       "      <th>수용인원수</th>\n",
       "      <th>욕실수</th>\n",
       "      <th>침실수</th>\n",
       "      <th>침대수</th>\n",
       "      <th>편의시설</th>\n",
       "      <th>숙소_가격</th>\n",
       "      <th>최소_숙박일</th>\n",
       "      <th>최대_숙박일</th>\n",
       "    </tr>\n",
       "  </thead>\n",
       "  <tbody>\n",
       "    <tr>\n",
       "      <th>0</th>\n",
       "      <td>3109</td>\n",
       "      <td>3631</td>\n",
       "      <td>within a day</td>\n",
       "      <td>100%</td>\n",
       "      <td>80%</td>\n",
       "      <td>f</td>\n",
       "      <td>2.0</td>\n",
       "      <td>Observatoire</td>\n",
       "      <td>Entire home/apt</td>\n",
       "      <td>2</td>\n",
       "      <td>1.0</td>\n",
       "      <td>1.0</td>\n",
       "      <td>1.0</td>\n",
       "      <td>[\"Cooking basics\", \"Luggage dropoff allowed\", ...</td>\n",
       "      <td>$250.00</td>\n",
       "      <td>2</td>\n",
       "      <td>30</td>\n",
       "    </tr>\n",
       "    <tr>\n",
       "      <th>1</th>\n",
       "      <td>165409</td>\n",
       "      <td>788732</td>\n",
       "      <td>within a few hours</td>\n",
       "      <td>100%</td>\n",
       "      <td>96%</td>\n",
       "      <td>t</td>\n",
       "      <td>1.0</td>\n",
       "      <td>Temple</td>\n",
       "      <td>Entire home/apt</td>\n",
       "      <td>2</td>\n",
       "      <td>1.0</td>\n",
       "      <td>0.0</td>\n",
       "      <td>1.0</td>\n",
       "      <td>[\"Lockbox\", \"Wifi\", \"Kitchen\", \"Refrigerator\",...</td>\n",
       "      <td>$140.00</td>\n",
       "      <td>3</td>\n",
       "      <td>365</td>\n",
       "    </tr>\n",
       "    <tr>\n",
       "      <th>2</th>\n",
       "      <td>5396</td>\n",
       "      <td>7903</td>\n",
       "      <td>within an hour</td>\n",
       "      <td>100%</td>\n",
       "      <td>97%</td>\n",
       "      <td>f</td>\n",
       "      <td>3.0</td>\n",
       "      <td>Hôtel-de-Ville</td>\n",
       "      <td>Entire home/apt</td>\n",
       "      <td>2</td>\n",
       "      <td>1.0</td>\n",
       "      <td>0.0</td>\n",
       "      <td>1.0</td>\n",
       "      <td>[\"Cooking basics\", \"Long term stays allowed\", ...</td>\n",
       "      <td>$107.00</td>\n",
       "      <td>1</td>\n",
       "      <td>1125</td>\n",
       "    </tr>\n",
       "  </tbody>\n",
       "</table>\n",
       "</div>"
      ],
      "text/plain": [
       "    숙소_id  호스트_id             답변_평균시간 문의_응답률 예약_수락률 슈퍼호스트  숙소_수  \\\n",
       "0    3109    3631        within a day   100%    80%     f   2.0   \n",
       "1  165409  788732  within a few hours   100%    96%     t   1.0   \n",
       "2    5396    7903      within an hour   100%    97%     f   3.0   \n",
       "\n",
       "            숙소_지역            숙소_유형  수용인원수  욕실수  침실수  침대수  \\\n",
       "0    Observatoire  Entire home/apt      2  1.0  1.0  1.0   \n",
       "1          Temple  Entire home/apt      2  1.0  0.0  1.0   \n",
       "2  Hôtel-de-Ville  Entire home/apt      2  1.0  0.0  1.0   \n",
       "\n",
       "                                                편의시설    숙소_가격  최소_숙박일  최대_숙박일  \n",
       "0  [\"Cooking basics\", \"Luggage dropoff allowed\", ...  $250.00       2      30  \n",
       "1  [\"Lockbox\", \"Wifi\", \"Kitchen\", \"Refrigerator\",...  $140.00       3     365  \n",
       "2  [\"Cooking basics\", \"Long term stays allowed\", ...  $107.00       1    1125  "
      ]
     },
     "execution_count": 5,
     "metadata": {},
     "output_type": "execute_result"
    }
   ],
   "source": [
    "# 컬럼명 변경\n",
    "\n",
    "df_lodging = df_lodging.rename(columns={\n",
    "    'id': '숙소_id',\n",
    "    'host_id': '호스트_id',\n",
    "    'host_response_time': '답변_평균시간',\n",
    "    'host_response_rate': '문의_응답률',\n",
    "    'host_acceptance_rate': '예약_수락률',\n",
    "    'host_is_superhost': '슈퍼호스트',\n",
    "    'host_total_listings_count': '숙소_수',\n",
    "    'neighbourhood_cleansed': '숙소_지역',\n",
    "    'room_type': '숙소_유형',\n",
    "    'accommodates': '수용인원수',\n",
    "    'bathrooms': '욕실수',\n",
    "    'bedrooms': '침실수',\n",
    "    'beds': '침대수',\n",
    "    'amenities': '편의시설',\n",
    "    'price': '숙소_가격',\n",
    "    'minimum_nights': '최소_숙박일',\n",
    "    'maximum_nights': '최대_숙박일'\n",
    "})\n",
    "\n",
    "df_lodging.head(3)\n"
   ]
  },
  {
   "cell_type": "code",
   "execution_count": 6,
   "metadata": {},
   "outputs": [
    {
     "data": {
      "text/plain": [
       "(84397, 17)"
      ]
     },
     "execution_count": 6,
     "metadata": {},
     "output_type": "execute_result"
    }
   ],
   "source": [
    "df_lodging.shape"
   ]
  },
  {
   "cell_type": "markdown",
   "metadata": {},
   "source": [
    "리뷰 테이블 만들기"
   ]
  },
  {
   "cell_type": "code",
   "execution_count": 7,
   "metadata": {},
   "outputs": [
    {
     "data": {
      "text/html": [
       "<div>\n",
       "<style scoped>\n",
       "    .dataframe tbody tr th:only-of-type {\n",
       "        vertical-align: middle;\n",
       "    }\n",
       "\n",
       "    .dataframe tbody tr th {\n",
       "        vertical-align: top;\n",
       "    }\n",
       "\n",
       "    .dataframe thead th {\n",
       "        text-align: right;\n",
       "    }\n",
       "</style>\n",
       "<table border=\"1\" class=\"dataframe\">\n",
       "  <thead>\n",
       "    <tr style=\"text-align: right;\">\n",
       "      <th></th>\n",
       "      <th>number_of_reviews</th>\n",
       "      <th>number_of_reviews_l30d</th>\n",
       "      <th>review_scores_rating</th>\n",
       "      <th>review_scores_accuracy</th>\n",
       "      <th>review_scores_cleanliness</th>\n",
       "      <th>review_scores_checkin</th>\n",
       "      <th>review_scores_communication</th>\n",
       "      <th>review_scores_location</th>\n",
       "      <th>review_scores_value</th>\n",
       "      <th>reviews_per_month</th>\n",
       "    </tr>\n",
       "  </thead>\n",
       "  <tbody>\n",
       "    <tr>\n",
       "      <th>0</th>\n",
       "      <td>4</td>\n",
       "      <td>0</td>\n",
       "      <td>5.00</td>\n",
       "      <td>5.00</td>\n",
       "      <td>5.00</td>\n",
       "      <td>5.00</td>\n",
       "      <td>5.00</td>\n",
       "      <td>5.00</td>\n",
       "      <td>5.00</td>\n",
       "      <td>0.05</td>\n",
       "    </tr>\n",
       "    <tr>\n",
       "      <th>1</th>\n",
       "      <td>106</td>\n",
       "      <td>0</td>\n",
       "      <td>4.68</td>\n",
       "      <td>4.72</td>\n",
       "      <td>4.59</td>\n",
       "      <td>4.87</td>\n",
       "      <td>4.89</td>\n",
       "      <td>4.95</td>\n",
       "      <td>4.74</td>\n",
       "      <td>0.69</td>\n",
       "    </tr>\n",
       "    <tr>\n",
       "      <th>2</th>\n",
       "      <td>393</td>\n",
       "      <td>5</td>\n",
       "      <td>4.60</td>\n",
       "      <td>4.63</td>\n",
       "      <td>4.57</td>\n",
       "      <td>4.81</td>\n",
       "      <td>4.84</td>\n",
       "      <td>4.96</td>\n",
       "      <td>4.58</td>\n",
       "      <td>2.19</td>\n",
       "    </tr>\n",
       "  </tbody>\n",
       "</table>\n",
       "</div>"
      ],
      "text/plain": [
       "   number_of_reviews  number_of_reviews_l30d  review_scores_rating  \\\n",
       "0                  4                       0                  5.00   \n",
       "1                106                       0                  4.68   \n",
       "2                393                       5                  4.60   \n",
       "\n",
       "   review_scores_accuracy  review_scores_cleanliness  review_scores_checkin  \\\n",
       "0                    5.00                       5.00                   5.00   \n",
       "1                    4.72                       4.59                   4.87   \n",
       "2                    4.63                       4.57                   4.81   \n",
       "\n",
       "   review_scores_communication  review_scores_location  review_scores_value  \\\n",
       "0                         5.00                    5.00                 5.00   \n",
       "1                         4.89                    4.95                 4.74   \n",
       "2                         4.84                    4.96                 4.58   \n",
       "\n",
       "   reviews_per_month  \n",
       "0               0.05  \n",
       "1               0.69  \n",
       "2               2.19  "
      ]
     },
     "execution_count": 7,
     "metadata": {},
     "output_type": "execute_result"
    }
   ],
   "source": [
    "df_review = df[['number_of_reviews', 'number_of_reviews_l30d', 'review_scores_rating', 'review_scores_accuracy', \n",
    "                'review_scores_cleanliness', 'review_scores_checkin', 'review_scores_communication', \n",
    "                'review_scores_location', 'review_scores_value', 'reviews_per_month']]\n",
    "df_review.head(3)\n"
   ]
  },
  {
   "cell_type": "code",
   "execution_count": 8,
   "metadata": {},
   "outputs": [
    {
     "data": {
      "text/html": [
       "<div>\n",
       "<style scoped>\n",
       "    .dataframe tbody tr th:only-of-type {\n",
       "        vertical-align: middle;\n",
       "    }\n",
       "\n",
       "    .dataframe tbody tr th {\n",
       "        vertical-align: top;\n",
       "    }\n",
       "\n",
       "    .dataframe thead th {\n",
       "        text-align: right;\n",
       "    }\n",
       "</style>\n",
       "<table border=\"1\" class=\"dataframe\">\n",
       "  <thead>\n",
       "    <tr style=\"text-align: right;\">\n",
       "      <th></th>\n",
       "      <th>리뷰수</th>\n",
       "      <th>30일_리뷰수</th>\n",
       "      <th>리뷰점수</th>\n",
       "      <th>숙소_정확성_리뷰점수</th>\n",
       "      <th>숙소_청결도_리뷰점수</th>\n",
       "      <th>숙소_체크인_리뷰점수</th>\n",
       "      <th>숙소_소통_리뷰점수</th>\n",
       "      <th>숙소_위치_리뷰점수</th>\n",
       "      <th>숙소_가격_리뷰점수</th>\n",
       "      <th>평균_리뷰수</th>\n",
       "    </tr>\n",
       "  </thead>\n",
       "  <tbody>\n",
       "    <tr>\n",
       "      <th>0</th>\n",
       "      <td>4</td>\n",
       "      <td>0</td>\n",
       "      <td>5.00</td>\n",
       "      <td>5.00</td>\n",
       "      <td>5.00</td>\n",
       "      <td>5.00</td>\n",
       "      <td>5.00</td>\n",
       "      <td>5.00</td>\n",
       "      <td>5.00</td>\n",
       "      <td>0.05</td>\n",
       "    </tr>\n",
       "    <tr>\n",
       "      <th>1</th>\n",
       "      <td>106</td>\n",
       "      <td>0</td>\n",
       "      <td>4.68</td>\n",
       "      <td>4.72</td>\n",
       "      <td>4.59</td>\n",
       "      <td>4.87</td>\n",
       "      <td>4.89</td>\n",
       "      <td>4.95</td>\n",
       "      <td>4.74</td>\n",
       "      <td>0.69</td>\n",
       "    </tr>\n",
       "    <tr>\n",
       "      <th>2</th>\n",
       "      <td>393</td>\n",
       "      <td>5</td>\n",
       "      <td>4.60</td>\n",
       "      <td>4.63</td>\n",
       "      <td>4.57</td>\n",
       "      <td>4.81</td>\n",
       "      <td>4.84</td>\n",
       "      <td>4.96</td>\n",
       "      <td>4.58</td>\n",
       "      <td>2.19</td>\n",
       "    </tr>\n",
       "    <tr>\n",
       "      <th>3</th>\n",
       "      <td>78</td>\n",
       "      <td>0</td>\n",
       "      <td>4.56</td>\n",
       "      <td>4.74</td>\n",
       "      <td>4.37</td>\n",
       "      <td>4.82</td>\n",
       "      <td>4.79</td>\n",
       "      <td>4.65</td>\n",
       "      <td>4.48</td>\n",
       "      <td>0.51</td>\n",
       "    </tr>\n",
       "    <tr>\n",
       "      <th>4</th>\n",
       "      <td>126</td>\n",
       "      <td>3</td>\n",
       "      <td>4.86</td>\n",
       "      <td>4.93</td>\n",
       "      <td>4.82</td>\n",
       "      <td>4.96</td>\n",
       "      <td>4.97</td>\n",
       "      <td>4.94</td>\n",
       "      <td>4.82</td>\n",
       "      <td>0.99</td>\n",
       "    </tr>\n",
       "  </tbody>\n",
       "</table>\n",
       "</div>"
      ],
      "text/plain": [
       "   리뷰수  30일_리뷰수  리뷰점수  숙소_정확성_리뷰점수  숙소_청결도_리뷰점수  숙소_체크인_리뷰점수  숙소_소통_리뷰점수  \\\n",
       "0    4        0  5.00         5.00         5.00         5.00        5.00   \n",
       "1  106        0  4.68         4.72         4.59         4.87        4.89   \n",
       "2  393        5  4.60         4.63         4.57         4.81        4.84   \n",
       "3   78        0  4.56         4.74         4.37         4.82        4.79   \n",
       "4  126        3  4.86         4.93         4.82         4.96        4.97   \n",
       "\n",
       "   숙소_위치_리뷰점수  숙소_가격_리뷰점수  평균_리뷰수  \n",
       "0        5.00        5.00    0.05  \n",
       "1        4.95        4.74    0.69  \n",
       "2        4.96        4.58    2.19  \n",
       "3        4.65        4.48    0.51  \n",
       "4        4.94        4.82    0.99  "
      ]
     },
     "execution_count": 8,
     "metadata": {},
     "output_type": "execute_result"
    }
   ],
   "source": [
    "# 컬럼명 변경\n",
    "df_review = df_review.rename(columns={\n",
    "    'number_of_reviews': '리뷰수',\n",
    "    'number_of_reviews_l30d': '30일_리뷰수',\n",
    "    'review_scores_rating': '리뷰점수',\n",
    "    'review_scores_accuracy': '숙소_정확성_리뷰점수',\n",
    "    'review_scores_cleanliness': '숙소_청결도_리뷰점수',\n",
    "    'review_scores_checkin': '숙소_체크인_리뷰점수',\n",
    "    'review_scores_communication': '숙소_소통_리뷰점수',\n",
    "    'review_scores_location': '숙소_위치_리뷰점수',\n",
    "    'review_scores_value': '숙소_가격_리뷰점수',\n",
    "    'reviews_per_month': '평균_리뷰수'\n",
    "})\n",
    "df_review.head()\n"
   ]
  },
  {
   "cell_type": "code",
   "execution_count": 9,
   "metadata": {},
   "outputs": [
    {
     "data": {
      "text/plain": [
       "(84397, 10)"
      ]
     },
     "execution_count": 9,
     "metadata": {},
     "output_type": "execute_result"
    }
   ],
   "source": [
    "df_review.shape"
   ]
  },
  {
   "cell_type": "markdown",
   "metadata": {},
   "source": [
    "보류 검증용 컬럼 테이블"
   ]
  },
  {
   "cell_type": "code",
   "execution_count": 10,
   "metadata": {},
   "outputs": [
    {
     "data": {
      "text/html": [
       "<div>\n",
       "<style scoped>\n",
       "    .dataframe tbody tr th:only-of-type {\n",
       "        vertical-align: middle;\n",
       "    }\n",
       "\n",
       "    .dataframe tbody tr th {\n",
       "        vertical-align: top;\n",
       "    }\n",
       "\n",
       "    .dataframe thead th {\n",
       "        text-align: right;\n",
       "    }\n",
       "</style>\n",
       "<table border=\"1\" class=\"dataframe\">\n",
       "  <thead>\n",
       "    <tr style=\"text-align: right;\">\n",
       "      <th></th>\n",
       "      <th>listing_url</th>\n",
       "      <th>description</th>\n",
       "      <th>host_has_profile_pic</th>\n",
       "      <th>host_identity_verified</th>\n",
       "      <th>latitude</th>\n",
       "      <th>longitude</th>\n",
       "      <th>has_availability</th>\n",
       "    </tr>\n",
       "  </thead>\n",
       "  <tbody>\n",
       "    <tr>\n",
       "      <th>0</th>\n",
       "      <td>https://www.airbnb.com/rooms/3109</td>\n",
       "      <td>Lovely Appartment with one bedroom with a Quee...</td>\n",
       "      <td>t</td>\n",
       "      <td>f</td>\n",
       "      <td>48.83191</td>\n",
       "      <td>2.31870</td>\n",
       "      <td>t</td>\n",
       "    </tr>\n",
       "    <tr>\n",
       "      <th>1</th>\n",
       "      <td>https://www.airbnb.com/rooms/165409</td>\n",
       "      <td>You'll love this typical parisian flat.</td>\n",
       "      <td>t</td>\n",
       "      <td>t</td>\n",
       "      <td>48.86652</td>\n",
       "      <td>2.36261</td>\n",
       "      <td>t</td>\n",
       "    </tr>\n",
       "    <tr>\n",
       "      <th>2</th>\n",
       "      <td>https://www.airbnb.com/rooms/5396</td>\n",
       "      <td>NEW SOFA-BED SINCE JUNE 2023, Please disregard...</td>\n",
       "      <td>t</td>\n",
       "      <td>t</td>\n",
       "      <td>48.85247</td>\n",
       "      <td>2.35835</td>\n",
       "      <td>t</td>\n",
       "    </tr>\n",
       "    <tr>\n",
       "      <th>3</th>\n",
       "      <td>https://www.airbnb.com/rooms/166370</td>\n",
       "      <td>2 Bedrooms apartment for up to 4 people, with ...</td>\n",
       "      <td>t</td>\n",
       "      <td>t</td>\n",
       "      <td>48.87623</td>\n",
       "      <td>2.36869</td>\n",
       "      <td>t</td>\n",
       "    </tr>\n",
       "    <tr>\n",
       "      <th>4</th>\n",
       "      <td>https://www.airbnb.com/rooms/39948</td>\n",
       "      <td>Large newly-renovated guest room in central Pa...</td>\n",
       "      <td>t</td>\n",
       "      <td>t</td>\n",
       "      <td>48.87068</td>\n",
       "      <td>2.34460</td>\n",
       "      <td>t</td>\n",
       "    </tr>\n",
       "  </tbody>\n",
       "</table>\n",
       "</div>"
      ],
      "text/plain": [
       "                           listing_url  \\\n",
       "0    https://www.airbnb.com/rooms/3109   \n",
       "1  https://www.airbnb.com/rooms/165409   \n",
       "2    https://www.airbnb.com/rooms/5396   \n",
       "3  https://www.airbnb.com/rooms/166370   \n",
       "4   https://www.airbnb.com/rooms/39948   \n",
       "\n",
       "                                         description host_has_profile_pic  \\\n",
       "0  Lovely Appartment with one bedroom with a Quee...                    t   \n",
       "1            You'll love this typical parisian flat.                    t   \n",
       "2  NEW SOFA-BED SINCE JUNE 2023, Please disregard...                    t   \n",
       "3  2 Bedrooms apartment for up to 4 people, with ...                    t   \n",
       "4  Large newly-renovated guest room in central Pa...                    t   \n",
       "\n",
       "  host_identity_verified  latitude  longitude has_availability  \n",
       "0                      f  48.83191    2.31870                t  \n",
       "1                      t  48.86652    2.36261                t  \n",
       "2                      t  48.85247    2.35835                t  \n",
       "3                      t  48.87623    2.36869                t  \n",
       "4                      t  48.87068    2.34460                t  "
      ]
     },
     "execution_count": 10,
     "metadata": {},
     "output_type": "execute_result"
    }
   ],
   "source": [
    "df_check = df[['listing_url', 'description', 'host_has_profile_pic', 'host_identity_verified', 'latitude', \n",
    "              'longitude', 'has_availability']]\n",
    "df_check.head()\n"
   ]
  },
  {
   "cell_type": "code",
   "execution_count": 11,
   "metadata": {},
   "outputs": [
    {
     "data": {
      "text/html": [
       "<div>\n",
       "<style scoped>\n",
       "    .dataframe tbody tr th:only-of-type {\n",
       "        vertical-align: middle;\n",
       "    }\n",
       "\n",
       "    .dataframe tbody tr th {\n",
       "        vertical-align: top;\n",
       "    }\n",
       "\n",
       "    .dataframe thead th {\n",
       "        text-align: right;\n",
       "    }\n",
       "</style>\n",
       "<table border=\"1\" class=\"dataframe\">\n",
       "  <thead>\n",
       "    <tr style=\"text-align: right;\">\n",
       "      <th></th>\n",
       "      <th>숙소_url</th>\n",
       "      <th>숙소_상세설명</th>\n",
       "      <th>프로필사진_소지_여부</th>\n",
       "      <th>신원_검증_여부</th>\n",
       "      <th>위도</th>\n",
       "      <th>경도</th>\n",
       "      <th>숙소_예약가능_여부</th>\n",
       "    </tr>\n",
       "  </thead>\n",
       "  <tbody>\n",
       "    <tr>\n",
       "      <th>0</th>\n",
       "      <td>https://www.airbnb.com/rooms/3109</td>\n",
       "      <td>Lovely Appartment with one bedroom with a Quee...</td>\n",
       "      <td>t</td>\n",
       "      <td>f</td>\n",
       "      <td>48.83191</td>\n",
       "      <td>2.31870</td>\n",
       "      <td>t</td>\n",
       "    </tr>\n",
       "    <tr>\n",
       "      <th>1</th>\n",
       "      <td>https://www.airbnb.com/rooms/165409</td>\n",
       "      <td>You'll love this typical parisian flat.</td>\n",
       "      <td>t</td>\n",
       "      <td>t</td>\n",
       "      <td>48.86652</td>\n",
       "      <td>2.36261</td>\n",
       "      <td>t</td>\n",
       "    </tr>\n",
       "    <tr>\n",
       "      <th>2</th>\n",
       "      <td>https://www.airbnb.com/rooms/5396</td>\n",
       "      <td>NEW SOFA-BED SINCE JUNE 2023, Please disregard...</td>\n",
       "      <td>t</td>\n",
       "      <td>t</td>\n",
       "      <td>48.85247</td>\n",
       "      <td>2.35835</td>\n",
       "      <td>t</td>\n",
       "    </tr>\n",
       "    <tr>\n",
       "      <th>3</th>\n",
       "      <td>https://www.airbnb.com/rooms/166370</td>\n",
       "      <td>2 Bedrooms apartment for up to 4 people, with ...</td>\n",
       "      <td>t</td>\n",
       "      <td>t</td>\n",
       "      <td>48.87623</td>\n",
       "      <td>2.36869</td>\n",
       "      <td>t</td>\n",
       "    </tr>\n",
       "    <tr>\n",
       "      <th>4</th>\n",
       "      <td>https://www.airbnb.com/rooms/39948</td>\n",
       "      <td>Large newly-renovated guest room in central Pa...</td>\n",
       "      <td>t</td>\n",
       "      <td>t</td>\n",
       "      <td>48.87068</td>\n",
       "      <td>2.34460</td>\n",
       "      <td>t</td>\n",
       "    </tr>\n",
       "  </tbody>\n",
       "</table>\n",
       "</div>"
      ],
      "text/plain": [
       "                                숙소_url  \\\n",
       "0    https://www.airbnb.com/rooms/3109   \n",
       "1  https://www.airbnb.com/rooms/165409   \n",
       "2    https://www.airbnb.com/rooms/5396   \n",
       "3  https://www.airbnb.com/rooms/166370   \n",
       "4   https://www.airbnb.com/rooms/39948   \n",
       "\n",
       "                                             숙소_상세설명 프로필사진_소지_여부 신원_검증_여부  \\\n",
       "0  Lovely Appartment with one bedroom with a Quee...           t        f   \n",
       "1            You'll love this typical parisian flat.           t        t   \n",
       "2  NEW SOFA-BED SINCE JUNE 2023, Please disregard...           t        t   \n",
       "3  2 Bedrooms apartment for up to 4 people, with ...           t        t   \n",
       "4  Large newly-renovated guest room in central Pa...           t        t   \n",
       "\n",
       "         위도       경도 숙소_예약가능_여부  \n",
       "0  48.83191  2.31870          t  \n",
       "1  48.86652  2.36261          t  \n",
       "2  48.85247  2.35835          t  \n",
       "3  48.87623  2.36869          t  \n",
       "4  48.87068  2.34460          t  "
      ]
     },
     "execution_count": 11,
     "metadata": {},
     "output_type": "execute_result"
    }
   ],
   "source": [
    "# 컬럼명 변경 \n",
    "df_check = df_check.rename(columns={\n",
    "    'listing_url': '숙소_url',\n",
    "    'description': '숙소_상세설명',\n",
    "    'host_has_profile_pic': '프로필사진_소지_여부',\n",
    "    'host_identity_verified': '신원_검증_여부',\n",
    "    'latitude': '위도',\n",
    "    'longitude': '경도',\n",
    "    'has_availability': '숙소_예약가능_여부'\n",
    "})\n",
    "df_check.head()"
   ]
  },
  {
   "cell_type": "markdown",
   "metadata": {},
   "source": [
    "각 테이블의 정보 확인"
   ]
  },
  {
   "cell_type": "code",
   "execution_count": 12,
   "metadata": {},
   "outputs": [
    {
     "name": "stdout",
     "output_type": "stream",
     "text": [
      "<class 'pandas.core.frame.DataFrame'>\n",
      "RangeIndex: 84397 entries, 0 to 84396\n",
      "Data columns (total 17 columns):\n",
      " #   Column   Non-Null Count  Dtype  \n",
      "---  ------   --------------  -----  \n",
      " 0   숙소_id    84397 non-null  int64  \n",
      " 1   호스트_id   84397 non-null  int64  \n",
      " 2   답변_평균시간  48310 non-null  object \n",
      " 3   문의_응답률   48310 non-null  object \n",
      " 4   예약_수락률   56521 non-null  object \n",
      " 5   슈퍼호스트    84306 non-null  object \n",
      " 6   숙소_수     84390 non-null  float64\n",
      " 7   숙소_지역    84397 non-null  object \n",
      " 8   숙소_유형    84397 non-null  object \n",
      " 9   수용인원수    84397 non-null  int64  \n",
      " 10  욕실수      60959 non-null  float64\n",
      " 11  침실수      77480 non-null  float64\n",
      " 12  침대수      60828 non-null  float64\n",
      " 13  편의시설     84397 non-null  object \n",
      " 14  숙소_가격    60917 non-null  object \n",
      " 15  최소_숙박일   84397 non-null  int64  \n",
      " 16  최대_숙박일   84397 non-null  int64  \n",
      "dtypes: float64(4), int64(5), object(8)\n",
      "memory usage: 10.9+ MB\n"
     ]
    }
   ],
   "source": [
    "# 숙소 테이블 정보 확인\n",
    "df_lodging.info()"
   ]
  },
  {
   "cell_type": "code",
   "execution_count": 13,
   "metadata": {},
   "outputs": [
    {
     "data": {
      "text/plain": [
       "array(['Entire home/apt', 'Private room', 'Shared room', 'Hotel room'],\n",
       "      dtype=object)"
      ]
     },
     "execution_count": 13,
     "metadata": {},
     "output_type": "execute_result"
    }
   ],
   "source": [
    "df_lodging['숙소_유형'].unique()"
   ]
  },
  {
   "cell_type": "code",
   "execution_count": 14,
   "metadata": {},
   "outputs": [
    {
     "data": {
      "text/plain": [
       "array(['Observatoire', 'Temple', 'Hôtel-de-Ville', 'Entrepôt', 'Bourse',\n",
       "       'Popincourt', 'Louvre', 'Buttes-Montmartre', 'Buttes-Chaumont',\n",
       "       'Opéra', 'Batignolles-Monceau', 'Passy', 'Élysée', 'Vaugirard',\n",
       "       'Ménilmontant', 'Panthéon', 'Gobelins', 'Reuilly', 'Luxembourg',\n",
       "       'Palais-Bourbon'], dtype=object)"
      ]
     },
     "execution_count": 14,
     "metadata": {},
     "output_type": "execute_result"
    }
   ],
   "source": [
    "df_lodging['숙소_지역'].unique()"
   ]
  },
  {
   "cell_type": "code",
   "execution_count": 15,
   "metadata": {},
   "outputs": [
    {
     "data": {
      "text/plain": [
       "20"
      ]
     },
     "execution_count": 15,
     "metadata": {},
     "output_type": "execute_result"
    }
   ],
   "source": [
    "df_lodging['숙소_지역'].nunique()"
   ]
  },
  {
   "cell_type": "code",
   "execution_count": 16,
   "metadata": {},
   "outputs": [
    {
     "data": {
      "text/plain": [
       "숙소_id          0\n",
       "호스트_id         0\n",
       "답변_평균시간    36087\n",
       "문의_응답률     36087\n",
       "예약_수락률     27876\n",
       "슈퍼호스트         91\n",
       "숙소_수           7\n",
       "숙소_지역          0\n",
       "숙소_유형          0\n",
       "수용인원수          0\n",
       "욕실수        23438\n",
       "침실수         6917\n",
       "침대수        23569\n",
       "편의시설           0\n",
       "숙소_가격      23480\n",
       "최소_숙박일         0\n",
       "최대_숙박일         0\n",
       "dtype: int64"
      ]
     },
     "execution_count": 16,
     "metadata": {},
     "output_type": "execute_result"
    }
   ],
   "source": [
    "# 결측치 개수 확인\n",
    "df_lodging.isnull().sum()"
   ]
  },
  {
   "cell_type": "code",
   "execution_count": 17,
   "metadata": {},
   "outputs": [
    {
     "name": "stdout",
     "output_type": "stream",
     "text": [
      "<class 'pandas.core.frame.DataFrame'>\n",
      "RangeIndex: 84397 entries, 0 to 84396\n",
      "Data columns (total 10 columns):\n",
      " #   Column       Non-Null Count  Dtype  \n",
      "---  ------       --------------  -----  \n",
      " 0   리뷰수          84397 non-null  int64  \n",
      " 1   30일_리뷰수      84397 non-null  int64  \n",
      " 2   리뷰점수         58827 non-null  float64\n",
      " 3   숙소_정확성_리뷰점수  58793 non-null  float64\n",
      " 4   숙소_청결도_리뷰점수  58797 non-null  float64\n",
      " 5   숙소_체크인_리뷰점수  58784 non-null  float64\n",
      " 6   숙소_소통_리뷰점수   58795 non-null  float64\n",
      " 7   숙소_위치_리뷰점수   58787 non-null  float64\n",
      " 8   숙소_가격_리뷰점수   58782 non-null  float64\n",
      " 9   평균_리뷰수       58822 non-null  float64\n",
      "dtypes: float64(8), int64(2)\n",
      "memory usage: 6.4 MB\n"
     ]
    }
   ],
   "source": [
    "# 리뷰 태이블 확인\n",
    "df_review.info()"
   ]
  },
  {
   "cell_type": "code",
   "execution_count": 18,
   "metadata": {},
   "outputs": [
    {
     "data": {
      "text/plain": [
       "리뷰수                0\n",
       "30일_리뷰수            0\n",
       "리뷰점수           25570\n",
       "숙소_정확성_리뷰점수    25604\n",
       "숙소_청결도_리뷰점수    25600\n",
       "숙소_체크인_리뷰점수    25613\n",
       "숙소_소통_리뷰점수     25602\n",
       "숙소_위치_리뷰점수     25610\n",
       "숙소_가격_리뷰점수     25615\n",
       "평균_리뷰수         25575\n",
       "dtype: int64"
      ]
     },
     "execution_count": 18,
     "metadata": {},
     "output_type": "execute_result"
    }
   ],
   "source": [
    "# 결측치 개수 확인\n",
    "df_review.isnull().sum()"
   ]
  },
  {
   "cell_type": "code",
   "execution_count": 19,
   "metadata": {},
   "outputs": [
    {
     "data": {
      "text/plain": [
       "숙소_id          0\n",
       "호스트_id         0\n",
       "답변_평균시간    36087\n",
       "문의_응답률     36087\n",
       "예약_수락률     27876\n",
       "슈퍼호스트         91\n",
       "숙소_수           7\n",
       "숙소_지역          0\n",
       "숙소_유형          0\n",
       "수용인원수          0\n",
       "욕실수        23438\n",
       "침실수         6917\n",
       "침대수        23569\n",
       "편의시설           0\n",
       "숙소_가격      23480\n",
       "최소_숙박일         0\n",
       "최대_숙박일         0\n",
       "dtype: int64"
      ]
     },
     "execution_count": 19,
     "metadata": {},
     "output_type": "execute_result"
    }
   ],
   "source": [
    "# 숙소 테이블 결측치 처리를 위한 각 속성 확인\n",
    "df_lodging.isnull().sum()"
   ]
  },
  {
   "cell_type": "code",
   "execution_count": 20,
   "metadata": {},
   "outputs": [
    {
     "data": {
      "text/plain": [
       "array(['within a day', 'within a few hours', 'within an hour', nan,\n",
       "       'a few days or more'], dtype=object)"
      ]
     },
     "execution_count": 20,
     "metadata": {},
     "output_type": "execute_result"
    }
   ],
   "source": [
    "# 답변_평균시간부터 처리\n",
    "df_lodging['답변_평균시간'].unique()"
   ]
  },
  {
   "cell_type": "code",
   "execution_count": 21,
   "metadata": {},
   "outputs": [],
   "source": [
    "# 범주형으로 변환\n",
    "df_lodging['답변_평균시간'] = df_lodging['답변_평균시간'].astype('category')"
   ]
  },
  {
   "cell_type": "code",
   "execution_count": 22,
   "metadata": {},
   "outputs": [
    {
     "data": {
      "text/plain": [
       "답변_평균시간\n",
       "within an hour        29746\n",
       "within a few hours     9554\n",
       "within a day           7087\n",
       "a few days or more     1923\n",
       "Name: count, dtype: int64"
      ]
     },
     "execution_count": 22,
     "metadata": {},
     "output_type": "execute_result"
    }
   ],
   "source": [
    "df_lodging['답변_평균시간'].value_counts()"
   ]
  },
  {
   "cell_type": "code",
   "execution_count": 23,
   "metadata": {},
   "outputs": [
    {
     "data": {
      "text/plain": [
       "array(['100%', nan, '50%', '93%', '75%', '70%', '86%', '90%', '80%', '0%',\n",
       "       '39%', '91%', '33%', '98%', '71%', '67%', '25%', '99%', '72%',\n",
       "       '40%', '83%', '92%', '85%', '57%', '95%', '77%', '62%', '89%',\n",
       "       '63%', '84%', '13%', '78%', '43%', '14%', '82%', '88%', '96%',\n",
       "       '60%', '87%', '11%', '20%', '94%', '44%', '97%', '69%', '30%',\n",
       "       '29%', '81%', '55%', '64%', '79%', '56%', '17%', '18%', '10%',\n",
       "       '22%', '38%', '8%', '73%', '3%', '31%', '23%', '6%', '52%', '19%',\n",
       "       '36%', '58%', '54%', '47%', '4%', '68%', '61%', '59%', '65%',\n",
       "       '21%', '27%', '76%', '7%', '35%', '53%', '51%', '9%', '15%', '34%',\n",
       "       '46%', '37%', '16%', '26%', '42%', '12%', '5%', '28%', '45%',\n",
       "       '49%', '48%', '74%', '2%'], dtype=object)"
      ]
     },
     "execution_count": 23,
     "metadata": {},
     "output_type": "execute_result"
    }
   ],
   "source": [
    "# 문의_응답률 처리\n",
    "df_lodging['문의_응답률'].unique()"
   ]
  },
  {
   "cell_type": "code",
   "execution_count": 24,
   "metadata": {},
   "outputs": [
    {
     "data": {
      "text/plain": [
       "문의_응답률\n",
       "100%    37075\n",
       "90%      1197\n",
       "0%       1176\n",
       "98%      1136\n",
       "99%       669\n",
       "        ...  \n",
       "52%         1\n",
       "49%         1\n",
       "48%         1\n",
       "74%         1\n",
       "2%          1\n",
       "Name: count, Length: 96, dtype: int64"
      ]
     },
     "execution_count": 24,
     "metadata": {},
     "output_type": "execute_result"
    }
   ],
   "source": [
    "df_lodging['문의_응답률'].value_counts()"
   ]
  },
  {
   "cell_type": "code",
   "execution_count": 25,
   "metadata": {},
   "outputs": [
    {
     "data": {
      "text/plain": [
       "0    100\n",
       "1    100\n",
       "2    100\n",
       "3    NaN\n",
       "4    100\n",
       "Name: 문의_응답률, dtype: object"
      ]
     },
     "execution_count": 25,
     "metadata": {},
     "output_type": "execute_result"
    }
   ],
   "source": [
    "df_lodging['문의_응답률'] = df_lodging['문의_응답률'].str.rstrip('%')\n",
    "df_lodging['문의_응답률'].head()"
   ]
  },
  {
   "cell_type": "code",
   "execution_count": 26,
   "metadata": {},
   "outputs": [
    {
     "data": {
      "text/plain": [
       "36087"
      ]
     },
     "execution_count": 26,
     "metadata": {},
     "output_type": "execute_result"
    }
   ],
   "source": [
    "df_lodging['문의_응답률'].isnull().sum()"
   ]
  },
  {
   "cell_type": "markdown",
   "metadata": {},
   "source": [
    "왜 널값일까?\n",
    "-> null 값인 숙소 들어가서 응답률이 있는 곳과 비교해보기"
   ]
  },
  {
   "cell_type": "code",
   "execution_count": 27,
   "metadata": {},
   "outputs": [
    {
     "data": {
      "text/html": [
       "<div>\n",
       "<style scoped>\n",
       "    .dataframe tbody tr th:only-of-type {\n",
       "        vertical-align: middle;\n",
       "    }\n",
       "\n",
       "    .dataframe tbody tr th {\n",
       "        vertical-align: top;\n",
       "    }\n",
       "\n",
       "    .dataframe thead th {\n",
       "        text-align: right;\n",
       "    }\n",
       "</style>\n",
       "<table border=\"1\" class=\"dataframe\">\n",
       "  <thead>\n",
       "    <tr style=\"text-align: right;\">\n",
       "      <th></th>\n",
       "      <th>listing_url</th>\n",
       "      <th>host_response_rate</th>\n",
       "    </tr>\n",
       "  </thead>\n",
       "  <tbody>\n",
       "    <tr>\n",
       "      <th>3</th>\n",
       "      <td>https://www.airbnb.com/rooms/166370</td>\n",
       "      <td>NaN</td>\n",
       "    </tr>\n",
       "    <tr>\n",
       "      <th>5</th>\n",
       "      <td>https://www.airbnb.com/rooms/40143</td>\n",
       "      <td>NaN</td>\n",
       "    </tr>\n",
       "    <tr>\n",
       "      <th>13</th>\n",
       "      <td>https://www.airbnb.com/rooms/43027</td>\n",
       "      <td>NaN</td>\n",
       "    </tr>\n",
       "    <tr>\n",
       "      <th>19</th>\n",
       "      <td>https://www.airbnb.com/rooms/9359</td>\n",
       "      <td>NaN</td>\n",
       "    </tr>\n",
       "    <tr>\n",
       "      <th>20</th>\n",
       "      <td>https://www.airbnb.com/rooms/178188</td>\n",
       "      <td>NaN</td>\n",
       "    </tr>\n",
       "    <tr>\n",
       "      <th>...</th>\n",
       "      <td>...</td>\n",
       "      <td>...</td>\n",
       "    </tr>\n",
       "    <tr>\n",
       "      <th>84380</th>\n",
       "      <td>https://www.airbnb.com/rooms/1112105752085360103</td>\n",
       "      <td>NaN</td>\n",
       "    </tr>\n",
       "    <tr>\n",
       "      <th>84383</th>\n",
       "      <td>https://www.airbnb.com/rooms/1112438676006448898</td>\n",
       "      <td>NaN</td>\n",
       "    </tr>\n",
       "    <tr>\n",
       "      <th>84385</th>\n",
       "      <td>https://www.airbnb.com/rooms/1112455883531799711</td>\n",
       "      <td>NaN</td>\n",
       "    </tr>\n",
       "    <tr>\n",
       "      <th>84390</th>\n",
       "      <td>https://www.airbnb.com/rooms/1112487387667998646</td>\n",
       "      <td>NaN</td>\n",
       "    </tr>\n",
       "    <tr>\n",
       "      <th>84395</th>\n",
       "      <td>https://www.airbnb.com/rooms/1112843324939236177</td>\n",
       "      <td>NaN</td>\n",
       "    </tr>\n",
       "  </tbody>\n",
       "</table>\n",
       "<p>36087 rows × 2 columns</p>\n",
       "</div>"
      ],
      "text/plain": [
       "                                            listing_url host_response_rate\n",
       "3                   https://www.airbnb.com/rooms/166370                NaN\n",
       "5                    https://www.airbnb.com/rooms/40143                NaN\n",
       "13                   https://www.airbnb.com/rooms/43027                NaN\n",
       "19                    https://www.airbnb.com/rooms/9359                NaN\n",
       "20                  https://www.airbnb.com/rooms/178188                NaN\n",
       "...                                                 ...                ...\n",
       "84380  https://www.airbnb.com/rooms/1112105752085360103                NaN\n",
       "84383  https://www.airbnb.com/rooms/1112438676006448898                NaN\n",
       "84385  https://www.airbnb.com/rooms/1112455883531799711                NaN\n",
       "84390  https://www.airbnb.com/rooms/1112487387667998646                NaN\n",
       "84395  https://www.airbnb.com/rooms/1112843324939236177                NaN\n",
       "\n",
       "[36087 rows x 2 columns]"
      ]
     },
     "execution_count": 27,
     "metadata": {},
     "output_type": "execute_result"
    }
   ],
   "source": [
    "# raw 테이블에서 확인해야함. \n",
    "# >> 숙소 url 값이 숙소 테이블에 없어서\n",
    "df[['listing_url', 'host_response_rate']][df['host_response_rate'].isnull()]"
   ]
  },
  {
   "cell_type": "code",
   "execution_count": 28,
   "metadata": {},
   "outputs": [
    {
     "data": {
      "text/html": [
       "<div>\n",
       "<style scoped>\n",
       "    .dataframe tbody tr th:only-of-type {\n",
       "        vertical-align: middle;\n",
       "    }\n",
       "\n",
       "    .dataframe tbody tr th {\n",
       "        vertical-align: top;\n",
       "    }\n",
       "\n",
       "    .dataframe thead th {\n",
       "        text-align: right;\n",
       "    }\n",
       "</style>\n",
       "<table border=\"1\" class=\"dataframe\">\n",
       "  <thead>\n",
       "    <tr style=\"text-align: right;\">\n",
       "      <th></th>\n",
       "      <th>listing_url</th>\n",
       "      <th>host_response_rate</th>\n",
       "    </tr>\n",
       "  </thead>\n",
       "  <tbody>\n",
       "    <tr>\n",
       "      <th>0</th>\n",
       "      <td>https://www.airbnb.com/rooms/3109</td>\n",
       "      <td>100%</td>\n",
       "    </tr>\n",
       "    <tr>\n",
       "      <th>1</th>\n",
       "      <td>https://www.airbnb.com/rooms/165409</td>\n",
       "      <td>100%</td>\n",
       "    </tr>\n",
       "    <tr>\n",
       "      <th>2</th>\n",
       "      <td>https://www.airbnb.com/rooms/5396</td>\n",
       "      <td>100%</td>\n",
       "    </tr>\n",
       "    <tr>\n",
       "      <th>4</th>\n",
       "      <td>https://www.airbnb.com/rooms/39948</td>\n",
       "      <td>100%</td>\n",
       "    </tr>\n",
       "    <tr>\n",
       "      <th>6</th>\n",
       "      <td>https://www.airbnb.com/rooms/7397</td>\n",
       "      <td>100%</td>\n",
       "    </tr>\n",
       "    <tr>\n",
       "      <th>...</th>\n",
       "      <td>...</td>\n",
       "      <td>...</td>\n",
       "    </tr>\n",
       "    <tr>\n",
       "      <th>84391</th>\n",
       "      <td>https://www.airbnb.com/rooms/1112525964551684077</td>\n",
       "      <td>99%</td>\n",
       "    </tr>\n",
       "    <tr>\n",
       "      <th>84392</th>\n",
       "      <td>https://www.airbnb.com/rooms/1112562855977040914</td>\n",
       "      <td>99%</td>\n",
       "    </tr>\n",
       "    <tr>\n",
       "      <th>84393</th>\n",
       "      <td>https://www.airbnb.com/rooms/1112591023192990750</td>\n",
       "      <td>100%</td>\n",
       "    </tr>\n",
       "    <tr>\n",
       "      <th>84394</th>\n",
       "      <td>https://www.airbnb.com/rooms/1112842648117310093</td>\n",
       "      <td>100%</td>\n",
       "    </tr>\n",
       "    <tr>\n",
       "      <th>84396</th>\n",
       "      <td>https://www.airbnb.com/rooms/1112849968490989659</td>\n",
       "      <td>100%</td>\n",
       "    </tr>\n",
       "  </tbody>\n",
       "</table>\n",
       "<p>48310 rows × 2 columns</p>\n",
       "</div>"
      ],
      "text/plain": [
       "                                            listing_url host_response_rate\n",
       "0                     https://www.airbnb.com/rooms/3109               100%\n",
       "1                   https://www.airbnb.com/rooms/165409               100%\n",
       "2                     https://www.airbnb.com/rooms/5396               100%\n",
       "4                    https://www.airbnb.com/rooms/39948               100%\n",
       "6                     https://www.airbnb.com/rooms/7397               100%\n",
       "...                                                 ...                ...\n",
       "84391  https://www.airbnb.com/rooms/1112525964551684077                99%\n",
       "84392  https://www.airbnb.com/rooms/1112562855977040914                99%\n",
       "84393  https://www.airbnb.com/rooms/1112591023192990750               100%\n",
       "84394  https://www.airbnb.com/rooms/1112842648117310093               100%\n",
       "84396  https://www.airbnb.com/rooms/1112849968490989659               100%\n",
       "\n",
       "[48310 rows x 2 columns]"
      ]
     },
     "execution_count": 28,
     "metadata": {},
     "output_type": "execute_result"
    }
   ],
   "source": [
    "df[['listing_url', 'host_response_rate']][df['host_response_rate'].notnull()]"
   ]
  },
  {
   "cell_type": "markdown",
   "metadata": {},
   "source": [
    "# 검색 결과 :\n",
    "\n",
    "- https://community.withairbnb.com/t5/Airbnb-updates/Understanding-Response-Rate-and-Acceptance-Rate/m-p/761075"
   ]
  },
  {
   "cell_type": "markdown",
   "metadata": {},
   "source": [
    "Response rate(응답률)란\n",
    " - 응답률은 지난 30일 동안 24시간 이내에 귀하가 응답(수락/사전 승인 또는 거부)한 새로운 문의 및 예약 요청의 비율입니다.\n",
    "\n",
    " 즉, host_response_rate(문의_응답률)가 null 값인 경우는 30일 이내에 새로운 문의나 예약 요청이 없었거나, 새로운 문의나 예약 요청에 응답하지 않은 것으로 해석될 수 있음."
   ]
  },
  {
   "cell_type": "markdown",
   "metadata": {},
   "source": [
    "airbnb 응답률 계산 방법 : \n",
    " - 우리는 고객의 첫 번째 메시지나 문의 로부터 24시간 이내에만 응답을 측정합니다 . 해당 스레드의 후속 메시지는 응답률에 영향을 미치지 않습니다."
   ]
  },
  {
   "cell_type": "markdown",
   "metadata": {},
   "source": [
    "Response time(응답 시간)이란\n",
    " - 응답 시간은 지난 30일 동안 모든 새 메시지에 응답하는 데 걸린 평균 시간입니다.\n",
    "\n",
    "host_response_time(답변_평균시간) 역시 null값인 경우가 30일 동안 새 메세지를 받지 못했거나, 받았지만 응답하지 않은 경우로 볼 수 있음."
   ]
  },
  {
   "cell_type": "markdown",
   "metadata": {},
   "source": [
    "host_acceptance_rate(예약_수락률)이란\n",
    " - 예약을 수락하거나 거부하는 빈도를 측정합니다. 게스트 문의는 수락률 계산에 포함되지 않습니다."
   ]
  },
  {
   "cell_type": "markdown",
   "metadata": {},
   "source": [
    "5/20일 월요일 팀 회의에 논의 필요해 보임. 해당 컬럼들을 어떻게 처리할 지"
   ]
  },
  {
   "cell_type": "markdown",
   "metadata": {},
   "source": [
    "그나마 문의_응답률과 예약_수락률은 % 제거 후 notnull값들 뽑은 후 평균값 구해서 대체 할 수 있을 것 같음.\n",
    "\n",
    "답변_평균시간의 경우는 범주형으로 바꾸긴 했지만, 그 이후를 잘 모르겠음."
   ]
  },
  {
   "cell_type": "markdown",
   "metadata": {},
   "source": [
    "### 일단 문의_응답률 과 예약_수락률은 평균 대체로 진행해봄."
   ]
  },
  {
   "cell_type": "code",
   "execution_count": 29,
   "metadata": {},
   "outputs": [
    {
     "data": {
      "text/plain": [
       "0        100\n",
       "1        100\n",
       "2        100\n",
       "3        NaN\n",
       "4        100\n",
       "        ... \n",
       "84392     99\n",
       "84393    100\n",
       "84394    100\n",
       "84395    NaN\n",
       "84396    100\n",
       "Name: 문의_응답률, Length: 84397, dtype: object"
      ]
     },
     "execution_count": 29,
     "metadata": {},
     "output_type": "execute_result"
    }
   ],
   "source": [
    "df_lodging['문의_응답률']"
   ]
  },
  {
   "cell_type": "code",
   "execution_count": 30,
   "metadata": {},
   "outputs": [
    {
     "data": {
      "text/plain": [
       "0    100\n",
       "1    100\n",
       "2    100\n",
       "4    100\n",
       "6    100\n",
       "Name: 문의_응답률, dtype: object"
      ]
     },
     "execution_count": 30,
     "metadata": {},
     "output_type": "execute_result"
    }
   ],
   "source": [
    "# notnull 값들만 추출\n",
    "response_rate_notnull = df_lodging['문의_응답률'][df_lodging['문의_응답률'].notnull()]\n",
    "response_rate_notnull.head()"
   ]
  },
  {
   "cell_type": "code",
   "execution_count": 31,
   "metadata": {},
   "outputs": [
    {
     "data": {
      "text/plain": [
       "0    100\n",
       "1    100\n",
       "2    100\n",
       "4    100\n",
       "6    100\n",
       "Name: 문의_응답률, dtype: int32"
      ]
     },
     "execution_count": 31,
     "metadata": {},
     "output_type": "execute_result"
    }
   ],
   "source": [
    "# 평균값 구하기 위한 형변환 object >> int\n",
    "# int인 이유 : 기존 문의_응답률에 float값이 아니여서\n",
    "response_rate_notnull = response_rate_notnull.astype('int')\n",
    "response_rate_notnull.head()"
   ]
  },
  {
   "cell_type": "code",
   "execution_count": 32,
   "metadata": {},
   "outputs": [
    {
     "data": {
      "text/plain": [
       "94"
      ]
     },
     "execution_count": 32,
     "metadata": {},
     "output_type": "execute_result"
    }
   ],
   "source": [
    "# 평균값 도출\n",
    "# int 타입이라 round를 defalut 값으로 함.\n",
    "response_rate_mean = round(response_rate_notnull.mean())\n",
    "response_rate_mean"
   ]
  },
  {
   "cell_type": "code",
   "execution_count": 33,
   "metadata": {},
   "outputs": [
    {
     "data": {
      "text/plain": [
       "0        100\n",
       "1        100\n",
       "2        100\n",
       "3         94\n",
       "4        100\n",
       "        ... \n",
       "84392     99\n",
       "84393    100\n",
       "84394    100\n",
       "84395     94\n",
       "84396    100\n",
       "Name: 문의_응답률, Length: 84397, dtype: object"
      ]
     },
     "execution_count": 33,
     "metadata": {},
     "output_type": "execute_result"
    }
   ],
   "source": [
    "# 평균값 대체\n",
    "df_lodging['문의_응답률'].fillna(response_rate_mean, inplace=True)\n",
    "df_lodging['문의_응답률']\n",
    "# index 3 확인 nan >> 94 적용 확인"
   ]
  },
  {
   "cell_type": "code",
   "execution_count": 34,
   "metadata": {},
   "outputs": [
    {
     "data": {
      "text/plain": [
       "array(['80%', '96%', '97%', '7%', '89%', nan, '67%', '0%', '95%', '44%',\n",
       "       '40%', '100%', '10%', '71%', '48%', '88%', '50%', '69%', '86%',\n",
       "       '98%', '16%', '75%', '20%', '94%', '99%', '41%', '83%', '93%',\n",
       "       '29%', '90%', '21%', '13%', '57%', '91%', '33%', '92%', '32%',\n",
       "       '58%', '31%', '39%', '55%', '56%', '84%', '45%', '54%', '85%',\n",
       "       '78%', '76%', '60%', '87%', '18%', '2%', '72%', '22%', '37%',\n",
       "       '79%', '70%', '77%', '9%', '25%', '81%', '73%', '64%', '62%',\n",
       "       '34%', '27%', '6%', '82%', '63%', '19%', '24%', '35%', '74%',\n",
       "       '65%', '26%', '68%', '14%', '38%', '47%', '52%', '12%', '59%',\n",
       "       '43%', '53%', '36%', '23%', '15%', '49%', '3%', '66%', '61%',\n",
       "       '51%', '30%', '46%', '11%', '42%', '5%', '17%', '8%', '4%', '28%',\n",
       "       '1%'], dtype=object)"
      ]
     },
     "execution_count": 34,
     "metadata": {},
     "output_type": "execute_result"
    }
   ],
   "source": [
    "# 예약_수락률 처리\n",
    "df_lodging['예약_수락률'].unique()"
   ]
  },
  {
   "cell_type": "code",
   "execution_count": 35,
   "metadata": {},
   "outputs": [
    {
     "data": {
      "text/plain": [
       "0     80\n",
       "1     96\n",
       "2     97\n",
       "3      7\n",
       "4     89\n",
       "5    NaN\n",
       "Name: 예약_수락률, dtype: object"
      ]
     },
     "execution_count": 35,
     "metadata": {},
     "output_type": "execute_result"
    }
   ],
   "source": [
    "df_lodging['예약_수락률'] = df_lodging['예약_수락률'].str.rstrip('%')\n",
    "df_lodging['예약_수락률'].head(6)"
   ]
  },
  {
   "cell_type": "code",
   "execution_count": 36,
   "metadata": {},
   "outputs": [
    {
     "data": {
      "text/plain": [
       "0    80\n",
       "1    96\n",
       "2    97\n",
       "3     7\n",
       "4    89\n",
       "6    67\n",
       "Name: 예약_수락률, dtype: object"
      ]
     },
     "execution_count": 36,
     "metadata": {},
     "output_type": "execute_result"
    }
   ],
   "source": [
    "# notnull 값들만 추출\n",
    "acceptance_rate_notnull = df_lodging['예약_수락률'][df_lodging['예약_수락률'].notnull()]\n",
    "acceptance_rate_notnull.head(6)"
   ]
  },
  {
   "cell_type": "code",
   "execution_count": 37,
   "metadata": {},
   "outputs": [
    {
     "data": {
      "text/plain": [
       "0    80\n",
       "1    96\n",
       "2    97\n",
       "3     7\n",
       "4    89\n",
       "Name: 예약_수락률, dtype: int32"
      ]
     },
     "execution_count": 37,
     "metadata": {},
     "output_type": "execute_result"
    }
   ],
   "source": [
    "# int로 형변환 \n",
    "acceptance_rate_notnull = acceptance_rate_notnull.astype('int')\n",
    "acceptance_rate_notnull.head()"
   ]
  },
  {
   "cell_type": "code",
   "execution_count": 38,
   "metadata": {},
   "outputs": [
    {
     "data": {
      "text/plain": [
       "81"
      ]
     },
     "execution_count": 38,
     "metadata": {},
     "output_type": "execute_result"
    }
   ],
   "source": [
    "# 평균값 도출\n",
    "acceptance_rate_mean = round(acceptance_rate_notnull.mean())\n",
    "acceptance_rate_mean"
   ]
  },
  {
   "cell_type": "code",
   "execution_count": 39,
   "metadata": {},
   "outputs": [
    {
     "data": {
      "text/plain": [
       "0    80\n",
       "1    96\n",
       "2    97\n",
       "3     7\n",
       "4    89\n",
       "5    81\n",
       "Name: 예약_수락률, dtype: object"
      ]
     },
     "execution_count": 39,
     "metadata": {},
     "output_type": "execute_result"
    }
   ],
   "source": [
    "# 평균값 대체\n",
    "df_lodging['예약_수락률'].fillna(acceptance_rate_mean, inplace=True)\n",
    "df_lodging['예약_수락률'].head(6)\n",
    "# index 5: nan >> 81 대체 확인"
   ]
  },
  {
   "cell_type": "code",
   "execution_count": 40,
   "metadata": {},
   "outputs": [
    {
     "name": "stdout",
     "output_type": "stream",
     "text": [
      "<class 'pandas.core.frame.DataFrame'>\n",
      "RangeIndex: 84397 entries, 0 to 84396\n",
      "Data columns (total 17 columns):\n",
      " #   Column   Non-Null Count  Dtype   \n",
      "---  ------   --------------  -----   \n",
      " 0   숙소_id    84397 non-null  int64   \n",
      " 1   호스트_id   84397 non-null  int64   \n",
      " 2   답변_평균시간  48310 non-null  category\n",
      " 3   문의_응답률   84397 non-null  object  \n",
      " 4   예약_수락률   84397 non-null  object  \n",
      " 5   슈퍼호스트    84306 non-null  object  \n",
      " 6   숙소_수     84390 non-null  float64 \n",
      " 7   숙소_지역    84397 non-null  object  \n",
      " 8   숙소_유형    84397 non-null  object  \n",
      " 9   수용인원수    84397 non-null  int64   \n",
      " 10  욕실수      60959 non-null  float64 \n",
      " 11  침실수      77480 non-null  float64 \n",
      " 12  침대수      60828 non-null  float64 \n",
      " 13  편의시설     84397 non-null  object  \n",
      " 14  숙소_가격    60917 non-null  object  \n",
      " 15  최소_숙박일   84397 non-null  int64   \n",
      " 16  최대_숙박일   84397 non-null  int64   \n",
      "dtypes: category(1), float64(4), int64(5), object(7)\n",
      "memory usage: 10.4+ MB\n"
     ]
    }
   ],
   "source": [
    "df_lodging.info()"
   ]
  },
  {
   "cell_type": "markdown",
   "metadata": {},
   "source": [
    "이후 다른 부분부터 처리 >> 슈퍼호스트(host_is_superhost)"
   ]
  },
  {
   "cell_type": "code",
   "execution_count": 41,
   "metadata": {},
   "outputs": [
    {
     "data": {
      "text/plain": [
       "array(['f', 't', nan], dtype=object)"
      ]
     },
     "execution_count": 41,
     "metadata": {},
     "output_type": "execute_result"
    }
   ],
   "source": [
    "df_lodging['슈퍼호스트'].unique()"
   ]
  },
  {
   "cell_type": "code",
   "execution_count": 42,
   "metadata": {},
   "outputs": [],
   "source": [
    "# nan 값 >> 'f' 대체 \n",
    "# 'f' 값 대체 이유 : 슈퍼 호스트가 아님.\n",
    "df_lodging['슈퍼호스트'].fillna('f', inplace=True)"
   ]
  },
  {
   "cell_type": "code",
   "execution_count": 43,
   "metadata": {},
   "outputs": [
    {
     "data": {
      "text/plain": [
       "숙소_id          0\n",
       "호스트_id         0\n",
       "답변_평균시간    36087\n",
       "문의_응답률         0\n",
       "예약_수락률         0\n",
       "슈퍼호스트          0\n",
       "숙소_수           7\n",
       "숙소_지역          0\n",
       "숙소_유형          0\n",
       "수용인원수          0\n",
       "욕실수        23438\n",
       "침실수         6917\n",
       "침대수        23569\n",
       "편의시설           0\n",
       "숙소_가격      23480\n",
       "최소_숙박일         0\n",
       "최대_숙박일         0\n",
       "dtype: int64"
      ]
     },
     "execution_count": 43,
     "metadata": {},
     "output_type": "execute_result"
    }
   ],
   "source": [
    "df_lodging.isnull().sum()"
   ]
  },
  {
   "cell_type": "markdown",
   "metadata": {},
   "source": [
    "숙소_수 확인"
   ]
  },
  {
   "cell_type": "code",
   "execution_count": 44,
   "metadata": {},
   "outputs": [
    {
     "data": {
      "text/html": [
       "<div>\n",
       "<style scoped>\n",
       "    .dataframe tbody tr th:only-of-type {\n",
       "        vertical-align: middle;\n",
       "    }\n",
       "\n",
       "    .dataframe tbody tr th {\n",
       "        vertical-align: top;\n",
       "    }\n",
       "\n",
       "    .dataframe thead th {\n",
       "        text-align: right;\n",
       "    }\n",
       "</style>\n",
       "<table border=\"1\" class=\"dataframe\">\n",
       "  <thead>\n",
       "    <tr style=\"text-align: right;\">\n",
       "      <th></th>\n",
       "      <th>listing_url</th>\n",
       "      <th>host_total_listings_count</th>\n",
       "      <th>host_verifications</th>\n",
       "      <th>host_identity_verified</th>\n",
       "      <th>number_of_reviews</th>\n",
       "    </tr>\n",
       "  </thead>\n",
       "  <tbody>\n",
       "    <tr>\n",
       "      <th>3731</th>\n",
       "      <td>https://www.airbnb.com/rooms/3986594</td>\n",
       "      <td>NaN</td>\n",
       "      <td>NaN</td>\n",
       "      <td>NaN</td>\n",
       "      <td>0</td>\n",
       "    </tr>\n",
       "    <tr>\n",
       "      <th>5182</th>\n",
       "      <td>https://www.airbnb.com/rooms/5872399</td>\n",
       "      <td>NaN</td>\n",
       "      <td>NaN</td>\n",
       "      <td>NaN</td>\n",
       "      <td>0</td>\n",
       "    </tr>\n",
       "    <tr>\n",
       "      <th>5542</th>\n",
       "      <td>https://www.airbnb.com/rooms/6300239</td>\n",
       "      <td>NaN</td>\n",
       "      <td>NaN</td>\n",
       "      <td>NaN</td>\n",
       "      <td>0</td>\n",
       "    </tr>\n",
       "    <tr>\n",
       "      <th>6305</th>\n",
       "      <td>https://www.airbnb.com/rooms/6875069</td>\n",
       "      <td>NaN</td>\n",
       "      <td>NaN</td>\n",
       "      <td>NaN</td>\n",
       "      <td>0</td>\n",
       "    </tr>\n",
       "    <tr>\n",
       "      <th>7251</th>\n",
       "      <td>https://www.airbnb.com/rooms/7447839</td>\n",
       "      <td>NaN</td>\n",
       "      <td>NaN</td>\n",
       "      <td>NaN</td>\n",
       "      <td>0</td>\n",
       "    </tr>\n",
       "    <tr>\n",
       "      <th>7569</th>\n",
       "      <td>https://www.airbnb.com/rooms/7526817</td>\n",
       "      <td>NaN</td>\n",
       "      <td>NaN</td>\n",
       "      <td>NaN</td>\n",
       "      <td>0</td>\n",
       "    </tr>\n",
       "    <tr>\n",
       "      <th>16105</th>\n",
       "      <td>https://www.airbnb.com/rooms/19262755</td>\n",
       "      <td>NaN</td>\n",
       "      <td>NaN</td>\n",
       "      <td>NaN</td>\n",
       "      <td>0</td>\n",
       "    </tr>\n",
       "  </tbody>\n",
       "</table>\n",
       "</div>"
      ],
      "text/plain": [
       "                                 listing_url  host_total_listings_count  \\\n",
       "3731    https://www.airbnb.com/rooms/3986594                        NaN   \n",
       "5182    https://www.airbnb.com/rooms/5872399                        NaN   \n",
       "5542    https://www.airbnb.com/rooms/6300239                        NaN   \n",
       "6305    https://www.airbnb.com/rooms/6875069                        NaN   \n",
       "7251    https://www.airbnb.com/rooms/7447839                        NaN   \n",
       "7569    https://www.airbnb.com/rooms/7526817                        NaN   \n",
       "16105  https://www.airbnb.com/rooms/19262755                        NaN   \n",
       "\n",
       "      host_verifications host_identity_verified  number_of_reviews  \n",
       "3731                 NaN                    NaN                  0  \n",
       "5182                 NaN                    NaN                  0  \n",
       "5542                 NaN                    NaN                  0  \n",
       "6305                 NaN                    NaN                  0  \n",
       "7251                 NaN                    NaN                  0  \n",
       "7569                 NaN                    NaN                  0  \n",
       "16105                NaN                    NaN                  0  "
      ]
     },
     "execution_count": 44,
     "metadata": {},
     "output_type": "execute_result"
    }
   ],
   "source": [
    "df[['listing_url', 'host_total_listings_count','host_verifications','host_identity_verified','number_of_reviews']][df['host_total_listings_count'].isnull()]"
   ]
  },
  {
   "cell_type": "markdown",
   "metadata": {},
   "source": [
    "확인 결과 :\n",
    " - 7개 호스트 프로필 선택 시 전원 404 에러 발생\n",
    " - 7개 호스트 전원 신원이 검증되어 있지 않음\n",
    " - 완료한 인증 방법도 없음\n",
    " - 7개 상품 전부 후기 없음\n",
    " - 호스트의 다른 숙소 역시 페이지가 안뜸"
   ]
  },
  {
   "cell_type": "markdown",
   "metadata": {},
   "source": [
    "제거 해도 될 것 같음."
   ]
  },
  {
   "cell_type": "code",
   "execution_count": 45,
   "metadata": {},
   "outputs": [],
   "source": [
    "# 숙소_수가 null값인 행 제거 \n",
    "df_lodging = df_lodging.dropna(subset=['숙소_수'])"
   ]
  },
  {
   "cell_type": "code",
   "execution_count": 46,
   "metadata": {},
   "outputs": [
    {
     "name": "stdout",
     "output_type": "stream",
     "text": [
      "<class 'pandas.core.frame.DataFrame'>\n",
      "Index: 84390 entries, 0 to 84396\n",
      "Data columns (total 17 columns):\n",
      " #   Column   Non-Null Count  Dtype   \n",
      "---  ------   --------------  -----   \n",
      " 0   숙소_id    84390 non-null  int64   \n",
      " 1   호스트_id   84390 non-null  int64   \n",
      " 2   답변_평균시간  48310 non-null  category\n",
      " 3   문의_응답률   84390 non-null  object  \n",
      " 4   예약_수락률   84390 non-null  object  \n",
      " 5   슈퍼호스트    84390 non-null  object  \n",
      " 6   숙소_수     84390 non-null  float64 \n",
      " 7   숙소_지역    84390 non-null  object  \n",
      " 8   숙소_유형    84390 non-null  object  \n",
      " 9   수용인원수    84390 non-null  int64   \n",
      " 10  욕실수      60959 non-null  float64 \n",
      " 11  침실수      77474 non-null  float64 \n",
      " 12  침대수      60828 non-null  float64 \n",
      " 13  편의시설     84390 non-null  object  \n",
      " 14  숙소_가격    60917 non-null  object  \n",
      " 15  최소_숙박일   84390 non-null  int64   \n",
      " 16  최대_숙박일   84390 non-null  int64   \n",
      "dtypes: category(1), float64(4), int64(5), object(7)\n",
      "memory usage: 11.0+ MB\n"
     ]
    }
   ],
   "source": [
    "df_lodging.info()"
   ]
  },
  {
   "cell_type": "markdown",
   "metadata": {},
   "source": [
    "84397 >> 84390"
   ]
  },
  {
   "cell_type": "markdown",
   "metadata": {},
   "source": [
    "### 욕실수 , 침실수, 침대수 처리"
   ]
  },
  {
   "cell_type": "code",
   "execution_count": 47,
   "metadata": {},
   "outputs": [
    {
     "data": {
      "text/plain": [
       "0        1.0\n",
       "1        1.0\n",
       "2        1.0\n",
       "3        1.0\n",
       "6        1.0\n",
       "        ... \n",
       "84392    1.0\n",
       "84393    1.0\n",
       "84394    1.0\n",
       "84395    1.0\n",
       "84396    1.0\n",
       "Name: 욕실수, Length: 60959, dtype: float64"
      ]
     },
     "execution_count": 47,
     "metadata": {},
     "output_type": "execute_result"
    }
   ],
   "source": [
    "# 욕실수 notnull 값들만 확인하기 \n",
    "bathroom_notnull = df_lodging['욕실수'][df_lodging['욕실수'].notnull()]\n",
    "bathroom_notnull"
   ]
  },
  {
   "cell_type": "code",
   "execution_count": 48,
   "metadata": {},
   "outputs": [
    {
     "data": {
      "text/plain": [
       "array([ 1. ,  1.5,  2. ,  2.5,  4.5,  4. ,  3. ,  3.5,  0. ,  0.5,  5. ,\n",
       "        5.5,  7. ,  6. , 48. ,  6.5,  7.5,  8. , 10. ,  8.5, 30. ])"
      ]
     },
     "execution_count": 48,
     "metadata": {},
     "output_type": "execute_result"
    }
   ],
   "source": [
    "bathroom_notnull.unique()"
   ]
  },
  {
   "cell_type": "markdown",
   "metadata": {},
   "source": [
    "이게 뭐지?\n",
    " - 1.5 ?\n",
    " - 5.5 ? \n",
    " - 48 ?\n",
    "\n",
    "욕실 개수가 이상함...\n",
    "소수점이 있는 숙소와 너무 많은 숙소 확인 필요"
   ]
  },
  {
   "cell_type": "code",
   "execution_count": 49,
   "metadata": {},
   "outputs": [
    {
     "data": {
      "text/html": [
       "<div>\n",
       "<style scoped>\n",
       "    .dataframe tbody tr th:only-of-type {\n",
       "        vertical-align: middle;\n",
       "    }\n",
       "\n",
       "    .dataframe tbody tr th {\n",
       "        vertical-align: top;\n",
       "    }\n",
       "\n",
       "    .dataframe thead th {\n",
       "        text-align: right;\n",
       "    }\n",
       "</style>\n",
       "<table border=\"1\" class=\"dataframe\">\n",
       "  <thead>\n",
       "    <tr style=\"text-align: right;\">\n",
       "      <th></th>\n",
       "      <th>listing_url</th>\n",
       "      <th>property_type</th>\n",
       "      <th>room_type</th>\n",
       "      <th>bathrooms_text</th>\n",
       "    </tr>\n",
       "  </thead>\n",
       "  <tbody>\n",
       "    <tr>\n",
       "      <th>9</th>\n",
       "      <td>https://www.airbnb.com/rooms/167998</td>\n",
       "      <td>Entire rental unit</td>\n",
       "      <td>Entire home/apt</td>\n",
       "      <td>1.5 baths</td>\n",
       "    </tr>\n",
       "    <tr>\n",
       "      <th>14</th>\n",
       "      <td>https://www.airbnb.com/rooms/43055</td>\n",
       "      <td>Entire rental unit</td>\n",
       "      <td>Entire home/apt</td>\n",
       "      <td>1.5 baths</td>\n",
       "    </tr>\n",
       "    <tr>\n",
       "      <th>21</th>\n",
       "      <td>https://www.airbnb.com/rooms/44130</td>\n",
       "      <td>Entire rental unit</td>\n",
       "      <td>Entire home/apt</td>\n",
       "      <td>1.5 baths</td>\n",
       "    </tr>\n",
       "    <tr>\n",
       "      <th>55</th>\n",
       "      <td>https://www.airbnb.com/rooms/56662</td>\n",
       "      <td>Entire rental unit</td>\n",
       "      <td>Entire home/apt</td>\n",
       "      <td>1.5 baths</td>\n",
       "    </tr>\n",
       "    <tr>\n",
       "      <th>72</th>\n",
       "      <td>https://www.airbnb.com/rooms/14903</td>\n",
       "      <td>Entire rental unit</td>\n",
       "      <td>Entire home/apt</td>\n",
       "      <td>1.5 baths</td>\n",
       "    </tr>\n",
       "    <tr>\n",
       "      <th>...</th>\n",
       "      <td>...</td>\n",
       "      <td>...</td>\n",
       "      <td>...</td>\n",
       "      <td>...</td>\n",
       "    </tr>\n",
       "    <tr>\n",
       "      <th>84266</th>\n",
       "      <td>https://www.airbnb.com/rooms/1111656405283218592</td>\n",
       "      <td>Entire rental unit</td>\n",
       "      <td>Entire home/apt</td>\n",
       "      <td>1.5 baths</td>\n",
       "    </tr>\n",
       "    <tr>\n",
       "      <th>84289</th>\n",
       "      <td>https://www.airbnb.com/rooms/1112248527217605543</td>\n",
       "      <td>Entire rental unit</td>\n",
       "      <td>Entire home/apt</td>\n",
       "      <td>1.5 baths</td>\n",
       "    </tr>\n",
       "    <tr>\n",
       "      <th>84326</th>\n",
       "      <td>https://www.airbnb.com/rooms/1112301082909610836</td>\n",
       "      <td>Entire rental unit</td>\n",
       "      <td>Entire home/apt</td>\n",
       "      <td>1.5 baths</td>\n",
       "    </tr>\n",
       "    <tr>\n",
       "      <th>84337</th>\n",
       "      <td>https://www.airbnb.com/rooms/1112309632091288370</td>\n",
       "      <td>Entire rental unit</td>\n",
       "      <td>Entire home/apt</td>\n",
       "      <td>1.5 baths</td>\n",
       "    </tr>\n",
       "    <tr>\n",
       "      <th>84391</th>\n",
       "      <td>https://www.airbnb.com/rooms/1112525964551684077</td>\n",
       "      <td>Entire rental unit</td>\n",
       "      <td>Entire home/apt</td>\n",
       "      <td>1.5 baths</td>\n",
       "    </tr>\n",
       "  </tbody>\n",
       "</table>\n",
       "<p>5145 rows × 4 columns</p>\n",
       "</div>"
      ],
      "text/plain": [
       "                                            listing_url       property_type  \\\n",
       "9                   https://www.airbnb.com/rooms/167998  Entire rental unit   \n",
       "14                   https://www.airbnb.com/rooms/43055  Entire rental unit   \n",
       "21                   https://www.airbnb.com/rooms/44130  Entire rental unit   \n",
       "55                   https://www.airbnb.com/rooms/56662  Entire rental unit   \n",
       "72                   https://www.airbnb.com/rooms/14903  Entire rental unit   \n",
       "...                                                 ...                 ...   \n",
       "84266  https://www.airbnb.com/rooms/1111656405283218592  Entire rental unit   \n",
       "84289  https://www.airbnb.com/rooms/1112248527217605543  Entire rental unit   \n",
       "84326  https://www.airbnb.com/rooms/1112301082909610836  Entire rental unit   \n",
       "84337  https://www.airbnb.com/rooms/1112309632091288370  Entire rental unit   \n",
       "84391  https://www.airbnb.com/rooms/1112525964551684077  Entire rental unit   \n",
       "\n",
       "             room_type bathrooms_text  \n",
       "9      Entire home/apt      1.5 baths  \n",
       "14     Entire home/apt      1.5 baths  \n",
       "21     Entire home/apt      1.5 baths  \n",
       "55     Entire home/apt      1.5 baths  \n",
       "72     Entire home/apt      1.5 baths  \n",
       "...                ...            ...  \n",
       "84266  Entire home/apt      1.5 baths  \n",
       "84289  Entire home/apt      1.5 baths  \n",
       "84326  Entire home/apt      1.5 baths  \n",
       "84337  Entire home/apt      1.5 baths  \n",
       "84391  Entire home/apt      1.5 baths  \n",
       "\n",
       "[5145 rows x 4 columns]"
      ]
     },
     "execution_count": 49,
     "metadata": {},
     "output_type": "execute_result"
    }
   ],
   "source": [
    "# df에서 listing_url + property_type + room_type  + bathrooms_text 으로 확인\n",
    "# 임시로 df_temp라는 변수에 넣어서 확인\n",
    "df_temp = df[['listing_url', 'property_type','room_type','bathrooms_text']][df['bathrooms']==1.5]\n",
    "df_temp"
   ]
  },
  {
   "cell_type": "code",
   "execution_count": 50,
   "metadata": {},
   "outputs": [
    {
     "data": {
      "text/plain": [
       "room_type\n",
       "Entire home/apt    4600\n",
       "Private room        526\n",
       "Shared room          17\n",
       "Hotel room            2\n",
       "Name: count, dtype: int64"
      ]
     },
     "execution_count": 50,
     "metadata": {},
     "output_type": "execute_result"
    }
   ],
   "source": [
    "df_temp['room_type'].value_counts()"
   ]
  },
  {
   "cell_type": "code",
   "execution_count": 51,
   "metadata": {},
   "outputs": [
    {
     "data": {
      "text/html": [
       "<div>\n",
       "<style scoped>\n",
       "    .dataframe tbody tr th:only-of-type {\n",
       "        vertical-align: middle;\n",
       "    }\n",
       "\n",
       "    .dataframe tbody tr th {\n",
       "        vertical-align: top;\n",
       "    }\n",
       "\n",
       "    .dataframe thead th {\n",
       "        text-align: right;\n",
       "    }\n",
       "</style>\n",
       "<table border=\"1\" class=\"dataframe\">\n",
       "  <thead>\n",
       "    <tr style=\"text-align: right;\">\n",
       "      <th></th>\n",
       "      <th>listing_url</th>\n",
       "      <th>property_type</th>\n",
       "      <th>room_type</th>\n",
       "      <th>bathrooms_text</th>\n",
       "    </tr>\n",
       "  </thead>\n",
       "  <tbody>\n",
       "    <tr>\n",
       "      <th>749</th>\n",
       "      <td>https://www.airbnb.com/rooms/726886</td>\n",
       "      <td>Entire rental unit</td>\n",
       "      <td>Entire home/apt</td>\n",
       "      <td>0 baths</td>\n",
       "    </tr>\n",
       "    <tr>\n",
       "      <th>1170</th>\n",
       "      <td>https://www.airbnb.com/rooms/1179811</td>\n",
       "      <td>Entire rental unit</td>\n",
       "      <td>Entire home/apt</td>\n",
       "      <td>0 baths</td>\n",
       "    </tr>\n",
       "    <tr>\n",
       "      <th>1413</th>\n",
       "      <td>https://www.airbnb.com/rooms/1385662</td>\n",
       "      <td>Private room in rental unit</td>\n",
       "      <td>Private room</td>\n",
       "      <td>0 shared baths</td>\n",
       "    </tr>\n",
       "    <tr>\n",
       "      <th>1894</th>\n",
       "      <td>https://www.airbnb.com/rooms/2048626</td>\n",
       "      <td>Entire rental unit</td>\n",
       "      <td>Entire home/apt</td>\n",
       "      <td>0 baths</td>\n",
       "    </tr>\n",
       "    <tr>\n",
       "      <th>2095</th>\n",
       "      <td>https://www.airbnb.com/rooms/2289322</td>\n",
       "      <td>Entire rental unit</td>\n",
       "      <td>Entire home/apt</td>\n",
       "      <td>0 baths</td>\n",
       "    </tr>\n",
       "    <tr>\n",
       "      <th>...</th>\n",
       "      <td>...</td>\n",
       "      <td>...</td>\n",
       "      <td>...</td>\n",
       "      <td>...</td>\n",
       "    </tr>\n",
       "    <tr>\n",
       "      <th>83669</th>\n",
       "      <td>https://www.airbnb.com/rooms/1109202511119628786</td>\n",
       "      <td>Private room in rental unit</td>\n",
       "      <td>Private room</td>\n",
       "      <td>0 shared baths</td>\n",
       "    </tr>\n",
       "    <tr>\n",
       "      <th>83885</th>\n",
       "      <td>https://www.airbnb.com/rooms/1110667965594810434</td>\n",
       "      <td>Private room in rental unit</td>\n",
       "      <td>Private room</td>\n",
       "      <td>0 shared baths</td>\n",
       "    </tr>\n",
       "    <tr>\n",
       "      <th>84125</th>\n",
       "      <td>https://www.airbnb.com/rooms/1110651899288071181</td>\n",
       "      <td>Entire rental unit</td>\n",
       "      <td>Entire home/apt</td>\n",
       "      <td>0 baths</td>\n",
       "    </tr>\n",
       "    <tr>\n",
       "      <th>84243</th>\n",
       "      <td>https://www.airbnb.com/rooms/1112206680420925410</td>\n",
       "      <td>Entire rental unit</td>\n",
       "      <td>Entire home/apt</td>\n",
       "      <td>0 baths</td>\n",
       "    </tr>\n",
       "    <tr>\n",
       "      <th>84280</th>\n",
       "      <td>https://www.airbnb.com/rooms/1112236160393702684</td>\n",
       "      <td>Entire rental unit</td>\n",
       "      <td>Entire home/apt</td>\n",
       "      <td>0 baths</td>\n",
       "    </tr>\n",
       "  </tbody>\n",
       "</table>\n",
       "<p>279 rows × 4 columns</p>\n",
       "</div>"
      ],
      "text/plain": [
       "                                            listing_url  \\\n",
       "749                 https://www.airbnb.com/rooms/726886   \n",
       "1170               https://www.airbnb.com/rooms/1179811   \n",
       "1413               https://www.airbnb.com/rooms/1385662   \n",
       "1894               https://www.airbnb.com/rooms/2048626   \n",
       "2095               https://www.airbnb.com/rooms/2289322   \n",
       "...                                                 ...   \n",
       "83669  https://www.airbnb.com/rooms/1109202511119628786   \n",
       "83885  https://www.airbnb.com/rooms/1110667965594810434   \n",
       "84125  https://www.airbnb.com/rooms/1110651899288071181   \n",
       "84243  https://www.airbnb.com/rooms/1112206680420925410   \n",
       "84280  https://www.airbnb.com/rooms/1112236160393702684   \n",
       "\n",
       "                     property_type        room_type  bathrooms_text  \n",
       "749             Entire rental unit  Entire home/apt         0 baths  \n",
       "1170            Entire rental unit  Entire home/apt         0 baths  \n",
       "1413   Private room in rental unit     Private room  0 shared baths  \n",
       "1894            Entire rental unit  Entire home/apt         0 baths  \n",
       "2095            Entire rental unit  Entire home/apt         0 baths  \n",
       "...                            ...              ...             ...  \n",
       "83669  Private room in rental unit     Private room  0 shared baths  \n",
       "83885  Private room in rental unit     Private room  0 shared baths  \n",
       "84125           Entire rental unit  Entire home/apt         0 baths  \n",
       "84243           Entire rental unit  Entire home/apt         0 baths  \n",
       "84280           Entire rental unit  Entire home/apt         0 baths  \n",
       "\n",
       "[279 rows x 4 columns]"
      ]
     },
     "execution_count": 51,
     "metadata": {},
     "output_type": "execute_result"
    }
   ],
   "source": [
    "df_temp = df[['listing_url', 'property_type','room_type','bathrooms_text']][df['bathrooms']==0]\n",
    "df_temp"
   ]
  },
  {
   "cell_type": "code",
   "execution_count": 52,
   "metadata": {},
   "outputs": [
    {
     "data": {
      "text/plain": [
       "room_type\n",
       "Entire home/apt    239\n",
       "Private room        34\n",
       "Shared room          4\n",
       "Hotel room           2\n",
       "Name: count, dtype: int64"
      ]
     },
     "execution_count": 52,
     "metadata": {},
     "output_type": "execute_result"
    }
   ],
   "source": [
    "df_temp['room_type'].value_counts()"
   ]
  },
  {
   "cell_type": "markdown",
   "metadata": {},
   "source": [
    "## 검색 결과"
   ]
  },
  {
   "cell_type": "markdown",
   "metadata": {},
   "source": [
    "유럽 표준 EN 12056에서 제시하는 화장실 기준\n",
    "\n",
    "1. 전체 화장실(Full bathroom):\n",
    "- 변기, 세면대, 욕조 또는 샤워기가 모두 포함된 완전한 화장실\n",
    "- 최소 면적 4㎡ 이상 확보\n",
    "- 이를 사람들은 1로 표기함.\n",
    "\n",
    "2. 부분 화장실(Half bathroom):\n",
    "- 변기와 세면대만 포함된 화장실\n",
    "- 최소 면적 2㎡ 이상 확보\n",
    "- 이를 사람들은 0.5라 표기함\n",
    "\n",
    "따라서 1.5라는 표현은 전체 화장실 1개와 부분 화장실 1개라는 의미로 해석할 수 있음"
   ]
  },
  {
   "cell_type": "markdown",
   "metadata": {},
   "source": [
    "#### 그러면 30개, 48개는??"
   ]
  },
  {
   "cell_type": "code",
   "execution_count": 53,
   "metadata": {},
   "outputs": [
    {
     "data": {
      "text/html": [
       "<div>\n",
       "<style scoped>\n",
       "    .dataframe tbody tr th:only-of-type {\n",
       "        vertical-align: middle;\n",
       "    }\n",
       "\n",
       "    .dataframe tbody tr th {\n",
       "        vertical-align: top;\n",
       "    }\n",
       "\n",
       "    .dataframe thead th {\n",
       "        text-align: right;\n",
       "    }\n",
       "</style>\n",
       "<table border=\"1\" class=\"dataframe\">\n",
       "  <thead>\n",
       "    <tr style=\"text-align: right;\">\n",
       "      <th></th>\n",
       "      <th>listing_url</th>\n",
       "      <th>property_type</th>\n",
       "      <th>room_type</th>\n",
       "      <th>bathrooms_text</th>\n",
       "    </tr>\n",
       "  </thead>\n",
       "  <tbody>\n",
       "    <tr>\n",
       "      <th>76331</th>\n",
       "      <td>https://www.airbnb.com/rooms/1070960072975209098</td>\n",
       "      <td>Room in hotel</td>\n",
       "      <td>Private room</td>\n",
       "      <td>30 baths</td>\n",
       "    </tr>\n",
       "    <tr>\n",
       "      <th>76378</th>\n",
       "      <td>https://www.airbnb.com/rooms/1071020436354803291</td>\n",
       "      <td>Room in hotel</td>\n",
       "      <td>Private room</td>\n",
       "      <td>30 baths</td>\n",
       "    </tr>\n",
       "  </tbody>\n",
       "</table>\n",
       "</div>"
      ],
      "text/plain": [
       "                                            listing_url  property_type  \\\n",
       "76331  https://www.airbnb.com/rooms/1070960072975209098  Room in hotel   \n",
       "76378  https://www.airbnb.com/rooms/1071020436354803291  Room in hotel   \n",
       "\n",
       "          room_type bathrooms_text  \n",
       "76331  Private room       30 baths  \n",
       "76378  Private room       30 baths  "
      ]
     },
     "execution_count": 53,
     "metadata": {},
     "output_type": "execute_result"
    }
   ],
   "source": [
    "df_temp = df[['listing_url', 'property_type','room_type','bathrooms_text']][df['bathrooms']==30]\n",
    "df_temp"
   ]
  },
  {
   "cell_type": "markdown",
   "metadata": {},
   "source": [
    "확인 결과 : 30개 = 호텔 전체 욕실 수 같음\n",
    "\n",
    "-> 30개의 방이 존재 -> 각 방에 1개씩 완전한 화장실이 있음"
   ]
  },
  {
   "cell_type": "code",
   "execution_count": 54,
   "metadata": {},
   "outputs": [
    {
     "data": {
      "text/html": [
       "<div>\n",
       "<style scoped>\n",
       "    .dataframe tbody tr th:only-of-type {\n",
       "        vertical-align: middle;\n",
       "    }\n",
       "\n",
       "    .dataframe tbody tr th {\n",
       "        vertical-align: top;\n",
       "    }\n",
       "\n",
       "    .dataframe thead th {\n",
       "        text-align: right;\n",
       "    }\n",
       "</style>\n",
       "<table border=\"1\" class=\"dataframe\">\n",
       "  <thead>\n",
       "    <tr style=\"text-align: right;\">\n",
       "      <th></th>\n",
       "      <th>listing_url</th>\n",
       "      <th>property_type</th>\n",
       "      <th>room_type</th>\n",
       "      <th>bathrooms_text</th>\n",
       "    </tr>\n",
       "  </thead>\n",
       "  <tbody>\n",
       "    <tr>\n",
       "      <th>17247</th>\n",
       "      <td>https://www.airbnb.com/rooms/20433587</td>\n",
       "      <td>Room in boutique hotel</td>\n",
       "      <td>Private room</td>\n",
       "      <td>48 baths</td>\n",
       "    </tr>\n",
       "  </tbody>\n",
       "</table>\n",
       "</div>"
      ],
      "text/plain": [
       "                                 listing_url           property_type  \\\n",
       "17247  https://www.airbnb.com/rooms/20433587  Room in boutique hotel   \n",
       "\n",
       "          room_type bathrooms_text  \n",
       "17247  Private room       48 baths  "
      ]
     },
     "execution_count": 54,
     "metadata": {},
     "output_type": "execute_result"
    }
   ],
   "source": [
    "df_temp = df[['listing_url', 'property_type','room_type','bathrooms_text']][df['bathrooms']==48]\n",
    "df_temp"
   ]
  },
  {
   "cell_type": "markdown",
   "metadata": {},
   "source": [
    "확인 결과 : 48개짜리 숙소는 페이지가 없는지 airbnb 메인 홈으로 들어와짐."
   ]
  },
  {
   "cell_type": "markdown",
   "metadata": {},
   "source": [
    "### 5 = Master bathroom 이라는 뜻으로 좀 다르다는 정보를 확인\n",
    "\n",
    "Master bathroom = 마스터 침실에 인접한 전용 욕실\n",
    " - 변기 + 세면대 2개 + 욕조 + 샤워부스"
   ]
  },
  {
   "cell_type": "markdown",
   "metadata": {},
   "source": [
    "5인 값만 확인"
   ]
  },
  {
   "cell_type": "code",
   "execution_count": 55,
   "metadata": {},
   "outputs": [
    {
     "data": {
      "text/html": [
       "<div>\n",
       "<style scoped>\n",
       "    .dataframe tbody tr th:only-of-type {\n",
       "        vertical-align: middle;\n",
       "    }\n",
       "\n",
       "    .dataframe tbody tr th {\n",
       "        vertical-align: top;\n",
       "    }\n",
       "\n",
       "    .dataframe thead th {\n",
       "        text-align: right;\n",
       "    }\n",
       "</style>\n",
       "<table border=\"1\" class=\"dataframe\">\n",
       "  <thead>\n",
       "    <tr style=\"text-align: right;\">\n",
       "      <th></th>\n",
       "      <th>listing_url</th>\n",
       "      <th>property_type</th>\n",
       "      <th>room_type</th>\n",
       "      <th>bathrooms_text</th>\n",
       "    </tr>\n",
       "  </thead>\n",
       "  <tbody>\n",
       "    <tr>\n",
       "      <th>2806</th>\n",
       "      <td>https://www.airbnb.com/rooms/3087414</td>\n",
       "      <td>Entire rental unit</td>\n",
       "      <td>Entire home/apt</td>\n",
       "      <td>5 baths</td>\n",
       "    </tr>\n",
       "    <tr>\n",
       "      <th>3311</th>\n",
       "      <td>https://www.airbnb.com/rooms/3430844</td>\n",
       "      <td>Entire home</td>\n",
       "      <td>Entire home/apt</td>\n",
       "      <td>5 baths</td>\n",
       "    </tr>\n",
       "    <tr>\n",
       "      <th>9509</th>\n",
       "      <td>https://www.airbnb.com/rooms/10480504</td>\n",
       "      <td>Entire rental unit</td>\n",
       "      <td>Entire home/apt</td>\n",
       "      <td>5 baths</td>\n",
       "    </tr>\n",
       "    <tr>\n",
       "      <th>16252</th>\n",
       "      <td>https://www.airbnb.com/rooms/19501310</td>\n",
       "      <td>Entire townhouse</td>\n",
       "      <td>Entire home/apt</td>\n",
       "      <td>5 baths</td>\n",
       "    </tr>\n",
       "    <tr>\n",
       "      <th>19662</th>\n",
       "      <td>https://www.airbnb.com/rooms/24387710</td>\n",
       "      <td>Room in aparthotel</td>\n",
       "      <td>Private room</td>\n",
       "      <td>5 baths</td>\n",
       "    </tr>\n",
       "    <tr>\n",
       "      <th>29728</th>\n",
       "      <td>https://www.airbnb.com/rooms/39851605</td>\n",
       "      <td>Entire rental unit</td>\n",
       "      <td>Entire home/apt</td>\n",
       "      <td>5 baths</td>\n",
       "    </tr>\n",
       "    <tr>\n",
       "      <th>30964</th>\n",
       "      <td>https://www.airbnb.com/rooms/41845069</td>\n",
       "      <td>Entire home</td>\n",
       "      <td>Entire home/apt</td>\n",
       "      <td>5 baths</td>\n",
       "    </tr>\n",
       "    <tr>\n",
       "      <th>32072</th>\n",
       "      <td>https://www.airbnb.com/rooms/43339272</td>\n",
       "      <td>Entire rental unit</td>\n",
       "      <td>Entire home/apt</td>\n",
       "      <td>5 baths</td>\n",
       "    </tr>\n",
       "    <tr>\n",
       "      <th>36163</th>\n",
       "      <td>https://www.airbnb.com/rooms/50773342</td>\n",
       "      <td>Entire condo</td>\n",
       "      <td>Entire home/apt</td>\n",
       "      <td>5 baths</td>\n",
       "    </tr>\n",
       "    <tr>\n",
       "      <th>38739</th>\n",
       "      <td>https://www.airbnb.com/rooms/54066057</td>\n",
       "      <td>Entire villa</td>\n",
       "      <td>Entire home/apt</td>\n",
       "      <td>5 baths</td>\n",
       "    </tr>\n",
       "    <tr>\n",
       "      <th>39208</th>\n",
       "      <td>https://www.airbnb.com/rooms/551975476695827301</td>\n",
       "      <td>Entire rental unit</td>\n",
       "      <td>Entire home/apt</td>\n",
       "      <td>5 baths</td>\n",
       "    </tr>\n",
       "    <tr>\n",
       "      <th>41780</th>\n",
       "      <td>https://www.airbnb.com/rooms/628279299800770288</td>\n",
       "      <td>Private room in bed and breakfast</td>\n",
       "      <td>Private room</td>\n",
       "      <td>5 baths</td>\n",
       "    </tr>\n",
       "    <tr>\n",
       "      <th>43900</th>\n",
       "      <td>https://www.airbnb.com/rooms/665990040554168884</td>\n",
       "      <td>Entire vacation home</td>\n",
       "      <td>Entire home/apt</td>\n",
       "      <td>5 baths</td>\n",
       "    </tr>\n",
       "    <tr>\n",
       "      <th>45600</th>\n",
       "      <td>https://www.airbnb.com/rooms/697150397271935389</td>\n",
       "      <td>Entire home</td>\n",
       "      <td>Entire home/apt</td>\n",
       "      <td>5 baths</td>\n",
       "    </tr>\n",
       "    <tr>\n",
       "      <th>46515</th>\n",
       "      <td>https://www.airbnb.com/rooms/725945295444337513</td>\n",
       "      <td>Entire rental unit</td>\n",
       "      <td>Entire home/apt</td>\n",
       "      <td>5 baths</td>\n",
       "    </tr>\n",
       "    <tr>\n",
       "      <th>47786</th>\n",
       "      <td>https://www.airbnb.com/rooms/754885427025620893</td>\n",
       "      <td>Entire rental unit</td>\n",
       "      <td>Entire home/apt</td>\n",
       "      <td>5 baths</td>\n",
       "    </tr>\n",
       "    <tr>\n",
       "      <th>52176</th>\n",
       "      <td>https://www.airbnb.com/rooms/847653221708092409</td>\n",
       "      <td>Entire rental unit</td>\n",
       "      <td>Entire home/apt</td>\n",
       "      <td>5 baths</td>\n",
       "    </tr>\n",
       "    <tr>\n",
       "      <th>58959</th>\n",
       "      <td>https://www.airbnb.com/rooms/927468778094017922</td>\n",
       "      <td>Entire townhouse</td>\n",
       "      <td>Entire home/apt</td>\n",
       "      <td>5 baths</td>\n",
       "    </tr>\n",
       "    <tr>\n",
       "      <th>59923</th>\n",
       "      <td>https://www.airbnb.com/rooms/933978012684095099</td>\n",
       "      <td>Private room in rental unit</td>\n",
       "      <td>Private room</td>\n",
       "      <td>5 baths</td>\n",
       "    </tr>\n",
       "    <tr>\n",
       "      <th>62435</th>\n",
       "      <td>https://www.airbnb.com/rooms/958477038534616358</td>\n",
       "      <td>Entire villa</td>\n",
       "      <td>Entire home/apt</td>\n",
       "      <td>5 baths</td>\n",
       "    </tr>\n",
       "    <tr>\n",
       "      <th>65111</th>\n",
       "      <td>https://www.airbnb.com/rooms/983188549919323614</td>\n",
       "      <td>Entire home</td>\n",
       "      <td>Entire home/apt</td>\n",
       "      <td>5 baths</td>\n",
       "    </tr>\n",
       "    <tr>\n",
       "      <th>65442</th>\n",
       "      <td>https://www.airbnb.com/rooms/986180692294457272</td>\n",
       "      <td>Entire rental unit</td>\n",
       "      <td>Entire home/apt</td>\n",
       "      <td>5 baths</td>\n",
       "    </tr>\n",
       "    <tr>\n",
       "      <th>65697</th>\n",
       "      <td>https://www.airbnb.com/rooms/987598507410314671</td>\n",
       "      <td>Entire home</td>\n",
       "      <td>Entire home/apt</td>\n",
       "      <td>5 baths</td>\n",
       "    </tr>\n",
       "    <tr>\n",
       "      <th>69449</th>\n",
       "      <td>https://www.airbnb.com/rooms/1022236264230180521</td>\n",
       "      <td>Boat</td>\n",
       "      <td>Entire home/apt</td>\n",
       "      <td>5 baths</td>\n",
       "    </tr>\n",
       "    <tr>\n",
       "      <th>76078</th>\n",
       "      <td>https://www.airbnb.com/rooms/1069528345792695797</td>\n",
       "      <td>Entire rental unit</td>\n",
       "      <td>Entire home/apt</td>\n",
       "      <td>5 baths</td>\n",
       "    </tr>\n",
       "    <tr>\n",
       "      <th>77794</th>\n",
       "      <td>https://www.airbnb.com/rooms/1077543955821634038</td>\n",
       "      <td>Entire rental unit</td>\n",
       "      <td>Entire home/apt</td>\n",
       "      <td>5 baths</td>\n",
       "    </tr>\n",
       "    <tr>\n",
       "      <th>79136</th>\n",
       "      <td>https://www.airbnb.com/rooms/1085265558004121790</td>\n",
       "      <td>Entire rental unit</td>\n",
       "      <td>Entire home/apt</td>\n",
       "      <td>5 baths</td>\n",
       "    </tr>\n",
       "    <tr>\n",
       "      <th>79332</th>\n",
       "      <td>https://www.airbnb.com/rooms/1086055288477640741</td>\n",
       "      <td>Entire rental unit</td>\n",
       "      <td>Entire home/apt</td>\n",
       "      <td>5 baths</td>\n",
       "    </tr>\n",
       "    <tr>\n",
       "      <th>80477</th>\n",
       "      <td>https://www.airbnb.com/rooms/1092720121063377343</td>\n",
       "      <td>Entire rental unit</td>\n",
       "      <td>Entire home/apt</td>\n",
       "      <td>5 baths</td>\n",
       "    </tr>\n",
       "    <tr>\n",
       "      <th>82302</th>\n",
       "      <td>https://www.airbnb.com/rooms/1101310060020360515</td>\n",
       "      <td>Entire rental unit</td>\n",
       "      <td>Entire home/apt</td>\n",
       "      <td>5 baths</td>\n",
       "    </tr>\n",
       "    <tr>\n",
       "      <th>83299</th>\n",
       "      <td>https://www.airbnb.com/rooms/1106346421059497241</td>\n",
       "      <td>Entire rental unit</td>\n",
       "      <td>Entire home/apt</td>\n",
       "      <td>5 baths</td>\n",
       "    </tr>\n",
       "    <tr>\n",
       "      <th>83580</th>\n",
       "      <td>https://www.airbnb.com/rooms/1107894589115893027</td>\n",
       "      <td>Entire home</td>\n",
       "      <td>Entire home/apt</td>\n",
       "      <td>5 baths</td>\n",
       "    </tr>\n",
       "  </tbody>\n",
       "</table>\n",
       "</div>"
      ],
      "text/plain": [
       "                                            listing_url  \\\n",
       "2806               https://www.airbnb.com/rooms/3087414   \n",
       "3311               https://www.airbnb.com/rooms/3430844   \n",
       "9509              https://www.airbnb.com/rooms/10480504   \n",
       "16252             https://www.airbnb.com/rooms/19501310   \n",
       "19662             https://www.airbnb.com/rooms/24387710   \n",
       "29728             https://www.airbnb.com/rooms/39851605   \n",
       "30964             https://www.airbnb.com/rooms/41845069   \n",
       "32072             https://www.airbnb.com/rooms/43339272   \n",
       "36163             https://www.airbnb.com/rooms/50773342   \n",
       "38739             https://www.airbnb.com/rooms/54066057   \n",
       "39208   https://www.airbnb.com/rooms/551975476695827301   \n",
       "41780   https://www.airbnb.com/rooms/628279299800770288   \n",
       "43900   https://www.airbnb.com/rooms/665990040554168884   \n",
       "45600   https://www.airbnb.com/rooms/697150397271935389   \n",
       "46515   https://www.airbnb.com/rooms/725945295444337513   \n",
       "47786   https://www.airbnb.com/rooms/754885427025620893   \n",
       "52176   https://www.airbnb.com/rooms/847653221708092409   \n",
       "58959   https://www.airbnb.com/rooms/927468778094017922   \n",
       "59923   https://www.airbnb.com/rooms/933978012684095099   \n",
       "62435   https://www.airbnb.com/rooms/958477038534616358   \n",
       "65111   https://www.airbnb.com/rooms/983188549919323614   \n",
       "65442   https://www.airbnb.com/rooms/986180692294457272   \n",
       "65697   https://www.airbnb.com/rooms/987598507410314671   \n",
       "69449  https://www.airbnb.com/rooms/1022236264230180521   \n",
       "76078  https://www.airbnb.com/rooms/1069528345792695797   \n",
       "77794  https://www.airbnb.com/rooms/1077543955821634038   \n",
       "79136  https://www.airbnb.com/rooms/1085265558004121790   \n",
       "79332  https://www.airbnb.com/rooms/1086055288477640741   \n",
       "80477  https://www.airbnb.com/rooms/1092720121063377343   \n",
       "82302  https://www.airbnb.com/rooms/1101310060020360515   \n",
       "83299  https://www.airbnb.com/rooms/1106346421059497241   \n",
       "83580  https://www.airbnb.com/rooms/1107894589115893027   \n",
       "\n",
       "                           property_type        room_type bathrooms_text  \n",
       "2806                  Entire rental unit  Entire home/apt        5 baths  \n",
       "3311                         Entire home  Entire home/apt        5 baths  \n",
       "9509                  Entire rental unit  Entire home/apt        5 baths  \n",
       "16252                   Entire townhouse  Entire home/apt        5 baths  \n",
       "19662                 Room in aparthotel     Private room        5 baths  \n",
       "29728                 Entire rental unit  Entire home/apt        5 baths  \n",
       "30964                        Entire home  Entire home/apt        5 baths  \n",
       "32072                 Entire rental unit  Entire home/apt        5 baths  \n",
       "36163                       Entire condo  Entire home/apt        5 baths  \n",
       "38739                       Entire villa  Entire home/apt        5 baths  \n",
       "39208                 Entire rental unit  Entire home/apt        5 baths  \n",
       "41780  Private room in bed and breakfast     Private room        5 baths  \n",
       "43900               Entire vacation home  Entire home/apt        5 baths  \n",
       "45600                        Entire home  Entire home/apt        5 baths  \n",
       "46515                 Entire rental unit  Entire home/apt        5 baths  \n",
       "47786                 Entire rental unit  Entire home/apt        5 baths  \n",
       "52176                 Entire rental unit  Entire home/apt        5 baths  \n",
       "58959                   Entire townhouse  Entire home/apt        5 baths  \n",
       "59923        Private room in rental unit     Private room        5 baths  \n",
       "62435                       Entire villa  Entire home/apt        5 baths  \n",
       "65111                        Entire home  Entire home/apt        5 baths  \n",
       "65442                 Entire rental unit  Entire home/apt        5 baths  \n",
       "65697                        Entire home  Entire home/apt        5 baths  \n",
       "69449                               Boat  Entire home/apt        5 baths  \n",
       "76078                 Entire rental unit  Entire home/apt        5 baths  \n",
       "77794                 Entire rental unit  Entire home/apt        5 baths  \n",
       "79136                 Entire rental unit  Entire home/apt        5 baths  \n",
       "79332                 Entire rental unit  Entire home/apt        5 baths  \n",
       "80477                 Entire rental unit  Entire home/apt        5 baths  \n",
       "82302                 Entire rental unit  Entire home/apt        5 baths  \n",
       "83299                 Entire rental unit  Entire home/apt        5 baths  \n",
       "83580                        Entire home  Entire home/apt        5 baths  "
      ]
     },
     "execution_count": 55,
     "metadata": {},
     "output_type": "execute_result"
    }
   ],
   "source": [
    "df_temp = df[['listing_url', 'property_type','room_type','bathrooms_text']][df['bathrooms']==5]\n",
    "df_temp"
   ]
  },
  {
   "cell_type": "code",
   "execution_count": 56,
   "metadata": {},
   "outputs": [
    {
     "data": {
      "text/plain": [
       "listing_url       32\n",
       "property_type     32\n",
       "room_type         32\n",
       "bathrooms_text    32\n",
       "dtype: int64"
      ]
     },
     "execution_count": 56,
     "metadata": {},
     "output_type": "execute_result"
    }
   ],
   "source": [
    "df_temp.count()"
   ]
  },
  {
   "cell_type": "markdown",
   "metadata": {},
   "source": [
    "32개 확인 결과 : 그저 욕실 5개인 것으로 확인함."
   ]
  },
  {
   "cell_type": "markdown",
   "metadata": {},
   "source": [
    "최빈값으로 대체\n",
    " - 평균값과 중위값 확인 후 진행"
   ]
  },
  {
   "cell_type": "code",
   "execution_count": 57,
   "metadata": {},
   "outputs": [
    {
     "data": {
      "text/plain": [
       "count    60959.000000\n",
       "mean         1.208763\n",
       "std          0.571918\n",
       "min          0.000000\n",
       "25%          1.000000\n",
       "50%          1.000000\n",
       "75%          1.000000\n",
       "max         48.000000\n",
       "Name: 욕실수, dtype: float64"
      ]
     },
     "execution_count": 57,
     "metadata": {},
     "output_type": "execute_result"
    }
   ],
   "source": [
    "df_lodging['욕실수'].describe()"
   ]
  },
  {
   "cell_type": "code",
   "execution_count": 58,
   "metadata": {},
   "outputs": [
    {
     "data": {
      "text/plain": [
       "욕실수\n",
       "1.0     47458\n",
       "1.5      5145\n",
       "2.0      5094\n",
       "2.5      1252\n",
       "3.0       931\n",
       "0.0       279\n",
       "0.5       270\n",
       "3.5       246\n",
       "4.0       143\n",
       "4.5        61\n",
       "5.0        32\n",
       "5.5        13\n",
       "6.0        12\n",
       "6.5         7\n",
       "7.0         6\n",
       "7.5         3\n",
       "8.0         2\n",
       "30.0        2\n",
       "48.0        1\n",
       "10.0        1\n",
       "8.5         1\n",
       "Name: count, dtype: int64"
      ]
     },
     "execution_count": 58,
     "metadata": {},
     "output_type": "execute_result"
    }
   ],
   "source": [
    "bathroom_notnull.value_counts()"
   ]
  },
  {
   "cell_type": "code",
   "execution_count": 59,
   "metadata": {},
   "outputs": [
    {
     "data": {
      "text/plain": [
       "count    60959.000000\n",
       "mean         1.208763\n",
       "std          0.571918\n",
       "min          0.000000\n",
       "25%          1.000000\n",
       "50%          1.000000\n",
       "75%          1.000000\n",
       "max         48.000000\n",
       "Name: 욕실수, dtype: float64"
      ]
     },
     "execution_count": 59,
     "metadata": {},
     "output_type": "execute_result"
    }
   ],
   "source": [
    "bathroom_notnull.describe()"
   ]
  },
  {
   "cell_type": "code",
   "execution_count": 60,
   "metadata": {},
   "outputs": [],
   "source": [
    "# 욕실 수의 null값은 가장 많은 1.0으로 대체하겠음.\n",
    "# 이유 : 평균값 또는 중위값 확인 결과 1.0에 가깝기 때문.\n",
    "df_lodging['욕실수'].fillna(1.0, inplace=True)"
   ]
  },
  {
   "cell_type": "code",
   "execution_count": 61,
   "metadata": {},
   "outputs": [
    {
     "data": {
      "text/plain": [
       "0    1.0\n",
       "1    1.0\n",
       "2    1.0\n",
       "3    1.0\n",
       "4    1.0\n",
       "Name: 욕실수, dtype: float64"
      ]
     },
     "execution_count": 61,
     "metadata": {},
     "output_type": "execute_result"
    }
   ],
   "source": [
    "df_lodging['욕실수'].head()"
   ]
  },
  {
   "cell_type": "code",
   "execution_count": 62,
   "metadata": {},
   "outputs": [
    {
     "data": {
      "text/plain": [
       "count    84390.000000\n",
       "mean         1.150800\n",
       "std          0.494988\n",
       "min          0.000000\n",
       "25%          1.000000\n",
       "50%          1.000000\n",
       "75%          1.000000\n",
       "max         48.000000\n",
       "Name: 욕실수, dtype: float64"
      ]
     },
     "execution_count": 62,
     "metadata": {},
     "output_type": "execute_result"
    }
   ],
   "source": [
    "df_lodging['욕실수'].describe()"
   ]
  },
  {
   "cell_type": "markdown",
   "metadata": {},
   "source": [
    "1.0으로 채우면서 std(표준편차)값이 떨어짐.\n",
    "- 문제 발생할지 모르겠음.\n",
    "- 일단 진행"
   ]
  },
  {
   "cell_type": "markdown",
   "metadata": {},
   "source": [
    "### 침실수\n",
    " - 욕실수와 마찬가지로 평균값과 중위값 확인 후 진행하겠음\n",
    " - 이유 : 욕실수와 비슷하기 때문에"
   ]
  },
  {
   "cell_type": "code",
   "execution_count": 63,
   "metadata": {},
   "outputs": [
    {
     "data": {
      "text/plain": [
       "array([ 1.,  0., nan,  2.,  3.,  6.,  4.,  5.,  7., 16., 50., 32., 12.,\n",
       "        8., 38., 14.,  9., 10., 33., 11., 41., 30.])"
      ]
     },
     "execution_count": 63,
     "metadata": {},
     "output_type": "execute_result"
    }
   ],
   "source": [
    "df_lodging['침실수'].unique()"
   ]
  },
  {
   "cell_type": "code",
   "execution_count": 64,
   "metadata": {},
   "outputs": [
    {
     "data": {
      "text/plain": [
       "침실수\n",
       "1.0     48606\n",
       "2.0     15269\n",
       "0.0      6274\n",
       "3.0      5512\n",
       "4.0      1407\n",
       "5.0       285\n",
       "6.0        75\n",
       "7.0        26\n",
       "8.0         5\n",
       "33.0        2\n",
       "30.0        2\n",
       "16.0        2\n",
       "12.0        1\n",
       "50.0        1\n",
       "38.0        1\n",
       "14.0        1\n",
       "9.0         1\n",
       "10.0        1\n",
       "11.0        1\n",
       "41.0        1\n",
       "32.0        1\n",
       "Name: count, dtype: int64"
      ]
     },
     "execution_count": 64,
     "metadata": {},
     "output_type": "execute_result"
    }
   ],
   "source": [
    "df_lodging['침실수'].value_counts()"
   ]
  },
  {
   "cell_type": "code",
   "execution_count": 65,
   "metadata": {},
   "outputs": [
    {
     "data": {
      "text/html": [
       "<div>\n",
       "<style scoped>\n",
       "    .dataframe tbody tr th:only-of-type {\n",
       "        vertical-align: middle;\n",
       "    }\n",
       "\n",
       "    .dataframe tbody tr th {\n",
       "        vertical-align: top;\n",
       "    }\n",
       "\n",
       "    .dataframe thead th {\n",
       "        text-align: right;\n",
       "    }\n",
       "</style>\n",
       "<table border=\"1\" class=\"dataframe\">\n",
       "  <thead>\n",
       "    <tr style=\"text-align: right;\">\n",
       "      <th></th>\n",
       "      <th>listing_url</th>\n",
       "      <th>property_type</th>\n",
       "      <th>room_type</th>\n",
       "    </tr>\n",
       "  </thead>\n",
       "  <tbody>\n",
       "    <tr>\n",
       "      <th>7256</th>\n",
       "      <td>https://www.airbnb.com/rooms/7449162</td>\n",
       "      <td>Entire rental unit</td>\n",
       "      <td>Entire home/apt</td>\n",
       "    </tr>\n",
       "    <tr>\n",
       "      <th>17247</th>\n",
       "      <td>https://www.airbnb.com/rooms/20433587</td>\n",
       "      <td>Room in boutique hotel</td>\n",
       "      <td>Private room</td>\n",
       "    </tr>\n",
       "    <tr>\n",
       "      <th>17673</th>\n",
       "      <td>https://www.airbnb.com/rooms/21216654</td>\n",
       "      <td>Entire rental unit</td>\n",
       "      <td>Entire home/apt</td>\n",
       "    </tr>\n",
       "    <tr>\n",
       "      <th>18755</th>\n",
       "      <td>https://www.airbnb.com/rooms/22925880</td>\n",
       "      <td>Entire rental unit</td>\n",
       "      <td>Entire home/apt</td>\n",
       "    </tr>\n",
       "    <tr>\n",
       "      <th>19927</th>\n",
       "      <td>https://www.airbnb.com/rooms/24667815</td>\n",
       "      <td>Room in boutique hotel</td>\n",
       "      <td>Hotel room</td>\n",
       "    </tr>\n",
       "    <tr>\n",
       "      <th>20988</th>\n",
       "      <td>https://www.airbnb.com/rooms/26253224</td>\n",
       "      <td>Room in hotel</td>\n",
       "      <td>Private room</td>\n",
       "    </tr>\n",
       "    <tr>\n",
       "      <th>27189</th>\n",
       "      <td>https://www.airbnb.com/rooms/36124445</td>\n",
       "      <td>Private room in condo</td>\n",
       "      <td>Private room</td>\n",
       "    </tr>\n",
       "    <tr>\n",
       "      <th>31955</th>\n",
       "      <td>https://www.airbnb.com/rooms/43084931</td>\n",
       "      <td>Room in hotel</td>\n",
       "      <td>Private room</td>\n",
       "    </tr>\n",
       "    <tr>\n",
       "      <th>32106</th>\n",
       "      <td>https://www.airbnb.com/rooms/43369014</td>\n",
       "      <td>Room in hotel</td>\n",
       "      <td>Private room</td>\n",
       "    </tr>\n",
       "    <tr>\n",
       "      <th>54966</th>\n",
       "      <td>https://www.airbnb.com/rooms/888128066633316596</td>\n",
       "      <td>Entire rental unit</td>\n",
       "      <td>Entire home/apt</td>\n",
       "    </tr>\n",
       "    <tr>\n",
       "      <th>57359</th>\n",
       "      <td>https://www.airbnb.com/rooms/913477855231933260</td>\n",
       "      <td>Room in hotel</td>\n",
       "      <td>Private room</td>\n",
       "    </tr>\n",
       "    <tr>\n",
       "      <th>63771</th>\n",
       "      <td>https://www.airbnb.com/rooms/970856355633037590</td>\n",
       "      <td>Entire home</td>\n",
       "      <td>Entire home/apt</td>\n",
       "    </tr>\n",
       "    <tr>\n",
       "      <th>76331</th>\n",
       "      <td>https://www.airbnb.com/rooms/1070960072975209098</td>\n",
       "      <td>Room in hotel</td>\n",
       "      <td>Private room</td>\n",
       "    </tr>\n",
       "    <tr>\n",
       "      <th>76378</th>\n",
       "      <td>https://www.airbnb.com/rooms/1071020436354803291</td>\n",
       "      <td>Room in hotel</td>\n",
       "      <td>Private room</td>\n",
       "    </tr>\n",
       "  </tbody>\n",
       "</table>\n",
       "</div>"
      ],
      "text/plain": [
       "                                            listing_url  \\\n",
       "7256               https://www.airbnb.com/rooms/7449162   \n",
       "17247             https://www.airbnb.com/rooms/20433587   \n",
       "17673             https://www.airbnb.com/rooms/21216654   \n",
       "18755             https://www.airbnb.com/rooms/22925880   \n",
       "19927             https://www.airbnb.com/rooms/24667815   \n",
       "20988             https://www.airbnb.com/rooms/26253224   \n",
       "27189             https://www.airbnb.com/rooms/36124445   \n",
       "31955             https://www.airbnb.com/rooms/43084931   \n",
       "32106             https://www.airbnb.com/rooms/43369014   \n",
       "54966   https://www.airbnb.com/rooms/888128066633316596   \n",
       "57359   https://www.airbnb.com/rooms/913477855231933260   \n",
       "63771   https://www.airbnb.com/rooms/970856355633037590   \n",
       "76331  https://www.airbnb.com/rooms/1070960072975209098   \n",
       "76378  https://www.airbnb.com/rooms/1071020436354803291   \n",
       "\n",
       "                property_type        room_type  \n",
       "7256       Entire rental unit  Entire home/apt  \n",
       "17247  Room in boutique hotel     Private room  \n",
       "17673      Entire rental unit  Entire home/apt  \n",
       "18755      Entire rental unit  Entire home/apt  \n",
       "19927  Room in boutique hotel       Hotel room  \n",
       "20988           Room in hotel     Private room  \n",
       "27189   Private room in condo     Private room  \n",
       "31955           Room in hotel     Private room  \n",
       "32106           Room in hotel     Private room  \n",
       "54966      Entire rental unit  Entire home/apt  \n",
       "57359           Room in hotel     Private room  \n",
       "63771             Entire home  Entire home/apt  \n",
       "76331           Room in hotel     Private room  \n",
       "76378           Room in hotel     Private room  "
      ]
     },
     "execution_count": 65,
     "metadata": {},
     "output_type": "execute_result"
    }
   ],
   "source": [
    "# 숫자가 큰 이유 확인\n",
    "df_temp = df[['listing_url', 'property_type','room_type']][df['bedrooms'] >= 10 ]\n",
    "df_temp"
   ]
  },
  {
   "cell_type": "markdown",
   "metadata": {},
   "source": [
    "확인 결과 : 전체 수를 적은 경우임.\n",
    " - 예를 들어 호텔의 방이 41개면 침실을 41개로 적어놓은 것들임."
   ]
  },
  {
   "cell_type": "code",
   "execution_count": 66,
   "metadata": {},
   "outputs": [
    {
     "data": {
      "text/plain": [
       "count    77474.000000\n",
       "mean         1.339546\n",
       "std          0.922877\n",
       "min          0.000000\n",
       "25%          1.000000\n",
       "50%          1.000000\n",
       "75%          2.000000\n",
       "max         50.000000\n",
       "Name: 침실수, dtype: float64"
      ]
     },
     "execution_count": 66,
     "metadata": {},
     "output_type": "execute_result"
    }
   ],
   "source": [
    "df_lodging['침실수'].describe()"
   ]
  },
  {
   "cell_type": "code",
   "execution_count": 67,
   "metadata": {},
   "outputs": [
    {
     "data": {
      "text/plain": [
       "0        1.0\n",
       "1        0.0\n",
       "2        0.0\n",
       "3        1.0\n",
       "4        1.0\n",
       "        ... \n",
       "84392    1.0\n",
       "84393    1.0\n",
       "84394    1.0\n",
       "84395    1.0\n",
       "84396    0.0\n",
       "Name: 침실수, Length: 84390, dtype: float64"
      ]
     },
     "execution_count": 67,
     "metadata": {},
     "output_type": "execute_result"
    }
   ],
   "source": [
    "# 1.0으로 대체\n",
    "df_lodging['침실수'].fillna(1.0, inplace=True)\n",
    "df_lodging['침실수']"
   ]
  },
  {
   "cell_type": "code",
   "execution_count": 68,
   "metadata": {},
   "outputs": [
    {
     "data": {
      "text/plain": [
       "count    84390.000000\n",
       "mean         1.311719\n",
       "std          0.889143\n",
       "min          0.000000\n",
       "25%          1.000000\n",
       "50%          1.000000\n",
       "75%          2.000000\n",
       "max         50.000000\n",
       "Name: 침실수, dtype: float64"
      ]
     },
     "execution_count": 68,
     "metadata": {},
     "output_type": "execute_result"
    }
   ],
   "source": [
    "df_lodging['침실수'].describe()"
   ]
  },
  {
   "cell_type": "markdown",
   "metadata": {},
   "source": [
    "침대수\n",
    " - 이게 애매함...\n",
    " - 침실수 확인하면서 어느정도 본 결과 1침실 2침대인 경우가 존재함..\n",
    " - 예를 들어 싱글베드 2개..."
   ]
  },
  {
   "cell_type": "code",
   "execution_count": 69,
   "metadata": {},
   "outputs": [
    {
     "data": {
      "text/plain": [
       "array([ 1., nan,  2.,  3.,  5.,  9.,  0.,  7.,  4.,  8.,  6., 10., 11.,\n",
       "       13., 17., 77., 14., 12., 30.])"
      ]
     },
     "execution_count": 69,
     "metadata": {},
     "output_type": "execute_result"
    }
   ],
   "source": [
    "df_lodging['침대수'].unique()"
   ]
  },
  {
   "cell_type": "code",
   "execution_count": 70,
   "metadata": {},
   "outputs": [
    {
     "data": {
      "text/plain": [
       "침대수\n",
       "1.0     27020\n",
       "2.0     17620\n",
       "3.0      6961\n",
       "0.0      4169\n",
       "4.0      3155\n",
       "5.0      1128\n",
       "6.0       451\n",
       "7.0       175\n",
       "8.0        87\n",
       "9.0        30\n",
       "10.0       13\n",
       "11.0        7\n",
       "12.0        5\n",
       "13.0        2\n",
       "30.0        2\n",
       "17.0        1\n",
       "77.0        1\n",
       "14.0        1\n",
       "Name: count, dtype: int64"
      ]
     },
     "execution_count": 70,
     "metadata": {},
     "output_type": "execute_result"
    }
   ],
   "source": [
    "df_lodging['침대수'].value_counts()\n",
    "# 최빈값과 그 다음 값이 약 1만 차이"
   ]
  },
  {
   "cell_type": "code",
   "execution_count": 71,
   "metadata": {},
   "outputs": [
    {
     "data": {
      "text/plain": [
       "count    60828.000000\n",
       "mean         1.755129\n",
       "std          1.254172\n",
       "min          0.000000\n",
       "25%          1.000000\n",
       "50%          1.000000\n",
       "75%          2.000000\n",
       "max         77.000000\n",
       "Name: 침대수, dtype: float64"
      ]
     },
     "execution_count": 71,
     "metadata": {},
     "output_type": "execute_result"
    }
   ],
   "source": [
    "df_lodging['침대수'].describe()\n",
    "# 평균값은 1.7로 2에 가깝고\n",
    "# 중위값은 1.0임"
   ]
  },
  {
   "cell_type": "code",
   "execution_count": 72,
   "metadata": {},
   "outputs": [
    {
     "data": {
      "text/plain": [
       "23562"
      ]
     },
     "execution_count": 72,
     "metadata": {},
     "output_type": "execute_result"
    }
   ],
   "source": [
    "df_lodging['침대수'].isnull().sum()\n",
    "# null 값이 2만개를 넘어가서\n",
    "# 뭘로 대체하느냐에 따라 최빈값이 바뀔 우려가 있음."
   ]
  },
  {
   "cell_type": "markdown",
   "metadata": {},
   "source": [
    "우선 침실에 침대 1개 이상은 존재하므로 1.0으로 대체해서 진행하겠음.\n",
    " - 차후 문제 생길 시 평균값으로 대체하겠음 (1.75)"
   ]
  },
  {
   "cell_type": "code",
   "execution_count": 73,
   "metadata": {},
   "outputs": [
    {
     "data": {
      "text/plain": [
       "0        1.0\n",
       "1        1.0\n",
       "2        1.0\n",
       "3        1.0\n",
       "4        1.0\n",
       "        ... \n",
       "84392    1.0\n",
       "84393    1.0\n",
       "84394    2.0\n",
       "84395    2.0\n",
       "84396    1.0\n",
       "Name: 침대수, Length: 84390, dtype: float64"
      ]
     },
     "execution_count": 73,
     "metadata": {},
     "output_type": "execute_result"
    }
   ],
   "source": [
    "# 1.0으로 대체\n",
    "df_lodging['침대수'].fillna(1.0, inplace=True)\n",
    "df_lodging['침대수']"
   ]
  },
  {
   "cell_type": "code",
   "execution_count": 74,
   "metadata": {},
   "outputs": [
    {
     "data": {
      "text/plain": [
       "count    84390.000000\n",
       "mean         1.544294\n",
       "std          1.117375\n",
       "min          0.000000\n",
       "25%          1.000000\n",
       "50%          1.000000\n",
       "75%          2.000000\n",
       "max         77.000000\n",
       "Name: 침대수, dtype: float64"
      ]
     },
     "execution_count": 74,
     "metadata": {},
     "output_type": "execute_result"
    }
   ],
   "source": [
    "df_lodging['침대수'].describe()\n",
    "# 표준편차(std)는 0.1 정도만 줄어듬"
   ]
  },
  {
   "cell_type": "code",
   "execution_count": 75,
   "metadata": {},
   "outputs": [
    {
     "data": {
      "text/plain": [
       "숙소_id          0\n",
       "호스트_id         0\n",
       "답변_평균시간    36080\n",
       "문의_응답률         0\n",
       "예약_수락률         0\n",
       "슈퍼호스트          0\n",
       "숙소_수           0\n",
       "숙소_지역          0\n",
       "숙소_유형          0\n",
       "수용인원수          0\n",
       "욕실수            0\n",
       "침실수            0\n",
       "침대수            0\n",
       "편의시설           0\n",
       "숙소_가격      23473\n",
       "최소_숙박일         0\n",
       "최대_숙박일         0\n",
       "dtype: int64"
      ]
     },
     "execution_count": 75,
     "metadata": {},
     "output_type": "execute_result"
    }
   ],
   "source": [
    "df_lodging.isnull().sum()"
   ]
  },
  {
   "cell_type": "markdown",
   "metadata": {},
   "source": [
    "숙소_가격 결측치\n",
    " - 23473개"
   ]
  },
  {
   "cell_type": "code",
   "execution_count": 76,
   "metadata": {},
   "outputs": [
    {
     "data": {
      "text/plain": [
       "0        $250.00\n",
       "1        $140.00\n",
       "2        $107.00\n",
       "3        $200.00\n",
       "4            NaN\n",
       "          ...   \n",
       "84392     $80.00\n",
       "84393    $167.00\n",
       "84394     $98.00\n",
       "84395    $296.00\n",
       "84396     $71.00\n",
       "Name: 숙소_가격, Length: 84390, dtype: object"
      ]
     },
     "execution_count": 76,
     "metadata": {},
     "output_type": "execute_result"
    }
   ],
   "source": [
    "df_lodging['숙소_가격']"
   ]
  },
  {
   "cell_type": "code",
   "execution_count": 77,
   "metadata": {},
   "outputs": [
    {
     "data": {
      "text/plain": [
       "0    250.00\n",
       "1    140.00\n",
       "2    107.00\n",
       "Name: 숙소_가격, dtype: object"
      ]
     },
     "execution_count": 77,
     "metadata": {},
     "output_type": "execute_result"
    }
   ],
   "source": [
    "# $ 제거\n",
    "df_lodging['숙소_가격'] = df_lodging['숙소_가격'].str.lstrip('$')\n",
    "df_lodging['숙소_가격'][:3]"
   ]
  },
  {
   "cell_type": "code",
   "execution_count": 78,
   "metadata": {},
   "outputs": [
    {
     "data": {
      "text/plain": [
       "0    250.00\n",
       "1    140.00\n",
       "2    107.00\n",
       "Name: 숙소_가격, dtype: object"
      ]
     },
     "execution_count": 78,
     "metadata": {},
     "output_type": "execute_result"
    }
   ],
   "source": [
    "# 숙소 가격에서 쉼표(,) 제거\n",
    "df_lodging['숙소_가격'] = df_lodging['숙소_가격'].str.replace(',', '')\n",
    "df_lodging['숙소_가격'][:3]"
   ]
  },
  {
   "cell_type": "code",
   "execution_count": 79,
   "metadata": {},
   "outputs": [
    {
     "data": {
      "text/plain": [
       "0        250.00\n",
       "1        140.00\n",
       "2        107.00\n",
       "3        200.00\n",
       "6        134.00\n",
       "          ...  \n",
       "84392     80.00\n",
       "84393    167.00\n",
       "84394     98.00\n",
       "84395    296.00\n",
       "84396     71.00\n",
       "Name: 숙소_가격, Length: 60917, dtype: object"
      ]
     },
     "execution_count": 79,
     "metadata": {},
     "output_type": "execute_result"
    }
   ],
   "source": [
    "# null값 제외, 나머지 값들만 추출\n",
    "lodging_price_notnull = df_lodging['숙소_가격'][df_lodging['숙소_가격'].notnull()]\n",
    "lodging_price_notnull"
   ]
  },
  {
   "cell_type": "code",
   "execution_count": 80,
   "metadata": {},
   "outputs": [
    {
     "data": {
      "text/plain": [
       "0    250.0\n",
       "1    140.0\n",
       "2    107.0\n",
       "Name: 숙소_가격, dtype: float64"
      ]
     },
     "execution_count": 80,
     "metadata": {},
     "output_type": "execute_result"
    }
   ],
   "source": [
    "# 형변환 :  object >> float\n",
    "lodging_price_notnull = lodging_price_notnull.astype('float')\n",
    "lodging_price_notnull[:3]"
   ]
  },
  {
   "cell_type": "code",
   "execution_count": 81,
   "metadata": {},
   "outputs": [
    {
     "data": {
      "text/plain": [
       "288.66"
      ]
     },
     "execution_count": 81,
     "metadata": {},
     "output_type": "execute_result"
    }
   ],
   "source": [
    "mean_price = round(lodging_price_notnull.mean(),2)\n",
    "mean_price"
   ]
  },
  {
   "cell_type": "code",
   "execution_count": 82,
   "metadata": {},
   "outputs": [
    {
     "data": {
      "text/plain": [
       "0        250.00\n",
       "1        140.00\n",
       "2        107.00\n",
       "3        200.00\n",
       "4        288.66\n",
       "          ...  \n",
       "84392     80.00\n",
       "84393    167.00\n",
       "84394     98.00\n",
       "84395    296.00\n",
       "84396     71.00\n",
       "Name: 숙소_가격, Length: 84390, dtype: object"
      ]
     },
     "execution_count": 82,
     "metadata": {},
     "output_type": "execute_result"
    }
   ],
   "source": [
    "# 평균값 대체\n",
    "df_lodging['숙소_가격'].fillna(mean_price, inplace=True)\n",
    "df_lodging['숙소_가격']\n",
    "# index 4 : nan >> 288.66 확인"
   ]
  },
  {
   "cell_type": "code",
   "execution_count": 83,
   "metadata": {},
   "outputs": [
    {
     "data": {
      "text/html": [
       "<div>\n",
       "<style scoped>\n",
       "    .dataframe tbody tr th:only-of-type {\n",
       "        vertical-align: middle;\n",
       "    }\n",
       "\n",
       "    .dataframe tbody tr th {\n",
       "        vertical-align: top;\n",
       "    }\n",
       "\n",
       "    .dataframe thead th {\n",
       "        text-align: right;\n",
       "    }\n",
       "</style>\n",
       "<table border=\"1\" class=\"dataframe\">\n",
       "  <thead>\n",
       "    <tr style=\"text-align: right;\">\n",
       "      <th></th>\n",
       "      <th>숙소_id</th>\n",
       "      <th>호스트_id</th>\n",
       "      <th>답변_평균시간</th>\n",
       "      <th>문의_응답률</th>\n",
       "      <th>예약_수락률</th>\n",
       "      <th>슈퍼호스트</th>\n",
       "      <th>숙소_수</th>\n",
       "      <th>숙소_지역</th>\n",
       "      <th>숙소_유형</th>\n",
       "      <th>수용인원수</th>\n",
       "      <th>욕실수</th>\n",
       "      <th>침실수</th>\n",
       "      <th>침대수</th>\n",
       "      <th>편의시설</th>\n",
       "      <th>숙소_가격</th>\n",
       "      <th>최소_숙박일</th>\n",
       "      <th>최대_숙박일</th>\n",
       "    </tr>\n",
       "  </thead>\n",
       "  <tbody>\n",
       "    <tr>\n",
       "      <th>0</th>\n",
       "      <td>3109</td>\n",
       "      <td>3631</td>\n",
       "      <td>within a day</td>\n",
       "      <td>100</td>\n",
       "      <td>80</td>\n",
       "      <td>f</td>\n",
       "      <td>2.0</td>\n",
       "      <td>Observatoire</td>\n",
       "      <td>Entire home/apt</td>\n",
       "      <td>2</td>\n",
       "      <td>1.0</td>\n",
       "      <td>1.0</td>\n",
       "      <td>1.0</td>\n",
       "      <td>[\"Cooking basics\", \"Luggage dropoff allowed\", ...</td>\n",
       "      <td>250.00</td>\n",
       "      <td>2</td>\n",
       "      <td>30</td>\n",
       "    </tr>\n",
       "    <tr>\n",
       "      <th>1</th>\n",
       "      <td>165409</td>\n",
       "      <td>788732</td>\n",
       "      <td>within a few hours</td>\n",
       "      <td>100</td>\n",
       "      <td>96</td>\n",
       "      <td>t</td>\n",
       "      <td>1.0</td>\n",
       "      <td>Temple</td>\n",
       "      <td>Entire home/apt</td>\n",
       "      <td>2</td>\n",
       "      <td>1.0</td>\n",
       "      <td>0.0</td>\n",
       "      <td>1.0</td>\n",
       "      <td>[\"Lockbox\", \"Wifi\", \"Kitchen\", \"Refrigerator\",...</td>\n",
       "      <td>140.00</td>\n",
       "      <td>3</td>\n",
       "      <td>365</td>\n",
       "    </tr>\n",
       "    <tr>\n",
       "      <th>2</th>\n",
       "      <td>5396</td>\n",
       "      <td>7903</td>\n",
       "      <td>within an hour</td>\n",
       "      <td>100</td>\n",
       "      <td>97</td>\n",
       "      <td>f</td>\n",
       "      <td>3.0</td>\n",
       "      <td>Hôtel-de-Ville</td>\n",
       "      <td>Entire home/apt</td>\n",
       "      <td>2</td>\n",
       "      <td>1.0</td>\n",
       "      <td>0.0</td>\n",
       "      <td>1.0</td>\n",
       "      <td>[\"Cooking basics\", \"Long term stays allowed\", ...</td>\n",
       "      <td>107.00</td>\n",
       "      <td>1</td>\n",
       "      <td>1125</td>\n",
       "    </tr>\n",
       "    <tr>\n",
       "      <th>3</th>\n",
       "      <td>166370</td>\n",
       "      <td>793032</td>\n",
       "      <td>NaN</td>\n",
       "      <td>94</td>\n",
       "      <td>7</td>\n",
       "      <td>f</td>\n",
       "      <td>3.0</td>\n",
       "      <td>Entrepôt</td>\n",
       "      <td>Entire home/apt</td>\n",
       "      <td>4</td>\n",
       "      <td>1.0</td>\n",
       "      <td>1.0</td>\n",
       "      <td>1.0</td>\n",
       "      <td>[\"Shampoo\", \"Kitchen\", \"Washer\", \"Cooking basi...</td>\n",
       "      <td>200.00</td>\n",
       "      <td>2</td>\n",
       "      <td>120</td>\n",
       "    </tr>\n",
       "    <tr>\n",
       "      <th>4</th>\n",
       "      <td>39948</td>\n",
       "      <td>171483</td>\n",
       "      <td>within a day</td>\n",
       "      <td>100</td>\n",
       "      <td>89</td>\n",
       "      <td>t</td>\n",
       "      <td>2.0</td>\n",
       "      <td>Bourse</td>\n",
       "      <td>Private room</td>\n",
       "      <td>2</td>\n",
       "      <td>1.0</td>\n",
       "      <td>1.0</td>\n",
       "      <td>1.0</td>\n",
       "      <td>[\"Extra pillows and blankets\", \"Wifi\", \"Privat...</td>\n",
       "      <td>288.66</td>\n",
       "      <td>5</td>\n",
       "      <td>20</td>\n",
       "    </tr>\n",
       "  </tbody>\n",
       "</table>\n",
       "</div>"
      ],
      "text/plain": [
       "    숙소_id  호스트_id             답변_평균시간 문의_응답률 예약_수락률 슈퍼호스트  숙소_수  \\\n",
       "0    3109    3631        within a day    100     80     f   2.0   \n",
       "1  165409  788732  within a few hours    100     96     t   1.0   \n",
       "2    5396    7903      within an hour    100     97     f   3.0   \n",
       "3  166370  793032                 NaN     94      7     f   3.0   \n",
       "4   39948  171483        within a day    100     89     t   2.0   \n",
       "\n",
       "            숙소_지역            숙소_유형  수용인원수  욕실수  침실수  침대수  \\\n",
       "0    Observatoire  Entire home/apt      2  1.0  1.0  1.0   \n",
       "1          Temple  Entire home/apt      2  1.0  0.0  1.0   \n",
       "2  Hôtel-de-Ville  Entire home/apt      2  1.0  0.0  1.0   \n",
       "3        Entrepôt  Entire home/apt      4  1.0  1.0  1.0   \n",
       "4          Bourse     Private room      2  1.0  1.0  1.0   \n",
       "\n",
       "                                                편의시설   숙소_가격  최소_숙박일  최대_숙박일  \n",
       "0  [\"Cooking basics\", \"Luggage dropoff allowed\", ...  250.00       2      30  \n",
       "1  [\"Lockbox\", \"Wifi\", \"Kitchen\", \"Refrigerator\",...  140.00       3     365  \n",
       "2  [\"Cooking basics\", \"Long term stays allowed\", ...  107.00       1    1125  \n",
       "3  [\"Shampoo\", \"Kitchen\", \"Washer\", \"Cooking basi...  200.00       2     120  \n",
       "4  [\"Extra pillows and blankets\", \"Wifi\", \"Privat...  288.66       5      20  "
      ]
     },
     "execution_count": 83,
     "metadata": {},
     "output_type": "execute_result"
    }
   ],
   "source": [
    "df_lodging.head()"
   ]
  },
  {
   "cell_type": "code",
   "execution_count": 84,
   "metadata": {},
   "outputs": [
    {
     "data": {
      "text/plain": [
       "숙소_id          0\n",
       "호스트_id         0\n",
       "답변_평균시간    36080\n",
       "문의_응답률         0\n",
       "예약_수락률         0\n",
       "슈퍼호스트          0\n",
       "숙소_수           0\n",
       "숙소_지역          0\n",
       "숙소_유형          0\n",
       "수용인원수          0\n",
       "욕실수            0\n",
       "침실수            0\n",
       "침대수            0\n",
       "편의시설           0\n",
       "숙소_가격          0\n",
       "최소_숙박일         0\n",
       "최대_숙박일         0\n",
       "dtype: int64"
      ]
     },
     "execution_count": 84,
     "metadata": {},
     "output_type": "execute_result"
    }
   ],
   "source": [
    "df_lodging.isnull().sum()"
   ]
  },
  {
   "cell_type": "markdown",
   "metadata": {},
   "source": [
    "최대/최소 숙박일 확인"
   ]
  },
  {
   "cell_type": "code",
   "execution_count": 85,
   "metadata": {},
   "outputs": [
    {
     "data": {
      "text/plain": [
       "array([        30,        365,       1125,        120,         20,\n",
       "              130,         50,        730,          6,        300,\n",
       "                7,         90,         21,        360,         60,\n",
       "               16,         31,         40,         25,        305,\n",
       "              600,         29,        550,         27,         70,\n",
       "              180,        140,        372,         15,        190,\n",
       "             1000,         14,        500,        572,        400,\n",
       "                5,        150,         10,         28,       1124,\n",
       "              100,        750,          4,         13,         11,\n",
       "                8,        999,        306,        368,         45,\n",
       "              700,        200,        240,         36,         12,\n",
       "                3,         42,          2,         17,         24,\n",
       "               58,       1001,         35,        119,         18,\n",
       "                9,        350,         62,        800,        125,\n",
       "               22,         80,        450,        380,         37,\n",
       "               92,         32,        270,       1122,        340,\n",
       "               19,         66,       1120,        210,        112,\n",
       "              310,         61, 2147483647,         41,        729,\n",
       "               39,       1080,         99,         23,         57,\n",
       "             3000,        243,        366,         65,         91,\n",
       "               93,         95,         75,         52,        215,\n",
       "              303,        710,       1100,       1123,        250,\n",
       "                1,         89,        720,         34,        352,\n",
       "              900,         33,        620,        364,        312,\n",
       "              330,        115,         56,        325,         26,\n",
       "              354,         49,         73,        379,        336,\n",
       "               43,        160,      85554,        650,         55,\n",
       "              110,        183,        725,       1111,   10000000,\n",
       "              356,        789,         46,        165,         59,\n",
       "              395,        299,        370,         48,         72,\n",
       "               54,        420,        123,        109,        868,\n",
       "               84,        308,         64,         69,         67,\n",
       "             1110,        930,         51,        996,        124,\n",
       "              117,        145,         44,       1126,        320,\n",
       "             1112,        275,        128,       1121,         86,\n",
       "             1024,        101,        399,        158,        326,\n",
       "              213,        290,        172,        121,        122,\n",
       "              517,        501,        105,         76,        184,\n",
       "              465,        118,        280,        195,       1005,\n",
       "              311,        301,        260,        182,         94,\n",
       "               38,        359,         97,         78,        181,\n",
       "              390,        525,        388,       1050,        245,\n",
       "              235,        371,        375,       1095,        230,\n",
       "              355,        304,        265,         63,        715,\n",
       "              179,        185,        178,        376,        170,\n",
       "              232,        980,         71,        220,        212,\n",
       "              363,         47,        113,        274,        329,\n",
       "              168,        152,         74,        238,        652,\n",
       "              116,        144,         68,        335,        114,\n",
       "              455,        362,        367,         85,        127,\n",
       "              345,        347,         53,        159,        111,\n",
       "               81,         77,        107,        155,        296,\n",
       "              239], dtype=int64)"
      ]
     },
     "execution_count": 85,
     "metadata": {},
     "output_type": "execute_result"
    }
   ],
   "source": [
    "df_lodging['최대_숙박일'].unique()"
   ]
  },
  {
   "cell_type": "markdown",
   "metadata": {},
   "source": [
    "- 2147483647 ???\n",
    "- 1000 ???\n",
    "- 3000 ???\n",
    "\n",
    "이게 뭔..."
   ]
  },
  {
   "cell_type": "code",
   "execution_count": 86,
   "metadata": {},
   "outputs": [
    {
     "data": {
      "text/plain": [
       "최대_숙박일\n",
       "1125    28890\n",
       "365     23033\n",
       "30       5502\n",
       "15       2208\n",
       "120      2193\n",
       "        ...  \n",
       "308         1\n",
       "1111        1\n",
       "312         1\n",
       "620         1\n",
       "239         1\n",
       "Name: count, Length: 261, dtype: int64"
      ]
     },
     "execution_count": 86,
     "metadata": {},
     "output_type": "execute_result"
    }
   ],
   "source": [
    "# 빈도수 확인\n",
    "df_lodging['최대_숙박일'].value_counts()\n",
    "# 1125일 뭐길래 이렇게 많은지 확인 필요 "
   ]
  },
  {
   "cell_type": "code",
   "execution_count": 87,
   "metadata": {},
   "outputs": [
    {
     "data": {
      "text/plain": [
       "count    8.439000e+04\n",
       "mean     2.608600e+04\n",
       "std      7.392459e+06\n",
       "min      1.000000e+00\n",
       "25%      4.200000e+01\n",
       "50%      3.650000e+02\n",
       "75%      1.125000e+03\n",
       "max      2.147484e+09\n",
       "Name: 최대_숙박일, dtype: float64"
      ]
     },
     "execution_count": 87,
     "metadata": {},
     "output_type": "execute_result"
    }
   ],
   "source": [
    "df_lodging['최대_숙박일'].describe()"
   ]
  },
  {
   "cell_type": "code",
   "execution_count": 88,
   "metadata": {},
   "outputs": [
    {
     "data": {
      "text/plain": [
       "2147483647"
      ]
     },
     "execution_count": 88,
     "metadata": {},
     "output_type": "execute_result"
    }
   ],
   "source": [
    "df_lodging['최대_숙박일'].max()"
   ]
  },
  {
   "cell_type": "code",
   "execution_count": 89,
   "metadata": {},
   "outputs": [
    {
     "data": {
      "text/html": [
       "<div>\n",
       "<style scoped>\n",
       "    .dataframe tbody tr th:only-of-type {\n",
       "        vertical-align: middle;\n",
       "    }\n",
       "\n",
       "    .dataframe tbody tr th {\n",
       "        vertical-align: top;\n",
       "    }\n",
       "\n",
       "    .dataframe thead th {\n",
       "        text-align: right;\n",
       "    }\n",
       "</style>\n",
       "<table border=\"1\" class=\"dataframe\">\n",
       "  <thead>\n",
       "    <tr style=\"text-align: right;\">\n",
       "      <th></th>\n",
       "      <th>listing_url</th>\n",
       "      <th>property_type</th>\n",
       "      <th>room_type</th>\n",
       "      <th>price</th>\n",
       "      <th>minimum_nights</th>\n",
       "    </tr>\n",
       "  </thead>\n",
       "  <tbody>\n",
       "    <tr>\n",
       "      <th>1145</th>\n",
       "      <td>https://www.airbnb.com/rooms/1088383</td>\n",
       "      <td>Entire rental unit</td>\n",
       "      <td>Entire home/apt</td>\n",
       "      <td>$146.00</td>\n",
       "      <td>3</td>\n",
       "    </tr>\n",
       "  </tbody>\n",
       "</table>\n",
       "</div>"
      ],
      "text/plain": [
       "                               listing_url       property_type  \\\n",
       "1145  https://www.airbnb.com/rooms/1088383  Entire rental unit   \n",
       "\n",
       "            room_type    price  minimum_nights  \n",
       "1145  Entire home/apt  $146.00               3  "
      ]
     },
     "execution_count": 89,
     "metadata": {},
     "output_type": "execute_result"
    }
   ],
   "source": [
    "df_temp = df[['listing_url', 'property_type','room_type','price','minimum_nights']][df['maximum_nights']==2147483647]\n",
    "df_temp"
   ]
  },
  {
   "cell_type": "code",
   "execution_count": 98,
   "metadata": {},
   "outputs": [
    {
     "data": {
      "text/plain": [
       "array([   2,    3,    1,    5,  365,   10,   20,    4,   12,    7,   90,\n",
       "         30,  180,    6,  250,  121,   21,   15,    8,   13,   60,   19,\n",
       "         28,   14,   27,  500,   11,   25,  270,  120,   91,   35,   18,\n",
       "          9,   50,  210, 1000,  400,   80,   92,   31,   45,   29,  100,\n",
       "        300,   40,   89,   62,   24,   32,  260,  140,  360,   79,  150,\n",
       "         54,   23,  160,   16,  110,   22,  168,  999,  366,  370,  112,\n",
       "        252,   55,   17,   93,   59,   39,   95,   53,   65,  199,  200,\n",
       "         57,  185,  170,  275,  274,   26,   70,   99,  375,   75,  730,\n",
       "         33, 1123,   36,  175,  178,   42,  115,  130,  350,   85,  280,\n",
       "         78,   84,  303], dtype=int64)"
      ]
     },
     "execution_count": 98,
     "metadata": {},
     "output_type": "execute_result"
    }
   ],
   "source": [
    "# 최소_숙박일\n",
    "df_lodging['최소_숙박일'].unique()"
   ]
  },
  {
   "cell_type": "markdown",
   "metadata": {},
   "source": [
    "여기도 이상하네..\n",
    " - 1000 ???\n",
    " - 999 ?? \n",
    " - 1123 ??"
   ]
  },
  {
   "cell_type": "code",
   "execution_count": 100,
   "metadata": {},
   "outputs": [
    {
     "data": {
      "text/plain": [
       "최소_숙박일\n",
       "1      18864\n",
       "2      16754\n",
       "3      15129\n",
       "365     9765\n",
       "4       5837\n",
       "       ...  \n",
       "53         1\n",
       "199        1\n",
       "57         1\n",
       "185        1\n",
       "303        1\n",
       "Name: count, Length: 102, dtype: int64"
      ]
     },
     "execution_count": 100,
     "metadata": {},
     "output_type": "execute_result"
    }
   ],
   "source": [
    "df_lodging['최소_숙박일'].value_counts()\n",
    "# 일단 최소 1년 짜리도 많으므로 확인"
   ]
  },
  {
   "cell_type": "code",
   "execution_count": 109,
   "metadata": {},
   "outputs": [
    {
     "data": {
      "text/html": [
       "<div>\n",
       "<style scoped>\n",
       "    .dataframe tbody tr th:only-of-type {\n",
       "        vertical-align: middle;\n",
       "    }\n",
       "\n",
       "    .dataframe tbody tr th {\n",
       "        vertical-align: top;\n",
       "    }\n",
       "\n",
       "    .dataframe thead th {\n",
       "        text-align: right;\n",
       "    }\n",
       "</style>\n",
       "<table border=\"1\" class=\"dataframe\">\n",
       "  <thead>\n",
       "    <tr style=\"text-align: right;\">\n",
       "      <th></th>\n",
       "      <th>listing_url</th>\n",
       "      <th>property_type</th>\n",
       "      <th>room_type</th>\n",
       "      <th>price</th>\n",
       "      <th>minimum_nights</th>\n",
       "    </tr>\n",
       "  </thead>\n",
       "  <tbody>\n",
       "    <tr>\n",
       "      <th>21522</th>\n",
       "      <td>https://www.airbnb.com/rooms/27106571</td>\n",
       "      <td>Entire rental unit</td>\n",
       "      <td>Entire home/apt</td>\n",
       "      <td>NaN</td>\n",
       "      <td>199</td>\n",
       "    </tr>\n",
       "  </tbody>\n",
       "</table>\n",
       "</div>"
      ],
      "text/plain": [
       "                                 listing_url       property_type  \\\n",
       "21522  https://www.airbnb.com/rooms/27106571  Entire rental unit   \n",
       "\n",
       "             room_type price  minimum_nights  \n",
       "21522  Entire home/apt   NaN             199  "
      ]
     },
     "execution_count": 109,
     "metadata": {},
     "output_type": "execute_result"
    }
   ],
   "source": [
    "df_temp = df[['listing_url', 'property_type','room_type','price','minimum_nights']][df['minimum_nights']==199]\n",
    "df_temp"
   ]
  },
  {
   "cell_type": "code",
   "execution_count": 105,
   "metadata": {},
   "outputs": [
    {
     "data": {
      "text/plain": [
       "room_type\n",
       "Entire home/apt    9680\n",
       "Hotel room           66\n",
       "Private room         24\n",
       "Shared room           2\n",
       "Name: count, dtype: int64"
      ]
     },
     "execution_count": 105,
     "metadata": {},
     "output_type": "execute_result"
    }
   ],
   "source": [
    "df_temp['room_type'].value_counts()"
   ]
  },
  {
   "cell_type": "markdown",
   "metadata": {},
   "source": [
    "확인 해보니 그저 평범한 상품이었음...\n",
    " - 최대_숙박일에서의 이상치들은 그저 게스트가 돈이 되는대로 가능하게 해놓은 것 같음.\n",
    " - 최소_숙박일에서의 이상치들은 대부분이 부동산 계약이라고 보면 될 것 같음.\n",
    "    - 아파트 1년 계약이 대부분이나 그 이상 역시 비슷한 계약임. 다만, 계약일수가 더 길뿐임.\n",
    "    - 이외에 53, 199... 등등 역시 그저 장기 임대라고 볼 수 있음.\n",
    "    \n",
    "처리해야하나??\n",
    " - 일단 넘어가보기"
   ]
  },
  {
   "cell_type": "markdown",
   "metadata": {},
   "source": [
    "리뷰 테이블 결측치 처리"
   ]
  },
  {
   "cell_type": "code",
   "execution_count": 90,
   "metadata": {},
   "outputs": [
    {
     "data": {
      "text/html": [
       "<div>\n",
       "<style scoped>\n",
       "    .dataframe tbody tr th:only-of-type {\n",
       "        vertical-align: middle;\n",
       "    }\n",
       "\n",
       "    .dataframe tbody tr th {\n",
       "        vertical-align: top;\n",
       "    }\n",
       "\n",
       "    .dataframe thead th {\n",
       "        text-align: right;\n",
       "    }\n",
       "</style>\n",
       "<table border=\"1\" class=\"dataframe\">\n",
       "  <thead>\n",
       "    <tr style=\"text-align: right;\">\n",
       "      <th></th>\n",
       "      <th>리뷰수</th>\n",
       "      <th>30일_리뷰수</th>\n",
       "      <th>리뷰점수</th>\n",
       "      <th>숙소_정확성_리뷰점수</th>\n",
       "      <th>숙소_청결도_리뷰점수</th>\n",
       "      <th>숙소_체크인_리뷰점수</th>\n",
       "      <th>숙소_소통_리뷰점수</th>\n",
       "      <th>숙소_위치_리뷰점수</th>\n",
       "      <th>숙소_가격_리뷰점수</th>\n",
       "      <th>평균_리뷰수</th>\n",
       "    </tr>\n",
       "  </thead>\n",
       "  <tbody>\n",
       "    <tr>\n",
       "      <th>0</th>\n",
       "      <td>4</td>\n",
       "      <td>0</td>\n",
       "      <td>5.00</td>\n",
       "      <td>5.00</td>\n",
       "      <td>5.00</td>\n",
       "      <td>5.00</td>\n",
       "      <td>5.00</td>\n",
       "      <td>5.00</td>\n",
       "      <td>5.00</td>\n",
       "      <td>0.05</td>\n",
       "    </tr>\n",
       "    <tr>\n",
       "      <th>1</th>\n",
       "      <td>106</td>\n",
       "      <td>0</td>\n",
       "      <td>4.68</td>\n",
       "      <td>4.72</td>\n",
       "      <td>4.59</td>\n",
       "      <td>4.87</td>\n",
       "      <td>4.89</td>\n",
       "      <td>4.95</td>\n",
       "      <td>4.74</td>\n",
       "      <td>0.69</td>\n",
       "    </tr>\n",
       "    <tr>\n",
       "      <th>2</th>\n",
       "      <td>393</td>\n",
       "      <td>5</td>\n",
       "      <td>4.60</td>\n",
       "      <td>4.63</td>\n",
       "      <td>4.57</td>\n",
       "      <td>4.81</td>\n",
       "      <td>4.84</td>\n",
       "      <td>4.96</td>\n",
       "      <td>4.58</td>\n",
       "      <td>2.19</td>\n",
       "    </tr>\n",
       "    <tr>\n",
       "      <th>3</th>\n",
       "      <td>78</td>\n",
       "      <td>0</td>\n",
       "      <td>4.56</td>\n",
       "      <td>4.74</td>\n",
       "      <td>4.37</td>\n",
       "      <td>4.82</td>\n",
       "      <td>4.79</td>\n",
       "      <td>4.65</td>\n",
       "      <td>4.48</td>\n",
       "      <td>0.51</td>\n",
       "    </tr>\n",
       "    <tr>\n",
       "      <th>4</th>\n",
       "      <td>126</td>\n",
       "      <td>3</td>\n",
       "      <td>4.86</td>\n",
       "      <td>4.93</td>\n",
       "      <td>4.82</td>\n",
       "      <td>4.96</td>\n",
       "      <td>4.97</td>\n",
       "      <td>4.94</td>\n",
       "      <td>4.82</td>\n",
       "      <td>0.99</td>\n",
       "    </tr>\n",
       "  </tbody>\n",
       "</table>\n",
       "</div>"
      ],
      "text/plain": [
       "   리뷰수  30일_리뷰수  리뷰점수  숙소_정확성_리뷰점수  숙소_청결도_리뷰점수  숙소_체크인_리뷰점수  숙소_소통_리뷰점수  \\\n",
       "0    4        0  5.00         5.00         5.00         5.00        5.00   \n",
       "1  106        0  4.68         4.72         4.59         4.87        4.89   \n",
       "2  393        5  4.60         4.63         4.57         4.81        4.84   \n",
       "3   78        0  4.56         4.74         4.37         4.82        4.79   \n",
       "4  126        3  4.86         4.93         4.82         4.96        4.97   \n",
       "\n",
       "   숙소_위치_리뷰점수  숙소_가격_리뷰점수  평균_리뷰수  \n",
       "0        5.00        5.00    0.05  \n",
       "1        4.95        4.74    0.69  \n",
       "2        4.96        4.58    2.19  \n",
       "3        4.65        4.48    0.51  \n",
       "4        4.94        4.82    0.99  "
      ]
     },
     "execution_count": 90,
     "metadata": {},
     "output_type": "execute_result"
    }
   ],
   "source": [
    "df_review.head()"
   ]
  },
  {
   "cell_type": "code",
   "execution_count": 91,
   "metadata": {},
   "outputs": [
    {
     "name": "stdout",
     "output_type": "stream",
     "text": [
      "<class 'pandas.core.frame.DataFrame'>\n",
      "RangeIndex: 84397 entries, 0 to 84396\n",
      "Data columns (total 10 columns):\n",
      " #   Column       Non-Null Count  Dtype  \n",
      "---  ------       --------------  -----  \n",
      " 0   리뷰수          84397 non-null  int64  \n",
      " 1   30일_리뷰수      84397 non-null  int64  \n",
      " 2   리뷰점수         58827 non-null  float64\n",
      " 3   숙소_정확성_리뷰점수  58793 non-null  float64\n",
      " 4   숙소_청결도_리뷰점수  58797 non-null  float64\n",
      " 5   숙소_체크인_리뷰점수  58784 non-null  float64\n",
      " 6   숙소_소통_리뷰점수   58795 non-null  float64\n",
      " 7   숙소_위치_리뷰점수   58787 non-null  float64\n",
      " 8   숙소_가격_리뷰점수   58782 non-null  float64\n",
      " 9   평균_리뷰수       58822 non-null  float64\n",
      "dtypes: float64(8), int64(2)\n",
      "memory usage: 6.4 MB\n"
     ]
    }
   ],
   "source": [
    "df_review.info()"
   ]
  },
  {
   "cell_type": "code",
   "execution_count": 92,
   "metadata": {},
   "outputs": [
    {
     "data": {
      "text/plain": [
       "리뷰수                0\n",
       "30일_리뷰수            0\n",
       "리뷰점수           25570\n",
       "숙소_정확성_리뷰점수    25604\n",
       "숙소_청결도_리뷰점수    25600\n",
       "숙소_체크인_리뷰점수    25613\n",
       "숙소_소통_리뷰점수     25602\n",
       "숙소_위치_리뷰점수     25610\n",
       "숙소_가격_리뷰점수     25615\n",
       "평균_리뷰수         25575\n",
       "dtype: int64"
      ]
     },
     "execution_count": 92,
     "metadata": {},
     "output_type": "execute_result"
    }
   ],
   "source": [
    "df_review.isnull().sum()"
   ]
  },
  {
   "cell_type": "code",
   "execution_count": 96,
   "metadata": {},
   "outputs": [
    {
     "data": {
      "text/plain": [
       "리뷰수\n",
       "0      25576\n",
       "1       6463\n",
       "2       4449\n",
       "3       3651\n",
       "4       2948\n",
       "       ...  \n",
       "626        1\n",
       "466        1\n",
       "401        1\n",
       "517        1\n",
       "593        1\n",
       "Name: count, Length: 561, dtype: int64"
      ]
     },
     "execution_count": 96,
     "metadata": {},
     "output_type": "execute_result"
    }
   ],
   "source": [
    "df_review['리뷰수'].value_counts()"
   ]
  },
  {
   "cell_type": "code",
   "execution_count": 93,
   "metadata": {},
   "outputs": [
    {
     "data": {
      "text/plain": [
       "리뷰점수\n",
       "5.00    17058\n",
       "4.50     2155\n",
       "4.00     2097\n",
       "4.67     1854\n",
       "4.75     1532\n",
       "        ...  \n",
       "3.54        1\n",
       "2.20        1\n",
       "3.59        1\n",
       "3.36        1\n",
       "2.40        1\n",
       "Name: count, Length: 183, dtype: int64"
      ]
     },
     "execution_count": 93,
     "metadata": {},
     "output_type": "execute_result"
    }
   ],
   "source": [
    "df_review['리뷰점수'].value_counts()"
   ]
  },
  {
   "cell_type": "code",
   "execution_count": 94,
   "metadata": {},
   "outputs": [
    {
     "data": {
      "text/plain": [
       "리뷰수\n",
       "0    25570\n",
       "Name: count, dtype: int64"
      ]
     },
     "execution_count": 94,
     "metadata": {},
     "output_type": "execute_result"
    }
   ],
   "source": [
    "# 리뷰 점수가 null값 중 리뷰수의 개수\n",
    "df_review.loc[df_review['리뷰점수'].isnull(), '리뷰수'].value_counts()\n",
    "# 리뷰점수가 null인 값은 리뷰도 없음"
   ]
  },
  {
   "cell_type": "markdown",
   "metadata": {},
   "source": [
    "즉, 리뷰수 중 0 인 25576개 중 25570은 리뷰점수도 없는 값임.\n",
    "\n",
    "제거해도 될 것 같음\n",
    " - 제거 시 숙소 테이블과 결합 불가 >> 행 길이가 달라서"
   ]
  },
  {
   "cell_type": "markdown",
   "metadata": {},
   "source": [
    "숙소 테이블 처리 전에 합친 테이블로 다시 정리필요."
   ]
  },
  {
   "cell_type": "code",
   "execution_count": null,
   "metadata": {},
   "outputs": [],
   "source": []
  },
  {
   "cell_type": "markdown",
   "metadata": {},
   "source": [
    "탐색적 데이터 분석(EDA)"
   ]
  },
  {
   "cell_type": "code",
   "execution_count": null,
   "metadata": {},
   "outputs": [],
   "source": []
  }
 ],
 "metadata": {
  "kernelspec": {
   "display_name": "base",
   "language": "python",
   "name": "python3"
  },
  "language_info": {
   "codemirror_mode": {
    "name": "ipython",
    "version": 3
   },
   "file_extension": ".py",
   "mimetype": "text/x-python",
   "name": "python",
   "nbconvert_exporter": "python",
   "pygments_lexer": "ipython3",
   "version": "3.11.7"
  }
 },
 "nbformat": 4,
 "nbformat_minor": 2
}
