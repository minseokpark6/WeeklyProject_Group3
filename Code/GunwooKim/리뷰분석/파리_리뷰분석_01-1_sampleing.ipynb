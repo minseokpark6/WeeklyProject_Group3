{
 "cells": [
  {
   "cell_type": "code",
   "execution_count": 8,
   "metadata": {},
   "outputs": [
    {
     "name": "stdout",
     "output_type": "stream",
     "text": [
      "Defaulting to user installation because normal site-packages is not writeable\n",
      "Collecting textblob\n",
      "  Downloading textblob-0.18.0.post0-py3-none-any.whl.metadata (4.5 kB)\n",
      "Requirement already satisfied: nltk>=3.8 in c:\\programdata\\anaconda3\\lib\\site-packages (from textblob) (3.8.1)\n",
      "Requirement already satisfied: click in c:\\programdata\\anaconda3\\lib\\site-packages (from nltk>=3.8->textblob) (8.1.7)\n",
      "Requirement already satisfied: joblib in c:\\programdata\\anaconda3\\lib\\site-packages (from nltk>=3.8->textblob) (1.2.0)\n",
      "Requirement already satisfied: regex>=2021.8.3 in c:\\programdata\\anaconda3\\lib\\site-packages (from nltk>=3.8->textblob) (2023.10.3)\n",
      "Requirement already satisfied: tqdm in c:\\programdata\\anaconda3\\lib\\site-packages (from nltk>=3.8->textblob) (4.65.0)\n",
      "Requirement already satisfied: colorama in c:\\programdata\\anaconda3\\lib\\site-packages (from click->nltk>=3.8->textblob) (0.4.6)\n",
      "Downloading textblob-0.18.0.post0-py3-none-any.whl (626 kB)\n",
      "   ---------------------------------------- 0.0/626.3 kB ? eta -:--:--\n",
      "    --------------------------------------- 10.2/626.3 kB ? eta -:--:--\n",
      "   --- ----------------------------------- 61.4/626.3 kB 825.8 kB/s eta 0:00:01\n",
      "   ---------------------------------- ----- 542.7/626.3 kB 4.9 MB/s eta 0:00:01\n",
      "   ---------------------------------------- 626.3/626.3 kB 5.7 MB/s eta 0:00:00\n",
      "Installing collected packages: textblob\n",
      "Successfully installed textblob-0.18.0.post0\n"
     ]
    }
   ],
   "source": [
    "# !pip install textblob # (처음 실행시 필요)"
   ]
  },
  {
   "cell_type": "code",
   "execution_count": 9,
   "metadata": {},
   "outputs": [
    {
     "name": "stderr",
     "output_type": "stream",
     "text": [
      "[nltk_data] Downloading package vader_lexicon to\n",
      "[nltk_data]     C:\\Users\\rladn\\AppData\\Roaming\\nltk_data...\n",
      "[nltk_data]   Package vader_lexicon is already up-to-date!\n",
      "[nltk_data] Downloading package stopwords to\n",
      "[nltk_data]     C:\\Users\\rladn\\AppData\\Roaming\\nltk_data...\n",
      "[nltk_data]   Package stopwords is already up-to-date!\n"
     ]
    }
   ],
   "source": [
    "import numpy as np\n",
    "import pandas as pd\n",
    "import matplotlib.pyplot as plt\n",
    "import seaborn as sns\n",
    "import matplotlib as mpl\n",
    "from matplotlib import font_manager, rc\n",
    "from nltk.sentiment.vader import SentimentIntensityAnalyzer\n",
    "from textblob import TextBlob # 설치 필요 -> !pip install textblob\n",
    "import nltk\n",
    "import chardet\n",
    "\n",
    "%matplotlib inline\n",
    "\n",
    "# nltk 데이터 다운로드 (첫 실행 시 필요)\n",
    "nltk.download('vader_lexicon')\n",
    "\n",
    "# nltk 데이터 다운로드 (첫 실행 시 필요)\n",
    "nltk.download('stopwords')\n",
    "\n",
    "# 글꼴 경로 지정\n",
    "font_path = \"c:/Windows/Fonts/malgun.ttf\"  # 윈도우에 설치된 맑은 고딕 폰트 경로\n",
    "\n",
    "# 폰트 이름 얻어오기\n",
    "font_name = font_manager.FontProperties(fname=font_path).get_name()\n",
    "\n",
    "# matplotlib의 rc(run command) 기능을 이용하여 글꼴 설정\n",
    "mpl.rc('font', family=font_name)\n",
    "\n",
    "# 유니코드에서  음수 부호 설정\n",
    "mpl.rc('axes', unicode_minus=False)\n",
    "\n",
    "raw = pd.read_csv('../data/Paris/reviews.csv') # 저는 따로 파일두고 작업해서 path 수정했습니다.\n",
    "df = raw.copy()\n",
    "\n",
    "df = df[['listing_id','date','comments']]\n",
    "\n",
    "df = df.rename(columns= {\n",
    "    'listing_id' : '숙소_id',\n",
    "    'date': '리뷰날짜',\n",
    "    'comments' : '리뷰'\n",
    "})\n",
    "\n",
    "# 리뷰 결측치 제거\n",
    "df = df[~df['리뷰'].isnull()]\n",
    "\n",
    "# 리뷰 내의 <br> 제거\n",
    "df['리뷰'] = df['리뷰'].str.replace('<br>\\s*', ' ', regex=True)\n",
    "df['리뷰'] = df['리뷰'].str.replace('<br/>\\s*', ' ', regex=True)"
   ]
  },
  {
   "cell_type": "code",
   "execution_count": 11,
   "metadata": {},
   "outputs": [],
   "source": [
    "# import nltk\n",
    "\n",
    "# # nltk 데이터 다운로드 (첫 실행 시 필요)\n",
    "# nltk.download('vader_lexicon')\n",
    "\n",
    "# # nltk 데이터 다운로드 (첫 실행 시 필요)\n",
    "# nltk.download('stopwords')"
   ]
  },
  {
   "cell_type": "code",
   "execution_count": 12,
   "metadata": {},
   "outputs": [
    {
     "data": {
      "text/plain": [
       "(1793899, 3)"
      ]
     },
     "execution_count": 12,
     "metadata": {},
     "output_type": "execute_result"
    }
   ],
   "source": [
    "df.shape"
   ]
  },
  {
   "cell_type": "code",
   "execution_count": 13,
   "metadata": {},
   "outputs": [
    {
     "data": {
      "text/html": [
       "<div>\n",
       "<style scoped>\n",
       "    .dataframe tbody tr th:only-of-type {\n",
       "        vertical-align: middle;\n",
       "    }\n",
       "\n",
       "    .dataframe tbody tr th {\n",
       "        vertical-align: top;\n",
       "    }\n",
       "\n",
       "    .dataframe thead th {\n",
       "        text-align: right;\n",
       "    }\n",
       "</style>\n",
       "<table border=\"1\" class=\"dataframe\">\n",
       "  <thead>\n",
       "    <tr style=\"text-align: right;\">\n",
       "      <th></th>\n",
       "      <th>숙소_id</th>\n",
       "      <th>리뷰날짜</th>\n",
       "      <th>리뷰</th>\n",
       "    </tr>\n",
       "  </thead>\n",
       "  <tbody>\n",
       "    <tr>\n",
       "      <th>0</th>\n",
       "      <td>39948</td>\n",
       "      <td>2013-09-20</td>\n",
       "      <td>Aliyah et Philippe m'ont réservé un accueil ex...</td>\n",
       "    </tr>\n",
       "    <tr>\n",
       "      <th>1</th>\n",
       "      <td>39948</td>\n",
       "      <td>2013-09-29</td>\n",
       "      <td>Aliyah and Philippe are gracious hosts and eve...</td>\n",
       "    </tr>\n",
       "    <tr>\n",
       "      <th>2</th>\n",
       "      <td>3109</td>\n",
       "      <td>2017-10-28</td>\n",
       "      <td>Tout s'est bien déroulé. Merci bien. PG</td>\n",
       "    </tr>\n",
       "    <tr>\n",
       "      <th>3</th>\n",
       "      <td>3109</td>\n",
       "      <td>2017-11-03</td>\n",
       "      <td>Un petit nid fouiller douillet situé dans  app...</td>\n",
       "    </tr>\n",
       "    <tr>\n",
       "      <th>4</th>\n",
       "      <td>3109</td>\n",
       "      <td>2018-07-24</td>\n",
       "      <td>Appartement spacieux, propre,clair, et calme à...</td>\n",
       "    </tr>\n",
       "  </tbody>\n",
       "</table>\n",
       "</div>"
      ],
      "text/plain": [
       "   숙소_id        리뷰날짜                                                 리뷰\n",
       "0  39948  2013-09-20  Aliyah et Philippe m'ont réservé un accueil ex...\n",
       "1  39948  2013-09-29  Aliyah and Philippe are gracious hosts and eve...\n",
       "2   3109  2017-10-28            Tout s'est bien déroulé. Merci bien. PG\n",
       "3   3109  2017-11-03  Un petit nid fouiller douillet situé dans  app...\n",
       "4   3109  2018-07-24  Appartement spacieux, propre,clair, et calme à..."
      ]
     },
     "execution_count": 13,
     "metadata": {},
     "output_type": "execute_result"
    }
   ],
   "source": [
    "df.head()"
   ]
  },
  {
   "cell_type": "markdown",
   "metadata": {},
   "source": [
    "### sample 2만개 무작위 추출"
   ]
  },
  {
   "cell_type": "code",
   "execution_count": 15,
   "metadata": {},
   "outputs": [
    {
     "data": {
      "text/html": [
       "<div>\n",
       "<style scoped>\n",
       "    .dataframe tbody tr th:only-of-type {\n",
       "        vertical-align: middle;\n",
       "    }\n",
       "\n",
       "    .dataframe tbody tr th {\n",
       "        vertical-align: top;\n",
       "    }\n",
       "\n",
       "    .dataframe thead th {\n",
       "        text-align: right;\n",
       "    }\n",
       "</style>\n",
       "<table border=\"1\" class=\"dataframe\">\n",
       "  <thead>\n",
       "    <tr style=\"text-align: right;\">\n",
       "      <th></th>\n",
       "      <th>숙소_id</th>\n",
       "      <th>리뷰날짜</th>\n",
       "      <th>리뷰</th>\n",
       "    </tr>\n",
       "  </thead>\n",
       "  <tbody>\n",
       "    <tr>\n",
       "      <th>635135</th>\n",
       "      <td>16111334</td>\n",
       "      <td>2017-06-06</td>\n",
       "      <td>It's small place, perfect for one person, Juan...</td>\n",
       "    </tr>\n",
       "    <tr>\n",
       "      <th>876778</th>\n",
       "      <td>25372146</td>\n",
       "      <td>2018-07-16</td>\n",
       "      <td>A great host. Easy to get too and great for in...</td>\n",
       "    </tr>\n",
       "    <tr>\n",
       "      <th>1596014</th>\n",
       "      <td>736692003338033524</td>\n",
       "      <td>2022-12-31</td>\n",
       "      <td>This place is exactly as described. It has bee...</td>\n",
       "    </tr>\n",
       "    <tr>\n",
       "      <th>1178606</th>\n",
       "      <td>39887301</td>\n",
       "      <td>2023-05-13</td>\n",
       "      <td>5*</td>\n",
       "    </tr>\n",
       "    <tr>\n",
       "      <th>1482117</th>\n",
       "      <td>604943910199552860</td>\n",
       "      <td>2023-02-10</td>\n",
       "      <td>Très bien</td>\n",
       "    </tr>\n",
       "  </tbody>\n",
       "</table>\n",
       "</div>"
      ],
      "text/plain": [
       "                      숙소_id        리뷰날짜  \\\n",
       "635135             16111334  2017-06-06   \n",
       "876778             25372146  2018-07-16   \n",
       "1596014  736692003338033524  2022-12-31   \n",
       "1178606            39887301  2023-05-13   \n",
       "1482117  604943910199552860  2023-02-10   \n",
       "\n",
       "                                                        리뷰  \n",
       "635135   It's small place, perfect for one person, Juan...  \n",
       "876778   A great host. Easy to get too and great for in...  \n",
       "1596014  This place is exactly as described. It has bee...  \n",
       "1178606                                                 5*  \n",
       "1482117                                          Très bien  "
      ]
     },
     "execution_count": 15,
     "metadata": {},
     "output_type": "execute_result"
    }
   ],
   "source": [
    "sample_df = df.sample(n=20000, random_state=42)\n",
    "sample_df.head()"
   ]
  },
  {
   "cell_type": "markdown",
   "metadata": {},
   "source": [
    "영어 리뷰와 영어가 아닌 리뷰 분리"
   ]
  },
  {
   "cell_type": "code",
   "execution_count": 19,
   "metadata": {},
   "outputs": [
    {
     "name": "stdout",
     "output_type": "stream",
     "text": [
      "Defaulting to user installation because normal site-packages is not writeable\n",
      "Collecting langdetect\n",
      "  Downloading langdetect-1.0.9.tar.gz (981 kB)\n",
      "     ---------------------------------------- 0.0/981.5 kB ? eta -:--:--\n",
      "      ------------------------------------ 20.5/981.5 kB 330.3 kB/s eta 0:00:03\n",
      "     - ----------------------------------- 41.0/981.5 kB 487.6 kB/s eta 0:00:02\n",
      "     -------------- ----------------------- 368.6/981.5 kB 2.9 MB/s eta 0:00:01\n",
      "     -------------------------------------  972.8/981.5 kB 5.6 MB/s eta 0:00:01\n",
      "     -------------------------------------  972.8/981.5 kB 5.6 MB/s eta 0:00:01\n",
      "     -------------------------------------- 981.5/981.5 kB 4.4 MB/s eta 0:00:00\n",
      "  Preparing metadata (setup.py): started\n",
      "  Preparing metadata (setup.py): finished with status 'done'\n",
      "Requirement already satisfied: six in c:\\programdata\\anaconda3\\lib\\site-packages (from langdetect) (1.16.0)\n",
      "Building wheels for collected packages: langdetect\n",
      "  Building wheel for langdetect (setup.py): started\n",
      "  Building wheel for langdetect (setup.py): finished with status 'done'\n",
      "  Created wheel for langdetect: filename=langdetect-1.0.9-py3-none-any.whl size=993253 sha256=bb468175717b0a6248b7d8bfee117179d9c78b55ecee90164743d38383c3dac9\n",
      "  Stored in directory: c:\\users\\rladn\\appdata\\local\\pip\\cache\\wheels\\0a\\f2\\b2\\e5ca405801e05eb7c8ed5b3b4bcf1fcabcd6272c167640072e\n",
      "Successfully built langdetect\n",
      "Installing collected packages: langdetect\n",
      "Successfully installed langdetect-1.0.9\n"
     ]
    }
   ],
   "source": [
    "# !pip install langdetect"
   ]
  },
  {
   "cell_type": "code",
   "execution_count": 20,
   "metadata": {},
   "outputs": [
    {
     "name": "stdout",
     "output_type": "stream",
     "text": [
      "영어 리뷰 개수: 11185\n",
      "영어가 아닌 리뷰 개수: 8815\n"
     ]
    }
   ],
   "source": [
    "from langdetect import detect, DetectorFactory\n",
    "from langdetect.lang_detect_exception import LangDetectException\n",
    "\n",
    "# Seed를 설정하여 결과의 재현성을 확보\n",
    "DetectorFactory.seed = 0\n",
    "\n",
    "# 리뷰 데이터를 영어와 영어가 아닌 데이터로 분리하는 함수\n",
    "def is_english(text):\n",
    "    try:\n",
    "        return detect(text) == 'en'\n",
    "    except LangDetectException:\n",
    "        return False\n",
    "\n",
    "# 영어로 적힌 리뷰와 영어가 아닌 리뷰로 분리\n",
    "sample_df['is_english'] = sample_df['리뷰'].apply(is_english)\n",
    "english_reviews = sample_df[sample_df['is_english'] == True]\n",
    "non_english_reviews = sample_df[sample_df['is_english'] == False]\n",
    "\n",
    "# 결과 확인\n",
    "print(f\"영어 리뷰 개수: {english_reviews.shape[0]}\")\n",
    "print(f\"영어가 아닌 리뷰 개수: {non_english_reviews.shape[0]}\")"
   ]
  },
  {
   "cell_type": "code",
   "execution_count": 22,
   "metadata": {},
   "outputs": [
    {
     "data": {
      "text/html": [
       "<div>\n",
       "<style scoped>\n",
       "    .dataframe tbody tr th:only-of-type {\n",
       "        vertical-align: middle;\n",
       "    }\n",
       "\n",
       "    .dataframe tbody tr th {\n",
       "        vertical-align: top;\n",
       "    }\n",
       "\n",
       "    .dataframe thead th {\n",
       "        text-align: right;\n",
       "    }\n",
       "</style>\n",
       "<table border=\"1\" class=\"dataframe\">\n",
       "  <thead>\n",
       "    <tr style=\"text-align: right;\">\n",
       "      <th></th>\n",
       "      <th>숙소_id</th>\n",
       "      <th>리뷰날짜</th>\n",
       "      <th>리뷰</th>\n",
       "      <th>is_english</th>\n",
       "    </tr>\n",
       "  </thead>\n",
       "  <tbody>\n",
       "    <tr>\n",
       "      <th>1178606</th>\n",
       "      <td>39887301</td>\n",
       "      <td>2023-05-13</td>\n",
       "      <td>5*</td>\n",
       "      <td>False</td>\n",
       "    </tr>\n",
       "    <tr>\n",
       "      <th>1482117</th>\n",
       "      <td>604943910199552860</td>\n",
       "      <td>2023-02-10</td>\n",
       "      <td>Très bien</td>\n",
       "      <td>False</td>\n",
       "    </tr>\n",
       "    <tr>\n",
       "      <th>367721</th>\n",
       "      <td>6746882</td>\n",
       "      <td>2022-02-12</td>\n",
       "      <td>Nous avons passé un excellent séjour, la local...</td>\n",
       "      <td>False</td>\n",
       "    </tr>\n",
       "    <tr>\n",
       "      <th>921014</th>\n",
       "      <td>26953855</td>\n",
       "      <td>2018-08-17</td>\n",
       "      <td>Rien à redire! Je recommande chaudement cet ap...</td>\n",
       "      <td>False</td>\n",
       "    </tr>\n",
       "    <tr>\n",
       "      <th>859467</th>\n",
       "      <td>24511658</td>\n",
       "      <td>2019-06-23</td>\n",
       "      <td>Studio très agréable, espace optimisé à son ma...</td>\n",
       "      <td>False</td>\n",
       "    </tr>\n",
       "  </tbody>\n",
       "</table>\n",
       "</div>"
      ],
      "text/plain": [
       "                      숙소_id        리뷰날짜  \\\n",
       "1178606            39887301  2023-05-13   \n",
       "1482117  604943910199552860  2023-02-10   \n",
       "367721              6746882  2022-02-12   \n",
       "921014             26953855  2018-08-17   \n",
       "859467             24511658  2019-06-23   \n",
       "\n",
       "                                                        리뷰  is_english  \n",
       "1178606                                                 5*       False  \n",
       "1482117                                          Très bien       False  \n",
       "367721   Nous avons passé un excellent séjour, la local...       False  \n",
       "921014   Rien à redire! Je recommande chaudement cet ap...       False  \n",
       "859467   Studio très agréable, espace optimisé à son ma...       False  "
      ]
     },
     "execution_count": 22,
     "metadata": {},
     "output_type": "execute_result"
    }
   ],
   "source": [
    "non_english_reviews.head()"
   ]
  },
  {
   "cell_type": "code",
   "execution_count": 29,
   "metadata": {},
   "outputs": [
    {
     "data": {
      "text/plain": [
       "1178606                                                   5*\n",
       "1482117                                            Très bien\n",
       "367721     Nous avons passé un excellent séjour, la local...\n",
       "921014     Rien à redire! Je recommande chaudement cet ap...\n",
       "859467     Studio très agréable, espace optimisé à son ma...\n",
       "                                 ...                        \n",
       "1263227    Die Unterkunft würde ich bei jeder Paris Reise...\n",
       "365954     Le studio d'Amélie est conforme au descriptif....\n",
       "135235     La habitación es tal cual se muestra en las im...\n",
       "1056501                                     Buen alojamiento\n",
       "370015     Esta en buena ubicación la casa hay total libe...\n",
       "Name: 리뷰, Length: 8815, dtype: object"
      ]
     },
     "execution_count": 29,
     "metadata": {},
     "output_type": "execute_result"
    }
   ],
   "source": [
    "non_english_reviews['리뷰']"
   ]
  },
  {
   "cell_type": "markdown",
   "metadata": {},
   "source": [
    "구글 translation api 사용하여 샘플 리뷰 영어로 변환 (처음 샘플링 할 때만 사용)\n",
    " - 이유 : 크래딧 사용 최소화를 위해"
   ]
  },
  {
   "cell_type": "code",
   "execution_count": 16,
   "metadata": {},
   "outputs": [
    {
     "name": "stdout",
     "output_type": "stream",
     "text": [
      "Defaulting to user installation because normal site-packages is not writeable\n",
      "Collecting google-cloud-translate==2.0.1\n",
      "  Downloading google_cloud_translate-2.0.1-py2.py3-none-any.whl.metadata (4.0 kB)\n",
      "Collecting google-api-core<2.0.0dev,>=1.15.0 (from google-api-core[grpc]<2.0.0dev,>=1.15.0->google-cloud-translate==2.0.1)\n",
      "  Downloading google_api_core-1.34.1-py3-none-any.whl.metadata (2.4 kB)\n",
      "Collecting google-cloud-core<2.0dev,>=1.1.0 (from google-cloud-translate==2.0.1)\n",
      "  Downloading google_cloud_core-1.7.3-py2.py3-none-any.whl.metadata (2.4 kB)\n",
      "Collecting googleapis-common-protos<2.0dev,>=1.56.2 (from google-api-core<2.0.0dev,>=1.15.0->google-api-core[grpc]<2.0.0dev,>=1.15.0->google-cloud-translate==2.0.1)\n",
      "  Downloading googleapis_common_protos-1.63.1-py2.py3-none-any.whl.metadata (1.5 kB)\n",
      "Requirement already satisfied: protobuf!=3.20.0,!=3.20.1,!=4.21.0,!=4.21.1,!=4.21.2,!=4.21.3,!=4.21.4,!=4.21.5,<4.0.0dev,>=3.19.5 in c:\\programdata\\anaconda3\\lib\\site-packages (from google-api-core<2.0.0dev,>=1.15.0->google-api-core[grpc]<2.0.0dev,>=1.15.0->google-cloud-translate==2.0.1) (3.20.3)\n",
      "Collecting google-auth<3.0dev,>=1.25.0 (from google-api-core<2.0.0dev,>=1.15.0->google-api-core[grpc]<2.0.0dev,>=1.15.0->google-cloud-translate==2.0.1)\n",
      "  Downloading google_auth-2.29.0-py2.py3-none-any.whl.metadata (4.7 kB)\n",
      "Requirement already satisfied: requests<3.0.0dev,>=2.18.0 in c:\\programdata\\anaconda3\\lib\\site-packages (from google-api-core<2.0.0dev,>=1.15.0->google-api-core[grpc]<2.0.0dev,>=1.15.0->google-cloud-translate==2.0.1) (2.31.0)\n",
      "Collecting grpcio<2.0dev,>=1.33.2 (from google-api-core[grpc]<2.0.0dev,>=1.15.0->google-cloud-translate==2.0.1)\n",
      "  Downloading grpcio-1.64.1-cp311-cp311-win_amd64.whl.metadata (3.4 kB)\n",
      "Collecting grpcio-status<2.0dev,>=1.33.2 (from google-api-core[grpc]<2.0.0dev,>=1.15.0->google-cloud-translate==2.0.1)\n",
      "  Downloading grpcio_status-1.64.1-py3-none-any.whl.metadata (1.1 kB)\n",
      "Collecting google-auth<3.0dev,>=1.25.0 (from google-api-core<2.0.0dev,>=1.15.0->google-api-core[grpc]<2.0.0dev,>=1.15.0->google-cloud-translate==2.0.1)\n",
      "  Downloading google_auth-1.35.0-py2.py3-none-any.whl.metadata (3.5 kB)\n",
      "Requirement already satisfied: six>=1.12.0 in c:\\programdata\\anaconda3\\lib\\site-packages (from google-cloud-core<2.0dev,>=1.1.0->google-cloud-translate==2.0.1) (1.16.0)\n",
      "Requirement already satisfied: cachetools<5.0,>=2.0.0 in c:\\programdata\\anaconda3\\lib\\site-packages (from google-auth<3.0dev,>=1.25.0->google-api-core<2.0.0dev,>=1.15.0->google-api-core[grpc]<2.0.0dev,>=1.15.0->google-cloud-translate==2.0.1) (4.2.2)\n",
      "Requirement already satisfied: pyasn1-modules>=0.2.1 in c:\\programdata\\anaconda3\\lib\\site-packages (from google-auth<3.0dev,>=1.25.0->google-api-core<2.0.0dev,>=1.15.0->google-api-core[grpc]<2.0.0dev,>=1.15.0->google-cloud-translate==2.0.1) (0.2.8)\n",
      "Requirement already satisfied: setuptools>=40.3.0 in c:\\programdata\\anaconda3\\lib\\site-packages (from google-auth<3.0dev,>=1.25.0->google-api-core<2.0.0dev,>=1.15.0->google-api-core[grpc]<2.0.0dev,>=1.15.0->google-cloud-translate==2.0.1) (68.2.2)\n",
      "Collecting rsa<5,>=3.1.4 (from google-auth<3.0dev,>=1.25.0->google-api-core<2.0.0dev,>=1.15.0->google-api-core[grpc]<2.0.0dev,>=1.15.0->google-cloud-translate==2.0.1)\n",
      "  Downloading rsa-4.9-py3-none-any.whl.metadata (4.2 kB)\n",
      "INFO: pip is looking at multiple versions of grpcio-status to determine which version is compatible with other requirements. This could take a while.\n",
      "Collecting grpcio-status<2.0dev,>=1.33.2 (from google-api-core[grpc]<2.0.0dev,>=1.15.0->google-cloud-translate==2.0.1)\n",
      "  Downloading grpcio_status-1.64.0-py3-none-any.whl.metadata (1.1 kB)\n",
      "  Downloading grpcio_status-1.63.0-py3-none-any.whl.metadata (1.1 kB)\n",
      "  Downloading grpcio_status-1.62.2-py3-none-any.whl.metadata (1.3 kB)\n",
      "  Downloading grpcio_status-1.62.1-py3-none-any.whl.metadata (1.3 kB)\n",
      "  Downloading grpcio_status-1.62.0-py3-none-any.whl.metadata (1.3 kB)\n",
      "  Downloading grpcio_status-1.60.1-py3-none-any.whl.metadata (1.3 kB)\n",
      "  Downloading grpcio_status-1.60.0-py3-none-any.whl.metadata (1.3 kB)\n",
      "INFO: pip is still looking at multiple versions of grpcio-status to determine which version is compatible with other requirements. This could take a while.\n",
      "  Downloading grpcio_status-1.59.3-py3-none-any.whl.metadata (1.3 kB)\n",
      "  Downloading grpcio_status-1.59.2-py3-none-any.whl.metadata (1.3 kB)\n",
      "  Downloading grpcio_status-1.59.0-py3-none-any.whl.metadata (1.3 kB)\n",
      "  Downloading grpcio_status-1.58.0-py3-none-any.whl.metadata (1.3 kB)\n",
      "  Downloading grpcio_status-1.57.0-py3-none-any.whl.metadata (1.2 kB)\n",
      "INFO: This is taking longer than usual. You might need to provide the dependency resolver with stricter constraints to reduce runtime. See https://pip.pypa.io/warnings/backtracking for guidance. If you want to abort this run, press Ctrl + C.\n",
      "  Downloading grpcio_status-1.56.2-py3-none-any.whl.metadata (1.3 kB)\n",
      "  Downloading grpcio_status-1.56.0-py3-none-any.whl.metadata (1.3 kB)\n",
      "  Downloading grpcio_status-1.55.3-py3-none-any.whl.metadata (1.3 kB)\n",
      "  Downloading grpcio_status-1.54.3-py3-none-any.whl.metadata (1.3 kB)\n",
      "  Downloading grpcio_status-1.54.2-py3-none-any.whl.metadata (1.3 kB)\n",
      "  Downloading grpcio_status-1.54.0-py3-none-any.whl.metadata (1.3 kB)\n",
      "  Downloading grpcio_status-1.53.2-py3-none-any.whl.metadata (1.3 kB)\n",
      "  Downloading grpcio_status-1.53.1-py3-none-any.whl.metadata (1.3 kB)\n",
      "  Downloading grpcio_status-1.53.0-py3-none-any.whl.metadata (1.3 kB)\n",
      "  Downloading grpcio_status-1.51.3-py3-none-any.whl.metadata (1.3 kB)\n",
      "  Downloading grpcio_status-1.51.1-py3-none-any.whl.metadata (1.3 kB)\n",
      "  Downloading grpcio_status-1.50.0-py3-none-any.whl.metadata (1.3 kB)\n",
      "  Downloading grpcio_status-1.49.1-py3-none-any.whl.metadata (1.3 kB)\n",
      "  Downloading grpcio_status-1.48.2-py3-none-any.whl.metadata (1.2 kB)\n",
      "Requirement already satisfied: charset-normalizer<4,>=2 in c:\\programdata\\anaconda3\\lib\\site-packages (from requests<3.0.0dev,>=2.18.0->google-api-core<2.0.0dev,>=1.15.0->google-api-core[grpc]<2.0.0dev,>=1.15.0->google-cloud-translate==2.0.1) (2.0.4)\n",
      "Requirement already satisfied: idna<4,>=2.5 in c:\\programdata\\anaconda3\\lib\\site-packages (from requests<3.0.0dev,>=2.18.0->google-api-core<2.0.0dev,>=1.15.0->google-api-core[grpc]<2.0.0dev,>=1.15.0->google-cloud-translate==2.0.1) (3.4)\n",
      "Requirement already satisfied: urllib3<3,>=1.21.1 in c:\\programdata\\anaconda3\\lib\\site-packages (from requests<3.0.0dev,>=2.18.0->google-api-core<2.0.0dev,>=1.15.0->google-api-core[grpc]<2.0.0dev,>=1.15.0->google-cloud-translate==2.0.1) (2.0.7)\n",
      "Requirement already satisfied: certifi>=2017.4.17 in c:\\programdata\\anaconda3\\lib\\site-packages (from requests<3.0.0dev,>=2.18.0->google-api-core<2.0.0dev,>=1.15.0->google-api-core[grpc]<2.0.0dev,>=1.15.0->google-cloud-translate==2.0.1) (2024.2.2)\n",
      "Requirement already satisfied: pyasn1<0.5.0,>=0.4.6 in c:\\programdata\\anaconda3\\lib\\site-packages (from pyasn1-modules>=0.2.1->google-auth<3.0dev,>=1.25.0->google-api-core<2.0.0dev,>=1.15.0->google-api-core[grpc]<2.0.0dev,>=1.15.0->google-cloud-translate==2.0.1) (0.4.8)\n",
      "Downloading google_cloud_translate-2.0.1-py2.py3-none-any.whl (90 kB)\n",
      "   ---------------------------------------- 0.0/90.9 kB ? eta -:--:--\n",
      "   ---------------------------------------- 90.9/90.9 kB 5.0 MB/s eta 0:00:00\n",
      "Downloading google_api_core-1.34.1-py3-none-any.whl (120 kB)\n",
      "   ---------------------------------------- 0.0/120.4 kB ? eta -:--:--\n",
      "   ---------------------------------------- 120.4/120.4 kB ? eta 0:00:00\n",
      "Downloading google_cloud_core-1.7.3-py2.py3-none-any.whl (28 kB)\n",
      "Downloading google_auth-1.35.0-py2.py3-none-any.whl (152 kB)\n",
      "   ---------------------------------------- 0.0/152.9 kB ? eta -:--:--\n",
      "   ---------------------------------------- 152.9/152.9 kB ? eta 0:00:00\n",
      "Downloading googleapis_common_protos-1.63.1-py2.py3-none-any.whl (229 kB)\n",
      "   ---------------------------------------- 0.0/229.2 kB ? eta -:--:--\n",
      "   --------------------------------------- 229.2/229.2 kB 13.7 MB/s eta 0:00:00\n",
      "Downloading grpcio-1.64.1-cp311-cp311-win_amd64.whl (4.1 MB)\n",
      "   ---------------------------------------- 0.0/4.1 MB ? eta -:--:--\n",
      "   ----------------- ---------------------- 1.8/4.1 MB 58.1 MB/s eta 0:00:01\n",
      "   ---------------------------------------  4.1/4.1 MB 52.3 MB/s eta 0:00:01\n",
      "   ---------------------------------------- 4.1/4.1 MB 43.9 MB/s eta 0:00:00\n",
      "Downloading grpcio_status-1.48.2-py3-none-any.whl (14 kB)\n",
      "Downloading rsa-4.9-py3-none-any.whl (34 kB)\n",
      "Installing collected packages: rsa, grpcio, googleapis-common-protos, grpcio-status, google-auth, google-api-core, google-cloud-core, google-cloud-translate\n",
      "Successfully installed google-api-core-1.34.1 google-auth-1.35.0 google-cloud-core-1.7.3 google-cloud-translate-2.0.1 googleapis-common-protos-1.63.1 grpcio-1.64.1 grpcio-status-1.48.2 rsa-4.9\n"
     ]
    },
    {
     "name": "stderr",
     "output_type": "stream",
     "text": [
      "  WARNING: The scripts pyrsa-decrypt.exe, pyrsa-encrypt.exe, pyrsa-keygen.exe, pyrsa-priv2pub.exe, pyrsa-sign.exe and pyrsa-verify.exe are installed in 'C:\\Users\\rladn\\AppData\\Roaming\\Python\\Python311\\Scripts' which is not on PATH.\n",
      "  Consider adding this directory to PATH or, if you prefer to suppress this warning, use --no-warn-script-location.\n"
     ]
    }
   ],
   "source": [
    "# !pip install google-cloud-translate==2.0.1"
   ]
  },
  {
   "cell_type": "code",
   "execution_count": 26,
   "metadata": {},
   "outputs": [],
   "source": [
    "import os\n",
    "\n",
    "# 이 경로는 실제 JSON 키 파일의 위치에 맞게 수정해야 합니다.\n",
    "os.environ[\"GOOGLE_APPLICATION_CREDENTIALS\"] = \"../data/Paris/mulcam-translation-api-2be39ee1960a.json\""
   ]
  },
  {
   "cell_type": "code",
   "execution_count": 27,
   "metadata": {},
   "outputs": [],
   "source": [
    "from google.cloud import translate_v2 as translate\n",
    "\n",
    "translate_client = translate.Client()\n",
    "\n",
    "def translate_to_english(text):\n",
    "    # 타겟 언어는 'en'으로 설정합니다.\n",
    "    result = translate_client.translate(text, target_language='en')\n",
    "    return result['translatedText']"
   ]
  },
  {
   "cell_type": "code",
   "execution_count": 30,
   "metadata": {},
   "outputs": [
    {
     "name": "stderr",
     "output_type": "stream",
     "text": [
      "C:\\Users\\rladn\\AppData\\Local\\Temp\\ipykernel_11324\\2955057302.py:2: SettingWithCopyWarning: \n",
      "A value is trying to be set on a copy of a slice from a DataFrame.\n",
      "Try using .loc[row_indexer,col_indexer] = value instead\n",
      "\n",
      "See the caveats in the documentation: https://pandas.pydata.org/pandas-docs/stable/user_guide/indexing.html#returning-a-view-versus-a-copy\n",
      "  non_english_reviews['translated_review'] = non_english_reviews['리뷰'].apply(translate_to_english)\n"
     ]
    }
   ],
   "source": [
    "# 주의: 이 과정은 비용이 많이 들고 시간이 오래 걸릴 수 있습니다.\n",
    "non_english_reviews['translated_review'] = non_english_reviews['리뷰'].apply(translate_to_english)"
   ]
  },
  {
   "cell_type": "code",
   "execution_count": 31,
   "metadata": {},
   "outputs": [
    {
     "name": "stderr",
     "output_type": "stream",
     "text": [
      "C:\\Users\\rladn\\AppData\\Local\\Temp\\ipykernel_11324\\3244173923.py:2: SettingWithCopyWarning: \n",
      "A value is trying to be set on a copy of a slice from a DataFrame.\n",
      "Try using .loc[row_indexer,col_indexer] = value instead\n",
      "\n",
      "See the caveats in the documentation: https://pandas.pydata.org/pandas-docs/stable/user_guide/indexing.html#returning-a-view-versus-a-copy\n",
      "  non_english_reviews['리뷰'] = non_english_reviews['translated_review']\n",
      "C:\\Users\\rladn\\AppData\\Local\\Temp\\ipykernel_11324\\3244173923.py:5: SettingWithCopyWarning: \n",
      "A value is trying to be set on a copy of a slice from a DataFrame\n",
      "\n",
      "See the caveats in the documentation: https://pandas.pydata.org/pandas-docs/stable/user_guide/indexing.html#returning-a-view-versus-a-copy\n",
      "  non_english_reviews.drop(['is_english', 'translated_review'], axis=1, inplace=True)\n",
      "C:\\Users\\rladn\\AppData\\Local\\Temp\\ipykernel_11324\\3244173923.py:6: SettingWithCopyWarning: \n",
      "A value is trying to be set on a copy of a slice from a DataFrame\n",
      "\n",
      "See the caveats in the documentation: https://pandas.pydata.org/pandas-docs/stable/user_guide/indexing.html#returning-a-view-versus-a-copy\n",
      "  english_reviews.drop(['is_english'], axis=1, inplace=True)\n"
     ]
    }
   ],
   "source": [
    "# 번역된 리뷰를 '리뷰' 컬럼에 저장\n",
    "non_english_reviews['리뷰'] = non_english_reviews['translated_review']\n",
    "\n",
    "# 필요 없는 컬럼 제거\n",
    "non_english_reviews.drop(['is_english', 'translated_review'], axis=1, inplace=True)\n",
    "english_reviews.drop(['is_english'], axis=1, inplace=True)\n",
    "\n",
    "# 데이터 합치기\n",
    "combined_reviews = pd.concat([english_reviews, non_english_reviews], ignore_index=True)"
   ]
  },
  {
   "cell_type": "code",
   "execution_count": 32,
   "metadata": {},
   "outputs": [
    {
     "data": {
      "text/html": [
       "<div>\n",
       "<style scoped>\n",
       "    .dataframe tbody tr th:only-of-type {\n",
       "        vertical-align: middle;\n",
       "    }\n",
       "\n",
       "    .dataframe tbody tr th {\n",
       "        vertical-align: top;\n",
       "    }\n",
       "\n",
       "    .dataframe thead th {\n",
       "        text-align: right;\n",
       "    }\n",
       "</style>\n",
       "<table border=\"1\" class=\"dataframe\">\n",
       "  <thead>\n",
       "    <tr style=\"text-align: right;\">\n",
       "      <th></th>\n",
       "      <th>숙소_id</th>\n",
       "      <th>리뷰날짜</th>\n",
       "      <th>리뷰</th>\n",
       "    </tr>\n",
       "  </thead>\n",
       "  <tbody>\n",
       "    <tr>\n",
       "      <th>0</th>\n",
       "      <td>16111334</td>\n",
       "      <td>2017-06-06</td>\n",
       "      <td>It's small place, perfect for one person, Juan...</td>\n",
       "    </tr>\n",
       "    <tr>\n",
       "      <th>1</th>\n",
       "      <td>25372146</td>\n",
       "      <td>2018-07-16</td>\n",
       "      <td>A great host. Easy to get too and great for in...</td>\n",
       "    </tr>\n",
       "    <tr>\n",
       "      <th>2</th>\n",
       "      <td>736692003338033524</td>\n",
       "      <td>2022-12-31</td>\n",
       "      <td>This place is exactly as described. It has bee...</td>\n",
       "    </tr>\n",
       "    <tr>\n",
       "      <th>3</th>\n",
       "      <td>46506548</td>\n",
       "      <td>2022-07-05</td>\n",
       "      <td>This place was fantastic ! The location was pe...</td>\n",
       "    </tr>\n",
       "    <tr>\n",
       "      <th>4</th>\n",
       "      <td>16584190</td>\n",
       "      <td>2019-05-23</td>\n",
       "      <td>Anne's apartment was an excellent base for our...</td>\n",
       "    </tr>\n",
       "    <tr>\n",
       "      <th>...</th>\n",
       "      <td>...</td>\n",
       "      <td>...</td>\n",
       "      <td>...</td>\n",
       "    </tr>\n",
       "    <tr>\n",
       "      <th>19995</th>\n",
       "      <td>44200125</td>\n",
       "      <td>2023-07-30</td>\n",
       "      <td>I would book this accommodation again on every...</td>\n",
       "    </tr>\n",
       "    <tr>\n",
       "      <th>19996</th>\n",
       "      <td>6838781</td>\n",
       "      <td>2022-11-18</td>\n",
       "      <td>Amélie&amp;#39;s studio conforms to the descriptio...</td>\n",
       "    </tr>\n",
       "    <tr>\n",
       "      <th>19997</th>\n",
       "      <td>1487718</td>\n",
       "      <td>2023-10-21</td>\n",
       "      <td>The room is as shown in the images, it is smal...</td>\n",
       "    </tr>\n",
       "    <tr>\n",
       "      <th>19998</th>\n",
       "      <td>34090374</td>\n",
       "      <td>2019-06-15</td>\n",
       "      <td>Good accommodation</td>\n",
       "    </tr>\n",
       "    <tr>\n",
       "      <th>19999</th>\n",
       "      <td>6871640</td>\n",
       "      <td>2019-09-14</td>\n",
       "      <td>The house is in a good location, there is tota...</td>\n",
       "    </tr>\n",
       "  </tbody>\n",
       "</table>\n",
       "<p>20000 rows × 3 columns</p>\n",
       "</div>"
      ],
      "text/plain": [
       "                    숙소_id        리뷰날짜  \\\n",
       "0                16111334  2017-06-06   \n",
       "1                25372146  2018-07-16   \n",
       "2      736692003338033524  2022-12-31   \n",
       "3                46506548  2022-07-05   \n",
       "4                16584190  2019-05-23   \n",
       "...                   ...         ...   \n",
       "19995            44200125  2023-07-30   \n",
       "19996             6838781  2022-11-18   \n",
       "19997             1487718  2023-10-21   \n",
       "19998            34090374  2019-06-15   \n",
       "19999             6871640  2019-09-14   \n",
       "\n",
       "                                                      리뷰  \n",
       "0      It's small place, perfect for one person, Juan...  \n",
       "1      A great host. Easy to get too and great for in...  \n",
       "2      This place is exactly as described. It has bee...  \n",
       "3      This place was fantastic ! The location was pe...  \n",
       "4      Anne's apartment was an excellent base for our...  \n",
       "...                                                  ...  \n",
       "19995  I would book this accommodation again on every...  \n",
       "19996  Amélie&#39;s studio conforms to the descriptio...  \n",
       "19997  The room is as shown in the images, it is smal...  \n",
       "19998                                 Good accommodation  \n",
       "19999  The house is in a good location, there is tota...  \n",
       "\n",
       "[20000 rows x 3 columns]"
      ]
     },
     "execution_count": 32,
     "metadata": {},
     "output_type": "execute_result"
    }
   ],
   "source": [
    "combined_reviews"
   ]
  },
  {
   "cell_type": "markdown",
   "metadata": {},
   "source": [
    "영어 변환 후 다시 전처리 한번 더  진행 (혹시몰라서)"
   ]
  },
  {
   "cell_type": "code",
   "execution_count": 34,
   "metadata": {},
   "outputs": [
    {
     "name": "stderr",
     "output_type": "stream",
     "text": [
      "[nltk_data] Downloading package stopwords to\n",
      "[nltk_data]     C:\\Users\\rladn\\AppData\\Roaming\\nltk_data...\n",
      "[nltk_data]   Package stopwords is already up-to-date!\n",
      "[nltk_data] Downloading package punkt to\n",
      "[nltk_data]     C:\\Users\\rladn\\AppData\\Roaming\\nltk_data...\n",
      "[nltk_data]   Unzipping tokenizers\\punkt.zip.\n",
      "[nltk_data] Downloading package wordnet to\n",
      "[nltk_data]     C:\\Users\\rladn\\AppData\\Roaming\\nltk_data...\n"
     ]
    },
    {
     "data": {
      "text/plain": [
       "True"
      ]
     },
     "execution_count": 34,
     "metadata": {},
     "output_type": "execute_result"
    }
   ],
   "source": [
    "import nltk\n",
    "\n",
    "# NLTK 데이터 다운로드\n",
    "nltk.download('stopwords')\n",
    "nltk.download('punkt')\n",
    "nltk.download('wordnet')"
   ]
  },
  {
   "cell_type": "code",
   "execution_count": 35,
   "metadata": {},
   "outputs": [
    {
     "name": "stderr",
     "output_type": "stream",
     "text": [
      "[nltk_data] Downloading package stopwords to\n",
      "[nltk_data]     C:\\Users\\rladn\\AppData\\Roaming\\nltk_data...\n",
      "[nltk_data]   Package stopwords is already up-to-date!\n",
      "[nltk_data] Downloading package punkt to\n",
      "[nltk_data]     C:\\Users\\rladn\\AppData\\Roaming\\nltk_data...\n",
      "[nltk_data]   Package punkt is already up-to-date!\n",
      "[nltk_data] Downloading package wordnet to\n",
      "[nltk_data]     C:\\Users\\rladn\\AppData\\Roaming\\nltk_data...\n",
      "[nltk_data]   Package wordnet is already up-to-date!\n"
     ]
    },
    {
     "name": "stdout",
     "output_type": "stream",
     "text": [
      "[('the', 50542), ('and', 41300), ('a', 29992), ('to', 24102), ('is', 20966), ('very', 19188), ('wa', 17566), ('in', 16959), ('apartment', 12858), ('we', 11813)]\n",
      "sentiment\n",
      "positive    19123\n",
      "negative      328\n",
      "neutral       283\n",
      "Name: count, dtype: int64\n"
     ]
    }
   ],
   "source": [
    "import pandas as pd\n",
    "import re\n",
    "from nltk.corpus import stopwords\n",
    "from nltk.tokenize import word_tokenize\n",
    "from nltk.stem import WordNetLemmatizer\n",
    "import nltk\n",
    "\n",
    "# NLTK 데이터 다운로드\n",
    "nltk.download('stopwords')\n",
    "nltk.download('punkt')\n",
    "nltk.download('wordnet')\n",
    "\n",
    "# 1. 데이터 정제\n",
    "# 중복 제거\n",
    "combined_reviews.drop_duplicates(subset=['리뷰'], inplace=True)\n",
    "\n",
    "# 결측값 처리\n",
    "combined_reviews.dropna(subset=['리뷰'], inplace=True)\n",
    "\n",
    "# 2. 텍스트 전처리\n",
    "def preprocess_text(text):\n",
    "    # 소문자로 변환\n",
    "    text = text.lower()\n",
    "    # 구두점 제거\n",
    "    text = re.sub(r'[^\\w\\s]', '', text)\n",
    "    # 불용어 제거\n",
    "    stop_words = set(stopwords.words('english'))\n",
    "    word_tokens = word_tokenize(text)\n",
    "    text = ' '.join([word for word in word_tokens if word not in stop_words])\n",
    "    # 표제어 추출\n",
    "    lemmatizer = WordNetLemmatizer()\n",
    "    text = ' '.join([lemmatizer.lemmatize(word) for word in word_tokens])\n",
    "    return text\n",
    "\n",
    "combined_reviews['processed_review'] = combined_reviews['리뷰'].apply(preprocess_text)\n",
    "\n",
    "# 3. 데이터 분석\n",
    "# >> 단어 빈도수 확인\n",
    "from collections import Counter\n",
    "\n",
    "all_words = ' '.join(combined_reviews['processed_review']).split()\n",
    "word_freq = Counter(all_words)\n",
    "\n",
    "# 상위 10개의 단어 출력\n",
    "print(word_freq.most_common(10))\n",
    "\n",
    "# 예: 감정 분석\n",
    "from textblob import TextBlob\n",
    "\n",
    "def analyze_sentiment(text):\n",
    "    analysis = TextBlob(text)\n",
    "    if analysis.sentiment.polarity > 0:\n",
    "        return 'positive'\n",
    "    elif analysis.sentiment.polarity == 0:\n",
    "        return 'neutral'\n",
    "    else:\n",
    "        return 'negative'\n",
    "\n",
    "combined_reviews['sentiment'] = combined_reviews['processed_review'].apply(analyze_sentiment)\n",
    "\n",
    "# 감정 분석 결과 요약\n",
    "sentiment_summary = combined_reviews['sentiment'].value_counts()\n",
    "print(sentiment_summary)\n",
    "\n",
    "# 결과 저장 (예: CSV 파일로 저장) - 처음 샘플링 때만 사용\n",
    "# combined_reviews.to_csv(\"processed_reviews.csv\", index=False)\n"
   ]
  },
  {
   "cell_type": "markdown",
   "metadata": {},
   "source": [
    "단어 빈도수 시각화"
   ]
  },
  {
   "cell_type": "code",
   "execution_count": 36,
   "metadata": {},
   "outputs": [
    {
     "name": "stderr",
     "output_type": "stream",
     "text": [
      "C:\\Users\\rladn\\AppData\\Local\\Temp\\ipykernel_11324\\1058729888.py:14: FutureWarning: \n",
      "\n",
      "Passing `palette` without assigning `hue` is deprecated and will be removed in v0.14.0. Assign the `y` variable to `hue` and set `legend=False` for the same effect.\n",
      "\n",
      "  sns.barplot(x=frequencies, y=words, palette=\"Blues_d\")\n"
     ]
    },
    {
     "data": {
      "image/png": "[encoded data removed]",
      "text/plain": [
       "<Figure size 1000x600 with 1 Axes>"
      ]
     },
     "metadata": {},
     "output_type": "display_data"
    }
   ],
   "source": [
    "import matplotlib.pyplot as plt\n",
    "import seaborn as sns\n",
    "\n",
    "# 상위 10개 단어와 그 빈도수 추출\n",
    "top_words = word_freq.most_common(10)\n",
    "words = [word[0] for word in top_words]\n",
    "frequencies = [word[1] for word in top_words]\n",
    "\n",
    "# seaborn 스타일 설정\n",
    "sns.set_style(\"whitegrid\")\n",
    "\n",
    "# 막대 그래프 생성\n",
    "plt.figure(figsize=(10, 6))\n",
    "sns.barplot(x=frequencies, y=words, palette=\"Blues_d\")\n",
    "\n",
    "# 그래프 제목 및 라벨 설정\n",
    "plt.title('Top 10 Most Common Words', fontsize=16)\n",
    "plt.xlabel('Frequency', fontsize=14)\n",
    "plt.ylabel('Words', fontsize=14)\n",
    "\n",
    "# 그래프 보여주기\n",
    "plt.show()"
   ]
  },
  {
   "cell_type": "markdown",
   "metadata": {},
   "source": [
    "??? 시각화 전에 잘못한듯...\n",
    " - 단어 빈도 수 결과 확인하니 불용어 제거가 제대로 안 된듯"
   ]
  },
  {
   "cell_type": "markdown",
   "metadata": {},
   "source": [
    "여기서는 구글 api로 번역하는 부분이 오래 걸리므로 저장한 csv 파일을 바탕으로 01-2로 넘어감"
   ]
  },
  {
   "cell_type": "code",
   "execution_count": null,
   "metadata": {},
   "outputs": [],
   "source": []
  }
 ],
 "metadata": {
  "kernelspec": {
   "display_name": "base",
   "language": "python",
   "name": "python3"
  },
  "language_info": {
   "codemirror_mode": {
    "name": "ipython",
    "version": 3
   },
   "file_extension": ".py",
   "mimetype": "text/x-python",
   "name": "python",
   "nbconvert_exporter": "python",
   "pygments_lexer": "ipython3",
   "version": "3.11.7"
  }
 },
 "nbformat": 4,
 "nbformat_minor": 2
}
