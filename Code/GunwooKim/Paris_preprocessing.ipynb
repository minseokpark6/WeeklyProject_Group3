{
 "cells": [
  {
   "cell_type": "code",
   "execution_count": 552,
   "metadata": {},
   "outputs": [],
   "source": [
    "import numpy as np\n",
    "import pandas as pd\n",
    "import matplotlib.pyplot as plt\n",
    "import seaborn as sns\n",
    "%matplotlib inline"
   ]
  },
  {
   "cell_type": "code",
   "execution_count": 553,
   "metadata": {},
   "outputs": [
    {
     "data": {
      "text/html": [
       "<div>\n",
       "<style scoped>\n",
       "    .dataframe tbody tr th:only-of-type {\n",
       "        vertical-align: middle;\n",
       "    }\n",
       "\n",
       "    .dataframe tbody tr th {\n",
       "        vertical-align: top;\n",
       "    }\n",
       "\n",
       "    .dataframe thead th {\n",
       "        text-align: right;\n",
       "    }\n",
       "</style>\n",
       "<table border=\"1\" class=\"dataframe\">\n",
       "  <thead>\n",
       "    <tr style=\"text-align: right;\">\n",
       "      <th></th>\n",
       "      <th>id</th>\n",
       "      <th>listing_url</th>\n",
       "      <th>scrape_id</th>\n",
       "      <th>last_scraped</th>\n",
       "      <th>source</th>\n",
       "      <th>name</th>\n",
       "      <th>description</th>\n",
       "      <th>neighborhood_overview</th>\n",
       "      <th>picture_url</th>\n",
       "      <th>host_id</th>\n",
       "      <th>...</th>\n",
       "      <th>review_scores_communication</th>\n",
       "      <th>review_scores_location</th>\n",
       "      <th>review_scores_value</th>\n",
       "      <th>license</th>\n",
       "      <th>instant_bookable</th>\n",
       "      <th>calculated_host_listings_count</th>\n",
       "      <th>calculated_host_listings_count_entire_homes</th>\n",
       "      <th>calculated_host_listings_count_private_rooms</th>\n",
       "      <th>calculated_host_listings_count_shared_rooms</th>\n",
       "      <th>reviews_per_month</th>\n",
       "    </tr>\n",
       "  </thead>\n",
       "  <tbody>\n",
       "    <tr>\n",
       "      <th>0</th>\n",
       "      <td>3109</td>\n",
       "      <td>https://www.airbnb.com/rooms/3109</td>\n",
       "      <td>20240316023852</td>\n",
       "      <td>2024-03-19</td>\n",
       "      <td>city scrape</td>\n",
       "      <td>zen and calm</td>\n",
       "      <td>Lovely Appartment with one bedroom with a Quee...</td>\n",
       "      <td>Good restaurants&lt;br /&gt;very close the Montparna...</td>\n",
       "      <td>https://a0.muscache.com/pictures/miso/Hosting-...</td>\n",
       "      <td>3631</td>\n",
       "      <td>...</td>\n",
       "      <td>5.00</td>\n",
       "      <td>5.00</td>\n",
       "      <td>5.00</td>\n",
       "      <td>7511409139079</td>\n",
       "      <td>f</td>\n",
       "      <td>1</td>\n",
       "      <td>1</td>\n",
       "      <td>0</td>\n",
       "      <td>0</td>\n",
       "      <td>0.05</td>\n",
       "    </tr>\n",
       "    <tr>\n",
       "      <th>1</th>\n",
       "      <td>165409</td>\n",
       "      <td>https://www.airbnb.com/rooms/165409</td>\n",
       "      <td>20240316023852</td>\n",
       "      <td>2024-03-19</td>\n",
       "      <td>city scrape</td>\n",
       "      <td>studio charme Haut Marais PARIS</td>\n",
       "      <td>You'll love this typical parisian flat.</td>\n",
       "      <td>NaN</td>\n",
       "      <td>https://a0.muscache.com/pictures/miso/Hosting-...</td>\n",
       "      <td>788732</td>\n",
       "      <td>...</td>\n",
       "      <td>4.89</td>\n",
       "      <td>4.95</td>\n",
       "      <td>4.74</td>\n",
       "      <td>7510309597559</td>\n",
       "      <td>f</td>\n",
       "      <td>1</td>\n",
       "      <td>1</td>\n",
       "      <td>0</td>\n",
       "      <td>0</td>\n",
       "      <td>0.69</td>\n",
       "    </tr>\n",
       "    <tr>\n",
       "      <th>2</th>\n",
       "      <td>5396</td>\n",
       "      <td>https://www.airbnb.com/rooms/5396</td>\n",
       "      <td>20240316023852</td>\n",
       "      <td>2024-03-18</td>\n",
       "      <td>city scrape</td>\n",
       "      <td>Your perfect Paris studio on Île Saint-Louis</td>\n",
       "      <td>NEW SOFA-BED SINCE JUNE 2023, Please disregard...</td>\n",
       "      <td>You are within walking distance to the Louvre,...</td>\n",
       "      <td>https://a0.muscache.com/pictures/52413/f9bf76f...</td>\n",
       "      <td>7903</td>\n",
       "      <td>...</td>\n",
       "      <td>4.84</td>\n",
       "      <td>4.96</td>\n",
       "      <td>4.58</td>\n",
       "      <td>7510402838018</td>\n",
       "      <td>f</td>\n",
       "      <td>2</td>\n",
       "      <td>1</td>\n",
       "      <td>1</td>\n",
       "      <td>0</td>\n",
       "      <td>2.19</td>\n",
       "    </tr>\n",
       "    <tr>\n",
       "      <th>3</th>\n",
       "      <td>166370</td>\n",
       "      <td>https://www.airbnb.com/rooms/166370</td>\n",
       "      <td>20240316023852</td>\n",
       "      <td>2024-03-16</td>\n",
       "      <td>city scrape</td>\n",
       "      <td>Big appartment with view 4 people</td>\n",
       "      <td>2 Bedrooms apartment for up to 4 people, with ...</td>\n",
       "      <td>The avenue is located nearby the animated dist...</td>\n",
       "      <td>https://a0.muscache.com/pictures/74224563/6c9e...</td>\n",
       "      <td>793032</td>\n",
       "      <td>...</td>\n",
       "      <td>4.79</td>\n",
       "      <td>4.65</td>\n",
       "      <td>4.48</td>\n",
       "      <td>7511007974397</td>\n",
       "      <td>f</td>\n",
       "      <td>1</td>\n",
       "      <td>1</td>\n",
       "      <td>0</td>\n",
       "      <td>0</td>\n",
       "      <td>0.51</td>\n",
       "    </tr>\n",
       "    <tr>\n",
       "      <th>4</th>\n",
       "      <td>39948</td>\n",
       "      <td>https://www.airbnb.com/rooms/39948</td>\n",
       "      <td>20240316023852</td>\n",
       "      <td>2024-03-19</td>\n",
       "      <td>previous scrape</td>\n",
       "      <td>COSY INDEPENDENT ROOM IN CENTRAL PARIS</td>\n",
       "      <td>Large newly-renovated guest room in central Pa...</td>\n",
       "      <td>Located in the heart of Paris, The Montorgueil...</td>\n",
       "      <td>https://a0.muscache.com/pictures/f898fb0b-e72e...</td>\n",
       "      <td>171483</td>\n",
       "      <td>...</td>\n",
       "      <td>4.97</td>\n",
       "      <td>4.94</td>\n",
       "      <td>4.82</td>\n",
       "      <td>7510200734360</td>\n",
       "      <td>f</td>\n",
       "      <td>1</td>\n",
       "      <td>0</td>\n",
       "      <td>1</td>\n",
       "      <td>0</td>\n",
       "      <td>0.99</td>\n",
       "    </tr>\n",
       "    <tr>\n",
       "      <th>...</th>\n",
       "      <td>...</td>\n",
       "      <td>...</td>\n",
       "      <td>...</td>\n",
       "      <td>...</td>\n",
       "      <td>...</td>\n",
       "      <td>...</td>\n",
       "      <td>...</td>\n",
       "      <td>...</td>\n",
       "      <td>...</td>\n",
       "      <td>...</td>\n",
       "      <td>...</td>\n",
       "      <td>...</td>\n",
       "      <td>...</td>\n",
       "      <td>...</td>\n",
       "      <td>...</td>\n",
       "      <td>...</td>\n",
       "      <td>...</td>\n",
       "      <td>...</td>\n",
       "      <td>...</td>\n",
       "      <td>...</td>\n",
       "      <td>...</td>\n",
       "    </tr>\n",
       "    <tr>\n",
       "      <th>84392</th>\n",
       "      <td>1112562855977040914</td>\n",
       "      <td>https://www.airbnb.com/rooms/1112562855977040914</td>\n",
       "      <td>20240316023852</td>\n",
       "      <td>2024-03-19</td>\n",
       "      <td>city scrape</td>\n",
       "      <td>Artists neighbour apt /private yard 10mn Print...</td>\n",
       "      <td>Simplify your life at this peaceful place&lt;br /...</td>\n",
       "      <td>NaN</td>\n",
       "      <td>https://a0.muscache.com/pictures/692d2ee5-8469...</td>\n",
       "      <td>448413156</td>\n",
       "      <td>...</td>\n",
       "      <td>NaN</td>\n",
       "      <td>NaN</td>\n",
       "      <td>NaN</td>\n",
       "      <td>7510164795125</td>\n",
       "      <td>t</td>\n",
       "      <td>15</td>\n",
       "      <td>15</td>\n",
       "      <td>0</td>\n",
       "      <td>0</td>\n",
       "      <td>NaN</td>\n",
       "    </tr>\n",
       "    <tr>\n",
       "      <th>84393</th>\n",
       "      <td>1112591023192990750</td>\n",
       "      <td>https://www.airbnb.com/rooms/1112591023192990750</td>\n",
       "      <td>20240316023852</td>\n",
       "      <td>2024-03-18</td>\n",
       "      <td>city scrape</td>\n",
       "      <td>Appartement Tour Eiffel - Porte Dauphine - 2 Pers</td>\n",
       "      <td>Nestled in the heart of the prestigious 16th a...</td>\n",
       "      <td>A l’orée du bois, le jardin du Ranelagh est un...</td>\n",
       "      <td>https://a0.muscache.com/pictures/miso/Hosting-...</td>\n",
       "      <td>528792181</td>\n",
       "      <td>...</td>\n",
       "      <td>NaN</td>\n",
       "      <td>NaN</td>\n",
       "      <td>NaN</td>\n",
       "      <td>7511612355663</td>\n",
       "      <td>t</td>\n",
       "      <td>6</td>\n",
       "      <td>6</td>\n",
       "      <td>0</td>\n",
       "      <td>0</td>\n",
       "      <td>NaN</td>\n",
       "    </tr>\n",
       "    <tr>\n",
       "      <th>84394</th>\n",
       "      <td>1112842648117310093</td>\n",
       "      <td>https://www.airbnb.com/rooms/1112842648117310093</td>\n",
       "      <td>20240316023852</td>\n",
       "      <td>2024-03-19</td>\n",
       "      <td>city scrape</td>\n",
       "      <td>1621: Prime spot in Paris Olympic Games 2024</td>\n",
       "      <td>Discover the allure of our generously proporti...</td>\n",
       "      <td>Embark on an enchanting voyage of discovery th...</td>\n",
       "      <td>https://a0.muscache.com/pictures/prohost-api/H...</td>\n",
       "      <td>530443572</td>\n",
       "      <td>...</td>\n",
       "      <td>NaN</td>\n",
       "      <td>NaN</td>\n",
       "      <td>NaN</td>\n",
       "      <td>7510912350413</td>\n",
       "      <td>t</td>\n",
       "      <td>6</td>\n",
       "      <td>6</td>\n",
       "      <td>0</td>\n",
       "      <td>0</td>\n",
       "      <td>NaN</td>\n",
       "    </tr>\n",
       "    <tr>\n",
       "      <th>84395</th>\n",
       "      <td>1112843324939236177</td>\n",
       "      <td>https://www.airbnb.com/rooms/1112843324939236177</td>\n",
       "      <td>20240316023852</td>\n",
       "      <td>2024-03-18</td>\n",
       "      <td>city scrape</td>\n",
       "      <td>Stylish flat in the heart of the city</td>\n",
       "      <td>Welcome to Paris! We are delighted to welcome ...</td>\n",
       "      <td>The 6th arrondissement is home to Saint-Germai...</td>\n",
       "      <td>https://a0.muscache.com/pictures/prohost-api/H...</td>\n",
       "      <td>504268004</td>\n",
       "      <td>...</td>\n",
       "      <td>NaN</td>\n",
       "      <td>NaN</td>\n",
       "      <td>NaN</td>\n",
       "      <td>7510608018554</td>\n",
       "      <td>t</td>\n",
       "      <td>47</td>\n",
       "      <td>47</td>\n",
       "      <td>0</td>\n",
       "      <td>0</td>\n",
       "      <td>NaN</td>\n",
       "    </tr>\n",
       "    <tr>\n",
       "      <th>84396</th>\n",
       "      <td>1112849968490989659</td>\n",
       "      <td>https://www.airbnb.com/rooms/1112849968490989659</td>\n",
       "      <td>20240316023852</td>\n",
       "      <td>2024-03-18</td>\n",
       "      <td>city scrape</td>\n",
       "      <td>1637: Prime location in Paris Olympic Games 2024</td>\n",
       "      <td>Are you yearning for a romantic or adventurous...</td>\n",
       "      <td>Nestled within the vibrant heart of the 14th A...</td>\n",
       "      <td>https://a0.muscache.com/pictures/prohost-api/H...</td>\n",
       "      <td>530443572</td>\n",
       "      <td>...</td>\n",
       "      <td>NaN</td>\n",
       "      <td>NaN</td>\n",
       "      <td>NaN</td>\n",
       "      <td>7511412350670</td>\n",
       "      <td>t</td>\n",
       "      <td>6</td>\n",
       "      <td>6</td>\n",
       "      <td>0</td>\n",
       "      <td>0</td>\n",
       "      <td>NaN</td>\n",
       "    </tr>\n",
       "  </tbody>\n",
       "</table>\n",
       "<p>84397 rows × 75 columns</p>\n",
       "</div>"
      ],
      "text/plain": [
       "                        id                                       listing_url  \\\n",
       "0                     3109                 https://www.airbnb.com/rooms/3109   \n",
       "1                   165409               https://www.airbnb.com/rooms/165409   \n",
       "2                     5396                 https://www.airbnb.com/rooms/5396   \n",
       "3                   166370               https://www.airbnb.com/rooms/166370   \n",
       "4                    39948                https://www.airbnb.com/rooms/39948   \n",
       "...                    ...                                               ...   \n",
       "84392  1112562855977040914  https://www.airbnb.com/rooms/1112562855977040914   \n",
       "84393  1112591023192990750  https://www.airbnb.com/rooms/1112591023192990750   \n",
       "84394  1112842648117310093  https://www.airbnb.com/rooms/1112842648117310093   \n",
       "84395  1112843324939236177  https://www.airbnb.com/rooms/1112843324939236177   \n",
       "84396  1112849968490989659  https://www.airbnb.com/rooms/1112849968490989659   \n",
       "\n",
       "            scrape_id last_scraped           source  \\\n",
       "0      20240316023852   2024-03-19      city scrape   \n",
       "1      20240316023852   2024-03-19      city scrape   \n",
       "2      20240316023852   2024-03-18      city scrape   \n",
       "3      20240316023852   2024-03-16      city scrape   \n",
       "4      20240316023852   2024-03-19  previous scrape   \n",
       "...               ...          ...              ...   \n",
       "84392  20240316023852   2024-03-19      city scrape   \n",
       "84393  20240316023852   2024-03-18      city scrape   \n",
       "84394  20240316023852   2024-03-19      city scrape   \n",
       "84395  20240316023852   2024-03-18      city scrape   \n",
       "84396  20240316023852   2024-03-18      city scrape   \n",
       "\n",
       "                                                    name  \\\n",
       "0                                           zen and calm   \n",
       "1                        studio charme Haut Marais PARIS   \n",
       "2           Your perfect Paris studio on Île Saint-Louis   \n",
       "3                      Big appartment with view 4 people   \n",
       "4                 COSY INDEPENDENT ROOM IN CENTRAL PARIS   \n",
       "...                                                  ...   \n",
       "84392  Artists neighbour apt /private yard 10mn Print...   \n",
       "84393  Appartement Tour Eiffel - Porte Dauphine - 2 Pers   \n",
       "84394       1621: Prime spot in Paris Olympic Games 2024   \n",
       "84395              Stylish flat in the heart of the city   \n",
       "84396   1637: Prime location in Paris Olympic Games 2024   \n",
       "\n",
       "                                             description  \\\n",
       "0      Lovely Appartment with one bedroom with a Quee...   \n",
       "1                You'll love this typical parisian flat.   \n",
       "2      NEW SOFA-BED SINCE JUNE 2023, Please disregard...   \n",
       "3      2 Bedrooms apartment for up to 4 people, with ...   \n",
       "4      Large newly-renovated guest room in central Pa...   \n",
       "...                                                  ...   \n",
       "84392  Simplify your life at this peaceful place<br /...   \n",
       "84393  Nestled in the heart of the prestigious 16th a...   \n",
       "84394  Discover the allure of our generously proporti...   \n",
       "84395  Welcome to Paris! We are delighted to welcome ...   \n",
       "84396  Are you yearning for a romantic or adventurous...   \n",
       "\n",
       "                                   neighborhood_overview  \\\n",
       "0      Good restaurants<br />very close the Montparna...   \n",
       "1                                                    NaN   \n",
       "2      You are within walking distance to the Louvre,...   \n",
       "3      The avenue is located nearby the animated dist...   \n",
       "4      Located in the heart of Paris, The Montorgueil...   \n",
       "...                                                  ...   \n",
       "84392                                                NaN   \n",
       "84393  A l’orée du bois, le jardin du Ranelagh est un...   \n",
       "84394  Embark on an enchanting voyage of discovery th...   \n",
       "84395  The 6th arrondissement is home to Saint-Germai...   \n",
       "84396  Nestled within the vibrant heart of the 14th A...   \n",
       "\n",
       "                                             picture_url    host_id  ...  \\\n",
       "0      https://a0.muscache.com/pictures/miso/Hosting-...       3631  ...   \n",
       "1      https://a0.muscache.com/pictures/miso/Hosting-...     788732  ...   \n",
       "2      https://a0.muscache.com/pictures/52413/f9bf76f...       7903  ...   \n",
       "3      https://a0.muscache.com/pictures/74224563/6c9e...     793032  ...   \n",
       "4      https://a0.muscache.com/pictures/f898fb0b-e72e...     171483  ...   \n",
       "...                                                  ...        ...  ...   \n",
       "84392  https://a0.muscache.com/pictures/692d2ee5-8469...  448413156  ...   \n",
       "84393  https://a0.muscache.com/pictures/miso/Hosting-...  528792181  ...   \n",
       "84394  https://a0.muscache.com/pictures/prohost-api/H...  530443572  ...   \n",
       "84395  https://a0.muscache.com/pictures/prohost-api/H...  504268004  ...   \n",
       "84396  https://a0.muscache.com/pictures/prohost-api/H...  530443572  ...   \n",
       "\n",
       "      review_scores_communication review_scores_location review_scores_value  \\\n",
       "0                            5.00                   5.00                5.00   \n",
       "1                            4.89                   4.95                4.74   \n",
       "2                            4.84                   4.96                4.58   \n",
       "3                            4.79                   4.65                4.48   \n",
       "4                            4.97                   4.94                4.82   \n",
       "...                           ...                    ...                 ...   \n",
       "84392                         NaN                    NaN                 NaN   \n",
       "84393                         NaN                    NaN                 NaN   \n",
       "84394                         NaN                    NaN                 NaN   \n",
       "84395                         NaN                    NaN                 NaN   \n",
       "84396                         NaN                    NaN                 NaN   \n",
       "\n",
       "             license instant_bookable calculated_host_listings_count  \\\n",
       "0      7511409139079                f                              1   \n",
       "1      7510309597559                f                              1   \n",
       "2      7510402838018                f                              2   \n",
       "3      7511007974397                f                              1   \n",
       "4      7510200734360                f                              1   \n",
       "...              ...              ...                            ...   \n",
       "84392  7510164795125                t                             15   \n",
       "84393  7511612355663                t                              6   \n",
       "84394  7510912350413                t                              6   \n",
       "84395  7510608018554                t                             47   \n",
       "84396  7511412350670                t                              6   \n",
       "\n",
       "      calculated_host_listings_count_entire_homes  \\\n",
       "0                                               1   \n",
       "1                                               1   \n",
       "2                                               1   \n",
       "3                                               1   \n",
       "4                                               0   \n",
       "...                                           ...   \n",
       "84392                                          15   \n",
       "84393                                           6   \n",
       "84394                                           6   \n",
       "84395                                          47   \n",
       "84396                                           6   \n",
       "\n",
       "      calculated_host_listings_count_private_rooms  \\\n",
       "0                                                0   \n",
       "1                                                0   \n",
       "2                                                1   \n",
       "3                                                0   \n",
       "4                                                1   \n",
       "...                                            ...   \n",
       "84392                                            0   \n",
       "84393                                            0   \n",
       "84394                                            0   \n",
       "84395                                            0   \n",
       "84396                                            0   \n",
       "\n",
       "      calculated_host_listings_count_shared_rooms reviews_per_month  \n",
       "0                                               0              0.05  \n",
       "1                                               0              0.69  \n",
       "2                                               0              2.19  \n",
       "3                                               0              0.51  \n",
       "4                                               0              0.99  \n",
       "...                                           ...               ...  \n",
       "84392                                           0               NaN  \n",
       "84393                                           0               NaN  \n",
       "84394                                           0               NaN  \n",
       "84395                                           0               NaN  \n",
       "84396                                           0               NaN  \n",
       "\n",
       "[84397 rows x 75 columns]"
      ]
     },
     "execution_count": 553,
     "metadata": {},
     "output_type": "execute_result"
    }
   ],
   "source": [
    "# 데이터 불러오기\n",
    "path='../data/Paris/listings.csv'\n",
    "pd.read_csv(path)"
   ]
  },
  {
   "cell_type": "code",
   "execution_count": 554,
   "metadata": {},
   "outputs": [
    {
     "data": {
      "text/html": [
       "<div>\n",
       "<style scoped>\n",
       "    .dataframe tbody tr th:only-of-type {\n",
       "        vertical-align: middle;\n",
       "    }\n",
       "\n",
       "    .dataframe tbody tr th {\n",
       "        vertical-align: top;\n",
       "    }\n",
       "\n",
       "    .dataframe thead th {\n",
       "        text-align: right;\n",
       "    }\n",
       "</style>\n",
       "<table border=\"1\" class=\"dataframe\">\n",
       "  <thead>\n",
       "    <tr style=\"text-align: right;\">\n",
       "      <th></th>\n",
       "      <th>id</th>\n",
       "      <th>listing_url</th>\n",
       "      <th>scrape_id</th>\n",
       "      <th>last_scraped</th>\n",
       "      <th>source</th>\n",
       "      <th>name</th>\n",
       "      <th>description</th>\n",
       "      <th>neighborhood_overview</th>\n",
       "      <th>picture_url</th>\n",
       "      <th>host_id</th>\n",
       "      <th>...</th>\n",
       "      <th>review_scores_communication</th>\n",
       "      <th>review_scores_location</th>\n",
       "      <th>review_scores_value</th>\n",
       "      <th>license</th>\n",
       "      <th>instant_bookable</th>\n",
       "      <th>calculated_host_listings_count</th>\n",
       "      <th>calculated_host_listings_count_entire_homes</th>\n",
       "      <th>calculated_host_listings_count_private_rooms</th>\n",
       "      <th>calculated_host_listings_count_shared_rooms</th>\n",
       "      <th>reviews_per_month</th>\n",
       "    </tr>\n",
       "  </thead>\n",
       "  <tbody>\n",
       "    <tr>\n",
       "      <th>0</th>\n",
       "      <td>3109</td>\n",
       "      <td>https://www.airbnb.com/rooms/3109</td>\n",
       "      <td>20240316023852</td>\n",
       "      <td>2024-03-19</td>\n",
       "      <td>city scrape</td>\n",
       "      <td>zen and calm</td>\n",
       "      <td>Lovely Appartment with one bedroom with a Quee...</td>\n",
       "      <td>Good restaurants&lt;br /&gt;very close the Montparna...</td>\n",
       "      <td>https://a0.muscache.com/pictures/miso/Hosting-...</td>\n",
       "      <td>3631</td>\n",
       "      <td>...</td>\n",
       "      <td>5.00</td>\n",
       "      <td>5.00</td>\n",
       "      <td>5.00</td>\n",
       "      <td>7511409139079</td>\n",
       "      <td>f</td>\n",
       "      <td>1</td>\n",
       "      <td>1</td>\n",
       "      <td>0</td>\n",
       "      <td>0</td>\n",
       "      <td>0.05</td>\n",
       "    </tr>\n",
       "    <tr>\n",
       "      <th>1</th>\n",
       "      <td>165409</td>\n",
       "      <td>https://www.airbnb.com/rooms/165409</td>\n",
       "      <td>20240316023852</td>\n",
       "      <td>2024-03-19</td>\n",
       "      <td>city scrape</td>\n",
       "      <td>studio charme Haut Marais PARIS</td>\n",
       "      <td>You'll love this typical parisian flat.</td>\n",
       "      <td>NaN</td>\n",
       "      <td>https://a0.muscache.com/pictures/miso/Hosting-...</td>\n",
       "      <td>788732</td>\n",
       "      <td>...</td>\n",
       "      <td>4.89</td>\n",
       "      <td>4.95</td>\n",
       "      <td>4.74</td>\n",
       "      <td>7510309597559</td>\n",
       "      <td>f</td>\n",
       "      <td>1</td>\n",
       "      <td>1</td>\n",
       "      <td>0</td>\n",
       "      <td>0</td>\n",
       "      <td>0.69</td>\n",
       "    </tr>\n",
       "    <tr>\n",
       "      <th>2</th>\n",
       "      <td>5396</td>\n",
       "      <td>https://www.airbnb.com/rooms/5396</td>\n",
       "      <td>20240316023852</td>\n",
       "      <td>2024-03-18</td>\n",
       "      <td>city scrape</td>\n",
       "      <td>Your perfect Paris studio on Île Saint-Louis</td>\n",
       "      <td>NEW SOFA-BED SINCE JUNE 2023, Please disregard...</td>\n",
       "      <td>You are within walking distance to the Louvre,...</td>\n",
       "      <td>https://a0.muscache.com/pictures/52413/f9bf76f...</td>\n",
       "      <td>7903</td>\n",
       "      <td>...</td>\n",
       "      <td>4.84</td>\n",
       "      <td>4.96</td>\n",
       "      <td>4.58</td>\n",
       "      <td>7510402838018</td>\n",
       "      <td>f</td>\n",
       "      <td>2</td>\n",
       "      <td>1</td>\n",
       "      <td>1</td>\n",
       "      <td>0</td>\n",
       "      <td>2.19</td>\n",
       "    </tr>\n",
       "    <tr>\n",
       "      <th>3</th>\n",
       "      <td>166370</td>\n",
       "      <td>https://www.airbnb.com/rooms/166370</td>\n",
       "      <td>20240316023852</td>\n",
       "      <td>2024-03-16</td>\n",
       "      <td>city scrape</td>\n",
       "      <td>Big appartment with view 4 people</td>\n",
       "      <td>2 Bedrooms apartment for up to 4 people, with ...</td>\n",
       "      <td>The avenue is located nearby the animated dist...</td>\n",
       "      <td>https://a0.muscache.com/pictures/74224563/6c9e...</td>\n",
       "      <td>793032</td>\n",
       "      <td>...</td>\n",
       "      <td>4.79</td>\n",
       "      <td>4.65</td>\n",
       "      <td>4.48</td>\n",
       "      <td>7511007974397</td>\n",
       "      <td>f</td>\n",
       "      <td>1</td>\n",
       "      <td>1</td>\n",
       "      <td>0</td>\n",
       "      <td>0</td>\n",
       "      <td>0.51</td>\n",
       "    </tr>\n",
       "    <tr>\n",
       "      <th>4</th>\n",
       "      <td>39948</td>\n",
       "      <td>https://www.airbnb.com/rooms/39948</td>\n",
       "      <td>20240316023852</td>\n",
       "      <td>2024-03-19</td>\n",
       "      <td>previous scrape</td>\n",
       "      <td>COSY INDEPENDENT ROOM IN CENTRAL PARIS</td>\n",
       "      <td>Large newly-renovated guest room in central Pa...</td>\n",
       "      <td>Located in the heart of Paris, The Montorgueil...</td>\n",
       "      <td>https://a0.muscache.com/pictures/f898fb0b-e72e...</td>\n",
       "      <td>171483</td>\n",
       "      <td>...</td>\n",
       "      <td>4.97</td>\n",
       "      <td>4.94</td>\n",
       "      <td>4.82</td>\n",
       "      <td>7510200734360</td>\n",
       "      <td>f</td>\n",
       "      <td>1</td>\n",
       "      <td>0</td>\n",
       "      <td>1</td>\n",
       "      <td>0</td>\n",
       "      <td>0.99</td>\n",
       "    </tr>\n",
       "  </tbody>\n",
       "</table>\n",
       "<p>5 rows × 75 columns</p>\n",
       "</div>"
      ],
      "text/plain": [
       "       id                          listing_url       scrape_id last_scraped  \\\n",
       "0    3109    https://www.airbnb.com/rooms/3109  20240316023852   2024-03-19   \n",
       "1  165409  https://www.airbnb.com/rooms/165409  20240316023852   2024-03-19   \n",
       "2    5396    https://www.airbnb.com/rooms/5396  20240316023852   2024-03-18   \n",
       "3  166370  https://www.airbnb.com/rooms/166370  20240316023852   2024-03-16   \n",
       "4   39948   https://www.airbnb.com/rooms/39948  20240316023852   2024-03-19   \n",
       "\n",
       "            source                                          name  \\\n",
       "0      city scrape                                  zen and calm   \n",
       "1      city scrape               studio charme Haut Marais PARIS   \n",
       "2      city scrape  Your perfect Paris studio on Île Saint-Louis   \n",
       "3      city scrape             Big appartment with view 4 people   \n",
       "4  previous scrape        COSY INDEPENDENT ROOM IN CENTRAL PARIS   \n",
       "\n",
       "                                         description  \\\n",
       "0  Lovely Appartment with one bedroom with a Quee...   \n",
       "1            You'll love this typical parisian flat.   \n",
       "2  NEW SOFA-BED SINCE JUNE 2023, Please disregard...   \n",
       "3  2 Bedrooms apartment for up to 4 people, with ...   \n",
       "4  Large newly-renovated guest room in central Pa...   \n",
       "\n",
       "                               neighborhood_overview  \\\n",
       "0  Good restaurants<br />very close the Montparna...   \n",
       "1                                                NaN   \n",
       "2  You are within walking distance to the Louvre,...   \n",
       "3  The avenue is located nearby the animated dist...   \n",
       "4  Located in the heart of Paris, The Montorgueil...   \n",
       "\n",
       "                                         picture_url  host_id  ...  \\\n",
       "0  https://a0.muscache.com/pictures/miso/Hosting-...     3631  ...   \n",
       "1  https://a0.muscache.com/pictures/miso/Hosting-...   788732  ...   \n",
       "2  https://a0.muscache.com/pictures/52413/f9bf76f...     7903  ...   \n",
       "3  https://a0.muscache.com/pictures/74224563/6c9e...   793032  ...   \n",
       "4  https://a0.muscache.com/pictures/f898fb0b-e72e...   171483  ...   \n",
       "\n",
       "  review_scores_communication review_scores_location review_scores_value  \\\n",
       "0                        5.00                   5.00                5.00   \n",
       "1                        4.89                   4.95                4.74   \n",
       "2                        4.84                   4.96                4.58   \n",
       "3                        4.79                   4.65                4.48   \n",
       "4                        4.97                   4.94                4.82   \n",
       "\n",
       "         license instant_bookable calculated_host_listings_count  \\\n",
       "0  7511409139079                f                              1   \n",
       "1  7510309597559                f                              1   \n",
       "2  7510402838018                f                              2   \n",
       "3  7511007974397                f                              1   \n",
       "4  7510200734360                f                              1   \n",
       "\n",
       "  calculated_host_listings_count_entire_homes  \\\n",
       "0                                           1   \n",
       "1                                           1   \n",
       "2                                           1   \n",
       "3                                           1   \n",
       "4                                           0   \n",
       "\n",
       "  calculated_host_listings_count_private_rooms  \\\n",
       "0                                            0   \n",
       "1                                            0   \n",
       "2                                            1   \n",
       "3                                            0   \n",
       "4                                            1   \n",
       "\n",
       "  calculated_host_listings_count_shared_rooms reviews_per_month  \n",
       "0                                           0              0.05  \n",
       "1                                           0              0.69  \n",
       "2                                           0              2.19  \n",
       "3                                           0              0.51  \n",
       "4                                           0              0.99  \n",
       "\n",
       "[5 rows x 75 columns]"
      ]
     },
     "execution_count": 554,
     "metadata": {},
     "output_type": "execute_result"
    }
   ],
   "source": [
    "raw = pd.read_csv(path)\n",
    "dat = raw.copy()\n",
    "dat.head()"
   ]
  },
  {
   "cell_type": "code",
   "execution_count": 555,
   "metadata": {},
   "outputs": [
    {
     "data": {
      "text/html": [
       "<div>\n",
       "<style scoped>\n",
       "    .dataframe tbody tr th:only-of-type {\n",
       "        vertical-align: middle;\n",
       "    }\n",
       "\n",
       "    .dataframe tbody tr th {\n",
       "        vertical-align: top;\n",
       "    }\n",
       "\n",
       "    .dataframe thead th {\n",
       "        text-align: right;\n",
       "    }\n",
       "</style>\n",
       "<table border=\"1\" class=\"dataframe\">\n",
       "  <thead>\n",
       "    <tr style=\"text-align: right;\">\n",
       "      <th></th>\n",
       "      <th>id</th>\n",
       "      <th>host_id</th>\n",
       "      <th>host_response_time</th>\n",
       "      <th>host_response_rate</th>\n",
       "      <th>host_acceptance_rate</th>\n",
       "      <th>host_is_superhost</th>\n",
       "      <th>host_total_listings_count</th>\n",
       "      <th>neighbourhood_cleansed</th>\n",
       "      <th>room_type</th>\n",
       "      <th>accommodates</th>\n",
       "      <th>bathrooms</th>\n",
       "      <th>bedrooms</th>\n",
       "      <th>beds</th>\n",
       "      <th>amenities</th>\n",
       "      <th>price</th>\n",
       "      <th>minimum_nights</th>\n",
       "      <th>maximum_nights</th>\n",
       "    </tr>\n",
       "  </thead>\n",
       "  <tbody>\n",
       "    <tr>\n",
       "      <th>0</th>\n",
       "      <td>3109</td>\n",
       "      <td>3631</td>\n",
       "      <td>within a day</td>\n",
       "      <td>100%</td>\n",
       "      <td>80%</td>\n",
       "      <td>f</td>\n",
       "      <td>2.0</td>\n",
       "      <td>Observatoire</td>\n",
       "      <td>Entire home/apt</td>\n",
       "      <td>2</td>\n",
       "      <td>1.0</td>\n",
       "      <td>1.0</td>\n",
       "      <td>1.0</td>\n",
       "      <td>[\"Cooking basics\", \"Luggage dropoff allowed\", ...</td>\n",
       "      <td>$250.00</td>\n",
       "      <td>2</td>\n",
       "      <td>30</td>\n",
       "    </tr>\n",
       "    <tr>\n",
       "      <th>1</th>\n",
       "      <td>165409</td>\n",
       "      <td>788732</td>\n",
       "      <td>within a few hours</td>\n",
       "      <td>100%</td>\n",
       "      <td>96%</td>\n",
       "      <td>t</td>\n",
       "      <td>1.0</td>\n",
       "      <td>Temple</td>\n",
       "      <td>Entire home/apt</td>\n",
       "      <td>2</td>\n",
       "      <td>1.0</td>\n",
       "      <td>0.0</td>\n",
       "      <td>1.0</td>\n",
       "      <td>[\"Lockbox\", \"Wifi\", \"Kitchen\", \"Refrigerator\",...</td>\n",
       "      <td>$140.00</td>\n",
       "      <td>3</td>\n",
       "      <td>365</td>\n",
       "    </tr>\n",
       "    <tr>\n",
       "      <th>2</th>\n",
       "      <td>5396</td>\n",
       "      <td>7903</td>\n",
       "      <td>within an hour</td>\n",
       "      <td>100%</td>\n",
       "      <td>97%</td>\n",
       "      <td>f</td>\n",
       "      <td>3.0</td>\n",
       "      <td>Hôtel-de-Ville</td>\n",
       "      <td>Entire home/apt</td>\n",
       "      <td>2</td>\n",
       "      <td>1.0</td>\n",
       "      <td>0.0</td>\n",
       "      <td>1.0</td>\n",
       "      <td>[\"Cooking basics\", \"Long term stays allowed\", ...</td>\n",
       "      <td>$107.00</td>\n",
       "      <td>1</td>\n",
       "      <td>1125</td>\n",
       "    </tr>\n",
       "  </tbody>\n",
       "</table>\n",
       "</div>"
      ],
      "text/plain": [
       "       id  host_id  host_response_time host_response_rate  \\\n",
       "0    3109     3631        within a day               100%   \n",
       "1  165409   788732  within a few hours               100%   \n",
       "2    5396     7903      within an hour               100%   \n",
       "\n",
       "  host_acceptance_rate host_is_superhost  host_total_listings_count  \\\n",
       "0                  80%                 f                        2.0   \n",
       "1                  96%                 t                        1.0   \n",
       "2                  97%                 f                        3.0   \n",
       "\n",
       "  neighbourhood_cleansed        room_type  accommodates  bathrooms  bedrooms  \\\n",
       "0           Observatoire  Entire home/apt             2        1.0       1.0   \n",
       "1                 Temple  Entire home/apt             2        1.0       0.0   \n",
       "2         Hôtel-de-Ville  Entire home/apt             2        1.0       0.0   \n",
       "\n",
       "   beds                                          amenities    price  \\\n",
       "0   1.0  [\"Cooking basics\", \"Luggage dropoff allowed\", ...  $250.00   \n",
       "1   1.0  [\"Lockbox\", \"Wifi\", \"Kitchen\", \"Refrigerator\",...  $140.00   \n",
       "2   1.0  [\"Cooking basics\", \"Long term stays allowed\", ...  $107.00   \n",
       "\n",
       "   minimum_nights  maximum_nights  \n",
       "0               2              30  \n",
       "1               3             365  \n",
       "2               1            1125  "
      ]
     },
     "execution_count": 555,
     "metadata": {},
     "output_type": "execute_result"
    }
   ],
   "source": [
    "df_lodging = dat[['id', 'host_id','host_response_time','host_response_rate','host_acceptance_rate','host_is_superhost',\n",
    "                 'host_total_listings_count','neighbourhood_cleansed','room_type','accommodates','bathrooms','bedrooms',\n",
    "                 'beds','amenities','price','minimum_nights','maximum_nights']]\n",
    "df_lodging.head(3)"
   ]
  },
  {
   "cell_type": "code",
   "execution_count": 556,
   "metadata": {},
   "outputs": [
    {
     "data": {
      "text/html": [
       "<div>\n",
       "<style scoped>\n",
       "    .dataframe tbody tr th:only-of-type {\n",
       "        vertical-align: middle;\n",
       "    }\n",
       "\n",
       "    .dataframe tbody tr th {\n",
       "        vertical-align: top;\n",
       "    }\n",
       "\n",
       "    .dataframe thead th {\n",
       "        text-align: right;\n",
       "    }\n",
       "</style>\n",
       "<table border=\"1\" class=\"dataframe\">\n",
       "  <thead>\n",
       "    <tr style=\"text-align: right;\">\n",
       "      <th></th>\n",
       "      <th>숙소_id</th>\n",
       "      <th>호스트_id</th>\n",
       "      <th>답변_평균시간</th>\n",
       "      <th>문의_응답률</th>\n",
       "      <th>예약_수락률</th>\n",
       "      <th>슈퍼호스트</th>\n",
       "      <th>숙소_수</th>\n",
       "      <th>숙소_지역</th>\n",
       "      <th>숙소_유형</th>\n",
       "      <th>수용인원수</th>\n",
       "      <th>욕실수</th>\n",
       "      <th>침실수</th>\n",
       "      <th>침대수</th>\n",
       "      <th>편의시설</th>\n",
       "      <th>숙소_가격</th>\n",
       "      <th>최소_숙박일</th>\n",
       "      <th>최대_숙박일</th>\n",
       "    </tr>\n",
       "  </thead>\n",
       "  <tbody>\n",
       "    <tr>\n",
       "      <th>0</th>\n",
       "      <td>3109</td>\n",
       "      <td>3631</td>\n",
       "      <td>within a day</td>\n",
       "      <td>100%</td>\n",
       "      <td>80%</td>\n",
       "      <td>f</td>\n",
       "      <td>2.0</td>\n",
       "      <td>Observatoire</td>\n",
       "      <td>Entire home/apt</td>\n",
       "      <td>2</td>\n",
       "      <td>1.0</td>\n",
       "      <td>1.0</td>\n",
       "      <td>1.0</td>\n",
       "      <td>[\"Cooking basics\", \"Luggage dropoff allowed\", ...</td>\n",
       "      <td>$250.00</td>\n",
       "      <td>2</td>\n",
       "      <td>30</td>\n",
       "    </tr>\n",
       "    <tr>\n",
       "      <th>1</th>\n",
       "      <td>165409</td>\n",
       "      <td>788732</td>\n",
       "      <td>within a few hours</td>\n",
       "      <td>100%</td>\n",
       "      <td>96%</td>\n",
       "      <td>t</td>\n",
       "      <td>1.0</td>\n",
       "      <td>Temple</td>\n",
       "      <td>Entire home/apt</td>\n",
       "      <td>2</td>\n",
       "      <td>1.0</td>\n",
       "      <td>0.0</td>\n",
       "      <td>1.0</td>\n",
       "      <td>[\"Lockbox\", \"Wifi\", \"Kitchen\", \"Refrigerator\",...</td>\n",
       "      <td>$140.00</td>\n",
       "      <td>3</td>\n",
       "      <td>365</td>\n",
       "    </tr>\n",
       "    <tr>\n",
       "      <th>2</th>\n",
       "      <td>5396</td>\n",
       "      <td>7903</td>\n",
       "      <td>within an hour</td>\n",
       "      <td>100%</td>\n",
       "      <td>97%</td>\n",
       "      <td>f</td>\n",
       "      <td>3.0</td>\n",
       "      <td>Hôtel-de-Ville</td>\n",
       "      <td>Entire home/apt</td>\n",
       "      <td>2</td>\n",
       "      <td>1.0</td>\n",
       "      <td>0.0</td>\n",
       "      <td>1.0</td>\n",
       "      <td>[\"Cooking basics\", \"Long term stays allowed\", ...</td>\n",
       "      <td>$107.00</td>\n",
       "      <td>1</td>\n",
       "      <td>1125</td>\n",
       "    </tr>\n",
       "  </tbody>\n",
       "</table>\n",
       "</div>"
      ],
      "text/plain": [
       "    숙소_id  호스트_id             답변_평균시간 문의_응답률 예약_수락률 슈퍼호스트  숙소_수  \\\n",
       "0    3109    3631        within a day   100%    80%     f   2.0   \n",
       "1  165409  788732  within a few hours   100%    96%     t   1.0   \n",
       "2    5396    7903      within an hour   100%    97%     f   3.0   \n",
       "\n",
       "            숙소_지역            숙소_유형  수용인원수  욕실수  침실수  침대수  \\\n",
       "0    Observatoire  Entire home/apt      2  1.0  1.0  1.0   \n",
       "1          Temple  Entire home/apt      2  1.0  0.0  1.0   \n",
       "2  Hôtel-de-Ville  Entire home/apt      2  1.0  0.0  1.0   \n",
       "\n",
       "                                                편의시설    숙소_가격  최소_숙박일  최대_숙박일  \n",
       "0  [\"Cooking basics\", \"Luggage dropoff allowed\", ...  $250.00       2      30  \n",
       "1  [\"Lockbox\", \"Wifi\", \"Kitchen\", \"Refrigerator\",...  $140.00       3     365  \n",
       "2  [\"Cooking basics\", \"Long term stays allowed\", ...  $107.00       1    1125  "
      ]
     },
     "execution_count": 556,
     "metadata": {},
     "output_type": "execute_result"
    }
   ],
   "source": [
    "# 컬럼명 변경\n",
    "\n",
    "df_lodging = df_lodging.rename(columns={\n",
    "    'id': '숙소_id',\n",
    "    'host_id': '호스트_id',\n",
    "    'host_response_time': '답변_평균시간',\n",
    "    'host_response_rate': '문의_응답률',\n",
    "    'host_acceptance_rate': '예약_수락률',\n",
    "    'host_is_superhost': '슈퍼호스트',\n",
    "    'host_total_listings_count': '숙소_수',\n",
    "    'neighbourhood_cleansed': '숙소_지역',\n",
    "    'room_type': '숙소_유형',\n",
    "    'accommodates': '수용인원수',\n",
    "    'bathrooms': '욕실수',\n",
    "    'bedrooms': '침실수',\n",
    "    'beds': '침대수',\n",
    "    'amenities': '편의시설',\n",
    "    'price': '숙소_가격',\n",
    "    'minimum_nights': '최소_숙박일',\n",
    "    'maximum_nights': '최대_숙박일'\n",
    "})\n",
    "\n",
    "df_lodging.head(3)\n"
   ]
  },
  {
   "cell_type": "code",
   "execution_count": 557,
   "metadata": {},
   "outputs": [
    {
     "data": {
      "text/html": [
       "<div>\n",
       "<style scoped>\n",
       "    .dataframe tbody tr th:only-of-type {\n",
       "        vertical-align: middle;\n",
       "    }\n",
       "\n",
       "    .dataframe tbody tr th {\n",
       "        vertical-align: top;\n",
       "    }\n",
       "\n",
       "    .dataframe thead th {\n",
       "        text-align: right;\n",
       "    }\n",
       "</style>\n",
       "<table border=\"1\" class=\"dataframe\">\n",
       "  <thead>\n",
       "    <tr style=\"text-align: right;\">\n",
       "      <th></th>\n",
       "      <th>number_of_reviews</th>\n",
       "      <th>number_of_reviews_l30d</th>\n",
       "      <th>review_scores_rating</th>\n",
       "      <th>review_scores_accuracy</th>\n",
       "      <th>review_scores_cleanliness</th>\n",
       "      <th>review_scores_checkin</th>\n",
       "      <th>review_scores_communication</th>\n",
       "      <th>review_scores_location</th>\n",
       "      <th>review_scores_value</th>\n",
       "      <th>reviews_per_month</th>\n",
       "    </tr>\n",
       "  </thead>\n",
       "  <tbody>\n",
       "    <tr>\n",
       "      <th>0</th>\n",
       "      <td>4</td>\n",
       "      <td>0</td>\n",
       "      <td>5.00</td>\n",
       "      <td>5.00</td>\n",
       "      <td>5.00</td>\n",
       "      <td>5.00</td>\n",
       "      <td>5.00</td>\n",
       "      <td>5.00</td>\n",
       "      <td>5.00</td>\n",
       "      <td>0.05</td>\n",
       "    </tr>\n",
       "    <tr>\n",
       "      <th>1</th>\n",
       "      <td>106</td>\n",
       "      <td>0</td>\n",
       "      <td>4.68</td>\n",
       "      <td>4.72</td>\n",
       "      <td>4.59</td>\n",
       "      <td>4.87</td>\n",
       "      <td>4.89</td>\n",
       "      <td>4.95</td>\n",
       "      <td>4.74</td>\n",
       "      <td>0.69</td>\n",
       "    </tr>\n",
       "    <tr>\n",
       "      <th>2</th>\n",
       "      <td>393</td>\n",
       "      <td>5</td>\n",
       "      <td>4.60</td>\n",
       "      <td>4.63</td>\n",
       "      <td>4.57</td>\n",
       "      <td>4.81</td>\n",
       "      <td>4.84</td>\n",
       "      <td>4.96</td>\n",
       "      <td>4.58</td>\n",
       "      <td>2.19</td>\n",
       "    </tr>\n",
       "  </tbody>\n",
       "</table>\n",
       "</div>"
      ],
      "text/plain": [
       "   number_of_reviews  number_of_reviews_l30d  review_scores_rating  \\\n",
       "0                  4                       0                  5.00   \n",
       "1                106                       0                  4.68   \n",
       "2                393                       5                  4.60   \n",
       "\n",
       "   review_scores_accuracy  review_scores_cleanliness  review_scores_checkin  \\\n",
       "0                    5.00                       5.00                   5.00   \n",
       "1                    4.72                       4.59                   4.87   \n",
       "2                    4.63                       4.57                   4.81   \n",
       "\n",
       "   review_scores_communication  review_scores_location  review_scores_value  \\\n",
       "0                         5.00                    5.00                 5.00   \n",
       "1                         4.89                    4.95                 4.74   \n",
       "2                         4.84                    4.96                 4.58   \n",
       "\n",
       "   reviews_per_month  \n",
       "0               0.05  \n",
       "1               0.69  \n",
       "2               2.19  "
      ]
     },
     "execution_count": 557,
     "metadata": {},
     "output_type": "execute_result"
    }
   ],
   "source": [
    "df_review = dat[['number_of_reviews', 'number_of_reviews_l30d', 'review_scores_rating', 'review_scores_accuracy', \n",
    "                'review_scores_cleanliness', 'review_scores_checkin', 'review_scores_communication', \n",
    "                'review_scores_location', 'review_scores_value', 'reviews_per_month']]\n",
    "df_review.head(3)\n"
   ]
  },
  {
   "cell_type": "code",
   "execution_count": 558,
   "metadata": {},
   "outputs": [
    {
     "data": {
      "text/html": [
       "<div>\n",
       "<style scoped>\n",
       "    .dataframe tbody tr th:only-of-type {\n",
       "        vertical-align: middle;\n",
       "    }\n",
       "\n",
       "    .dataframe tbody tr th {\n",
       "        vertical-align: top;\n",
       "    }\n",
       "\n",
       "    .dataframe thead th {\n",
       "        text-align: right;\n",
       "    }\n",
       "</style>\n",
       "<table border=\"1\" class=\"dataframe\">\n",
       "  <thead>\n",
       "    <tr style=\"text-align: right;\">\n",
       "      <th></th>\n",
       "      <th>리뷰수</th>\n",
       "      <th>30일_리뷰수</th>\n",
       "      <th>리뷰점수</th>\n",
       "      <th>숙소_정확성_리뷰점수</th>\n",
       "      <th>숙소_청결도_리뷰점수</th>\n",
       "      <th>숙소_체크인_리뷰점수</th>\n",
       "      <th>숙소_소통_리뷰점수</th>\n",
       "      <th>숙소_위치_리뷰점수</th>\n",
       "      <th>숙소_가격_리뷰점수</th>\n",
       "      <th>평균_리뷰수</th>\n",
       "    </tr>\n",
       "  </thead>\n",
       "  <tbody>\n",
       "    <tr>\n",
       "      <th>0</th>\n",
       "      <td>4</td>\n",
       "      <td>0</td>\n",
       "      <td>5.00</td>\n",
       "      <td>5.00</td>\n",
       "      <td>5.00</td>\n",
       "      <td>5.00</td>\n",
       "      <td>5.00</td>\n",
       "      <td>5.00</td>\n",
       "      <td>5.00</td>\n",
       "      <td>0.05</td>\n",
       "    </tr>\n",
       "    <tr>\n",
       "      <th>1</th>\n",
       "      <td>106</td>\n",
       "      <td>0</td>\n",
       "      <td>4.68</td>\n",
       "      <td>4.72</td>\n",
       "      <td>4.59</td>\n",
       "      <td>4.87</td>\n",
       "      <td>4.89</td>\n",
       "      <td>4.95</td>\n",
       "      <td>4.74</td>\n",
       "      <td>0.69</td>\n",
       "    </tr>\n",
       "    <tr>\n",
       "      <th>2</th>\n",
       "      <td>393</td>\n",
       "      <td>5</td>\n",
       "      <td>4.60</td>\n",
       "      <td>4.63</td>\n",
       "      <td>4.57</td>\n",
       "      <td>4.81</td>\n",
       "      <td>4.84</td>\n",
       "      <td>4.96</td>\n",
       "      <td>4.58</td>\n",
       "      <td>2.19</td>\n",
       "    </tr>\n",
       "    <tr>\n",
       "      <th>3</th>\n",
       "      <td>78</td>\n",
       "      <td>0</td>\n",
       "      <td>4.56</td>\n",
       "      <td>4.74</td>\n",
       "      <td>4.37</td>\n",
       "      <td>4.82</td>\n",
       "      <td>4.79</td>\n",
       "      <td>4.65</td>\n",
       "      <td>4.48</td>\n",
       "      <td>0.51</td>\n",
       "    </tr>\n",
       "    <tr>\n",
       "      <th>4</th>\n",
       "      <td>126</td>\n",
       "      <td>3</td>\n",
       "      <td>4.86</td>\n",
       "      <td>4.93</td>\n",
       "      <td>4.82</td>\n",
       "      <td>4.96</td>\n",
       "      <td>4.97</td>\n",
       "      <td>4.94</td>\n",
       "      <td>4.82</td>\n",
       "      <td>0.99</td>\n",
       "    </tr>\n",
       "  </tbody>\n",
       "</table>\n",
       "</div>"
      ],
      "text/plain": [
       "   리뷰수  30일_리뷰수  리뷰점수  숙소_정확성_리뷰점수  숙소_청결도_리뷰점수  숙소_체크인_리뷰점수  숙소_소통_리뷰점수  \\\n",
       "0    4        0  5.00         5.00         5.00         5.00        5.00   \n",
       "1  106        0  4.68         4.72         4.59         4.87        4.89   \n",
       "2  393        5  4.60         4.63         4.57         4.81        4.84   \n",
       "3   78        0  4.56         4.74         4.37         4.82        4.79   \n",
       "4  126        3  4.86         4.93         4.82         4.96        4.97   \n",
       "\n",
       "   숙소_위치_리뷰점수  숙소_가격_리뷰점수  평균_리뷰수  \n",
       "0        5.00        5.00    0.05  \n",
       "1        4.95        4.74    0.69  \n",
       "2        4.96        4.58    2.19  \n",
       "3        4.65        4.48    0.51  \n",
       "4        4.94        4.82    0.99  "
      ]
     },
     "execution_count": 558,
     "metadata": {},
     "output_type": "execute_result"
    }
   ],
   "source": [
    "# 컬럼명 변경\n",
    "df_review = df_review.rename(columns={\n",
    "    'number_of_reviews': '리뷰수',\n",
    "    'number_of_reviews_l30d': '30일_리뷰수',\n",
    "    'review_scores_rating': '리뷰점수',\n",
    "    'review_scores_accuracy': '숙소_정확성_리뷰점수',\n",
    "    'review_scores_cleanliness': '숙소_청결도_리뷰점수',\n",
    "    'review_scores_checkin': '숙소_체크인_리뷰점수',\n",
    "    'review_scores_communication': '숙소_소통_리뷰점수',\n",
    "    'review_scores_location': '숙소_위치_리뷰점수',\n",
    "    'review_scores_value': '숙소_가격_리뷰점수',\n",
    "    'reviews_per_month': '평균_리뷰수'\n",
    "})\n",
    "df_review.head()\n"
   ]
  },
  {
   "cell_type": "code",
   "execution_count": 559,
   "metadata": {},
   "outputs": [
    {
     "data": {
      "text/plain": [
       "(84397, 17)"
      ]
     },
     "execution_count": 559,
     "metadata": {},
     "output_type": "execute_result"
    }
   ],
   "source": [
    "df_lodging.shape"
   ]
  },
  {
   "cell_type": "code",
   "execution_count": 560,
   "metadata": {},
   "outputs": [
    {
     "data": {
      "text/plain": [
       "(84397, 10)"
      ]
     },
     "execution_count": 560,
     "metadata": {},
     "output_type": "execute_result"
    }
   ],
   "source": [
    "df_review.shape"
   ]
  },
  {
   "cell_type": "markdown",
   "metadata": {},
   "source": [
    "이전 파일에서의 작업을 통해 통합된 테이블이 필요함을 느낌"
   ]
  },
  {
   "cell_type": "code",
   "execution_count": 561,
   "metadata": {},
   "outputs": [
    {
     "data": {
      "text/html": [
       "<div>\n",
       "<style scoped>\n",
       "    .dataframe tbody tr th:only-of-type {\n",
       "        vertical-align: middle;\n",
       "    }\n",
       "\n",
       "    .dataframe tbody tr th {\n",
       "        vertical-align: top;\n",
       "    }\n",
       "\n",
       "    .dataframe thead th {\n",
       "        text-align: right;\n",
       "    }\n",
       "</style>\n",
       "<table border=\"1\" class=\"dataframe\">\n",
       "  <thead>\n",
       "    <tr style=\"text-align: right;\">\n",
       "      <th></th>\n",
       "      <th>숙소_id</th>\n",
       "      <th>호스트_id</th>\n",
       "      <th>답변_평균시간</th>\n",
       "      <th>문의_응답률</th>\n",
       "      <th>예약_수락률</th>\n",
       "      <th>슈퍼호스트</th>\n",
       "      <th>숙소_수</th>\n",
       "      <th>숙소_지역</th>\n",
       "      <th>숙소_유형</th>\n",
       "      <th>수용인원수</th>\n",
       "      <th>...</th>\n",
       "      <th>리뷰수</th>\n",
       "      <th>30일_리뷰수</th>\n",
       "      <th>리뷰점수</th>\n",
       "      <th>숙소_정확성_리뷰점수</th>\n",
       "      <th>숙소_청결도_리뷰점수</th>\n",
       "      <th>숙소_체크인_리뷰점수</th>\n",
       "      <th>숙소_소통_리뷰점수</th>\n",
       "      <th>숙소_위치_리뷰점수</th>\n",
       "      <th>숙소_가격_리뷰점수</th>\n",
       "      <th>평균_리뷰수</th>\n",
       "    </tr>\n",
       "  </thead>\n",
       "  <tbody>\n",
       "    <tr>\n",
       "      <th>0</th>\n",
       "      <td>3109</td>\n",
       "      <td>3631</td>\n",
       "      <td>within a day</td>\n",
       "      <td>100%</td>\n",
       "      <td>80%</td>\n",
       "      <td>f</td>\n",
       "      <td>2.0</td>\n",
       "      <td>Observatoire</td>\n",
       "      <td>Entire home/apt</td>\n",
       "      <td>2</td>\n",
       "      <td>...</td>\n",
       "      <td>4</td>\n",
       "      <td>0</td>\n",
       "      <td>5.00</td>\n",
       "      <td>5.00</td>\n",
       "      <td>5.00</td>\n",
       "      <td>5.00</td>\n",
       "      <td>5.00</td>\n",
       "      <td>5.00</td>\n",
       "      <td>5.00</td>\n",
       "      <td>0.05</td>\n",
       "    </tr>\n",
       "    <tr>\n",
       "      <th>1</th>\n",
       "      <td>165409</td>\n",
       "      <td>788732</td>\n",
       "      <td>within a few hours</td>\n",
       "      <td>100%</td>\n",
       "      <td>96%</td>\n",
       "      <td>t</td>\n",
       "      <td>1.0</td>\n",
       "      <td>Temple</td>\n",
       "      <td>Entire home/apt</td>\n",
       "      <td>2</td>\n",
       "      <td>...</td>\n",
       "      <td>106</td>\n",
       "      <td>0</td>\n",
       "      <td>4.68</td>\n",
       "      <td>4.72</td>\n",
       "      <td>4.59</td>\n",
       "      <td>4.87</td>\n",
       "      <td>4.89</td>\n",
       "      <td>4.95</td>\n",
       "      <td>4.74</td>\n",
       "      <td>0.69</td>\n",
       "    </tr>\n",
       "    <tr>\n",
       "      <th>2</th>\n",
       "      <td>5396</td>\n",
       "      <td>7903</td>\n",
       "      <td>within an hour</td>\n",
       "      <td>100%</td>\n",
       "      <td>97%</td>\n",
       "      <td>f</td>\n",
       "      <td>3.0</td>\n",
       "      <td>Hôtel-de-Ville</td>\n",
       "      <td>Entire home/apt</td>\n",
       "      <td>2</td>\n",
       "      <td>...</td>\n",
       "      <td>393</td>\n",
       "      <td>5</td>\n",
       "      <td>4.60</td>\n",
       "      <td>4.63</td>\n",
       "      <td>4.57</td>\n",
       "      <td>4.81</td>\n",
       "      <td>4.84</td>\n",
       "      <td>4.96</td>\n",
       "      <td>4.58</td>\n",
       "      <td>2.19</td>\n",
       "    </tr>\n",
       "    <tr>\n",
       "      <th>3</th>\n",
       "      <td>166370</td>\n",
       "      <td>793032</td>\n",
       "      <td>NaN</td>\n",
       "      <td>NaN</td>\n",
       "      <td>7%</td>\n",
       "      <td>f</td>\n",
       "      <td>3.0</td>\n",
       "      <td>Entrepôt</td>\n",
       "      <td>Entire home/apt</td>\n",
       "      <td>4</td>\n",
       "      <td>...</td>\n",
       "      <td>78</td>\n",
       "      <td>0</td>\n",
       "      <td>4.56</td>\n",
       "      <td>4.74</td>\n",
       "      <td>4.37</td>\n",
       "      <td>4.82</td>\n",
       "      <td>4.79</td>\n",
       "      <td>4.65</td>\n",
       "      <td>4.48</td>\n",
       "      <td>0.51</td>\n",
       "    </tr>\n",
       "    <tr>\n",
       "      <th>4</th>\n",
       "      <td>39948</td>\n",
       "      <td>171483</td>\n",
       "      <td>within a day</td>\n",
       "      <td>100%</td>\n",
       "      <td>89%</td>\n",
       "      <td>t</td>\n",
       "      <td>2.0</td>\n",
       "      <td>Bourse</td>\n",
       "      <td>Private room</td>\n",
       "      <td>2</td>\n",
       "      <td>...</td>\n",
       "      <td>126</td>\n",
       "      <td>3</td>\n",
       "      <td>4.86</td>\n",
       "      <td>4.93</td>\n",
       "      <td>4.82</td>\n",
       "      <td>4.96</td>\n",
       "      <td>4.97</td>\n",
       "      <td>4.94</td>\n",
       "      <td>4.82</td>\n",
       "      <td>0.99</td>\n",
       "    </tr>\n",
       "  </tbody>\n",
       "</table>\n",
       "<p>5 rows × 27 columns</p>\n",
       "</div>"
      ],
      "text/plain": [
       "    숙소_id  호스트_id             답변_평균시간 문의_응답률 예약_수락률 슈퍼호스트  숙소_수  \\\n",
       "0    3109    3631        within a day   100%    80%     f   2.0   \n",
       "1  165409  788732  within a few hours   100%    96%     t   1.0   \n",
       "2    5396    7903      within an hour   100%    97%     f   3.0   \n",
       "3  166370  793032                 NaN    NaN     7%     f   3.0   \n",
       "4   39948  171483        within a day   100%    89%     t   2.0   \n",
       "\n",
       "            숙소_지역            숙소_유형  수용인원수  ...  리뷰수  30일_리뷰수  리뷰점수  \\\n",
       "0    Observatoire  Entire home/apt      2  ...    4        0  5.00   \n",
       "1          Temple  Entire home/apt      2  ...  106        0  4.68   \n",
       "2  Hôtel-de-Ville  Entire home/apt      2  ...  393        5  4.60   \n",
       "3        Entrepôt  Entire home/apt      4  ...   78        0  4.56   \n",
       "4          Bourse     Private room      2  ...  126        3  4.86   \n",
       "\n",
       "  숙소_정확성_리뷰점수 숙소_청결도_리뷰점수  숙소_체크인_리뷰점수  숙소_소통_리뷰점수  숙소_위치_리뷰점수  숙소_가격_리뷰점수  \\\n",
       "0        5.00        5.00         5.00        5.00        5.00        5.00   \n",
       "1        4.72        4.59         4.87        4.89        4.95        4.74   \n",
       "2        4.63        4.57         4.81        4.84        4.96        4.58   \n",
       "3        4.74        4.37         4.82        4.79        4.65        4.48   \n",
       "4        4.93        4.82         4.96        4.97        4.94        4.82   \n",
       "\n",
       "   평균_리뷰수  \n",
       "0    0.05  \n",
       "1    0.69  \n",
       "2    2.19  \n",
       "3    0.51  \n",
       "4    0.99  \n",
       "\n",
       "[5 rows x 27 columns]"
      ]
     },
     "execution_count": 561,
     "metadata": {},
     "output_type": "execute_result"
    }
   ],
   "source": [
    "# 테이블 합치기\n",
    "df = pd.concat([df_lodging,df_review], axis=1)\n",
    "df.head()"
   ]
  },
  {
   "cell_type": "code",
   "execution_count": 562,
   "metadata": {},
   "outputs": [
    {
     "name": "stdout",
     "output_type": "stream",
     "text": [
      "<class 'pandas.core.frame.DataFrame'>\n",
      "RangeIndex: 84397 entries, 0 to 84396\n",
      "Data columns (total 27 columns):\n",
      " #   Column       Non-Null Count  Dtype  \n",
      "---  ------       --------------  -----  \n",
      " 0   숙소_id        84397 non-null  int64  \n",
      " 1   호스트_id       84397 non-null  int64  \n",
      " 2   답변_평균시간      48310 non-null  object \n",
      " 3   문의_응답률       48310 non-null  object \n",
      " 4   예약_수락률       56521 non-null  object \n",
      " 5   슈퍼호스트        84306 non-null  object \n",
      " 6   숙소_수         84390 non-null  float64\n",
      " 7   숙소_지역        84397 non-null  object \n",
      " 8   숙소_유형        84397 non-null  object \n",
      " 9   수용인원수        84397 non-null  int64  \n",
      " 10  욕실수          60959 non-null  float64\n",
      " 11  침실수          77480 non-null  float64\n",
      " 12  침대수          60828 non-null  float64\n",
      " 13  편의시설         84397 non-null  object \n",
      " 14  숙소_가격        60917 non-null  object \n",
      " 15  최소_숙박일       84397 non-null  int64  \n",
      " 16  최대_숙박일       84397 non-null  int64  \n",
      " 17  리뷰수          84397 non-null  int64  \n",
      " 18  30일_리뷰수      84397 non-null  int64  \n",
      " 19  리뷰점수         58827 non-null  float64\n",
      " 20  숙소_정확성_리뷰점수  58793 non-null  float64\n",
      " 21  숙소_청결도_리뷰점수  58797 non-null  float64\n",
      " 22  숙소_체크인_리뷰점수  58784 non-null  float64\n",
      " 23  숙소_소통_리뷰점수   58795 non-null  float64\n",
      " 24  숙소_위치_리뷰점수   58787 non-null  float64\n",
      " 25  숙소_가격_리뷰점수   58782 non-null  float64\n",
      " 26  평균_리뷰수       58822 non-null  float64\n",
      "dtypes: float64(12), int64(7), object(8)\n",
      "memory usage: 17.4+ MB\n"
     ]
    }
   ],
   "source": [
    "# 정보 확인\n",
    "df.info()\n",
    "# total 27 columns"
   ]
  },
  {
   "cell_type": "markdown",
   "metadata": {},
   "source": [
    "결측치 처리(index 순서대로 진행)"
   ]
  },
  {
   "cell_type": "code",
   "execution_count": 563,
   "metadata": {},
   "outputs": [
    {
     "data": {
      "text/plain": [
       "array(['within a day', 'within a few hours', 'within an hour', nan,\n",
       "       'a few days or more'], dtype=object)"
      ]
     },
     "execution_count": 563,
     "metadata": {},
     "output_type": "execute_result"
    }
   ],
   "source": [
    "# 답변_평균시간 결측치 처리\n",
    "df['답변_평균시간'].unique()"
   ]
  },
  {
   "cell_type": "code",
   "execution_count": 564,
   "metadata": {},
   "outputs": [
    {
     "data": {
      "text/plain": [
       "36087"
      ]
     },
     "execution_count": 564,
     "metadata": {},
     "output_type": "execute_result"
    }
   ],
   "source": [
    "df['답변_평균시간'].isnull().sum()"
   ]
  },
  {
   "cell_type": "code",
   "execution_count": 565,
   "metadata": {},
   "outputs": [
    {
     "data": {
      "text/plain": [
       "답변_평균시간\n",
       "within an hour        29746\n",
       "within a few hours     9554\n",
       "within a day           7087\n",
       "a few days or more     1923\n",
       "Name: count, dtype: int64"
      ]
     },
     "execution_count": 565,
     "metadata": {},
     "output_type": "execute_result"
    }
   ],
   "source": [
    "df['답변_평균시간'].value_counts()"
   ]
  },
  {
   "cell_type": "markdown",
   "metadata": {},
   "source": [
    "최빈값 대체 X : 다른 값 역시 호스트의 응답 시간을 나타내는 중요한 정보이므로 새로운 값으로 대체함. "
   ]
  },
  {
   "cell_type": "code",
   "execution_count": 566,
   "metadata": {},
   "outputs": [],
   "source": [
    "# null 값을 '응답시간미상'으로 대체\n",
    "df['답변_평균시간'].fillna('응답 시간 미상', inplace=True)"
   ]
  },
  {
   "cell_type": "code",
   "execution_count": 567,
   "metadata": {},
   "outputs": [
    {
     "data": {
      "text/plain": [
       "답변_평균시간\n",
       "응답 시간 미상              36087\n",
       "within an hour        29746\n",
       "within a few hours     9554\n",
       "within a day           7087\n",
       "a few days or more     1923\n",
       "Name: count, dtype: int64"
      ]
     },
     "execution_count": 567,
     "metadata": {},
     "output_type": "execute_result"
    }
   ],
   "source": [
    "df['답변_평균시간'].value_counts()"
   ]
  },
  {
   "cell_type": "code",
   "execution_count": 568,
   "metadata": {},
   "outputs": [],
   "source": [
    "# 한글깨짐 방지\n",
    "import koreanize_matplotlib"
   ]
  },
  {
   "cell_type": "code",
   "execution_count": 569,
   "metadata": {},
   "outputs": [
    {
     "data": {
      "image/png": "[encoded data removed]",
      "text/plain": [
       "<Figure size 1000x600 with 1 Axes>"
      ]
     },
     "metadata": {},
     "output_type": "display_data"
    }
   ],
   "source": [
    "# 결과 막대그래프로 시각화\n",
    "# 함수로 만들기\n",
    "\n",
    "def barplot_show(df, column_name):\n",
    "    \n",
    "    # 'column_name'의 값 분포 계산\n",
    "    value_counts = df[column_name].value_counts()\n",
    "\n",
    "    # 막대그래프 생성\n",
    "    plt.figure(figsize=(10, 6))\n",
    "    plt.bar(value_counts.index, value_counts.values, color='skyblue')\n",
    "    plt.xlabel(column_name)\n",
    "    plt.ylabel('빈도수')\n",
    "    plt.title(f'{column_name} 분포')\n",
    "    plt.xticks(rotation=45) \n",
    "    plt.show()\n",
    "\n",
    "barplot_show(df, '답변_평균시간')"
   ]
  },
  {
   "cell_type": "markdown",
   "metadata": {},
   "source": [
    "문의_응답률 결측치 처리"
   ]
  },
  {
   "cell_type": "code",
   "execution_count": 570,
   "metadata": {},
   "outputs": [
    {
     "data": {
      "text/plain": [
       "array(['100%', nan, '50%', '93%', '75%', '70%', '86%', '90%', '80%', '0%',\n",
       "       '39%', '91%', '33%', '98%', '71%', '67%', '25%', '99%', '72%',\n",
       "       '40%', '83%', '92%', '85%', '57%', '95%', '77%', '62%', '89%',\n",
       "       '63%', '84%', '13%', '78%', '43%', '14%', '82%', '88%', '96%',\n",
       "       '60%', '87%', '11%', '20%', '94%', '44%', '97%', '69%', '30%',\n",
       "       '29%', '81%', '55%', '64%', '79%', '56%', '17%', '18%', '10%',\n",
       "       '22%', '38%', '8%', '73%', '3%', '31%', '23%', '6%', '52%', '19%',\n",
       "       '36%', '58%', '54%', '47%', '4%', '68%', '61%', '59%', '65%',\n",
       "       '21%', '27%', '76%', '7%', '35%', '53%', '51%', '9%', '15%', '34%',\n",
       "       '46%', '37%', '16%', '26%', '42%', '12%', '5%', '28%', '45%',\n",
       "       '49%', '48%', '74%', '2%'], dtype=object)"
      ]
     },
     "execution_count": 570,
     "metadata": {},
     "output_type": "execute_result"
    }
   ],
   "source": [
    "df['문의_응답률'].unique()"
   ]
  },
  {
   "cell_type": "code",
   "execution_count": 571,
   "metadata": {},
   "outputs": [
    {
     "data": {
      "text/plain": [
       "문의_응답률\n",
       "100%    37075\n",
       "90%      1197\n",
       "0%       1176\n",
       "98%      1136\n",
       "99%       669\n",
       "        ...  \n",
       "52%         1\n",
       "49%         1\n",
       "48%         1\n",
       "74%         1\n",
       "2%          1\n",
       "Name: count, Length: 96, dtype: int64"
      ]
     },
     "execution_count": 571,
     "metadata": {},
     "output_type": "execute_result"
    }
   ],
   "source": [
    "df['문의_응답률'].value_counts()"
   ]
  },
  {
   "cell_type": "code",
   "execution_count": 572,
   "metadata": {},
   "outputs": [
    {
     "data": {
      "text/plain": [
       "0    100.0\n",
       "1    100.0\n",
       "2    100.0\n",
       "3      NaN\n",
       "4    100.0\n",
       "Name: 문의_응답률, dtype: float64"
      ]
     },
     "execution_count": 572,
     "metadata": {},
     "output_type": "execute_result"
    }
   ],
   "source": [
    "# '문의_응답률' 열의 백분율을 숫자로 변환\n",
    "# '문의_응답률' 열에서 '%' 문자를 제거 후 결과를 float로 변환\n",
    "df['문의_응답률'] = df['문의_응답률'].str.rstrip('%').astype('float')\n",
    "df['문의_응답률'].head()"
   ]
  },
  {
   "cell_type": "markdown",
   "metadata": {},
   "source": [
    "문의_응답률의 값들이 백분율이므로 madian을 사용하여 평균값보다 왜곡을 줄임.\n",
    " - 이전 작업에서는 평균으로 대체했었음.(더 찾아보니 중위값이 맞는것 같아서 진행함)"
   ]
  },
  {
   "cell_type": "code",
   "execution_count": 573,
   "metadata": {},
   "outputs": [
    {
     "data": {
      "text/plain": [
       "100.0"
      ]
     },
     "execution_count": 573,
     "metadata": {},
     "output_type": "execute_result"
    }
   ],
   "source": [
    "response_rate_median = df['문의_응답률'].median()\n",
    "response_rate_median"
   ]
  },
  {
   "cell_type": "code",
   "execution_count": 574,
   "metadata": {},
   "outputs": [
    {
     "data": {
      "text/plain": [
       "0        100.0\n",
       "1        100.0\n",
       "2        100.0\n",
       "3        100.0\n",
       "4        100.0\n",
       "         ...  \n",
       "84392     99.0\n",
       "84393    100.0\n",
       "84394    100.0\n",
       "84395    100.0\n",
       "84396    100.0\n",
       "Name: 문의_응답률, Length: 84397, dtype: float64"
      ]
     },
     "execution_count": 574,
     "metadata": {},
     "output_type": "execute_result"
    }
   ],
   "source": [
    "# 중위값으로 대체\n",
    "df['문의_응답률'].fillna(response_rate_median, inplace=True)\n",
    "df['문의_응답률']\n",
    "# index 3 : NaN >> 100.0 확인"
   ]
  },
  {
   "cell_type": "code",
   "execution_count": 575,
   "metadata": {},
   "outputs": [
    {
     "data": {
      "text/plain": [
       "문의_응답률\n",
       "100.0    73162\n",
       "90.0      1197\n",
       "0.0       1176\n",
       "98.0      1136\n",
       "99.0       669\n",
       "         ...  \n",
       "52.0         1\n",
       "49.0         1\n",
       "48.0         1\n",
       "74.0         1\n",
       "2.0          1\n",
       "Name: count, Length: 96, dtype: int64"
      ]
     },
     "execution_count": 575,
     "metadata": {},
     "output_type": "execute_result"
    }
   ],
   "source": [
    "df['문의_응답률'].value_counts()"
   ]
  },
  {
   "cell_type": "code",
   "execution_count": 576,
   "metadata": {},
   "outputs": [
    {
     "data": {
      "image/png": "[encoded data removed]",
      "text/plain": [
       "<Figure size 1000x600 with 1 Axes>"
      ]
     },
     "metadata": {},
     "output_type": "display_data"
    }
   ],
   "source": [
    "barplot_show(df, '문의_응답률')"
   ]
  },
  {
   "cell_type": "markdown",
   "metadata": {},
   "source": [
    "예약_수락률 결측치 처리"
   ]
  },
  {
   "cell_type": "code",
   "execution_count": 577,
   "metadata": {},
   "outputs": [
    {
     "data": {
      "text/plain": [
       "array(['80%', '96%', '97%', '7%', '89%', nan, '67%', '0%', '95%', '44%',\n",
       "       '40%', '100%', '10%', '71%', '48%', '88%', '50%', '69%', '86%',\n",
       "       '98%', '16%', '75%', '20%', '94%', '99%', '41%', '83%', '93%',\n",
       "       '29%', '90%', '21%', '13%', '57%', '91%', '33%', '92%', '32%',\n",
       "       '58%', '31%', '39%', '55%', '56%', '84%', '45%', '54%', '85%',\n",
       "       '78%', '76%', '60%', '87%', '18%', '2%', '72%', '22%', '37%',\n",
       "       '79%', '70%', '77%', '9%', '25%', '81%', '73%', '64%', '62%',\n",
       "       '34%', '27%', '6%', '82%', '63%', '19%', '24%', '35%', '74%',\n",
       "       '65%', '26%', '68%', '14%', '38%', '47%', '52%', '12%', '59%',\n",
       "       '43%', '53%', '36%', '23%', '15%', '49%', '3%', '66%', '61%',\n",
       "       '51%', '30%', '46%', '11%', '42%', '5%', '17%', '8%', '4%', '28%',\n",
       "       '1%'], dtype=object)"
      ]
     },
     "execution_count": 577,
     "metadata": {},
     "output_type": "execute_result"
    }
   ],
   "source": [
    "df['예약_수락률'].unique()"
   ]
  },
  {
   "cell_type": "code",
   "execution_count": 578,
   "metadata": {},
   "outputs": [
    {
     "data": {
      "text/plain": [
       "0         80.0\n",
       "1         96.0\n",
       "2         97.0\n",
       "3          7.0\n",
       "4         89.0\n",
       "         ...  \n",
       "84392    100.0\n",
       "84393     99.0\n",
       "84394     99.0\n",
       "84395      NaN\n",
       "84396     99.0\n",
       "Name: 예약_수락률, Length: 84397, dtype: float64"
      ]
     },
     "execution_count": 578,
     "metadata": {},
     "output_type": "execute_result"
    }
   ],
   "source": [
    "df['예약_수락률'] = df['예약_수락률'].str.rstrip('%').astype('float')\n",
    "df['예약_수락률']"
   ]
  },
  {
   "cell_type": "code",
   "execution_count": 579,
   "metadata": {},
   "outputs": [
    {
     "data": {
      "text/plain": [
       "96.0"
      ]
     },
     "execution_count": 579,
     "metadata": {},
     "output_type": "execute_result"
    }
   ],
   "source": [
    "acceptance_rate_median = df['예약_수락률'].median()\n",
    "acceptance_rate_median"
   ]
  },
  {
   "cell_type": "code",
   "execution_count": 580,
   "metadata": {},
   "outputs": [
    {
     "data": {
      "text/plain": [
       "0         80.0\n",
       "1         96.0\n",
       "2         97.0\n",
       "3          7.0\n",
       "4         89.0\n",
       "         ...  \n",
       "84392    100.0\n",
       "84393     99.0\n",
       "84394     99.0\n",
       "84395     96.0\n",
       "84396     99.0\n",
       "Name: 예약_수락률, Length: 84397, dtype: float64"
      ]
     },
     "execution_count": 580,
     "metadata": {},
     "output_type": "execute_result"
    }
   ],
   "source": [
    "# 중위값으로 대체\n",
    "df['예약_수락률'].fillna(acceptance_rate_median, inplace=True)\n",
    "df['예약_수락률']\n",
    "# index 84395 : NaN >> 96.0 확인"
   ]
  },
  {
   "cell_type": "code",
   "execution_count": 581,
   "metadata": {},
   "outputs": [
    {
     "data": {
      "text/plain": [
       "예약_수락률\n",
       "96.0     29603\n",
       "100.0    19575\n",
       "99.0      3317\n",
       "0.0       2600\n",
       "98.0      2499\n",
       "         ...  \n",
       "12.0        16\n",
       "5.0         16\n",
       "4.0         14\n",
       "3.0         11\n",
       "1.0          5\n",
       "Name: count, Length: 101, dtype: int64"
      ]
     },
     "execution_count": 581,
     "metadata": {},
     "output_type": "execute_result"
    }
   ],
   "source": [
    "df['예약_수락률'].value_counts()"
   ]
  },
  {
   "cell_type": "code",
   "execution_count": 582,
   "metadata": {},
   "outputs": [
    {
     "data": {
      "image/png": "[encoded data removed]",
      "text/plain": [
       "<Figure size 1000x600 with 1 Axes>"
      ]
     },
     "metadata": {},
     "output_type": "display_data"
    }
   ],
   "source": [
    "barplot_show(df, '예약_수락률')"
   ]
  },
  {
   "cell_type": "markdown",
   "metadata": {},
   "source": [
    "슈퍼호스트 결측치 처리"
   ]
  },
  {
   "cell_type": "code",
   "execution_count": 583,
   "metadata": {},
   "outputs": [
    {
     "data": {
      "text/plain": [
       "array(['f', 't', nan], dtype=object)"
      ]
     },
     "execution_count": 583,
     "metadata": {},
     "output_type": "execute_result"
    }
   ],
   "source": [
    "df['슈퍼호스트'].unique()"
   ]
  },
  {
   "cell_type": "code",
   "execution_count": 584,
   "metadata": {},
   "outputs": [
    {
     "data": {
      "text/plain": [
       "91"
      ]
     },
     "execution_count": 584,
     "metadata": {},
     "output_type": "execute_result"
    }
   ],
   "source": [
    "df['슈퍼호스트'].isnull().sum()"
   ]
  },
  {
   "cell_type": "code",
   "execution_count": 585,
   "metadata": {},
   "outputs": [
    {
     "data": {
      "text/plain": [
       "0"
      ]
     },
     "execution_count": 585,
     "metadata": {},
     "output_type": "execute_result"
    }
   ],
   "source": [
    "# nan 값 >> 'f' 대체 \n",
    "# 'f' 값 대체 이유 : 슈퍼 호스트가 아님.\n",
    "df['슈퍼호스트'].fillna('f', inplace=True)\n",
    "df['슈퍼호스트'].isnull().sum()"
   ]
  },
  {
   "cell_type": "code",
   "execution_count": 586,
   "metadata": {},
   "outputs": [
    {
     "data": {
      "text/plain": [
       "슈퍼호스트\n",
       "f    71018\n",
       "t    13379\n",
       "Name: count, dtype: int64"
      ]
     },
     "execution_count": 586,
     "metadata": {},
     "output_type": "execute_result"
    }
   ],
   "source": [
    "df['슈퍼호스트'].value_counts()"
   ]
  },
  {
   "cell_type": "code",
   "execution_count": 587,
   "metadata": {},
   "outputs": [
    {
     "data": {
      "image/png": "[encoded data removed]",
      "text/plain": [
       "<Figure size 1000x600 with 1 Axes>"
      ]
     },
     "metadata": {},
     "output_type": "display_data"
    }
   ],
   "source": [
    "barplot_show(df, '슈퍼호스트')"
   ]
  },
  {
   "cell_type": "markdown",
   "metadata": {},
   "source": [
    "숙소_수 결측치 확인"
   ]
  },
  {
   "cell_type": "code",
   "execution_count": 588,
   "metadata": {},
   "outputs": [
    {
     "data": {
      "text/html": [
       "<div>\n",
       "<style scoped>\n",
       "    .dataframe tbody tr th:only-of-type {\n",
       "        vertical-align: middle;\n",
       "    }\n",
       "\n",
       "    .dataframe tbody tr th {\n",
       "        vertical-align: top;\n",
       "    }\n",
       "\n",
       "    .dataframe thead th {\n",
       "        text-align: right;\n",
       "    }\n",
       "</style>\n",
       "<table border=\"1\" class=\"dataframe\">\n",
       "  <thead>\n",
       "    <tr style=\"text-align: right;\">\n",
       "      <th></th>\n",
       "      <th>listing_url</th>\n",
       "      <th>host_total_listings_count</th>\n",
       "      <th>host_verifications</th>\n",
       "      <th>host_identity_verified</th>\n",
       "      <th>number_of_reviews</th>\n",
       "    </tr>\n",
       "  </thead>\n",
       "  <tbody>\n",
       "    <tr>\n",
       "      <th>3731</th>\n",
       "      <td>https://www.airbnb.com/rooms/3986594</td>\n",
       "      <td>NaN</td>\n",
       "      <td>NaN</td>\n",
       "      <td>NaN</td>\n",
       "      <td>0</td>\n",
       "    </tr>\n",
       "    <tr>\n",
       "      <th>5182</th>\n",
       "      <td>https://www.airbnb.com/rooms/5872399</td>\n",
       "      <td>NaN</td>\n",
       "      <td>NaN</td>\n",
       "      <td>NaN</td>\n",
       "      <td>0</td>\n",
       "    </tr>\n",
       "    <tr>\n",
       "      <th>5542</th>\n",
       "      <td>https://www.airbnb.com/rooms/6300239</td>\n",
       "      <td>NaN</td>\n",
       "      <td>NaN</td>\n",
       "      <td>NaN</td>\n",
       "      <td>0</td>\n",
       "    </tr>\n",
       "    <tr>\n",
       "      <th>6305</th>\n",
       "      <td>https://www.airbnb.com/rooms/6875069</td>\n",
       "      <td>NaN</td>\n",
       "      <td>NaN</td>\n",
       "      <td>NaN</td>\n",
       "      <td>0</td>\n",
       "    </tr>\n",
       "    <tr>\n",
       "      <th>7251</th>\n",
       "      <td>https://www.airbnb.com/rooms/7447839</td>\n",
       "      <td>NaN</td>\n",
       "      <td>NaN</td>\n",
       "      <td>NaN</td>\n",
       "      <td>0</td>\n",
       "    </tr>\n",
       "    <tr>\n",
       "      <th>7569</th>\n",
       "      <td>https://www.airbnb.com/rooms/7526817</td>\n",
       "      <td>NaN</td>\n",
       "      <td>NaN</td>\n",
       "      <td>NaN</td>\n",
       "      <td>0</td>\n",
       "    </tr>\n",
       "    <tr>\n",
       "      <th>16105</th>\n",
       "      <td>https://www.airbnb.com/rooms/19262755</td>\n",
       "      <td>NaN</td>\n",
       "      <td>NaN</td>\n",
       "      <td>NaN</td>\n",
       "      <td>0</td>\n",
       "    </tr>\n",
       "  </tbody>\n",
       "</table>\n",
       "</div>"
      ],
      "text/plain": [
       "                                 listing_url  host_total_listings_count  \\\n",
       "3731    https://www.airbnb.com/rooms/3986594                        NaN   \n",
       "5182    https://www.airbnb.com/rooms/5872399                        NaN   \n",
       "5542    https://www.airbnb.com/rooms/6300239                        NaN   \n",
       "6305    https://www.airbnb.com/rooms/6875069                        NaN   \n",
       "7251    https://www.airbnb.com/rooms/7447839                        NaN   \n",
       "7569    https://www.airbnb.com/rooms/7526817                        NaN   \n",
       "16105  https://www.airbnb.com/rooms/19262755                        NaN   \n",
       "\n",
       "      host_verifications host_identity_verified  number_of_reviews  \n",
       "3731                 NaN                    NaN                  0  \n",
       "5182                 NaN                    NaN                  0  \n",
       "5542                 NaN                    NaN                  0  \n",
       "6305                 NaN                    NaN                  0  \n",
       "7251                 NaN                    NaN                  0  \n",
       "7569                 NaN                    NaN                  0  \n",
       "16105                NaN                    NaN                  0  "
      ]
     },
     "execution_count": 588,
     "metadata": {},
     "output_type": "execute_result"
    }
   ],
   "source": [
    "dat[['listing_url', 'host_total_listings_count','host_verifications','host_identity_verified','number_of_reviews']][dat['host_total_listings_count'].isnull()]"
   ]
  },
  {
   "cell_type": "markdown",
   "metadata": {},
   "source": [
    "확인 결과 :\n",
    " - 7개 호스트 프로필 선택 시 전원 404 에러 발생\n",
    " - 7개 호스트 전원 신원이 검증되어 있지 않음\n",
    " - 완료한 인증 방법도 없음\n",
    " - 7개 상품 전부 후기 없음\n",
    " - 호스트의 다른 숙소 역시 페이지가 안뜸\n",
    "\n",
    "제거 진행"
   ]
  },
  {
   "cell_type": "code",
   "execution_count": 589,
   "metadata": {},
   "outputs": [
    {
     "name": "stdout",
     "output_type": "stream",
     "text": [
      "<class 'pandas.core.frame.DataFrame'>\n",
      "Index: 84390 entries, 0 to 84396\n",
      "Data columns (total 27 columns):\n",
      " #   Column       Non-Null Count  Dtype  \n",
      "---  ------       --------------  -----  \n",
      " 0   숙소_id        84390 non-null  int64  \n",
      " 1   호스트_id       84390 non-null  int64  \n",
      " 2   답변_평균시간      84390 non-null  object \n",
      " 3   문의_응답률       84390 non-null  float64\n",
      " 4   예약_수락률       84390 non-null  float64\n",
      " 5   슈퍼호스트        84390 non-null  object \n",
      " 6   숙소_수         84390 non-null  float64\n",
      " 7   숙소_지역        84390 non-null  object \n",
      " 8   숙소_유형        84390 non-null  object \n",
      " 9   수용인원수        84390 non-null  int64  \n",
      " 10  욕실수          60959 non-null  float64\n",
      " 11  침실수          77474 non-null  float64\n",
      " 12  침대수          60828 non-null  float64\n",
      " 13  편의시설         84390 non-null  object \n",
      " 14  숙소_가격        60917 non-null  object \n",
      " 15  최소_숙박일       84390 non-null  int64  \n",
      " 16  최대_숙박일       84390 non-null  int64  \n",
      " 17  리뷰수          84390 non-null  int64  \n",
      " 18  30일_리뷰수      84390 non-null  int64  \n",
      " 19  리뷰점수         58827 non-null  float64\n",
      " 20  숙소_정확성_리뷰점수  58793 non-null  float64\n",
      " 21  숙소_청결도_리뷰점수  58797 non-null  float64\n",
      " 22  숙소_체크인_리뷰점수  58784 non-null  float64\n",
      " 23  숙소_소통_리뷰점수   58795 non-null  float64\n",
      " 24  숙소_위치_리뷰점수   58787 non-null  float64\n",
      " 25  숙소_가격_리뷰점수   58782 non-null  float64\n",
      " 26  평균_리뷰수       58822 non-null  float64\n",
      "dtypes: float64(14), int64(7), object(6)\n",
      "memory usage: 18.0+ MB\n"
     ]
    }
   ],
   "source": [
    "df = df.dropna(subset=['숙소_수'])\n",
    "df.info()\n",
    "# 전체 데이터 84397 >> 84390 확인"
   ]
  },
  {
   "cell_type": "markdown",
   "metadata": {},
   "source": [
    "욕실수, 침실수, 침대수 결측치 처리"
   ]
  },
  {
   "cell_type": "code",
   "execution_count": 590,
   "metadata": {},
   "outputs": [
    {
     "data": {
      "text/plain": [
       "array([ 1. ,  nan,  1.5,  2. ,  2.5,  4.5,  4. ,  3. ,  3.5,  0. ,  0.5,\n",
       "        5. ,  5.5,  7. ,  6. , 48. ,  6.5,  7.5,  8. , 10. ,  8.5, 30. ])"
      ]
     },
     "execution_count": 590,
     "metadata": {},
     "output_type": "execute_result"
    }
   ],
   "source": [
    "# 욕실수 결측치 처리\n",
    "df['욕실수'].unique()"
   ]
  },
  {
   "cell_type": "code",
   "execution_count": 591,
   "metadata": {},
   "outputs": [
    {
     "data": {
      "text/plain": [
       "23431"
      ]
     },
     "execution_count": 591,
     "metadata": {},
     "output_type": "execute_result"
    }
   ],
   "source": [
    "df['욕실수'].isnull().sum()"
   ]
  },
  {
   "cell_type": "code",
   "execution_count": 592,
   "metadata": {},
   "outputs": [
    {
     "data": {
      "text/plain": [
       "욕실수\n",
       "1.0     47458\n",
       "1.5      5145\n",
       "2.0      5094\n",
       "2.5      1252\n",
       "3.0       931\n",
       "0.0       279\n",
       "0.5       270\n",
       "3.5       246\n",
       "4.0       143\n",
       "4.5        61\n",
       "5.0        32\n",
       "5.5        13\n",
       "6.0        12\n",
       "6.5         7\n",
       "7.0         6\n",
       "7.5         3\n",
       "8.0         2\n",
       "30.0        2\n",
       "48.0        1\n",
       "10.0        1\n",
       "8.5         1\n",
       "Name: count, dtype: int64"
      ]
     },
     "execution_count": 592,
     "metadata": {},
     "output_type": "execute_result"
    }
   ],
   "source": [
    "df['욕실수'].value_counts()"
   ]
  },
  {
   "cell_type": "code",
   "execution_count": 593,
   "metadata": {},
   "outputs": [
    {
     "data": {
      "text/plain": [
       "count    60959.000000\n",
       "mean         1.208763\n",
       "std          0.571918\n",
       "min          0.000000\n",
       "25%          1.000000\n",
       "50%          1.000000\n",
       "75%          1.000000\n",
       "max         48.000000\n",
       "Name: 욕실수, dtype: float64"
      ]
     },
     "execution_count": 593,
     "metadata": {},
     "output_type": "execute_result"
    }
   ],
   "source": [
    "df['욕실수'].describe()"
   ]
  },
  {
   "cell_type": "code",
   "execution_count": 594,
   "metadata": {},
   "outputs": [],
   "source": [
    "# 먼저 이상치 처리\n",
    "# 중위값으로 대체\n",
    "# 이상치 처리: 욕실수가 0~10 범위를 벗어나는 값을 중위값으로 대체\n",
    "median_bathrooms = df['욕실수'].median()\n",
    "df.loc[df['욕실수'] > 10, '욕실수'] = median_bathrooms\n",
    "df.loc[df['욕실수'] < 0, '욕실수'] = median_bathrooms  # 혹시 모를 음수값 처리"
   ]
  },
  {
   "cell_type": "markdown",
   "metadata": {},
   "source": [
    "이렇게 처리한 이유 : 30, 48개 값에 해당하는 상품을 전부 확인해본 결과 다음과 같았기 때문\n",
    " - 호텔 전체 객실의 욕실 개수를 적어놓은 경우임\n",
    " - 각 방에는 1개씩임\n",
    " - 침실수도 똑같음"
   ]
  },
  {
   "cell_type": "code",
   "execution_count": 595,
   "metadata": {},
   "outputs": [
    {
     "data": {
      "text/plain": [
       "0    1.0\n",
       "1    1.0\n",
       "2    1.0\n",
       "3    1.0\n",
       "4    1.0\n",
       "Name: 욕실수, dtype: float64"
      ]
     },
     "execution_count": 595,
     "metadata": {},
     "output_type": "execute_result"
    }
   ],
   "source": [
    "# 결측치 대체\n",
    "df['욕실수'].fillna(median_bathrooms, inplace=True)\n",
    "df['욕실수'].head()"
   ]
  },
  {
   "cell_type": "code",
   "execution_count": 596,
   "metadata": {},
   "outputs": [
    {
     "data": {
      "text/plain": [
       "count    84390.000000\n",
       "mean         1.149556\n",
       "std          0.446407\n",
       "min          0.000000\n",
       "25%          1.000000\n",
       "50%          1.000000\n",
       "75%          1.000000\n",
       "max         10.000000\n",
       "Name: 욕실수, dtype: float64"
      ]
     },
     "execution_count": 596,
     "metadata": {},
     "output_type": "execute_result"
    }
   ],
   "source": [
    "df['욕실수'].describe()"
   ]
  },
  {
   "cell_type": "code",
   "execution_count": 597,
   "metadata": {},
   "outputs": [
    {
     "data": {
      "text/plain": [
       "array([ 1.,  0., nan,  2.,  3.,  6.,  4.,  5.,  7., 16., 50., 32., 12.,\n",
       "        8., 38., 14.,  9., 10., 33., 11., 41., 30.])"
      ]
     },
     "execution_count": 597,
     "metadata": {},
     "output_type": "execute_result"
    }
   ],
   "source": [
    "# 침실수 결측치 처리\n",
    "df['침실수'].unique()"
   ]
  },
  {
   "cell_type": "code",
   "execution_count": 598,
   "metadata": {},
   "outputs": [
    {
     "data": {
      "text/plain": [
       "침실수\n",
       "1.0     48606\n",
       "2.0     15269\n",
       "0.0      6274\n",
       "3.0      5512\n",
       "4.0      1407\n",
       "5.0       285\n",
       "6.0        75\n",
       "7.0        26\n",
       "8.0         5\n",
       "33.0        2\n",
       "30.0        2\n",
       "16.0        2\n",
       "12.0        1\n",
       "50.0        1\n",
       "38.0        1\n",
       "14.0        1\n",
       "9.0         1\n",
       "10.0        1\n",
       "11.0        1\n",
       "41.0        1\n",
       "32.0        1\n",
       "Name: count, dtype: int64"
      ]
     },
     "execution_count": 598,
     "metadata": {},
     "output_type": "execute_result"
    }
   ],
   "source": [
    "df['침실수'].value_counts()"
   ]
  },
  {
   "cell_type": "code",
   "execution_count": 599,
   "metadata": {},
   "outputs": [
    {
     "data": {
      "text/plain": [
       "count    77474.000000\n",
       "mean         1.339546\n",
       "std          0.922877\n",
       "min          0.000000\n",
       "25%          1.000000\n",
       "50%          1.000000\n",
       "75%          2.000000\n",
       "max         50.000000\n",
       "Name: 침실수, dtype: float64"
      ]
     },
     "execution_count": 599,
     "metadata": {},
     "output_type": "execute_result"
    }
   ],
   "source": [
    "df['침실수'].describe()"
   ]
  },
  {
   "cell_type": "code",
   "execution_count": 600,
   "metadata": {},
   "outputs": [],
   "source": [
    "# 이상치 처리: '침실수'가 0에서 10 사이가 아닌 값을 중위수로 대체\n",
    "median_bedrooms = df['침실수'].median()\n",
    "df.loc[(df['침실수'] > 10) | (df['침실수'] < 0), '침실수'] = median_bedrooms"
   ]
  },
  {
   "cell_type": "code",
   "execution_count": 601,
   "metadata": {},
   "outputs": [
    {
     "data": {
      "text/plain": [
       "침실수\n",
       "1.0     55535\n",
       "2.0     15269\n",
       "0.0      6274\n",
       "3.0      5512\n",
       "4.0      1407\n",
       "5.0       285\n",
       "6.0        75\n",
       "7.0        26\n",
       "8.0         5\n",
       "9.0         1\n",
       "10.0        1\n",
       "Name: count, dtype: int64"
      ]
     },
     "execution_count": 601,
     "metadata": {},
     "output_type": "execute_result"
    }
   ],
   "source": [
    "# 결측치 대체: 중위수로 결측치 대체\n",
    "df['침실수'].fillna(median_bedrooms, inplace=True)\n",
    "df['침실수'].value_counts()"
   ]
  },
  {
   "cell_type": "code",
   "execution_count": 602,
   "metadata": {},
   "outputs": [],
   "source": [
    "# 침대수 결측치 처리\n",
    "# 이게 애매함...\n",
    "# 침실수 확인하면서 어느정도 본 결과 1침실 2침대인 경우가 존재\n",
    "# 예를 들어 싱글베드 2개, 이층침대 2개 등\n",
    "# 소파베드 역시 침대수로 들어감."
   ]
  },
  {
   "cell_type": "code",
   "execution_count": 603,
   "metadata": {},
   "outputs": [
    {
     "data": {
      "text/plain": [
       "0        1.0\n",
       "1        1.0\n",
       "2        1.0\n",
       "3        1.0\n",
       "4        NaN\n",
       "        ... \n",
       "84392    1.0\n",
       "84393    1.0\n",
       "84394    2.0\n",
       "84395    2.0\n",
       "84396    1.0\n",
       "Name: 침대수, Length: 84390, dtype: float64"
      ]
     },
     "execution_count": 603,
     "metadata": {},
     "output_type": "execute_result"
    }
   ],
   "source": [
    "df['침대수']"
   ]
  },
  {
   "cell_type": "code",
   "execution_count": 604,
   "metadata": {},
   "outputs": [
    {
     "data": {
      "text/plain": [
       "array([ 1., nan,  2.,  3.,  5.,  9.,  0.,  7.,  4.,  8.,  6., 10., 11.,\n",
       "       13., 17., 77., 14., 12., 30.])"
      ]
     },
     "execution_count": 604,
     "metadata": {},
     "output_type": "execute_result"
    }
   ],
   "source": [
    "df['침대수'].unique()"
   ]
  },
  {
   "cell_type": "code",
   "execution_count": 605,
   "metadata": {},
   "outputs": [
    {
     "data": {
      "text/plain": [
       "침대수\n",
       "1.0     27020\n",
       "2.0     17620\n",
       "3.0      6961\n",
       "0.0      4169\n",
       "4.0      3155\n",
       "5.0      1128\n",
       "6.0       451\n",
       "7.0       175\n",
       "8.0        87\n",
       "9.0        30\n",
       "10.0       13\n",
       "11.0        7\n",
       "12.0        5\n",
       "13.0        2\n",
       "30.0        2\n",
       "17.0        1\n",
       "77.0        1\n",
       "14.0        1\n",
       "Name: count, dtype: int64"
      ]
     },
     "execution_count": 605,
     "metadata": {},
     "output_type": "execute_result"
    }
   ],
   "source": [
    "df['침대수'].value_counts()"
   ]
  },
  {
   "cell_type": "code",
   "execution_count": 606,
   "metadata": {},
   "outputs": [
    {
     "data": {
      "text/plain": [
       "count    60828.000000\n",
       "mean         1.755129\n",
       "std          1.254172\n",
       "min          0.000000\n",
       "25%          1.000000\n",
       "50%          1.000000\n",
       "75%          2.000000\n",
       "max         77.000000\n",
       "Name: 침대수, dtype: float64"
      ]
     },
     "execution_count": 606,
     "metadata": {},
     "output_type": "execute_result"
    }
   ],
   "source": [
    "df['침대수'].describe()"
   ]
  },
  {
   "cell_type": "code",
   "execution_count": 607,
   "metadata": {},
   "outputs": [
    {
     "data": {
      "text/html": [
       "<div>\n",
       "<style scoped>\n",
       "    .dataframe tbody tr th:only-of-type {\n",
       "        vertical-align: middle;\n",
       "    }\n",
       "\n",
       "    .dataframe tbody tr th {\n",
       "        vertical-align: top;\n",
       "    }\n",
       "\n",
       "    .dataframe thead th {\n",
       "        text-align: right;\n",
       "    }\n",
       "</style>\n",
       "<table border=\"1\" class=\"dataframe\">\n",
       "  <thead>\n",
       "    <tr style=\"text-align: right;\">\n",
       "      <th></th>\n",
       "      <th>listing_url</th>\n",
       "      <th>property_type</th>\n",
       "      <th>room_type</th>\n",
       "      <th>beds</th>\n",
       "    </tr>\n",
       "  </thead>\n",
       "  <tbody>\n",
       "    <tr>\n",
       "      <th>275</th>\n",
       "      <td>https://www.airbnb.com/rooms/328271</td>\n",
       "      <td>Entire rental unit</td>\n",
       "      <td>Entire home/apt</td>\n",
       "      <td>10.0</td>\n",
       "    </tr>\n",
       "    <tr>\n",
       "      <th>1364</th>\n",
       "      <td>https://www.airbnb.com/rooms/1253640</td>\n",
       "      <td>Entire rental unit</td>\n",
       "      <td>Entire home/apt</td>\n",
       "      <td>11.0</td>\n",
       "    </tr>\n",
       "    <tr>\n",
       "      <th>2398</th>\n",
       "      <td>https://www.airbnb.com/rooms/2508620</td>\n",
       "      <td>Entire loft</td>\n",
       "      <td>Entire home/apt</td>\n",
       "      <td>13.0</td>\n",
       "    </tr>\n",
       "    <tr>\n",
       "      <th>4599</th>\n",
       "      <td>https://www.airbnb.com/rooms/4884557</td>\n",
       "      <td>Entire townhouse</td>\n",
       "      <td>Entire home/apt</td>\n",
       "      <td>17.0</td>\n",
       "    </tr>\n",
       "    <tr>\n",
       "      <th>11639</th>\n",
       "      <td>https://www.airbnb.com/rooms/13216351</td>\n",
       "      <td>Entire rental unit</td>\n",
       "      <td>Entire home/apt</td>\n",
       "      <td>10.0</td>\n",
       "    </tr>\n",
       "    <tr>\n",
       "      <th>17247</th>\n",
       "      <td>https://www.airbnb.com/rooms/20433587</td>\n",
       "      <td>Room in boutique hotel</td>\n",
       "      <td>Private room</td>\n",
       "      <td>77.0</td>\n",
       "    </tr>\n",
       "    <tr>\n",
       "      <th>17648</th>\n",
       "      <td>https://www.airbnb.com/rooms/21087001</td>\n",
       "      <td>Entire rental unit</td>\n",
       "      <td>Entire home/apt</td>\n",
       "      <td>10.0</td>\n",
       "    </tr>\n",
       "    <tr>\n",
       "      <th>19662</th>\n",
       "      <td>https://www.airbnb.com/rooms/24387710</td>\n",
       "      <td>Room in aparthotel</td>\n",
       "      <td>Private room</td>\n",
       "      <td>11.0</td>\n",
       "    </tr>\n",
       "    <tr>\n",
       "      <th>20204</th>\n",
       "      <td>https://www.airbnb.com/rooms/25205855</td>\n",
       "      <td>Entire rental unit</td>\n",
       "      <td>Entire home/apt</td>\n",
       "      <td>10.0</td>\n",
       "    </tr>\n",
       "    <tr>\n",
       "      <th>20434</th>\n",
       "      <td>https://www.airbnb.com/rooms/25307111</td>\n",
       "      <td>Entire home</td>\n",
       "      <td>Entire home/apt</td>\n",
       "      <td>10.0</td>\n",
       "    </tr>\n",
       "    <tr>\n",
       "      <th>23599</th>\n",
       "      <td>https://www.airbnb.com/rooms/30853181</td>\n",
       "      <td>Private room in serviced apartment</td>\n",
       "      <td>Private room</td>\n",
       "      <td>10.0</td>\n",
       "    </tr>\n",
       "    <tr>\n",
       "      <th>29338</th>\n",
       "      <td>https://www.airbnb.com/rooms/39355821</td>\n",
       "      <td>Entire condo</td>\n",
       "      <td>Entire home/apt</td>\n",
       "      <td>10.0</td>\n",
       "    </tr>\n",
       "    <tr>\n",
       "      <th>30516</th>\n",
       "      <td>https://www.airbnb.com/rooms/40812503</td>\n",
       "      <td>Entire loft</td>\n",
       "      <td>Entire home/apt</td>\n",
       "      <td>10.0</td>\n",
       "    </tr>\n",
       "    <tr>\n",
       "      <th>38739</th>\n",
       "      <td>https://www.airbnb.com/rooms/54066057</td>\n",
       "      <td>Entire villa</td>\n",
       "      <td>Entire home/apt</td>\n",
       "      <td>11.0</td>\n",
       "    </tr>\n",
       "    <tr>\n",
       "      <th>45337</th>\n",
       "      <td>https://www.airbnb.com/rooms/690955762367266641</td>\n",
       "      <td>Entire rental unit</td>\n",
       "      <td>Entire home/apt</td>\n",
       "      <td>11.0</td>\n",
       "    </tr>\n",
       "    <tr>\n",
       "      <th>46620</th>\n",
       "      <td>https://www.airbnb.com/rooms/729468830726782521</td>\n",
       "      <td>Entire condo</td>\n",
       "      <td>Entire home/apt</td>\n",
       "      <td>14.0</td>\n",
       "    </tr>\n",
       "    <tr>\n",
       "      <th>47971</th>\n",
       "      <td>https://www.airbnb.com/rooms/761251047938625863</td>\n",
       "      <td>Entire rental unit</td>\n",
       "      <td>Entire home/apt</td>\n",
       "      <td>13.0</td>\n",
       "    </tr>\n",
       "    <tr>\n",
       "      <th>47974</th>\n",
       "      <td>https://www.airbnb.com/rooms/761251836086423636</td>\n",
       "      <td>Entire rental unit</td>\n",
       "      <td>Entire home/apt</td>\n",
       "      <td>10.0</td>\n",
       "    </tr>\n",
       "    <tr>\n",
       "      <th>49113</th>\n",
       "      <td>https://www.airbnb.com/rooms/785284068115460701</td>\n",
       "      <td>Entire rental unit</td>\n",
       "      <td>Entire home/apt</td>\n",
       "      <td>10.0</td>\n",
       "    </tr>\n",
       "    <tr>\n",
       "      <th>51005</th>\n",
       "      <td>https://www.airbnb.com/rooms/827417583936546185</td>\n",
       "      <td>Entire rental unit</td>\n",
       "      <td>Entire home/apt</td>\n",
       "      <td>12.0</td>\n",
       "    </tr>\n",
       "    <tr>\n",
       "      <th>51763</th>\n",
       "      <td>https://www.airbnb.com/rooms/843192767245443038</td>\n",
       "      <td>Entire rental unit</td>\n",
       "      <td>Entire home/apt</td>\n",
       "      <td>12.0</td>\n",
       "    </tr>\n",
       "    <tr>\n",
       "      <th>54649</th>\n",
       "      <td>https://www.airbnb.com/rooms/883159737828077545</td>\n",
       "      <td>Entire rental unit</td>\n",
       "      <td>Entire home/apt</td>\n",
       "      <td>11.0</td>\n",
       "    </tr>\n",
       "    <tr>\n",
       "      <th>59146</th>\n",
       "      <td>https://www.airbnb.com/rooms/926626000981105731</td>\n",
       "      <td>Entire rental unit</td>\n",
       "      <td>Entire home/apt</td>\n",
       "      <td>12.0</td>\n",
       "    </tr>\n",
       "    <tr>\n",
       "      <th>64038</th>\n",
       "      <td>https://www.airbnb.com/rooms/973218528571872378</td>\n",
       "      <td>Entire rental unit</td>\n",
       "      <td>Entire home/apt</td>\n",
       "      <td>10.0</td>\n",
       "    </tr>\n",
       "    <tr>\n",
       "      <th>66474</th>\n",
       "      <td>https://www.airbnb.com/rooms/995540263248645557</td>\n",
       "      <td>Entire rental unit</td>\n",
       "      <td>Entire home/apt</td>\n",
       "      <td>11.0</td>\n",
       "    </tr>\n",
       "    <tr>\n",
       "      <th>66904</th>\n",
       "      <td>https://www.airbnb.com/rooms/999754448414906573</td>\n",
       "      <td>Entire home</td>\n",
       "      <td>Entire home/apt</td>\n",
       "      <td>12.0</td>\n",
       "    </tr>\n",
       "    <tr>\n",
       "      <th>68135</th>\n",
       "      <td>https://www.airbnb.com/rooms/1011360286619821288</td>\n",
       "      <td>Private room in home</td>\n",
       "      <td>Private room</td>\n",
       "      <td>11.0</td>\n",
       "    </tr>\n",
       "    <tr>\n",
       "      <th>74845</th>\n",
       "      <td>https://www.airbnb.com/rooms/1061515145881528080</td>\n",
       "      <td>Entire rental unit</td>\n",
       "      <td>Entire home/apt</td>\n",
       "      <td>10.0</td>\n",
       "    </tr>\n",
       "    <tr>\n",
       "      <th>76331</th>\n",
       "      <td>https://www.airbnb.com/rooms/1070960072975209098</td>\n",
       "      <td>Room in hotel</td>\n",
       "      <td>Private room</td>\n",
       "      <td>30.0</td>\n",
       "    </tr>\n",
       "    <tr>\n",
       "      <th>76378</th>\n",
       "      <td>https://www.airbnb.com/rooms/1071020436354803291</td>\n",
       "      <td>Room in hotel</td>\n",
       "      <td>Private room</td>\n",
       "      <td>30.0</td>\n",
       "    </tr>\n",
       "    <tr>\n",
       "      <th>79151</th>\n",
       "      <td>https://www.airbnb.com/rooms/1085393494869420015</td>\n",
       "      <td>Shared room in rental unit</td>\n",
       "      <td>Shared room</td>\n",
       "      <td>10.0</td>\n",
       "    </tr>\n",
       "    <tr>\n",
       "      <th>79153</th>\n",
       "      <td>https://www.airbnb.com/rooms/1085637479806106413</td>\n",
       "      <td>Entire rental unit</td>\n",
       "      <td>Entire home/apt</td>\n",
       "      <td>12.0</td>\n",
       "    </tr>\n",
       "  </tbody>\n",
       "</table>\n",
       "</div>"
      ],
      "text/plain": [
       "                                            listing_url  \\\n",
       "275                 https://www.airbnb.com/rooms/328271   \n",
       "1364               https://www.airbnb.com/rooms/1253640   \n",
       "2398               https://www.airbnb.com/rooms/2508620   \n",
       "4599               https://www.airbnb.com/rooms/4884557   \n",
       "11639             https://www.airbnb.com/rooms/13216351   \n",
       "17247             https://www.airbnb.com/rooms/20433587   \n",
       "17648             https://www.airbnb.com/rooms/21087001   \n",
       "19662             https://www.airbnb.com/rooms/24387710   \n",
       "20204             https://www.airbnb.com/rooms/25205855   \n",
       "20434             https://www.airbnb.com/rooms/25307111   \n",
       "23599             https://www.airbnb.com/rooms/30853181   \n",
       "29338             https://www.airbnb.com/rooms/39355821   \n",
       "30516             https://www.airbnb.com/rooms/40812503   \n",
       "38739             https://www.airbnb.com/rooms/54066057   \n",
       "45337   https://www.airbnb.com/rooms/690955762367266641   \n",
       "46620   https://www.airbnb.com/rooms/729468830726782521   \n",
       "47971   https://www.airbnb.com/rooms/761251047938625863   \n",
       "47974   https://www.airbnb.com/rooms/761251836086423636   \n",
       "49113   https://www.airbnb.com/rooms/785284068115460701   \n",
       "51005   https://www.airbnb.com/rooms/827417583936546185   \n",
       "51763   https://www.airbnb.com/rooms/843192767245443038   \n",
       "54649   https://www.airbnb.com/rooms/883159737828077545   \n",
       "59146   https://www.airbnb.com/rooms/926626000981105731   \n",
       "64038   https://www.airbnb.com/rooms/973218528571872378   \n",
       "66474   https://www.airbnb.com/rooms/995540263248645557   \n",
       "66904   https://www.airbnb.com/rooms/999754448414906573   \n",
       "68135  https://www.airbnb.com/rooms/1011360286619821288   \n",
       "74845  https://www.airbnb.com/rooms/1061515145881528080   \n",
       "76331  https://www.airbnb.com/rooms/1070960072975209098   \n",
       "76378  https://www.airbnb.com/rooms/1071020436354803291   \n",
       "79151  https://www.airbnb.com/rooms/1085393494869420015   \n",
       "79153  https://www.airbnb.com/rooms/1085637479806106413   \n",
       "\n",
       "                            property_type        room_type  beds  \n",
       "275                    Entire rental unit  Entire home/apt  10.0  \n",
       "1364                   Entire rental unit  Entire home/apt  11.0  \n",
       "2398                          Entire loft  Entire home/apt  13.0  \n",
       "4599                     Entire townhouse  Entire home/apt  17.0  \n",
       "11639                  Entire rental unit  Entire home/apt  10.0  \n",
       "17247              Room in boutique hotel     Private room  77.0  \n",
       "17648                  Entire rental unit  Entire home/apt  10.0  \n",
       "19662                  Room in aparthotel     Private room  11.0  \n",
       "20204                  Entire rental unit  Entire home/apt  10.0  \n",
       "20434                         Entire home  Entire home/apt  10.0  \n",
       "23599  Private room in serviced apartment     Private room  10.0  \n",
       "29338                        Entire condo  Entire home/apt  10.0  \n",
       "30516                         Entire loft  Entire home/apt  10.0  \n",
       "38739                        Entire villa  Entire home/apt  11.0  \n",
       "45337                  Entire rental unit  Entire home/apt  11.0  \n",
       "46620                        Entire condo  Entire home/apt  14.0  \n",
       "47971                  Entire rental unit  Entire home/apt  13.0  \n",
       "47974                  Entire rental unit  Entire home/apt  10.0  \n",
       "49113                  Entire rental unit  Entire home/apt  10.0  \n",
       "51005                  Entire rental unit  Entire home/apt  12.0  \n",
       "51763                  Entire rental unit  Entire home/apt  12.0  \n",
       "54649                  Entire rental unit  Entire home/apt  11.0  \n",
       "59146                  Entire rental unit  Entire home/apt  12.0  \n",
       "64038                  Entire rental unit  Entire home/apt  10.0  \n",
       "66474                  Entire rental unit  Entire home/apt  11.0  \n",
       "66904                         Entire home  Entire home/apt  12.0  \n",
       "68135                Private room in home     Private room  11.0  \n",
       "74845                  Entire rental unit  Entire home/apt  10.0  \n",
       "76331                       Room in hotel     Private room  30.0  \n",
       "76378                       Room in hotel     Private room  30.0  \n",
       "79151          Shared room in rental unit      Shared room  10.0  \n",
       "79153                  Entire rental unit  Entire home/apt  12.0  "
      ]
     },
     "execution_count": 607,
     "metadata": {},
     "output_type": "execute_result"
    }
   ],
   "source": [
    "# 이상치 확인 (10개 이상)\n",
    "df_temp = dat[['listing_url', 'property_type','room_type','beds']][dat['beds'] >= 10 ]\n",
    "df_temp\n",
    "# 총 32개 데이터"
   ]
  },
  {
   "cell_type": "markdown",
   "metadata": {},
   "source": [
    "확인 결과\n",
    "- 30개 -> 호텔의 총 30개의 객실에 놓인 30개 침대 => 각 객실당 1개\n",
    "- 77게 -> 메인 페이지로 들어가짐\n",
    "\n",
    "그외 10개 이상값들 : 이건 이층침대, 소파베드 여러개 등이 섞여 있어서 이상치로 처리하면 안됨.\n"
   ]
  },
  {
   "cell_type": "code",
   "execution_count": 608,
   "metadata": {},
   "outputs": [],
   "source": [
    "# 이상치 처리: '침대수'가 30이상 값을 중위수로 대체\n",
    "median_beds = df['침대수'].median()\n",
    "df.loc[df['침대수'] >= 30, '침대수'] = median_beds"
   ]
  },
  {
   "cell_type": "code",
   "execution_count": 609,
   "metadata": {},
   "outputs": [
    {
     "data": {
      "text/plain": [
       "침대수\n",
       "1.0     50585\n",
       "2.0     17620\n",
       "3.0      6961\n",
       "0.0      4169\n",
       "4.0      3155\n",
       "5.0      1128\n",
       "6.0       451\n",
       "7.0       175\n",
       "8.0        87\n",
       "9.0        30\n",
       "10.0       13\n",
       "11.0        7\n",
       "12.0        5\n",
       "13.0        2\n",
       "17.0        1\n",
       "14.0        1\n",
       "Name: count, dtype: int64"
      ]
     },
     "execution_count": 609,
     "metadata": {},
     "output_type": "execute_result"
    }
   ],
   "source": [
    "# 결측치 대체: 중위수로 결측치 대체\n",
    "df['침대수'].fillna(median_beds, inplace=True)\n",
    "df['침대수'].value_counts()"
   ]
  },
  {
   "cell_type": "markdown",
   "metadata": {},
   "source": [
    "숙소_가격 결측치 처리"
   ]
  },
  {
   "cell_type": "code",
   "execution_count": 610,
   "metadata": {},
   "outputs": [
    {
     "data": {
      "text/plain": [
       "1436"
      ]
     },
     "execution_count": 610,
     "metadata": {},
     "output_type": "execute_result"
    }
   ],
   "source": [
    "df['숙소_가격'].nunique()"
   ]
  },
  {
   "cell_type": "code",
   "execution_count": 611,
   "metadata": {},
   "outputs": [
    {
     "data": {
      "text/plain": [
       "0        $250.00\n",
       "1        $140.00\n",
       "2        $107.00\n",
       "3        $200.00\n",
       "4            NaN\n",
       "          ...   \n",
       "84392     $80.00\n",
       "84393    $167.00\n",
       "84394     $98.00\n",
       "84395    $296.00\n",
       "84396     $71.00\n",
       "Name: 숙소_가격, Length: 84390, dtype: object"
      ]
     },
     "execution_count": 611,
     "metadata": {},
     "output_type": "execute_result"
    }
   ],
   "source": [
    "df['숙소_가격']"
   ]
  },
  {
   "cell_type": "code",
   "execution_count": 612,
   "metadata": {},
   "outputs": [
    {
     "data": {
      "text/plain": [
       "0        250.0\n",
       "1        140.0\n",
       "2        107.0\n",
       "3        200.0\n",
       "4          NaN\n",
       "         ...  \n",
       "84392     80.0\n",
       "84393    167.0\n",
       "84394     98.0\n",
       "84395    296.0\n",
       "84396     71.0\n",
       "Name: 숙소_가격, Length: 84390, dtype: float64"
      ]
     },
     "execution_count": 612,
     "metadata": {},
     "output_type": "execute_result"
    }
   ],
   "source": [
    "# '$' 기호와 ',' 제거 후 실수(float) 형태로 변환\n",
    "df['숙소_가격'] = df['숙소_가격'].replace('[$,]', '', regex=True).astype(float)\n",
    "df['숙소_가격']"
   ]
  },
  {
   "cell_type": "code",
   "execution_count": 613,
   "metadata": {},
   "outputs": [
    {
     "data": {
      "text/plain": [
       "23473"
      ]
     },
     "execution_count": 613,
     "metadata": {},
     "output_type": "execute_result"
    }
   ],
   "source": [
    "# 결측치 확인\n",
    "df['숙소_가격'].isnull().sum()"
   ]
  },
  {
   "cell_type": "code",
   "execution_count": 614,
   "metadata": {},
   "outputs": [
    {
     "data": {
      "text/plain": [
       "count    60917.000000\n",
       "mean       288.662410\n",
       "std        728.040335\n",
       "min          0.000000\n",
       "25%        102.000000\n",
       "50%        156.000000\n",
       "75%        279.000000\n",
       "max      68571.000000\n",
       "Name: 숙소_가격, dtype: float64"
      ]
     },
     "execution_count": 614,
     "metadata": {},
     "output_type": "execute_result"
    }
   ],
   "source": [
    "df['숙소_가격'].describe()"
   ]
  },
  {
   "cell_type": "code",
   "execution_count": 615,
   "metadata": {},
   "outputs": [],
   "source": [
    "# 결측치를 평균값으로 대체\n",
    "mean_price = round(df['숙소_가격'].mean(),2)\n",
    "df['숙소_가격'].fillna(mean_price, inplace=True)"
   ]
  },
  {
   "cell_type": "code",
   "execution_count": 616,
   "metadata": {},
   "outputs": [
    {
     "data": {
      "text/plain": [
       "0        250.00\n",
       "1        140.00\n",
       "2        107.00\n",
       "3        200.00\n",
       "4        288.66\n",
       "          ...  \n",
       "84392     80.00\n",
       "84393    167.00\n",
       "84394     98.00\n",
       "84395    296.00\n",
       "84396     71.00\n",
       "Name: 숙소_가격, Length: 84390, dtype: float64"
      ]
     },
     "execution_count": 616,
     "metadata": {},
     "output_type": "execute_result"
    }
   ],
   "source": [
    "df['숙소_가격']"
   ]
  },
  {
   "cell_type": "code",
   "execution_count": 618,
   "metadata": {},
   "outputs": [
    {
     "data": {
      "text/plain": [
       "숙소_가격\n",
       "288.66     23473\n",
       "150.00      1699\n",
       "120.00      1603\n",
       "100.00      1563\n",
       "200.00      1521\n",
       "           ...  \n",
       "1171.00        1\n",
       "15.00          1\n",
       "3040.00        1\n",
       "2190.00        1\n",
       "2324.00        1\n",
       "Name: count, Length: 1437, dtype: int64"
      ]
     },
     "execution_count": 618,
     "metadata": {},
     "output_type": "execute_result"
    }
   ],
   "source": [
    "df['숙소_가격'].value_counts()"
   ]
  },
  {
   "cell_type": "code",
   "execution_count": 620,
   "metadata": {},
   "outputs": [
    {
     "data": {
      "text/plain": [
       "숙소_id              0\n",
       "호스트_id             0\n",
       "답변_평균시간            0\n",
       "문의_응답률             0\n",
       "예약_수락률             0\n",
       "슈퍼호스트              0\n",
       "숙소_수               0\n",
       "숙소_지역              0\n",
       "숙소_유형              0\n",
       "수용인원수              0\n",
       "욕실수                0\n",
       "침실수                0\n",
       "침대수                0\n",
       "편의시설               0\n",
       "숙소_가격              0\n",
       "최소_숙박일             0\n",
       "최대_숙박일             0\n",
       "리뷰수                0\n",
       "30일_리뷰수            0\n",
       "리뷰점수           25563\n",
       "숙소_정확성_리뷰점수    25597\n",
       "숙소_청결도_리뷰점수    25593\n",
       "숙소_체크인_리뷰점수    25606\n",
       "숙소_소통_리뷰점수     25595\n",
       "숙소_위치_리뷰점수     25603\n",
       "숙소_가격_리뷰점수     25608\n",
       "평균_리뷰수         25568\n",
       "dtype: int64"
      ]
     },
     "execution_count": 620,
     "metadata": {},
     "output_type": "execute_result"
    }
   ],
   "source": [
    "df.isnull().sum()"
   ]
  },
  {
   "cell_type": "code",
   "execution_count": null,
   "metadata": {},
   "outputs": [],
   "source": []
  }
 ],
 "metadata": {
  "kernelspec": {
   "display_name": "base",
   "language": "python",
   "name": "python3"
  },
  "language_info": {
   "codemirror_mode": {
    "name": "ipython",
    "version": 3
   },
   "file_extension": ".py",
   "mimetype": "text/x-python",
   "name": "python",
   "nbconvert_exporter": "python",
   "pygments_lexer": "ipython3",
   "version": "3.11.7"
  }
 },
 "nbformat": 4,
 "nbformat_minor": 2
}
