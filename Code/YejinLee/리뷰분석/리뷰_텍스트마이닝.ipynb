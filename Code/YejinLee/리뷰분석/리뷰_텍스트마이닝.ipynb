{
 "cells": [
  {
   "cell_type": "markdown",
   "metadata": {},
   "source": [
    "전체 전처리 코드"
   ]
  },
  {
   "cell_type": "code",
   "execution_count": 2,
   "metadata": {},
   "outputs": [
    {
     "name": "stderr",
     "output_type": "stream",
     "text": [
      "C:\\Users\\Master\\AppData\\Local\\Temp\\ipykernel_15308\\2528387372.py:30: DtypeWarning: Columns (0) have mixed types. Specify dtype option on import or set low_memory=False.\n",
      "  df = pd.read_csv(path, encoding='ANSI')\n"
     ]
    },
    {
     "data": {
      "text/plain": [
       "0              80770.0\n",
       "1             367568.0\n",
       "2             529579.0\n",
       "3             595481.0\n",
       "4             612947.0\n",
       "              ...     \n",
       "1048570       1.03e+18\n",
       "1048571       1.06e+18\n",
       "1048572       1.08e+18\n",
       "1048573    546959985.0\n",
       "1048574    552731545.0\n",
       "Name: listing_id, Length: 1033671, dtype: object"
      ]
     },
     "execution_count": 2,
     "metadata": {},
     "output_type": "execute_result"
    }
   ],
   "source": [
    "# 기본 패키지 불러오기 \n",
    "\n",
    "import pandas as pd\n",
    "import numpy as np\n",
    "import matplotlib.pyplot as plt\n",
    "import plotly.express as px\n",
    "import seaborn as sns \n",
    "import matplotlib as mpl\n",
    "from matplotlib import font_manager, rc\n",
    "\n",
    "# 그래프를 노트북 안에 그리기 위해 설정\n",
    "%matplotlib inline\n",
    "\n",
    "# 글꼴 경로 지정\n",
    "font_path = '../../../../data/malgun.ttf'  # 윈도우에 설치된 맑은 고딕 폰트 경로\n",
    "\n",
    "# 폰트 이름 얻어오기\n",
    "font_name = font_manager.FontProperties(fname=font_path).get_name()\n",
    "\n",
    "# matplotlib의 rc(run command) 기능을 이용하여 글꼴 설정\n",
    "mpl.rc('font', family=font_name)\n",
    "\n",
    "# 유니코드에서  음수 부호 설정\n",
    "mpl.rc('axes', unicode_minus=False)\n",
    "\n",
    "# 데이터 불러오기\n",
    "\n",
    "path = '../../../../data/Airbnb_London/reviews.csv'\n",
    "\n",
    "df = pd.read_csv(path, encoding='ANSI')\n",
    "\n",
    "#date >> 데이터타입 변경 datatime \n",
    "\n",
    "df['date'] = pd.to_datetime(df['date'])\n",
    "\n",
    "#<br/>만 있는 값 제거 \n",
    "condition = df['listing_id'] == '<br/>'\n",
    "df.drop(df[condition].index, inplace=True)\n",
    "\n",
    "#listing_id에서 'br/' 를 포함하고 있는 데이터 추출 >> row_br \n",
    "row_br = df['listing_id'].str.contains('<br/>',na=False)\n",
    "\n",
    "#br/을 포함하고 있는 데이터는 리뷰내용이다 >> comments컬럼으로 옮기자 \n",
    "df.loc[row_br, 'comments'] = df.loc[row_br, 'listing_id']\n",
    "\n",
    "#옮기고나서 listing_id값을 널값으로 바꾸자 \n",
    "df.loc[row_br, 'listing_id'] = np.nan\n",
    "\n",
    "#일단 리뷰내용만 있는 행 제거함 \n",
    "condition_nan = df['listing_id'].isna() & df['id'].isna() & df['date'].isna() & df['reviewer_id'].isna() & df['reviewer_name'].isna()\n",
    "df = df[~condition_nan]\n",
    "\n",
    "#리뷰내용이 없는거 삭제\n",
    "df = df[~(df['comments'].isna())]\n",
    "\n",
    "#br/ 을 포함하고 있는 리뷰 >> br/을 공백(띄어쓰기)로 변경\n",
    "df['comments'] = df['comments'].str.replace('<br/>', ' ', regex=False)\n",
    "\n",
    "#listing_id 와 id, reviewer_id를 string 값으로 데이터타입 변경 \n",
    "df['listing_id'] = df['id'] = df['id'].astype(str)\n",
    "df['reviewer_id'] = df['reviewer_id'].astype(str)\n",
    "df['listing_id'].astype(str)\n"
   ]
  },
  {
   "cell_type": "code",
   "execution_count": null,
   "metadata": {},
   "outputs": [],
   "source": []
  },
  {
   "cell_type": "code",
   "execution_count": null,
   "metadata": {},
   "outputs": [],
   "source": []
  },
  {
   "cell_type": "code",
   "execution_count": null,
   "metadata": {},
   "outputs": [],
   "source": []
  },
  {
   "cell_type": "code",
   "execution_count": null,
   "metadata": {},
   "outputs": [],
   "source": []
  },
  {
   "cell_type": "code",
   "execution_count": null,
   "metadata": {},
   "outputs": [],
   "source": []
  },
  {
   "cell_type": "code",
   "execution_count": null,
   "metadata": {},
   "outputs": [],
   "source": []
  },
  {
   "cell_type": "code",
   "execution_count": null,
   "metadata": {},
   "outputs": [],
   "source": []
  }
 ],
 "metadata": {
  "kernelspec": {
   "display_name": "base",
   "language": "python",
   "name": "python3"
  },
  "language_info": {
   "codemirror_mode": {
    "name": "ipython",
    "version": 3
   },
   "file_extension": ".py",
   "mimetype": "text/x-python",
   "name": "python",
   "nbconvert_exporter": "python",
   "pygments_lexer": "ipython3",
   "version": "3.11.7"
  }
 },
 "nbformat": 4,
 "nbformat_minor": 2
}
