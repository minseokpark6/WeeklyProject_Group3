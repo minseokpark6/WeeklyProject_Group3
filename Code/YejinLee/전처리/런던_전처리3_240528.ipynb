{
  "cells": [
    {
      "cell_type": "code",
      "execution_count": 1,
      "metadata": {
        "colab": {
          "base_uri": "https://localhost:8080/",
          "height": 349
        },
        "id": "XpXoi7M2PlSs",
        "outputId": "e0ffa00a-0fcf-448a-9980-cfa9df69fb79"
      },
      "outputs": [
        {
          "name": "stdout",
          "output_type": "stream",
          "text": [
            "Requirement already satisfied: koreanize-matplotlib in d:\\anaconda\\lib\\site-packages (0.1.1)\n",
            "Requirement already satisfied: matplotlib in d:\\anaconda\\lib\\site-packages (from koreanize-matplotlib) (3.8.0)\n",
            "Requirement already satisfied: contourpy>=1.0.1 in d:\\anaconda\\lib\\site-packages (from matplotlib->koreanize-matplotlib) (1.2.0)\n",
            "Requirement already satisfied: cycler>=0.10 in d:\\anaconda\\lib\\site-packages (from matplotlib->koreanize-matplotlib) (0.11.0)\n",
            "Requirement already satisfied: fonttools>=4.22.0 in d:\\anaconda\\lib\\site-packages (from matplotlib->koreanize-matplotlib) (4.25.0)\n",
            "Requirement already satisfied: kiwisolver>=1.0.1 in d:\\anaconda\\lib\\site-packages (from matplotlib->koreanize-matplotlib) (1.4.4)\n",
            "Requirement already satisfied: numpy<2,>=1.21 in d:\\anaconda\\lib\\site-packages (from matplotlib->koreanize-matplotlib) (1.26.4)\n",
            "Requirement already satisfied: packaging>=20.0 in d:\\anaconda\\lib\\site-packages (from matplotlib->koreanize-matplotlib) (23.1)\n",
            "Requirement already satisfied: pillow>=6.2.0 in d:\\anaconda\\lib\\site-packages (from matplotlib->koreanize-matplotlib) (10.2.0)\n",
            "Requirement already satisfied: pyparsing>=2.3.1 in d:\\anaconda\\lib\\site-packages (from matplotlib->koreanize-matplotlib) (3.0.9)\n",
            "Requirement already satisfied: python-dateutil>=2.7 in d:\\anaconda\\lib\\site-packages (from matplotlib->koreanize-matplotlib) (2.8.2)\n",
            "Requirement already satisfied: six>=1.5 in d:\\anaconda\\lib\\site-packages (from python-dateutil>=2.7->matplotlib->koreanize-matplotlib) (1.16.0)\n"
          ]
        }
      ],
      "source": [
        "# !pip install koreanize-matplotlib///\n",
        "import koreanize_matplotlib"
      ]
    },
    {
      "cell_type": "code",
      "execution_count": 2,
      "metadata": {
        "id": "aBFtGuVJRlSl"
      },
      "outputs": [],
      "source": [
        "import numpy as np\n",
        "import pandas as pd\n",
        "import matplotlib.pyplot as plt\n",
        "\n",
        "path = './listings.csv'"
      ]
    },
    {
      "cell_type": "code",
      "execution_count": 3,
      "metadata": {
        "id": "E3bNA_hgRlOv"
      },
      "outputs": [],
      "source": [
        "df = pd.read_csv(path)\n",
        "df = pd.DataFrame(df)"
      ]
    },
    {
      "cell_type": "code",
      "execution_count": 4,
      "metadata": {
        "id": "Nz-a3f-3RlMg"
      },
      "outputs": [],
      "source": [
        "dat = df.copy()\n"
      ]
    },
    {
      "cell_type": "markdown",
      "metadata": {
        "id": "KoRcRmGWR5Hw"
      },
      "source": [
        "<h3>필요한 컬럼 가져오기(24개) + property_type <h3>"
      ]
    },
    {
      "cell_type": "code",
      "execution_count": 5,
      "metadata": {
        "colab": {
          "base_uri": "https://localhost:8080/",
          "height": 245
        },
        "id": "ldSgk4JiR3XX",
        "outputId": "86b0e01b-ebea-4440-c906-e851f463e036"
      },
      "outputs": [
        {
          "data": {
            "text/html": [
              "<div>\n",
              "<style scoped>\n",
              "    .dataframe tbody tr th:only-of-type {\n",
              "        vertical-align: middle;\n",
              "    }\n",
              "\n",
              "    .dataframe tbody tr th {\n",
              "        vertical-align: top;\n",
              "    }\n",
              "\n",
              "    .dataframe thead th {\n",
              "        text-align: right;\n",
              "    }\n",
              "</style>\n",
              "<table border=\"1\" class=\"dataframe\">\n",
              "  <thead>\n",
              "    <tr style=\"text-align: right;\">\n",
              "      <th></th>\n",
              "      <th>id</th>\n",
              "      <th>listing_url</th>\n",
              "      <th>host_id</th>\n",
              "      <th>property_type</th>\n",
              "      <th>host_is_superhost</th>\n",
              "      <th>host_total_listings_count</th>\n",
              "      <th>neighbourhood_cleansed</th>\n",
              "      <th>latitude</th>\n",
              "      <th>longitude</th>\n",
              "      <th>room_type</th>\n",
              "      <th>...</th>\n",
              "      <th>number_of_reviews</th>\n",
              "      <th>number_of_reviews_l30d</th>\n",
              "      <th>review_scores_rating</th>\n",
              "      <th>review_scores_accuracy</th>\n",
              "      <th>review_scores_cleanliness</th>\n",
              "      <th>review_scores_checkin</th>\n",
              "      <th>review_scores_communication</th>\n",
              "      <th>review_scores_location</th>\n",
              "      <th>review_scores_value</th>\n",
              "      <th>reviews_per_month</th>\n",
              "    </tr>\n",
              "  </thead>\n",
              "  <tbody>\n",
              "    <tr>\n",
              "      <th>0</th>\n",
              "      <td>312761</td>\n",
              "      <td>https://www.airbnb.com/rooms/312761</td>\n",
              "      <td>1608226</td>\n",
              "      <td>Entire rental unit</td>\n",
              "      <td>t</td>\n",
              "      <td>3.0</td>\n",
              "      <td>Hackney</td>\n",
              "      <td>51.52704</td>\n",
              "      <td>-0.08129</td>\n",
              "      <td>Entire home/apt</td>\n",
              "      <td>...</td>\n",
              "      <td>122</td>\n",
              "      <td>0</td>\n",
              "      <td>4.96</td>\n",
              "      <td>4.97</td>\n",
              "      <td>4.93</td>\n",
              "      <td>4.96</td>\n",
              "      <td>5.00</td>\n",
              "      <td>4.89</td>\n",
              "      <td>4.93</td>\n",
              "      <td>0.86</td>\n",
              "    </tr>\n",
              "    <tr>\n",
              "      <th>1</th>\n",
              "      <td>13913</td>\n",
              "      <td>https://www.airbnb.com/rooms/13913</td>\n",
              "      <td>54730</td>\n",
              "      <td>Private room in rental unit</td>\n",
              "      <td>t</td>\n",
              "      <td>5.0</td>\n",
              "      <td>Islington</td>\n",
              "      <td>51.56861</td>\n",
              "      <td>-0.11270</td>\n",
              "      <td>Private room</td>\n",
              "      <td>...</td>\n",
              "      <td>41</td>\n",
              "      <td>0</td>\n",
              "      <td>4.80</td>\n",
              "      <td>4.73</td>\n",
              "      <td>4.73</td>\n",
              "      <td>4.75</td>\n",
              "      <td>4.83</td>\n",
              "      <td>4.70</td>\n",
              "      <td>4.70</td>\n",
              "      <td>0.25</td>\n",
              "    </tr>\n",
              "    <tr>\n",
              "      <th>2</th>\n",
              "      <td>15400</td>\n",
              "      <td>https://www.airbnb.com/rooms/15400</td>\n",
              "      <td>60302</td>\n",
              "      <td>Entire rental unit</td>\n",
              "      <td>f</td>\n",
              "      <td>1.0</td>\n",
              "      <td>Kensington and Chelsea</td>\n",
              "      <td>51.48780</td>\n",
              "      <td>-0.16813</td>\n",
              "      <td>Entire home/apt</td>\n",
              "      <td>...</td>\n",
              "      <td>94</td>\n",
              "      <td>0</td>\n",
              "      <td>4.80</td>\n",
              "      <td>4.85</td>\n",
              "      <td>4.88</td>\n",
              "      <td>4.88</td>\n",
              "      <td>4.83</td>\n",
              "      <td>4.93</td>\n",
              "      <td>4.74</td>\n",
              "      <td>0.54</td>\n",
              "    </tr>\n",
              "  </tbody>\n",
              "</table>\n",
              "<p>3 rows × 28 columns</p>\n",
              "</div>"
            ],
            "text/plain": [
              "       id                          listing_url  host_id  \\\n",
              "0  312761  https://www.airbnb.com/rooms/312761  1608226   \n",
              "1   13913   https://www.airbnb.com/rooms/13913    54730   \n",
              "2   15400   https://www.airbnb.com/rooms/15400    60302   \n",
              "\n",
              "                 property_type host_is_superhost  host_total_listings_count  \\\n",
              "0           Entire rental unit                 t                        3.0   \n",
              "1  Private room in rental unit                 t                        5.0   \n",
              "2           Entire rental unit                 f                        1.0   \n",
              "\n",
              "   neighbourhood_cleansed  latitude  longitude        room_type  ...  \\\n",
              "0                 Hackney  51.52704   -0.08129  Entire home/apt  ...   \n",
              "1               Islington  51.56861   -0.11270     Private room  ...   \n",
              "2  Kensington and Chelsea  51.48780   -0.16813  Entire home/apt  ...   \n",
              "\n",
              "   number_of_reviews  number_of_reviews_l30d  review_scores_rating  \\\n",
              "0                122                       0                  4.96   \n",
              "1                 41                       0                  4.80   \n",
              "2                 94                       0                  4.80   \n",
              "\n",
              "   review_scores_accuracy review_scores_cleanliness review_scores_checkin  \\\n",
              "0                    4.97                      4.93                  4.96   \n",
              "1                    4.73                      4.73                  4.75   \n",
              "2                    4.85                      4.88                  4.88   \n",
              "\n",
              "   review_scores_communication  review_scores_location  review_scores_value  \\\n",
              "0                         5.00                    4.89                 4.93   \n",
              "1                         4.83                    4.70                 4.70   \n",
              "2                         4.83                    4.93                 4.74   \n",
              "\n",
              "   reviews_per_month  \n",
              "0               0.86  \n",
              "1               0.25  \n",
              "2               0.54  \n",
              "\n",
              "[3 rows x 28 columns]"
            ]
          },
          "execution_count": 5,
          "metadata": {},
          "output_type": "execute_result"
        }
      ],
      "source": [
        "#필요한 컬럼 가져오기\n",
        "selected_columns = ['id','listing_url','host_id', 'property_type',\n",
        "                    'host_is_superhost','host_total_listings_count','neighbourhood_cleansed','latitude',\n",
        "                    'longitude','room_type','accommodates','bathrooms','bedrooms','beds','amenities','price',\n",
        "                    'minimum_nights','maximum_nights','number_of_reviews','number_of_reviews_l30d',\n",
        "                    'review_scores_rating','review_scores_accuracy','review_scores_cleanliness',\n",
        "                    'review_scores_checkin','review_scores_communication','review_scores_location',\n",
        "                    'review_scores_value','reviews_per_month']\n",
        "df = df[selected_columns]\n",
        "\n",
        "df.head(3)"
      ]
    },
    {
      "cell_type": "markdown",
      "metadata": {
        "id": "0j4NZgpASnoN"
      },
      "source": [
        "<h3>필요한 컬럼명 변경<h3>\n"
      ]
    },
    {
      "cell_type": "markdown",
      "metadata": {
        "id": "MwOSaLZHSqA6"
      },
      "source": [
        "컬렴명 변경\n",
        "\n",
        "- 'id' : '숙소 id'\n",
        "- 'property_type' : '숙소_특징'\n",
        "- 'listing_url' : '숙소 url'\n",
        "- 'host_id' : '호스트 id'\n",
        "- 'host_is_superhost' : '슈퍼호스트 여부'\n",
        "- 'latitude' : '위도'\n",
        "- 'longitude' : '경도'\n",
        "- 'host_total_listings_count' : '등록한 총 숙소 수'\n",
        "- 'neighbourhood_cleansed' : '클린된 숙소 구'\n",
        "- 'room_type' : '룸 유형'\n",
        "- 'accommodates' : '수용 인원수'\n",
        "- 'bathrooms' : '욕실수'\n",
        "- 'bedrooms' : '침실수'\n",
        "- 'beds' : '침대수'\n",
        "- 'amenities' : '어메니티'\n",
        "- 'price' : '숙소 가격'\n",
        "- 'minimum_nights' : '최소 숙박일'\n",
        "- 'maximum_nights' : '최대 숙박일'\n",
        "- 'number_of_reviews' : '총 리뷰수'\n",
        "- 'number_of_reviews_l30d' : '한달치 리뷰수'\n",
        "- 'review_scores_rating' : '리뷰 총점수'\n",
        "- 'review_scores_accuracy' : '리뷰점수(숙소정보 정확성 )'\n",
        "- 'review_scores_cleanliness' : '리뷰점수(청결함)'\n",
        "- 'review_scores_checkin' : '리뷰점수(체크인과정)'\n",
        "- 'review_scores_communication' : '리뷰점수(호스트와 소통)'\n",
        "- 'review_scores_location' : '리뷰점수(숙소위치)'\n",
        "- 'review_scores_value' : '리뷰점수(숙소가격)'\n",
        "- 'reviews_per_month' : '월별 평균 리뷰수'"
      ]
    },
    {
      "cell_type": "code",
      "execution_count": 6,
      "metadata": {
        "id": "BJJ3zc4ASojf"
      },
      "outputs": [],
      "source": [
        "#컬럼명 변경\n",
        "df = df.rename(columns={\n",
        "    'id' : '숙소_id',\n",
        "    'listing_url' : '숙소_url',\n",
        "    'property_type' : '숙소_특징',\n",
        "    'host_id' : '호스트_id',\n",
        "    'host_is_superhost' : '슈퍼호스트',\n",
        "    'host_total_listings_count' : '숙소_수',\n",
        "    'neighbourhood_cleansed' : '숙소_지역',\n",
        "    'latitude' : '위도',\n",
        "    'longitude' : '경도',\n",
        "    'room_type' : '숙소_유형',\n",
        "    'accommodates' : '수용인원수',\n",
        "    'bathrooms' : '욕실수',\n",
        "    'bedrooms' : '침실수',\n",
        "    'beds' : '침대수',\n",
        "    'amenities' : '어메니티',\n",
        "    'price' : '숙소_가격',\n",
        "    'minimum_nights' : '최소_숙박일',\n",
        "    'maximum_nights' : '최대_숙박일',\n",
        "    'minimum_maximum_nights' : '적은_최대_숙박일',\n",
        "    'maximum_maximum_nights' : '많은_최대_숙박일',\n",
        "    'has_availability' : '숙소_예약가능_여부',\n",
        "    'number_of_reviews' : '리뷰수',\n",
        "    'number_of_reviews_l30d' : '30일_리뷰수',\n",
        "    'review_scores_rating' : '리뷰점수',\n",
        "    'review_scores_accuracy' : '숙소_정확성_리뷰점수',\n",
        "    'review_scores_cleanliness' : '숙소_청결도_리뷰점수',\n",
        "    'review_scores_checkin' : '숙소_체크인_리뷰점수',\n",
        "    'review_scores_communication' : '숙소_소통_리뷰점수',\n",
        "    'review_scores_location' : '숙소_위치_리뷰점수',\n",
        "    'review_scores_value' : '숙소_가격_리뷰점수',\n",
        "    'reviews_per_month' : '평균_리뷰수'\n",
        "})"
      ]
    },
    {
      "cell_type": "markdown",
      "metadata": {
        "id": "YvoFMj0cTFmw"
      },
      "source": [
        "<h3>주제별 컬럼 분류<h3><br>\n",
        "\n",
        "숙소/숙박 컬럼 (25개) df_lodging - 리뷰 컬럼(10개) df_review"
      ]
    },
    {
      "cell_type": "code",
      "execution_count": 7,
      "metadata": {
        "colab": {
          "base_uri": "https://localhost:8080/",
          "height": 354
        },
        "id": "go2j-sWOSohR",
        "outputId": "db95e286-a8f8-40ac-efe5-bc1a4ae43702"
      },
      "outputs": [
        {
          "data": {
            "text/html": [
              "<div>\n",
              "<style scoped>\n",
              "    .dataframe tbody tr th:only-of-type {\n",
              "        vertical-align: middle;\n",
              "    }\n",
              "\n",
              "    .dataframe tbody tr th {\n",
              "        vertical-align: top;\n",
              "    }\n",
              "\n",
              "    .dataframe thead th {\n",
              "        text-align: right;\n",
              "    }\n",
              "</style>\n",
              "<table border=\"1\" class=\"dataframe\">\n",
              "  <thead>\n",
              "    <tr style=\"text-align: right;\">\n",
              "      <th></th>\n",
              "      <th>id</th>\n",
              "      <th>listing_url</th>\n",
              "      <th>host_id</th>\n",
              "      <th>host_is_superhost</th>\n",
              "      <th>property_type</th>\n",
              "      <th>host_total_listings_count</th>\n",
              "      <th>neighbourhood_cleansed</th>\n",
              "      <th>room_type</th>\n",
              "      <th>accommodates</th>\n",
              "      <th>bathrooms</th>\n",
              "      <th>bedrooms</th>\n",
              "      <th>beds</th>\n",
              "      <th>amenities</th>\n",
              "      <th>price</th>\n",
              "      <th>minimum_nights</th>\n",
              "      <th>maximum_nights</th>\n",
              "    </tr>\n",
              "  </thead>\n",
              "  <tbody>\n",
              "    <tr>\n",
              "      <th>0</th>\n",
              "      <td>312761</td>\n",
              "      <td>https://www.airbnb.com/rooms/312761</td>\n",
              "      <td>1608226</td>\n",
              "      <td>t</td>\n",
              "      <td>Entire rental unit</td>\n",
              "      <td>3.0</td>\n",
              "      <td>Hackney</td>\n",
              "      <td>Entire home/apt</td>\n",
              "      <td>2</td>\n",
              "      <td>1.0</td>\n",
              "      <td>1.0</td>\n",
              "      <td>1.0</td>\n",
              "      <td>[\"Toaster\", \"Room-darkening shades\", \"Coffee m...</td>\n",
              "      <td>$160.00</td>\n",
              "      <td>9</td>\n",
              "      <td>180</td>\n",
              "    </tr>\n",
              "    <tr>\n",
              "      <th>1</th>\n",
              "      <td>13913</td>\n",
              "      <td>https://www.airbnb.com/rooms/13913</td>\n",
              "      <td>54730</td>\n",
              "      <td>t</td>\n",
              "      <td>Private room in rental unit</td>\n",
              "      <td>5.0</td>\n",
              "      <td>Islington</td>\n",
              "      <td>Private room</td>\n",
              "      <td>1</td>\n",
              "      <td>1.0</td>\n",
              "      <td>1.0</td>\n",
              "      <td>1.0</td>\n",
              "      <td>[\"Toaster\", \"Room-darkening shades\", \"Shampoo\"...</td>\n",
              "      <td>$65.00</td>\n",
              "      <td>1</td>\n",
              "      <td>29</td>\n",
              "    </tr>\n",
              "    <tr>\n",
              "      <th>2</th>\n",
              "      <td>15400</td>\n",
              "      <td>https://www.airbnb.com/rooms/15400</td>\n",
              "      <td>60302</td>\n",
              "      <td>f</td>\n",
              "      <td>Entire rental unit</td>\n",
              "      <td>1.0</td>\n",
              "      <td>Kensington and Chelsea</td>\n",
              "      <td>Entire home/apt</td>\n",
              "      <td>2</td>\n",
              "      <td>1.0</td>\n",
              "      <td>1.0</td>\n",
              "      <td>1.0</td>\n",
              "      <td>[\"Shampoo\", \"Wifi\", \"Fire extinguisher\", \"Lugg...</td>\n",
              "      <td>$120.00</td>\n",
              "      <td>4</td>\n",
              "      <td>30</td>\n",
              "    </tr>\n",
              "  </tbody>\n",
              "</table>\n",
              "</div>"
            ],
            "text/plain": [
              "       id                          listing_url  host_id host_is_superhost  \\\n",
              "0  312761  https://www.airbnb.com/rooms/312761  1608226                 t   \n",
              "1   13913   https://www.airbnb.com/rooms/13913    54730                 t   \n",
              "2   15400   https://www.airbnb.com/rooms/15400    60302                 f   \n",
              "\n",
              "                 property_type  host_total_listings_count  \\\n",
              "0           Entire rental unit                        3.0   \n",
              "1  Private room in rental unit                        5.0   \n",
              "2           Entire rental unit                        1.0   \n",
              "\n",
              "   neighbourhood_cleansed        room_type  accommodates  bathrooms  bedrooms  \\\n",
              "0                 Hackney  Entire home/apt             2        1.0       1.0   \n",
              "1               Islington     Private room             1        1.0       1.0   \n",
              "2  Kensington and Chelsea  Entire home/apt             2        1.0       1.0   \n",
              "\n",
              "   beds                                          amenities    price  \\\n",
              "0   1.0  [\"Toaster\", \"Room-darkening shades\", \"Coffee m...  $160.00   \n",
              "1   1.0  [\"Toaster\", \"Room-darkening shades\", \"Shampoo\"...   $65.00   \n",
              "2   1.0  [\"Shampoo\", \"Wifi\", \"Fire extinguisher\", \"Lugg...  $120.00   \n",
              "\n",
              "   minimum_nights  maximum_nights  \n",
              "0               9             180  \n",
              "1               1              29  \n",
              "2               4              30  "
            ]
          },
          "execution_count": 7,
          "metadata": {},
          "output_type": "execute_result"
        }
      ],
      "source": [
        "#숙소/숙박관련 컬럼\n",
        "\n",
        "df_lodging = dat[['id', 'listing_url','host_id','host_is_superhost','property_type',\n",
        "                  'host_total_listings_count','neighbourhood_cleansed','room_type','accommodates','bathrooms','bedrooms',\n",
        "                  'beds','amenities','price','minimum_nights','maximum_nights']]\n",
        "df_lodging.head(3)"
      ]
    },
    {
      "cell_type": "code",
      "execution_count": 8,
      "metadata": {
        "colab": {
          "base_uri": "https://localhost:8080/",
          "height": 213
        },
        "id": "qVrNJIP2R3V2",
        "outputId": "ccb4b066-b221-4296-d4bf-122cfbb79931"
      },
      "outputs": [
        {
          "data": {
            "text/html": [
              "<div>\n",
              "<style scoped>\n",
              "    .dataframe tbody tr th:only-of-type {\n",
              "        vertical-align: middle;\n",
              "    }\n",
              "\n",
              "    .dataframe tbody tr th {\n",
              "        vertical-align: top;\n",
              "    }\n",
              "\n",
              "    .dataframe thead th {\n",
              "        text-align: right;\n",
              "    }\n",
              "</style>\n",
              "<table border=\"1\" class=\"dataframe\">\n",
              "  <thead>\n",
              "    <tr style=\"text-align: right;\">\n",
              "      <th></th>\n",
              "      <th>숙소_id</th>\n",
              "      <th>숙소_url</th>\n",
              "      <th>호스트_id</th>\n",
              "      <th>슈퍼호스트</th>\n",
              "      <th>숙소_특징</th>\n",
              "      <th>숙소_수</th>\n",
              "      <th>숙소_지역</th>\n",
              "      <th>숙소_유형</th>\n",
              "      <th>수용인원수</th>\n",
              "      <th>욕실수</th>\n",
              "      <th>침실수</th>\n",
              "      <th>침대수</th>\n",
              "      <th>편의시설</th>\n",
              "      <th>숙소_가격</th>\n",
              "      <th>최소_숙박일</th>\n",
              "      <th>최대_숙박일</th>\n",
              "    </tr>\n",
              "  </thead>\n",
              "  <tbody>\n",
              "    <tr>\n",
              "      <th>0</th>\n",
              "      <td>312761</td>\n",
              "      <td>https://www.airbnb.com/rooms/312761</td>\n",
              "      <td>1608226</td>\n",
              "      <td>t</td>\n",
              "      <td>Entire rental unit</td>\n",
              "      <td>3.0</td>\n",
              "      <td>Hackney</td>\n",
              "      <td>Entire home/apt</td>\n",
              "      <td>2</td>\n",
              "      <td>1.0</td>\n",
              "      <td>1.0</td>\n",
              "      <td>1.0</td>\n",
              "      <td>[\"Toaster\", \"Room-darkening shades\", \"Coffee m...</td>\n",
              "      <td>$160.00</td>\n",
              "      <td>9</td>\n",
              "      <td>180</td>\n",
              "    </tr>\n",
              "    <tr>\n",
              "      <th>1</th>\n",
              "      <td>13913</td>\n",
              "      <td>https://www.airbnb.com/rooms/13913</td>\n",
              "      <td>54730</td>\n",
              "      <td>t</td>\n",
              "      <td>Private room in rental unit</td>\n",
              "      <td>5.0</td>\n",
              "      <td>Islington</td>\n",
              "      <td>Private room</td>\n",
              "      <td>1</td>\n",
              "      <td>1.0</td>\n",
              "      <td>1.0</td>\n",
              "      <td>1.0</td>\n",
              "      <td>[\"Toaster\", \"Room-darkening shades\", \"Shampoo\"...</td>\n",
              "      <td>$65.00</td>\n",
              "      <td>1</td>\n",
              "      <td>29</td>\n",
              "    </tr>\n",
              "    <tr>\n",
              "      <th>2</th>\n",
              "      <td>15400</td>\n",
              "      <td>https://www.airbnb.com/rooms/15400</td>\n",
              "      <td>60302</td>\n",
              "      <td>f</td>\n",
              "      <td>Entire rental unit</td>\n",
              "      <td>1.0</td>\n",
              "      <td>Kensington and Chelsea</td>\n",
              "      <td>Entire home/apt</td>\n",
              "      <td>2</td>\n",
              "      <td>1.0</td>\n",
              "      <td>1.0</td>\n",
              "      <td>1.0</td>\n",
              "      <td>[\"Shampoo\", \"Wifi\", \"Fire extinguisher\", \"Lugg...</td>\n",
              "      <td>$120.00</td>\n",
              "      <td>4</td>\n",
              "      <td>30</td>\n",
              "    </tr>\n",
              "  </tbody>\n",
              "</table>\n",
              "</div>"
            ],
            "text/plain": [
              "    숙소_id                               숙소_url   호스트_id 슈퍼호스트  \\\n",
              "0  312761  https://www.airbnb.com/rooms/312761  1608226     t   \n",
              "1   13913   https://www.airbnb.com/rooms/13913    54730     t   \n",
              "2   15400   https://www.airbnb.com/rooms/15400    60302     f   \n",
              "\n",
              "                         숙소_특징  숙소_수                   숙소_지역            숙소_유형  \\\n",
              "0           Entire rental unit   3.0                 Hackney  Entire home/apt   \n",
              "1  Private room in rental unit   5.0               Islington     Private room   \n",
              "2           Entire rental unit   1.0  Kensington and Chelsea  Entire home/apt   \n",
              "\n",
              "   수용인원수  욕실수  침실수  침대수                                               편의시설  \\\n",
              "0      2  1.0  1.0  1.0  [\"Toaster\", \"Room-darkening shades\", \"Coffee m...   \n",
              "1      1  1.0  1.0  1.0  [\"Toaster\", \"Room-darkening shades\", \"Shampoo\"...   \n",
              "2      2  1.0  1.0  1.0  [\"Shampoo\", \"Wifi\", \"Fire extinguisher\", \"Lugg...   \n",
              "\n",
              "     숙소_가격  최소_숙박일  최대_숙박일  \n",
              "0  $160.00       9     180  \n",
              "1   $65.00       1      29  \n",
              "2  $120.00       4      30  "
            ]
          },
          "execution_count": 8,
          "metadata": {},
          "output_type": "execute_result"
        }
      ],
      "source": [
        "# 컬럼명 변경\n",
        "\n",
        "df_lodging = df_lodging.rename(columns={\n",
        "    'id': '숙소_id',\n",
        "    'host_id': '호스트_id',\n",
        "    'property_type' : '숙소_특징',\n",
        "    'listing_url' : '숙소_url',\n",
        "    'host_is_superhost': '슈퍼호스트',\n",
        "    'host_total_listings_count': '숙소_수',\n",
        "    'neighbourhood_cleansed': '숙소_지역',\n",
        "    'room_type': '숙소_유형',\n",
        "    'accommodates': '수용인원수',\n",
        "    'bathrooms': '욕실수',\n",
        "    'bedrooms': '침실수',\n",
        "    'beds': '침대수',\n",
        "    'amenities': '편의시설',\n",
        "    'price': '숙소_가격',\n",
        "    'minimum_nights': '최소_숙박일',\n",
        "    'maximum_nights': '최대_숙박일'\n",
        "})\n",
        "\n",
        "df_lodging.head(3)"
      ]
    },
    {
      "cell_type": "code",
      "execution_count": 9,
      "metadata": {
        "colab": {
          "base_uri": "https://localhost:8080/",
          "height": 163
        },
        "id": "1MQGqEITR3T-",
        "outputId": "80f28b68-b4b3-4010-e933-fa61f10bd269"
      },
      "outputs": [
        {
          "data": {
            "text/html": [
              "<div>\n",
              "<style scoped>\n",
              "    .dataframe tbody tr th:only-of-type {\n",
              "        vertical-align: middle;\n",
              "    }\n",
              "\n",
              "    .dataframe tbody tr th {\n",
              "        vertical-align: top;\n",
              "    }\n",
              "\n",
              "    .dataframe thead th {\n",
              "        text-align: right;\n",
              "    }\n",
              "</style>\n",
              "<table border=\"1\" class=\"dataframe\">\n",
              "  <thead>\n",
              "    <tr style=\"text-align: right;\">\n",
              "      <th></th>\n",
              "      <th>listing_url</th>\n",
              "      <th>number_of_reviews</th>\n",
              "      <th>number_of_reviews_l30d</th>\n",
              "      <th>review_scores_rating</th>\n",
              "      <th>review_scores_accuracy</th>\n",
              "      <th>review_scores_cleanliness</th>\n",
              "      <th>review_scores_checkin</th>\n",
              "      <th>review_scores_communication</th>\n",
              "      <th>review_scores_location</th>\n",
              "      <th>review_scores_value</th>\n",
              "      <th>reviews_per_month</th>\n",
              "    </tr>\n",
              "  </thead>\n",
              "  <tbody>\n",
              "    <tr>\n",
              "      <th>0</th>\n",
              "      <td>https://www.airbnb.com/rooms/312761</td>\n",
              "      <td>122</td>\n",
              "      <td>0</td>\n",
              "      <td>4.96</td>\n",
              "      <td>4.97</td>\n",
              "      <td>4.93</td>\n",
              "      <td>4.96</td>\n",
              "      <td>5.00</td>\n",
              "      <td>4.89</td>\n",
              "      <td>4.93</td>\n",
              "      <td>0.86</td>\n",
              "    </tr>\n",
              "    <tr>\n",
              "      <th>1</th>\n",
              "      <td>https://www.airbnb.com/rooms/13913</td>\n",
              "      <td>41</td>\n",
              "      <td>0</td>\n",
              "      <td>4.80</td>\n",
              "      <td>4.73</td>\n",
              "      <td>4.73</td>\n",
              "      <td>4.75</td>\n",
              "      <td>4.83</td>\n",
              "      <td>4.70</td>\n",
              "      <td>4.70</td>\n",
              "      <td>0.25</td>\n",
              "    </tr>\n",
              "    <tr>\n",
              "      <th>2</th>\n",
              "      <td>https://www.airbnb.com/rooms/15400</td>\n",
              "      <td>94</td>\n",
              "      <td>0</td>\n",
              "      <td>4.80</td>\n",
              "      <td>4.85</td>\n",
              "      <td>4.88</td>\n",
              "      <td>4.88</td>\n",
              "      <td>4.83</td>\n",
              "      <td>4.93</td>\n",
              "      <td>4.74</td>\n",
              "      <td>0.54</td>\n",
              "    </tr>\n",
              "  </tbody>\n",
              "</table>\n",
              "</div>"
            ],
            "text/plain": [
              "                           listing_url  number_of_reviews  \\\n",
              "0  https://www.airbnb.com/rooms/312761                122   \n",
              "1   https://www.airbnb.com/rooms/13913                 41   \n",
              "2   https://www.airbnb.com/rooms/15400                 94   \n",
              "\n",
              "   number_of_reviews_l30d  review_scores_rating  review_scores_accuracy  \\\n",
              "0                       0                  4.96                    4.97   \n",
              "1                       0                  4.80                    4.73   \n",
              "2                       0                  4.80                    4.85   \n",
              "\n",
              "   review_scores_cleanliness  review_scores_checkin  \\\n",
              "0                       4.93                   4.96   \n",
              "1                       4.73                   4.75   \n",
              "2                       4.88                   4.88   \n",
              "\n",
              "   review_scores_communication  review_scores_location  review_scores_value  \\\n",
              "0                         5.00                    4.89                 4.93   \n",
              "1                         4.83                    4.70                 4.70   \n",
              "2                         4.83                    4.93                 4.74   \n",
              "\n",
              "   reviews_per_month  \n",
              "0               0.86  \n",
              "1               0.25  \n",
              "2               0.54  "
            ]
          },
          "execution_count": 9,
          "metadata": {},
          "output_type": "execute_result"
        }
      ],
      "source": [
        "#리뷰관련데이터\n",
        "df_review = dat[['listing_url','number_of_reviews', 'number_of_reviews_l30d', 'review_scores_rating', 'review_scores_accuracy',\n",
        "                'review_scores_cleanliness', 'review_scores_checkin', 'review_scores_communication',\n",
        "                'review_scores_location', 'review_scores_value', 'reviews_per_month']]\n",
        "df_review.head(3)"
      ]
    },
    {
      "cell_type": "code",
      "execution_count": 10,
      "metadata": {
        "colab": {
          "base_uri": "https://localhost:8080/",
          "height": 206
        },
        "id": "95HJigPeR3Ru",
        "outputId": "0b818fa0-1b84-471c-c9fc-48718dc2c5ca"
      },
      "outputs": [
        {
          "data": {
            "text/html": [
              "<div>\n",
              "<style scoped>\n",
              "    .dataframe tbody tr th:only-of-type {\n",
              "        vertical-align: middle;\n",
              "    }\n",
              "\n",
              "    .dataframe tbody tr th {\n",
              "        vertical-align: top;\n",
              "    }\n",
              "\n",
              "    .dataframe thead th {\n",
              "        text-align: right;\n",
              "    }\n",
              "</style>\n",
              "<table border=\"1\" class=\"dataframe\">\n",
              "  <thead>\n",
              "    <tr style=\"text-align: right;\">\n",
              "      <th></th>\n",
              "      <th>숙소_url</th>\n",
              "      <th>리뷰수</th>\n",
              "      <th>30일_리뷰수</th>\n",
              "      <th>리뷰점수</th>\n",
              "      <th>숙소_정확성_리뷰점수</th>\n",
              "      <th>숙소_청결도_리뷰점수</th>\n",
              "      <th>숙소_체크인_리뷰점수</th>\n",
              "      <th>숙소_소통_리뷰점수</th>\n",
              "      <th>숙소_위치_리뷰점수</th>\n",
              "      <th>숙소_가격_리뷰점수</th>\n",
              "      <th>평균_리뷰수</th>\n",
              "    </tr>\n",
              "  </thead>\n",
              "  <tbody>\n",
              "    <tr>\n",
              "      <th>0</th>\n",
              "      <td>https://www.airbnb.com/rooms/312761</td>\n",
              "      <td>122</td>\n",
              "      <td>0</td>\n",
              "      <td>4.96</td>\n",
              "      <td>4.97</td>\n",
              "      <td>4.93</td>\n",
              "      <td>4.96</td>\n",
              "      <td>5.00</td>\n",
              "      <td>4.89</td>\n",
              "      <td>4.93</td>\n",
              "      <td>0.86</td>\n",
              "    </tr>\n",
              "    <tr>\n",
              "      <th>1</th>\n",
              "      <td>https://www.airbnb.com/rooms/13913</td>\n",
              "      <td>41</td>\n",
              "      <td>0</td>\n",
              "      <td>4.80</td>\n",
              "      <td>4.73</td>\n",
              "      <td>4.73</td>\n",
              "      <td>4.75</td>\n",
              "      <td>4.83</td>\n",
              "      <td>4.70</td>\n",
              "      <td>4.70</td>\n",
              "      <td>0.25</td>\n",
              "    </tr>\n",
              "    <tr>\n",
              "      <th>2</th>\n",
              "      <td>https://www.airbnb.com/rooms/15400</td>\n",
              "      <td>94</td>\n",
              "      <td>0</td>\n",
              "      <td>4.80</td>\n",
              "      <td>4.85</td>\n",
              "      <td>4.88</td>\n",
              "      <td>4.88</td>\n",
              "      <td>4.83</td>\n",
              "      <td>4.93</td>\n",
              "      <td>4.74</td>\n",
              "      <td>0.54</td>\n",
              "    </tr>\n",
              "    <tr>\n",
              "      <th>3</th>\n",
              "      <td>https://www.airbnb.com/rooms/159736</td>\n",
              "      <td>96</td>\n",
              "      <td>0</td>\n",
              "      <td>4.72</td>\n",
              "      <td>4.79</td>\n",
              "      <td>4.66</td>\n",
              "      <td>4.75</td>\n",
              "      <td>4.89</td>\n",
              "      <td>4.34</td>\n",
              "      <td>4.66</td>\n",
              "      <td>0.62</td>\n",
              "    </tr>\n",
              "    <tr>\n",
              "      <th>4</th>\n",
              "      <td>https://www.airbnb.com/rooms/165336</td>\n",
              "      <td>237</td>\n",
              "      <td>2</td>\n",
              "      <td>4.74</td>\n",
              "      <td>4.88</td>\n",
              "      <td>4.79</td>\n",
              "      <td>4.94</td>\n",
              "      <td>4.96</td>\n",
              "      <td>4.87</td>\n",
              "      <td>4.71</td>\n",
              "      <td>1.57</td>\n",
              "    </tr>\n",
              "  </tbody>\n",
              "</table>\n",
              "</div>"
            ],
            "text/plain": [
              "                                숙소_url  리뷰수  30일_리뷰수  리뷰점수  숙소_정확성_리뷰점수  \\\n",
              "0  https://www.airbnb.com/rooms/312761  122        0  4.96         4.97   \n",
              "1   https://www.airbnb.com/rooms/13913   41        0  4.80         4.73   \n",
              "2   https://www.airbnb.com/rooms/15400   94        0  4.80         4.85   \n",
              "3  https://www.airbnb.com/rooms/159736   96        0  4.72         4.79   \n",
              "4  https://www.airbnb.com/rooms/165336  237        2  4.74         4.88   \n",
              "\n",
              "   숙소_청결도_리뷰점수  숙소_체크인_리뷰점수  숙소_소통_리뷰점수  숙소_위치_리뷰점수  숙소_가격_리뷰점수  평균_리뷰수  \n",
              "0         4.93         4.96        5.00        4.89        4.93    0.86  \n",
              "1         4.73         4.75        4.83        4.70        4.70    0.25  \n",
              "2         4.88         4.88        4.83        4.93        4.74    0.54  \n",
              "3         4.66         4.75        4.89        4.34        4.66    0.62  \n",
              "4         4.79         4.94        4.96        4.87        4.71    1.57  "
            ]
          },
          "execution_count": 10,
          "metadata": {},
          "output_type": "execute_result"
        }
      ],
      "source": [
        "# 컬럼명 변경\n",
        "df_review = df_review.rename(columns={\n",
        "    'listing_url' : '숙소_url',\n",
        "    'number_of_reviews': '리뷰수',\n",
        "    'number_of_reviews_l30d': '30일_리뷰수',\n",
        "    'review_scores_rating': '리뷰점수',\n",
        "    'review_scores_accuracy': '숙소_정확성_리뷰점수',\n",
        "    'review_scores_cleanliness': '숙소_청결도_리뷰점수',\n",
        "    'review_scores_checkin': '숙소_체크인_리뷰점수',\n",
        "    'review_scores_communication': '숙소_소통_리뷰점수',\n",
        "    'review_scores_location': '숙소_위치_리뷰점수',\n",
        "    'review_scores_value': '숙소_가격_리뷰점수',\n",
        "    'reviews_per_month': '평균_리뷰수'\n",
        "})\n",
        "df_review.head()"
      ]
    },
    {
      "cell_type": "code",
      "execution_count": 11,
      "metadata": {
        "colab": {
          "base_uri": "https://localhost:8080/"
        },
        "id": "rZBw1wbIR3P3",
        "outputId": "27138c36-4072-4560-d21e-ef1e3c47f553"
      },
      "outputs": [
        {
          "data": {
            "text/plain": [
              "(90852, 16)"
            ]
          },
          "execution_count": 11,
          "metadata": {},
          "output_type": "execute_result"
        }
      ],
      "source": [
        "df_lodging.shape"
      ]
    },
    {
      "cell_type": "code",
      "execution_count": 12,
      "metadata": {
        "colab": {
          "base_uri": "https://localhost:8080/"
        },
        "id": "p2mCOK8LR3OB",
        "outputId": "d174a248-411b-4a51-91aa-4dbb730cc907"
      },
      "outputs": [
        {
          "data": {
            "text/plain": [
              "(90852, 11)"
            ]
          },
          "execution_count": 12,
          "metadata": {},
          "output_type": "execute_result"
        }
      ],
      "source": [
        "df_review.shape\n"
      ]
    },
    {
      "cell_type": "code",
      "execution_count": 13,
      "metadata": {
        "colab": {
          "base_uri": "https://localhost:8080/"
        },
        "id": "eF_7Q7_xR3L-",
        "outputId": "895f35d9-ef4f-4c4e-cb98-0458614427ac"
      },
      "outputs": [
        {
          "data": {
            "text/plain": [
              "(90852, 28)"
            ]
          },
          "execution_count": 13,
          "metadata": {},
          "output_type": "execute_result"
        }
      ],
      "source": [
        "df.shape"
      ]
    },
    {
      "cell_type": "code",
      "execution_count": 14,
      "metadata": {
        "colab": {
          "base_uri": "https://localhost:8080/"
        },
        "id": "oA9R_q1XR3J3",
        "outputId": "f66bd8f7-62df-40a6-82e8-b25735464ba1"
      },
      "outputs": [
        {
          "data": {
            "text/plain": [
              "숙소_id            int64\n",
              "숙소_url          object\n",
              "호스트_id           int64\n",
              "숙소_특징           object\n",
              "슈퍼호스트           object\n",
              "숙소_수           float64\n",
              "숙소_지역           object\n",
              "위도             float64\n",
              "경도             float64\n",
              "숙소_유형           object\n",
              "수용인원수            int64\n",
              "욕실수            float64\n",
              "침실수            float64\n",
              "침대수            float64\n",
              "어메니티            object\n",
              "숙소_가격           object\n",
              "최소_숙박일           int64\n",
              "최대_숙박일           int64\n",
              "리뷰수              int64\n",
              "30일_리뷰수          int64\n",
              "리뷰점수           float64\n",
              "숙소_정확성_리뷰점수    float64\n",
              "숙소_청결도_리뷰점수    float64\n",
              "숙소_체크인_리뷰점수    float64\n",
              "숙소_소통_리뷰점수     float64\n",
              "숙소_위치_리뷰점수     float64\n",
              "숙소_가격_리뷰점수     float64\n",
              "평균_리뷰수         float64\n",
              "dtype: object"
            ]
          },
          "execution_count": 14,
          "metadata": {},
          "output_type": "execute_result"
        }
      ],
      "source": [
        "df.dtypes\n"
      ]
    },
    {
      "cell_type": "code",
      "execution_count": 15,
      "metadata": {
        "colab": {
          "base_uri": "https://localhost:8080/"
        },
        "id": "E4nkYcN1T__I",
        "outputId": "43db289a-fdc5-408c-bece-84011432e671"
      },
      "outputs": [
        {
          "name": "stdout",
          "output_type": "stream",
          "text": [
            "<class 'pandas.core.frame.DataFrame'>\n",
            "RangeIndex: 90852 entries, 0 to 90851\n",
            "Data columns (total 28 columns):\n",
            " #   Column       Non-Null Count  Dtype  \n",
            "---  ------       --------------  -----  \n",
            " 0   숙소_id        90852 non-null  int64  \n",
            " 1   숙소_url       90852 non-null  object \n",
            " 2   호스트_id       90852 non-null  int64  \n",
            " 3   숙소_특징        90852 non-null  object \n",
            " 4   슈퍼호스트        90463 non-null  object \n",
            " 5   숙소_수         90847 non-null  float64\n",
            " 6   숙소_지역        90852 non-null  object \n",
            " 7   위도           90852 non-null  float64\n",
            " 8   경도           90852 non-null  float64\n",
            " 9   숙소_유형        90852 non-null  object \n",
            " 10  수용인원수        90852 non-null  int64  \n",
            " 11  욕실수          57894 non-null  float64\n",
            " 12  침실수          78118 non-null  float64\n",
            " 13  침대수          57837 non-null  float64\n",
            " 14  어메니티         90852 non-null  object \n",
            " 15  숙소_가격        57885 non-null  object \n",
            " 16  최소_숙박일       90852 non-null  int64  \n",
            " 17  최대_숙박일       90852 non-null  int64  \n",
            " 18  리뷰수          90852 non-null  int64  \n",
            " 19  30일_리뷰수      90852 non-null  int64  \n",
            " 20  리뷰점수         65869 non-null  float64\n",
            " 21  숙소_정확성_리뷰점수  65838 non-null  float64\n",
            " 22  숙소_청결도_리뷰점수  65843 non-null  float64\n",
            " 23  숙소_체크인_리뷰점수  65808 non-null  float64\n",
            " 24  숙소_소통_리뷰점수   65833 non-null  float64\n",
            " 25  숙소_위치_리뷰점수   65808 non-null  float64\n",
            " 26  숙소_가격_리뷰점수   65806 non-null  float64\n",
            " 27  평균_리뷰수       65869 non-null  float64\n",
            "dtypes: float64(14), int64(7), object(7)\n",
            "memory usage: 19.4+ MB\n"
          ]
        }
      ],
      "source": [
        "df.info()\n"
      ]
    },
    {
      "cell_type": "markdown",
      "metadata": {
        "id": "K7mcC167UFWA"
      },
      "source": [
        "<h3>결측치 개수</h3><br>\n",
        "\n",
        "- 슈퍼호스트 389개\n",
        "- 문의_응답률 33,055개\n",
        "- 숙소_수 5개\n",
        "- 욕실수 32,958개\n",
        "- 침실수 12,734개\n",
        "- 침대수 33,015개\n",
        "- 숙소_가격 32,967개\n",
        "- 리뷰점수 24,983개\n",
        "- 숙소_정확성_리뷰점수 25014개\n",
        "- 숙소_청결도_리뷰점수 25009개\n",
        "- 숙소_체크인_리뷰점수 25044개\n",
        "- 숙소_소통_리뷰점수 25019개\n",
        "- 숙소_위치_리뷰점수 25044개\n",
        "- 숙소_가격_리뷰점수 25046개\n",
        "- 평균_리뷰수 24983개\n",
        "\n",
        "- -----------------------------------------\n",
        "\n",
        "- 숙소_상세설명 3,001개\n",
        "- 프로필사진_소지_여부 5개\n",
        "- 신원_검증_여부 5개\n",
        "- 숙소_예약가능_여부 4079개"
      ]
    },
    {
      "cell_type": "markdown",
      "metadata": {
        "id": "iQXuKwjJUPQj"
      },
      "source": [
        "결측치 제거 확정 <br>\n",
        "- 슈퍼호스트 null값 (389개) 5%이하\n",
        "- 리뷰수 = 0인 값 --> 리뷰수가 없으면 리뷰점수도 없다\n",
        "- 숙소수 null값 (5개)\n",
        "- 리뷰분야 6개 전부 nan값인 컬럼"
      ]
    },
    {
      "cell_type": "markdown",
      "metadata": {
        "id": "C0lGPs-4URGT"
      },
      "source": [
        "<h3>슈퍼호스트 결측치 처리</h3>\n",
        "\n",
        "- 슈퍼호스트가 null값인 데이터 삭제 389개임(5%이하 해당)\n",
        "\n"
      ]
    },
    {
      "cell_type": "code",
      "execution_count": 16,
      "metadata": {
        "colab": {
          "base_uri": "https://localhost:8080/"
        },
        "id": "0F09DdzGT_7E",
        "outputId": "f81a6e4f-8814-40ad-898d-fbe5f3b757f9"
      },
      "outputs": [
        {
          "data": {
            "text/plain": [
              "389"
            ]
          },
          "execution_count": 16,
          "metadata": {},
          "output_type": "execute_result"
        }
      ],
      "source": [
        "df['슈퍼호스트'].isna().sum()\n"
      ]
    },
    {
      "cell_type": "code",
      "execution_count": 17,
      "metadata": {
        "id": "dh4Kj0tuUUmk"
      },
      "outputs": [],
      "source": [
        "df = df.dropna(subset=['슈퍼호스트'])"
      ]
    },
    {
      "cell_type": "code",
      "execution_count": 18,
      "metadata": {
        "colab": {
          "base_uri": "https://localhost:8080/"
        },
        "id": "FsUkl9jpUUjw",
        "outputId": "98206010-2c64-4ff7-d01d-18e49e684f52"
      },
      "outputs": [
        {
          "data": {
            "text/plain": [
              "(90463, 28)"
            ]
          },
          "execution_count": 18,
          "metadata": {},
          "output_type": "execute_result"
        }
      ],
      "source": [
        "df.shape"
      ]
    },
    {
      "cell_type": "markdown",
      "metadata": {
        "id": "cqZaSatGUYo2"
      },
      "source": [
        "<h3>숙소수 결측치 처리</h3>\n",
        "\n",
        "- 숙소수가 null값인 데이터 삭제 5개임(5%이하 해당)"
      ]
    },
    {
      "cell_type": "code",
      "execution_count": 19,
      "metadata": {
        "id": "Kj7wodbsUUgc"
      },
      "outputs": [],
      "source": [
        "df = df.dropna(subset=['숙소_수'])\n"
      ]
    },
    {
      "cell_type": "code",
      "execution_count": 20,
      "metadata": {
        "colab": {
          "base_uri": "https://localhost:8080/"
        },
        "id": "IvD5ORCkUUdY",
        "outputId": "6f2134fb-4624-48af-a4ae-e4c19bcb2400"
      },
      "outputs": [
        {
          "data": {
            "text/plain": [
              "(90458, 28)"
            ]
          },
          "execution_count": 20,
          "metadata": {},
          "output_type": "execute_result"
        }
      ],
      "source": [
        "df.shape"
      ]
    },
    {
      "cell_type": "markdown",
      "metadata": {
        "id": "OeIEEgplUeGY"
      },
      "source": [
        "<h3>리뷰수 결측치 처리</h3>"
      ]
    },
    {
      "cell_type": "code",
      "execution_count": 21,
      "metadata": {
        "colab": {
          "base_uri": "https://localhost:8080/",
          "height": 667
        },
        "id": "JmP4fW6qUUbl",
        "outputId": "1fcebf1b-0f0e-4fcc-918b-1bb5a9ee6d41"
      },
      "outputs": [
        {
          "data": {
            "text/html": [
              "<div>\n",
              "<style scoped>\n",
              "    .dataframe tbody tr th:only-of-type {\n",
              "        vertical-align: middle;\n",
              "    }\n",
              "\n",
              "    .dataframe tbody tr th {\n",
              "        vertical-align: top;\n",
              "    }\n",
              "\n",
              "    .dataframe thead th {\n",
              "        text-align: right;\n",
              "    }\n",
              "</style>\n",
              "<table border=\"1\" class=\"dataframe\">\n",
              "  <thead>\n",
              "    <tr style=\"text-align: right;\">\n",
              "      <th></th>\n",
              "      <th>숙소_id</th>\n",
              "      <th>숙소_url</th>\n",
              "      <th>호스트_id</th>\n",
              "      <th>숙소_특징</th>\n",
              "      <th>슈퍼호스트</th>\n",
              "      <th>숙소_수</th>\n",
              "      <th>숙소_지역</th>\n",
              "      <th>위도</th>\n",
              "      <th>경도</th>\n",
              "      <th>숙소_유형</th>\n",
              "      <th>...</th>\n",
              "      <th>리뷰수</th>\n",
              "      <th>30일_리뷰수</th>\n",
              "      <th>리뷰점수</th>\n",
              "      <th>숙소_정확성_리뷰점수</th>\n",
              "      <th>숙소_청결도_리뷰점수</th>\n",
              "      <th>숙소_체크인_리뷰점수</th>\n",
              "      <th>숙소_소통_리뷰점수</th>\n",
              "      <th>숙소_위치_리뷰점수</th>\n",
              "      <th>숙소_가격_리뷰점수</th>\n",
              "      <th>평균_리뷰수</th>\n",
              "    </tr>\n",
              "  </thead>\n",
              "  <tbody>\n",
              "    <tr>\n",
              "      <th>9</th>\n",
              "      <td>170524</td>\n",
              "      <td>https://www.airbnb.com/rooms/170524</td>\n",
              "      <td>194769</td>\n",
              "      <td>Entire rental unit</td>\n",
              "      <td>f</td>\n",
              "      <td>9.0</td>\n",
              "      <td>Westminster</td>\n",
              "      <td>51.506120</td>\n",
              "      <td>-0.140290</td>\n",
              "      <td>Entire home/apt</td>\n",
              "      <td>...</td>\n",
              "      <td>0</td>\n",
              "      <td>0</td>\n",
              "      <td>NaN</td>\n",
              "      <td>NaN</td>\n",
              "      <td>NaN</td>\n",
              "      <td>NaN</td>\n",
              "      <td>NaN</td>\n",
              "      <td>NaN</td>\n",
              "      <td>NaN</td>\n",
              "      <td>NaN</td>\n",
              "    </tr>\n",
              "    <tr>\n",
              "      <th>35</th>\n",
              "      <td>318986</td>\n",
              "      <td>https://www.airbnb.com/rooms/318986</td>\n",
              "      <td>1637212</td>\n",
              "      <td>Entire rental unit</td>\n",
              "      <td>f</td>\n",
              "      <td>1.0</td>\n",
              "      <td>Kensington and Chelsea</td>\n",
              "      <td>51.491130</td>\n",
              "      <td>-0.194820</td>\n",
              "      <td>Entire home/apt</td>\n",
              "      <td>...</td>\n",
              "      <td>0</td>\n",
              "      <td>0</td>\n",
              "      <td>NaN</td>\n",
              "      <td>NaN</td>\n",
              "      <td>NaN</td>\n",
              "      <td>NaN</td>\n",
              "      <td>NaN</td>\n",
              "      <td>NaN</td>\n",
              "      <td>NaN</td>\n",
              "      <td>NaN</td>\n",
              "    </tr>\n",
              "    <tr>\n",
              "      <th>45</th>\n",
              "      <td>42692</td>\n",
              "      <td>https://www.airbnb.com/rooms/42692</td>\n",
              "      <td>186510</td>\n",
              "      <td>Private room in rental unit</td>\n",
              "      <td>f</td>\n",
              "      <td>1.0</td>\n",
              "      <td>Hammersmith and Fulham</td>\n",
              "      <td>51.508220</td>\n",
              "      <td>-0.215620</td>\n",
              "      <td>Private room</td>\n",
              "      <td>...</td>\n",
              "      <td>0</td>\n",
              "      <td>0</td>\n",
              "      <td>NaN</td>\n",
              "      <td>NaN</td>\n",
              "      <td>NaN</td>\n",
              "      <td>NaN</td>\n",
              "      <td>NaN</td>\n",
              "      <td>NaN</td>\n",
              "      <td>NaN</td>\n",
              "      <td>NaN</td>\n",
              "    </tr>\n",
              "    <tr>\n",
              "      <th>49</th>\n",
              "      <td>44384</td>\n",
              "      <td>https://www.airbnb.com/rooms/44384</td>\n",
              "      <td>194769</td>\n",
              "      <td>Private room in rental unit</td>\n",
              "      <td>f</td>\n",
              "      <td>9.0</td>\n",
              "      <td>Barnet</td>\n",
              "      <td>51.597900</td>\n",
              "      <td>-0.243270</td>\n",
              "      <td>Private room</td>\n",
              "      <td>...</td>\n",
              "      <td>0</td>\n",
              "      <td>0</td>\n",
              "      <td>NaN</td>\n",
              "      <td>NaN</td>\n",
              "      <td>NaN</td>\n",
              "      <td>NaN</td>\n",
              "      <td>NaN</td>\n",
              "      <td>NaN</td>\n",
              "      <td>NaN</td>\n",
              "      <td>NaN</td>\n",
              "    </tr>\n",
              "    <tr>\n",
              "      <th>56</th>\n",
              "      <td>324055</td>\n",
              "      <td>https://www.airbnb.com/rooms/324055</td>\n",
              "      <td>1664001</td>\n",
              "      <td>Private room in home</td>\n",
              "      <td>f</td>\n",
              "      <td>1.0</td>\n",
              "      <td>Newham</td>\n",
              "      <td>51.553110</td>\n",
              "      <td>0.022730</td>\n",
              "      <td>Private room</td>\n",
              "      <td>...</td>\n",
              "      <td>0</td>\n",
              "      <td>0</td>\n",
              "      <td>NaN</td>\n",
              "      <td>NaN</td>\n",
              "      <td>NaN</td>\n",
              "      <td>NaN</td>\n",
              "      <td>NaN</td>\n",
              "      <td>NaN</td>\n",
              "      <td>NaN</td>\n",
              "      <td>NaN</td>\n",
              "    </tr>\n",
              "    <tr>\n",
              "      <th>...</th>\n",
              "      <td>...</td>\n",
              "      <td>...</td>\n",
              "      <td>...</td>\n",
              "      <td>...</td>\n",
              "      <td>...</td>\n",
              "      <td>...</td>\n",
              "      <td>...</td>\n",
              "      <td>...</td>\n",
              "      <td>...</td>\n",
              "      <td>...</td>\n",
              "      <td>...</td>\n",
              "      <td>...</td>\n",
              "      <td>...</td>\n",
              "      <td>...</td>\n",
              "      <td>...</td>\n",
              "      <td>...</td>\n",
              "      <td>...</td>\n",
              "      <td>...</td>\n",
              "      <td>...</td>\n",
              "      <td>...</td>\n",
              "      <td>...</td>\n",
              "    </tr>\n",
              "    <tr>\n",
              "      <th>90847</th>\n",
              "      <td>1115272743905612628</td>\n",
              "      <td>https://www.airbnb.com/rooms/1115272743905612628</td>\n",
              "      <td>565833376</td>\n",
              "      <td>Entire rental unit</td>\n",
              "      <td>f</td>\n",
              "      <td>55.0</td>\n",
              "      <td>Bexley</td>\n",
              "      <td>51.502721</td>\n",
              "      <td>0.147342</td>\n",
              "      <td>Entire home/apt</td>\n",
              "      <td>...</td>\n",
              "      <td>0</td>\n",
              "      <td>0</td>\n",
              "      <td>NaN</td>\n",
              "      <td>NaN</td>\n",
              "      <td>NaN</td>\n",
              "      <td>NaN</td>\n",
              "      <td>NaN</td>\n",
              "      <td>NaN</td>\n",
              "      <td>NaN</td>\n",
              "      <td>NaN</td>\n",
              "    </tr>\n",
              "    <tr>\n",
              "      <th>90848</th>\n",
              "      <td>1115272767893608505</td>\n",
              "      <td>https://www.airbnb.com/rooms/1115272767893608505</td>\n",
              "      <td>565833376</td>\n",
              "      <td>Entire rental unit</td>\n",
              "      <td>f</td>\n",
              "      <td>55.0</td>\n",
              "      <td>Bexley</td>\n",
              "      <td>51.504134</td>\n",
              "      <td>0.148848</td>\n",
              "      <td>Entire home/apt</td>\n",
              "      <td>...</td>\n",
              "      <td>0</td>\n",
              "      <td>0</td>\n",
              "      <td>NaN</td>\n",
              "      <td>NaN</td>\n",
              "      <td>NaN</td>\n",
              "      <td>NaN</td>\n",
              "      <td>NaN</td>\n",
              "      <td>NaN</td>\n",
              "      <td>NaN</td>\n",
              "      <td>NaN</td>\n",
              "    </tr>\n",
              "    <tr>\n",
              "      <th>90849</th>\n",
              "      <td>1115285644506865913</td>\n",
              "      <td>https://www.airbnb.com/rooms/1115285644506865913</td>\n",
              "      <td>444801189</td>\n",
              "      <td>Room in hotel</td>\n",
              "      <td>f</td>\n",
              "      <td>44.0</td>\n",
              "      <td>Westminster</td>\n",
              "      <td>51.506404</td>\n",
              "      <td>-0.148199</td>\n",
              "      <td>Private room</td>\n",
              "      <td>...</td>\n",
              "      <td>0</td>\n",
              "      <td>0</td>\n",
              "      <td>NaN</td>\n",
              "      <td>NaN</td>\n",
              "      <td>NaN</td>\n",
              "      <td>NaN</td>\n",
              "      <td>NaN</td>\n",
              "      <td>NaN</td>\n",
              "      <td>NaN</td>\n",
              "      <td>NaN</td>\n",
              "    </tr>\n",
              "    <tr>\n",
              "      <th>90850</th>\n",
              "      <td>1115338006572763275</td>\n",
              "      <td>https://www.airbnb.com/rooms/1115338006572763275</td>\n",
              "      <td>514234035</td>\n",
              "      <td>Entire rental unit</td>\n",
              "      <td>f</td>\n",
              "      <td>62.0</td>\n",
              "      <td>Westminster</td>\n",
              "      <td>51.513649</td>\n",
              "      <td>-0.161906</td>\n",
              "      <td>Entire home/apt</td>\n",
              "      <td>...</td>\n",
              "      <td>0</td>\n",
              "      <td>0</td>\n",
              "      <td>NaN</td>\n",
              "      <td>NaN</td>\n",
              "      <td>NaN</td>\n",
              "      <td>NaN</td>\n",
              "      <td>NaN</td>\n",
              "      <td>NaN</td>\n",
              "      <td>NaN</td>\n",
              "      <td>NaN</td>\n",
              "    </tr>\n",
              "    <tr>\n",
              "      <th>90851</th>\n",
              "      <td>1115347885713265376</td>\n",
              "      <td>https://www.airbnb.com/rooms/1115347885713265376</td>\n",
              "      <td>215155525</td>\n",
              "      <td>Entire townhouse</td>\n",
              "      <td>f</td>\n",
              "      <td>6.0</td>\n",
              "      <td>Haringey</td>\n",
              "      <td>51.600825</td>\n",
              "      <td>-0.104080</td>\n",
              "      <td>Entire home/apt</td>\n",
              "      <td>...</td>\n",
              "      <td>0</td>\n",
              "      <td>0</td>\n",
              "      <td>NaN</td>\n",
              "      <td>NaN</td>\n",
              "      <td>NaN</td>\n",
              "      <td>NaN</td>\n",
              "      <td>NaN</td>\n",
              "      <td>NaN</td>\n",
              "      <td>NaN</td>\n",
              "      <td>NaN</td>\n",
              "    </tr>\n",
              "  </tbody>\n",
              "</table>\n",
              "<p>24920 rows × 28 columns</p>\n",
              "</div>"
            ],
            "text/plain": [
              "                     숙소_id                                            숙소_url  \\\n",
              "9                   170524               https://www.airbnb.com/rooms/170524   \n",
              "35                  318986               https://www.airbnb.com/rooms/318986   \n",
              "45                   42692                https://www.airbnb.com/rooms/42692   \n",
              "49                   44384                https://www.airbnb.com/rooms/44384   \n",
              "56                  324055               https://www.airbnb.com/rooms/324055   \n",
              "...                    ...                                               ...   \n",
              "90847  1115272743905612628  https://www.airbnb.com/rooms/1115272743905612628   \n",
              "90848  1115272767893608505  https://www.airbnb.com/rooms/1115272767893608505   \n",
              "90849  1115285644506865913  https://www.airbnb.com/rooms/1115285644506865913   \n",
              "90850  1115338006572763275  https://www.airbnb.com/rooms/1115338006572763275   \n",
              "90851  1115347885713265376  https://www.airbnb.com/rooms/1115347885713265376   \n",
              "\n",
              "          호스트_id                        숙소_특징 슈퍼호스트  숙소_수  \\\n",
              "9         194769           Entire rental unit     f   9.0   \n",
              "35       1637212           Entire rental unit     f   1.0   \n",
              "45        186510  Private room in rental unit     f   1.0   \n",
              "49        194769  Private room in rental unit     f   9.0   \n",
              "56       1664001         Private room in home     f   1.0   \n",
              "...          ...                          ...   ...   ...   \n",
              "90847  565833376           Entire rental unit     f  55.0   \n",
              "90848  565833376           Entire rental unit     f  55.0   \n",
              "90849  444801189                Room in hotel     f  44.0   \n",
              "90850  514234035           Entire rental unit     f  62.0   \n",
              "90851  215155525             Entire townhouse     f   6.0   \n",
              "\n",
              "                        숙소_지역         위도        경도            숙소_유형  ...  리뷰수  \\\n",
              "9                 Westminster  51.506120 -0.140290  Entire home/apt  ...    0   \n",
              "35     Kensington and Chelsea  51.491130 -0.194820  Entire home/apt  ...    0   \n",
              "45     Hammersmith and Fulham  51.508220 -0.215620     Private room  ...    0   \n",
              "49                     Barnet  51.597900 -0.243270     Private room  ...    0   \n",
              "56                     Newham  51.553110  0.022730     Private room  ...    0   \n",
              "...                       ...        ...       ...              ...  ...  ...   \n",
              "90847                  Bexley  51.502721  0.147342  Entire home/apt  ...    0   \n",
              "90848                  Bexley  51.504134  0.148848  Entire home/apt  ...    0   \n",
              "90849             Westminster  51.506404 -0.148199     Private room  ...    0   \n",
              "90850             Westminster  51.513649 -0.161906  Entire home/apt  ...    0   \n",
              "90851                Haringey  51.600825 -0.104080  Entire home/apt  ...    0   \n",
              "\n",
              "       30일_리뷰수  리뷰점수  숙소_정확성_리뷰점수 숙소_청결도_리뷰점수 숙소_체크인_리뷰점수  숙소_소통_리뷰점수  \\\n",
              "9            0   NaN          NaN         NaN         NaN         NaN   \n",
              "35           0   NaN          NaN         NaN         NaN         NaN   \n",
              "45           0   NaN          NaN         NaN         NaN         NaN   \n",
              "49           0   NaN          NaN         NaN         NaN         NaN   \n",
              "56           0   NaN          NaN         NaN         NaN         NaN   \n",
              "...        ...   ...          ...         ...         ...         ...   \n",
              "90847        0   NaN          NaN         NaN         NaN         NaN   \n",
              "90848        0   NaN          NaN         NaN         NaN         NaN   \n",
              "90849        0   NaN          NaN         NaN         NaN         NaN   \n",
              "90850        0   NaN          NaN         NaN         NaN         NaN   \n",
              "90851        0   NaN          NaN         NaN         NaN         NaN   \n",
              "\n",
              "       숙소_위치_리뷰점수  숙소_가격_리뷰점수  평균_리뷰수  \n",
              "9             NaN         NaN     NaN  \n",
              "35            NaN         NaN     NaN  \n",
              "45            NaN         NaN     NaN  \n",
              "49            NaN         NaN     NaN  \n",
              "56            NaN         NaN     NaN  \n",
              "...           ...         ...     ...  \n",
              "90847         NaN         NaN     NaN  \n",
              "90848         NaN         NaN     NaN  \n",
              "90849         NaN         NaN     NaN  \n",
              "90850         NaN         NaN     NaN  \n",
              "90851         NaN         NaN     NaN  \n",
              "\n",
              "[24920 rows x 28 columns]"
            ]
          },
          "execution_count": 21,
          "metadata": {},
          "output_type": "execute_result"
        }
      ],
      "source": [
        "df[df['리뷰수'] == 0]\n"
      ]
    },
    {
      "cell_type": "code",
      "execution_count": 22,
      "metadata": {
        "id": "uhM-gZncUUZ1"
      },
      "outputs": [],
      "source": [
        "df = df[df['리뷰수'] != 0]\n"
      ]
    },
    {
      "cell_type": "code",
      "execution_count": 23,
      "metadata": {
        "colab": {
          "base_uri": "https://localhost:8080/"
        },
        "id": "kdYK7GfaUUX2",
        "outputId": "e4934ac6-ed3d-43e7-fd49-f832b8d74ea1"
      },
      "outputs": [
        {
          "data": {
            "text/plain": [
              "(65538, 28)"
            ]
          },
          "execution_count": 23,
          "metadata": {},
          "output_type": "execute_result"
        }
      ],
      "source": [
        "df.shape\n"
      ]
    },
    {
      "cell_type": "markdown",
      "metadata": {
        "id": "5zDn-3-wUlhH"
      },
      "source": [
        "<h3>리뷰분야 (6개)결측치 처리</h3>\n",
        "'숙소_정확성_리뷰점수', '숙소_청결도_리뷰점수', '숙소_체크인_리뷰점수',\n",
        "       '숙소_소통_리뷰점수', '숙소_위치_리뷰점수', '숙소_가격_리뷰점수'"
      ]
    },
    {
      "cell_type": "code",
      "execution_count": 24,
      "metadata": {
        "id": "6Bp0QCPPUUWA"
      },
      "outputs": [],
      "source": [
        "review_field = df['숙소_정확성_리뷰점수'].isna() & df['숙소_청결도_리뷰점수'].isna() & df['숙소_체크인_리뷰점수'].isna() & df['숙소_소통_리뷰점수'].isna() \\\n",
        "   & df['숙소_위치_리뷰점수'].isna() &df['숙소_가격_리뷰점수'].isna()"
      ]
    },
    {
      "cell_type": "code",
      "execution_count": 25,
      "metadata": {
        "id": "f2l0GjbMUUUO"
      },
      "outputs": [],
      "source": [
        "df = df[~review_field]"
      ]
    },
    {
      "cell_type": "code",
      "execution_count": 26,
      "metadata": {
        "colab": {
          "base_uri": "https://localhost:8080/"
        },
        "id": "Do-HYu-BUkE4",
        "outputId": "06919a26-2f44-49d4-854b-f15d58b93da1"
      },
      "outputs": [
        {
          "data": {
            "text/plain": [
              "(65516, 28)"
            ]
          },
          "execution_count": 26,
          "metadata": {},
          "output_type": "execute_result"
        }
      ],
      "source": [
        "df.shape"
      ]
    },
    {
      "cell_type": "code",
      "execution_count": 27,
      "metadata": {
        "colab": {
          "base_uri": "https://localhost:8080/"
        },
        "id": "zi6-VY9uUkC7",
        "outputId": "4c481f7f-6d7a-473b-ecd7-2b31668ca70e"
      },
      "outputs": [
        {
          "data": {
            "text/plain": [
              "41"
            ]
          },
          "execution_count": 27,
          "metadata": {},
          "output_type": "execute_result"
        }
      ],
      "source": [
        "#각 분야의 널값\n",
        "df['숙소_정확성_리뷰점수'].isna().sum() # 9개\n",
        "df['숙소_청결도_리뷰점수'].isna().sum() # 4개\n",
        "df['숙소_소통_리뷰점수'].isna().sum() # 14개\n",
        "df['숙소_위치_리뷰점수'].isna().sum() # 39개\n",
        "df['숙소_가격_리뷰점수'].isna().sum() # 41개"
      ]
    },
    {
      "cell_type": "markdown",
      "metadata": {
        "id": "SnUbsfEZVbo5"
      },
      "source": [
        "숙소유형이 Hotel room / Shared room 인 행 삭제\n",
        "\n",
        "- 에어비앤비 숙소의 특징인 개인실 대여, 아파트 집 대여인 점을 이용"
      ]
    },
    {
      "cell_type": "code",
      "execution_count": 28,
      "metadata": {
        "colab": {
          "base_uri": "https://localhost:8080/"
        },
        "id": "nIGAy3N1VC2y",
        "outputId": "b4b0e407-c849-4a7d-c69c-cb5feeec0daa"
      },
      "outputs": [
        {
          "data": {
            "text/plain": [
              "숙소_유형\n",
              "Entire home/apt    42526\n",
              "Private room       22621\n",
              "Shared room          220\n",
              "Hotel room           149\n",
              "Name: count, dtype: int64"
            ]
          },
          "execution_count": 28,
          "metadata": {},
          "output_type": "execute_result"
        }
      ],
      "source": [
        "df['숙소_유형'].value_counts()"
      ]
    },
    {
      "cell_type": "code",
      "execution_count": 29,
      "metadata": {
        "colab": {
          "base_uri": "https://localhost:8080/",
          "height": 695
        },
        "id": "xyWSamNcV4lv",
        "outputId": "b212d7f7-80cb-45ab-c204-cc773313176a"
      },
      "outputs": [
        {
          "data": {
            "image/png": "[encoded data removed]",
            "text/plain": [
              "<Figure size 640x480 with 1 Axes>"
            ]
          },
          "metadata": {},
          "output_type": "display_data"
        }
      ],
      "source": [
        "df['숙소_유형'].value_counts().plot(kind='bar')\n",
        "plt.show()"
      ]
    },
    {
      "cell_type": "code",
      "execution_count": 30,
      "metadata": {
        "id": "UJX0n-5HUkBk"
      },
      "outputs": [],
      "source": [
        "condition = (df['숙소_유형'] == 'Hotel room') | (df['숙소_유형'] == 'Shared room')"
      ]
    },
    {
      "cell_type": "code",
      "execution_count": 31,
      "metadata": {
        "id": "hgJb_M2kUj_r"
      },
      "outputs": [],
      "source": [
        "df = df[~condition]"
      ]
    },
    {
      "cell_type": "code",
      "execution_count": 32,
      "metadata": {
        "colab": {
          "base_uri": "https://localhost:8080/"
        },
        "id": "XKh8ql-wUj9j",
        "outputId": "58974604-8c58-487a-a3aa-70ccb3c39cdb"
      },
      "outputs": [
        {
          "data": {
            "text/plain": [
              "(65147, 28)"
            ]
          },
          "execution_count": 32,
          "metadata": {},
          "output_type": "execute_result"
        }
      ],
      "source": [
        "df.shape"
      ]
    },
    {
      "cell_type": "markdown",
      "metadata": {
        "id": "gDp5tzyKWIVD"
      },
      "source": [
        "숙소가격 결측치 처리"
      ]
    },
    {
      "cell_type": "markdown",
      "metadata": {},
      "source": [
        "숙소_가격 nan값 제거"
      ]
    },
    {
      "cell_type": "code",
      "execution_count": 33,
      "metadata": {},
      "outputs": [],
      "source": [
        "df.dropna(subset=['숙소_가격'], inplace =  True)\n"
      ]
    },
    {
      "cell_type": "code",
      "execution_count": 34,
      "metadata": {},
      "outputs": [
        {
          "data": {
            "text/plain": [
              "0        $160.00\n",
              "1         $65.00\n",
              "2        $120.00\n",
              "3         $65.00\n",
              "4        $100.00\n",
              "          ...   \n",
              "90451     $46.00\n",
              "90568     $78.00\n",
              "90590    $136.00\n",
              "90648    $109.00\n",
              "90735     $41.00\n",
              "Name: 숙소_가격, Length: 43182, dtype: object"
            ]
          },
          "execution_count": 34,
          "metadata": {},
          "output_type": "execute_result"
        }
      ],
      "source": [
        "df['숙소_가격']\n"
      ]
    },
    {
      "cell_type": "code",
      "execution_count": 35,
      "metadata": {},
      "outputs": [
        {
          "data": {
            "text/plain": [
              "(43182, 28)"
            ]
          },
          "execution_count": 35,
          "metadata": {},
          "output_type": "execute_result"
        }
      ],
      "source": [
        "df.shape\n"
      ]
    },
    {
      "cell_type": "markdown",
      "metadata": {
        "id": "2Fo0cTr4WLEC"
      },
      "source": [
        "숙소가격 데이터타입 float로 번경"
      ]
    },
    {
      "cell_type": "code",
      "execution_count": 36,
      "metadata": {
        "id": "8NTZ1ONqWjZa"
      },
      "outputs": [],
      "source": [
        "df.loc[:,'숙소_가격'] = df['숙소_가격'].str.replace('$', \"\")\n",
        "df.loc[:,'숙소_가격'] = df['숙소_가격'].str.replace(',', \"\")\n",
        "df.loc[:,'숙소_가격'] = df['숙소_가격'].str.strip()"
      ]
    },
    {
      "cell_type": "code",
      "execution_count": 37,
      "metadata": {
        "colab": {
          "base_uri": "https://localhost:8080/"
        },
        "id": "AmHeOtIfWjWY",
        "outputId": "737627eb-9e5e-4a59-9852-78837641fd48"
      },
      "outputs": [
        {
          "data": {
            "text/plain": [
              "0        160.0\n",
              "1         65.0\n",
              "2        120.0\n",
              "3         65.0\n",
              "4        100.0\n",
              "         ...  \n",
              "90451     46.0\n",
              "90568     78.0\n",
              "90590    136.0\n",
              "90648    109.0\n",
              "90735     41.0\n",
              "Name: 숙소_가격, Length: 43182, dtype: float64"
            ]
          },
          "execution_count": 37,
          "metadata": {},
          "output_type": "execute_result"
        }
      ],
      "source": [
        "df['숙소_가격'] = df.loc[:,'숙소_가격'].astype(float)\n",
        "df['숙소_가격']\n"
      ]
    },
    {
      "cell_type": "code",
      "execution_count": 38,
      "metadata": {
        "id": "tLQE5yG1X1Sr"
      },
      "outputs": [],
      "source": [
        "London_price = df['숙소_가격']"
      ]
    },
    {
      "cell_type": "code",
      "execution_count": 39,
      "metadata": {
        "colab": {
          "base_uri": "https://localhost:8080/"
        },
        "id": "BvUk39t4X0sn",
        "outputId": "85151f3f-8b2f-42ac-951a-364c946bc427"
      },
      "outputs": [
        {
          "name": "stdout",
          "output_type": "stream",
          "text": [
            "Q1 : 71.0\n",
            "Q3 : 195.0\n",
            "IQR : 124.0\n",
            "lower_bound : -115.0\n",
            "upper_bound : 381.0\n",
            "Median : 120.0\n",
            "max_value : 53588.0\n",
            "min_value : 0.0\n"
          ]
        }
      ],
      "source": [
        "#이상치값\n",
        "Q1 = London_price.quantile(0.25)\n",
        "Q3 = London_price.quantile(0.75)\n",
        "Median = London_price.median()\n",
        "IQR = Q3 - Q1\n",
        "\n",
        "#이상치 범위\n",
        "lower_bound = Q1 - (1.5 * IQR) #하한가\n",
        "upper_bound = Q3 + (1.5 * IQR) #상한가\n",
        "\n",
        "#최대,최소값\n",
        "max_value = London_price.max()\n",
        "min_value = London_price.min()\n",
        "\n",
        "print('Q1 :',Q1)\n",
        "print('Q3 :',Q3)\n",
        "print('IQR :',IQR)\n",
        "print('lower_bound :', lower_bound)\n",
        "print('upper_bound :', upper_bound)\n",
        "print('Median :', Median)\n",
        "print('max_value :', max_value)\n",
        "print('min_value :',min_value)"
      ]
    },
    {
      "cell_type": "markdown",
      "metadata": {
        "id": "EpWjsYQvkIYg"
      },
      "source": [
        "이상치 확인"
      ]
    },
    {
      "cell_type": "code",
      "execution_count": 40,
      "metadata": {
        "colab": {
          "base_uri": "https://localhost:8080/",
          "height": 930
        },
        "id": "Wb1ffUaEkH-0",
        "outputId": "277630d9-cc5e-468d-e44a-08f049e6efd1"
      },
      "outputs": [
        {
          "data": {
            "image/png": "[encoded data removed]",
            "text/plain": [
              "<Figure size 1000x600 with 1 Axes>"
            ]
          },
          "metadata": {},
          "output_type": "display_data"
        }
      ],
      "source": [
        "import seaborn as sns\n",
        "import matplotlib.pyplot as plt\n",
        "\n",
        "plt.figure(figsize=(10, 6))\n",
        "sns.boxplot(data=df, y='숙소_가격')\n",
        "plt.title('이상치 확인 숙소가격 분포')\n",
        "plt.ylabel('숙소가격')\n",
        "plt.show()"
      ]
    },
    {
      "cell_type": "code",
      "execution_count": 41,
      "metadata": {
        "colab": {
          "base_uri": "https://localhost:8080/"
        },
        "id": "bU_fKSrFkR2a",
        "outputId": "fd7dd9b3-7994-4fb4-e8a2-7f4f2d202f37"
      },
      "outputs": [
        {
          "data": {
            "text/plain": [
              "숙소_id          2495\n",
              "숙소_url         2495\n",
              "호스트_id         2495\n",
              "숙소_특징          2495\n",
              "슈퍼호스트          2495\n",
              "숙소_수           2495\n",
              "숙소_지역          2495\n",
              "위도             2495\n",
              "경도             2495\n",
              "숙소_유형          2495\n",
              "수용인원수          2495\n",
              "욕실수            2495\n",
              "침실수            2495\n",
              "침대수            2495\n",
              "어메니티           2495\n",
              "숙소_가격          2495\n",
              "최소_숙박일         2495\n",
              "최대_숙박일         2495\n",
              "리뷰수            2495\n",
              "30일_리뷰수        2495\n",
              "리뷰점수           2495\n",
              "숙소_정확성_리뷰점수    2495\n",
              "숙소_청결도_리뷰점수    2495\n",
              "숙소_체크인_리뷰점수    2495\n",
              "숙소_소통_리뷰점수     2495\n",
              "숙소_위치_리뷰점수     2495\n",
              "숙소_가격_리뷰점수     2495\n",
              "평균_리뷰수         2495\n",
              "dtype: int64"
            ]
          },
          "execution_count": 41,
          "metadata": {},
          "output_type": "execute_result"
        }
      ],
      "source": [
        "df[df['숙소_가격'] > 381.0].count()"
      ]
    },
    {
      "cell_type": "markdown",
      "metadata": {
        "id": "Fx5pzKc8j-f2"
      },
      "source": [
        "이상치 제거(2495개) 5%미만"
      ]
    },
    {
      "cell_type": "code",
      "execution_count": 42,
      "metadata": {
        "id": "DoK2Qa1XUj7S"
      },
      "outputs": [],
      "source": [
        "import pandas as pd\n",
        "\n",
        "\n",
        "# 이상치를 제거하는 함수 정의\n",
        "def remove_price_outliers(df, price_column):\n",
        "    Q1 = df[price_column].quantile(0.25)\n",
        "    Q3 = df[price_column].quantile(0.75)\n",
        "    IQR = Q3 - Q1\n",
        "    lower_bound = Q1 - 1.5 * IQR\n",
        "    upper_bound = Q3 + 1.5 * IQR\n",
        "    return df[(df[price_column] >= lower_bound) & (df[price_column] <= upper_bound)]\n",
        "\n",
        "# 숙소 가격의 이상치 제거\n",
        "df_clean = remove_price_outliers(df, '숙소_가격')"
      ]
    },
    {
      "cell_type": "code",
      "execution_count": 43,
      "metadata": {
        "colab": {
          "base_uri": "https://localhost:8080/",
          "height": 1000
        },
        "id": "2BsNnaQTXae2",
        "outputId": "4e63b095-bd2b-4aed-8c72-0ec7cc95d6a4"
      },
      "outputs": [
        {
          "data": {
            "image/png": "[encoded data removed]",
            "text/plain": [
              "<Figure size 1000x800 with 1 Axes>"
            ]
          },
          "metadata": {},
          "output_type": "display_data"
        }
      ],
      "source": [
        "# 이상치 제거 후 숙소 가격에 대해서만 boxplot 그리기\n",
        "import seaborn as sns\n",
        "import matplotlib.pyplot as plt\n",
        "\n",
        "plt.figure(figsize=(10, 8))\n",
        "sns.boxplot(data=df_clean, y='숙소_가격')\n",
        "plt.title('이상치 제거 후 숙소가격 분포')\n",
        "plt.ylabel('숙소가격')\n",
        "\n",
        "# 최대값, 최소값, 중앙값 표시\n",
        "max_price = df_clean['숙소_가격'].max()\n",
        "min_price = df_clean['숙소_가격'].min()\n",
        "median_price = df_clean['숙소_가격'].median()\n",
        "\n",
        "plt.text(0, max_price, f'최대값: {max_price}', horizontalalignment='center', color='red', weight='semibold')\n",
        "plt.text(0, min_price, f'최소값: {min_price}', horizontalalignment='center', color='red', weight='semibold')\n",
        "plt.text(0, median_price, f'중앙값: {median_price}', horizontalalignment='center', color='red', weight='semibold')\n",
        "\n",
        "plt.show()"
      ]
    },
    {
      "cell_type": "code",
      "execution_count": 44,
      "metadata": {
        "colab": {
          "base_uri": "https://localhost:8080/"
        },
        "id": "c7MmujuTjvnW",
        "outputId": "a5bfdd36-4a8b-45db-a425-b98497d000bc"
      },
      "outputs": [
        {
          "data": {
            "text/plain": [
              "(40687, 28)"
            ]
          },
          "execution_count": 44,
          "metadata": {},
          "output_type": "execute_result"
        }
      ],
      "source": [
        "df_clean.shape"
      ]
    },
    {
      "cell_type": "code",
      "execution_count": 45,
      "metadata": {
        "colab": {
          "base_uri": "https://localhost:8080/"
        },
        "id": "brChyX5Wjvi4",
        "outputId": "69d6e0aa-72b6-49c6-c38e-2b137617675f"
      },
      "outputs": [
        {
          "name": "stdout",
          "output_type": "stream",
          "text": [
            "<class 'pandas.core.frame.DataFrame'>\n",
            "Index: 40687 entries, 0 to 90735\n",
            "Data columns (total 28 columns):\n",
            " #   Column       Non-Null Count  Dtype  \n",
            "---  ------       --------------  -----  \n",
            " 0   숙소_id        40687 non-null  int64  \n",
            " 1   숙소_url       40687 non-null  object \n",
            " 2   호스트_id       40687 non-null  int64  \n",
            " 3   숙소_특징        40687 non-null  object \n",
            " 4   슈퍼호스트        40687 non-null  object \n",
            " 5   숙소_수         40687 non-null  float64\n",
            " 6   숙소_지역        40687 non-null  object \n",
            " 7   위도           40687 non-null  float64\n",
            " 8   경도           40687 non-null  float64\n",
            " 9   숙소_유형        40687 non-null  object \n",
            " 10  수용인원수        40687 non-null  int64  \n",
            " 11  욕실수          40667 non-null  float64\n",
            " 12  침실수          40676 non-null  float64\n",
            " 13  침대수          40612 non-null  float64\n",
            " 14  어메니티         40687 non-null  object \n",
            " 15  숙소_가격        40687 non-null  float64\n",
            " 16  최소_숙박일       40687 non-null  int64  \n",
            " 17  최대_숙박일       40687 non-null  int64  \n",
            " 18  리뷰수          40687 non-null  int64  \n",
            " 19  30일_리뷰수      40687 non-null  int64  \n",
            " 20  리뷰점수         40687 non-null  float64\n",
            " 21  숙소_정확성_리뷰점수  40686 non-null  float64\n",
            " 22  숙소_청결도_리뷰점수  40685 non-null  float64\n",
            " 23  숙소_체크인_리뷰점수  40685 non-null  float64\n",
            " 24  숙소_소통_리뷰점수   40686 non-null  float64\n",
            " 25  숙소_위치_리뷰점수   40685 non-null  float64\n",
            " 26  숙소_가격_리뷰점수   40684 non-null  float64\n",
            " 27  평균_리뷰수       40687 non-null  float64\n",
            "dtypes: float64(15), int64(7), object(6)\n",
            "memory usage: 9.0+ MB\n"
          ]
        }
      ],
      "source": [
        "df_clean.info()"
      ]
    },
    {
      "cell_type": "markdown",
      "metadata": {
        "id": "EGMsf9cslf-D"
      },
      "source": [
        "숙소_특징 데이터확인"
      ]
    },
    {
      "cell_type": "markdown",
      "metadata": {
        "id": "jTri1L-Qlx77"
      },
      "source": [
        "- 'Entire rental unit': '전체 대여 유닛',\n",
        "- 'Private room in rental unit': '대여 유닛 내 개인 방',\n",
        "- 'Entire townhouse': '전체 타운하우스',\n",
        "-    'Entire home': '전체 집',\n",
        "-    'Private room in home': '집 내 개인 방',\n",
        "-    'Entire guesthouse': '전체 게스트하우스',\n",
        "-    'Private room in townhouse': '타운하우스 내 개인 방',\n",
        "-   'Entire condo': '전체 콘도',\n",
        "-    'Private room in condo': '콘도 내 개인 방',\n",
        "-    'Room in aparthotel': '아파트호텔 내 방',\n",
        "-    'Entire serviced apartment': '전체 서비스 아파트',\n",
        "-    'Private room in loft': '로프트 내 개인 방',\n",
        "-    'Private room': '개인 방',\n",
        "-    'Private room in bed and breakfast': 'B&B 내 개인 방',\n",
        "-    'Entire guest suite': '전체 게스트 스위트',\n",
        "-    'Private room in serviced apartment': '서비스 아파트 내 개인 방',\n",
        "-    'Private room in bungalow': '방갈로 내 개인 방',\n",
        "-    'Private room in guesthouse': '게스트하우스 내 개인 방',\n",
        "-   'Entire loft': '전체 로프트',\n",
        "-    'Entire cabin': '전체 오두막',\n",
        "-    'Private room in guest suite': '게스트 스위트 내 개인 방',\n",
        "-    'Entire cottage': '전체 코티지',\n",
        "-    'Private room in villa': '빌라 내 개인 방',\n",
        "-   'Private room in cottage': '코티지 내 개인 방',\n",
        "-  'Tiny home': '작은 집',\n",
        "-    'Entire place': '전체 장소',,\n",
        "-    'Private room in casa particular': '카사 파르티쿨라 내 개인 방',\n",
        "-    'Shepherd’s hut': '바퀴달린 오두막',\n",
        "-    'Private room in vacation home': '휴가용 주택 내 개인 방',\n",
        "-    'Room in boutique hotel': '부티크 호텔 내 방',\n",
        "-    'Camper/RV': '캠퍼/RV',\n",
        "-    'Entire vacation home': '전체 휴가용 주택',\n",
        "-    'Entire bungalow': '전체 방갈로',\n",
        "-    'Private room in hut': '오두막 내 개인 방',\n",
        "-    'Entire villa': '전체 빌라',\n",
        "-    'Floor': '층',\n",
        "-    'Earthen home': '흙집',\n",
        "-    'Private room in hostel': '호스텔 내 개인 방',\n",
        "-    'Private room in floor': '층 내 개인 방',\n",
        "-    'Private room in cabin': '오두막 내 개인 방',\n",
        "-    'Private room in island': '섬 내 개인 방',\n",
        "-    'Entire home/apt': '전체 집/아파트',\n",
        "-    'Room in hotel': '호텔 내 방',\n",
        "-    'Private room in tiny home': '작은 집 내 개인 방',\n",
        "-    'Private room in farm stay': '농장 체류 내 개인 방',\n",
        "-    'Campsite': '캠프장',\n",
        "-    'Barn': '헛간',\n",
        "-    'Religious building': '종교 건물',\n",
        "-    'Private room in earthen home': '흙집 내 개인 방',\n",
        "-    'Private room in treehouse': '트리하우스 내 개인 방',\n",
        "-    'Hut': '오두막',\n",
        "-    'Entire chalet': '전체 샬레',\n",
        "-    'Tent': '텐트',\n",
        "-    'Private room in religious building': '종교 건물 내 개인 방',\n",
        "-   'Minsu': '민수',\n",
        "-    'Casa particular': '개인 홈스테이',\n",
        "-    'Island': '섬',\n",
        "-    'Castle': '성',\n",
        "-    'Tower': '탑',\n",
        "-    \"Private room in shepherd's hut\": '오두막 내 개인 방',\n",
        "-    'Shipping container': '선적 컨테이너',\n",
        "-    'Treehouse': '트리하우스'\n",
        "\n",
        "-    Houseboat': '하우스보트',\n",
        "-    'Private room in houseboat': '하우스보트 내 개인 방'\n",
        "-    'Private room in yurt': '요트 내 개인 방',\n",
        "-    'Boat': '보트',\n",
        "-    'Private room in boat': '보트 내 개인 방',"
      ]
    },
    {
      "cell_type": "code",
      "execution_count": 46,
      "metadata": {
        "colab": {
          "base_uri": "https://localhost:8080/"
        },
        "id": "VOPv2M1Uljc4",
        "outputId": "0e6da613-49c9-4da4-a108-acd1e887dbfd"
      },
      "outputs": [
        {
          "data": {
            "text/plain": [
              "array(['Entire rental unit', 'Private room in rental unit', 'Entire home',\n",
              "       'Private room in home', 'Entire townhouse', 'Entire guesthouse',\n",
              "       'Private room in townhouse', 'Private room in condo',\n",
              "       'Entire condo', 'Room in aparthotel', 'Entire serviced apartment',\n",
              "       'Private room in loft', 'Private room',\n",
              "       'Private room in bed and breakfast', 'Entire guest suite',\n",
              "       'Houseboat', 'Private room in serviced apartment',\n",
              "       'Private room in guesthouse', 'Entire loft', 'Entire cabin',\n",
              "       'Private room in bungalow', 'Private room in guest suite',\n",
              "       'Entire cottage', 'Private room in villa',\n",
              "       'Private room in cottage', 'Tiny home',\n",
              "       'Private room in houseboat', 'Private room in casa particular',\n",
              "       'Shepherd’s hut', 'Private room in vacation home', 'Entire place',\n",
              "       'Room in boutique hotel', 'Camper/RV', 'Entire vacation home',\n",
              "       'Boat', 'Entire bungalow', 'Earthen home',\n",
              "       'Private room in hostel', 'Private room in cabin', 'Entire villa',\n",
              "       'Entire home/apt', 'Private room in hut', 'Room in hotel',\n",
              "       'Private room in tiny home', 'Barn', 'Private room in farm stay',\n",
              "       'Religious building', 'Private room in earthen home', 'Hut',\n",
              "       'Private room in boat', 'Private room in yurt', 'Entire chalet',\n",
              "       'Tent', 'Private room in religious building', 'Casa particular',\n",
              "       'Island', 'Tower', \"Private room in shepherd's hut\",\n",
              "       'Shipping container', 'Treehouse'], dtype=object)"
            ]
          },
          "execution_count": 46,
          "metadata": {},
          "output_type": "execute_result"
        }
      ],
      "source": [
        "df_clean['숙소_특징'].unique()"
      ]
    },
    {
      "cell_type": "code",
      "execution_count": 47,
      "metadata": {
        "colab": {
          "base_uri": "https://localhost:8080/",
          "height": 479
        },
        "id": "yJRoTwirrQZn",
        "outputId": "d8eefb18-0c08-4ec6-89a1-4a2e04738451"
      },
      "outputs": [
        {
          "data": {
            "text/html": [
              "<div>\n",
              "<style scoped>\n",
              "    .dataframe tbody tr th:only-of-type {\n",
              "        vertical-align: middle;\n",
              "    }\n",
              "\n",
              "    .dataframe tbody tr th {\n",
              "        vertical-align: top;\n",
              "    }\n",
              "\n",
              "    .dataframe thead th {\n",
              "        text-align: right;\n",
              "    }\n",
              "</style>\n",
              "<table border=\"1\" class=\"dataframe\">\n",
              "  <thead>\n",
              "    <tr style=\"text-align: right;\">\n",
              "      <th></th>\n",
              "      <th>숙소_id</th>\n",
              "      <th>숙소_url</th>\n",
              "      <th>호스트_id</th>\n",
              "      <th>숙소_특징</th>\n",
              "      <th>슈퍼호스트</th>\n",
              "      <th>숙소_수</th>\n",
              "      <th>숙소_지역</th>\n",
              "      <th>위도</th>\n",
              "      <th>경도</th>\n",
              "      <th>숙소_유형</th>\n",
              "      <th>...</th>\n",
              "      <th>리뷰수</th>\n",
              "      <th>30일_리뷰수</th>\n",
              "      <th>리뷰점수</th>\n",
              "      <th>숙소_정확성_리뷰점수</th>\n",
              "      <th>숙소_청결도_리뷰점수</th>\n",
              "      <th>숙소_체크인_리뷰점수</th>\n",
              "      <th>숙소_소통_리뷰점수</th>\n",
              "      <th>숙소_위치_리뷰점수</th>\n",
              "      <th>숙소_가격_리뷰점수</th>\n",
              "      <th>평균_리뷰수</th>\n",
              "    </tr>\n",
              "  </thead>\n",
              "  <tbody>\n",
              "    <tr>\n",
              "      <th>33954</th>\n",
              "      <td>39029216</td>\n",
              "      <td>https://www.airbnb.com/rooms/39029216</td>\n",
              "      <td>51657387</td>\n",
              "      <td>Private room in boat</td>\n",
              "      <td>f</td>\n",
              "      <td>20.0</td>\n",
              "      <td>Westminster</td>\n",
              "      <td>51.518850</td>\n",
              "      <td>-0.180190</td>\n",
              "      <td>Private room</td>\n",
              "      <td>...</td>\n",
              "      <td>42</td>\n",
              "      <td>1</td>\n",
              "      <td>4.45</td>\n",
              "      <td>4.52</td>\n",
              "      <td>4.52</td>\n",
              "      <td>4.67</td>\n",
              "      <td>4.81</td>\n",
              "      <td>4.48</td>\n",
              "      <td>4.52</td>\n",
              "      <td>0.78</td>\n",
              "    </tr>\n",
              "    <tr>\n",
              "      <th>38230</th>\n",
              "      <td>44690713</td>\n",
              "      <td>https://www.airbnb.com/rooms/44690713</td>\n",
              "      <td>6334367</td>\n",
              "      <td>Private room in boat</td>\n",
              "      <td>t</td>\n",
              "      <td>6.0</td>\n",
              "      <td>Wandsworth</td>\n",
              "      <td>51.465610</td>\n",
              "      <td>-0.182560</td>\n",
              "      <td>Private room</td>\n",
              "      <td>...</td>\n",
              "      <td>23</td>\n",
              "      <td>0</td>\n",
              "      <td>4.91</td>\n",
              "      <td>4.91</td>\n",
              "      <td>4.96</td>\n",
              "      <td>4.96</td>\n",
              "      <td>4.96</td>\n",
              "      <td>4.83</td>\n",
              "      <td>4.78</td>\n",
              "      <td>0.53</td>\n",
              "    </tr>\n",
              "    <tr>\n",
              "      <th>74436</th>\n",
              "      <td>981208448316205003</td>\n",
              "      <td>https://www.airbnb.com/rooms/981208448316205003</td>\n",
              "      <td>1432477</td>\n",
              "      <td>Private room in boat</td>\n",
              "      <td>f</td>\n",
              "      <td>656.0</td>\n",
              "      <td>Tower Hamlets</td>\n",
              "      <td>51.501764</td>\n",
              "      <td>-0.015454</td>\n",
              "      <td>Private room</td>\n",
              "      <td>...</td>\n",
              "      <td>1</td>\n",
              "      <td>0</td>\n",
              "      <td>5.00</td>\n",
              "      <td>5.00</td>\n",
              "      <td>5.00</td>\n",
              "      <td>5.00</td>\n",
              "      <td>5.00</td>\n",
              "      <td>5.00</td>\n",
              "      <td>5.00</td>\n",
              "      <td>0.31</td>\n",
              "    </tr>\n",
              "    <tr>\n",
              "      <th>74440</th>\n",
              "      <td>981209451795254645</td>\n",
              "      <td>https://www.airbnb.com/rooms/981209451795254645</td>\n",
              "      <td>1432477</td>\n",
              "      <td>Private room in boat</td>\n",
              "      <td>f</td>\n",
              "      <td>656.0</td>\n",
              "      <td>Tower Hamlets</td>\n",
              "      <td>51.501550</td>\n",
              "      <td>-0.014430</td>\n",
              "      <td>Private room</td>\n",
              "      <td>...</td>\n",
              "      <td>2</td>\n",
              "      <td>0</td>\n",
              "      <td>3.00</td>\n",
              "      <td>3.00</td>\n",
              "      <td>3.00</td>\n",
              "      <td>3.00</td>\n",
              "      <td>3.00</td>\n",
              "      <td>3.00</td>\n",
              "      <td>3.00</td>\n",
              "      <td>0.38</td>\n",
              "    </tr>\n",
              "    <tr>\n",
              "      <th>74451</th>\n",
              "      <td>981209453861783108</td>\n",
              "      <td>https://www.airbnb.com/rooms/981209453861783108</td>\n",
              "      <td>1432477</td>\n",
              "      <td>Private room in boat</td>\n",
              "      <td>f</td>\n",
              "      <td>656.0</td>\n",
              "      <td>Tower Hamlets</td>\n",
              "      <td>51.501490</td>\n",
              "      <td>-0.015374</td>\n",
              "      <td>Private room</td>\n",
              "      <td>...</td>\n",
              "      <td>1</td>\n",
              "      <td>0</td>\n",
              "      <td>5.00</td>\n",
              "      <td>5.00</td>\n",
              "      <td>5.00</td>\n",
              "      <td>5.00</td>\n",
              "      <td>5.00</td>\n",
              "      <td>5.00</td>\n",
              "      <td>5.00</td>\n",
              "      <td>0.31</td>\n",
              "    </tr>\n",
              "  </tbody>\n",
              "</table>\n",
              "<p>5 rows × 28 columns</p>\n",
              "</div>"
            ],
            "text/plain": [
              "                    숙소_id                                           숙소_url  \\\n",
              "33954            39029216            https://www.airbnb.com/rooms/39029216   \n",
              "38230            44690713            https://www.airbnb.com/rooms/44690713   \n",
              "74436  981208448316205003  https://www.airbnb.com/rooms/981208448316205003   \n",
              "74440  981209451795254645  https://www.airbnb.com/rooms/981209451795254645   \n",
              "74451  981209453861783108  https://www.airbnb.com/rooms/981209453861783108   \n",
              "\n",
              "         호스트_id                 숙소_특징 슈퍼호스트   숙소_수          숙소_지역         위도  \\\n",
              "33954  51657387  Private room in boat     f   20.0    Westminster  51.518850   \n",
              "38230   6334367  Private room in boat     t    6.0     Wandsworth  51.465610   \n",
              "74436   1432477  Private room in boat     f  656.0  Tower Hamlets  51.501764   \n",
              "74440   1432477  Private room in boat     f  656.0  Tower Hamlets  51.501550   \n",
              "74451   1432477  Private room in boat     f  656.0  Tower Hamlets  51.501490   \n",
              "\n",
              "             경도         숙소_유형  ...  리뷰수  30일_리뷰수  리뷰점수  숙소_정확성_리뷰점수  \\\n",
              "33954 -0.180190  Private room  ...   42        1  4.45         4.52   \n",
              "38230 -0.182560  Private room  ...   23        0  4.91         4.91   \n",
              "74436 -0.015454  Private room  ...    1        0  5.00         5.00   \n",
              "74440 -0.014430  Private room  ...    2        0  3.00         3.00   \n",
              "74451 -0.015374  Private room  ...    1        0  5.00         5.00   \n",
              "\n",
              "      숙소_청결도_리뷰점수  숙소_체크인_리뷰점수  숙소_소통_리뷰점수  숙소_위치_리뷰점수  숙소_가격_리뷰점수  평균_리뷰수  \n",
              "33954        4.52         4.67        4.81        4.48        4.52    0.78  \n",
              "38230        4.96         4.96        4.96        4.83        4.78    0.53  \n",
              "74436        5.00         5.00        5.00        5.00        5.00    0.31  \n",
              "74440        3.00         3.00        3.00        3.00        3.00    0.38  \n",
              "74451        5.00         5.00        5.00        5.00        5.00    0.31  \n",
              "\n",
              "[5 rows x 28 columns]"
            ]
          },
          "execution_count": 47,
          "metadata": {},
          "output_type": "execute_result"
        }
      ],
      "source": [
        "# 'Houseboat': '하우스보트',\n",
        "df_clean[df_clean['숙소_특징']== 'Houseboat'].count() # 15개 Entire home/apt\n",
        "\n",
        "# 'Private room in houseboat': '하우스보트 내 개인 방'\n",
        "df_clean[df_clean['숙소_특징']== 'Private room in houseboat'].count() # 5개 Private room\n",
        "\n",
        "# 'Private room in yurt': '요트 내 개인 방',\n",
        "df_clean[df_clean['숙소_특징']== 'Private room in yurt'] # 2개 Private room\n",
        "\n",
        "# 'Boat': '보트',\n",
        "df_clean[df_clean['숙소_특징']== 'Boat'].count() # 55개 Entire home/apt\n",
        "\n",
        "# 'Private room in boat': '보트 내 개인 방',\n",
        "df_clean[df_clean['숙소_특징']== 'Private room in boat'] # 9개 Private room\n"
      ]
    },
    {
      "cell_type": "code",
      "execution_count": 48,
      "metadata": {
        "colab": {
          "base_uri": "https://localhost:8080/"
        },
        "id": "8yJkRD5fSerP",
        "outputId": "11fc09cc-340c-40a0-d845-e5e91b525291"
      },
      "outputs": [
        {
          "data": {
            "text/plain": [
              "숙소_특징\n",
              "Entire rental unit                    15935\n",
              "Private room in home                   5282\n",
              "Entire condo                           5190\n",
              "Private room in rental unit            4850\n",
              "Entire home                            2954\n",
              "Private room in condo                  2174\n",
              "Entire serviced apartment              1087\n",
              "Private room in townhouse               705\n",
              "Entire townhouse                        429\n",
              "Private room in bed and breakfast       288\n",
              "Room in hotel                           208\n",
              "Private room in guesthouse              180\n",
              "Entire loft                             172\n",
              "Room in boutique hotel                  144\n",
              "Entire guesthouse                       143\n",
              "Entire guest suite                      115\n",
              "Private room in guest suite             114\n",
              "Private room in loft                     72\n",
              "Room in aparthotel                       69\n",
              "Private room in serviced apartment       67\n",
              "Private room in casa particular          65\n",
              "Entire vacation home                     58\n",
              "Boat                                     38\n",
              "Entire place                             38\n",
              "Entire cottage                           36\n",
              "Private room in bungalow                 33\n",
              "Tiny home                                32\n",
              "Private room                             28\n",
              "Entire bungalow                          28\n",
              "Entire cabin                             18\n",
              "Private room in vacation home            17\n",
              "Private room in cottage                  16\n",
              "Private room in villa                    14\n",
              "Houseboat                                12\n",
              "Casa particular                           9\n",
              "Private room in tiny home                 7\n",
              "Private room in hostel                    7\n",
              "Entire villa                              7\n",
              "Private room in boat                      5\n",
              "Entire home/apt                           5\n",
              "Camper/RV                                 4\n",
              "Private room in religious building        4\n",
              "Shepherd’s hut                            3\n",
              "Private room in houseboat                 3\n",
              "Private room in cabin                     3\n",
              "Entire chalet                             3\n",
              "Barn                                      2\n",
              "Private room in earthen home              2\n",
              "Tower                                     1\n",
              "Private room in shepherd's hut            1\n",
              "Island                                    1\n",
              "Shipping container                        1\n",
              "Religious building                        1\n",
              "Tent                                      1\n",
              "Private room in yurt                      1\n",
              "Hut                                       1\n",
              "Private room in farm stay                 1\n",
              "Private room in hut                       1\n",
              "Earthen home                              1\n",
              "Treehouse                                 1\n",
              "Name: count, dtype: int64"
            ]
          },
          "execution_count": 48,
          "metadata": {},
          "output_type": "execute_result"
        }
      ],
      "source": [
        "df_clean['숙소_특징'].value_counts()"
      ]
    },
    {
      "cell_type": "markdown",
      "metadata": {
        "id": "CgI-DjJOkeqj"
      },
      "source": [
        "특정 숙소특징을 가지는 숙소가 11개 존재함\n",
        "이런 숙소는 특수한 특징을 가진 숙소 (제거)\n",
        "\n",
        "- 'Earthen home', 'Private room in hut', 'Private room in farm stay', 'Religious building', 'Hut', 'Tent', 'Island',\n",
        "'Tower', 'Private room in shepherd's hut', 'Shipping container', 'Treehouse'\n"
      ]
    },
    {
      "cell_type": "code",
      "execution_count": 49,
      "metadata": {
        "colab": {
          "base_uri": "https://localhost:8080/",
          "height": 848
        },
        "id": "5dt3gh5Fi_Ki",
        "outputId": "88af6f44-7959-47fd-d7ed-f149899f4c2f"
      },
      "outputs": [
        {
          "data": {
            "text/html": [
              "<div>\n",
              "<style scoped>\n",
              "    .dataframe tbody tr th:only-of-type {\n",
              "        vertical-align: middle;\n",
              "    }\n",
              "\n",
              "    .dataframe tbody tr th {\n",
              "        vertical-align: top;\n",
              "    }\n",
              "\n",
              "    .dataframe thead th {\n",
              "        text-align: right;\n",
              "    }\n",
              "</style>\n",
              "<table border=\"1\" class=\"dataframe\">\n",
              "  <thead>\n",
              "    <tr style=\"text-align: right;\">\n",
              "      <th></th>\n",
              "      <th>숙소_id</th>\n",
              "      <th>숙소_url</th>\n",
              "      <th>호스트_id</th>\n",
              "      <th>숙소_특징</th>\n",
              "      <th>슈퍼호스트</th>\n",
              "      <th>숙소_수</th>\n",
              "      <th>숙소_지역</th>\n",
              "      <th>위도</th>\n",
              "      <th>경도</th>\n",
              "      <th>숙소_유형</th>\n",
              "      <th>...</th>\n",
              "      <th>리뷰수</th>\n",
              "      <th>30일_리뷰수</th>\n",
              "      <th>리뷰점수</th>\n",
              "      <th>숙소_정확성_리뷰점수</th>\n",
              "      <th>숙소_청결도_리뷰점수</th>\n",
              "      <th>숙소_체크인_리뷰점수</th>\n",
              "      <th>숙소_소통_리뷰점수</th>\n",
              "      <th>숙소_위치_리뷰점수</th>\n",
              "      <th>숙소_가격_리뷰점수</th>\n",
              "      <th>평균_리뷰수</th>\n",
              "    </tr>\n",
              "  </thead>\n",
              "  <tbody>\n",
              "    <tr>\n",
              "      <th>10147</th>\n",
              "      <td>12937630</td>\n",
              "      <td>https://www.airbnb.com/rooms/12937630</td>\n",
              "      <td>70371065</td>\n",
              "      <td>Earthen home</td>\n",
              "      <td>t</td>\n",
              "      <td>4.0</td>\n",
              "      <td>Greenwich</td>\n",
              "      <td>51.482330</td>\n",
              "      <td>0.014690</td>\n",
              "      <td>Entire home/apt</td>\n",
              "      <td>...</td>\n",
              "      <td>316</td>\n",
              "      <td>3</td>\n",
              "      <td>4.87</td>\n",
              "      <td>4.90</td>\n",
              "      <td>4.92</td>\n",
              "      <td>4.96</td>\n",
              "      <td>4.96</td>\n",
              "      <td>4.92</td>\n",
              "      <td>4.84</td>\n",
              "      <td>3.31</td>\n",
              "    </tr>\n",
              "    <tr>\n",
              "      <th>18522</th>\n",
              "      <td>20708040</td>\n",
              "      <td>https://www.airbnb.com/rooms/20708040</td>\n",
              "      <td>50500900</td>\n",
              "      <td>Private room in hut</td>\n",
              "      <td>f</td>\n",
              "      <td>2.0</td>\n",
              "      <td>Haringey</td>\n",
              "      <td>51.599550</td>\n",
              "      <td>-0.143220</td>\n",
              "      <td>Private room</td>\n",
              "      <td>...</td>\n",
              "      <td>65</td>\n",
              "      <td>0</td>\n",
              "      <td>4.78</td>\n",
              "      <td>4.85</td>\n",
              "      <td>4.35</td>\n",
              "      <td>4.91</td>\n",
              "      <td>4.95</td>\n",
              "      <td>4.75</td>\n",
              "      <td>4.83</td>\n",
              "      <td>1.01</td>\n",
              "    </tr>\n",
              "    <tr>\n",
              "      <th>28132</th>\n",
              "      <td>31192541</td>\n",
              "      <td>https://www.airbnb.com/rooms/31192541</td>\n",
              "      <td>217878975</td>\n",
              "      <td>Private room in farm stay</td>\n",
              "      <td>f</td>\n",
              "      <td>4.0</td>\n",
              "      <td>Southwark</td>\n",
              "      <td>51.453030</td>\n",
              "      <td>-0.067600</td>\n",
              "      <td>Private room</td>\n",
              "      <td>...</td>\n",
              "      <td>3</td>\n",
              "      <td>0</td>\n",
              "      <td>4.67</td>\n",
              "      <td>5.00</td>\n",
              "      <td>4.67</td>\n",
              "      <td>5.00</td>\n",
              "      <td>5.00</td>\n",
              "      <td>5.00</td>\n",
              "      <td>4.67</td>\n",
              "      <td>0.06</td>\n",
              "    </tr>\n",
              "    <tr>\n",
              "      <th>28470</th>\n",
              "      <td>31681169</td>\n",
              "      <td>https://www.airbnb.com/rooms/31681169</td>\n",
              "      <td>38234268</td>\n",
              "      <td>Religious building</td>\n",
              "      <td>f</td>\n",
              "      <td>1.0</td>\n",
              "      <td>Lambeth</td>\n",
              "      <td>51.473510</td>\n",
              "      <td>-0.103800</td>\n",
              "      <td>Entire home/apt</td>\n",
              "      <td>...</td>\n",
              "      <td>1</td>\n",
              "      <td>0</td>\n",
              "      <td>5.00</td>\n",
              "      <td>5.00</td>\n",
              "      <td>5.00</td>\n",
              "      <td>5.00</td>\n",
              "      <td>5.00</td>\n",
              "      <td>5.00</td>\n",
              "      <td>5.00</td>\n",
              "      <td>0.17</td>\n",
              "    </tr>\n",
              "    <tr>\n",
              "      <th>30099</th>\n",
              "      <td>34203528</td>\n",
              "      <td>https://www.airbnb.com/rooms/34203528</td>\n",
              "      <td>2982363</td>\n",
              "      <td>Hut</td>\n",
              "      <td>f</td>\n",
              "      <td>8.0</td>\n",
              "      <td>Ealing</td>\n",
              "      <td>51.520270</td>\n",
              "      <td>-0.258610</td>\n",
              "      <td>Entire home/apt</td>\n",
              "      <td>...</td>\n",
              "      <td>54</td>\n",
              "      <td>0</td>\n",
              "      <td>4.61</td>\n",
              "      <td>4.80</td>\n",
              "      <td>4.85</td>\n",
              "      <td>4.80</td>\n",
              "      <td>4.83</td>\n",
              "      <td>4.65</td>\n",
              "      <td>4.72</td>\n",
              "      <td>0.91</td>\n",
              "    </tr>\n",
              "    <tr>\n",
              "      <th>35958</th>\n",
              "      <td>41195510</td>\n",
              "      <td>https://www.airbnb.com/rooms/41195510</td>\n",
              "      <td>97622499</td>\n",
              "      <td>Private room in yurt</td>\n",
              "      <td>f</td>\n",
              "      <td>7.0</td>\n",
              "      <td>Southwark</td>\n",
              "      <td>51.478210</td>\n",
              "      <td>-0.060460</td>\n",
              "      <td>Private room</td>\n",
              "      <td>...</td>\n",
              "      <td>7</td>\n",
              "      <td>0</td>\n",
              "      <td>4.14</td>\n",
              "      <td>4.43</td>\n",
              "      <td>4.43</td>\n",
              "      <td>4.43</td>\n",
              "      <td>4.14</td>\n",
              "      <td>4.29</td>\n",
              "      <td>4.29</td>\n",
              "      <td>0.33</td>\n",
              "    </tr>\n",
              "    <tr>\n",
              "      <th>40062</th>\n",
              "      <td>48583067</td>\n",
              "      <td>https://www.airbnb.com/rooms/48583067</td>\n",
              "      <td>391124223</td>\n",
              "      <td>Tent</td>\n",
              "      <td>f</td>\n",
              "      <td>1.0</td>\n",
              "      <td>Bromley</td>\n",
              "      <td>51.333170</td>\n",
              "      <td>0.098670</td>\n",
              "      <td>Entire home/apt</td>\n",
              "      <td>...</td>\n",
              "      <td>20</td>\n",
              "      <td>0</td>\n",
              "      <td>5.00</td>\n",
              "      <td>4.85</td>\n",
              "      <td>5.00</td>\n",
              "      <td>4.95</td>\n",
              "      <td>5.00</td>\n",
              "      <td>5.00</td>\n",
              "      <td>4.70</td>\n",
              "      <td>0.59</td>\n",
              "    </tr>\n",
              "    <tr>\n",
              "      <th>47874</th>\n",
              "      <td>630686936062751321</td>\n",
              "      <td>https://www.airbnb.com/rooms/630686936062751321</td>\n",
              "      <td>27265294</td>\n",
              "      <td>Island</td>\n",
              "      <td>t</td>\n",
              "      <td>1.0</td>\n",
              "      <td>Richmond upon Thames</td>\n",
              "      <td>51.408840</td>\n",
              "      <td>-0.352022</td>\n",
              "      <td>Entire home/apt</td>\n",
              "      <td>...</td>\n",
              "      <td>31</td>\n",
              "      <td>2</td>\n",
              "      <td>5.00</td>\n",
              "      <td>5.00</td>\n",
              "      <td>5.00</td>\n",
              "      <td>5.00</td>\n",
              "      <td>5.00</td>\n",
              "      <td>5.00</td>\n",
              "      <td>4.97</td>\n",
              "      <td>1.45</td>\n",
              "    </tr>\n",
              "    <tr>\n",
              "      <th>48586</th>\n",
              "      <td>644897391871606650</td>\n",
              "      <td>https://www.airbnb.com/rooms/644897391871606650</td>\n",
              "      <td>35393734</td>\n",
              "      <td>Castle</td>\n",
              "      <td>f</td>\n",
              "      <td>12.0</td>\n",
              "      <td>Westminster</td>\n",
              "      <td>51.508020</td>\n",
              "      <td>-0.123620</td>\n",
              "      <td>Entire home/apt</td>\n",
              "      <td>...</td>\n",
              "      <td>18</td>\n",
              "      <td>0</td>\n",
              "      <td>4.72</td>\n",
              "      <td>4.83</td>\n",
              "      <td>4.72</td>\n",
              "      <td>5.00</td>\n",
              "      <td>4.72</td>\n",
              "      <td>5.00</td>\n",
              "      <td>4.83</td>\n",
              "      <td>0.92</td>\n",
              "    </tr>\n",
              "    <tr>\n",
              "      <th>50199</th>\n",
              "      <td>672164115302913432</td>\n",
              "      <td>https://www.airbnb.com/rooms/672164115302913432</td>\n",
              "      <td>138670016</td>\n",
              "      <td>Tower</td>\n",
              "      <td>f</td>\n",
              "      <td>1.0</td>\n",
              "      <td>Lewisham</td>\n",
              "      <td>51.453092</td>\n",
              "      <td>-0.025647</td>\n",
              "      <td>Entire home/apt</td>\n",
              "      <td>...</td>\n",
              "      <td>18</td>\n",
              "      <td>2</td>\n",
              "      <td>4.83</td>\n",
              "      <td>4.83</td>\n",
              "      <td>4.61</td>\n",
              "      <td>4.89</td>\n",
              "      <td>4.89</td>\n",
              "      <td>4.89</td>\n",
              "      <td>4.72</td>\n",
              "      <td>0.91</td>\n",
              "    </tr>\n",
              "    <tr>\n",
              "      <th>51775</th>\n",
              "      <td>700717231412177117</td>\n",
              "      <td>https://www.airbnb.com/rooms/700717231412177117</td>\n",
              "      <td>34184611</td>\n",
              "      <td>Private room in shepherd's hut</td>\n",
              "      <td>t</td>\n",
              "      <td>1.0</td>\n",
              "      <td>Hillingdon</td>\n",
              "      <td>51.628390</td>\n",
              "      <td>-0.494280</td>\n",
              "      <td>Private room</td>\n",
              "      <td>...</td>\n",
              "      <td>175</td>\n",
              "      <td>13</td>\n",
              "      <td>4.99</td>\n",
              "      <td>4.99</td>\n",
              "      <td>4.95</td>\n",
              "      <td>4.97</td>\n",
              "      <td>5.00</td>\n",
              "      <td>4.95</td>\n",
              "      <td>4.91</td>\n",
              "      <td>9.34</td>\n",
              "    </tr>\n",
              "    <tr>\n",
              "      <th>60805</th>\n",
              "      <td>847169311234239475</td>\n",
              "      <td>https://www.airbnb.com/rooms/847169311234239475</td>\n",
              "      <td>33574431</td>\n",
              "      <td>Shipping container</td>\n",
              "      <td>f</td>\n",
              "      <td>2.0</td>\n",
              "      <td>Waltham Forest</td>\n",
              "      <td>51.569913</td>\n",
              "      <td>-0.039296</td>\n",
              "      <td>Entire home/apt</td>\n",
              "      <td>...</td>\n",
              "      <td>8</td>\n",
              "      <td>4</td>\n",
              "      <td>4.75</td>\n",
              "      <td>4.88</td>\n",
              "      <td>4.75</td>\n",
              "      <td>4.63</td>\n",
              "      <td>4.88</td>\n",
              "      <td>4.50</td>\n",
              "      <td>4.88</td>\n",
              "      <td>0.68</td>\n",
              "    </tr>\n",
              "    <tr>\n",
              "      <th>66758</th>\n",
              "      <td>913533480489781710</td>\n",
              "      <td>https://www.airbnb.com/rooms/913533480489781710</td>\n",
              "      <td>519943584</td>\n",
              "      <td>Treehouse</td>\n",
              "      <td>f</td>\n",
              "      <td>4.0</td>\n",
              "      <td>Westminster</td>\n",
              "      <td>51.526088</td>\n",
              "      <td>-0.194146</td>\n",
              "      <td>Entire home/apt</td>\n",
              "      <td>...</td>\n",
              "      <td>3</td>\n",
              "      <td>0</td>\n",
              "      <td>4.67</td>\n",
              "      <td>4.67</td>\n",
              "      <td>5.00</td>\n",
              "      <td>5.00</td>\n",
              "      <td>5.00</td>\n",
              "      <td>5.00</td>\n",
              "      <td>4.67</td>\n",
              "      <td>0.41</td>\n",
              "    </tr>\n",
              "  </tbody>\n",
              "</table>\n",
              "<p>13 rows × 28 columns</p>\n",
              "</div>"
            ],
            "text/plain": [
              "                    숙소_id                                           숙소_url  \\\n",
              "10147            12937630            https://www.airbnb.com/rooms/12937630   \n",
              "18522            20708040            https://www.airbnb.com/rooms/20708040   \n",
              "28132            31192541            https://www.airbnb.com/rooms/31192541   \n",
              "28470            31681169            https://www.airbnb.com/rooms/31681169   \n",
              "30099            34203528            https://www.airbnb.com/rooms/34203528   \n",
              "35958            41195510            https://www.airbnb.com/rooms/41195510   \n",
              "40062            48583067            https://www.airbnb.com/rooms/48583067   \n",
              "47874  630686936062751321  https://www.airbnb.com/rooms/630686936062751321   \n",
              "48586  644897391871606650  https://www.airbnb.com/rooms/644897391871606650   \n",
              "50199  672164115302913432  https://www.airbnb.com/rooms/672164115302913432   \n",
              "51775  700717231412177117  https://www.airbnb.com/rooms/700717231412177117   \n",
              "60805  847169311234239475  https://www.airbnb.com/rooms/847169311234239475   \n",
              "66758  913533480489781710  https://www.airbnb.com/rooms/913533480489781710   \n",
              "\n",
              "          호스트_id                           숙소_특징 슈퍼호스트  숙소_수  \\\n",
              "10147   70371065                    Earthen home     t   4.0   \n",
              "18522   50500900             Private room in hut     f   2.0   \n",
              "28132  217878975       Private room in farm stay     f   4.0   \n",
              "28470   38234268              Religious building     f   1.0   \n",
              "30099    2982363                             Hut     f   8.0   \n",
              "35958   97622499            Private room in yurt     f   7.0   \n",
              "40062  391124223                            Tent     f   1.0   \n",
              "47874   27265294                          Island     t   1.0   \n",
              "48586   35393734                          Castle     f  12.0   \n",
              "50199  138670016                           Tower     f   1.0   \n",
              "51775   34184611  Private room in shepherd's hut     t   1.0   \n",
              "60805   33574431              Shipping container     f   2.0   \n",
              "66758  519943584                       Treehouse     f   4.0   \n",
              "\n",
              "                      숙소_지역         위도        경도            숙소_유형  ...  리뷰수  \\\n",
              "10147             Greenwich  51.482330  0.014690  Entire home/apt  ...  316   \n",
              "18522              Haringey  51.599550 -0.143220     Private room  ...   65   \n",
              "28132             Southwark  51.453030 -0.067600     Private room  ...    3   \n",
              "28470               Lambeth  51.473510 -0.103800  Entire home/apt  ...    1   \n",
              "30099                Ealing  51.520270 -0.258610  Entire home/apt  ...   54   \n",
              "35958             Southwark  51.478210 -0.060460     Private room  ...    7   \n",
              "40062               Bromley  51.333170  0.098670  Entire home/apt  ...   20   \n",
              "47874  Richmond upon Thames  51.408840 -0.352022  Entire home/apt  ...   31   \n",
              "48586           Westminster  51.508020 -0.123620  Entire home/apt  ...   18   \n",
              "50199              Lewisham  51.453092 -0.025647  Entire home/apt  ...   18   \n",
              "51775            Hillingdon  51.628390 -0.494280     Private room  ...  175   \n",
              "60805        Waltham Forest  51.569913 -0.039296  Entire home/apt  ...    8   \n",
              "66758           Westminster  51.526088 -0.194146  Entire home/apt  ...    3   \n",
              "\n",
              "       30일_리뷰수  리뷰점수  숙소_정확성_리뷰점수 숙소_청결도_리뷰점수  숙소_체크인_리뷰점수  숙소_소통_리뷰점수  \\\n",
              "10147        3  4.87         4.90        4.92         4.96        4.96   \n",
              "18522        0  4.78         4.85        4.35         4.91        4.95   \n",
              "28132        0  4.67         5.00        4.67         5.00        5.00   \n",
              "28470        0  5.00         5.00        5.00         5.00        5.00   \n",
              "30099        0  4.61         4.80        4.85         4.80        4.83   \n",
              "35958        0  4.14         4.43        4.43         4.43        4.14   \n",
              "40062        0  5.00         4.85        5.00         4.95        5.00   \n",
              "47874        2  5.00         5.00        5.00         5.00        5.00   \n",
              "48586        0  4.72         4.83        4.72         5.00        4.72   \n",
              "50199        2  4.83         4.83        4.61         4.89        4.89   \n",
              "51775       13  4.99         4.99        4.95         4.97        5.00   \n",
              "60805        4  4.75         4.88        4.75         4.63        4.88   \n",
              "66758        0  4.67         4.67        5.00         5.00        5.00   \n",
              "\n",
              "       숙소_위치_리뷰점수  숙소_가격_리뷰점수  평균_리뷰수  \n",
              "10147        4.92        4.84    3.31  \n",
              "18522        4.75        4.83    1.01  \n",
              "28132        5.00        4.67    0.06  \n",
              "28470        5.00        5.00    0.17  \n",
              "30099        4.65        4.72    0.91  \n",
              "35958        4.29        4.29    0.33  \n",
              "40062        5.00        4.70    0.59  \n",
              "47874        5.00        4.97    1.45  \n",
              "48586        5.00        4.83    0.92  \n",
              "50199        4.89        4.72    0.91  \n",
              "51775        4.95        4.91    9.34  \n",
              "60805        4.50        4.88    0.68  \n",
              "66758        5.00        4.67    0.41  \n",
              "\n",
              "[13 rows x 28 columns]"
            ]
          },
          "execution_count": 49,
          "metadata": {},
          "output_type": "execute_result"
        }
      ],
      "source": [
        "# 각 값의 개수 계산\n",
        "value_counts = df['숙소_특징'].value_counts()\n",
        "\n",
        "# 개수가 1인 값들만 필터링\n",
        "unique_values = value_counts[value_counts == 1].index\n",
        "\n",
        "# 원래 데이터프레임에서 개수가 1인 값들만 추출\n",
        "filtered_df = df[df['숙소_특징'].isin(unique_values)]\n",
        "\n",
        "filtered_df"
      ]
    },
    {
      "cell_type": "code",
      "execution_count": 50,
      "metadata": {
        "colab": {
          "base_uri": "https://localhost:8080/"
        },
        "id": "IloEyfnrp1S-",
        "outputId": "e239c289-d892-407f-aa7f-6843d640c132"
      },
      "outputs": [
        {
          "data": {
            "text/plain": [
              "10147                      Earthen home\n",
              "18522               Private room in hut\n",
              "28132         Private room in farm stay\n",
              "28470                Religious building\n",
              "30099                               Hut\n",
              "35958              Private room in yurt\n",
              "40062                              Tent\n",
              "47874                            Island\n",
              "48586                            Castle\n",
              "50199                             Tower\n",
              "51775    Private room in shepherd's hut\n",
              "60805                Shipping container\n",
              "66758                         Treehouse\n",
              "Name: 숙소_특징, dtype: object"
            ]
          },
          "execution_count": 50,
          "metadata": {},
          "output_type": "execute_result"
        }
      ],
      "source": [
        "filtered_df['숙소_특징']"
      ]
    },
    {
      "cell_type": "code",
      "execution_count": 51,
      "metadata": {
        "colab": {
          "base_uri": "https://localhost:8080/",
          "height": 488
        },
        "id": "gZSzyZT1kDGh",
        "outputId": "63531903-ecc9-45e2-e31a-542d4c75fee5"
      },
      "outputs": [
        {
          "data": {
            "text/html": [
              "<div>\n",
              "<style scoped>\n",
              "    .dataframe tbody tr th:only-of-type {\n",
              "        vertical-align: middle;\n",
              "    }\n",
              "\n",
              "    .dataframe tbody tr th {\n",
              "        vertical-align: top;\n",
              "    }\n",
              "\n",
              "    .dataframe thead th {\n",
              "        text-align: right;\n",
              "    }\n",
              "</style>\n",
              "<table border=\"1\" class=\"dataframe\">\n",
              "  <thead>\n",
              "    <tr style=\"text-align: right;\">\n",
              "      <th></th>\n",
              "      <th>숙소_특징</th>\n",
              "      <th>숙소_가격</th>\n",
              "    </tr>\n",
              "  </thead>\n",
              "  <tbody>\n",
              "    <tr>\n",
              "      <th>10147</th>\n",
              "      <td>Earthen home</td>\n",
              "      <td>129.0</td>\n",
              "    </tr>\n",
              "    <tr>\n",
              "      <th>18522</th>\n",
              "      <td>Private room in hut</td>\n",
              "      <td>22.0</td>\n",
              "    </tr>\n",
              "    <tr>\n",
              "      <th>28132</th>\n",
              "      <td>Private room in farm stay</td>\n",
              "      <td>98.0</td>\n",
              "    </tr>\n",
              "    <tr>\n",
              "      <th>28470</th>\n",
              "      <td>Religious building</td>\n",
              "      <td>150.0</td>\n",
              "    </tr>\n",
              "    <tr>\n",
              "      <th>30099</th>\n",
              "      <td>Hut</td>\n",
              "      <td>85.0</td>\n",
              "    </tr>\n",
              "    <tr>\n",
              "      <th>35958</th>\n",
              "      <td>Private room in yurt</td>\n",
              "      <td>40.0</td>\n",
              "    </tr>\n",
              "    <tr>\n",
              "      <th>40062</th>\n",
              "      <td>Tent</td>\n",
              "      <td>250.0</td>\n",
              "    </tr>\n",
              "    <tr>\n",
              "      <th>47874</th>\n",
              "      <td>Island</td>\n",
              "      <td>255.0</td>\n",
              "    </tr>\n",
              "    <tr>\n",
              "      <th>48586</th>\n",
              "      <td>Castle</td>\n",
              "      <td>414.0</td>\n",
              "    </tr>\n",
              "    <tr>\n",
              "      <th>50199</th>\n",
              "      <td>Tower</td>\n",
              "      <td>130.0</td>\n",
              "    </tr>\n",
              "    <tr>\n",
              "      <th>51775</th>\n",
              "      <td>Private room in shepherd's hut</td>\n",
              "      <td>221.0</td>\n",
              "    </tr>\n",
              "    <tr>\n",
              "      <th>60805</th>\n",
              "      <td>Shipping container</td>\n",
              "      <td>45.0</td>\n",
              "    </tr>\n",
              "    <tr>\n",
              "      <th>66758</th>\n",
              "      <td>Treehouse</td>\n",
              "      <td>118.0</td>\n",
              "    </tr>\n",
              "  </tbody>\n",
              "</table>\n",
              "</div>"
            ],
            "text/plain": [
              "                                숙소_특징  숙소_가격\n",
              "10147                    Earthen home  129.0\n",
              "18522             Private room in hut   22.0\n",
              "28132       Private room in farm stay   98.0\n",
              "28470              Religious building  150.0\n",
              "30099                             Hut   85.0\n",
              "35958            Private room in yurt   40.0\n",
              "40062                            Tent  250.0\n",
              "47874                          Island  255.0\n",
              "48586                          Castle  414.0\n",
              "50199                           Tower  130.0\n",
              "51775  Private room in shepherd's hut  221.0\n",
              "60805              Shipping container   45.0\n",
              "66758                       Treehouse  118.0"
            ]
          },
          "execution_count": 51,
          "metadata": {},
          "output_type": "execute_result"
        }
      ],
      "source": [
        "filtered_df[['숙소_특징','숙소_가격']]"
      ]
    },
    {
      "cell_type": "code",
      "execution_count": 52,
      "metadata": {
        "colab": {
          "base_uri": "https://localhost:8080/"
        },
        "id": "JkpBE75iuark",
        "outputId": "4cec825e-af02-463a-fa27-ff1f94dbd662"
      },
      "outputs": [
        {
          "data": {
            "text/plain": [
              "(40617, 28)"
            ]
          },
          "execution_count": 52,
          "metadata": {},
          "output_type": "execute_result"
        }
      ],
      "source": [
        "# 제거할 값들 리스트\n",
        "values_to_remove = ['Houseboat', 'Private room in houseboat', 'Private room in yurt', 'Boat', 'Private room in boat', \\\n",
        "                    'Earthen home', 'Private room in hut', 'Private room in farm stay', 'Religious building', 'Hut', 'Tent', \\\n",
        "                    'Island', 'Tower', 'Private room in shepherd\\'s hut', 'Shipping container', 'Treehouse']\n",
        "\n",
        "# 필터링 조건\n",
        "condition = df_clean['숙소_특징'].isin(values_to_remove)\n",
        "\n",
        "# 행 제거\n",
        "df = df_clean[~condition]\n",
        "\n",
        "# 결과 출력\n",
        "df.shape"
      ]
    },
    {
      "cell_type": "code",
      "execution_count": 53,
      "metadata": {
        "colab": {
          "base_uri": "https://localhost:8080/"
        },
        "id": "DoKliLVXus8k",
        "outputId": "0f876f1d-ff76-481b-a379-a962a9837e81"
      },
      "outputs": [
        {
          "data": {
            "text/plain": [
              "count    40617.000000\n",
              "mean       132.355245\n",
              "std         78.919506\n",
              "min          0.000000\n",
              "25%         69.000000\n",
              "50%        116.000000\n",
              "75%        177.000000\n",
              "max        381.000000\n",
              "Name: 숙소_가격, dtype: float64"
            ]
          },
          "execution_count": 53,
          "metadata": {},
          "output_type": "execute_result"
        }
      ],
      "source": [
        "df['숙소_가격'].describe(include='all')"
      ]
    },
    {
      "cell_type": "code",
      "execution_count": 54,
      "metadata": {
        "colab": {
          "base_uri": "https://localhost:8080/"
        },
        "id": "sC1YIcMMiUyn",
        "outputId": "4087af88-7479-400d-cc76-18dbf0c6c324"
      },
      "outputs": [
        {
          "data": {
            "text/plain": [
              "숙소_가격  숙소_유형            숙소_특징                      \n",
              "200.0  Entire home/apt  Entire rental unit             280\n",
              "250.0  Entire home/apt  Entire rental unit             214\n",
              "180.0  Entire home/apt  Entire rental unit             199\n",
              "300.0  Entire home/apt  Entire rental unit             134\n",
              "200.0  Entire home/apt  Entire home                    127\n",
              "                                                      ... \n",
              "252.0  Entire home/apt  Entire loft                      1\n",
              "                        Entire serviced apartment        1\n",
              "       Private room     Private room in rental unit      1\n",
              "253.0  Entire home/apt  Entire vacation home             1\n",
              "381.0  Entire home/apt  Entire townhouse                 1\n",
              "Name: count, Length: 1206, dtype: int64"
            ]
          },
          "execution_count": 54,
          "metadata": {},
          "output_type": "execute_result"
        }
      ],
      "source": [
        "df[(df['숙소_가격'] >= 177.0)][['숙소_가격','숙소_유형','숙소_특징']].value_counts() # 1209개\n"
      ]
    },
    {
      "cell_type": "code",
      "execution_count": 55,
      "metadata": {
        "colab": {
          "base_uri": "https://localhost:8080/"
        },
        "id": "UYicUgAthQNx",
        "outputId": "9e890171-88df-4eaf-ae23-c641e3e0055c"
      },
      "outputs": [
        {
          "data": {
            "text/plain": [
              "숙소_가격  숙소_유형            숙소_특징               \n",
              "150.0  Entire home/apt  Entire rental unit      388\n",
              "120.0  Entire home/apt  Entire rental unit      385\n",
              "130.0  Entire home/apt  Entire rental unit      299\n",
              "140.0  Entire home/apt  Entire rental unit      249\n",
              "125.0  Entire home/apt  Entire rental unit      198\n",
              "                                               ... \n",
              "145.0  Entire home/apt  Entire vacation home      1\n",
              "121.0  Entire home/apt  Entire townhouse          1\n",
              "145.0  Entire home/apt  Entire loft               1\n",
              "                        Entire guest suite        1\n",
              "176.0  Private room     Room in hotel             1\n",
              "Name: count, Length: 696, dtype: int64"
            ]
          },
          "execution_count": 55,
          "metadata": {},
          "output_type": "execute_result"
        }
      ],
      "source": [
        "df[(df['숙소_가격'] >= 116.0) & (df['숙소_가격'] < 177.0)][['숙소_가격','숙소_유형','숙소_특징']].value_counts() # 700개"
      ]
    },
    {
      "cell_type": "code",
      "execution_count": 56,
      "metadata": {
        "colab": {
          "base_uri": "https://localhost:8080/"
        },
        "id": "YTMlfawGhqwn",
        "outputId": "347310ee-2d57-4a6e-967a-811125f1980a"
      },
      "outputs": [
        {
          "data": {
            "text/plain": [
              "숙소_가격  숙소_유형            숙소_특징                             \n",
              "100.0  Entire home/apt  Entire rental unit                    324\n",
              "110.0  Entire home/apt  Entire rental unit                    277\n",
              "90.0   Entire home/apt  Entire rental unit                    214\n",
              "95.0   Entire home/apt  Entire rental unit                    171\n",
              "80.0   Entire home/apt  Entire rental unit                    169\n",
              "                                                             ... \n",
              "90.0   Private room     Private room in villa                   1\n",
              "71.0   Private room     Room in hotel                           1\n",
              "104.0  Entire home/apt  Entire townhouse                        1\n",
              "90.0   Entire home/apt  Tiny home                               1\n",
              "80.0   Private room     Private room in serviced apartment      1\n",
              "Name: count, Length: 755, dtype: int64"
            ]
          },
          "execution_count": 56,
          "metadata": {},
          "output_type": "execute_result"
        }
      ],
      "source": [
        "df[(df['숙소_가격'] >= 69.0) & (df['숙소_가격'] < 116.0)][['숙소_가격','숙소_유형','숙소_특징']].value_counts() # 757개\n"
      ]
    },
    {
      "cell_type": "code",
      "execution_count": 57,
      "metadata": {
        "colab": {
          "base_uri": "https://localhost:8080/"
        },
        "id": "t6v9TcaSirnb",
        "outputId": "1ee141f5-c223-4b2e-b7f8-a8ee0e126d17"
      },
      "outputs": [
        {
          "data": {
            "text/plain": [
              "숙소_가격  숙소_유형            숙소_특징                            \n",
              "150.0  Entire home/apt  Entire rental unit                   388\n",
              "120.0  Entire home/apt  Entire rental unit                   385\n",
              "100.0  Entire home/apt  Entire rental unit                   324\n",
              "130.0  Entire home/apt  Entire rental unit                   299\n",
              "200.0  Entire home/apt  Entire rental unit                   280\n",
              "                                                            ... \n",
              "165.0  Private room     Private room in home                   1\n",
              "                        Private room in bed and breakfast      1\n",
              "       Entire home/apt  Room in aparthotel                     1\n",
              "                        Entire loft                            1\n",
              "381.0  Entire home/apt  Entire townhouse                       1\n",
              "Name: count, Length: 2657, dtype: int64"
            ]
          },
          "execution_count": 57,
          "metadata": {},
          "output_type": "execute_result"
        }
      ],
      "source": [
        "df[(df['숙소_가격'] >= 69.0)][['숙소_가격','숙소_유형','숙소_특징']].value_counts() # 2666개\n"
      ]
    }
  ],
  "metadata": {
    "accelerator": "GPU",
    "colab": {
      "gpuType": "T4",
      "provenance": []
    },
    "kernelspec": {
      "display_name": "Python 3",
      "name": "python3"
    },
    "language_info": {
      "codemirror_mode": {
        "name": "ipython",
        "version": 3
      },
      "file_extension": ".py",
      "mimetype": "text/x-python",
      "name": "python",
      "nbconvert_exporter": "python",
      "pygments_lexer": "ipython3",
      "version": "3.11.7"
    }
  },
  "nbformat": 4,
  "nbformat_minor": 0
}
