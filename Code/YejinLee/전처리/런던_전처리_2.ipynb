{
 "cells": [
  {
   "cell_type": "code",
   "execution_count": 946,
   "metadata": {},
   "outputs": [],
   "source": [
    "# !pip install matplotlib\n",
    "# !pip install pandas\n",
    "# !pip install seaborn\n",
    "# !pip install numpy \n"
   ]
  },
  {
   "cell_type": "code",
   "execution_count": 947,
   "metadata": {},
   "outputs": [],
   "source": [
    "import numpy as np\n",
    "import pandas as pd\n",
    "import matplotlib.pyplot as plt\n",
    "\n",
    "path = '../data/Airbnb_London/listings.csv'"
   ]
  },
  {
   "cell_type": "code",
   "execution_count": 948,
   "metadata": {},
   "outputs": [],
   "source": [
    "# matplotlib 한글 폰트 오류 문제 해결\n",
    "from matplotlib import font_manager, rc\n",
    "import matplotlib as mpl\n",
    "font_path = '../data/malgun.ttf'\n",
    "font_name = font_manager.FontProperties(fname=font_path).get_name()\n",
    "rc('font', family=font_name)\n",
    "# 마이너스 깨짐 현상 해결\n",
    "mpl.rcParams['axes.unicode_minus'] = False"
   ]
  },
  {
   "cell_type": "code",
   "execution_count": 949,
   "metadata": {},
   "outputs": [],
   "source": [
    "df = pd.read_csv(path)\n",
    "df = pd.DataFrame(df)"
   ]
  },
  {
   "cell_type": "code",
   "execution_count": 950,
   "metadata": {},
   "outputs": [],
   "source": [
    "dat = df.copy()"
   ]
  },
  {
   "cell_type": "markdown",
   "metadata": {},
   "source": [
    "<h3>필요한 컬럼 가져오기(32개) <h3> "
   ]
  },
  {
   "cell_type": "code",
   "execution_count": 951,
   "metadata": {},
   "outputs": [
    {
     "data": {
      "text/plain": [
       "Index(['id', 'listing_url', 'scrape_id', 'last_scraped', 'source', 'name',\n",
       "       'description', 'neighborhood_overview', 'picture_url', 'host_id',\n",
       "       'host_url', 'host_name', 'host_since', 'host_location', 'host_about',\n",
       "       'host_response_time', 'host_response_rate', 'host_acceptance_rate',\n",
       "       'host_is_superhost', 'host_thumbnail_url', 'host_picture_url',\n",
       "       'host_neighbourhood', 'host_listings_count',\n",
       "       'host_total_listings_count', 'host_verifications',\n",
       "       'host_has_profile_pic', 'host_identity_verified', 'neighbourhood',\n",
       "       'neighbourhood_cleansed', 'neighbourhood_group_cleansed', 'latitude',\n",
       "       'longitude', 'property_type', 'room_type', 'accommodates', 'bathrooms',\n",
       "       'bathrooms_text', 'bedrooms', 'beds', 'amenities', 'price',\n",
       "       'minimum_nights', 'maximum_nights', 'minimum_minimum_nights',\n",
       "       'maximum_minimum_nights', 'minimum_maximum_nights',\n",
       "       'maximum_maximum_nights', 'minimum_nights_avg_ntm',\n",
       "       'maximum_nights_avg_ntm', 'calendar_updated', 'has_availability',\n",
       "       'availability_30', 'availability_60', 'availability_90',\n",
       "       'availability_365', 'calendar_last_scraped', 'number_of_reviews',\n",
       "       'number_of_reviews_ltm', 'number_of_reviews_l30d', 'first_review',\n",
       "       'last_review', 'review_scores_rating', 'review_scores_accuracy',\n",
       "       'review_scores_cleanliness', 'review_scores_checkin',\n",
       "       'review_scores_communication', 'review_scores_location',\n",
       "       'review_scores_value', 'license', 'instant_bookable',\n",
       "       'calculated_host_listings_count',\n",
       "       'calculated_host_listings_count_entire_homes',\n",
       "       'calculated_host_listings_count_private_rooms',\n",
       "       'calculated_host_listings_count_shared_rooms', 'reviews_per_month'],\n",
       "      dtype='object')"
      ]
     },
     "execution_count": 951,
     "metadata": {},
     "output_type": "execute_result"
    }
   ],
   "source": [
    "dat.columns"
   ]
  },
  {
   "cell_type": "code",
   "execution_count": 952,
   "metadata": {},
   "outputs": [
    {
     "data": {
      "text/plain": [
       "0        2024-03-21\n",
       "1        2024-03-20\n",
       "2        2024-03-20\n",
       "3        2024-03-20\n",
       "4        2024-03-21\n",
       "            ...    \n",
       "90847    2024-03-19\n",
       "90848    2024-03-19\n",
       "90849    2024-03-21\n",
       "90850    2024-03-20\n",
       "90851    2024-03-19\n",
       "Name: last_scraped, Length: 90852, dtype: object"
      ]
     },
     "execution_count": 952,
     "metadata": {},
     "output_type": "execute_result"
    }
   ],
   "source": [
    "dat['last_scraped']"
   ]
  },
  {
   "cell_type": "code",
   "execution_count": 953,
   "metadata": {},
   "outputs": [
    {
     "data": {
      "text/html": [
       "<div>\n",
       "<style scoped>\n",
       "    .dataframe tbody tr th:only-of-type {\n",
       "        vertical-align: middle;\n",
       "    }\n",
       "\n",
       "    .dataframe tbody tr th {\n",
       "        vertical-align: top;\n",
       "    }\n",
       "\n",
       "    .dataframe thead th {\n",
       "        text-align: right;\n",
       "    }\n",
       "</style>\n",
       "<table border=\"1\" class=\"dataframe\">\n",
       "  <thead>\n",
       "    <tr style=\"text-align: right;\">\n",
       "      <th></th>\n",
       "      <th>id</th>\n",
       "      <th>listing_url</th>\n",
       "      <th>description</th>\n",
       "      <th>host_id</th>\n",
       "      <th>host_has_profile_pic</th>\n",
       "      <th>host_identity_verified</th>\n",
       "      <th>host_is_superhost</th>\n",
       "      <th>host_total_listings_count</th>\n",
       "      <th>neighbourhood_cleansed</th>\n",
       "      <th>latitude</th>\n",
       "      <th>...</th>\n",
       "      <th>number_of_reviews</th>\n",
       "      <th>number_of_reviews_l30d</th>\n",
       "      <th>review_scores_rating</th>\n",
       "      <th>review_scores_accuracy</th>\n",
       "      <th>review_scores_cleanliness</th>\n",
       "      <th>review_scores_checkin</th>\n",
       "      <th>review_scores_communication</th>\n",
       "      <th>review_scores_location</th>\n",
       "      <th>review_scores_value</th>\n",
       "      <th>reviews_per_month</th>\n",
       "    </tr>\n",
       "  </thead>\n",
       "  <tbody>\n",
       "    <tr>\n",
       "      <th>0</th>\n",
       "      <td>312761</td>\n",
       "      <td>https://www.airbnb.com/rooms/312761</td>\n",
       "      <td>Very central location, in the middle of Shored...</td>\n",
       "      <td>1608226</td>\n",
       "      <td>t</td>\n",
       "      <td>t</td>\n",
       "      <td>t</td>\n",
       "      <td>3.0</td>\n",
       "      <td>Hackney</td>\n",
       "      <td>51.52704</td>\n",
       "      <td>...</td>\n",
       "      <td>122</td>\n",
       "      <td>0</td>\n",
       "      <td>4.96</td>\n",
       "      <td>4.97</td>\n",
       "      <td>4.93</td>\n",
       "      <td>4.96</td>\n",
       "      <td>5.00</td>\n",
       "      <td>4.89</td>\n",
       "      <td>4.93</td>\n",
       "      <td>0.86</td>\n",
       "    </tr>\n",
       "    <tr>\n",
       "      <th>1</th>\n",
       "      <td>13913</td>\n",
       "      <td>https://www.airbnb.com/rooms/13913</td>\n",
       "      <td>My bright double bedroom with a large window h...</td>\n",
       "      <td>54730</td>\n",
       "      <td>t</td>\n",
       "      <td>t</td>\n",
       "      <td>t</td>\n",
       "      <td>5.0</td>\n",
       "      <td>Islington</td>\n",
       "      <td>51.56861</td>\n",
       "      <td>...</td>\n",
       "      <td>41</td>\n",
       "      <td>0</td>\n",
       "      <td>4.80</td>\n",
       "      <td>4.73</td>\n",
       "      <td>4.73</td>\n",
       "      <td>4.75</td>\n",
       "      <td>4.83</td>\n",
       "      <td>4.70</td>\n",
       "      <td>4.70</td>\n",
       "      <td>0.25</td>\n",
       "    </tr>\n",
       "    <tr>\n",
       "      <th>2</th>\n",
       "      <td>15400</td>\n",
       "      <td>https://www.airbnb.com/rooms/15400</td>\n",
       "      <td>Lots of windows and light.  St Luke's Gardens ...</td>\n",
       "      <td>60302</td>\n",
       "      <td>t</td>\n",
       "      <td>t</td>\n",
       "      <td>f</td>\n",
       "      <td>1.0</td>\n",
       "      <td>Kensington and Chelsea</td>\n",
       "      <td>51.48780</td>\n",
       "      <td>...</td>\n",
       "      <td>94</td>\n",
       "      <td>0</td>\n",
       "      <td>4.80</td>\n",
       "      <td>4.85</td>\n",
       "      <td>4.88</td>\n",
       "      <td>4.88</td>\n",
       "      <td>4.83</td>\n",
       "      <td>4.93</td>\n",
       "      <td>4.74</td>\n",
       "      <td>0.54</td>\n",
       "    </tr>\n",
       "  </tbody>\n",
       "</table>\n",
       "<p>3 rows × 31 columns</p>\n",
       "</div>"
      ],
      "text/plain": [
       "       id                          listing_url  \\\n",
       "0  312761  https://www.airbnb.com/rooms/312761   \n",
       "1   13913   https://www.airbnb.com/rooms/13913   \n",
       "2   15400   https://www.airbnb.com/rooms/15400   \n",
       "\n",
       "                                         description  host_id  \\\n",
       "0  Very central location, in the middle of Shored...  1608226   \n",
       "1  My bright double bedroom with a large window h...    54730   \n",
       "2  Lots of windows and light.  St Luke's Gardens ...    60302   \n",
       "\n",
       "  host_has_profile_pic host_identity_verified host_is_superhost  \\\n",
       "0                    t                      t                 t   \n",
       "1                    t                      t                 t   \n",
       "2                    t                      t                 f   \n",
       "\n",
       "   host_total_listings_count  neighbourhood_cleansed  latitude  ...  \\\n",
       "0                        3.0                 Hackney  51.52704  ...   \n",
       "1                        5.0               Islington  51.56861  ...   \n",
       "2                        1.0  Kensington and Chelsea  51.48780  ...   \n",
       "\n",
       "   number_of_reviews number_of_reviews_l30d  review_scores_rating  \\\n",
       "0                122                      0                  4.96   \n",
       "1                 41                      0                  4.80   \n",
       "2                 94                      0                  4.80   \n",
       "\n",
       "   review_scores_accuracy  review_scores_cleanliness  review_scores_checkin  \\\n",
       "0                    4.97                       4.93                   4.96   \n",
       "1                    4.73                       4.73                   4.75   \n",
       "2                    4.85                       4.88                   4.88   \n",
       "\n",
       "  review_scores_communication review_scores_location review_scores_value  \\\n",
       "0                        5.00                   4.89                4.93   \n",
       "1                        4.83                   4.70                4.70   \n",
       "2                        4.83                   4.93                4.74   \n",
       "\n",
       "   reviews_per_month  \n",
       "0               0.86  \n",
       "1               0.25  \n",
       "2               0.54  \n",
       "\n",
       "[3 rows x 31 columns]"
      ]
     },
     "execution_count": 953,
     "metadata": {},
     "output_type": "execute_result"
    }
   ],
   "source": [
    "#필요한 컬럼 가져오기 \n",
    "selected_columns = ['id','listing_url','description','host_id','host_has_profile_pic',\n",
    "                    'host_identity_verified','host_is_superhost','host_total_listings_count','neighbourhood_cleansed','latitude',\n",
    "                    'longitude','room_type','accommodates','bathrooms','bedrooms','beds','amenities','price','has_availability',\n",
    "                    'minimum_nights','maximum_nights','number_of_reviews','number_of_reviews_l30d',\n",
    "                    'review_scores_rating','review_scores_accuracy','review_scores_cleanliness',\n",
    "                    'review_scores_checkin','review_scores_communication','review_scores_location',\n",
    "                    'review_scores_value','reviews_per_month']\n",
    "df = df[selected_columns]\n",
    "\n",
    "df.head(3)\n"
   ]
  },
  {
   "cell_type": "markdown",
   "metadata": {},
   "source": [
    "<h3>필요한 컬럼명 변경<h3>"
   ]
  },
  {
   "cell_type": "markdown",
   "metadata": {},
   "source": [
    "컬렴명 변경 \n",
    "\n",
    "- 'id' : '숙소 id'\n",
    "- 'listing_url' : '숙소 url'\n",
    "- 'description' : '숙소상세설명'\n",
    "- 'host_id' : '호스트 id'\n",
    "- 'host_is_superhost' : '슈퍼호스트 여부'\n",
    "- 'host_has_profile_pic' : '프로필사진_소유_여부'\n",
    "- 'host_identity_verified' : '신원검증_여부'\n",
    "- 'latitude' : '위도'\n",
    "- 'longitude' : '경도'\n",
    "- 'has_availability' : '숙소_예약가능_여부'\n",
    "- 'host_total_listings_count' : '등록한 총 숙소 수'\n",
    "- 'neighbourhood_cleansed' : '클린된 숙소 구'\n",
    "- 'room_type' : '룸 유형'\n",
    "- 'accommodates' : '수용 인원수'\n",
    "- 'bathrooms' : '욕실수'\n",
    "- 'bedrooms' : '침실수'\n",
    "- 'beds' : '침대수'\n",
    "- 'amenities' : '어메니티'\n",
    "- 'price' : '숙소 가격'\n",
    "- 'minimum_nights' : '최소 숙박일'\n",
    "- 'maximum_nights' : '최대 숙박일'\n",
    "- 'number_of_reviews' : '총 리뷰수'\n",
    "- 'number_of_reviews_l30d' : '한달치 리뷰수'\n",
    "- 'review_scores_rating' : '리뷰 총점수'\n",
    "- 'review_scores_accuracy' : '리뷰점수(숙소정보 정확성 )'\n",
    "- 'review_scores_cleanliness' : '리뷰점수(청결함)'\n",
    "- 'review_scores_checkin' : '리뷰점수(체크인과정)'\n",
    "- 'review_scores_communication' : '리뷰점수(호스트와 소통)'\n",
    "- 'review_scores_location' : '리뷰점수(숙소위치)'\n",
    "- 'review_scores_value' : '리뷰점수(숙소가격)'\n",
    "- 'reviews_per_month' : '월별 평균 리뷰수'"
   ]
  },
  {
   "cell_type": "code",
   "execution_count": 954,
   "metadata": {},
   "outputs": [],
   "source": [
    "#컬럼명 변경 \n",
    "df = df.rename(columns={\n",
    "    'id' : '숙소_id',\n",
    "    'listing_url' : '숙소_url',\n",
    "    'description' : '숙소_상세설명',\n",
    "    'host_id' : '호스트_id',\n",
    "    'host_is_superhost' : '슈퍼호스트',\n",
    "    'host_total_listings_count' : '숙소_수',\n",
    "    'host_has_profile_pic' : '프로필사진_소지_여부',\n",
    "    'host_identity_verified' : '신원_검증_여부',\n",
    "    'neighbourhood_cleansed' : '숙소_지역',\n",
    "    'latitude' : '위도',\n",
    "    'longitude' : '경도',\n",
    "    'room_type' : '숙소_유형',\n",
    "    'accommodates' : '수용인원수',\n",
    "    'bathrooms' : '욕실수',\n",
    "    'bedrooms' : '침실수',\n",
    "    'beds' : '침대수',\n",
    "    'amenities' : '어메니티',\n",
    "    'price' : '숙소_가격',\n",
    "    'minimum_nights' : '최소_숙박일',\n",
    "    'maximum_nights' : '최대_숙박일',\n",
    "    'minimum_maximum_nights' : '적은_최대_숙박일',\n",
    "    'maximum_maximum_nights' : '많은_최대_숙박일',\n",
    "    'has_availability' : '숙소_예약가능_여부',\n",
    "    'number_of_reviews' : '리뷰수',\n",
    "    'number_of_reviews_l30d' : '30일_리뷰수',\n",
    "    'review_scores_rating' : '리뷰점수',\n",
    "    'review_scores_accuracy' : '숙소_정확성_리뷰점수',\n",
    "    'review_scores_cleanliness' : '숙소_청결도_리뷰점수',\n",
    "    'review_scores_checkin' : '숙소_체크인_리뷰점수',\n",
    "    'review_scores_communication' : '숙소_소통_리뷰점수',\n",
    "    'review_scores_location' : '숙소_위치_리뷰점수',\n",
    "    'review_scores_value' : '숙소_가격_리뷰점수',\n",
    "    'reviews_per_month' : '평균_리뷰수'\n",
    "})"
   ]
  },
  {
   "cell_type": "markdown",
   "metadata": {},
   "source": [
    "<h3>주제별 컬럼 분류<h3><br>\n",
    "\n",
    "숙소/숙박 컬럼 (25개) - 리뷰 컬럼(10개)"
   ]
  },
  {
   "cell_type": "code",
   "execution_count": 955,
   "metadata": {},
   "outputs": [
    {
     "data": {
      "text/html": [
       "<div>\n",
       "<style scoped>\n",
       "    .dataframe tbody tr th:only-of-type {\n",
       "        vertical-align: middle;\n",
       "    }\n",
       "\n",
       "    .dataframe tbody tr th {\n",
       "        vertical-align: top;\n",
       "    }\n",
       "\n",
       "    .dataframe thead th {\n",
       "        text-align: right;\n",
       "    }\n",
       "</style>\n",
       "<table border=\"1\" class=\"dataframe\">\n",
       "  <thead>\n",
       "    <tr style=\"text-align: right;\">\n",
       "      <th></th>\n",
       "      <th>id</th>\n",
       "      <th>listing_url</th>\n",
       "      <th>host_id</th>\n",
       "      <th>host_is_superhost</th>\n",
       "      <th>host_total_listings_count</th>\n",
       "      <th>neighbourhood_cleansed</th>\n",
       "      <th>room_type</th>\n",
       "      <th>accommodates</th>\n",
       "      <th>bathrooms</th>\n",
       "      <th>bedrooms</th>\n",
       "      <th>beds</th>\n",
       "      <th>amenities</th>\n",
       "      <th>price</th>\n",
       "      <th>minimum_nights</th>\n",
       "      <th>maximum_nights</th>\n",
       "    </tr>\n",
       "  </thead>\n",
       "  <tbody>\n",
       "    <tr>\n",
       "      <th>0</th>\n",
       "      <td>312761</td>\n",
       "      <td>https://www.airbnb.com/rooms/312761</td>\n",
       "      <td>1608226</td>\n",
       "      <td>t</td>\n",
       "      <td>3.0</td>\n",
       "      <td>Hackney</td>\n",
       "      <td>Entire home/apt</td>\n",
       "      <td>2</td>\n",
       "      <td>1.0</td>\n",
       "      <td>1.0</td>\n",
       "      <td>1.0</td>\n",
       "      <td>[\"Toaster\", \"Room-darkening shades\", \"Coffee m...</td>\n",
       "      <td>$160.00</td>\n",
       "      <td>9</td>\n",
       "      <td>180</td>\n",
       "    </tr>\n",
       "    <tr>\n",
       "      <th>1</th>\n",
       "      <td>13913</td>\n",
       "      <td>https://www.airbnb.com/rooms/13913</td>\n",
       "      <td>54730</td>\n",
       "      <td>t</td>\n",
       "      <td>5.0</td>\n",
       "      <td>Islington</td>\n",
       "      <td>Private room</td>\n",
       "      <td>1</td>\n",
       "      <td>1.0</td>\n",
       "      <td>1.0</td>\n",
       "      <td>1.0</td>\n",
       "      <td>[\"Toaster\", \"Room-darkening shades\", \"Shampoo\"...</td>\n",
       "      <td>$65.00</td>\n",
       "      <td>1</td>\n",
       "      <td>29</td>\n",
       "    </tr>\n",
       "    <tr>\n",
       "      <th>2</th>\n",
       "      <td>15400</td>\n",
       "      <td>https://www.airbnb.com/rooms/15400</td>\n",
       "      <td>60302</td>\n",
       "      <td>f</td>\n",
       "      <td>1.0</td>\n",
       "      <td>Kensington and Chelsea</td>\n",
       "      <td>Entire home/apt</td>\n",
       "      <td>2</td>\n",
       "      <td>1.0</td>\n",
       "      <td>1.0</td>\n",
       "      <td>1.0</td>\n",
       "      <td>[\"Shampoo\", \"Wifi\", \"Fire extinguisher\", \"Lugg...</td>\n",
       "      <td>$120.00</td>\n",
       "      <td>4</td>\n",
       "      <td>30</td>\n",
       "    </tr>\n",
       "  </tbody>\n",
       "</table>\n",
       "</div>"
      ],
      "text/plain": [
       "       id                          listing_url  host_id host_is_superhost  \\\n",
       "0  312761  https://www.airbnb.com/rooms/312761  1608226                 t   \n",
       "1   13913   https://www.airbnb.com/rooms/13913    54730                 t   \n",
       "2   15400   https://www.airbnb.com/rooms/15400    60302                 f   \n",
       "\n",
       "   host_total_listings_count  neighbourhood_cleansed        room_type  \\\n",
       "0                        3.0                 Hackney  Entire home/apt   \n",
       "1                        5.0               Islington     Private room   \n",
       "2                        1.0  Kensington and Chelsea  Entire home/apt   \n",
       "\n",
       "   accommodates  bathrooms  bedrooms  beds  \\\n",
       "0             2        1.0       1.0   1.0   \n",
       "1             1        1.0       1.0   1.0   \n",
       "2             2        1.0       1.0   1.0   \n",
       "\n",
       "                                           amenities    price  minimum_nights  \\\n",
       "0  [\"Toaster\", \"Room-darkening shades\", \"Coffee m...  $160.00               9   \n",
       "1  [\"Toaster\", \"Room-darkening shades\", \"Shampoo\"...   $65.00               1   \n",
       "2  [\"Shampoo\", \"Wifi\", \"Fire extinguisher\", \"Lugg...  $120.00               4   \n",
       "\n",
       "   maximum_nights  \n",
       "0             180  \n",
       "1              29  \n",
       "2              30  "
      ]
     },
     "execution_count": 955,
     "metadata": {},
     "output_type": "execute_result"
    }
   ],
   "source": [
    "#숙소/숙박관련 컬럼\n",
    "\n",
    "df_lodging = dat[['id', 'listing_url','host_id','host_is_superhost',\n",
    "                  'host_total_listings_count','neighbourhood_cleansed','room_type','accommodates','bathrooms','bedrooms',\n",
    "                  'beds','amenities','price','minimum_nights','maximum_nights']]\n",
    "df_lodging.head(3)"
   ]
  },
  {
   "cell_type": "code",
   "execution_count": 956,
   "metadata": {},
   "outputs": [
    {
     "data": {
      "text/html": [
       "<div>\n",
       "<style scoped>\n",
       "    .dataframe tbody tr th:only-of-type {\n",
       "        vertical-align: middle;\n",
       "    }\n",
       "\n",
       "    .dataframe tbody tr th {\n",
       "        vertical-align: top;\n",
       "    }\n",
       "\n",
       "    .dataframe thead th {\n",
       "        text-align: right;\n",
       "    }\n",
       "</style>\n",
       "<table border=\"1\" class=\"dataframe\">\n",
       "  <thead>\n",
       "    <tr style=\"text-align: right;\">\n",
       "      <th></th>\n",
       "      <th>숙소_id</th>\n",
       "      <th>숙소_url</th>\n",
       "      <th>호스트_id</th>\n",
       "      <th>슈퍼호스트</th>\n",
       "      <th>숙소_수</th>\n",
       "      <th>숙소_지역</th>\n",
       "      <th>숙소_유형</th>\n",
       "      <th>수용인원수</th>\n",
       "      <th>욕실수</th>\n",
       "      <th>침실수</th>\n",
       "      <th>침대수</th>\n",
       "      <th>편의시설</th>\n",
       "      <th>숙소_가격</th>\n",
       "      <th>최소_숙박일</th>\n",
       "      <th>최대_숙박일</th>\n",
       "    </tr>\n",
       "  </thead>\n",
       "  <tbody>\n",
       "    <tr>\n",
       "      <th>0</th>\n",
       "      <td>312761</td>\n",
       "      <td>https://www.airbnb.com/rooms/312761</td>\n",
       "      <td>1608226</td>\n",
       "      <td>t</td>\n",
       "      <td>3.0</td>\n",
       "      <td>Hackney</td>\n",
       "      <td>Entire home/apt</td>\n",
       "      <td>2</td>\n",
       "      <td>1.0</td>\n",
       "      <td>1.0</td>\n",
       "      <td>1.0</td>\n",
       "      <td>[\"Toaster\", \"Room-darkening shades\", \"Coffee m...</td>\n",
       "      <td>$160.00</td>\n",
       "      <td>9</td>\n",
       "      <td>180</td>\n",
       "    </tr>\n",
       "    <tr>\n",
       "      <th>1</th>\n",
       "      <td>13913</td>\n",
       "      <td>https://www.airbnb.com/rooms/13913</td>\n",
       "      <td>54730</td>\n",
       "      <td>t</td>\n",
       "      <td>5.0</td>\n",
       "      <td>Islington</td>\n",
       "      <td>Private room</td>\n",
       "      <td>1</td>\n",
       "      <td>1.0</td>\n",
       "      <td>1.0</td>\n",
       "      <td>1.0</td>\n",
       "      <td>[\"Toaster\", \"Room-darkening shades\", \"Shampoo\"...</td>\n",
       "      <td>$65.00</td>\n",
       "      <td>1</td>\n",
       "      <td>29</td>\n",
       "    </tr>\n",
       "    <tr>\n",
       "      <th>2</th>\n",
       "      <td>15400</td>\n",
       "      <td>https://www.airbnb.com/rooms/15400</td>\n",
       "      <td>60302</td>\n",
       "      <td>f</td>\n",
       "      <td>1.0</td>\n",
       "      <td>Kensington and Chelsea</td>\n",
       "      <td>Entire home/apt</td>\n",
       "      <td>2</td>\n",
       "      <td>1.0</td>\n",
       "      <td>1.0</td>\n",
       "      <td>1.0</td>\n",
       "      <td>[\"Shampoo\", \"Wifi\", \"Fire extinguisher\", \"Lugg...</td>\n",
       "      <td>$120.00</td>\n",
       "      <td>4</td>\n",
       "      <td>30</td>\n",
       "    </tr>\n",
       "  </tbody>\n",
       "</table>\n",
       "</div>"
      ],
      "text/plain": [
       "    숙소_id                               숙소_url   호스트_id 슈퍼호스트  숙소_수  \\\n",
       "0  312761  https://www.airbnb.com/rooms/312761  1608226     t   3.0   \n",
       "1   13913   https://www.airbnb.com/rooms/13913    54730     t   5.0   \n",
       "2   15400   https://www.airbnb.com/rooms/15400    60302     f   1.0   \n",
       "\n",
       "                    숙소_지역            숙소_유형  수용인원수  욕실수  침실수  침대수  \\\n",
       "0                 Hackney  Entire home/apt      2  1.0  1.0  1.0   \n",
       "1               Islington     Private room      1  1.0  1.0  1.0   \n",
       "2  Kensington and Chelsea  Entire home/apt      2  1.0  1.0  1.0   \n",
       "\n",
       "                                                편의시설    숙소_가격  최소_숙박일  최대_숙박일  \n",
       "0  [\"Toaster\", \"Room-darkening shades\", \"Coffee m...  $160.00       9     180  \n",
       "1  [\"Toaster\", \"Room-darkening shades\", \"Shampoo\"...   $65.00       1      29  \n",
       "2  [\"Shampoo\", \"Wifi\", \"Fire extinguisher\", \"Lugg...  $120.00       4      30  "
      ]
     },
     "execution_count": 956,
     "metadata": {},
     "output_type": "execute_result"
    }
   ],
   "source": [
    "# 컬럼명 변경\n",
    "\n",
    "df_lodging = df_lodging.rename(columns={\n",
    "    'id': '숙소_id',\n",
    "    'host_id': '호스트_id',\n",
    "    'listing_url' : '숙소_url',\n",
    "    'host_is_superhost': '슈퍼호스트',\n",
    "    'host_total_listings_count': '숙소_수',\n",
    "    'neighbourhood_cleansed': '숙소_지역',\n",
    "    'room_type': '숙소_유형',\n",
    "    'accommodates': '수용인원수',\n",
    "    'bathrooms': '욕실수',\n",
    "    'bedrooms': '침실수',\n",
    "    'beds': '침대수',\n",
    "    'amenities': '편의시설',\n",
    "    'price': '숙소_가격',\n",
    "    'minimum_nights': '최소_숙박일',\n",
    "    'maximum_nights': '최대_숙박일'\n",
    "})\n",
    "\n",
    "df_lodging.head(3)"
   ]
  },
  {
   "cell_type": "code",
   "execution_count": 957,
   "metadata": {},
   "outputs": [
    {
     "data": {
      "text/html": [
       "<div>\n",
       "<style scoped>\n",
       "    .dataframe tbody tr th:only-of-type {\n",
       "        vertical-align: middle;\n",
       "    }\n",
       "\n",
       "    .dataframe tbody tr th {\n",
       "        vertical-align: top;\n",
       "    }\n",
       "\n",
       "    .dataframe thead th {\n",
       "        text-align: right;\n",
       "    }\n",
       "</style>\n",
       "<table border=\"1\" class=\"dataframe\">\n",
       "  <thead>\n",
       "    <tr style=\"text-align: right;\">\n",
       "      <th></th>\n",
       "      <th>listing_url</th>\n",
       "      <th>number_of_reviews</th>\n",
       "      <th>number_of_reviews_l30d</th>\n",
       "      <th>review_scores_rating</th>\n",
       "      <th>review_scores_accuracy</th>\n",
       "      <th>review_scores_cleanliness</th>\n",
       "      <th>review_scores_checkin</th>\n",
       "      <th>review_scores_communication</th>\n",
       "      <th>review_scores_location</th>\n",
       "      <th>review_scores_value</th>\n",
       "      <th>reviews_per_month</th>\n",
       "    </tr>\n",
       "  </thead>\n",
       "  <tbody>\n",
       "    <tr>\n",
       "      <th>0</th>\n",
       "      <td>https://www.airbnb.com/rooms/312761</td>\n",
       "      <td>122</td>\n",
       "      <td>0</td>\n",
       "      <td>4.96</td>\n",
       "      <td>4.97</td>\n",
       "      <td>4.93</td>\n",
       "      <td>4.96</td>\n",
       "      <td>5.00</td>\n",
       "      <td>4.89</td>\n",
       "      <td>4.93</td>\n",
       "      <td>0.86</td>\n",
       "    </tr>\n",
       "    <tr>\n",
       "      <th>1</th>\n",
       "      <td>https://www.airbnb.com/rooms/13913</td>\n",
       "      <td>41</td>\n",
       "      <td>0</td>\n",
       "      <td>4.80</td>\n",
       "      <td>4.73</td>\n",
       "      <td>4.73</td>\n",
       "      <td>4.75</td>\n",
       "      <td>4.83</td>\n",
       "      <td>4.70</td>\n",
       "      <td>4.70</td>\n",
       "      <td>0.25</td>\n",
       "    </tr>\n",
       "    <tr>\n",
       "      <th>2</th>\n",
       "      <td>https://www.airbnb.com/rooms/15400</td>\n",
       "      <td>94</td>\n",
       "      <td>0</td>\n",
       "      <td>4.80</td>\n",
       "      <td>4.85</td>\n",
       "      <td>4.88</td>\n",
       "      <td>4.88</td>\n",
       "      <td>4.83</td>\n",
       "      <td>4.93</td>\n",
       "      <td>4.74</td>\n",
       "      <td>0.54</td>\n",
       "    </tr>\n",
       "  </tbody>\n",
       "</table>\n",
       "</div>"
      ],
      "text/plain": [
       "                           listing_url  number_of_reviews  \\\n",
       "0  https://www.airbnb.com/rooms/312761                122   \n",
       "1   https://www.airbnb.com/rooms/13913                 41   \n",
       "2   https://www.airbnb.com/rooms/15400                 94   \n",
       "\n",
       "   number_of_reviews_l30d  review_scores_rating  review_scores_accuracy  \\\n",
       "0                       0                  4.96                    4.97   \n",
       "1                       0                  4.80                    4.73   \n",
       "2                       0                  4.80                    4.85   \n",
       "\n",
       "   review_scores_cleanliness  review_scores_checkin  \\\n",
       "0                       4.93                   4.96   \n",
       "1                       4.73                   4.75   \n",
       "2                       4.88                   4.88   \n",
       "\n",
       "   review_scores_communication  review_scores_location  review_scores_value  \\\n",
       "0                         5.00                    4.89                 4.93   \n",
       "1                         4.83                    4.70                 4.70   \n",
       "2                         4.83                    4.93                 4.74   \n",
       "\n",
       "   reviews_per_month  \n",
       "0               0.86  \n",
       "1               0.25  \n",
       "2               0.54  "
      ]
     },
     "execution_count": 957,
     "metadata": {},
     "output_type": "execute_result"
    }
   ],
   "source": [
    "#리뷰관련데이터\n",
    "df_review = dat[['listing_url','number_of_reviews', 'number_of_reviews_l30d', 'review_scores_rating', 'review_scores_accuracy', \n",
    "                'review_scores_cleanliness', 'review_scores_checkin', 'review_scores_communication', \n",
    "                'review_scores_location', 'review_scores_value', 'reviews_per_month']]\n",
    "df_review.head(3)"
   ]
  },
  {
   "cell_type": "code",
   "execution_count": 958,
   "metadata": {},
   "outputs": [
    {
     "data": {
      "text/html": [
       "<div>\n",
       "<style scoped>\n",
       "    .dataframe tbody tr th:only-of-type {\n",
       "        vertical-align: middle;\n",
       "    }\n",
       "\n",
       "    .dataframe tbody tr th {\n",
       "        vertical-align: top;\n",
       "    }\n",
       "\n",
       "    .dataframe thead th {\n",
       "        text-align: right;\n",
       "    }\n",
       "</style>\n",
       "<table border=\"1\" class=\"dataframe\">\n",
       "  <thead>\n",
       "    <tr style=\"text-align: right;\">\n",
       "      <th></th>\n",
       "      <th>숙소_url</th>\n",
       "      <th>리뷰수</th>\n",
       "      <th>30일_리뷰수</th>\n",
       "      <th>리뷰점수</th>\n",
       "      <th>숙소_정확성_리뷰점수</th>\n",
       "      <th>숙소_청결도_리뷰점수</th>\n",
       "      <th>숙소_체크인_리뷰점수</th>\n",
       "      <th>숙소_소통_리뷰점수</th>\n",
       "      <th>숙소_위치_리뷰점수</th>\n",
       "      <th>숙소_가격_리뷰점수</th>\n",
       "      <th>평균_리뷰수</th>\n",
       "    </tr>\n",
       "  </thead>\n",
       "  <tbody>\n",
       "    <tr>\n",
       "      <th>0</th>\n",
       "      <td>https://www.airbnb.com/rooms/312761</td>\n",
       "      <td>122</td>\n",
       "      <td>0</td>\n",
       "      <td>4.96</td>\n",
       "      <td>4.97</td>\n",
       "      <td>4.93</td>\n",
       "      <td>4.96</td>\n",
       "      <td>5.00</td>\n",
       "      <td>4.89</td>\n",
       "      <td>4.93</td>\n",
       "      <td>0.86</td>\n",
       "    </tr>\n",
       "    <tr>\n",
       "      <th>1</th>\n",
       "      <td>https://www.airbnb.com/rooms/13913</td>\n",
       "      <td>41</td>\n",
       "      <td>0</td>\n",
       "      <td>4.80</td>\n",
       "      <td>4.73</td>\n",
       "      <td>4.73</td>\n",
       "      <td>4.75</td>\n",
       "      <td>4.83</td>\n",
       "      <td>4.70</td>\n",
       "      <td>4.70</td>\n",
       "      <td>0.25</td>\n",
       "    </tr>\n",
       "    <tr>\n",
       "      <th>2</th>\n",
       "      <td>https://www.airbnb.com/rooms/15400</td>\n",
       "      <td>94</td>\n",
       "      <td>0</td>\n",
       "      <td>4.80</td>\n",
       "      <td>4.85</td>\n",
       "      <td>4.88</td>\n",
       "      <td>4.88</td>\n",
       "      <td>4.83</td>\n",
       "      <td>4.93</td>\n",
       "      <td>4.74</td>\n",
       "      <td>0.54</td>\n",
       "    </tr>\n",
       "    <tr>\n",
       "      <th>3</th>\n",
       "      <td>https://www.airbnb.com/rooms/159736</td>\n",
       "      <td>96</td>\n",
       "      <td>0</td>\n",
       "      <td>4.72</td>\n",
       "      <td>4.79</td>\n",
       "      <td>4.66</td>\n",
       "      <td>4.75</td>\n",
       "      <td>4.89</td>\n",
       "      <td>4.34</td>\n",
       "      <td>4.66</td>\n",
       "      <td>0.62</td>\n",
       "    </tr>\n",
       "    <tr>\n",
       "      <th>4</th>\n",
       "      <td>https://www.airbnb.com/rooms/165336</td>\n",
       "      <td>237</td>\n",
       "      <td>2</td>\n",
       "      <td>4.74</td>\n",
       "      <td>4.88</td>\n",
       "      <td>4.79</td>\n",
       "      <td>4.94</td>\n",
       "      <td>4.96</td>\n",
       "      <td>4.87</td>\n",
       "      <td>4.71</td>\n",
       "      <td>1.57</td>\n",
       "    </tr>\n",
       "  </tbody>\n",
       "</table>\n",
       "</div>"
      ],
      "text/plain": [
       "                                숙소_url  리뷰수  30일_리뷰수  리뷰점수  숙소_정확성_리뷰점수  \\\n",
       "0  https://www.airbnb.com/rooms/312761  122        0  4.96         4.97   \n",
       "1   https://www.airbnb.com/rooms/13913   41        0  4.80         4.73   \n",
       "2   https://www.airbnb.com/rooms/15400   94        0  4.80         4.85   \n",
       "3  https://www.airbnb.com/rooms/159736   96        0  4.72         4.79   \n",
       "4  https://www.airbnb.com/rooms/165336  237        2  4.74         4.88   \n",
       "\n",
       "   숙소_청결도_리뷰점수  숙소_체크인_리뷰점수  숙소_소통_리뷰점수  숙소_위치_리뷰점수  숙소_가격_리뷰점수  평균_리뷰수  \n",
       "0         4.93         4.96        5.00        4.89        4.93    0.86  \n",
       "1         4.73         4.75        4.83        4.70        4.70    0.25  \n",
       "2         4.88         4.88        4.83        4.93        4.74    0.54  \n",
       "3         4.66         4.75        4.89        4.34        4.66    0.62  \n",
       "4         4.79         4.94        4.96        4.87        4.71    1.57  "
      ]
     },
     "execution_count": 958,
     "metadata": {},
     "output_type": "execute_result"
    }
   ],
   "source": [
    "# 컬럼명 변경\n",
    "df_review = df_review.rename(columns={\n",
    "    'listing_url' : '숙소_url',\n",
    "    'number_of_reviews': '리뷰수',\n",
    "    'number_of_reviews_l30d': '30일_리뷰수',\n",
    "    'review_scores_rating': '리뷰점수',\n",
    "    'review_scores_accuracy': '숙소_정확성_리뷰점수',\n",
    "    'review_scores_cleanliness': '숙소_청결도_리뷰점수',\n",
    "    'review_scores_checkin': '숙소_체크인_리뷰점수',\n",
    "    'review_scores_communication': '숙소_소통_리뷰점수',\n",
    "    'review_scores_location': '숙소_위치_리뷰점수',\n",
    "    'review_scores_value': '숙소_가격_리뷰점수',\n",
    "    'reviews_per_month': '평균_리뷰수'\n",
    "})\n",
    "df_review.head()"
   ]
  },
  {
   "cell_type": "code",
   "execution_count": 959,
   "metadata": {},
   "outputs": [
    {
     "data": {
      "text/plain": [
       "(90852, 15)"
      ]
     },
     "execution_count": 959,
     "metadata": {},
     "output_type": "execute_result"
    }
   ],
   "source": [
    "df_lodging.shape\n"
   ]
  },
  {
   "cell_type": "code",
   "execution_count": 960,
   "metadata": {},
   "outputs": [
    {
     "data": {
      "text/plain": [
       "(90852, 11)"
      ]
     },
     "execution_count": 960,
     "metadata": {},
     "output_type": "execute_result"
    }
   ],
   "source": [
    "df_review.shape\n"
   ]
  },
  {
   "cell_type": "code",
   "execution_count": 961,
   "metadata": {},
   "outputs": [
    {
     "data": {
      "text/plain": [
       "(90852, 31)"
      ]
     },
     "execution_count": 961,
     "metadata": {},
     "output_type": "execute_result"
    }
   ],
   "source": [
    "df.shape\n"
   ]
  },
  {
   "cell_type": "code",
   "execution_count": 962,
   "metadata": {},
   "outputs": [
    {
     "data": {
      "text/plain": [
       "Index(['숙소_id', '숙소_url', '숙소_상세설명', '호스트_id', '프로필사진_소지_여부', '신원_검증_여부',\n",
       "       '슈퍼호스트', '숙소_수', '숙소_지역', '위도', '경도', '숙소_유형', '수용인원수', '욕실수', '침실수',\n",
       "       '침대수', '어메니티', '숙소_가격', '숙소_예약가능_여부', '최소_숙박일', '최대_숙박일', '리뷰수',\n",
       "       '30일_리뷰수', '리뷰점수', '숙소_정확성_리뷰점수', '숙소_청결도_리뷰점수', '숙소_체크인_리뷰점수',\n",
       "       '숙소_소통_리뷰점수', '숙소_위치_리뷰점수', '숙소_가격_리뷰점수', '평균_리뷰수'],\n",
       "      dtype='object')"
      ]
     },
     "execution_count": 962,
     "metadata": {},
     "output_type": "execute_result"
    }
   ],
   "source": [
    "df.columns\n"
   ]
  },
  {
   "cell_type": "code",
   "execution_count": 963,
   "metadata": {},
   "outputs": [
    {
     "data": {
      "text/plain": [
       "숙소_id            int64\n",
       "숙소_url          object\n",
       "숙소_상세설명         object\n",
       "호스트_id           int64\n",
       "프로필사진_소지_여부     object\n",
       "신원_검증_여부        object\n",
       "슈퍼호스트           object\n",
       "숙소_수           float64\n",
       "숙소_지역           object\n",
       "위도             float64\n",
       "경도             float64\n",
       "숙소_유형           object\n",
       "수용인원수            int64\n",
       "욕실수            float64\n",
       "침실수            float64\n",
       "침대수            float64\n",
       "어메니티            object\n",
       "숙소_가격           object\n",
       "숙소_예약가능_여부      object\n",
       "최소_숙박일           int64\n",
       "최대_숙박일           int64\n",
       "리뷰수              int64\n",
       "30일_리뷰수          int64\n",
       "리뷰점수           float64\n",
       "숙소_정확성_리뷰점수    float64\n",
       "숙소_청결도_리뷰점수    float64\n",
       "숙소_체크인_리뷰점수    float64\n",
       "숙소_소통_리뷰점수     float64\n",
       "숙소_위치_리뷰점수     float64\n",
       "숙소_가격_리뷰점수     float64\n",
       "평균_리뷰수         float64\n",
       "dtype: object"
      ]
     },
     "execution_count": 963,
     "metadata": {},
     "output_type": "execute_result"
    }
   ],
   "source": [
    "df.dtypes\n"
   ]
  },
  {
   "cell_type": "code",
   "execution_count": 964,
   "metadata": {},
   "outputs": [],
   "source": [
    "#중복값 제거 \n",
    "df.drop_duplicates(inplace=True)"
   ]
  },
  {
   "cell_type": "code",
   "execution_count": 965,
   "metadata": {},
   "outputs": [
    {
     "name": "stdout",
     "output_type": "stream",
     "text": [
      "<class 'pandas.core.frame.DataFrame'>\n",
      "RangeIndex: 90852 entries, 0 to 90851\n",
      "Data columns (total 31 columns):\n",
      " #   Column       Non-Null Count  Dtype  \n",
      "---  ------       --------------  -----  \n",
      " 0   숙소_id        90852 non-null  int64  \n",
      " 1   숙소_url       90852 non-null  object \n",
      " 2   숙소_상세설명      87851 non-null  object \n",
      " 3   호스트_id       90852 non-null  int64  \n",
      " 4   프로필사진_소지_여부  90847 non-null  object \n",
      " 5   신원_검증_여부     90847 non-null  object \n",
      " 6   슈퍼호스트        90463 non-null  object \n",
      " 7   숙소_수         90847 non-null  float64\n",
      " 8   숙소_지역        90852 non-null  object \n",
      " 9   위도           90852 non-null  float64\n",
      " 10  경도           90852 non-null  float64\n",
      " 11  숙소_유형        90852 non-null  object \n",
      " 12  수용인원수        90852 non-null  int64  \n",
      " 13  욕실수          57894 non-null  float64\n",
      " 14  침실수          78118 non-null  float64\n",
      " 15  침대수          57837 non-null  float64\n",
      " 16  어메니티         90852 non-null  object \n",
      " 17  숙소_가격        57885 non-null  object \n",
      " 18  숙소_예약가능_여부   86773 non-null  object \n",
      " 19  최소_숙박일       90852 non-null  int64  \n",
      " 20  최대_숙박일       90852 non-null  int64  \n",
      " 21  리뷰수          90852 non-null  int64  \n",
      " 22  30일_리뷰수      90852 non-null  int64  \n",
      " 23  리뷰점수         65869 non-null  float64\n",
      " 24  숙소_정확성_리뷰점수  65838 non-null  float64\n",
      " 25  숙소_청결도_리뷰점수  65843 non-null  float64\n",
      " 26  숙소_체크인_리뷰점수  65808 non-null  float64\n",
      " 27  숙소_소통_리뷰점수   65833 non-null  float64\n",
      " 28  숙소_위치_리뷰점수   65808 non-null  float64\n",
      " 29  숙소_가격_리뷰점수   65806 non-null  float64\n",
      " 30  평균_리뷰수       65869 non-null  float64\n",
      "dtypes: float64(14), int64(7), object(10)\n",
      "memory usage: 21.5+ MB\n"
     ]
    }
   ],
   "source": [
    "df.info()"
   ]
  },
  {
   "cell_type": "markdown",
   "metadata": {},
   "source": [
    "<h3>결측치 개수</h3><br>\n",
    "\n",
    "- 슈퍼호스트 389개\n",
    "- 문의_응답률 33,055개\n",
    "- 숙소_수 5개\n",
    "- 욕실수 32,958개\n",
    "- 침실수 12,734개\n",
    "- 침대수 33,015개 \n",
    "- 숙소_가격 32,967개\n",
    "- 리뷰점수 24,983개\n",
    "- 숙소_정확성_리뷰점수 25014개\n",
    "- 숙소_청결도_리뷰점수 25009개\n",
    "- 숙소_체크인_리뷰점수 25044개\n",
    "- 숙소_소통_리뷰점수 25019개\n",
    "- 숙소_위치_리뷰점수 25044개\n",
    "- 숙소_가격_리뷰점수 25046개 \n",
    "- 평균_리뷰수 24983개\n",
    "\n",
    "- -----------------------------------------\n",
    "\n",
    "- 숙소_상세설명 3,001개\n",
    "- 프로필사진_소지_여부 5개\n",
    "- 신원_검증_여부 5개 \n",
    "- 숙소_예약가능_여부 4079개"
   ]
  },
  {
   "cell_type": "markdown",
   "metadata": {},
   "source": [
    "<h3>슈퍼호스트 결측치 처리</h3>\n",
    "\n",
    "- 슈퍼호스트가 null값인 데이터 삭제 389개임(5%이하 해당)\n",
    "\n"
   ]
  },
  {
   "cell_type": "code",
   "execution_count": 966,
   "metadata": {},
   "outputs": [
    {
     "data": {
      "text/plain": [
       "389"
      ]
     },
     "execution_count": 966,
     "metadata": {},
     "output_type": "execute_result"
    }
   ],
   "source": [
    "df['슈퍼호스트'].isna().sum()"
   ]
  },
  {
   "cell_type": "code",
   "execution_count": 967,
   "metadata": {},
   "outputs": [],
   "source": [
    "df = df.dropna(subset=['슈퍼호스트'])"
   ]
  },
  {
   "cell_type": "code",
   "execution_count": 968,
   "metadata": {},
   "outputs": [
    {
     "data": {
      "text/plain": [
       "(90463, 31)"
      ]
     },
     "execution_count": 968,
     "metadata": {},
     "output_type": "execute_result"
    }
   ],
   "source": [
    "df.shape"
   ]
  },
  {
   "cell_type": "markdown",
   "metadata": {},
   "source": [
    "<h3>숙소수 결측치 처리</h3>\n",
    "\n",
    "- 숙소수가 null값인 데이터 삭제 5개임(5%이하 해당)"
   ]
  },
  {
   "cell_type": "code",
   "execution_count": 969,
   "metadata": {},
   "outputs": [],
   "source": [
    "df = df.dropna(subset=['숙소_수'])"
   ]
  },
  {
   "cell_type": "code",
   "execution_count": 970,
   "metadata": {},
   "outputs": [
    {
     "data": {
      "text/plain": [
       "(90458, 31)"
      ]
     },
     "execution_count": 970,
     "metadata": {},
     "output_type": "execute_result"
    }
   ],
   "source": [
    "df.shape\n"
   ]
  },
  {
   "cell_type": "code",
   "execution_count": 971,
   "metadata": {},
   "outputs": [
    {
     "data": {
      "text/plain": [
       "array(['Hackney', 'Islington', 'Kensington and Chelsea', 'Lambeth',\n",
       "       'Brent', 'Southwark', 'Westminster', 'Wandsworth', 'Tower Hamlets',\n",
       "       'Richmond upon Thames', 'Newham', 'Camden', 'Haringey', 'Enfield',\n",
       "       'Hammersmith and Fulham', 'Waltham Forest', 'Barnet', 'Hounslow',\n",
       "       'Barking and Dagenham', 'Croydon', 'Lewisham', 'Ealing', 'Merton',\n",
       "       'City of London', 'Havering', 'Greenwich', 'Hillingdon', 'Bromley',\n",
       "       'Redbridge', 'Harrow', 'Bexley', 'Kingston upon Thames', 'Sutton'],\n",
       "      dtype=object)"
      ]
     },
     "execution_count": 971,
     "metadata": {},
     "output_type": "execute_result"
    }
   ],
   "source": [
    "df['숙소_지역'].unique()"
   ]
  },
  {
   "cell_type": "markdown",
   "metadata": {},
   "source": [
    "<h3>리뷰수 결측치 처리</h3>"
   ]
  },
  {
   "cell_type": "code",
   "execution_count": 972,
   "metadata": {},
   "outputs": [
    {
     "data": {
      "text/html": [
       "<div>\n",
       "<style scoped>\n",
       "    .dataframe tbody tr th:only-of-type {\n",
       "        vertical-align: middle;\n",
       "    }\n",
       "\n",
       "    .dataframe tbody tr th {\n",
       "        vertical-align: top;\n",
       "    }\n",
       "\n",
       "    .dataframe thead th {\n",
       "        text-align: right;\n",
       "    }\n",
       "</style>\n",
       "<table border=\"1\" class=\"dataframe\">\n",
       "  <thead>\n",
       "    <tr style=\"text-align: right;\">\n",
       "      <th></th>\n",
       "      <th>숙소_id</th>\n",
       "      <th>숙소_url</th>\n",
       "      <th>숙소_상세설명</th>\n",
       "      <th>호스트_id</th>\n",
       "      <th>프로필사진_소지_여부</th>\n",
       "      <th>신원_검증_여부</th>\n",
       "      <th>슈퍼호스트</th>\n",
       "      <th>숙소_수</th>\n",
       "      <th>숙소_지역</th>\n",
       "      <th>위도</th>\n",
       "      <th>...</th>\n",
       "      <th>리뷰수</th>\n",
       "      <th>30일_리뷰수</th>\n",
       "      <th>리뷰점수</th>\n",
       "      <th>숙소_정확성_리뷰점수</th>\n",
       "      <th>숙소_청결도_리뷰점수</th>\n",
       "      <th>숙소_체크인_리뷰점수</th>\n",
       "      <th>숙소_소통_리뷰점수</th>\n",
       "      <th>숙소_위치_리뷰점수</th>\n",
       "      <th>숙소_가격_리뷰점수</th>\n",
       "      <th>평균_리뷰수</th>\n",
       "    </tr>\n",
       "  </thead>\n",
       "  <tbody>\n",
       "    <tr>\n",
       "      <th>9</th>\n",
       "      <td>170524</td>\n",
       "      <td>https://www.airbnb.com/rooms/170524</td>\n",
       "      <td>NaN</td>\n",
       "      <td>194769</td>\n",
       "      <td>t</td>\n",
       "      <td>t</td>\n",
       "      <td>f</td>\n",
       "      <td>9.0</td>\n",
       "      <td>Westminster</td>\n",
       "      <td>51.506120</td>\n",
       "      <td>...</td>\n",
       "      <td>0</td>\n",
       "      <td>0</td>\n",
       "      <td>NaN</td>\n",
       "      <td>NaN</td>\n",
       "      <td>NaN</td>\n",
       "      <td>NaN</td>\n",
       "      <td>NaN</td>\n",
       "      <td>NaN</td>\n",
       "      <td>NaN</td>\n",
       "      <td>NaN</td>\n",
       "    </tr>\n",
       "    <tr>\n",
       "      <th>35</th>\n",
       "      <td>318986</td>\n",
       "      <td>https://www.airbnb.com/rooms/318986</td>\n",
       "      <td>NaN</td>\n",
       "      <td>1637212</td>\n",
       "      <td>t</td>\n",
       "      <td>t</td>\n",
       "      <td>f</td>\n",
       "      <td>1.0</td>\n",
       "      <td>Kensington and Chelsea</td>\n",
       "      <td>51.491130</td>\n",
       "      <td>...</td>\n",
       "      <td>0</td>\n",
       "      <td>0</td>\n",
       "      <td>NaN</td>\n",
       "      <td>NaN</td>\n",
       "      <td>NaN</td>\n",
       "      <td>NaN</td>\n",
       "      <td>NaN</td>\n",
       "      <td>NaN</td>\n",
       "      <td>NaN</td>\n",
       "      <td>NaN</td>\n",
       "    </tr>\n",
       "    <tr>\n",
       "      <th>45</th>\n",
       "      <td>42692</td>\n",
       "      <td>https://www.airbnb.com/rooms/42692</td>\n",
       "      <td>Holland Park/Notting Hill. Guests have access ...</td>\n",
       "      <td>186510</td>\n",
       "      <td>t</td>\n",
       "      <td>t</td>\n",
       "      <td>f</td>\n",
       "      <td>1.0</td>\n",
       "      <td>Hammersmith and Fulham</td>\n",
       "      <td>51.508220</td>\n",
       "      <td>...</td>\n",
       "      <td>0</td>\n",
       "      <td>0</td>\n",
       "      <td>NaN</td>\n",
       "      <td>NaN</td>\n",
       "      <td>NaN</td>\n",
       "      <td>NaN</td>\n",
       "      <td>NaN</td>\n",
       "      <td>NaN</td>\n",
       "      <td>NaN</td>\n",
       "      <td>NaN</td>\n",
       "    </tr>\n",
       "    <tr>\n",
       "      <th>49</th>\n",
       "      <td>44384</td>\n",
       "      <td>https://www.airbnb.com/rooms/44384</td>\n",
       "      <td>A stunning double room with great views.&lt;br /&gt;...</td>\n",
       "      <td>194769</td>\n",
       "      <td>t</td>\n",
       "      <td>t</td>\n",
       "      <td>f</td>\n",
       "      <td>9.0</td>\n",
       "      <td>Barnet</td>\n",
       "      <td>51.597900</td>\n",
       "      <td>...</td>\n",
       "      <td>0</td>\n",
       "      <td>0</td>\n",
       "      <td>NaN</td>\n",
       "      <td>NaN</td>\n",
       "      <td>NaN</td>\n",
       "      <td>NaN</td>\n",
       "      <td>NaN</td>\n",
       "      <td>NaN</td>\n",
       "      <td>NaN</td>\n",
       "      <td>NaN</td>\n",
       "    </tr>\n",
       "    <tr>\n",
       "      <th>56</th>\n",
       "      <td>324055</td>\n",
       "      <td>https://www.airbnb.com/rooms/324055</td>\n",
       "      <td>NaN</td>\n",
       "      <td>1664001</td>\n",
       "      <td>t</td>\n",
       "      <td>f</td>\n",
       "      <td>f</td>\n",
       "      <td>1.0</td>\n",
       "      <td>Newham</td>\n",
       "      <td>51.553110</td>\n",
       "      <td>...</td>\n",
       "      <td>0</td>\n",
       "      <td>0</td>\n",
       "      <td>NaN</td>\n",
       "      <td>NaN</td>\n",
       "      <td>NaN</td>\n",
       "      <td>NaN</td>\n",
       "      <td>NaN</td>\n",
       "      <td>NaN</td>\n",
       "      <td>NaN</td>\n",
       "      <td>NaN</td>\n",
       "    </tr>\n",
       "    <tr>\n",
       "      <th>...</th>\n",
       "      <td>...</td>\n",
       "      <td>...</td>\n",
       "      <td>...</td>\n",
       "      <td>...</td>\n",
       "      <td>...</td>\n",
       "      <td>...</td>\n",
       "      <td>...</td>\n",
       "      <td>...</td>\n",
       "      <td>...</td>\n",
       "      <td>...</td>\n",
       "      <td>...</td>\n",
       "      <td>...</td>\n",
       "      <td>...</td>\n",
       "      <td>...</td>\n",
       "      <td>...</td>\n",
       "      <td>...</td>\n",
       "      <td>...</td>\n",
       "      <td>...</td>\n",
       "      <td>...</td>\n",
       "      <td>...</td>\n",
       "      <td>...</td>\n",
       "    </tr>\n",
       "    <tr>\n",
       "      <th>90847</th>\n",
       "      <td>1115272743905612628</td>\n",
       "      <td>https://www.airbnb.com/rooms/1115272743905612628</td>\n",
       "      <td>A place to spread out in with extra wiggle roo...</td>\n",
       "      <td>565833376</td>\n",
       "      <td>t</td>\n",
       "      <td>t</td>\n",
       "      <td>f</td>\n",
       "      <td>55.0</td>\n",
       "      <td>Bexley</td>\n",
       "      <td>51.502721</td>\n",
       "      <td>...</td>\n",
       "      <td>0</td>\n",
       "      <td>0</td>\n",
       "      <td>NaN</td>\n",
       "      <td>NaN</td>\n",
       "      <td>NaN</td>\n",
       "      <td>NaN</td>\n",
       "      <td>NaN</td>\n",
       "      <td>NaN</td>\n",
       "      <td>NaN</td>\n",
       "      <td>NaN</td>\n",
       "    </tr>\n",
       "    <tr>\n",
       "      <th>90848</th>\n",
       "      <td>1115272767893608505</td>\n",
       "      <td>https://www.airbnb.com/rooms/1115272767893608505</td>\n",
       "      <td>Two-storey living, unwind downstairs and rest ...</td>\n",
       "      <td>565833376</td>\n",
       "      <td>t</td>\n",
       "      <td>t</td>\n",
       "      <td>f</td>\n",
       "      <td>55.0</td>\n",
       "      <td>Bexley</td>\n",
       "      <td>51.504134</td>\n",
       "      <td>...</td>\n",
       "      <td>0</td>\n",
       "      <td>0</td>\n",
       "      <td>NaN</td>\n",
       "      <td>NaN</td>\n",
       "      <td>NaN</td>\n",
       "      <td>NaN</td>\n",
       "      <td>NaN</td>\n",
       "      <td>NaN</td>\n",
       "      <td>NaN</td>\n",
       "      <td>NaN</td>\n",
       "    </tr>\n",
       "    <tr>\n",
       "      <th>90849</th>\n",
       "      <td>1115285644506865913</td>\n",
       "      <td>https://www.airbnb.com/rooms/1115285644506865913</td>\n",
       "      <td>The Chapter Hotels group had been in the hotel...</td>\n",
       "      <td>444801189</td>\n",
       "      <td>t</td>\n",
       "      <td>t</td>\n",
       "      <td>f</td>\n",
       "      <td>44.0</td>\n",
       "      <td>Westminster</td>\n",
       "      <td>51.506404</td>\n",
       "      <td>...</td>\n",
       "      <td>0</td>\n",
       "      <td>0</td>\n",
       "      <td>NaN</td>\n",
       "      <td>NaN</td>\n",
       "      <td>NaN</td>\n",
       "      <td>NaN</td>\n",
       "      <td>NaN</td>\n",
       "      <td>NaN</td>\n",
       "      <td>NaN</td>\n",
       "      <td>NaN</td>\n",
       "    </tr>\n",
       "    <tr>\n",
       "      <th>90850</th>\n",
       "      <td>1115338006572763275</td>\n",
       "      <td>https://www.airbnb.com/rooms/1115338006572763275</td>\n",
       "      <td>This bright and spacious three-bedroom penthou...</td>\n",
       "      <td>514234035</td>\n",
       "      <td>t</td>\n",
       "      <td>t</td>\n",
       "      <td>f</td>\n",
       "      <td>62.0</td>\n",
       "      <td>Westminster</td>\n",
       "      <td>51.513649</td>\n",
       "      <td>...</td>\n",
       "      <td>0</td>\n",
       "      <td>0</td>\n",
       "      <td>NaN</td>\n",
       "      <td>NaN</td>\n",
       "      <td>NaN</td>\n",
       "      <td>NaN</td>\n",
       "      <td>NaN</td>\n",
       "      <td>NaN</td>\n",
       "      <td>NaN</td>\n",
       "      <td>NaN</td>\n",
       "    </tr>\n",
       "    <tr>\n",
       "      <th>90851</th>\n",
       "      <td>1115347885713265376</td>\n",
       "      <td>https://www.airbnb.com/rooms/1115347885713265376</td>\n",
       "      <td>Great for families and groups travelling toget...</td>\n",
       "      <td>215155525</td>\n",
       "      <td>t</td>\n",
       "      <td>t</td>\n",
       "      <td>f</td>\n",
       "      <td>6.0</td>\n",
       "      <td>Haringey</td>\n",
       "      <td>51.600825</td>\n",
       "      <td>...</td>\n",
       "      <td>0</td>\n",
       "      <td>0</td>\n",
       "      <td>NaN</td>\n",
       "      <td>NaN</td>\n",
       "      <td>NaN</td>\n",
       "      <td>NaN</td>\n",
       "      <td>NaN</td>\n",
       "      <td>NaN</td>\n",
       "      <td>NaN</td>\n",
       "      <td>NaN</td>\n",
       "    </tr>\n",
       "  </tbody>\n",
       "</table>\n",
       "<p>24920 rows × 31 columns</p>\n",
       "</div>"
      ],
      "text/plain": [
       "                     숙소_id                                            숙소_url  \\\n",
       "9                   170524               https://www.airbnb.com/rooms/170524   \n",
       "35                  318986               https://www.airbnb.com/rooms/318986   \n",
       "45                   42692                https://www.airbnb.com/rooms/42692   \n",
       "49                   44384                https://www.airbnb.com/rooms/44384   \n",
       "56                  324055               https://www.airbnb.com/rooms/324055   \n",
       "...                    ...                                               ...   \n",
       "90847  1115272743905612628  https://www.airbnb.com/rooms/1115272743905612628   \n",
       "90848  1115272767893608505  https://www.airbnb.com/rooms/1115272767893608505   \n",
       "90849  1115285644506865913  https://www.airbnb.com/rooms/1115285644506865913   \n",
       "90850  1115338006572763275  https://www.airbnb.com/rooms/1115338006572763275   \n",
       "90851  1115347885713265376  https://www.airbnb.com/rooms/1115347885713265376   \n",
       "\n",
       "                                                 숙소_상세설명     호스트_id  \\\n",
       "9                                                    NaN     194769   \n",
       "35                                                   NaN    1637212   \n",
       "45     Holland Park/Notting Hill. Guests have access ...     186510   \n",
       "49     A stunning double room with great views.<br />...     194769   \n",
       "56                                                   NaN    1664001   \n",
       "...                                                  ...        ...   \n",
       "90847  A place to spread out in with extra wiggle roo...  565833376   \n",
       "90848  Two-storey living, unwind downstairs and rest ...  565833376   \n",
       "90849  The Chapter Hotels group had been in the hotel...  444801189   \n",
       "90850  This bright and spacious three-bedroom penthou...  514234035   \n",
       "90851  Great for families and groups travelling toget...  215155525   \n",
       "\n",
       "      프로필사진_소지_여부 신원_검증_여부 슈퍼호스트  숙소_수                   숙소_지역         위도  \\\n",
       "9               t        t     f   9.0             Westminster  51.506120   \n",
       "35              t        t     f   1.0  Kensington and Chelsea  51.491130   \n",
       "45              t        t     f   1.0  Hammersmith and Fulham  51.508220   \n",
       "49              t        t     f   9.0                  Barnet  51.597900   \n",
       "56              t        f     f   1.0                  Newham  51.553110   \n",
       "...           ...      ...   ...   ...                     ...        ...   \n",
       "90847           t        t     f  55.0                  Bexley  51.502721   \n",
       "90848           t        t     f  55.0                  Bexley  51.504134   \n",
       "90849           t        t     f  44.0             Westminster  51.506404   \n",
       "90850           t        t     f  62.0             Westminster  51.513649   \n",
       "90851           t        t     f   6.0                Haringey  51.600825   \n",
       "\n",
       "       ...  리뷰수 30일_리뷰수  리뷰점수  숙소_정확성_리뷰점수  숙소_청결도_리뷰점수  숙소_체크인_리뷰점수  \\\n",
       "9      ...    0       0   NaN          NaN          NaN          NaN   \n",
       "35     ...    0       0   NaN          NaN          NaN          NaN   \n",
       "45     ...    0       0   NaN          NaN          NaN          NaN   \n",
       "49     ...    0       0   NaN          NaN          NaN          NaN   \n",
       "56     ...    0       0   NaN          NaN          NaN          NaN   \n",
       "...    ...  ...     ...   ...          ...          ...          ...   \n",
       "90847  ...    0       0   NaN          NaN          NaN          NaN   \n",
       "90848  ...    0       0   NaN          NaN          NaN          NaN   \n",
       "90849  ...    0       0   NaN          NaN          NaN          NaN   \n",
       "90850  ...    0       0   NaN          NaN          NaN          NaN   \n",
       "90851  ...    0       0   NaN          NaN          NaN          NaN   \n",
       "\n",
       "      숙소_소통_리뷰점수 숙소_위치_리뷰점수 숙소_가격_리뷰점수  평균_리뷰수  \n",
       "9            NaN        NaN        NaN     NaN  \n",
       "35           NaN        NaN        NaN     NaN  \n",
       "45           NaN        NaN        NaN     NaN  \n",
       "49           NaN        NaN        NaN     NaN  \n",
       "56           NaN        NaN        NaN     NaN  \n",
       "...          ...        ...        ...     ...  \n",
       "90847        NaN        NaN        NaN     NaN  \n",
       "90848        NaN        NaN        NaN     NaN  \n",
       "90849        NaN        NaN        NaN     NaN  \n",
       "90850        NaN        NaN        NaN     NaN  \n",
       "90851        NaN        NaN        NaN     NaN  \n",
       "\n",
       "[24920 rows x 31 columns]"
      ]
     },
     "execution_count": 972,
     "metadata": {},
     "output_type": "execute_result"
    }
   ],
   "source": [
    "df[df['리뷰수'] == 0]"
   ]
  },
  {
   "cell_type": "code",
   "execution_count": 973,
   "metadata": {},
   "outputs": [],
   "source": [
    "df = df[df['리뷰수'] != 0]"
   ]
  },
  {
   "cell_type": "code",
   "execution_count": 974,
   "metadata": {},
   "outputs": [
    {
     "data": {
      "text/plain": [
       "(65538, 31)"
      ]
     },
     "execution_count": 974,
     "metadata": {},
     "output_type": "execute_result"
    }
   ],
   "source": [
    "df.shape"
   ]
  },
  {
   "cell_type": "markdown",
   "metadata": {},
   "source": [
    "<h3>리뷰분야 (6개)결측치 처리</h3>\n",
    "'숙소_정확성_리뷰점수', '숙소_청결도_리뷰점수', '숙소_체크인_리뷰점수',\n",
    "       '숙소_소통_리뷰점수', '숙소_위치_리뷰점수', '숙소_가격_리뷰점수'"
   ]
  },
  {
   "cell_type": "code",
   "execution_count": 975,
   "metadata": {},
   "outputs": [
    {
     "data": {
      "text/plain": [
       "Index(['숙소_id', '숙소_url', '숙소_상세설명', '호스트_id', '프로필사진_소지_여부', '신원_검증_여부',\n",
       "       '슈퍼호스트', '숙소_수', '숙소_지역', '위도', '경도', '숙소_유형', '수용인원수', '욕실수', '침실수',\n",
       "       '침대수', '어메니티', '숙소_가격', '숙소_예약가능_여부', '최소_숙박일', '최대_숙박일', '리뷰수',\n",
       "       '30일_리뷰수', '리뷰점수', '숙소_정확성_리뷰점수', '숙소_청결도_리뷰점수', '숙소_체크인_리뷰점수',\n",
       "       '숙소_소통_리뷰점수', '숙소_위치_리뷰점수', '숙소_가격_리뷰점수', '평균_리뷰수'],\n",
       "      dtype='object')"
      ]
     },
     "execution_count": 975,
     "metadata": {},
     "output_type": "execute_result"
    }
   ],
   "source": [
    "df.columns"
   ]
  },
  {
   "cell_type": "code",
   "execution_count": 976,
   "metadata": {},
   "outputs": [
    {
     "data": {
      "text/plain": [
       "숙소_id          0\n",
       "숙소_url         0\n",
       "숙소_상세설명        0\n",
       "호스트_id         0\n",
       "프로필사진_소지_여부    0\n",
       "신원_검증_여부       0\n",
       "슈퍼호스트          0\n",
       "숙소_수           0\n",
       "숙소_지역          0\n",
       "위도             0\n",
       "경도             0\n",
       "숙소_유형          0\n",
       "수용인원수          0\n",
       "욕실수            0\n",
       "침실수            0\n",
       "침대수            0\n",
       "어메니티           0\n",
       "숙소_가격          0\n",
       "숙소_예약가능_여부     0\n",
       "최소_숙박일         0\n",
       "최대_숙박일         0\n",
       "리뷰수            0\n",
       "30일_리뷰수        0\n",
       "리뷰점수           0\n",
       "숙소_정확성_리뷰점수    0\n",
       "숙소_청결도_리뷰점수    0\n",
       "숙소_체크인_리뷰점수    0\n",
       "숙소_소통_리뷰점수     0\n",
       "숙소_위치_리뷰점수     0\n",
       "숙소_가격_리뷰점수     0\n",
       "평균_리뷰수         0\n",
       "dtype: int64"
      ]
     },
     "execution_count": 976,
     "metadata": {},
     "output_type": "execute_result"
    }
   ],
   "source": [
    "df[df['리뷰수'] == 0 ].count()"
   ]
  },
  {
   "cell_type": "code",
   "execution_count": 977,
   "metadata": {},
   "outputs": [
    {
     "data": {
      "text/plain": [
       "31"
      ]
     },
     "execution_count": 977,
     "metadata": {},
     "output_type": "execute_result"
    }
   ],
   "source": [
    "df['숙소_정확성_리뷰점수'].isna().sum()"
   ]
  },
  {
   "cell_type": "markdown",
   "metadata": {},
   "source": [
    "6개분야의 리뷰점수가 전부 널값 제거"
   ]
  },
  {
   "cell_type": "code",
   "execution_count": 978,
   "metadata": {},
   "outputs": [],
   "source": [
    "review_field = df['숙소_정확성_리뷰점수'].isna() & df['숙소_청결도_리뷰점수'].isna() & df['숙소_체크인_리뷰점수'].isna() & df['숙소_소통_리뷰점수'].isna() \\\n",
    "   & df['숙소_위치_리뷰점수'].isna() &df['숙소_가격_리뷰점수'].isna()"
   ]
  },
  {
   "cell_type": "code",
   "execution_count": 979,
   "metadata": {},
   "outputs": [],
   "source": [
    "df = df[~review_field]"
   ]
  },
  {
   "cell_type": "code",
   "execution_count": 980,
   "metadata": {},
   "outputs": [
    {
     "data": {
      "text/plain": [
       "(65516, 31)"
      ]
     },
     "execution_count": 980,
     "metadata": {},
     "output_type": "execute_result"
    }
   ],
   "source": [
    "df.shape"
   ]
  },
  {
   "cell_type": "code",
   "execution_count": 981,
   "metadata": {},
   "outputs": [
    {
     "data": {
      "text/plain": [
       "41"
      ]
     },
     "execution_count": 981,
     "metadata": {},
     "output_type": "execute_result"
    }
   ],
   "source": [
    "#각 분야의 널값\n",
    "df['숙소_정확성_리뷰점수'].isna().sum() # 9개\n",
    "df['숙소_청결도_리뷰점수'].isna().sum() # 4개\n",
    "df['숙소_소통_리뷰점수'].isna().sum() # 14개\n",
    "df['숙소_위치_리뷰점수'].isna().sum() # 39개\n",
    "df['숙소_가격_리뷰점수'].isna().sum() # 41개 "
   ]
  },
  {
   "cell_type": "markdown",
   "metadata": {},
   "source": [
    "<h3>숙소유형 특징 </h3>\n",
    "\n",
    "- Entire home/apt \n",
    "- Private room (호스텔)\n",
    "- Hotel room\n",
    "- Shared room (게스트하우스느낌)"
   ]
  },
  {
   "cell_type": "code",
   "execution_count": 982,
   "metadata": {},
   "outputs": [
    {
     "data": {
      "text/plain": [
       "array(['Entire home/apt', 'Private room', 'Hotel room', 'Shared room'],\n",
       "      dtype=object)"
      ]
     },
     "execution_count": 982,
     "metadata": {},
     "output_type": "execute_result"
    }
   ],
   "source": [
    "df['숙소_유형'].unique()"
   ]
  },
  {
   "cell_type": "code",
   "execution_count": 983,
   "metadata": {},
   "outputs": [],
   "source": [
    "from scipy.stats import chisquare\n",
    "from scipy import stats\n",
    "import scipy as sp \n",
    "\n",
    "import statsmodels.api as sm \n",
    "from statsmodels.formula.api import ols, logit, glm"
   ]
  },
  {
   "cell_type": "code",
   "execution_count": 984,
   "metadata": {},
   "outputs": [
    {
     "data": {
      "image/png": "[encoded data removed]",
      "text/plain": [
       "<Figure size 640x480 with 1 Axes>"
      ]
     },
     "metadata": {},
     "output_type": "display_data"
    }
   ],
   "source": [
    "df['숙소_유형'].value_counts().plot(kind='bar')\n",
    "plt.show()"
   ]
  },
  {
   "cell_type": "markdown",
   "metadata": {},
   "source": [
    "<h3>숙소지역 특징 </h3>\n",
    "\n",
    "1. Hackney(해크니): <span style=\"color:yellow\">동런던</span>에 위치한 트렌디한 지역 / <span style=\"color:yellow\">예술가와 창의적</span>인 커뮤니티가 많이 거주\n",
    "\n",
    "2. Islington(이슬링턴): <span style=\"color:yellow\">중북부</span>에 위치 / <span style=\"color:yellow\">고급 주거 지역</span> (고풍스러운 타운하우스와 다양한 음식점, 극장)\n",
    "\n",
    "3. Kensington and Chelsea(켄싱턴 앤드 첼시): <span style=\"color:yellow\">서쪽</span>에 위치 / <span style=\"color:yellow\">가장 부유한 지역</span> (고급 부티크와 박물관, 아름다운 주택)\n",
    "\n",
    "4. Lambeth(램버스): <span style=\"color:yellow\">남쪽</span>위치한 지역 / 런던 아이와 사우스뱅크 센터 같은 <span style=\"color:yellow\">주요 관광지</span> (다양하고 활기찬 커뮤니티)\n",
    "\n",
    "5. Brent(브렌트): <span style=\"color:yellow\">북서쪽</span>위치 / <span style=\"color:yellow\">스포츠와 음악 이벤트</span> (웸블리 스타디움이 있는 곳)\n",
    "\n",
    "6. Southwark(사우스워크): <span style=\"color:yellow\">남동쪽</span> 위치 /   <span style=\"color:yellow\">문화 관광 거리</span> (테이트 모던 미술관과 버러 마켓이 유명)\n",
    "\n",
    "7. Westminster(웨스트민스터): <span style=\"color:yellow\">중심부</span>위치 / <span style=\"color:yellow\">정부 기관 지역</span> (국회의사당, 버킹엄 궁전, 트라팔가 광장)\n",
    "\n",
    "8. Wandsworth(원스워스):<span style=\"color:yellow\">남서쪽</span>위치 / \n",
    "<span style=\"color:yellow\">주거 지역</span> (큰 공원과 가족 친화적인 분위기가 특징)\n",
    "\n",
    "9. Tower Hamlets(타워햄리츠): <span style=\"color:yellow\">동쪽</span> 위치 / 런던 타워와 카나리 워프 같은 <span style=\"color:yellow\">역사적이고 상업적인 중심지</span>\n",
    "\n",
    "10. Richmond upon Thames(리치먼드): <span style=\"color:yellow\">남서쪽</span>에 위치 / <span style=\"color:yellow\">풍요롭고 피크닉 장소</span> (리치몬드 공원과 템스 강이 유명)\n",
    "\n",
    "11. Newham(뉴험): <span style=\"color:yellow\">동쪽</span>에 위치 / <span style=\"color:yellow\">다문화 지역</span> (올림픽 공원과 웨스트필드 쇼핑센터)\n",
    "\n",
    "12. Camden(캠던): <span style=\"color:yellow\">북부</span>에 위치 / <span style=\"color:yellow\">보헤미안 지역</span> (캠든 마켓과 음악 공연장이 많음)\n",
    "\n",
    "13. Haringey(하린지): <span style=\"color:yellow\">북쪽</span>에 위치 / <span style=\"color:yellow\">주거 지역</span> (알렉산드라 팰리스와 큰 공원)\n",
    "\n",
    "14. Enfield(엔필드): <span style=\"color:yellow\">북쪽 외곽</span>에 위치 / <span style=\"color:yellow\">자연적인 지역</span> (넓은 녹지와 가족 친화적인 분위기가 특징)\n",
    "\n",
    "15. Hammersmith and Fulham(해머스미스 앤드 풀럼): <span style=\"color:yellow\">서쪽</span>에 위치 / <span style=\"color:yellow\">국제 기업의 사무소 지역</span> (템스 강변의 아름다운 경치와 고급 주택들)\n",
    "\n",
    "16. Waltham Forest(월섬 포레스트): <span style=\"color:yellow\">북동쪽</span>에 위치 / <span style=\"color:yellow\">녹지와 공원 지역</span> (예술과 문화적 활동이 활발한 곳)\n",
    "\n",
    "17. Barnet(바넷): <span style=\"color:yellow\">북서쪽</span>에 위치 / <span style=\"color:yellow\">큰 주거 지역</span> (가족과 함께 살기 좋은 환경을 제공)\n",
    "\n",
    "18. Hounslow(하운슬로): <span style=\"color:yellow\">서쪽 외곽</span>에 위치 / <span style=\"color:yellow\">히드로 공항과 가까운</span>특징 (교통이 편리)\n",
    "\n",
    "19. Barking and Dagenham(바킹 앤드 다게넘): <span style=\"color:yellow\">동쪽 외곽</span>에 위치 / <span style=\"color:yellow\">공업 지대와 주거 지역이 혼재</span> 다문화 지역\n",
    "\n",
    "20. Croydon(크로이던): <span style=\"color:yellow\">남쪽</span>에 위치 / <span style=\"color:yellow\">큰 상업 중심지</span> (쇼핑몰과 비즈니스 허브가 많음)\n",
    "\n",
    "21. Lewisham(루이섬): <span style=\"color:yellow\">남동쪽</span>에 위치 / <span style=\"color:yellow\">다양한 문화적 배경을 가진 사람들이 거주</span> (활기찬 시장이 있다)\n",
    "\n",
    "22. Ealing(일링): <span style=\"color:yellow\">서쪽</span>에 위치 / <span style=\"color:yellow\">가족 친화적인 분위기</span> (철도역이 있고 큰 공원)\n",
    "\n",
    "23. Merton(머튼): <span style=\"color:yellow\">남서쪽</span>에 위치 / <span style=\"color:yellow\">윔블던 테니스 챔피언십이 열리는 윔블던이 있음</span> \n",
    "\n",
    "24. City of London: <span style=\"color:yellow\">북동쪽</span>에 위치 / <span style=\"color:yellow\">런던의 금융 중심지</span> (고층 건물과 역사적인 랜드마크가 혼재)\n",
    "\n",
    "25. Greenwich(그리니치): <span style=\"color:yellow\">남동쪽</span>에 위치 / <span style=\"color:yellow\">그리니치 천문대 유명</span> (해양 박물관이 유명, 관광지)\n",
    "\n",
    "26. Hillingdon(힐링던): <span style=\"color:yellow\">서쪽 외곽</span>에 위치 / <span style=\"color:yellow\">히드로 공항이 있다.</span>\n",
    "\n",
    "27. Bromley(브롬리): <span style=\"color:yellow\">남동쪽 외곽</span>에 위치 / <span style=\"color:yellow\"> 큰 주거 지역</span> (녹지가 많고 가족들이 많이 거주)\n",
    "\n",
    "28. Havering(해버링): <span style=\"color:yellow\">동쪽 외곽</span>에 위치 / <span style=\"color:yellow\">주거 지역 느낌</span> 평온하고 넓은 녹지가 있다.\n",
    "\n",
    "29. Harrow(해로): <span style=\"color:yellow\">북서쪽</span>에 위치 / <span style=\"color:yellow\">주거 지역</span> (좋은 교육 시설이 많음)\n",
    "\n",
    "30. Bexley(벡슬리): <span style=\"color:yellow\">남동쪽 외곽</span>에 위치 / <span style=\"color:yellow\">주거 지역</span> 가족 친화적인 분위기와 공원이 많습니다.\n",
    "\n",
    "31. Redbridge(레드브리지): <span style=\"color:yellow\">북동쪽</span>에 위치 / <span style=\"color:yellow\">주거 지역</span> (다양한 커뮤니티와 녹지가 있다)\n",
    "\n",
    "32. Kingston upon Thames(킹스턴): <span style=\"color:yellow\">남서쪽</span>에 위치 / <span style=\"color:yellow\">쇼핑 지역이 유명</span> (템스 강변의 아름다운 경치)\n",
    "\n",
    "33. Sutton(서턴): <span style=\"color:yellow\">남쪽 외곽</span>에 위치 / <span style=\"color:yellow\">주거 지역</span> (가족들이 살기 좋은 환경을 제공)"
   ]
  },
  {
   "cell_type": "code",
   "execution_count": 985,
   "metadata": {},
   "outputs": [
    {
     "data": {
      "text/plain": [
       "array(['Hackney', 'Islington', 'Kensington and Chelsea', 'Lambeth',\n",
       "       'Brent', 'Southwark', 'Westminster', 'Wandsworth', 'Tower Hamlets',\n",
       "       'Richmond upon Thames', 'Newham', 'Camden', 'Haringey', 'Enfield',\n",
       "       'Hammersmith and Fulham', 'Waltham Forest', 'Barnet', 'Hounslow',\n",
       "       'Barking and Dagenham', 'Croydon', 'Lewisham', 'Ealing', 'Merton',\n",
       "       'City of London', 'Greenwich', 'Hillingdon', 'Bromley', 'Havering',\n",
       "       'Harrow', 'Bexley', 'Redbridge', 'Kingston upon Thames', 'Sutton'],\n",
       "      dtype=object)"
      ]
     },
     "execution_count": 985,
     "metadata": {},
     "output_type": "execute_result"
    }
   ],
   "source": [
    "df['숙소_지역'].unique() # 33개 "
   ]
  },
  {
   "cell_type": "code",
   "execution_count": 986,
   "metadata": {},
   "outputs": [
    {
     "data": {
      "text/plain": [
       "0                       Hackney\n",
       "1                     Islington\n",
       "2        Kensington and Chelsea\n",
       "3                       Lambeth\n",
       "4        Kensington and Chelsea\n",
       "                  ...          \n",
       "90451                   Lambeth\n",
       "90568                 Islington\n",
       "90590                    Camden\n",
       "90648                  Lewisham\n",
       "90735                   Hackney\n",
       "Name: 숙소_지역, Length: 65516, dtype: object"
      ]
     },
     "execution_count": 986,
     "metadata": {},
     "output_type": "execute_result"
    }
   ],
   "source": [
    "df['숙소_지역']"
   ]
  },
  {
   "cell_type": "markdown",
   "metadata": {},
   "source": [
    "<h3>숙소_가격 결측치 처리 </h3>\n",
    "\n",
    "- 숙소_가격이 선정되는 기준 --> 숙소지역과 숙소유형별로 비교분석 시도 "
   ]
  },
  {
   "cell_type": "markdown",
   "metadata": {},
   "source": [
    "숙소가격 데이터타입 >> float로 변경 "
   ]
  },
  {
   "cell_type": "code",
   "execution_count": 987,
   "metadata": {},
   "outputs": [],
   "source": [
    "df.loc[:,'숙소_가격'] = df['숙소_가격'].str.replace('$', \"\")\n",
    "df.loc[:,'숙소_가격'] = df['숙소_가격'].str.replace(',', \"\")\n",
    "df.loc[:,'숙소_가격'] = df['숙소_가격'].str.strip()"
   ]
  },
  {
   "cell_type": "code",
   "execution_count": 988,
   "metadata": {},
   "outputs": [
    {
     "data": {
      "text/plain": [
       "0        160.00\n",
       "1         65.00\n",
       "2        120.00\n",
       "3         65.00\n",
       "4        100.00\n",
       "          ...  \n",
       "90451     46.00\n",
       "90568     78.00\n",
       "90590    136.00\n",
       "90648    109.00\n",
       "90735     41.00\n",
       "Name: 숙소_가격, Length: 65516, dtype: object"
      ]
     },
     "execution_count": 988,
     "metadata": {},
     "output_type": "execute_result"
    }
   ],
   "source": [
    "df['숙소_가격']"
   ]
  },
  {
   "cell_type": "code",
   "execution_count": 989,
   "metadata": {},
   "outputs": [],
   "source": [
    "df['숙소_가격'] = df.loc[:,'숙소_가격'].astype(float)"
   ]
  },
  {
   "cell_type": "code",
   "execution_count": 990,
   "metadata": {},
   "outputs": [
    {
     "data": {
      "text/plain": [
       "dtype('float64')"
      ]
     },
     "execution_count": 990,
     "metadata": {},
     "output_type": "execute_result"
    }
   ],
   "source": [
    "df['숙소_가격'].dtypes"
   ]
  },
  {
   "cell_type": "code",
   "execution_count": 991,
   "metadata": {},
   "outputs": [
    {
     "data": {
      "text/plain": [
       "count    43446.000000\n",
       "mean       165.145307\n",
       "std        419.950280\n",
       "min          0.000000\n",
       "25%         70.000000\n",
       "50%        120.000000\n",
       "75%        195.000000\n",
       "max      53588.000000\n",
       "Name: 숙소_가격, dtype: float64"
      ]
     },
     "execution_count": 991,
     "metadata": {},
     "output_type": "execute_result"
    }
   ],
   "source": [
    "df['숙소_가격'].describe()"
   ]
  },
  {
   "cell_type": "code",
   "execution_count": 992,
   "metadata": {},
   "outputs": [],
   "source": [
    "dat = df.copy()"
   ]
  },
  {
   "cell_type": "markdown",
   "metadata": {},
   "source": [
    "숙소가격 널값 제거 후 분석"
   ]
  },
  {
   "cell_type": "code",
   "execution_count": 993,
   "metadata": {},
   "outputs": [
    {
     "data": {
      "text/plain": [
       "22070"
      ]
     },
     "execution_count": 993,
     "metadata": {},
     "output_type": "execute_result"
    }
   ],
   "source": [
    "df[\"숙소_가격\"].isna().sum()\n"
   ]
  },
  {
   "cell_type": "code",
   "execution_count": 994,
   "metadata": {},
   "outputs": [],
   "source": [
    "df.dropna(subset=['숙소_가격'], inplace =  True)"
   ]
  },
  {
   "cell_type": "code",
   "execution_count": 995,
   "metadata": {},
   "outputs": [
    {
     "data": {
      "text/plain": [
       "(43446, 31)"
      ]
     },
     "execution_count": 995,
     "metadata": {},
     "output_type": "execute_result"
    }
   ],
   "source": [
    "df.shape"
   ]
  },
  {
   "cell_type": "markdown",
   "metadata": {},
   "source": [
    "<h3>숙소 유형과 숙소가격 연관성 분석</h3>"
   ]
  },
  {
   "cell_type": "code",
   "execution_count": 996,
   "metadata": {},
   "outputs": [
    {
     "data": {
      "text/plain": [
       "array(['Entire home/apt', 'Private room', 'Hotel room', 'Shared room'],\n",
       "      dtype=object)"
      ]
     },
     "execution_count": 996,
     "metadata": {},
     "output_type": "execute_result"
    }
   ],
   "source": [
    "df.숙소_유형.unique()"
   ]
  },
  {
   "cell_type": "markdown",
   "metadata": {},
   "source": [
    "ANOVA 분석 (범주형데이터와 연속형데이터 비교)\n",
    "\n",
    "- 독립성 \n",
    "- 정규성\n",
    "- 등분산성 \n",
    "\n",
    "범주형데이터 - 숙소지역 (33개) / 숙소유형(4개)<br>\n",
    "연속형데이터 - 숙소가격"
   ]
  },
  {
   "cell_type": "code",
   "execution_count": 997,
   "metadata": {},
   "outputs": [
    {
     "name": "stdout",
     "output_type": "stream",
     "text": [
      "Levene's test statistic: 65.00667521682823\n",
      "p-value: 6.23641484714332e-42\n",
      "등분산성을 만족하지 않습니다.\n"
     ]
    }
   ],
   "source": [
    "from scipy.stats import levene\n",
    "\n",
    "# 숙소 유형별로 숙소 가격 데이터를 추출\n",
    "prices_by_type = [df[df['숙소_유형'] == typ]['숙소_가격'].values for typ in df['숙소_유형'].unique()]\n",
    "\n",
    "# 등분산성 검정 수행\n",
    "statistic, p_value = levene(*prices_by_type)\n",
    "\n",
    "# 결과 출력\n",
    "print(\"Levene's test statistic:\", statistic)\n",
    "print(\"p-value:\", p_value)\n",
    "\n",
    "# p-value를 기준으로 등분산성 여부 판단\n",
    "if p_value > 0.05:\n",
    "    print(\"등분산성을 만족합니다.\")\n",
    "else:\n",
    "    print(\"등분산성을 만족하지 않습니다.\")"
   ]
  },
  {
   "cell_type": "code",
   "execution_count": 998,
   "metadata": {},
   "outputs": [],
   "source": [
    "mean = df['숙소_가격'].values\n",
    "\n",
    "mean1 = df[df['숙소_유형'] == 'Entire home/apt'].숙소_가격.values\n",
    "mean2 = df[df['숙소_유형'] == 'Private room'].숙소_가격.values\n",
    "mean3 = df[df['숙소_유형'] == 'Hotel room'].숙소_가격.values\n",
    "mean4 = df[df['숙소_유형'] == 'Shared room'].숙소_가격.values"
   ]
  },
  {
   "cell_type": "code",
   "execution_count": 999,
   "metadata": {},
   "outputs": [
    {
     "name": "stdout",
     "output_type": "stream",
     "text": [
      "ANOVA 결과 : F_onewayResult(statistic=299.8908443847532, pvalue=1.0210599539625403e-192)\n",
      "숙소 유형별로 숙소 가격에 유의미한 차이가 있습니다.\n"
     ]
    }
   ],
   "source": [
    "\n",
    "import pandas as pd\n",
    "import scipy.stats as stats\n",
    "\n",
    "# ANOVA 분석 수행\n",
    "anova_result = stats.f_oneway(mean1, mean2, mean3, mean4)\n",
    "\n",
    "print('ANOVA 결과 :', anova_result)\n",
    "\n",
    "# p-value가 유의수준(일반적으로 0.05)보다 작은지 확인\n",
    "if anova_result.pvalue < 0.05:\n",
    "    print('숙소 유형별로 숙소 가격에 유의미한 차이가 있습니다.')\n",
    "else:\n",
    "    print('숙소 유형별로 숙소 가격에 유의미한 차이가 없습니다.')"
   ]
  },
  {
   "cell_type": "markdown",
   "metadata": {},
   "source": [
    "<h4>귀무가설 : 두 그룹의 평균이 동일하다</h4>\n",
    "mean1 과 mean3는 귀무가설 채택 pvalue=0.0927190882997952 (0.05보다 큼)<br>\n",
    "entire home/apt 와 hotel room은 reject가 false 이기때문에 <br>\n",
    "두 그룹의 평균이 동일하다라고 판단"
   ]
  },
  {
   "cell_type": "code",
   "execution_count": 1000,
   "metadata": {},
   "outputs": [
    {
     "name": "stdout",
     "output_type": "stream",
     "text": [
      "          Multiple Comparison of Means - Tukey HSD, FWER=0.05          \n",
      "=======================================================================\n",
      "     group1        group2     meandiff p-adj    lower    upper   reject\n",
      "-----------------------------------------------------------------------\n",
      "Entire home/apt   Hotel room    9.1447 0.9961  -96.2711 114.5605  False\n",
      "Entire home/apt Private room -127.0289    0.0 -137.9257 -116.132   True\n",
      "Entire home/apt  Shared room   -77.052  0.088  -161.453   7.3489  False\n",
      "     Hotel room Private room -136.1735 0.0051 -241.7762 -30.5709   True\n",
      "     Hotel room  Shared room  -86.1967 0.3542 -220.9435  48.5501  False\n",
      "   Private room  Shared room   49.9768 0.4272  -34.6574  134.611  False\n",
      "-----------------------------------------------------------------------\n"
     ]
    }
   ],
   "source": [
    "from statsmodels.stats.multicomp import pairwise_tukeyhsd\n",
    "\n",
    "\n",
    "\n",
    "# Tukey's HSD 검정 수행\n",
    "tukey_result = pairwise_tukeyhsd(df['숙소_가격'], df['숙소_유형'])\n",
    "\n",
    "# 결과 출력\n",
    "print(tukey_result)"
   ]
  },
  {
   "cell_type": "markdown",
   "metadata": {},
   "source": [
    "pvalue=1.0210599539625403e-192 (0.05보다 작으므로 귀무가설 기각)<br>\n",
    "귀무가설 : 숙소가격과 숙소유형간의 평균차이가 없다 >> 기각<br>\n",
    "결론 >> 숙소가격과 숙소유형간의 평균차이가 있음 ."
   ]
  },
  {
   "cell_type": "markdown",
   "metadata": {},
   "source": [
    "<h3>숙소유형과 숙소지역간의 연관성 분석 </h3><br>\n",
    "범주형데이터끼리의 독립성 확인 >> 카이제곱검정 <br>\n",
    "\n"
   ]
  },
  {
   "cell_type": "code",
   "execution_count": 1001,
   "metadata": {},
   "outputs": [
    {
     "name": "stdout",
     "output_type": "stream",
     "text": [
      "Chi-square value: 2694.801564124822\n",
      "p-value: 0.0\n",
      "Degrees of freedom: 96\n",
      "Expected frequencies table:\n",
      "[[2.11838144e+02 7.54011393e+02 1.95950283e+02 9.49299682e+02\n",
      "  2.95249413e+02 2.01246237e+03 1.96612277e+02 5.29595360e+02\n",
      "  7.63279312e+02 3.09813285e+02 6.56698246e+02 1.69073319e+03\n",
      "  1.29155068e+03 7.05685817e+02 2.07866179e+02 1.64836556e+02\n",
      "  3.27687129e+02 4.38902154e+02 1.30942453e+03 2.12301540e+03\n",
      "  2.34345947e+02 1.43983738e+03 7.55997376e+02 4.57437992e+02\n",
      "  7.65927289e+02 2.82671523e+02 4.50818050e+02 1.47558507e+03\n",
      "  1.36370805e+02 2.08395774e+03 5.65343047e+02 1.38687785e+03\n",
      "  3.59131853e+03]\n",
      " [7.58642913e-01 2.70029462e+00 7.01744695e-01 3.39966855e+00\n",
      "  1.05735856e+00 7.20710767e+00 7.04115454e-01 1.89660728e+00\n",
      "  2.73348525e+00 1.10951526e+00 2.35179303e+00 6.05491875e+00\n",
      "  4.62535101e+00 2.52722920e+00 7.44418358e-01 5.90319017e-01\n",
      "  1.17352576e+00 1.57181329e+00 4.68936151e+00 7.60302444e+00\n",
      "  8.39248723e-01 5.15640105e+00 2.70740690e+00 1.63819454e+00\n",
      "  2.74296828e+00 1.01231414e+00 1.61448695e+00 5.28442204e+00\n",
      "  4.88376375e-01 7.46314966e+00 2.02462827e+00 4.96674032e+00\n",
      "  1.28613681e+01]\n",
      " [1.06217373e+02 3.78067463e+02 9.82510703e+01 4.75986604e+02\n",
      "  1.48040464e+02 1.00906505e+03 9.85829996e+01 2.65543433e+02\n",
      "  3.82714473e+02 1.55342908e+02 3.29273857e+02 8.47747411e+02\n",
      "  6.47594048e+02 3.53836625e+02 1.04225798e+02 8.26503936e+01\n",
      "  1.64304999e+02 2.20069120e+02 6.56556139e+02 1.06449724e+03\n",
      "  1.17502969e+02 7.21946209e+02 3.79063251e+02 2.29363140e+02\n",
      "  3.84042190e+02 1.41733807e+02 2.26043848e+02 7.39870391e+02\n",
      "  6.83774341e+01 1.04491341e+03 2.83467615e+02 6.95391866e+02\n",
      "  1.80071641e+03]\n",
      " [1.18583989e+00 4.22084887e+00 1.09690190e+00 5.31404502e+00\n",
      "  1.65276435e+00 1.12654790e+01 1.10060765e+00 2.96459973e+00\n",
      "  4.27272937e+00 1.73429084e+00 3.67610367e+00 9.46448465e+00\n",
      "  7.22991760e+00 3.95032914e+00 1.16360540e+00 9.22731667e-01\n",
      "  1.83434608e+00 2.45691203e+00 7.32997284e+00 1.18843392e+01\n",
      "  1.31183538e+00 8.06000552e+00 4.23196612e+00 2.56067302e+00\n",
      "  4.28755236e+00 1.58235511e+00 2.52361552e+00 8.26011601e+00\n",
      "  7.63384431e-01 1.16656999e+01 3.16471021e+00 7.76354555e+00\n",
      "  2.01036919e+01]]\n"
     ]
    }
   ],
   "source": [
    "from scipy.stats import chi2_contingency\n",
    "\n",
    "\n",
    "\n",
    "# 카이제곱 검정 수행\n",
    "chi2, p, dof, expected = chi2_contingency(pd.crosstab(df['숙소_유형'], df['숙소_지역']))\n",
    "\n",
    "# 결과 출력\n",
    "print(\"Chi-square value:\", chi2)\n",
    "print(\"p-value:\", p)\n",
    "print(\"Degrees of freedom:\", dof)\n",
    "print(\"Expected frequencies table:\")\n",
    "print(expected)\n"
   ]
  },
  {
   "cell_type": "markdown",
   "metadata": {},
   "source": [
    "의문점<br>\n",
    "숙소유형별로 숙소가격의 평균차이를 알 필요가 없음 <br>\n",
    "boxplot으로 숙소가격의 이상치 여부와 제거할 필요가 있음<br>"
   ]
  },
  {
   "cell_type": "code",
   "execution_count": 1002,
   "metadata": {},
   "outputs": [
    {
     "data": {
      "text/html": [
       "<div>\n",
       "<style scoped>\n",
       "    .dataframe tbody tr th:only-of-type {\n",
       "        vertical-align: middle;\n",
       "    }\n",
       "\n",
       "    .dataframe tbody tr th {\n",
       "        vertical-align: top;\n",
       "    }\n",
       "\n",
       "    .dataframe thead th {\n",
       "        text-align: right;\n",
       "    }\n",
       "</style>\n",
       "<table border=\"1\" class=\"dataframe\">\n",
       "  <thead>\n",
       "    <tr style=\"text-align: right;\">\n",
       "      <th></th>\n",
       "      <th>숙소_지역</th>\n",
       "      <th>숙소_유형</th>\n",
       "      <th>숙소_가격</th>\n",
       "    </tr>\n",
       "  </thead>\n",
       "  <tbody>\n",
       "    <tr>\n",
       "      <th>0</th>\n",
       "      <td>Barking and Dagenham</td>\n",
       "      <td>Entire home/apt</td>\n",
       "      <td>136.5</td>\n",
       "    </tr>\n",
       "    <tr>\n",
       "      <th>1</th>\n",
       "      <td>Barking and Dagenham</td>\n",
       "      <td>Private room</td>\n",
       "      <td>61.7</td>\n",
       "    </tr>\n",
       "    <tr>\n",
       "      <th>2</th>\n",
       "      <td>Barking and Dagenham</td>\n",
       "      <td>Shared room</td>\n",
       "      <td>70.0</td>\n",
       "    </tr>\n",
       "    <tr>\n",
       "      <th>3</th>\n",
       "      <td>Barnet</td>\n",
       "      <td>Entire home/apt</td>\n",
       "      <td>151.6</td>\n",
       "    </tr>\n",
       "    <tr>\n",
       "      <th>4</th>\n",
       "      <td>Barnet</td>\n",
       "      <td>Private room</td>\n",
       "      <td>65.9</td>\n",
       "    </tr>\n",
       "    <tr>\n",
       "      <th>...</th>\n",
       "      <td>...</td>\n",
       "      <td>...</td>\n",
       "      <td>...</td>\n",
       "    </tr>\n",
       "    <tr>\n",
       "      <th>103</th>\n",
       "      <td>Wandsworth</td>\n",
       "      <td>Shared room</td>\n",
       "      <td>66.7</td>\n",
       "    </tr>\n",
       "    <tr>\n",
       "      <th>104</th>\n",
       "      <td>Westminster</td>\n",
       "      <td>Entire home/apt</td>\n",
       "      <td>280.3</td>\n",
       "    </tr>\n",
       "    <tr>\n",
       "      <th>105</th>\n",
       "      <td>Westminster</td>\n",
       "      <td>Hotel room</td>\n",
       "      <td>423.4</td>\n",
       "    </tr>\n",
       "    <tr>\n",
       "      <th>106</th>\n",
       "      <td>Westminster</td>\n",
       "      <td>Private room</td>\n",
       "      <td>134.2</td>\n",
       "    </tr>\n",
       "    <tr>\n",
       "      <th>107</th>\n",
       "      <td>Westminster</td>\n",
       "      <td>Shared room</td>\n",
       "      <td>454.7</td>\n",
       "    </tr>\n",
       "  </tbody>\n",
       "</table>\n",
       "<p>108 rows × 3 columns</p>\n",
       "</div>"
      ],
      "text/plain": [
       "                    숙소_지역            숙소_유형  숙소_가격\n",
       "0    Barking and Dagenham  Entire home/apt  136.5\n",
       "1    Barking and Dagenham     Private room   61.7\n",
       "2    Barking and Dagenham      Shared room   70.0\n",
       "3                  Barnet  Entire home/apt  151.6\n",
       "4                  Barnet     Private room   65.9\n",
       "..                    ...              ...    ...\n",
       "103            Wandsworth      Shared room   66.7\n",
       "104           Westminster  Entire home/apt  280.3\n",
       "105           Westminster       Hotel room  423.4\n",
       "106           Westminster     Private room  134.2\n",
       "107           Westminster      Shared room  454.7\n",
       "\n",
       "[108 rows x 3 columns]"
      ]
     },
     "execution_count": 1002,
     "metadata": {},
     "output_type": "execute_result"
    }
   ],
   "source": [
    "avg_price_by_area_type = round(df.groupby(['숙소_지역', '숙소_유형'])['숙소_가격'].mean(),1).reset_index()\n",
    "\n",
    "avg_price_by_area_type"
   ]
  },
  {
   "cell_type": "code",
   "execution_count": 1003,
   "metadata": {},
   "outputs": [
    {
     "data": {
      "image/png": "[encoded data removed]",
      "text/plain": [
       "<Figure size 1200x600 with 1 Axes>"
      ]
     },
     "metadata": {},
     "output_type": "display_data"
    }
   ],
   "source": [
    "import seaborn as sns\n",
    "import matplotlib.pyplot as plt\n",
    "\n",
    "# 숙소 지역과 숙소 유형별 가격의 평균 계산\n",
    "avg_price_by_area_type = df.groupby(['숙소_지역', '숙소_유형'])['숙소_가격'].mean().reset_index()\n",
    "\n",
    "# 상자수염 그림(boxplot)으로 이상치 확인\n",
    "plt.figure(figsize=(12, 6))\n",
    "sns.boxplot(data=avg_price_by_area_type, x='숙소_가격')\n",
    "plt.title('숙소 지역 및 유형별 숙소 가격 이상치확인')\n",
    "plt.xlabel('숙소 가격')\n",
    "plt.show()"
   ]
  },
  {
   "cell_type": "code",
   "execution_count": 1004,
   "metadata": {},
   "outputs": [
    {
     "data": {
      "text/html": [
       "<div>\n",
       "<style scoped>\n",
       "    .dataframe tbody tr th:only-of-type {\n",
       "        vertical-align: middle;\n",
       "    }\n",
       "\n",
       "    .dataframe tbody tr th {\n",
       "        vertical-align: top;\n",
       "    }\n",
       "\n",
       "    .dataframe thead th {\n",
       "        text-align: right;\n",
       "    }\n",
       "</style>\n",
       "<table border=\"1\" class=\"dataframe\">\n",
       "  <thead>\n",
       "    <tr style=\"text-align: right;\">\n",
       "      <th></th>\n",
       "      <th>숙소_가격</th>\n",
       "    </tr>\n",
       "  </thead>\n",
       "  <tbody>\n",
       "    <tr>\n",
       "      <th>count</th>\n",
       "      <td>108.000000</td>\n",
       "    </tr>\n",
       "    <tr>\n",
       "      <th>mean</th>\n",
       "      <td>121.951096</td>\n",
       "    </tr>\n",
       "    <tr>\n",
       "      <th>std</th>\n",
       "      <td>79.052092</td>\n",
       "    </tr>\n",
       "    <tr>\n",
       "      <th>min</th>\n",
       "      <td>18.000000</td>\n",
       "    </tr>\n",
       "    <tr>\n",
       "      <th>25%</th>\n",
       "      <td>59.833038</td>\n",
       "    </tr>\n",
       "    <tr>\n",
       "      <th>50%</th>\n",
       "      <td>97.625458</td>\n",
       "    </tr>\n",
       "    <tr>\n",
       "      <th>75%</th>\n",
       "      <td>164.361121</td>\n",
       "    </tr>\n",
       "    <tr>\n",
       "      <th>max</th>\n",
       "      <td>454.666667</td>\n",
       "    </tr>\n",
       "  </tbody>\n",
       "</table>\n",
       "</div>"
      ],
      "text/plain": [
       "            숙소_가격\n",
       "count  108.000000\n",
       "mean   121.951096\n",
       "std     79.052092\n",
       "min     18.000000\n",
       "25%     59.833038\n",
       "50%     97.625458\n",
       "75%    164.361121\n",
       "max    454.666667"
      ]
     },
     "execution_count": 1004,
     "metadata": {},
     "output_type": "execute_result"
    }
   ],
   "source": [
    "avg_price_by_area_type.describe()"
   ]
  },
  {
   "cell_type": "code",
   "execution_count": 1005,
   "metadata": {},
   "outputs": [
    {
     "name": "stdout",
     "output_type": "stream",
     "text": [
      "이상치 인덱스: []\n"
     ]
    }
   ],
   "source": [
    "import pandas as pd\n",
    "\n",
    "# 숙소 지역과 숙소 유형별 가격의 평균 계산\n",
    "avg_price_by_area_type = df.groupby(['숙소_지역', '숙소_유형'])['숙소_가격'].mean().reset_index()\n",
    "\n",
    "# 각 그룹에서 이상치를 식별\n",
    "outliers = []\n",
    "for group, data in avg_price_by_area_type.groupby(['숙소_지역', '숙소_유형']):\n",
    "    q1 = data['숙소_가격'].quantile(0.25)\n",
    "    q3 = data['숙소_가격'].quantile(0.75)\n",
    "    iqr = q3 - q1\n",
    "    lower_bound = q1 - 1.5 * iqr\n",
    "    upper_bound = q3 + 1.5 * iqr\n",
    "    # 이상치 식별 및 저장\n",
    "    outliers.extend(data[(data['숙소_가격'] < lower_bound) | (data['숙소_가격'] > upper_bound)].index)\n",
    "\n",
    "# 이상치 출력\n",
    "print(\"이상치 인덱스:\", outliers)\n"
   ]
  },
  {
   "cell_type": "code",
   "execution_count": 1006,
   "metadata": {},
   "outputs": [
    {
     "name": "stdout",
     "output_type": "stream",
     "text": [
      "이상치의 개수: 0\n"
     ]
    }
   ],
   "source": [
    "# 이상치의 개수\n",
    "num_outliers = len(outliers)\n",
    "\n",
    "# 결과 출력\n",
    "print(\"이상치의 개수:\", num_outliers)"
   ]
  },
  {
   "cell_type": "code",
   "execution_count": 1007,
   "metadata": {},
   "outputs": [
    {
     "data": {
      "image/png": "[encoded data removed]",
      "text/plain": [
       "<Figure size 1000x600 with 1 Axes>"
      ]
     },
     "metadata": {},
     "output_type": "display_data"
    }
   ],
   "source": [
    "import seaborn as sns\n",
    "import matplotlib.pyplot as plt\n",
    "\n",
    "# 숙소 유형별로 숙소 가격의 분포를 시각화\n",
    "plt.figure(figsize=(10, 6))\n",
    "sns.boxplot(data=df, x='숙소_유형', y='숙소_가격')\n",
    "plt.title('숙소유형별 숙소가격 이상치 확인')\n",
    "plt.xlabel('숙소유형')\n",
    "plt.ylabel('숙소가격')\n",
    "plt.show()"
   ]
  },
  {
   "cell_type": "code",
   "execution_count": 1008,
   "metadata": {},
   "outputs": [
    {
     "name": "stdout",
     "output_type": "stream",
     "text": [
      "                 숙소_유형  숙소_가격\n",
      "0      Entire home/apt  160.0\n",
      "2      Entire home/apt  120.0\n",
      "4      Entire home/apt  100.0\n",
      "10     Entire home/apt  137.0\n",
      "14     Entire home/apt  112.0\n",
      "...                ...    ...\n",
      "84622      Shared room   20.0\n",
      "86052      Shared room   34.0\n",
      "86741      Shared room   24.0\n",
      "87509      Shared room   45.0\n",
      "88536      Shared room   24.0\n",
      "\n",
      "[40685 rows x 2 columns]\n"
     ]
    }
   ],
   "source": [
    "import pandas as pd\n",
    "import numpy as np\n",
    "\n",
    "# 이상치 제거 함수 정의\n",
    "def remove_outliers(df):\n",
    "    London_lodging_type = pd.DataFrame()\n",
    "    for room_type in df['숙소_유형'].unique():\n",
    "        # 각 숙소 유형별 가격 데이터 추출\n",
    "        prices = df[df['숙소_유형'] == room_type]['숙소_가격']\n",
    "        # 이상치 경계 계산\n",
    "        Q1 = np.percentile(prices, 25)\n",
    "        Q3 = np.percentile(prices, 75)\n",
    "        IQR = Q3 - Q1\n",
    "        lower_bound = Q1 - 1.5 * IQR\n",
    "        upper_bound = Q3 + 1.5 * IQR\n",
    "        # 이상치 제거\n",
    "        outliers_removed = prices[(prices >= lower_bound) & (prices <= upper_bound)]\n",
    "        # 이상치가 제거된 데이터를 새로운 데이터프레임에 추가\n",
    "        London_lodging_type = pd.concat([London_lodging_type, pd.DataFrame({'숙소_유형': room_type, '숙소_가격': outliers_removed})])\n",
    "    return London_lodging_type\n",
    "\n",
    "# 이상치 제거 함수 호출\n",
    "London_lodging_type = remove_outliers(df)\n",
    "\n",
    "# 이상치 제거 후 결과 확인\n",
    "print(London_lodging_type)"
   ]
  },
  {
   "cell_type": "code",
   "execution_count": 1009,
   "metadata": {},
   "outputs": [
    {
     "name": "stdout",
     "output_type": "stream",
     "text": [
      "43446\n",
      "40685\n",
      "이상치 값의 개수: 2761\n"
     ]
    }
   ],
   "source": [
    "# 이상치 제거 전 데이터프레임의 크기\n",
    "original_size = len(df)\n",
    "\n",
    "# 이상치 제거 후 데이터프레임의 크기\n",
    "cleaned_size = len(London_lodging_type)\n",
    "\n",
    "# 이상치 값의 개수 계산\n",
    "outliers_removed_count = original_size - cleaned_size\n",
    "print(original_size)\n",
    "print(cleaned_size)\n",
    "\n",
    "print(\"이상치 값의 개수:\", outliers_removed_count)"
   ]
  },
  {
   "cell_type": "code",
   "execution_count": 1010,
   "metadata": {},
   "outputs": [
    {
     "data": {
      "text/html": [
       "<div>\n",
       "<style scoped>\n",
       "    .dataframe tbody tr th:only-of-type {\n",
       "        vertical-align: middle;\n",
       "    }\n",
       "\n",
       "    .dataframe tbody tr th {\n",
       "        vertical-align: top;\n",
       "    }\n",
       "\n",
       "    .dataframe thead th {\n",
       "        text-align: right;\n",
       "    }\n",
       "</style>\n",
       "<table border=\"1\" class=\"dataframe\">\n",
       "  <thead>\n",
       "    <tr style=\"text-align: right;\">\n",
       "      <th></th>\n",
       "      <th>숙소_유형</th>\n",
       "      <th>숙소_가격</th>\n",
       "    </tr>\n",
       "  </thead>\n",
       "  <tbody>\n",
       "    <tr>\n",
       "      <th>0</th>\n",
       "      <td>Entire home/apt</td>\n",
       "      <td>160.0</td>\n",
       "    </tr>\n",
       "    <tr>\n",
       "      <th>2</th>\n",
       "      <td>Entire home/apt</td>\n",
       "      <td>120.0</td>\n",
       "    </tr>\n",
       "    <tr>\n",
       "      <th>4</th>\n",
       "      <td>Entire home/apt</td>\n",
       "      <td>100.0</td>\n",
       "    </tr>\n",
       "    <tr>\n",
       "      <th>10</th>\n",
       "      <td>Entire home/apt</td>\n",
       "      <td>137.0</td>\n",
       "    </tr>\n",
       "    <tr>\n",
       "      <th>14</th>\n",
       "      <td>Entire home/apt</td>\n",
       "      <td>112.0</td>\n",
       "    </tr>\n",
       "    <tr>\n",
       "      <th>...</th>\n",
       "      <td>...</td>\n",
       "      <td>...</td>\n",
       "    </tr>\n",
       "    <tr>\n",
       "      <th>84622</th>\n",
       "      <td>Shared room</td>\n",
       "      <td>20.0</td>\n",
       "    </tr>\n",
       "    <tr>\n",
       "      <th>86052</th>\n",
       "      <td>Shared room</td>\n",
       "      <td>34.0</td>\n",
       "    </tr>\n",
       "    <tr>\n",
       "      <th>86741</th>\n",
       "      <td>Shared room</td>\n",
       "      <td>24.0</td>\n",
       "    </tr>\n",
       "    <tr>\n",
       "      <th>87509</th>\n",
       "      <td>Shared room</td>\n",
       "      <td>45.0</td>\n",
       "    </tr>\n",
       "    <tr>\n",
       "      <th>88536</th>\n",
       "      <td>Shared room</td>\n",
       "      <td>24.0</td>\n",
       "    </tr>\n",
       "  </tbody>\n",
       "</table>\n",
       "<p>40685 rows × 2 columns</p>\n",
       "</div>"
      ],
      "text/plain": [
       "                 숙소_유형  숙소_가격\n",
       "0      Entire home/apt  160.0\n",
       "2      Entire home/apt  120.0\n",
       "4      Entire home/apt  100.0\n",
       "10     Entire home/apt  137.0\n",
       "14     Entire home/apt  112.0\n",
       "...                ...    ...\n",
       "84622      Shared room   20.0\n",
       "86052      Shared room   34.0\n",
       "86741      Shared room   24.0\n",
       "87509      Shared room   45.0\n",
       "88536      Shared room   24.0\n",
       "\n",
       "[40685 rows x 2 columns]"
      ]
     },
     "execution_count": 1010,
     "metadata": {},
     "output_type": "execute_result"
    }
   ],
   "source": [
    "#숙소유형별 숙소_가격 이상치 제거한 데이터\n",
    "London_lodging_type"
   ]
  },
  {
   "cell_type": "code",
   "execution_count": 1011,
   "metadata": {},
   "outputs": [
    {
     "data": {
      "image/png": "[encoded data removed]",
      "text/plain": [
       "<Figure size 1000x600 with 1 Axes>"
      ]
     },
     "metadata": {},
     "output_type": "display_data"
    }
   ],
   "source": [
    "import seaborn as sns\n",
    "import matplotlib.pyplot as plt\n",
    "\n",
    "# 숙소 유형별로 숙소 가격의 분포를 시각화\n",
    "plt.figure(figsize=(10, 6))\n",
    "sns.boxplot(data=London_lodging_type, x='숙소_유형', y='숙소_가격')\n",
    "plt.title('숙소유형별 숙소가격 이상치 제거')\n",
    "plt.xlabel('숙소유형')\n",
    "plt.ylabel('숙소가격')\n",
    "plt.show()"
   ]
  },
  {
   "cell_type": "code",
   "execution_count": 1012,
   "metadata": {},
   "outputs": [
    {
     "data": {
      "text/plain": [
       "숙소_유형\n",
       "Entire home/apt    28761\n",
       "Private room       14421\n",
       "Shared room          161\n",
       "Hotel room           103\n",
       "Name: count, dtype: int64"
      ]
     },
     "execution_count": 1012,
     "metadata": {},
     "output_type": "execute_result"
    }
   ],
   "source": [
    "df['숙소_유형'].value_counts()"
   ]
  },
  {
   "cell_type": "code",
   "execution_count": 1013,
   "metadata": {},
   "outputs": [
    {
     "data": {
      "text/plain": [
       "숙소_유형\n",
       "Entire home/apt    26925\n",
       "Private room       13524\n",
       "Shared room          143\n",
       "Hotel room            93\n",
       "Name: count, dtype: int64"
      ]
     },
     "execution_count": 1013,
     "metadata": {},
     "output_type": "execute_result"
    }
   ],
   "source": [
    "London_lodging_type['숙소_유형'].value_counts()"
   ]
  },
  {
   "cell_type": "code",
   "execution_count": 1014,
   "metadata": {},
   "outputs": [
    {
     "name": "stdout",
     "output_type": "stream",
     "text": [
      "             숙소_유형  숙소_가격\n",
      "0  Entire home/apt  171.9\n",
      "1       Hotel room  163.2\n",
      "2     Private room   61.4\n",
      "3      Shared room   46.4\n"
     ]
    }
   ],
   "source": [
    "# 각 유형별 가격의 평균 \n",
    "avg_price_by_type = round(London_lodging_type.groupby('숙소_유형')['숙소_가격'].mean(),1).reset_index()\n",
    "\n",
    "# 결과 출력\n",
    "print(avg_price_by_type)"
   ]
  },
  {
   "cell_type": "code",
   "execution_count": 1015,
   "metadata": {},
   "outputs": [],
   "source": [
    "London_type = df['숙소_유형']\n",
    "\n",
    "London_Entire_home = df[df['숙소_유형'] == 'Entire home/apt']\n",
    "London_Private_room = df[df['숙소_유형'] == 'Private room']\n",
    "London_Hotel_room = df[df['숙소_유형'] == 'Hotel room']\n",
    "London_Shared_room = df[df['숙소_유형'] == 'Shared room']\n"
   ]
  },
  {
   "cell_type": "markdown",
   "metadata": {},
   "source": [
    "<h3>숙소 지역과 숙소가격 이상치 제거</h3>\n"
   ]
  },
  {
   "cell_type": "code",
   "execution_count": 1016,
   "metadata": {},
   "outputs": [
    {
     "data": {
      "image/png": "[encoded data removed]",
      "text/plain": [
       "<Figure size 1000x600 with 1 Axes>"
      ]
     },
     "metadata": {},
     "output_type": "display_data"
    }
   ],
   "source": [
    "import seaborn as sns\n",
    "import matplotlib.pyplot as plt\n",
    "\n",
    "# 숙소 유형별로 숙소 가격의 분포를 시각화\n",
    "plt.figure(figsize=(10, 6))\n",
    "sns.boxplot(data=df, x='숙소_지역', y='숙소_가격')\n",
    "plt.title('숙소지역별 숙소가격 이상치 확인')\n",
    "plt.xlabel('숙소지역')\n",
    "plt.ylabel('숙소가격')\n",
    "plt.xticks(rotation=90)\n",
    "plt.show()"
   ]
  },
  {
   "cell_type": "code",
   "execution_count": 1017,
   "metadata": {},
   "outputs": [
    {
     "name": "stdout",
     "output_type": "stream",
     "text": [
      "         숙소_지역  숙소_가격\n",
      "0      Hackney  160.0\n",
      "10     Hackney  137.0\n",
      "16     Hackney  145.0\n",
      "75     Hackney  200.0\n",
      "121    Hackney  250.0\n",
      "...        ...    ...\n",
      "85888   Bexley  106.0\n",
      "85957   Bexley   28.0\n",
      "87010   Bexley  129.0\n",
      "88386   Bexley   40.0\n",
      "89602   Bexley   30.0\n",
      "\n",
      "[41119 rows x 2 columns]\n"
     ]
    }
   ],
   "source": [
    "import pandas as pd\n",
    "import numpy as np\n",
    "\n",
    "# 이상치 제거 함수 정의\n",
    "def remove_outliers(df):\n",
    "    London_lodging_area = pd.DataFrame()\n",
    "    for room_area in df['숙소_지역'].unique():\n",
    "        # 각 숙소 유형별 가격 데이터 추출\n",
    "        prices = df[df['숙소_지역'] == room_area]['숙소_가격']\n",
    "        # 이상치 경계 계산\n",
    "        Q1 = np.percentile(prices, 25)\n",
    "        Q3 = np.percentile(prices, 75)\n",
    "        IQR = Q3 - Q1\n",
    "        lower_bound = Q1 - 1.5 * IQR\n",
    "        upper_bound = Q3 + 1.5 * IQR\n",
    "        # 이상치 제거\n",
    "        outliers_removed = prices[(prices >= lower_bound) & (prices <= upper_bound)]\n",
    "        # 이상치가 제거된 데이터를 새로운 데이터프레임에 추가\n",
    "        London_lodging_area = pd.concat([London_lodging_area, pd.DataFrame({'숙소_지역': room_area, '숙소_가격': outliers_removed})])\n",
    "    return London_lodging_area\n",
    "\n",
    "# 이상치 제거 함수 호출\n",
    "London_lodging_area = remove_outliers(df)\n",
    "\n",
    "# 이상치 제거 후 결과 확인\n",
    "print(London_lodging_area)"
   ]
  },
  {
   "cell_type": "code",
   "execution_count": 1018,
   "metadata": {},
   "outputs": [
    {
     "name": "stdout",
     "output_type": "stream",
     "text": [
      "43446\n",
      "41119\n",
      "이상치 값의 개수: 2327\n"
     ]
    }
   ],
   "source": [
    "# 이상치 제거 전 데이터프레임의 크기\n",
    "original_size = len(df)\n",
    "\n",
    "# 이상치 제거 후 데이터프레임의 크기\n",
    "cleaned_size = len(London_lodging_area)\n",
    "\n",
    "# 이상치 값의 개수 계산\n",
    "outliers_removed_count = original_size - cleaned_size\n",
    "print(original_size)\n",
    "print(cleaned_size)\n",
    "\n",
    "print(\"이상치 값의 개수:\", outliers_removed_count)"
   ]
  },
  {
   "cell_type": "code",
   "execution_count": 1019,
   "metadata": {},
   "outputs": [
    {
     "data": {
      "image/png": "[encoded data removed]",
      "text/plain": [
       "<Figure size 1000x600 with 1 Axes>"
      ]
     },
     "metadata": {},
     "output_type": "display_data"
    }
   ],
   "source": [
    "import seaborn as sns\n",
    "import matplotlib.pyplot as plt\n",
    "\n",
    "# 숙소 유형별로 숙소 가격의 분포를 시각화\n",
    "plt.figure(figsize=(10, 6))\n",
    "sns.boxplot(data=London_lodging_area, x='숙소_지역', y='숙소_가격')\n",
    "plt.title('숙소지역별 숙소가격 이상치 제거')\n",
    "plt.xlabel('숙소지역')\n",
    "plt.ylabel('숙소가격')\n",
    "plt.xticks(rotation=90)\n",
    "\n",
    "plt.show()"
   ]
  },
  {
   "cell_type": "code",
   "execution_count": 1020,
   "metadata": {},
   "outputs": [
    {
     "name": "stdout",
     "output_type": "stream",
     "text": [
      "                     숙소_지역  숙소_가격\n",
      "0     Barking and Dagenham   88.4\n",
      "1                   Barnet  102.6\n",
      "2                   Bexley   79.2\n",
      "3                    Brent  102.8\n",
      "4                  Bromley   95.0\n",
      "5                   Camden  158.6\n",
      "6           City of London  182.8\n",
      "7                  Croydon   73.6\n",
      "8                   Ealing   96.5\n",
      "9                  Enfield   90.9\n",
      "10               Greenwich  108.6\n",
      "11                 Hackney  127.0\n",
      "12  Hammersmith and Fulham  139.4\n",
      "13                Haringey  102.9\n",
      "14                  Harrow   83.8\n",
      "15                Havering   99.9\n",
      "16              Hillingdon   83.3\n",
      "17                Hounslow  109.0\n",
      "18               Islington  128.2\n",
      "19  Kensington and Chelsea  207.6\n",
      "20    Kingston upon Thames  102.3\n",
      "21                 Lambeth  118.6\n",
      "22                Lewisham   94.4\n",
      "23                  Merton  106.5\n",
      "24                  Newham  114.0\n",
      "25               Redbridge   88.7\n",
      "26    Richmond upon Thames  136.5\n",
      "27               Southwark  126.9\n",
      "28                  Sutton   72.4\n",
      "29           Tower Hamlets  120.2\n",
      "30          Waltham Forest   93.5\n",
      "31              Wandsworth  135.5\n",
      "32             Westminster  206.4\n"
     ]
    }
   ],
   "source": [
    "# 각 지역별 가격의 평균 \n",
    "avg_price_by_area = round(London_lodging_area.groupby('숙소_지역')['숙소_가격'].mean(),1).reset_index()\n",
    "\n",
    "# 결과 출력\n",
    "print(avg_price_by_area)"
   ]
  },
  {
   "cell_type": "code",
   "execution_count": 1021,
   "metadata": {},
   "outputs": [
    {
     "data": {
      "text/plain": [
       "array(['Hackney', 'Islington', 'Kensington and Chelsea', 'Lambeth',\n",
       "       'Westminster', 'Richmond upon Thames', 'Tower Hamlets',\n",
       "       'Wandsworth', 'Camden', 'Haringey', 'Enfield',\n",
       "       'Hammersmith and Fulham', 'Southwark', 'Brent', 'Waltham Forest',\n",
       "       'Barnet', 'Barking and Dagenham', 'Croydon', 'Ealing', 'Lewisham',\n",
       "       'Merton', 'City of London', 'Greenwich', 'Hounslow', 'Newham',\n",
       "       'Hillingdon', 'Harrow', 'Redbridge', 'Kingston upon Thames',\n",
       "       'Bromley', 'Sutton', 'Havering', 'Bexley'], dtype=object)"
      ]
     },
     "execution_count": 1021,
     "metadata": {},
     "output_type": "execute_result"
    }
   ],
   "source": [
    "df['숙소_지역'].unique()"
   ]
  },
  {
   "cell_type": "code",
   "execution_count": 1022,
   "metadata": {},
   "outputs": [],
   "source": [
    "mean = df['숙소_가격'].values\n",
    "\n",
    "mean1 = df[df['숙소_유형'] == 'Entire home/apt'].숙소_가격\n",
    "mean2 = df[df['숙소_유형'] == 'Private room'].숙소_가격\n",
    "mean3 = df[df['숙소_유형'] == 'Hotel room'].숙소_가격\n",
    "mean4 = df[df['숙소_유형'] == 'Shared room'].숙소_가격"
   ]
  },
  {
   "cell_type": "markdown",
   "metadata": {},
   "source": [
    "- Chi-square value (카이제곱 값)이 크면 실제로 기대빈도와 관찰된 빈도 간에 유의미한 차이가 있다는 뜻 \n",
    "- p-value 0.05보다 작으므로 통계적으로 유의미한 관련성이 있다. \n",
    "- Degrees of freedom (자유도) : 96개의 독립적인 정보를 조작할수 있다 . 자유도가 높을수록 검정 통계량이 더욱 정확하게 측정된다. 96으로 높으므로 결과의 신뢰도가 높음"
   ]
  },
  {
   "cell_type": "code",
   "execution_count": 1023,
   "metadata": {},
   "outputs": [
    {
     "data": {
      "image/png": "[encoded data removed]",
      "text/plain": [
       "<Figure size 1000x600 with 1 Axes>"
      ]
     },
     "metadata": {},
     "output_type": "display_data"
    }
   ],
   "source": [
    "# 막대 그래프 그리기\n",
    "\n",
    "import seaborn as sns \n",
    "\n",
    "plt.figure(figsize=(10, 6))\n",
    "sns.barplot(data=London_lodging_type, x='숙소_유형', y='숙소_가격')\n",
    "plt.title('숙소유형별 평균가격 범위')\n",
    "plt.xlabel('숙소유형')\n",
    "plt.ylabel('평균가격')\n",
    "plt.xticks(rotation=45)\n",
    "plt.show()"
   ]
  },
  {
   "cell_type": "code",
   "execution_count": 1024,
   "metadata": {},
   "outputs": [
    {
     "data": {
      "image/png": "[encoded data removed]",
      "text/plain": [
       "<Figure size 1000x600 with 1 Axes>"
      ]
     },
     "metadata": {},
     "output_type": "display_data"
    }
   ],
   "source": [
    "# 막대 그래프 그리기\n",
    "\n",
    "import seaborn as sns \n",
    "\n",
    "plt.figure(figsize=(10, 6))\n",
    "sns.barplot(data=London_lodging_area, x='숙소_지역', y='숙소_가격')\n",
    "plt.title('숙소지역별 평균가격 범위')\n",
    "plt.xlabel('숙소지역')\n",
    "plt.ylabel('평균가격')\n",
    "plt.xticks(rotation=90)\n",
    "plt.show()"
   ]
  },
  {
   "cell_type": "markdown",
   "metadata": {},
   "source": [
    "<h3>숙소가격 결측치 처리 </h3>"
   ]
  },
  {
   "cell_type": "code",
   "execution_count": 1025,
   "metadata": {},
   "outputs": [
    {
     "data": {
      "text/plain": [
       "(65516, 31)"
      ]
     },
     "execution_count": 1025,
     "metadata": {},
     "output_type": "execute_result"
    }
   ],
   "source": [
    "#리뷰수가 0 인 값 / 숙소수 null 값 / 슈퍼호스트 null 값 제거한 데이터\n",
    "#(숙소 유형. 지역 별 숙소가격의 이상치값 제거는 원본 df값에 반영 안함)\n",
    "#단지 숙소가격 결측치 처리를 위해 실행한 것 \n",
    "dat.shape"
   ]
  },
  {
   "cell_type": "code",
   "execution_count": 1026,
   "metadata": {},
   "outputs": [
    {
     "data": {
      "text/html": [
       "<div>\n",
       "<style scoped>\n",
       "    .dataframe tbody tr th:only-of-type {\n",
       "        vertical-align: middle;\n",
       "    }\n",
       "\n",
       "    .dataframe tbody tr th {\n",
       "        vertical-align: top;\n",
       "    }\n",
       "\n",
       "    .dataframe thead th {\n",
       "        text-align: right;\n",
       "    }\n",
       "</style>\n",
       "<table border=\"1\" class=\"dataframe\">\n",
       "  <thead>\n",
       "    <tr style=\"text-align: right;\">\n",
       "      <th></th>\n",
       "      <th>숙소_유형</th>\n",
       "      <th>숙소_가격</th>\n",
       "    </tr>\n",
       "  </thead>\n",
       "  <tbody>\n",
       "    <tr>\n",
       "      <th>0</th>\n",
       "      <td>Entire home/apt</td>\n",
       "      <td>171.9</td>\n",
       "    </tr>\n",
       "    <tr>\n",
       "      <th>1</th>\n",
       "      <td>Hotel room</td>\n",
       "      <td>163.2</td>\n",
       "    </tr>\n",
       "    <tr>\n",
       "      <th>2</th>\n",
       "      <td>Private room</td>\n",
       "      <td>61.4</td>\n",
       "    </tr>\n",
       "    <tr>\n",
       "      <th>3</th>\n",
       "      <td>Shared room</td>\n",
       "      <td>46.4</td>\n",
       "    </tr>\n",
       "  </tbody>\n",
       "</table>\n",
       "</div>"
      ],
      "text/plain": [
       "             숙소_유형  숙소_가격\n",
       "0  Entire home/apt  171.9\n",
       "1       Hotel room  163.2\n",
       "2     Private room   61.4\n",
       "3      Shared room   46.4"
      ]
     },
     "execution_count": 1026,
     "metadata": {},
     "output_type": "execute_result"
    }
   ],
   "source": [
    "avg_price_by_type"
   ]
  },
  {
   "cell_type": "code",
   "execution_count": 1027,
   "metadata": {},
   "outputs": [
    {
     "data": {
      "text/html": [
       "<div>\n",
       "<style scoped>\n",
       "    .dataframe tbody tr th:only-of-type {\n",
       "        vertical-align: middle;\n",
       "    }\n",
       "\n",
       "    .dataframe tbody tr th {\n",
       "        vertical-align: top;\n",
       "    }\n",
       "\n",
       "    .dataframe thead th {\n",
       "        text-align: right;\n",
       "    }\n",
       "</style>\n",
       "<table border=\"1\" class=\"dataframe\">\n",
       "  <thead>\n",
       "    <tr style=\"text-align: right;\">\n",
       "      <th></th>\n",
       "      <th>숙소_지역</th>\n",
       "      <th>숙소_가격</th>\n",
       "    </tr>\n",
       "  </thead>\n",
       "  <tbody>\n",
       "    <tr>\n",
       "      <th>0</th>\n",
       "      <td>Barking and Dagenham</td>\n",
       "      <td>88.4</td>\n",
       "    </tr>\n",
       "    <tr>\n",
       "      <th>1</th>\n",
       "      <td>Barnet</td>\n",
       "      <td>102.6</td>\n",
       "    </tr>\n",
       "    <tr>\n",
       "      <th>2</th>\n",
       "      <td>Bexley</td>\n",
       "      <td>79.2</td>\n",
       "    </tr>\n",
       "    <tr>\n",
       "      <th>3</th>\n",
       "      <td>Brent</td>\n",
       "      <td>102.8</td>\n",
       "    </tr>\n",
       "    <tr>\n",
       "      <th>4</th>\n",
       "      <td>Bromley</td>\n",
       "      <td>95.0</td>\n",
       "    </tr>\n",
       "    <tr>\n",
       "      <th>5</th>\n",
       "      <td>Camden</td>\n",
       "      <td>158.6</td>\n",
       "    </tr>\n",
       "    <tr>\n",
       "      <th>6</th>\n",
       "      <td>City of London</td>\n",
       "      <td>182.8</td>\n",
       "    </tr>\n",
       "    <tr>\n",
       "      <th>7</th>\n",
       "      <td>Croydon</td>\n",
       "      <td>73.6</td>\n",
       "    </tr>\n",
       "    <tr>\n",
       "      <th>8</th>\n",
       "      <td>Ealing</td>\n",
       "      <td>96.5</td>\n",
       "    </tr>\n",
       "    <tr>\n",
       "      <th>9</th>\n",
       "      <td>Enfield</td>\n",
       "      <td>90.9</td>\n",
       "    </tr>\n",
       "    <tr>\n",
       "      <th>10</th>\n",
       "      <td>Greenwich</td>\n",
       "      <td>108.6</td>\n",
       "    </tr>\n",
       "    <tr>\n",
       "      <th>11</th>\n",
       "      <td>Hackney</td>\n",
       "      <td>127.0</td>\n",
       "    </tr>\n",
       "    <tr>\n",
       "      <th>12</th>\n",
       "      <td>Hammersmith and Fulham</td>\n",
       "      <td>139.4</td>\n",
       "    </tr>\n",
       "    <tr>\n",
       "      <th>13</th>\n",
       "      <td>Haringey</td>\n",
       "      <td>102.9</td>\n",
       "    </tr>\n",
       "    <tr>\n",
       "      <th>14</th>\n",
       "      <td>Harrow</td>\n",
       "      <td>83.8</td>\n",
       "    </tr>\n",
       "    <tr>\n",
       "      <th>15</th>\n",
       "      <td>Havering</td>\n",
       "      <td>99.9</td>\n",
       "    </tr>\n",
       "    <tr>\n",
       "      <th>16</th>\n",
       "      <td>Hillingdon</td>\n",
       "      <td>83.3</td>\n",
       "    </tr>\n",
       "    <tr>\n",
       "      <th>17</th>\n",
       "      <td>Hounslow</td>\n",
       "      <td>109.0</td>\n",
       "    </tr>\n",
       "    <tr>\n",
       "      <th>18</th>\n",
       "      <td>Islington</td>\n",
       "      <td>128.2</td>\n",
       "    </tr>\n",
       "    <tr>\n",
       "      <th>19</th>\n",
       "      <td>Kensington and Chelsea</td>\n",
       "      <td>207.6</td>\n",
       "    </tr>\n",
       "    <tr>\n",
       "      <th>20</th>\n",
       "      <td>Kingston upon Thames</td>\n",
       "      <td>102.3</td>\n",
       "    </tr>\n",
       "    <tr>\n",
       "      <th>21</th>\n",
       "      <td>Lambeth</td>\n",
       "      <td>118.6</td>\n",
       "    </tr>\n",
       "    <tr>\n",
       "      <th>22</th>\n",
       "      <td>Lewisham</td>\n",
       "      <td>94.4</td>\n",
       "    </tr>\n",
       "    <tr>\n",
       "      <th>23</th>\n",
       "      <td>Merton</td>\n",
       "      <td>106.5</td>\n",
       "    </tr>\n",
       "    <tr>\n",
       "      <th>24</th>\n",
       "      <td>Newham</td>\n",
       "      <td>114.0</td>\n",
       "    </tr>\n",
       "    <tr>\n",
       "      <th>25</th>\n",
       "      <td>Redbridge</td>\n",
       "      <td>88.7</td>\n",
       "    </tr>\n",
       "    <tr>\n",
       "      <th>26</th>\n",
       "      <td>Richmond upon Thames</td>\n",
       "      <td>136.5</td>\n",
       "    </tr>\n",
       "    <tr>\n",
       "      <th>27</th>\n",
       "      <td>Southwark</td>\n",
       "      <td>126.9</td>\n",
       "    </tr>\n",
       "    <tr>\n",
       "      <th>28</th>\n",
       "      <td>Sutton</td>\n",
       "      <td>72.4</td>\n",
       "    </tr>\n",
       "    <tr>\n",
       "      <th>29</th>\n",
       "      <td>Tower Hamlets</td>\n",
       "      <td>120.2</td>\n",
       "    </tr>\n",
       "    <tr>\n",
       "      <th>30</th>\n",
       "      <td>Waltham Forest</td>\n",
       "      <td>93.5</td>\n",
       "    </tr>\n",
       "    <tr>\n",
       "      <th>31</th>\n",
       "      <td>Wandsworth</td>\n",
       "      <td>135.5</td>\n",
       "    </tr>\n",
       "    <tr>\n",
       "      <th>32</th>\n",
       "      <td>Westminster</td>\n",
       "      <td>206.4</td>\n",
       "    </tr>\n",
       "  </tbody>\n",
       "</table>\n",
       "</div>"
      ],
      "text/plain": [
       "                     숙소_지역  숙소_가격\n",
       "0     Barking and Dagenham   88.4\n",
       "1                   Barnet  102.6\n",
       "2                   Bexley   79.2\n",
       "3                    Brent  102.8\n",
       "4                  Bromley   95.0\n",
       "5                   Camden  158.6\n",
       "6           City of London  182.8\n",
       "7                  Croydon   73.6\n",
       "8                   Ealing   96.5\n",
       "9                  Enfield   90.9\n",
       "10               Greenwich  108.6\n",
       "11                 Hackney  127.0\n",
       "12  Hammersmith and Fulham  139.4\n",
       "13                Haringey  102.9\n",
       "14                  Harrow   83.8\n",
       "15                Havering   99.9\n",
       "16              Hillingdon   83.3\n",
       "17                Hounslow  109.0\n",
       "18               Islington  128.2\n",
       "19  Kensington and Chelsea  207.6\n",
       "20    Kingston upon Thames  102.3\n",
       "21                 Lambeth  118.6\n",
       "22                Lewisham   94.4\n",
       "23                  Merton  106.5\n",
       "24                  Newham  114.0\n",
       "25               Redbridge   88.7\n",
       "26    Richmond upon Thames  136.5\n",
       "27               Southwark  126.9\n",
       "28                  Sutton   72.4\n",
       "29           Tower Hamlets  120.2\n",
       "30          Waltham Forest   93.5\n",
       "31              Wandsworth  135.5\n",
       "32             Westminster  206.4"
      ]
     },
     "execution_count": 1027,
     "metadata": {},
     "output_type": "execute_result"
    }
   ],
   "source": [
    "avg_price_by_area"
   ]
  },
  {
   "cell_type": "code",
   "execution_count": 1028,
   "metadata": {},
   "outputs": [
    {
     "data": {
      "text/html": [
       "<div>\n",
       "<style scoped>\n",
       "    .dataframe tbody tr th:only-of-type {\n",
       "        vertical-align: middle;\n",
       "    }\n",
       "\n",
       "    .dataframe tbody tr th {\n",
       "        vertical-align: top;\n",
       "    }\n",
       "\n",
       "    .dataframe thead th {\n",
       "        text-align: right;\n",
       "    }\n",
       "</style>\n",
       "<table border=\"1\" class=\"dataframe\">\n",
       "  <thead>\n",
       "    <tr style=\"text-align: right;\">\n",
       "      <th></th>\n",
       "      <th>숙소_지역</th>\n",
       "      <th>숙소_유형</th>\n",
       "      <th>숙소_가격</th>\n",
       "    </tr>\n",
       "  </thead>\n",
       "  <tbody>\n",
       "    <tr>\n",
       "      <th>0</th>\n",
       "      <td>Barking and Dagenham</td>\n",
       "      <td>Entire home/apt</td>\n",
       "      <td>136.515152</td>\n",
       "    </tr>\n",
       "    <tr>\n",
       "      <th>1</th>\n",
       "      <td>Barking and Dagenham</td>\n",
       "      <td>Private room</td>\n",
       "      <td>61.662338</td>\n",
       "    </tr>\n",
       "    <tr>\n",
       "      <th>2</th>\n",
       "      <td>Barking and Dagenham</td>\n",
       "      <td>Shared room</td>\n",
       "      <td>70.000000</td>\n",
       "    </tr>\n",
       "    <tr>\n",
       "      <th>3</th>\n",
       "      <td>Barnet</td>\n",
       "      <td>Entire home/apt</td>\n",
       "      <td>151.645638</td>\n",
       "    </tr>\n",
       "    <tr>\n",
       "      <th>4</th>\n",
       "      <td>Barnet</td>\n",
       "      <td>Private room</td>\n",
       "      <td>65.859740</td>\n",
       "    </tr>\n",
       "    <tr>\n",
       "      <th>...</th>\n",
       "      <td>...</td>\n",
       "      <td>...</td>\n",
       "      <td>...</td>\n",
       "    </tr>\n",
       "    <tr>\n",
       "      <th>103</th>\n",
       "      <td>Wandsworth</td>\n",
       "      <td>Shared room</td>\n",
       "      <td>66.666667</td>\n",
       "    </tr>\n",
       "    <tr>\n",
       "      <th>104</th>\n",
       "      <td>Westminster</td>\n",
       "      <td>Entire home/apt</td>\n",
       "      <td>280.312100</td>\n",
       "    </tr>\n",
       "    <tr>\n",
       "      <th>105</th>\n",
       "      <td>Westminster</td>\n",
       "      <td>Hotel room</td>\n",
       "      <td>423.440000</td>\n",
       "    </tr>\n",
       "    <tr>\n",
       "      <th>106</th>\n",
       "      <td>Westminster</td>\n",
       "      <td>Private room</td>\n",
       "      <td>134.220220</td>\n",
       "    </tr>\n",
       "    <tr>\n",
       "      <th>107</th>\n",
       "      <td>Westminster</td>\n",
       "      <td>Shared room</td>\n",
       "      <td>454.666667</td>\n",
       "    </tr>\n",
       "  </tbody>\n",
       "</table>\n",
       "<p>108 rows × 3 columns</p>\n",
       "</div>"
      ],
      "text/plain": [
       "                    숙소_지역            숙소_유형       숙소_가격\n",
       "0    Barking and Dagenham  Entire home/apt  136.515152\n",
       "1    Barking and Dagenham     Private room   61.662338\n",
       "2    Barking and Dagenham      Shared room   70.000000\n",
       "3                  Barnet  Entire home/apt  151.645638\n",
       "4                  Barnet     Private room   65.859740\n",
       "..                    ...              ...         ...\n",
       "103            Wandsworth      Shared room   66.666667\n",
       "104           Westminster  Entire home/apt  280.312100\n",
       "105           Westminster       Hotel room  423.440000\n",
       "106           Westminster     Private room  134.220220\n",
       "107           Westminster      Shared room  454.666667\n",
       "\n",
       "[108 rows x 3 columns]"
      ]
     },
     "execution_count": 1028,
     "metadata": {},
     "output_type": "execute_result"
    }
   ],
   "source": [
    "avg_price_by_area_type"
   ]
  },
  {
   "cell_type": "code",
   "execution_count": 1029,
   "metadata": {},
   "outputs": [],
   "source": [
    "London_Price_Nan = dat[dat['숙소_가격'].isna()]"
   ]
  },
  {
   "cell_type": "code",
   "execution_count": 1030,
   "metadata": {},
   "outputs": [
    {
     "data": {
      "text/plain": [
       "22070"
      ]
     },
     "execution_count": 1030,
     "metadata": {},
     "output_type": "execute_result"
    }
   ],
   "source": [
    "dat['숙소_가격'].isna().sum()"
   ]
  },
  {
   "cell_type": "markdown",
   "metadata": {},
   "source": [
    "원본 숙소지역과 숙소유형 별 숙소 가격의 평균 --> (가격이 nan값인 데이터)의 숙소지역과 숙소유형 별 숙소 가격에 반영"
   ]
  },
  {
   "cell_type": "code",
   "execution_count": 1031,
   "metadata": {},
   "outputs": [
    {
     "name": "stdout",
     "output_type": "stream",
     "text": [
      "                     숙소_id                                            숙소_url  \\\n",
      "5                   313710               https://www.airbnb.com/rooms/313710   \n",
      "6                   168359               https://www.airbnb.com/rooms/168359   \n",
      "8                    24328                https://www.airbnb.com/rooms/24328   \n",
      "11                  170702               https://www.airbnb.com/rooms/170702   \n",
      "13                  314985               https://www.airbnb.com/rooms/314985   \n",
      "...                    ...                                               ...   \n",
      "87029  1089297954935898261  https://www.airbnb.com/rooms/1089297954935898261   \n",
      "87276  1090640057985958105  https://www.airbnb.com/rooms/1090640057985958105   \n",
      "87290  1090452783507963913  https://www.airbnb.com/rooms/1090452783507963913   \n",
      "87300  1090481573621124067  https://www.airbnb.com/rooms/1090481573621124067   \n",
      "88004  1095441435477010989  https://www.airbnb.com/rooms/1095441435477010989   \n",
      "\n",
      "                                                 숙소_상세설명     호스트_id  \\\n",
      "5      Bright  First Floor 1 bed flat with private ro...    1612623   \n",
      "6      This 2 bedroom flat is in a brilliantly conven...     648725   \n",
      "8      Artist house, bright high ceiling rooms for bo...      41759   \n",
      "11                                                   NaN     814004   \n",
      "13                                                   NaN    1617885   \n",
      "...                                                  ...        ...   \n",
      "87029  A stylish newly built 2 bedroom flat on the to...  124413326   \n",
      "87276  Spacious 1 bedroom flat with full amenities in...  543091250   \n",
      "87290  Enjoy easy access to Barking Station from this...  403509869   \n",
      "87300  1. Spacious furnished rooms with bed, wardrobe...  431163410   \n",
      "88004  Experience London from the comfort of this tru...   33561493   \n",
      "\n",
      "      프로필사진_소지_여부 신원_검증_여부 슈퍼호스트  숙소_수                   숙소_지역         위도  \\\n",
      "5               t        t     f   1.0                   Brent  51.533470   \n",
      "6               t        f     f   2.0               Southwark  51.491850   \n",
      "8               t        t     f   3.0              Wandsworth  51.470720   \n",
      "11              t        t     f   1.0           Tower Hamlets  51.496860   \n",
      "13              t        f     f   1.0                  Newham  51.526260   \n",
      "...           ...      ...   ...   ...                     ...        ...   \n",
      "87029           t        t     f   1.0    Kingston upon Thames  51.403807   \n",
      "87276           t        t     f   2.0  Kensington and Chelsea  51.486730   \n",
      "87290           t        t     t  11.0    Barking and Dagenham  51.536394   \n",
      "87300           t        t     f  22.0           Tower Hamlets  51.520802   \n",
      "88004           t        t     f   2.0             Westminster  51.526263   \n",
      "\n",
      "       ...  리뷰수 30일_리뷰수  리뷰점수  숙소_정확성_리뷰점수  숙소_청결도_리뷰점수  숙소_체크인_리뷰점수  \\\n",
      "5      ...   10       0  4.88         4.67         4.89         4.89   \n",
      "6      ...    9       0  4.63         4.75         4.63         4.88   \n",
      "8      ...   94       0  4.90         4.89         4.91         4.90   \n",
      "11     ...  135       0  4.95         4.97         4.98         4.94   \n",
      "13     ...    6       0  4.80         4.83         4.33         5.00   \n",
      "...    ...  ...     ...   ...          ...          ...          ...   \n",
      "87029  ...    6       6  5.00         5.00         4.75         5.00   \n",
      "87276  ...    3       3  5.00         5.00         5.00         5.00   \n",
      "87290  ...    5       5  4.40         4.60         4.80         4.80   \n",
      "87300  ...    1       1  5.00         5.00         5.00         4.00   \n",
      "88004  ...    3       3  5.00         5.00         5.00         5.00   \n",
      "\n",
      "      숙소_소통_리뷰점수  숙소_위치_리뷰점수 숙소_가격_리뷰점수  평균_리뷰수  \n",
      "5           5.00        4.56       4.67    0.07  \n",
      "6           4.88        4.13       4.75    0.06  \n",
      "8           4.93        4.59       4.65    0.58  \n",
      "11          4.98        4.79       4.93    0.88  \n",
      "13          5.00        4.17       4.33    0.05  \n",
      "...          ...         ...        ...     ...  \n",
      "87029       4.75        4.75       5.00    6.00  \n",
      "87276       5.00        5.00       5.00    3.00  \n",
      "87290       4.40        4.20       4.20    5.00  \n",
      "87300       5.00        4.00       5.00    1.00  \n",
      "88004       5.00        5.00       5.00    3.00  \n",
      "\n",
      "[22070 rows x 31 columns]\n"
     ]
    }
   ],
   "source": [
    "# London_Price_Nan의 숙소 지역과 숙소 유형의 컬럼값이 avg_price_by_area_type의 숙소 지역과 숙소 유형과 같은 조건을 충족하는 경우\n",
    "for index, row in London_Price_Nan.iterrows():\n",
    "    condition = (avg_price_by_area_type['숙소_지역'] == row['숙소_지역']) & (avg_price_by_area_type['숙소_유형'] == row['숙소_유형'])\n",
    "    # 조건을 충족하는 경우 London_Price_Nan의 숙소 가격 값에 avg_price_by_area_type의 조건에 맞는 숙소 가격 값을 대입\n",
    "    if condition.any():\n",
    "        avg_price = avg_price_by_area_type.loc[condition, '숙소_가격'].values[0]\n",
    "        London_Price_Nan.at[index, '숙소_가격'] = avg_price\n",
    "\n",
    "# 결과 확인\n",
    "print(London_Price_Nan)"
   ]
  },
  {
   "cell_type": "code",
   "execution_count": 1032,
   "metadata": {},
   "outputs": [
    {
     "data": {
      "text/plain": [
       "12"
      ]
     },
     "execution_count": 1032,
     "metadata": {},
     "output_type": "execute_result"
    }
   ],
   "source": [
    "London_Price_Nan['숙소_가격'].isna().sum()"
   ]
  },
  {
   "cell_type": "markdown",
   "metadata": {},
   "source": [
    "대체후에도 결측치 12개가 나옴<br>\n",
    "이유는 각 해당 지역에 4개의숙소_유형이 다 있는게 아니였음 <br> "
   ]
  },
  {
   "cell_type": "code",
   "execution_count": 1033,
   "metadata": {},
   "outputs": [
    {
     "data": {
      "text/html": [
       "<div>\n",
       "<style scoped>\n",
       "    .dataframe tbody tr th:only-of-type {\n",
       "        vertical-align: middle;\n",
       "    }\n",
       "\n",
       "    .dataframe tbody tr th {\n",
       "        vertical-align: top;\n",
       "    }\n",
       "\n",
       "    .dataframe thead th {\n",
       "        text-align: right;\n",
       "    }\n",
       "</style>\n",
       "<table border=\"1\" class=\"dataframe\">\n",
       "  <thead>\n",
       "    <tr style=\"text-align: right;\">\n",
       "      <th></th>\n",
       "      <th>숙소_지역</th>\n",
       "      <th>숙소_유형</th>\n",
       "    </tr>\n",
       "  </thead>\n",
       "  <tbody>\n",
       "    <tr>\n",
       "      <th>1090</th>\n",
       "      <td>Islington</td>\n",
       "      <td>Shared room</td>\n",
       "    </tr>\n",
       "    <tr>\n",
       "      <th>8790</th>\n",
       "      <td>Islington</td>\n",
       "      <td>Shared room</td>\n",
       "    </tr>\n",
       "    <tr>\n",
       "      <th>18641</th>\n",
       "      <td>Islington</td>\n",
       "      <td>Shared room</td>\n",
       "    </tr>\n",
       "    <tr>\n",
       "      <th>20890</th>\n",
       "      <td>Barnet</td>\n",
       "      <td>Hotel room</td>\n",
       "    </tr>\n",
       "    <tr>\n",
       "      <th>21230</th>\n",
       "      <td>Islington</td>\n",
       "      <td>Hotel room</td>\n",
       "    </tr>\n",
       "    <tr>\n",
       "      <th>25508</th>\n",
       "      <td>Islington</td>\n",
       "      <td>Hotel room</td>\n",
       "    </tr>\n",
       "    <tr>\n",
       "      <th>27366</th>\n",
       "      <td>Islington</td>\n",
       "      <td>Hotel room</td>\n",
       "    </tr>\n",
       "    <tr>\n",
       "      <th>27367</th>\n",
       "      <td>Islington</td>\n",
       "      <td>Hotel room</td>\n",
       "    </tr>\n",
       "    <tr>\n",
       "      <th>27372</th>\n",
       "      <td>Islington</td>\n",
       "      <td>Hotel room</td>\n",
       "    </tr>\n",
       "    <tr>\n",
       "      <th>27433</th>\n",
       "      <td>Islington</td>\n",
       "      <td>Hotel room</td>\n",
       "    </tr>\n",
       "    <tr>\n",
       "      <th>32174</th>\n",
       "      <td>Lambeth</td>\n",
       "      <td>Hotel room</td>\n",
       "    </tr>\n",
       "    <tr>\n",
       "      <th>32768</th>\n",
       "      <td>Islington</td>\n",
       "      <td>Shared room</td>\n",
       "    </tr>\n",
       "  </tbody>\n",
       "</table>\n",
       "</div>"
      ],
      "text/plain": [
       "           숙소_지역        숙소_유형\n",
       "1090   Islington  Shared room\n",
       "8790   Islington  Shared room\n",
       "18641  Islington  Shared room\n",
       "20890     Barnet   Hotel room\n",
       "21230  Islington   Hotel room\n",
       "25508  Islington   Hotel room\n",
       "27366  Islington   Hotel room\n",
       "27367  Islington   Hotel room\n",
       "27372  Islington   Hotel room\n",
       "27433  Islington   Hotel room\n",
       "32174    Lambeth   Hotel room\n",
       "32768  Islington  Shared room"
      ]
     },
     "execution_count": 1033,
     "metadata": {},
     "output_type": "execute_result"
    }
   ],
   "source": [
    "London_Price_Nan[London_Price_Nan['숙소_가격'].isna()][['숙소_지역','숙소_유형']]"
   ]
  },
  {
   "cell_type": "code",
   "execution_count": 1034,
   "metadata": {},
   "outputs": [
    {
     "data": {
      "text/html": [
       "<div>\n",
       "<style scoped>\n",
       "    .dataframe tbody tr th:only-of-type {\n",
       "        vertical-align: middle;\n",
       "    }\n",
       "\n",
       "    .dataframe tbody tr th {\n",
       "        vertical-align: top;\n",
       "    }\n",
       "\n",
       "    .dataframe thead th {\n",
       "        text-align: right;\n",
       "    }\n",
       "</style>\n",
       "<table border=\"1\" class=\"dataframe\">\n",
       "  <thead>\n",
       "    <tr style=\"text-align: right;\">\n",
       "      <th></th>\n",
       "      <th>숙소_지역</th>\n",
       "      <th>숙소_유형</th>\n",
       "      <th>숙소_가격</th>\n",
       "    </tr>\n",
       "  </thead>\n",
       "  <tbody>\n",
       "    <tr>\n",
       "      <th>58</th>\n",
       "      <td>Islington</td>\n",
       "      <td>Entire home/apt</td>\n",
       "      <td>184.11456</td>\n",
       "    </tr>\n",
       "    <tr>\n",
       "      <th>59</th>\n",
       "      <td>Islington</td>\n",
       "      <td>Private room</td>\n",
       "      <td>91.93440</td>\n",
       "    </tr>\n",
       "  </tbody>\n",
       "</table>\n",
       "</div>"
      ],
      "text/plain": [
       "        숙소_지역            숙소_유형      숙소_가격\n",
       "58  Islington  Entire home/apt  184.11456\n",
       "59  Islington     Private room   91.93440"
      ]
     },
     "execution_count": 1034,
     "metadata": {},
     "output_type": "execute_result"
    }
   ],
   "source": [
    "#원본 데이터에는 Islington 지역의 숙소유형이 2가지밖에 없었다.\n",
    "avg_price_by_area_type[avg_price_by_area_type['숙소_지역']=='Islington']\n"
   ]
  },
  {
   "cell_type": "code",
   "execution_count": 1035,
   "metadata": {},
   "outputs": [
    {
     "data": {
      "text/html": [
       "<div>\n",
       "<style scoped>\n",
       "    .dataframe tbody tr th:only-of-type {\n",
       "        vertical-align: middle;\n",
       "    }\n",
       "\n",
       "    .dataframe tbody tr th {\n",
       "        vertical-align: top;\n",
       "    }\n",
       "\n",
       "    .dataframe thead th {\n",
       "        text-align: right;\n",
       "    }\n",
       "</style>\n",
       "<table border=\"1\" class=\"dataframe\">\n",
       "  <thead>\n",
       "    <tr style=\"text-align: right;\">\n",
       "      <th></th>\n",
       "      <th>숙소_지역</th>\n",
       "      <th>숙소_유형</th>\n",
       "      <th>숙소_가격</th>\n",
       "    </tr>\n",
       "  </thead>\n",
       "  <tbody>\n",
       "    <tr>\n",
       "      <th>3</th>\n",
       "      <td>Barnet</td>\n",
       "      <td>Entire home/apt</td>\n",
       "      <td>151.645638</td>\n",
       "    </tr>\n",
       "    <tr>\n",
       "      <th>4</th>\n",
       "      <td>Barnet</td>\n",
       "      <td>Private room</td>\n",
       "      <td>65.859740</td>\n",
       "    </tr>\n",
       "    <tr>\n",
       "      <th>5</th>\n",
       "      <td>Barnet</td>\n",
       "      <td>Shared room</td>\n",
       "      <td>18.000000</td>\n",
       "    </tr>\n",
       "  </tbody>\n",
       "</table>\n",
       "</div>"
      ],
      "text/plain": [
       "    숙소_지역            숙소_유형       숙소_가격\n",
       "3  Barnet  Entire home/apt  151.645638\n",
       "4  Barnet     Private room   65.859740\n",
       "5  Barnet      Shared room   18.000000"
      ]
     },
     "execution_count": 1035,
     "metadata": {},
     "output_type": "execute_result"
    }
   ],
   "source": [
    "avg_price_by_area_type[avg_price_by_area_type['숙소_지역']=='Barnet']"
   ]
  },
  {
   "cell_type": "code",
   "execution_count": 1036,
   "metadata": {},
   "outputs": [
    {
     "data": {
      "text/html": [
       "<div>\n",
       "<style scoped>\n",
       "    .dataframe tbody tr th:only-of-type {\n",
       "        vertical-align: middle;\n",
       "    }\n",
       "\n",
       "    .dataframe tbody tr th {\n",
       "        vertical-align: top;\n",
       "    }\n",
       "\n",
       "    .dataframe thead th {\n",
       "        text-align: right;\n",
       "    }\n",
       "</style>\n",
       "<table border=\"1\" class=\"dataframe\">\n",
       "  <thead>\n",
       "    <tr style=\"text-align: right;\">\n",
       "      <th></th>\n",
       "      <th>숙소_지역</th>\n",
       "      <th>숙소_유형</th>\n",
       "      <th>숙소_가격</th>\n",
       "    </tr>\n",
       "  </thead>\n",
       "  <tbody>\n",
       "    <tr>\n",
       "      <th>66</th>\n",
       "      <td>Lambeth</td>\n",
       "      <td>Entire home/apt</td>\n",
       "      <td>184.679718</td>\n",
       "    </tr>\n",
       "    <tr>\n",
       "      <th>67</th>\n",
       "      <td>Lambeth</td>\n",
       "      <td>Private room</td>\n",
       "      <td>76.445312</td>\n",
       "    </tr>\n",
       "    <tr>\n",
       "      <th>68</th>\n",
       "      <td>Lambeth</td>\n",
       "      <td>Shared room</td>\n",
       "      <td>59.000000</td>\n",
       "    </tr>\n",
       "  </tbody>\n",
       "</table>\n",
       "</div>"
      ],
      "text/plain": [
       "      숙소_지역            숙소_유형       숙소_가격\n",
       "66  Lambeth  Entire home/apt  184.679718\n",
       "67  Lambeth     Private room   76.445312\n",
       "68  Lambeth      Shared room   59.000000"
      ]
     },
     "execution_count": 1036,
     "metadata": {},
     "output_type": "execute_result"
    }
   ],
   "source": [
    "avg_price_by_area_type[avg_price_by_area_type['숙소_지역']=='Lambeth']\n"
   ]
  },
  {
   "cell_type": "markdown",
   "metadata": {},
   "source": [
    "결측치 12개를 숙소 유형별 평균가격으로 대체 "
   ]
  },
  {
   "cell_type": "code",
   "execution_count": 1037,
   "metadata": {},
   "outputs": [
    {
     "data": {
      "text/html": [
       "<div>\n",
       "<style scoped>\n",
       "    .dataframe tbody tr th:only-of-type {\n",
       "        vertical-align: middle;\n",
       "    }\n",
       "\n",
       "    .dataframe tbody tr th {\n",
       "        vertical-align: top;\n",
       "    }\n",
       "\n",
       "    .dataframe thead th {\n",
       "        text-align: right;\n",
       "    }\n",
       "</style>\n",
       "<table border=\"1\" class=\"dataframe\">\n",
       "  <thead>\n",
       "    <tr style=\"text-align: right;\">\n",
       "      <th></th>\n",
       "      <th>숙소_유형</th>\n",
       "      <th>숙소_가격</th>\n",
       "    </tr>\n",
       "  </thead>\n",
       "  <tbody>\n",
       "    <tr>\n",
       "      <th>0</th>\n",
       "      <td>Entire home/apt</td>\n",
       "      <td>171.9</td>\n",
       "    </tr>\n",
       "    <tr>\n",
       "      <th>1</th>\n",
       "      <td>Hotel room</td>\n",
       "      <td>163.2</td>\n",
       "    </tr>\n",
       "    <tr>\n",
       "      <th>2</th>\n",
       "      <td>Private room</td>\n",
       "      <td>61.4</td>\n",
       "    </tr>\n",
       "    <tr>\n",
       "      <th>3</th>\n",
       "      <td>Shared room</td>\n",
       "      <td>46.4</td>\n",
       "    </tr>\n",
       "  </tbody>\n",
       "</table>\n",
       "</div>"
      ],
      "text/plain": [
       "             숙소_유형  숙소_가격\n",
       "0  Entire home/apt  171.9\n",
       "1       Hotel room  163.2\n",
       "2     Private room   61.4\n",
       "3      Shared room   46.4"
      ]
     },
     "execution_count": 1037,
     "metadata": {},
     "output_type": "execute_result"
    }
   ],
   "source": [
    "avg_price_by_type"
   ]
  },
  {
   "cell_type": "code",
   "execution_count": 1038,
   "metadata": {},
   "outputs": [
    {
     "name": "stdout",
     "output_type": "stream",
     "text": [
      "                     숙소_id                                            숙소_url  \\\n",
      "5                   313710               https://www.airbnb.com/rooms/313710   \n",
      "6                   168359               https://www.airbnb.com/rooms/168359   \n",
      "8                    24328                https://www.airbnb.com/rooms/24328   \n",
      "11                  170702               https://www.airbnb.com/rooms/170702   \n",
      "13                  314985               https://www.airbnb.com/rooms/314985   \n",
      "...                    ...                                               ...   \n",
      "87029  1089297954935898261  https://www.airbnb.com/rooms/1089297954935898261   \n",
      "87276  1090640057985958105  https://www.airbnb.com/rooms/1090640057985958105   \n",
      "87290  1090452783507963913  https://www.airbnb.com/rooms/1090452783507963913   \n",
      "87300  1090481573621124067  https://www.airbnb.com/rooms/1090481573621124067   \n",
      "88004  1095441435477010989  https://www.airbnb.com/rooms/1095441435477010989   \n",
      "\n",
      "                                                 숙소_상세설명     호스트_id  \\\n",
      "5      Bright  First Floor 1 bed flat with private ro...    1612623   \n",
      "6      This 2 bedroom flat is in a brilliantly conven...     648725   \n",
      "8      Artist house, bright high ceiling rooms for bo...      41759   \n",
      "11                                                   NaN     814004   \n",
      "13                                                   NaN    1617885   \n",
      "...                                                  ...        ...   \n",
      "87029  A stylish newly built 2 bedroom flat on the to...  124413326   \n",
      "87276  Spacious 1 bedroom flat with full amenities in...  543091250   \n",
      "87290  Enjoy easy access to Barking Station from this...  403509869   \n",
      "87300  1. Spacious furnished rooms with bed, wardrobe...  431163410   \n",
      "88004  Experience London from the comfort of this tru...   33561493   \n",
      "\n",
      "      프로필사진_소지_여부 신원_검증_여부 슈퍼호스트  숙소_수                   숙소_지역         위도  \\\n",
      "5               t        t     f   1.0                   Brent  51.533470   \n",
      "6               t        f     f   2.0               Southwark  51.491850   \n",
      "8               t        t     f   3.0              Wandsworth  51.470720   \n",
      "11              t        t     f   1.0           Tower Hamlets  51.496860   \n",
      "13              t        f     f   1.0                  Newham  51.526260   \n",
      "...           ...      ...   ...   ...                     ...        ...   \n",
      "87029           t        t     f   1.0    Kingston upon Thames  51.403807   \n",
      "87276           t        t     f   2.0  Kensington and Chelsea  51.486730   \n",
      "87290           t        t     t  11.0    Barking and Dagenham  51.536394   \n",
      "87300           t        t     f  22.0           Tower Hamlets  51.520802   \n",
      "88004           t        t     f   2.0             Westminster  51.526263   \n",
      "\n",
      "       ...  리뷰수 30일_리뷰수  리뷰점수  숙소_정확성_리뷰점수  숙소_청결도_리뷰점수  숙소_체크인_리뷰점수  \\\n",
      "5      ...   10       0  4.88         4.67         4.89         4.89   \n",
      "6      ...    9       0  4.63         4.75         4.63         4.88   \n",
      "8      ...   94       0  4.90         4.89         4.91         4.90   \n",
      "11     ...  135       0  4.95         4.97         4.98         4.94   \n",
      "13     ...    6       0  4.80         4.83         4.33         5.00   \n",
      "...    ...  ...     ...   ...          ...          ...          ...   \n",
      "87029  ...    6       6  5.00         5.00         4.75         5.00   \n",
      "87276  ...    3       3  5.00         5.00         5.00         5.00   \n",
      "87290  ...    5       5  4.40         4.60         4.80         4.80   \n",
      "87300  ...    1       1  5.00         5.00         5.00         4.00   \n",
      "88004  ...    3       3  5.00         5.00         5.00         5.00   \n",
      "\n",
      "      숙소_소통_리뷰점수  숙소_위치_리뷰점수 숙소_가격_리뷰점수  평균_리뷰수  \n",
      "5           5.00        4.56       4.67    0.07  \n",
      "6           4.88        4.13       4.75    0.06  \n",
      "8           4.93        4.59       4.65    0.58  \n",
      "11          4.98        4.79       4.93    0.88  \n",
      "13          5.00        4.17       4.33    0.05  \n",
      "...          ...         ...        ...     ...  \n",
      "87029       4.75        4.75       5.00    6.00  \n",
      "87276       5.00        5.00       5.00    3.00  \n",
      "87290       4.40        4.20       4.20    5.00  \n",
      "87300       5.00        4.00       5.00    1.00  \n",
      "88004       5.00        5.00       5.00    3.00  \n",
      "\n",
      "[22070 rows x 31 columns]\n"
     ]
    }
   ],
   "source": [
    "# London_Price_Nan의 숙소 지역과 숙소 유형의 컬럼값이 avg_price_by_area_type의 숙소 지역과 숙소 유형과 같은 조건을 충족하는 경우\n",
    "for index, row in London_Price_Nan.iterrows():\n",
    "    condition = (avg_price_by_area_type['숙소_유형'] == row['숙소_유형'])\n",
    "    # 조건을 충족하는 경우 London_Price_Nan의 숙소 가격 값에 avg_price_by_area_type의 조건에 맞는 숙소 가격 값을 대입\n",
    "    if condition.any():\n",
    "        avg_price = avg_price_by_area_type.loc[condition, '숙소_가격'].values[0]\n",
    "        London_Price_Nan.at[index, '숙소_가격'] = avg_price\n",
    "\n",
    "# 결과 확인\n",
    "print(London_Price_Nan)"
   ]
  },
  {
   "cell_type": "code",
   "execution_count": 1039,
   "metadata": {},
   "outputs": [
    {
     "data": {
      "text/plain": [
       "0"
      ]
     },
     "execution_count": 1039,
     "metadata": {},
     "output_type": "execute_result"
    }
   ],
   "source": [
    "London_Price_Nan['숙소_가격'].isna().sum()"
   ]
  },
  {
   "cell_type": "code",
   "execution_count": 1040,
   "metadata": {},
   "outputs": [],
   "source": [
    "dat.loc[London_Price_Nan.index, '숙소_가격'] = London_Price_Nan['숙소_가격']"
   ]
  },
  {
   "cell_type": "code",
   "execution_count": 1041,
   "metadata": {},
   "outputs": [
    {
     "data": {
      "text/plain": [
       "0"
      ]
     },
     "execution_count": 1041,
     "metadata": {},
     "output_type": "execute_result"
    }
   ],
   "source": [
    "dat['숙소_가격'].isna().sum()"
   ]
  },
  {
   "cell_type": "markdown",
   "metadata": {},
   "source": [
    "결측치 다 제거 "
   ]
  },
  {
   "cell_type": "code",
   "execution_count": 1042,
   "metadata": {},
   "outputs": [],
   "source": [
    "# df = df.dropna(subset=['리뷰점수','숙소_정확성_리뷰점수', '숙소_청결도_리뷰점수', '숙소_체크인_리뷰점수', \n",
    "#                     '숙소_소통_리뷰점수', '숙소_위치_리뷰점수','숙소_가격_리뷰점수','리뷰수','숙소_가격',\n",
    "#                     '숙소_수'])"
   ]
  },
  {
   "cell_type": "code",
   "execution_count": 1043,
   "metadata": {},
   "outputs": [],
   "source": [
    "\n",
    "# df['숙소_유형'].unique()"
   ]
  },
  {
   "cell_type": "code",
   "execution_count": 1044,
   "metadata": {},
   "outputs": [],
   "source": [
    "# import pandas as pd \n",
    "\n",
    "# lodging_type = {\n",
    "#     'Entire home/apt': 1,\n",
    "#     'Private room': 2,\n",
    "#     'Hotel room': 3,\n",
    "#     'Shared room': 4\n",
    "# }\n",
    "\n",
    "# df[\"숙소_유형\"] = df[\"숙소_유형\"].replace(lodging_type)\n",
    "# df['숙소_유형']"
   ]
  },
  {
   "cell_type": "code",
   "execution_count": 1045,
   "metadata": {},
   "outputs": [],
   "source": [
    "# df = df.dropna(subset=['숙소_가격'])\n"
   ]
  },
  {
   "cell_type": "code",
   "execution_count": 1046,
   "metadata": {},
   "outputs": [],
   "source": [
    "# df['숙소_가격'].isna().sum()"
   ]
  },
  {
   "cell_type": "code",
   "execution_count": 1047,
   "metadata": {},
   "outputs": [],
   "source": [
    "# df['숙소_가격']"
   ]
  },
  {
   "cell_type": "code",
   "execution_count": 1048,
   "metadata": {},
   "outputs": [],
   "source": [
    "# df.loc[:,'숙소_가격'] = df['숙소_가격'].str.replace('$', \"\")\n",
    "# df.loc[:,'숙소_가격'] = df['숙소_가격'].str.replace(',', \"\")\n",
    "# df.loc[:,'숙소_가격'] = df['숙소_가격'].str.strip()\n",
    "\n"
   ]
  },
  {
   "cell_type": "code",
   "execution_count": 1049,
   "metadata": {},
   "outputs": [
    {
     "data": {
      "text/plain": [
       "0        160.0\n",
       "1         65.0\n",
       "2        120.0\n",
       "3         65.0\n",
       "4        100.0\n",
       "         ...  \n",
       "90451     46.0\n",
       "90568     78.0\n",
       "90590    136.0\n",
       "90648    109.0\n",
       "90735     41.0\n",
       "Name: 숙소_가격, Length: 43446, dtype: float64"
      ]
     },
     "execution_count": 1049,
     "metadata": {},
     "output_type": "execute_result"
    }
   ],
   "source": [
    "df['숙소_가격']"
   ]
  },
  {
   "cell_type": "code",
   "execution_count": 1050,
   "metadata": {},
   "outputs": [],
   "source": [
    "# df['숙소_가격'] = df.loc[:,'숙소_가격'].astype(float)\n"
   ]
  },
  {
   "cell_type": "code",
   "execution_count": 1051,
   "metadata": {},
   "outputs": [],
   "source": [
    "# df['숙소_가격']"
   ]
  },
  {
   "cell_type": "code",
   "execution_count": 1052,
   "metadata": {},
   "outputs": [],
   "source": [
    "# df.groupby(\"숙소_지역\")[[\"숙소_유형\"]].value_counts()"
   ]
  },
  {
   "cell_type": "code",
   "execution_count": 1053,
   "metadata": {},
   "outputs": [],
   "source": [
    "# import numpy as np\n",
    "# import pandas as pd\n",
    "\n",
    "# columns_to_scale = ['리뷰점수','숙소_정확성_리뷰점수', '숙소_청결도_리뷰점수', '숙소_체크인_리뷰점수', \n",
    "#                     '숙소_소통_리뷰점수', '숙소_위치_리뷰점수','숙소_가격_리뷰점수','리뷰수','숙소_가격',\n",
    "#                     '숙소_수','숙소_유형']\n",
    "\n",
    "# df[columns_to_scale]"
   ]
  },
  {
   "cell_type": "code",
   "execution_count": 1054,
   "metadata": {},
   "outputs": [],
   "source": [
    "# df_source = df[columns_to_scale]"
   ]
  },
  {
   "cell_type": "code",
   "execution_count": 1055,
   "metadata": {},
   "outputs": [],
   "source": [
    "# cov_df_source = df_source.corr(method='pearson')"
   ]
  },
  {
   "cell_type": "code",
   "execution_count": 1056,
   "metadata": {},
   "outputs": [],
   "source": [
    "# import numpy as np\n",
    "# import seaborn as sns\n",
    "# import matplotlib.pyplot as plt\n",
    "# import pandas as pd\n",
    "# # 데이터프레임의 상관관계 계산\n",
    "# corr = df_source.corr()\n",
    "\n",
    "# # 마스크 생성 (상단 삼각형)\n",
    "# mask = np.triu(np.ones_like(corr, dtype=bool))\n",
    "\n",
    "# # 히트맵 그리기\n",
    "# plt.figure(figsize=(10, 8))  # 그래프의 크기 설정\n",
    "# sns.heatmap(corr, annot=True, cmap='coolwarm', fmt=\".2f\", linewidths=.5, mask=mask)\n",
    "# plt.title('숙소 가격 및 리뷰 점수 간의 상관계수 히트맵')  # 그래프 제목 설정\n",
    "# plt.show()"
   ]
  },
  {
   "cell_type": "code",
   "execution_count": null,
   "metadata": {},
   "outputs": [],
   "source": []
  }
 ],
 "metadata": {
  "kernelspec": {
   "display_name": "base",
   "language": "python",
   "name": "python3"
  },
  "language_info": {
   "codemirror_mode": {
    "name": "ipython",
    "version": 3
   },
   "file_extension": ".py",
   "mimetype": "text/x-python",
   "name": "python",
   "nbconvert_exporter": "python",
   "pygments_lexer": "ipython3",
   "version": "3.11.7"
  }
 },
 "nbformat": 4,
 "nbformat_minor": 2
}
