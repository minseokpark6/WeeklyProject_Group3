{
 "cells": [
  {
   "cell_type": "code",
   "execution_count": 191,
   "metadata": {},
   "outputs": [],
   "source": [
    "# 기본 패키지 불러오기 \n",
    "\n",
    "import pandas as pd\n",
    "import numpy as np\n",
    "import matplotlib.pyplot as plt\n",
    "import seaborn as sns \n",
    "plt.style.use(\"seaborn\")\n",
    "sns.set(font_scale=1)\n",
    "sns.set_style(\"whitegrid\")\n",
    "\n",
    "# 그래프를 노트북 안에 그리기 위해 설정\n",
    "%matplotlib inline\n",
    "\n",
    "# 맥 OS 폰트 깨짐 방지 코드\n",
    "from matplotlib import rc\n",
    "import matplotlib as mpl \n",
    "import matplotlib.font_manager as fm \n",
    "\n",
    "rc('font', family='AppleGothic')\n",
    "plt.rcParams['axes.unicode_minus'] = False"
   ]
  },
  {
   "cell_type": "markdown",
   "metadata": {},
   "source": [
    "# 가격 컬럼과의 관계분석을 위한 전처리 진행 (Inside Airbnb: London Data)"
   ]
  },
  {
   "cell_type": "markdown",
   "metadata": {},
   "source": [
    "### 데이터 불러오기"
   ]
  },
  {
   "cell_type": "code",
   "execution_count": 192,
   "metadata": {},
   "outputs": [
    {
     "name": "stdout",
     "output_type": "stream",
     "text": [
      "<class 'pandas.core.frame.DataFrame'>\n",
      "RangeIndex: 90852 entries, 0 to 90851\n",
      "Data columns (total 75 columns):\n",
      " #   Column                                        Non-Null Count  Dtype  \n",
      "---  ------                                        --------------  -----  \n",
      " 0   id                                            90852 non-null  int64  \n",
      " 1   listing_url                                   90852 non-null  object \n",
      " 2   scrape_id                                     90852 non-null  int64  \n",
      " 3   last_scraped                                  90852 non-null  object \n",
      " 4   source                                        90852 non-null  object \n",
      " 5   name                                          90852 non-null  object \n",
      " 6   description                                   87851 non-null  object \n",
      " 7   neighborhood_overview                         47521 non-null  object \n",
      " 8   picture_url                                   90842 non-null  object \n",
      " 9   host_id                                       90852 non-null  int64  \n",
      " 10  host_url                                      90852 non-null  object \n",
      " 11  host_name                                     90847 non-null  object \n",
      " 12  host_since                                    90847 non-null  object \n",
      " 13  host_location                                 70566 non-null  object \n",
      " 14  host_about                                    46814 non-null  object \n",
      " 15  host_response_time                            57797 non-null  object \n",
      " 16  host_response_rate                            57797 non-null  object \n",
      " 17  host_acceptance_rate                          65213 non-null  object \n",
      " 18  host_is_superhost                             90463 non-null  object \n",
      " 19  host_thumbnail_url                            90847 non-null  object \n",
      " 20  host_picture_url                              90847 non-null  object \n",
      " 21  host_neighbourhood                            46955 non-null  object \n",
      " 22  host_listings_count                           90847 non-null  float64\n",
      " 23  host_total_listings_count                     90847 non-null  float64\n",
      " 24  host_verifications                            90852 non-null  object \n",
      " 25  host_has_profile_pic                          90847 non-null  object \n",
      " 26  host_identity_verified                        90847 non-null  object \n",
      " 27  neighbourhood                                 47522 non-null  object \n",
      " 28  neighbourhood_cleansed                        90852 non-null  object \n",
      " 29  neighbourhood_group_cleansed                  0 non-null      float64\n",
      " 30  latitude                                      90852 non-null  float64\n",
      " 31  longitude                                     90852 non-null  float64\n",
      " 32  property_type                                 90852 non-null  object \n",
      " 33  room_type                                     90852 non-null  object \n",
      " 34  accommodates                                  90852 non-null  int64  \n",
      " 35  bathrooms                                     57894 non-null  float64\n",
      " 36  bathrooms_text                                90722 non-null  object \n",
      " 37  bedrooms                                      78118 non-null  float64\n",
      " 38  beds                                          57837 non-null  float64\n",
      " 39  amenities                                     90852 non-null  object \n",
      " 40  price                                         57885 non-null  object \n",
      " 41  minimum_nights                                90852 non-null  int64  \n",
      " 42  maximum_nights                                90852 non-null  int64  \n",
      " 43  minimum_minimum_nights                        90851 non-null  float64\n",
      " 44  maximum_minimum_nights                        90851 non-null  float64\n",
      " 45  minimum_maximum_nights                        90851 non-null  float64\n",
      " 46  maximum_maximum_nights                        90851 non-null  float64\n",
      " 47  minimum_nights_avg_ntm                        90851 non-null  float64\n",
      " 48  maximum_nights_avg_ntm                        90851 non-null  float64\n",
      " 49  calendar_updated                              0 non-null      float64\n",
      " 50  has_availability                              86773 non-null  object \n",
      " 51  availability_30                               90852 non-null  int64  \n",
      " 52  availability_60                               90852 non-null  int64  \n",
      " 53  availability_90                               90852 non-null  int64  \n",
      " 54  availability_365                              90852 non-null  int64  \n",
      " 55  calendar_last_scraped                         90852 non-null  object \n",
      " 56  number_of_reviews                             90852 non-null  int64  \n",
      " 57  number_of_reviews_ltm                         90852 non-null  int64  \n",
      " 58  number_of_reviews_l30d                        90852 non-null  int64  \n",
      " 59  first_review                                  65869 non-null  object \n",
      " 60  last_review                                   65869 non-null  object \n",
      " 61  review_scores_rating                          65869 non-null  float64\n",
      " 62  review_scores_accuracy                        65838 non-null  float64\n",
      " 63  review_scores_cleanliness                     65843 non-null  float64\n",
      " 64  review_scores_checkin                         65808 non-null  float64\n",
      " 65  review_scores_communication                   65833 non-null  float64\n",
      " 66  review_scores_location                        65808 non-null  float64\n",
      " 67  review_scores_value                           65806 non-null  float64\n",
      " 68  license                                       0 non-null      float64\n",
      " 69  instant_bookable                              90852 non-null  object \n",
      " 70  calculated_host_listings_count                90852 non-null  int64  \n",
      " 71  calculated_host_listings_count_entire_homes   90852 non-null  int64  \n",
      " 72  calculated_host_listings_count_private_rooms  90852 non-null  int64  \n",
      " 73  calculated_host_listings_count_shared_rooms   90852 non-null  int64  \n",
      " 74  reviews_per_month                             65869 non-null  float64\n",
      "dtypes: float64(24), int64(17), object(34)\n",
      "memory usage: 52.0+ MB\n"
     ]
    }
   ],
   "source": [
    "# 데이터 불러오기\n",
    "london_lists_raw = pd.read_csv('../../../../data_weekly/inside_airbnb/London/listings.csv')\n",
    "london_lists_summary_raw = pd.read_csv('../../../../data_weekly/inside_airbnb/London/listings_outline.csv')\n",
    "london_neighbourhoods_raw = pd.read_csv('../../../../data_weekly/inside_airbnb/London/neighbourhoods.csv')\n",
    "london_reviews_raw = pd.read_csv('../../../../data_weekly/inside_airbnb/London/reviews.csv')\n",
    "london_reviews_summary_raw = pd.read_csv('../../../../data_weekly/inside_airbnb/London/reviews_outline.csv')\n",
    "\n",
    "# 분석할 df 별도 복사\n",
    "london_lists = london_lists_raw.copy()\n",
    "london_reviews = london_reviews_raw.copy()\n",
    "\n",
    "# 불러온 df 확인\n",
    "london_lists.info()"
   ]
  },
  {
   "cell_type": "markdown",
   "metadata": {},
   "source": [
    "### 데이터 불러온 최종일자 확인 "
   ]
  },
  {
   "cell_type": "code",
   "execution_count": 193,
   "metadata": {},
   "outputs": [
    {
     "data": {
      "text/plain": [
       "array(['2024-03-21', '2024-03-20', '2024-03-22', '2024-03-19'],\n",
       "      dtype=object)"
      ]
     },
     "execution_count": 193,
     "metadata": {},
     "output_type": "execute_result"
    }
   ],
   "source": [
    "london_lists_raw['last_scraped'].unique()"
   ]
  },
  {
   "cell_type": "markdown",
   "metadata": {},
   "source": [
    "슈퍼호스트 선정 기준 날짜 년 4회(분기별)\n",
    "- 1월 1일 / 4월 1일 / 7월 1일 / 10월 1일 "
   ]
  },
  {
   "cell_type": "markdown",
   "metadata": {},
   "source": [
    "### 분석에서 사용하지 않을 컬럼 삭제"
   ]
  },
  {
   "cell_type": "code",
   "execution_count": 194,
   "metadata": {},
   "outputs": [
    {
     "name": "stdout",
     "output_type": "stream",
     "text": [
      "<class 'pandas.core.frame.DataFrame'>\n",
      "RangeIndex: 90852 entries, 0 to 90851\n",
      "Data columns (total 21 columns):\n",
      " #   Column       Non-Null Count  Dtype  \n",
      "---  ------       --------------  -----  \n",
      " 0   숙소_id        90852 non-null  int64  \n",
      " 1   호스트_id       90852 non-null  int64  \n",
      " 2   슈퍼호스트        90463 non-null  object \n",
      " 3   숙소_지역        90852 non-null  object \n",
      " 4   숙소_유형        90852 non-null  object \n",
      " 5   수용_인원수       90852 non-null  int64  \n",
      " 6   욕실수          57894 non-null  float64\n",
      " 7   침실수          78118 non-null  float64\n",
      " 8   침대수          57837 non-null  float64\n",
      " 9   편의시설         90852 non-null  object \n",
      " 10  숙소_가격        57885 non-null  object \n",
      " 11  리뷰수          90852 non-null  int64  \n",
      " 12  30일_리뷰수      90852 non-null  int64  \n",
      " 13  리뷰점수         65869 non-null  float64\n",
      " 14  숙소_정확성_리뷰점수  65838 non-null  float64\n",
      " 15  숙소_청결도_리뷰점수  65843 non-null  float64\n",
      " 16  숙소_체크인_리뷰점수  65808 non-null  float64\n",
      " 17  숙소_소통_리뷰점수   65833 non-null  float64\n",
      " 18  숙소_위치_리뷰점수   65808 non-null  float64\n",
      " 19  숙소_가격_리뷰점수   65806 non-null  float64\n",
      " 20  평균_리뷰수       65869 non-null  float64\n",
      "dtypes: float64(11), int64(5), object(5)\n",
      "memory usage: 14.6+ MB\n"
     ]
    }
   ],
   "source": [
    "# 1차 선별한 컬럼 리스트 + 2차 선별 \n",
    "# 1차 선별한 컬럼 25개 중 21개만 선별 \n",
    "\n",
    "columns_selected = ['id', 'host_id', 'host_is_superhost', 'neighbourhood_cleansed', \\\n",
    "    'room_type', 'accommodates', 'bathrooms', 'bedrooms', 'beds', 'amenities', 'price', 'number_of_reviews', 'number_of_reviews_l30d', 'review_scores_rating', 'review_scores_accuracy', \\\n",
    "    'review_scores_cleanliness', 'review_scores_checkin', 'review_scores_communication', 'review_scores_location', 'review_scores_value', 'reviews_per_month']\n",
    "\n",
    "# 'host_response_time', 'host_response_rate', 'host_acceptance_rate', 'host_total_listings_count', 'host_has_profile_pic', 'host_identity_verified', 'minimum_nights', 'maximum_nights', 'has_availability',\n",
    "\n",
    "# 선별한 컬럼만 적용\n",
    "london_lists = london_lists[columns_selected]\n",
    "\n",
    "# url도 포함한 df (실제 에어비앤비 사이트 들어가서 확인할 용도)\n",
    "columns_selected_url = ['id', 'listing_url', 'host_id', 'host_response_time', 'host_response_rate', 'host_acceptance_rate', 'host_is_superhost', 'host_total_listings_count', 'host_has_profile_pic', 'host_identity_verified', 'neighbourhood_cleansed', \\\n",
    "    'room_type', 'accommodates', 'bathrooms', 'bedrooms', 'beds', 'amenities', 'price', 'minimum_nights', 'maximum_nights', 'has_availability', 'number_of_reviews', 'number_of_reviews_l30d', 'review_scores_rating', 'review_scores_accuracy', \\\n",
    "    'review_scores_cleanliness', 'review_scores_checkin', 'review_scores_communication', 'review_scores_location', 'review_scores_value', 'reviews_per_month']\n",
    "\n",
    "london_url = london_lists_raw[columns_selected_url]\n",
    "\n",
    "# 변수 정리 \n",
    "london_lists = london_lists.rename(columns={\n",
    "    'id': '숙소_id',\n",
    "    'host_id': '호스트_id',\n",
    "    # 'host_response_time': '답변_평균시간',\n",
    "    # 'host_response_rate': '문의_응답률',\n",
    "    # 'host_acceptance_rate': '예약_수락률',\n",
    "    'host_is_superhost': '슈퍼호스트',\n",
    "    # 'host_total_listings_count': '숙소_수',\n",
    "    # 'host_has_profile_pic' : '프로필_사진',\n",
    "    # 'host_identity_verified' : '호스트_신원',\n",
    "    'neighbourhood_cleansed': '숙소_지역',\n",
    "    'room_type': '숙소_유형',\n",
    "    'accommodates': '수용_인원수',\n",
    "    'bathrooms': '욕실수',\n",
    "    'bedrooms': '침실수',\n",
    "    'beds': '침대수',\n",
    "    'amenities': '편의시설',\n",
    "    'price': '숙소_가격',\n",
    "    # 'minimum_nights': '최소_숙박일',\n",
    "    # 'maximum_nights': '최대_숙박일',\n",
    "    # 'has_availability' : '예약_가능여부',\n",
    "    'number_of_reviews': '리뷰수',\n",
    "    'number_of_reviews_l30d': '30일_리뷰수',\n",
    "    'review_scores_rating': '리뷰점수',\n",
    "    'review_scores_accuracy': '숙소_정확성_리뷰점수',\n",
    "    'review_scores_cleanliness': '숙소_청결도_리뷰점수',\n",
    "    'review_scores_checkin': '숙소_체크인_리뷰점수',\n",
    "    'review_scores_communication': '숙소_소통_리뷰점수',\n",
    "    'review_scores_location': '숙소_위치_리뷰점수',\n",
    "    'review_scores_value': '숙소_가격_리뷰점수',\n",
    "    'reviews_per_month': '평균_리뷰수'\n",
    "})\n",
    "\n",
    "# url 포함 df 변수 정리 \n",
    "london_url = london_url.rename(columns={\n",
    "    'id': '숙소_id',\n",
    "    'listing_url' : '숙소_url',\n",
    "    'host_id': '호스트_id',\n",
    "    'host_response_time': '답변_평균시간',\n",
    "    'host_response_rate': '문의_응답률',\n",
    "    'host_acceptance_rate': '예약_수락률',\n",
    "    'host_is_superhost': '슈퍼호스트',\n",
    "    'host_total_listings_count': '숙소_수',\n",
    "    'host_has_profile_pic' : '프로필_사진',\n",
    "    'host_identity_verified' : '호스트_신원',\n",
    "    'neighbourhood_cleansed': '숙소_지역',\n",
    "    'room_type': '숙소_유형',\n",
    "    'accommodates': '수용_인원수',\n",
    "    'bathrooms': '욕실수',\n",
    "    'bedrooms': '침실수',\n",
    "    'beds': '침대수',\n",
    "    'amenities': '편의시설',\n",
    "    'price': '숙소_가격',\n",
    "    'minimum_nights': '최소_숙박일',\n",
    "    'maximum_nights': '최대_숙박일',\n",
    "    'has_availability' : '예약_가능여부',\n",
    "    'number_of_reviews': '리뷰수',\n",
    "    'number_of_reviews_l30d': '30일_리뷰수',\n",
    "    'review_scores_rating': '리뷰점수',\n",
    "    'review_scores_accuracy': '숙소_정확성_리뷰점수',\n",
    "    'review_scores_cleanliness': '숙소_청결도_리뷰점수',\n",
    "    'review_scores_checkin': '숙소_체크인_리뷰점수',\n",
    "    'review_scores_communication': '숙소_소통_리뷰점수',\n",
    "    'review_scores_location': '숙소_위치_리뷰점수',\n",
    "    'review_scores_value': '숙소_가격_리뷰점수',\n",
    "    'reviews_per_month': '평균_리뷰수'\n",
    "})\n",
    "\n",
    "\n",
    "# 컬럼명 확인\n",
    "london_lists.info()"
   ]
  },
  {
   "cell_type": "markdown",
   "metadata": {},
   "source": [
    "### 결측치 처리에 앞서서 리뷰가 0인 컬럼 제거"
   ]
  },
  {
   "cell_type": "code",
   "execution_count": 195,
   "metadata": {},
   "outputs": [],
   "source": [
    "# 리뷰수가 0인 컬럼 조건 \n",
    "condition_review_0 = london_lists['리뷰수'] == 0\n",
    "\n",
    "# 별도의 DF로 저장\n",
    "london_lists_review_0 = london_lists[condition_review_0]"
   ]
  },
  {
   "cell_type": "markdown",
   "metadata": {},
   "source": [
    "리뷰가 0인 데이터의 특징 파악"
   ]
  },
  {
   "cell_type": "code",
   "execution_count": 196,
   "metadata": {},
   "outputs": [
    {
     "name": "stdout",
     "output_type": "stream",
     "text": [
      "리뷰가 0개인 런던 내 숙소 개수: \n",
      "(24983, 21)\n",
      "\n",
      "리뷰점수 :\n",
      "리뷰점수가 null이 아닌 데이터의 개수 >> 0개\n",
      "\n",
      "숙소_정확성_리뷰점수 :\n",
      "숙소_정확성_리뷰점수가 null이 아닌 데이터의 개수 >> 0개\n",
      "\n",
      "숙소_청결도_리뷰점수 :\n",
      "숙소_청결도_리뷰점수가 null이 아닌 데이터의 개수 >> 0개\n",
      "\n",
      "숙소_체크인_리뷰점수 :\n",
      "숙소_체크인_리뷰점수가 null이 아닌 데이터의 개수 >> 0개\n",
      "\n",
      "숙소_소통_리뷰점수 :\n",
      "숙소_소통_리뷰점수가 null이 아닌 데이터의 개수 >> 0개\n",
      "\n",
      "숙소_위치_리뷰점수 :\n",
      "숙소_위치_리뷰점수가 null이 아닌 데이터의 개수 >> 0개\n",
      "\n",
      "숙소_가격_리뷰점수 :\n",
      "숙소_가격_리뷰점수가 null이 아닌 데이터의 개수 >> 0개\n",
      "\n",
      "평균_리뷰수 :\n",
      "평균_리뷰수가 null이 아닌 데이터의 개수 >> 0개\n",
      "\n"
     ]
    }
   ],
   "source": [
    "# 리뷰수가 0인 컬럼의 특징 파악_리뷰데이터 관련\n",
    "\n",
    "# 개수: 24,983개\n",
    "print('리뷰가 0개인 런던 내 숙소 개수: ')\n",
    "print(london_lists_review_0.shape)\n",
    "print()\n",
    "\n",
    "# 리뷰가 0개인데 각 리뷰점수가 Null값이 아닌 숙소 개수 \n",
    "\n",
    "score_type = ['리뷰점수', '숙소_정확성_리뷰점수', '숙소_청결도_리뷰점수', '숙소_체크인_리뷰점수', '숙소_소통_리뷰점수', '숙소_위치_리뷰점수', '숙소_가격_리뷰점수', '평균_리뷰수']\n",
    "\n",
    "for type in score_type:\n",
    "    print(f'{type} :')\n",
    "    print(f'{type}가 null이 아닌 데이터의 개수 >> {london_lists_review_0[type].notnull().sum()}개')\n",
    "    print()"
   ]
  },
  {
   "cell_type": "code",
   "execution_count": 197,
   "metadata": {},
   "outputs": [
    {
     "name": "stdout",
     "output_type": "stream",
     "text": [
      "['f' 't' nan]\n",
      "\n",
      "리뷰슈가 0개인 숙소 중 호스트가 슈퍼호스트인지 여부: \n",
      "f    23754\n",
      "t     1171\n",
      "Name: 슈퍼호스트, dtype: int64\n",
      "\n",
      "리뷰수가 0개인 숙소 데이터 중 슈퍼호스트가 null값인 데이터 개수:\n",
      "58개\n"
     ]
    }
   ],
   "source": [
    "# # 리뷰수가 0인 컬럼의 특징 파악_슈퍼호스트 관련\n",
    "\n",
    "print(london_lists_review_0['슈퍼호스트'].unique())\n",
    "print()\n",
    "print('리뷰슈가 0개인 숙소 중 호스트가 슈퍼호스트인지 여부: ')\n",
    "print(london_lists_review_0['슈퍼호스트'].value_counts())\n",
    "print()\n",
    "print('리뷰수가 0개인 숙소 데이터 중 슈퍼호스트가 null값인 데이터 개수:')\n",
    "print(f'{london_lists_review_0[\"슈퍼호스트\"].isnull().sum()}개')"
   ]
  },
  {
   "cell_type": "markdown",
   "metadata": {},
   "source": [
    "리뷰가 0개가 아닌 데이터만 사용"
   ]
  },
  {
   "cell_type": "code",
   "execution_count": 198,
   "metadata": {},
   "outputs": [
    {
     "name": "stdout",
     "output_type": "stream",
     "text": [
      "<class 'pandas.core.frame.DataFrame'>\n",
      "Int64Index: 65869 entries, 0 to 90735\n",
      "Data columns (total 21 columns):\n",
      " #   Column       Non-Null Count  Dtype  \n",
      "---  ------       --------------  -----  \n",
      " 0   숙소_id        65869 non-null  int64  \n",
      " 1   호스트_id       65869 non-null  int64  \n",
      " 2   슈퍼호스트        65538 non-null  object \n",
      " 3   숙소_지역        65869 non-null  object \n",
      " 4   숙소_유형        65869 non-null  object \n",
      " 5   수용_인원수       65869 non-null  int64  \n",
      " 6   욕실수          43758 non-null  float64\n",
      " 7   침실수          58052 non-null  float64\n",
      " 8   침대수          43703 non-null  float64\n",
      " 9   편의시설         65869 non-null  object \n",
      " 10  숙소_가격        43728 non-null  object \n",
      " 11  리뷰수          65869 non-null  int64  \n",
      " 12  30일_리뷰수      65869 non-null  int64  \n",
      " 13  리뷰점수         65869 non-null  float64\n",
      " 14  숙소_정확성_리뷰점수  65838 non-null  float64\n",
      " 15  숙소_청결도_리뷰점수  65843 non-null  float64\n",
      " 16  숙소_체크인_리뷰점수  65808 non-null  float64\n",
      " 17  숙소_소통_리뷰점수   65833 non-null  float64\n",
      " 18  숙소_위치_리뷰점수   65808 non-null  float64\n",
      " 19  숙소_가격_리뷰점수   65806 non-null  float64\n",
      " 20  평균_리뷰수       65869 non-null  float64\n",
      "dtypes: float64(11), int64(5), object(5)\n",
      "memory usage: 11.1+ MB\n",
      "None\n"
     ]
    }
   ],
   "source": [
    "# 리뷰 개수가 0이 아닌 컬럼 조건 설정\n",
    "condition_review = london_lists['리뷰수'] != 0\n",
    "\n",
    "# 리뷰 개수가 0이 아닌 컬럼으로 df 업데이트 \n",
    "london_lists = london_lists[condition_review]\n",
    "london_url = london_url[condition_review]\n",
    "\n",
    "# print(london_lists[:10])\n",
    "# print()\n",
    "print(london_lists.info())"
   ]
  },
  {
   "cell_type": "markdown",
   "metadata": {},
   "source": [
    "# 결측치 처리"
   ]
  },
  {
   "cell_type": "code",
   "execution_count": 199,
   "metadata": {},
   "outputs": [
    {
     "data": {
      "text/plain": [
       "숙소_id              0\n",
       "호스트_id             0\n",
       "슈퍼호스트            331\n",
       "숙소_지역              0\n",
       "숙소_유형              0\n",
       "수용_인원수             0\n",
       "욕실수            22111\n",
       "침실수             7817\n",
       "침대수            22166\n",
       "편의시설               0\n",
       "숙소_가격          22141\n",
       "리뷰수                0\n",
       "30일_리뷰수            0\n",
       "리뷰점수               0\n",
       "숙소_정확성_리뷰점수       31\n",
       "숙소_청결도_리뷰점수       26\n",
       "숙소_체크인_리뷰점수       61\n",
       "숙소_소통_리뷰점수        36\n",
       "숙소_위치_리뷰점수        61\n",
       "숙소_가격_리뷰점수        63\n",
       "평균_리뷰수             0\n",
       "dtype: int64"
      ]
     },
     "execution_count": 199,
     "metadata": {},
     "output_type": "execute_result"
    }
   ],
   "source": [
    "# 컬럼 전체 결측치 확인 \n",
    "\n",
    "london_lists.isnull().sum()\n",
    "# 전체 개수 : 65,869개 중 "
   ]
  },
  {
   "cell_type": "markdown",
   "metadata": {},
   "source": [
    "## 가격이 null값인 컬럼과 가격이 null값이 아닌 컬럼으로 분리 \n",
    "* 가격과 기타 컬럼 간의 관계 분석 목적 "
   ]
  },
  {
   "cell_type": "code",
   "execution_count": 200,
   "metadata": {},
   "outputs": [
    {
     "name": "stdout",
     "output_type": "stream",
     "text": [
      "(43728, 21)\n",
      "(22141, 21)\n"
     ]
    }
   ],
   "source": [
    "# 가격이 null값/notnull값 조건 생성 \n",
    "condition_price_notnull = london_lists['숙소_가격'].notnull()\n",
    "condition_price_null = london_lists['숙소_가격'].isnull()\n",
    "\n",
    "# 가격이 null값/null값이 아닌 df 분리\n",
    "london_lists_price = london_lists[condition_price_notnull] \n",
    "london_lists_price_null = london_lists[condition_price_null]\n",
    "\n",
    "# df 데이터 개수 확인 \n",
    "print(london_lists_price.shape)\n",
    "print(london_lists_price_null.shape)\n",
    "\n",
    "# 변수명 정리 \n",
    "london_lists = london_lists_price"
   ]
  },
  {
   "cell_type": "code",
   "execution_count": 201,
   "metadata": {},
   "outputs": [
    {
     "data": {
      "text/plain": [
       "숙소_id            0\n",
       "호스트_id           0\n",
       "슈퍼호스트          266\n",
       "숙소_지역            0\n",
       "숙소_유형            0\n",
       "수용_인원수           0\n",
       "욕실수             21\n",
       "침실수             11\n",
       "침대수             76\n",
       "편의시설             0\n",
       "숙소_가격            0\n",
       "리뷰수              0\n",
       "30일_리뷰수          0\n",
       "리뷰점수             0\n",
       "숙소_정확성_리뷰점수     17\n",
       "숙소_청결도_리뷰점수     18\n",
       "숙소_체크인_리뷰점수     18\n",
       "숙소_소통_리뷰점수      17\n",
       "숙소_위치_리뷰점수      18\n",
       "숙소_가격_리뷰점수      19\n",
       "평균_리뷰수           0\n",
       "dtype: int64"
      ]
     },
     "execution_count": 201,
     "metadata": {},
     "output_type": "execute_result"
    }
   ],
   "source": [
    "london_lists.isnull().sum()"
   ]
  },
  {
   "cell_type": "markdown",
   "metadata": {},
   "source": [
    "## 슈퍼호스트 결측치 처리\n",
    "* 우선 결측치 제거하고 진행"
   ]
  },
  {
   "cell_type": "markdown",
   "metadata": {},
   "source": [
    "컬럼 전처리 상황\n",
    "* 리뷰수가 0인 컬럼 제거\n",
    "* 가격이 null값인 컬럼 제거한 상태 "
   ]
  },
  {
   "cell_type": "markdown",
   "metadata": {},
   "source": [
    "슈퍼호스트 기준\n",
    "1. 숙박 10건 이상 호스팅 또는 3건의 예약에 걸쳐 총 100박 이상 호스팅\n",
    "2. 응답률 90% 이상 유지\n",
    "3. 예약 취소율 1% 미만 유지. 단, 정상참작이 가능한 상황에 따른 예약 취소는 제외\n",
    "4. 전체 평점 4.8점 이상 유지(후기 작성 기한인 14일이 지나거나, 그전에라도 게스트와 호스트 양측이 모두 후기를 제출하면 후기는 슈퍼호스트 실적에 계산됩니다)."
   ]
  },
  {
   "cell_type": "code",
   "execution_count": 202,
   "metadata": {},
   "outputs": [
    {
     "name": "stdout",
     "output_type": "stream",
     "text": [
      "슈퍼호스트 null값 개수: 266개\n",
      "슈퍼호스트 null값의 비율: 0.61%\n"
     ]
    }
   ],
   "source": [
    "# 슈퍼호스트 null 값 : 266개\n",
    "print(f'슈퍼호스트 null값 개수: {london_lists[\"슈퍼호스트\"].isnull().sum()}개')\n",
    "\n",
    "# 슈퍼호스트 null값의 비율: 0.61% >> 삭제해도 무방 \n",
    "print(f'슈퍼호스트 null값의 비율: {round((london_lists[\"슈퍼호스트\"].isnull().sum() / london_lists.shape[0]) * 100, 2)}%')"
   ]
  },
  {
   "cell_type": "code",
   "execution_count": 203,
   "metadata": {},
   "outputs": [
    {
     "name": "stdout",
     "output_type": "stream",
     "text": [
      "슈퍼호스트 null값 개수: 58개\n",
      "슈퍼호스트 null값의 비율: 0.23%\n"
     ]
    }
   ],
   "source": [
    "# 리뷰가 0개인 숙소를 모아놓은 데이터프레임에도 적용 \n",
    "\n",
    "# 슈퍼호스트 null 값 : 58개\n",
    "print(f'슈퍼호스트 null값 개수: {london_lists_review_0[\"슈퍼호스트\"].isnull().sum()}개')\n",
    "\n",
    "# 슈퍼호스트 null값의 비율: 0.23% >> 삭제해도 무방 \n",
    "print(f'슈퍼호스트 null값의 비율: {round((london_lists_review_0[\"슈퍼호스트\"].isnull().sum() / london_lists_review_0.shape[0]) * 100, 2)}%')"
   ]
  },
  {
   "cell_type": "code",
   "execution_count": 204,
   "metadata": {},
   "outputs": [
    {
     "data": {
      "text/plain": [
       "f    32130\n",
       "t    11332\n",
       "Name: 슈퍼호스트, dtype: int64"
      ]
     },
     "execution_count": 204,
     "metadata": {},
     "output_type": "execute_result"
    }
   ],
   "source": [
    "london_lists['슈퍼호스트'].value_counts()"
   ]
  },
  {
   "cell_type": "markdown",
   "metadata": {},
   "source": [
    "슈퍼호스트 컬럼 / 전처리 방향 설정 결론 (슈퍼호스트_런던_240524.ipynb 파일 참고)\n",
    "\n",
    "- null 값을 삭제해도 무방하다. (비율이 0.6%)\n",
    "- 결측치를 일괄 대치하려면 최빈값으로 대치하는 것이 맞을듯\n",
    "- 결측치를 실제 데이터와 비교해보는 방법도 있다. \n",
    "    - NGD 기법 또는 크롤링 "
   ]
  },
  {
   "cell_type": "code",
   "execution_count": 205,
   "metadata": {},
   "outputs": [
    {
     "name": "stdout",
     "output_type": "stream",
     "text": [
      "삭제 전 전체 데이터 개수: 43728개\n",
      "삭제 할 슈퍼호스트 null값 데이터 개수: 266개\n",
      "\n",
      "제거 후 슈퍼호스트 컬럼의 null값 확인: 0개\n",
      "Null값 제거 후 전체 데이터 개수 : 43462개\n"
     ]
    }
   ],
   "source": [
    "# 슈퍼호스트 결측치 제거\n",
    "print(f'삭제 전 전체 데이터 개수: {london_lists.shape[0]}개')\n",
    "print(f\"삭제 할 슈퍼호스트 null값 데이터 개수: {london_lists['슈퍼호스트'].isnull().sum()}개\")\n",
    "london_lists = london_lists.dropna(subset=['슈퍼호스트'])\n",
    "print()\n",
    "\n",
    "# 제거 후 확인 \n",
    "print(f\"제거 후 슈퍼호스트 컬럼의 null값 확인: {london_lists['슈퍼호스트'].isnull().sum()}개\")\n",
    "print(f'Null값 제거 후 전체 데이터 개수 : {london_lists.shape[0]}개')\n"
   ]
  },
  {
   "cell_type": "markdown",
   "metadata": {},
   "source": [
    "## 욕실수 / 침실수 / 침대수 결측치 처리 \n",
    "* 결론: 우선 결측치 제거하고 진행 "
   ]
  },
  {
   "cell_type": "markdown",
   "metadata": {},
   "source": [
    "현재 데이터 전처리 현황 \n",
    "* 리뷰수가 0개인 컬럼 제거 \n",
    "* 가격이 Null값이 아닌 컬럼만 선택 \n",
    "* 슈퍼호스트가 Null값인 데이터 제거 "
   ]
  },
  {
   "cell_type": "code",
   "execution_count": 206,
   "metadata": {},
   "outputs": [
    {
     "data": {
      "text/plain": [
       "숙소_id           0\n",
       "호스트_id          0\n",
       "슈퍼호스트           0\n",
       "숙소_지역           0\n",
       "숙소_유형           0\n",
       "수용_인원수          0\n",
       "욕실수            21\n",
       "침실수            11\n",
       "침대수            76\n",
       "편의시설            0\n",
       "숙소_가격           0\n",
       "리뷰수             0\n",
       "30일_리뷰수         0\n",
       "리뷰점수            0\n",
       "숙소_정확성_리뷰점수    17\n",
       "숙소_청결도_리뷰점수    18\n",
       "숙소_체크인_리뷰점수    18\n",
       "숙소_소통_리뷰점수     17\n",
       "숙소_위치_리뷰점수     18\n",
       "숙소_가격_리뷰점수     19\n",
       "평균_리뷰수          0\n",
       "dtype: int64"
      ]
     },
     "execution_count": 206,
     "metadata": {},
     "output_type": "execute_result"
    }
   ],
   "source": [
    "# 결측치 수치 확인 \n",
    "london_lists.isnull().sum()"
   ]
  },
  {
   "cell_type": "markdown",
   "metadata": {},
   "source": [
    "#### 결측치 확인"
   ]
  },
  {
   "cell_type": "code",
   "execution_count": 207,
   "metadata": {},
   "outputs": [
    {
     "name": "stdout",
     "output_type": "stream",
     "text": [
      "['욕실수', '침실수', '침대수']가 모두 null값인 데이터의 개수: 0개\n",
      "['욕실수', '침대수']가 모두 null값인 데이터의 개수: 1개\n",
      "['욕실수', '침실수']가 모두 null값인 데이터의 개수: 0개\n",
      "['침대수', '침실수']가 모두 null값인 데이터의 개수: 0개\n"
     ]
    }
   ],
   "source": [
    "# 욕실수, 침실수, 침대수가 공통적으로 Null값인 컬럼 확인 \n",
    "\n",
    "facility_null_list = [['욕실수', '침실수', '침대수'], ['욕실수', '침대수'], ['욕실수', '침실수'], ['침대수', '침실수']]\n",
    "\n",
    "for facility in facility_null_list:\n",
    "    condition_facilities_null = london_lists[facility].isnull().all(axis=1)\n",
    "    print(f'{facility}가 모두 null값인 데이터의 개수: {london_lists[condition_facilities_null].shape[0]}개')"
   ]
  },
  {
   "cell_type": "code",
   "execution_count": 208,
   "metadata": {},
   "outputs": [
    {
     "name": "stdout",
     "output_type": "stream",
     "text": [
      "욕실수, 침대수, 침실수의 null값 합계 : 107개\n",
      "전체 데이터 대비 숙소 시설 결측치 비율 : 0.25%\n"
     ]
    }
   ],
   "source": [
    "# 전체 데이터 대비 ('욕실수', '침실수', '침대수' 컬럼의 결측치 합 개수) 비율 확인 : 0.25%\n",
    "\n",
    "facilities = ['욕실수', '침실수', '침대수']\n",
    "\n",
    "sum_facilities_null = 0\n",
    "\n",
    "for f in facilities:\n",
    "    sum = london_lists[f].isnull().sum()\n",
    "    sum_facilities_null += sum\n",
    "    \n",
    "ratio_facilities_null = round(((sum_facilities_null - london_lists[[\"욕실수\", \"침대수\"]].isnull().all(axis=1).sum()) / london_lists.shape[0]) * 100, 2)\n",
    "print(f'욕실수, 침대수, 침실수의 null값 합계 : {(sum_facilities_null - london_lists[[\"욕실수\", \"침대수\"]].isnull().all(axis=1).sum())}개')\n",
    "print(f'전체 데이터 대비 숙소 시설 결측치 비율 : {ratio_facilities_null}%')"
   ]
  },
  {
   "cell_type": "markdown",
   "metadata": {},
   "source": [
    "#### 제거 가능 하지만 크롤링한 데이터 비교해보자 \n",
    "* 침대수, 침실수, 욕실수 데이터는 시간의 영향을 매우 적은 데이터 "
   ]
  },
  {
   "cell_type": "code",
   "execution_count": 209,
   "metadata": {},
   "outputs": [
    {
     "name": "stdout",
     "output_type": "stream",
     "text": [
      "(4000, 4)\n",
      "<class 'pandas.core.frame.DataFrame'>\n",
      "RangeIndex: 4000 entries, 0 to 3999\n",
      "Data columns (total 4 columns):\n",
      " #   Column  Non-Null Count  Dtype  \n",
      "---  ------  --------------  -----  \n",
      " 0   호스트_id  1000 non-null   float64\n",
      " 1   숙소_url  4000 non-null   object \n",
      " 2   etc     3208 non-null   object \n",
      " 3   숙소_id   3000 non-null   float64\n",
      "dtypes: float64(2), object(2)\n",
      "memory usage: 125.1+ KB\n",
      "None\n"
     ]
    }
   ],
   "source": [
    "fac1 = pd.read_csv('../../Data/침실_침대_욕실수/London_침실대욕_1.csv', encoding='cp949')\n",
    "fac2 = pd.read_csv('../../Data/침실_침대_욕실수/London_침실대욕_2.csv', encoding='cp949')\n",
    "fac3 = pd.read_csv('../../Data/침실_침대_욕실수/London_침실대욕_3.csv', encoding='cp949')\n",
    "fac4 = pd.read_csv('../../Data/침실_침대_욕실수/London_침실대욕_4.csv', encoding='cp949')\n",
    "\n",
    "crawl_fac_null = pd.concat([fac1, fac2, fac3, fac4], axis=0, ignore_index=True)\n",
    "print(crawl_fac_null.shape)\n",
    "print(crawl_fac_null.info())"
   ]
  },
  {
   "cell_type": "code",
   "execution_count": 210,
   "metadata": {},
   "outputs": [
    {
     "data": {
      "text/html": [
       "<div>\n",
       "<style scoped>\n",
       "    .dataframe tbody tr th:only-of-type {\n",
       "        vertical-align: middle;\n",
       "    }\n",
       "\n",
       "    .dataframe tbody tr th {\n",
       "        vertical-align: top;\n",
       "    }\n",
       "\n",
       "    .dataframe thead th {\n",
       "        text-align: right;\n",
       "    }\n",
       "</style>\n",
       "<table border=\"1\" class=\"dataframe\">\n",
       "  <thead>\n",
       "    <tr style=\"text-align: right;\">\n",
       "      <th></th>\n",
       "      <th>호스트_id</th>\n",
       "      <th>숙소_url</th>\n",
       "      <th>etc</th>\n",
       "      <th>숙소_id</th>\n",
       "    </tr>\n",
       "  </thead>\n",
       "  <tbody>\n",
       "    <tr>\n",
       "      <th>0</th>\n",
       "      <td>170702.0</td>\n",
       "      <td>https://www.airbnb.com/rooms/170702</td>\n",
       "      <td>침대 1개 · 공용 욕실</td>\n",
       "      <td>NaN</td>\n",
       "    </tr>\n",
       "    <tr>\n",
       "      <th>1</th>\n",
       "      <td>314985.0</td>\n",
       "      <td>https://www.airbnb.com/rooms/314985</td>\n",
       "      <td>침대 1개 · 욕실 없음</td>\n",
       "      <td>NaN</td>\n",
       "    </tr>\n",
       "    <tr>\n",
       "      <th>2</th>\n",
       "      <td>315658.0</td>\n",
       "      <td>https://www.airbnb.com/rooms/315658</td>\n",
       "      <td>더블 침대 1개 · 공용 욕실</td>\n",
       "      <td>NaN</td>\n",
       "    </tr>\n",
       "    <tr>\n",
       "      <th>3</th>\n",
       "      <td>39387.0</td>\n",
       "      <td>https://www.airbnb.com/rooms/39387</td>\n",
       "      <td>소파 베드 1개 · 공용 욕실</td>\n",
       "      <td>NaN</td>\n",
       "    </tr>\n",
       "    <tr>\n",
       "      <th>4</th>\n",
       "      <td>41509.0</td>\n",
       "      <td>https://www.airbnb.com/rooms/41509</td>\n",
       "      <td>침대 3개 · 공용 욕실</td>\n",
       "      <td>NaN</td>\n",
       "    </tr>\n",
       "    <tr>\n",
       "      <th>5</th>\n",
       "      <td>46992.0</td>\n",
       "      <td>https://www.airbnb.com/rooms/46992</td>\n",
       "      <td>퀸사이즈 침대 1개 · 침실에 딸린 전용 욕실</td>\n",
       "      <td>NaN</td>\n",
       "    </tr>\n",
       "    <tr>\n",
       "      <th>6</th>\n",
       "      <td>330044.0</td>\n",
       "      <td>https://www.airbnb.com/rooms/330044</td>\n",
       "      <td>퀸사이즈 침대 1개 · 전용 욕실</td>\n",
       "      <td>NaN</td>\n",
       "    </tr>\n",
       "    <tr>\n",
       "      <th>7</th>\n",
       "      <td>229684.0</td>\n",
       "      <td>https://www.airbnb.com/rooms/229684</td>\n",
       "      <td>침대 1개 · 공용 욕실</td>\n",
       "      <td>NaN</td>\n",
       "    </tr>\n",
       "    <tr>\n",
       "      <th>8</th>\n",
       "      <td>72913.0</td>\n",
       "      <td>https://www.airbnb.com/rooms/72913</td>\n",
       "      <td>더블 침대 1개 · 침실에 딸린 전용 욕실</td>\n",
       "      <td>NaN</td>\n",
       "    </tr>\n",
       "    <tr>\n",
       "      <th>9</th>\n",
       "      <td>341143.0</td>\n",
       "      <td>https://www.airbnb.com/rooms/341143</td>\n",
       "      <td>침대 1개 · 공용 욕실</td>\n",
       "      <td>NaN</td>\n",
       "    </tr>\n",
       "  </tbody>\n",
       "</table>\n",
       "</div>"
      ],
      "text/plain": [
       "     호스트_id                               숙소_url                        etc  \\\n",
       "0  170702.0  https://www.airbnb.com/rooms/170702              침대 1개 · 공용 욕실   \n",
       "1  314985.0  https://www.airbnb.com/rooms/314985              침대 1개 · 욕실 없음   \n",
       "2  315658.0  https://www.airbnb.com/rooms/315658           더블 침대 1개 · 공용 욕실   \n",
       "3   39387.0   https://www.airbnb.com/rooms/39387           소파 베드 1개 · 공용 욕실   \n",
       "4   41509.0   https://www.airbnb.com/rooms/41509              침대 3개 · 공용 욕실   \n",
       "5   46992.0   https://www.airbnb.com/rooms/46992  퀸사이즈 침대 1개 · 침실에 딸린 전용 욕실   \n",
       "6  330044.0  https://www.airbnb.com/rooms/330044         퀸사이즈 침대 1개 · 전용 욕실   \n",
       "7  229684.0  https://www.airbnb.com/rooms/229684              침대 1개 · 공용 욕실   \n",
       "8   72913.0   https://www.airbnb.com/rooms/72913    더블 침대 1개 · 침실에 딸린 전용 욕실   \n",
       "9  341143.0  https://www.airbnb.com/rooms/341143              침대 1개 · 공용 욕실   \n",
       "\n",
       "   숙소_id  \n",
       "0    NaN  \n",
       "1    NaN  \n",
       "2    NaN  \n",
       "3    NaN  \n",
       "4    NaN  \n",
       "5    NaN  \n",
       "6    NaN  \n",
       "7    NaN  \n",
       "8    NaN  \n",
       "9    NaN  "
      ]
     },
     "execution_count": 210,
     "metadata": {},
     "output_type": "execute_result"
    }
   ],
   "source": [
    "crawl_fac_null[:10]"
   ]
  },
  {
   "cell_type": "markdown",
   "metadata": {},
   "source": [
    "당장 사용하긴 어려울 듯. 일단 제거하고 추후에 다시 집어넣자"
   ]
  },
  {
   "cell_type": "markdown",
   "metadata": {},
   "source": [
    "#### 결측치 제거"
   ]
  },
  {
   "cell_type": "code",
   "execution_count": 211,
   "metadata": {},
   "outputs": [
    {
     "name": "stdout",
     "output_type": "stream",
     "text": [
      "삭제 전 전체 데이터 개수: 43462개\n",
      "삭제 할 슈퍼호스트 null값 데이터 개수: \n",
      "욕실수    21\n",
      "침실수    11\n",
      "침대수    76\n",
      "dtype: int64\n",
      "\n",
      "남아있는 욕실수, 침실수, 침대수 null값 데이터 개수:  \n",
      "욕실수    0\n",
      "침실수    0\n",
      "침대수    0\n",
      "dtype: int64\n",
      "Null값 제거 후 전체 데이터 개수: 43355개\n"
     ]
    }
   ],
   "source": [
    "# 결측치 제거 \n",
    "print(f'삭제 전 전체 데이터 개수: {london_lists.shape[0]}개')\n",
    "print(f\"\"\"삭제 할 슈퍼호스트 null값 데이터 개수: \n",
    "{london_lists[['욕실수', '침실수', '침대수']].isnull().sum()}\"\"\")\n",
    "london_lists = london_lists.dropna(subset=['욕실수', '침실수', '침대수'])\n",
    "print()\n",
    "\n",
    "# 제거 완료됐나 확인\n",
    "print(f\"\"\"남아있는 욕실수, 침실수, 침대수 null값 데이터 개수:  \n",
    "{london_lists[['욕실수', '침실수', '침대수']].isnull().sum()}\"\"\")\n",
    "print(f'Null값 제거 후 전체 데이터 개수: {london_lists.shape[0]}개')"
   ]
  },
  {
   "cell_type": "markdown",
   "metadata": {},
   "source": [
    "## 리뷰 점수 컬럼 결측치 처리 \n"
   ]
  },
  {
   "cell_type": "markdown",
   "metadata": {},
   "source": [
    "현재 데이터 전처리 현황 \n",
    "* 리뷰수가 0개인 컬럼 제거 \n",
    "* 가격이 Null값이 아닌 컬럼만 선택 \n",
    "* 슈퍼호스트가 Null값인 데이터 제거 \n",
    "* 욕실수 / 침실수 / 침대수 결측치 제거"
   ]
  },
  {
   "cell_type": "code",
   "execution_count": 213,
   "metadata": {},
   "outputs": [
    {
     "data": {
      "text/plain": [
       "숙소_id           0\n",
       "호스트_id          0\n",
       "슈퍼호스트           0\n",
       "숙소_지역           0\n",
       "숙소_유형           0\n",
       "수용_인원수          0\n",
       "욕실수             0\n",
       "침실수             0\n",
       "침대수             0\n",
       "편의시설            0\n",
       "숙소_가격           0\n",
       "리뷰수             0\n",
       "30일_리뷰수         0\n",
       "리뷰점수            0\n",
       "숙소_정확성_리뷰점수    16\n",
       "숙소_청결도_리뷰점수    17\n",
       "숙소_체크인_리뷰점수    17\n",
       "숙소_소통_리뷰점수     16\n",
       "숙소_위치_리뷰점수     17\n",
       "숙소_가격_리뷰점수     18\n",
       "평균_리뷰수          0\n",
       "dtype: int64"
      ]
     },
     "execution_count": 213,
     "metadata": {},
     "output_type": "execute_result"
    }
   ],
   "source": [
    "# 결측치 확인\n",
    "london_lists.isnull().sum()"
   ]
  },
  {
   "cell_type": "code",
   "execution_count": 222,
   "metadata": {},
   "outputs": [
    {
     "name": "stdout",
     "output_type": "stream",
     "text": [
      "각 기준별 리뷰점수가 모두 Null값인 데이터 개수: 15개\n",
      "\n",
      "전체 데이터 개수: 43355개\n",
      "각 기준별 리뷰점수가 모두 NULL값인 데이터의 비율: 0.03%\n",
      "NULL값 제거 후 전체 데이터 개수: 43340개\n"
     ]
    }
   ],
   "source": [
    "# 각 리뷰 점수 컬럼이 모두 NULL 값인 데이터 개수 확인 : 15개\n",
    "type_review_null_all = london_lists[['숙소_정확성_리뷰점수', '숙소_청결도_리뷰점수', '숙소_체크인_리뷰점수', '숙소_소통_리뷰점수', '숙소_위치_리뷰점수', '숙소_가격_리뷰점수']].isnull().all(axis=1)\n",
    "print(f'각 기준별 리뷰점수가 모두 Null값인 데이터 개수: {london_lists[type_review_null_all].shape[0]}개')\n",
    "print()\n",
    "\n",
    "# 데이터 비율 확인 : 0.03%\n",
    "print(f\"전체 데이터 개수: {london_lists.shape[0]}개\")\n",
    "print(f\"각 기준별 리뷰점수가 모두 NULL값인 데이터의 비율: {round((london_lists[type_review_null_all].shape[0] / london_lists.shape[0]) * 100, 2)}%\")\n",
    "print()\n",
    "\n",
    "# 모두 NULL값인 데이터 제거\n",
    "london_lists = london_lists[~type_review_null_all]\n",
    "print(f\"NULL값 제거 후 전체 데이터 개수: {london_lists.shape[0]}개\")"
   ]
  },
  {
   "cell_type": "code",
   "execution_count": 229,
   "metadata": {},
   "outputs": [
    {
     "name": "stdout",
     "output_type": "stream",
     "text": [
      "각 기준별 리뷰점수가 하나라도 Null값인 데이터 개수: 7개\n",
      "\n",
      "제거 전 전체 데이터 개수: 43340개\n",
      "각 기준별 리뷰점수 중 하나라도 NULL값인 데이터의 비율: 0.02%\n",
      "\n",
      "NULL값 제거 후 전체 데이터 개수: 43333개\n"
     ]
    }
   ],
   "source": [
    "# 각 리뷰 점수 컬럼별로 하나라도 NULL 값을 가지고 있는 데이터 개수 확인: 7개\n",
    "type_review_null_any = london_lists[['숙소_정확성_리뷰점수', '숙소_청결도_리뷰점수', '숙소_체크인_리뷰점수', '숙소_소통_리뷰점수', '숙소_위치_리뷰점수', '숙소_가격_리뷰점수']].isnull().any(axis=1)\n",
    "print(f'각 기준별 리뷰점수가 하나라도 Null값인 데이터 개수: {london_lists[type_review_null_any].shape[0]}개')\n",
    "print()\n",
    "\n",
    "# 데이터 비율 확인 : 0.02%\n",
    "print(f\"제거 전 전체 데이터 개수: {london_lists.shape[0]}개\")\n",
    "print(f\"각 기준별 리뷰점수 중 하나라도 NULL값인 데이터의 비율: {round((london_lists[type_review_null_any].shape[0] / london_lists.shape[0]) * 100, 2)}%\")\n",
    "print()\n",
    "\n",
    "# 하나라도 NULL값인 데이터 제거\n",
    "london_lists = london_lists[~type_review_null_any]\n",
    "print(f\"NULL값 제거 후 전체 데이터 개수: {london_lists.shape[0]}개\")"
   ]
  },
  {
   "cell_type": "markdown",
   "metadata": {},
   "source": [
    "## 결측치 처리 후 데이터 확인 "
   ]
  },
  {
   "cell_type": "markdown",
   "metadata": {},
   "source": [
    "현재 데이터 전처리 현황 \n",
    "* 리뷰수가 0개인 컬럼 제거 \n",
    "* 가격이 Null값이 아닌 컬럼만 선택 \n",
    "* 슈퍼호스트가 Null값인 데이터 제거 \n",
    "* 욕실수 / 침실수 / 침대수 결측치 제거\n",
    "* 각 리뷰 점수 컬럼 결측치 제거 "
   ]
  },
  {
   "cell_type": "code",
   "execution_count": 230,
   "metadata": {},
   "outputs": [
    {
     "name": "stdout",
     "output_type": "stream",
     "text": [
      "<class 'pandas.core.frame.DataFrame'>\n",
      "Int64Index: 43333 entries, 0 to 90735\n",
      "Data columns (total 21 columns):\n",
      " #   Column       Non-Null Count  Dtype  \n",
      "---  ------       --------------  -----  \n",
      " 0   숙소_id        43333 non-null  int64  \n",
      " 1   호스트_id       43333 non-null  int64  \n",
      " 2   슈퍼호스트        43333 non-null  object \n",
      " 3   숙소_지역        43333 non-null  object \n",
      " 4   숙소_유형        43333 non-null  object \n",
      " 5   수용_인원수       43333 non-null  int64  \n",
      " 6   욕실수          43333 non-null  float64\n",
      " 7   침실수          43333 non-null  float64\n",
      " 8   침대수          43333 non-null  float64\n",
      " 9   편의시설         43333 non-null  object \n",
      " 10  숙소_가격        43333 non-null  object \n",
      " 11  리뷰수          43333 non-null  int64  \n",
      " 12  30일_리뷰수      43333 non-null  int64  \n",
      " 13  리뷰점수         43333 non-null  float64\n",
      " 14  숙소_정확성_리뷰점수  43333 non-null  float64\n",
      " 15  숙소_청결도_리뷰점수  43333 non-null  float64\n",
      " 16  숙소_체크인_리뷰점수  43333 non-null  float64\n",
      " 17  숙소_소통_리뷰점수   43333 non-null  float64\n",
      " 18  숙소_위치_리뷰점수   43333 non-null  float64\n",
      " 19  숙소_가격_리뷰점수   43333 non-null  float64\n",
      " 20  평균_리뷰수       43333 non-null  float64\n",
      "dtypes: float64(11), int64(5), object(5)\n",
      "memory usage: 7.3+ MB\n"
     ]
    }
   ],
   "source": [
    "london_lists.info()"
   ]
  },
  {
   "cell_type": "code",
   "execution_count": 234,
   "metadata": {},
   "outputs": [
    {
     "data": {
      "text/plain": [
       "array([ 2,  1,  6,  4,  5,  3,  7,  8, 12,  9, 10, 13, 15, 11, 16, 14])"
      ]
     },
     "execution_count": 234,
     "metadata": {},
     "output_type": "execute_result"
    }
   ],
   "source": [
    "london_lists['수용_인원수'].unique()"
   ]
  },
  {
   "cell_type": "code",
   "execution_count": 233,
   "metadata": {},
   "outputs": [
    {
     "data": {
      "text/plain": [
       "1      4869\n",
       "2     16581\n",
       "3      3446\n",
       "4      9242\n",
       "5      2582\n",
       "6      3815\n",
       "7       782\n",
       "8      1120\n",
       "9       254\n",
       "10      329\n",
       "11       46\n",
       "12      114\n",
       "13       30\n",
       "14       36\n",
       "15       17\n",
       "16       70\n",
       "Name: 수용_인원수, dtype: int64"
      ]
     },
     "execution_count": 233,
     "metadata": {},
     "output_type": "execute_result"
    }
   ],
   "source": [
    "london_lists['수용_인원수'].value_counts().sort_index()"
   ]
  },
  {
   "cell_type": "markdown",
   "metadata": {},
   "source": [
    "수용 가능 인원수로도 숙소의 크기를 가늠할 수 있지 않을까?"
   ]
  },
  {
   "cell_type": "code",
   "execution_count": null,
   "metadata": {},
   "outputs": [],
   "source": []
  }
 ],
 "metadata": {
  "kernelspec": {
   "display_name": "base",
   "language": "python",
   "name": "python3"
  },
  "language_info": {
   "codemirror_mode": {
    "name": "ipython",
    "version": 3
   },
   "file_extension": ".py",
   "mimetype": "text/x-python",
   "name": "python",
   "nbconvert_exporter": "python",
   "pygments_lexer": "ipython3",
   "version": "3.9.13"
  }
 },
 "nbformat": 4,
 "nbformat_minor": 2
}
