{
 "cells": [
  {
   "cell_type": "code",
   "execution_count": 1,
   "metadata": {},
   "outputs": [],
   "source": [
    "# 기본 패키지 불러오기 \n",
    "\n",
    "import pandas as pd\n",
    "import numpy as np\n",
    "import matplotlib.pyplot as plt\n",
    "import plotly.express as px\n",
    "import seaborn as sns \n",
    "plt.style.use(\"seaborn\")\n",
    "sns.set(font_scale=1)\n",
    "sns.set_style(\"whitegrid\")\n",
    "\n",
    "# 그래프를 노트북 안에 그리기 위해 설정\n",
    "%matplotlib inline\n",
    "\n",
    "# 맥 OS 폰트 깨짐 방지 코드\n",
    "from matplotlib import rc\n",
    "import matplotlib as mpl \n",
    "import matplotlib.font_manager as fm \n",
    "\n",
    "rc('font', family='AppleGothic')\n",
    "plt.rcParams['axes.unicode_minus'] = False"
   ]
  },
  {
   "cell_type": "code",
   "execution_count": 2,
   "metadata": {},
   "outputs": [],
   "source": [
    "# # COLAB 폰트 깨짐 방지 코드\n",
    "# !sudo apt-get install -y fonts-nanum\n",
    "# !sudo fc-cache -fv\n",
    "# !rm ~/.cache/matplotlib -rf\n",
    "# # 설치후 런타임 재시작 필수 \n",
    "\n",
    "# # matplotlib에 나눔고딕 폰트 적용\n",
    "# import matplotlib.pyplot as plt\n",
    "# import matplotlib.font_manager as fm\n",
    "# # 기본 폰트 설정\n",
    "# plt.rc('font', family='NanumBarunGothic')\n",
    "# # 깨짐방지 테스트\n",
    "# plt.text(0.5, 0.5, '안녕하세요, 한글 폰트 테스트입니다!', ha='center', va='center', size=15)\n",
    "# plt.show()"
   ]
  },
  {
   "cell_type": "code",
   "execution_count": 7,
   "metadata": {},
   "outputs": [
    {
     "data": {
      "text/plain": [
       "(1618347, 6)"
      ]
     },
     "execution_count": 7,
     "metadata": {},
     "output_type": "execute_result"
    }
   ],
   "source": [
    "# 데이터 불러오기\n",
    "# london_lists_raw = pd.read_csv('../../../../../data_weekly/inside_airbnb/London/listings.csv')\n",
    "# london_lists_summary_raw = pd.read_csv('../../../../../data_weekly/inside_airbnb/London/listings_outline.csv')\n",
    "# london_neighbourhoods_raw = pd.read_csv('../../../../../data_weekly/inside_airbnb/London/neighbourhoods.csv')\n",
    "london_reviews_raw = pd.read_csv('../../../../../data_weekly/inside_airbnb/London/reviews.csv')\n",
    "# london_reviews_summary_raw = pd.read_csv('../../../../../data_weekly/inside_airbnb/London/reviews_outline.csv')\n",
    "\n",
    "# 분석할 df 별도 복사\n",
    "# london_lists = london_lists_raw.copy()\n",
    "london_reviews = london_reviews_raw.copy()\n",
    "\n",
    "\n",
    "# 컬럼이 표시되는 길이를 최대 너비로 설정 \n",
    "pd.set_option('display.max_colwidth', None)\n",
    "\n",
    "# 출력\n",
    "london_reviews.shape"
   ]
  },
  {
   "cell_type": "code",
   "execution_count": null,
   "metadata": {},
   "outputs": [],
   "source": []
  },
  {
   "cell_type": "code",
   "execution_count": null,
   "metadata": {},
   "outputs": [],
   "source": []
  }
 ],
 "metadata": {
  "kernelspec": {
   "display_name": "base",
   "language": "python",
   "name": "python3"
  },
  "language_info": {
   "codemirror_mode": {
    "name": "ipython",
    "version": 3
   },
   "file_extension": ".py",
   "mimetype": "text/x-python",
   "name": "python",
   "nbconvert_exporter": "python",
   "pygments_lexer": "ipython3",
   "version": "3.9.13"
  }
 },
 "nbformat": 4,
 "nbformat_minor": 2
}
