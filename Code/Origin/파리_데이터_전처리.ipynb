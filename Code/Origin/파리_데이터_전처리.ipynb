{
 "cells": [
  {
   "cell_type": "code",
   "execution_count": 4,
   "metadata": {},
   "outputs": [
    {
     "name": "stdout",
     "output_type": "stream",
     "text": [
      "처음 df : 84397\n",
      "슈퍼호스트 제거 : 84306\n",
      "리뷰수 제거 : 47841\n",
      "숙소_유형 제거 : 34280\n",
      "12개월_리뷰수 0개 제거 : 31052\n",
      "욕실수, 침실수, 침대수 제거 후 : 30997\n",
      "리뷰 결측치 제거 후 : 30997\n",
      "예약가능여부 : 30990\n"
     ]
    }
   ],
   "source": [
    "import numpy as np\n",
    "import pandas as pd\n",
    "import matplotlib.pyplot as plt\n",
    "import seaborn as sns\n",
    "import matplotlib as mpl\n",
    "from matplotlib import font_manager, rc\n",
    "%matplotlib inline\n",
    "from urllib.parse import urlparse, urlunparse, parse_qs, urlencode\n",
    "\n",
    "# URL에 쿼리 파라미터를 추가하는 함수\n",
    "def modify_url(url, params):\n",
    "    url_parts = list(urlparse(url))\n",
    "    query = dict(parse_qs(url_parts[4]))\n",
    "    query.update(params)\n",
    "    url_parts[4] = urlencode(query, doseq=True)\n",
    "    return urlunparse(url_parts)\n",
    "\n",
    "# 글꼴 경로 지정\n",
    "font_path = \"c:/Windows/Fonts/malgun.ttf\"  # 윈도우에 설치된 맑은 고딕 폰트 경로\n",
    "\n",
    "# 폰트 이름 얻어오기\n",
    "font_name = font_manager.FontProperties(fname=font_path).get_name()\n",
    "\n",
    "# matplotlib의 rc(run command) 기능을 이용하여 글꼴 설정\n",
    "mpl.rc('font', family=font_name)\n",
    "\n",
    "# 유니코드에서  음수 부호 설정\n",
    "mpl.rc('axes', unicode_minus=False)\n",
    "\n",
    "raw = pd.read_csv('../../../../datasets/paris_listings.csv')\n",
    "df = raw.copy()\n",
    "\n",
    "df = df[['id', 'host_id','host_is_superhost',\n",
    "        'host_total_listings_count','neighbourhood_cleansed','room_type','accommodates','bathrooms','bedrooms',\n",
    "        'beds','amenities','price','minimum_nights','maximum_nights','number_of_reviews', 'number_of_reviews_l30d', 'review_scores_rating', 'review_scores_accuracy', \n",
    "        'review_scores_cleanliness', 'review_scores_checkin', 'review_scores_communication', \n",
    "        'review_scores_location', 'review_scores_value', 'reviews_per_month','listing_url','property_type','number_of_reviews_ltm','has_availability']]\n",
    "\n",
    "df = df.rename(columns= {\n",
    "    'id': '숙소_id',\n",
    "    'host_id': '호스트_id',\n",
    "    'host_is_superhost': '슈퍼호스트',\n",
    "    'host_total_listings_count': '숙소_수',\n",
    "    'neighbourhood_cleansed': '숙소_지역',\n",
    "    'room_type': '숙소_유형',\n",
    "    'accommodates': '수용_인원수',\n",
    "    'bathrooms': '욕실수',\n",
    "    'bedrooms': '침실수',\n",
    "    'beds': '침대수',\n",
    "    'amenities': '편의시설',\n",
    "    'price': '숙소_가격',\n",
    "    'minimum_nights': '최소_숙박일',\n",
    "    'maximum_nights': '최대_숙박일',\n",
    "    'number_of_reviews': '리뷰수',\n",
    "    'number_of_reviews_l30d': '30일_리뷰수',\n",
    "    'review_scores_rating': '리뷰점수',\n",
    "    'review_scores_accuracy': '숙소_정확성_리뷰점수',\n",
    "    'review_scores_cleanliness': '숙소_청결도_리뷰점수',\n",
    "    'review_scores_checkin': '숙소_체크인_리뷰점수',\n",
    "    'review_scores_communication': '숙소_소통_리뷰점수',\n",
    "    'review_scores_location': '숙소_위치_리뷰점수',\n",
    "    'review_scores_value': '숙소_가격_리뷰점수',\n",
    "    'reviews_per_month': '평균_리뷰수',\n",
    "    'listing_url':'url',\n",
    "    'property_type':'숙소_특징',\n",
    "    'number_of_reviews_ltm':'12개월_리뷰수',\n",
    "    'has_availability':'예약가능여부'\n",
    "})\n",
    "\n",
    "\n",
    "# 슈퍼호스트, 리뷰수 결측치 제거\n",
    "print(f\"처음 df : {len(df)}\")\n",
    "df = df[~df['슈퍼호스트'].isnull()]\n",
    "print(f\"슈퍼호스트 제거 : {len(df)}\")\n",
    "df = df[df['리뷰수']>2]\n",
    "print(f\"리뷰수 제거 : {len(df)}\")\n",
    "\n",
    "# 숙소가격 null값 제거\n",
    "df= df[~df['숙소_가격'].isnull()]\n",
    "\n",
    "#가격 앞 통화기호 제거\n",
    "df['숙소_가격'] = df['숙소_가격'].replace('[\\$,]', '', regex=True).astype(float)\n",
    "\n",
    "# 유형 제거 \n",
    "df = df[(df['숙소_유형']=='Entire home/apt') | (df['숙소_유형']=='Private room')]\n",
    "print(f\"숙소_유형 제거 : {len(df)}\")\n",
    "\n",
    "# 12개월 리뷰수 0 개 제거\n",
    "df = df[df['12개월_리뷰수']!=0]\n",
    "print(f\"12개월_리뷰수 0개 제거 : {len(df)}\")\n",
    "\n",
    "# 욕실수, 침실수, 침대수 null값 제거\n",
    "df = df.dropna(subset=['욕실수', '침실수', '침대수'])\n",
    "print(f\"욕실수, 침실수, 침대수 제거 후 : {len(df)}\")\n",
    "\n",
    "# 리뷰  null값 제거\n",
    "df = df.dropna(subset=['숙소_정확성_리뷰점수','숙소_청결도_리뷰점수','숙소_체크인_리뷰점수','숙소_소통_리뷰점수','숙소_위치_리뷰점수','숙소_가격_리뷰점수'])\n",
    "print(f\"리뷰 결측치 제거 후 : {len(df)}\")\n",
    "\n",
    "\n",
    "# 예약 가능여부 f 버리기\n",
    "df = df.dropna(subset='예약가능여부')\n",
    "print(f\"예약가능여부 : {len(df)}\")\n",
    "\n",
    "\n",
    "# 파라미터 추가\n",
    "params = {'locale': 'en'}\n",
    "\n",
    "# 각 URL을 순회하면서 수정\n",
    "df['url'] = [modify_url(url, params) for url in df['url']]"
   ]
  },
  {
   "cell_type": "code",
   "execution_count": 5,
   "metadata": {},
   "outputs": [
    {
     "data": {
      "text/plain": [
       "숙소_id          0\n",
       "호스트_id         0\n",
       "슈퍼호스트          0\n",
       "숙소_수           0\n",
       "숙소_지역          0\n",
       "숙소_유형          0\n",
       "수용_인원수         0\n",
       "욕실수            0\n",
       "침실수            0\n",
       "침대수            0\n",
       "편의시설           0\n",
       "숙소_가격          0\n",
       "최소_숙박일         0\n",
       "최대_숙박일         0\n",
       "리뷰수            0\n",
       "30일_리뷰수        0\n",
       "리뷰점수           0\n",
       "숙소_정확성_리뷰점수    0\n",
       "숙소_청결도_리뷰점수    0\n",
       "숙소_체크인_리뷰점수    0\n",
       "숙소_소통_리뷰점수     0\n",
       "숙소_위치_리뷰점수     0\n",
       "숙소_가격_리뷰점수     0\n",
       "평균_리뷰수         0\n",
       "url            0\n",
       "숙소_특징          0\n",
       "12개월_리뷰수       0\n",
       "예약가능여부         0\n",
       "dtype: int64"
      ]
     },
     "execution_count": 5,
     "metadata": {},
     "output_type": "execute_result"
    }
   ],
   "source": [
    "df.isnull().sum()"
   ]
  },
  {
   "cell_type": "code",
   "execution_count": 6,
   "metadata": {},
   "outputs": [
    {
     "data": {
      "text/plain": [
       "1            https://www.airbnb.com/rooms/165409?locale=en\n",
       "2              https://www.airbnb.com/rooms/5396?locale=en\n",
       "3            https://www.airbnb.com/rooms/166370?locale=en\n",
       "6              https://www.airbnb.com/rooms/7397?locale=en\n",
       "8             https://www.airbnb.com/rooms/41106?locale=en\n",
       "                               ...                        \n",
       "82649    https://www.airbnb.com/rooms/11036966359795334...\n",
       "82975    https://www.airbnb.com/rooms/11044378998385191...\n",
       "83073    https://www.airbnb.com/rooms/11051693056705439...\n",
       "83158    https://www.airbnb.com/rooms/11059413594562853...\n",
       "83393    https://www.airbnb.com/rooms/11071489613274819...\n",
       "Name: url, Length: 30990, dtype: object"
      ]
     },
     "execution_count": 6,
     "metadata": {},
     "output_type": "execute_result"
    }
   ],
   "source": [
    "df['url']"
   ]
  },
  {
   "cell_type": "code",
   "execution_count": null,
   "metadata": {},
   "outputs": [],
   "source": []
  }
 ],
 "metadata": {
  "kernelspec": {
   "display_name": "Python 3",
   "language": "python",
   "name": "python3"
  },
  "language_info": {
   "codemirror_mode": {
    "name": "ipython",
    "version": 3
   },
   "file_extension": ".py",
   "mimetype": "text/x-python",
   "name": "python",
   "nbconvert_exporter": "python",
   "pygments_lexer": "ipython3",
   "version": "3.10.9"
  }
 },
 "nbformat": 4,
 "nbformat_minor": 2
}
